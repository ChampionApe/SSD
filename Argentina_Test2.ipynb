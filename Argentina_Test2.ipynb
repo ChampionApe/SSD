{
 "cells": [
  {
   "cell_type": "code",
   "execution_count": 1,
   "id": "184bec03-9b27-4fe0-b5e2-637ddda2d4f0",
   "metadata": {},
   "outputs": [],
   "source": [
    "%run stdPackages.ipynb"
   ]
  },
  {
   "cell_type": "markdown",
   "id": "ec43f69f-f726-441c-8039-3fcb5e0e8c49",
   "metadata": {
    "tags": []
   },
   "source": [
    "## 1. Data and settings"
   ]
  },
  {
   "cell_type": "code",
   "execution_count": 2,
   "id": "c38c6c5f-c410-4e47-9c4d-079e02327980",
   "metadata": {},
   "outputs": [],
   "source": [
    "t0date = 2010\n",
    "ngrid = 30\n",
    "ns0 = 25\n",
    "t_ss  = 5 # number of periods in steady state\n",
    "%run ArgentinaData.ipynb"
   ]
  },
  {
   "cell_type": "markdown",
   "id": "efd1fa3d-f640-4927-8185-2eba2ec4c2dd",
   "metadata": {},
   "source": [
    "### Test PEE solver:"
   ]
  },
  {
   "cell_type": "markdown",
   "id": "649dadad-bddb-4723-b509-e9ca25569238",
   "metadata": {},
   "source": [
    "Start calibrating to LOG case:"
   ]
  },
  {
   "cell_type": "code",
   "execution_count": 3,
   "id": "cffc6fdd-3765-467f-ae13-875af2169374",
   "metadata": {},
   "outputs": [],
   "source": [
    "cal_log = m.calibLOG()\n",
    "sol_log = m.LOG.FH()\n",
    "path_log = m.EE_FH_LOG_solve(sol_log)"
   ]
  },
  {
   "cell_type": "markdown",
   "id": "9a7736d5-7f07-496c-9d34-db66f33ea904",
   "metadata": {},
   "source": [
    "Broadcast log-solution to the CRRA model:"
   ]
  },
  {
   "cell_type": "code",
   "execution_count": 4,
   "id": "9ef6e594-3437-444a-98db-adfec89692eb",
   "metadata": {},
   "outputs": [],
   "source": [
    "m.PEE.interpInitialsFromLOG(sol_log, path_log)\n",
    "m.PEE.kwargs_t['x0_from_solp'] = False # Use x0 instead of solp when iterating over time"
   ]
  },
  {
   "cell_type": "markdown",
   "id": "4eb33395-b552-4351-8670-59b227e1d838",
   "metadata": {},
   "source": [
    "Adjust $\\rho$ and test solutions:"
   ]
  },
  {
   "cell_type": "code",
   "execution_count": 5,
   "id": "69c863d7-2a1d-4355-9847-aacd1d150dee",
   "metadata": {},
   "outputs": [],
   "source": [
    "ρ = 1.1\n",
    "m.db.update(m.adjPar('ρ',ρ))"
   ]
  },
  {
   "cell_type": "markdown",
   "id": "a5435a9a-df06-4006-bc48-717f796d4e52",
   "metadata": {},
   "source": [
    "### Test stuff"
   ]
  },
  {
   "cell_type": "markdown",
   "id": "ff300b25-d0f1-42fd-a48c-a2de342f6593",
   "metadata": {},
   "source": [
    "Test PEE solver loop, terminal state:"
   ]
  },
  {
   "cell_type": "code",
   "execution_count": 6,
   "id": "5549f143-18ee-4828-ba2d-472cb3d86469",
   "metadata": {},
   "outputs": [],
   "source": [
    "from argentina_policy import *\n",
    "self = m.PEE"
   ]
  },
  {
   "cell_type": "markdown",
   "id": "fd6ccc35-01a5-4291-ae30-51d45e7f0b7f",
   "metadata": {},
   "source": [
    "Solve with vector:"
   ]
  },
  {
   "cell_type": "code",
   "execution_count": 7,
   "id": "4072b7b9-b231-435a-9c04-0bc4dd1881ba",
   "metadata": {},
   "outputs": [],
   "source": [
    "sols = dict.fromkeys(self.db['t'])\n",
    "t = self.db['t'][-1]\n",
    "self.BG.t =t \n",
    "self.B.t =t \n",
    "sols[t] = self.solve(t = 'T', x0 = self.x0[t], style = 'Vector')"
   ]
  },
  {
   "cell_type": "markdown",
   "id": "fa5400c1-f9c3-436b-8aa8-dbfb041dfb99",
   "metadata": {},
   "source": [
    "Loop one period:"
   ]
  },
  {
   "cell_type": "code",
   "execution_count": 8,
   "id": "d621e3ed-b511-4bc7-beda-b33d5ffc4aef",
   "metadata": {},
   "outputs": [],
   "source": [
    "t = t-1\n",
    "self.BG.t = t\n",
    "self.B.t = t\n",
    "solp = sols[t+1]"
   ]
  },
  {
   "cell_type": "markdown",
   "id": "6446eca7-5d35-4b4d-927b-db3a072f18e6",
   "metadata": {},
   "source": [
    "Vector solve:"
   ]
  },
  {
   "cell_type": "code",
   "execution_count": 9,
   "id": "229d6722-9109-471a-9ad0-b6fcf49b2f11",
   "metadata": {},
   "outputs": [],
   "source": [
    "self.kwargsInterp['method'] = 'quintic'"
   ]
  },
  {
   "cell_type": "code",
   "execution_count": 10,
   "id": "87ad6114-e7e2-4161-aaa2-4bcc8886511d",
   "metadata": {},
   "outputs": [],
   "source": [
    "vec = self.solve(solp = solp, x0 = self.x0[t], style = 'Vector')"
   ]
  },
  {
   "cell_type": "markdown",
   "id": "47d19589-516e-4f7a-af08-945d05dde1e2",
   "metadata": {},
   "source": [
    "Loop \"scalar\" (technically, we loop over system with 3 variables/equations:"
   ]
  },
  {
   "cell_type": "code",
   "execution_count": 11,
   "id": "997ed14b-a36e-4bfb-a865-bfced36cdc63",
   "metadata": {},
   "outputs": [],
   "source": [
    "# sclr = self.solve(solp = solp, x0 = vec['x_unbounded'], style = 'ScalarLoop', method = 'hybr')"
   ]
  },
  {
   "cell_type": "markdown",
   "id": "fbc5a16b-a6b0-4373-b736-dd76d2d3cb25",
   "metadata": {},
   "source": [
    "Look into interpolation function around optimum.  Replace linear interpolator with something like pchip:"
   ]
  },
  {
   "cell_type": "code",
   "execution_count": 12,
   "id": "3fba9652-03aa-4073-9be4-8936cd53dcc4",
   "metadata": {},
   "outputs": [],
   "source": [
    "fp = {k: self.gridPolicy(solp[k]) for k in ('τ','Bi','B0', '∂ln(h)/∂τ', '∂ln(h)/∂ln(s[t-1])', 'dτ/ds[t-1]','dτ/d(s0/s)','dln(h)/dln(s[t-1])')} # dict interpolants\n",
    "sol = self.precomputations_t(solp)\n",
    "sol, fpv = self.funcOfτVector_t(vec['x_unbounded'], sol, fp)\n",
    "obj = self._objective_t(sol, fpv, self.BG)"
   ]
  },
  {
   "cell_type": "markdown",
   "id": "348cdd17-43c2-4e19-98d1-a4dae92ed04b",
   "metadata": {},
   "source": [
    "Zoom into index 10 for state $s_0$: When we vary $s_{t-1}$ here, how does interpolated values of $s_t$ and $s_t^0/s_t$ look like?\n",
    "* $s_t$ is gradually increasing from $0.003$ to $0.01$. These values are all well inside the bounds (and varies from 12-25).\n",
    "* $s_t^0/s_t$ is also smoothly increasing from $0.441$ to $0.4445$. This is all between the same two gridpoints (11,12).\n",
    "* It looks like the problem comes directly from the gridded approximation of gradients:"
   ]
  },
  {
   "cell_type": "code",
   "execution_count": 13,
   "id": "d14ccf3a-c3be-4961-a430-d44708406e85",
   "metadata": {},
   "outputs": [],
   "source": [
    "s = pd.Series(sol['s'], index = self.db['ss0Idx']).xs(10,level='s0Idx')\n",
    "s0 = pd.Series(sol['s0/s'], index = self.db['ss0Idx']).xs(10,level='s0Idx')"
   ]
  },
  {
   "cell_type": "code",
   "execution_count": 38,
   "id": "d94111d2-8131-412e-89bd-9cc90a143f18",
   "metadata": {},
   "outputs": [
    {
     "data": {
      "text/plain": [
       "array([11, 11, 11, 11, 11, 11, 11, 11, 11, 11, 11, 11, 11, 11, 11, 11, 11,\n",
       "       11, 11, 11, 11, 11, 11, 11, 11, 11, 11, 11, 11, 11])"
      ]
     },
     "execution_count": 38,
     "metadata": {},
     "output_type": "execute_result"
    }
   ],
   "source": [
    "np.searchsorted(self.db['s0Grid'], s0)"
   ]
  },
  {
   "cell_type": "markdown",
   "id": "1e6e2ed8-c0e0-4090-8620-2d17f557ee75",
   "metadata": {},
   "source": [
    "Now, look at how this affects fpv:"
   ]
  },
  {
   "cell_type": "code",
   "execution_count": 49,
   "id": "89c46fb5-cc9c-4535-b4db-1a1e6f717ff4",
   "metadata": {},
   "outputs": [
    {
     "data": {
      "image/png": "[encoded data removed]",
      "text/plain": [
       "<Figure size 400x300 with 1 Axes>"
      ]
     },
     "metadata": {},
     "output_type": "display_data"
    }
   ],
   "source": [
    "pd.Series(fpv['dτ/d(s0/s)'], index = self.db['ss0Idx']).xs(10,level='s0Idx').plot(figsize=(4,3));"
   ]
  },
  {
   "cell_type": "markdown",
   "id": "7000df8a-28b3-4174-b9f1-f033010fb3e5",
   "metadata": {},
   "source": [
    "Consider two specific nodes: (s, s0) = {[4, 10], [5,10]} "
   ]
  },
  {
   "cell_type": "markdown",
   "id": "67d5e92d-7be3-486b-83aa-a05d37b349a8",
   "metadata": {},
   "source": [
    "Look at solution:"
   ]
  },
  {
   "cell_type": "code",
   "execution_count": 16,
   "id": "0a2d4aea-dfa3-4011-bd60-c2491a7f0f64",
   "metadata": {},
   "outputs": [],
   "source": [
    "soli = vec"
   ]
  },
  {
   "cell_type": "code",
   "execution_count": 45,
   "id": "c93dc9fb-73fc-46a5-99e7-ac8d41060591",
   "metadata": {},
   "outputs": [
    {
     "data": {
      "text/plain": [
       "'dτ[t+1]/dτ'"
      ]
     },
     "execution_count": 45,
     "metadata": {},
     "output_type": "execute_result"
    }
   ],
   "source": [
    "k = list(soli.keys())[24]\n",
    "k"
   ]
  },
  {
   "cell_type": "code",
   "execution_count": 47,
   "id": "1851d458-28fa-440d-ab8e-e3a613aea2cb",
   "metadata": {},
   "outputs": [],
   "source": [
    "y = pd.Series(soli[k], index = m.db['ss0Idx'])\n",
    "s0plot = m.db['s0Idx'][[10]]\n",
    "splot  = m.db['sIdx'][[10]]"
   ]
  },
  {
   "cell_type": "markdown",
   "id": "0d71d3bc-5e6f-4d8c-9970-d9b8ae723003",
   "metadata": {},
   "source": [
    "Estimate this:"
   ]
  },
  {
   "cell_type": "code",
   "execution_count": 48,
   "id": "51aed376-a383-4ca9-8774-77aef8286f35",
   "metadata": {},
   "outputs": [
    {
     "data": {
      "image/png": "[encoded data removed]",
      "text/plain": [
       "<Figure size 1400x400 with 2 Axes>"
      ]
     },
     "metadata": {},
     "output_type": "display_data"
    }
   ],
   "source": [
    "fig, axes = plt.subplots(1, 2, figsize = (14,4))\n",
    "seaborn.lineplot(data = adj.rc_pd(y, s0plot).unstack('s0Idx'), linewidth = 3, ax = plt.subplot(1,2,1));\n",
    "seaborn.lineplot(data = adj.rc_pd(y, splot).unstack('sIdx'), linewidth = 3, ax = plt.subplot(1,2,2));"
   ]
  },
  {
   "cell_type": "markdown",
   "id": "f5542683-cb6a-4d2e-98bc-7606ab3e5b48",
   "metadata": {},
   "source": [
    "Test Chebyshev approximation:"
   ]
  },
  {
   "cell_type": "code",
   "execution_count": 51,
   "id": "76cd6d80-75bd-433a-8fd2-f1f6d953ecca",
   "metadata": {},
   "outputs": [],
   "source": [
    "ya = y.xs(10,level='s0Idx').values\n",
    "xa = self.db['sGrid']\n",
    "gxa = -1+2*(xa-xa[0])/(xa[-1]-xa[0])"
   ]
  },
  {
   "cell_type": "markdown",
   "id": "678e26cf-521b-4357-85bb-af6548c5f266",
   "metadata": {},
   "source": [
    "Check it out:"
   ]
  },
  {
   "cell_type": "code",
   "execution_count": 53,
   "id": "60229e4f-ef88-4be0-9350-a2103fb92311",
   "metadata": {},
   "outputs": [
    {
     "data": {
      "text/plain": [
       "array([-1.        , -0.99762188, -0.99048751, -0.97859691, -0.96195006,\n",
       "       -0.94054697, -0.91438763, -0.88347206, -0.84780024, -0.80737218,\n",
       "       -0.76218787, -0.71224732, -0.65755054, -0.5980975 , -0.53388823,\n",
       "       -0.46492271, -0.39120095, -0.31272295, -0.2294887 , -0.14149822,\n",
       "       -0.04875149,  0.04875149,  0.1510107 ,  0.25802616,  0.36979786,\n",
       "        0.4863258 ,  0.60760999,  0.73365042,  0.86444709,  1.        ])"
      ]
     },
     "execution_count": 53,
     "metadata": {},
     "output_type": "execute_result"
    }
   ],
   "source": [
    "gxa"
   ]
  }
 ],
 "metadata": {
  "kernelspec": {
   "display_name": "Python 3 (ipykernel)",
   "language": "python",
   "name": "python3"
  },
  "language_info": {
   "codemirror_mode": {
    "name": "ipython",
    "version": 3
   },
   "file_extension": ".py",
   "mimetype": "text/x-python",
   "name": "python",
   "nbconvert_exporter": "python",
   "pygments_lexer": "ipython3",
   "version": "3.12.4"
  }
 },
 "nbformat": 4,
 "nbformat_minor": 5
}
