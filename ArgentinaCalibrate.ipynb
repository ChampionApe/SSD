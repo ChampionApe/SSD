{
 "cells": [
  {
   "cell_type": "code",
   "execution_count": 1,
   "id": "0b0ac231-afcf-448d-b672-3a55fd6d701c",
   "metadata": {},
   "outputs": [],
   "source": [
    "%run stdPackages.ipynb"
   ]
  },
  {
   "cell_type": "markdown",
   "id": "2f689974-e13e-4fb6-9d51-e2d3a4ab0934",
   "metadata": {
    "tags": []
   },
   "source": [
    "# Social Security Design - Argentina"
   ]
  },
  {
   "cell_type": "markdown",
   "id": "28f240c5-ca2f-4960-b1ae-8bea53ee126e",
   "metadata": {
    "tags": []
   },
   "source": [
    "## 1. Data and settings"
   ]
  },
  {
   "cell_type": "code",
   "execution_count": 2,
   "id": "30608d03-ecf2-46ca-bcd1-f3d997501124",
   "metadata": {},
   "outputs": [],
   "source": [
    "t0date = 2010\n",
    "ngrid = 25\n",
    "ns0 = 50\n",
    "t_ss  = 5 # number of periods in steady state\n",
    "%run ArgentinaData.ipynb"
   ]
  },
  {
   "cell_type": "markdown",
   "id": "0e55a9c4-0b31-4ce3-af09-83f9acbd1466",
   "metadata": {
    "tags": []
   },
   "source": [
    "## 2. LOG model:"
   ]
  },
  {
   "cell_type": "code",
   "execution_count": 3,
   "id": "523a17e5-69f7-43cf-80a0-f7668e87a7dd",
   "metadata": {},
   "outputs": [],
   "source": [
    "m.db.update(m.adjPar('ρ',1))\n",
    "calsLOG = m.calibLOG()\n",
    "pathLOG, solsLOG = m.solvePEE()"
   ]
  },
  {
   "cell_type": "markdown",
   "id": "ba30baf8-6f53-4ad7-b478-51e0069803b7",
   "metadata": {
    "tags": []
   },
   "source": [
    "## 3. CRRA:"
   ]
  },
  {
   "cell_type": "code",
   "execution_count": null,
   "id": "1ec72217-07bf-4988-853f-d0ee2ae0a6eb",
   "metadata": {},
   "outputs": [],
   "source": [
    "warnings.simplefilter(action = \"ignore\", category = RuntimeWarning)"
   ]
  },
  {
   "cell_type": "markdown",
   "id": "971ea7a3-5a44-404f-890c-23036a0d6ace",
   "metadata": {},
   "source": [
    " Start by broadcasting LOG solution CRRA state space:"
   ]
  },
  {
   "cell_type": "code",
   "execution_count": null,
   "id": "2eba0646-5392-4b10-9a8d-91b8af841b86",
   "metadata": {},
   "outputs": [],
   "source": [
    "m.PEE.interpInitialsFromLOG(solsLOG, pathLOG)\n",
    "m.PEE.kwargs_t['x0_from_solp'] = False # Use x0 instead of solp when iterating over time\n",
    "m.PEE.kwargsMain = m.PEE.defaultKwargs"
   ]
  },
  {
   "cell_type": "markdown",
   "id": "4df638ef-9b03-484b-b07d-7cc40219085d",
   "metadata": {},
   "source": [
    "Iterate through grid:"
   ]
  },
  {
   "cell_type": "code",
   "execution_count": 6,
   "id": "59ab09ee-1fc0-4ab3-9e17-b9fc41fdaabc",
   "metadata": {},
   "outputs": [],
   "source": [
    "ρGrid = np.array([1.1, 1.2, 1.8])\n",
    "cals, paths, sols = auxFunctions.calibrateOnGrid(m, ρGrid, 'ρ')"
   ]
  },
  {
   "cell_type": "markdown",
   "id": "9d2d01f3-5bc8-463d-989f-733f80388e96",
   "metadata": {},
   "source": [
    "This loops through different parameter values for $\\rho$, calibrates the model, stores the dictionary of policy functions for each $t$, stores main calibration parameters, and the solution path. We start from the LOG model."
   ]
  },
  {
   "cell_type": "code",
   "execution_count": 2,
   "id": "b08a03e8-80a7-45d5-9bd5-6820537aacdb",
   "metadata": {},
   "outputs": [],
   "source": [
    "ρLower = np.round(np.linspace(0.75, 1, 21), 3) # we need more dense grid when we lower ρ \n",
    "ρUpper = np.round(np.linspace(1, 2, 11), 3)\n",
    "# ρgrid = np.array([1, 1.1])\n",
    "ρgrid = np.hstack([ρLower, ρUpper[1:]])\n",
    "sols = dict.fromkeys(ρgrid)\n",
    "cals = dict.fromkeys(ρgrid)\n",
    "paths = dict.fromkeys(ρgrid)"
   ]
  },
  {
   "cell_type": "markdown",
   "id": "5766b6c7-af90-42a8-94f4-365a28064fa4",
   "metadata": {},
   "source": [
    "## 2. LOG model"
   ]
  },
  {
   "cell_type": "markdown",
   "id": "6417dac2-a7b0-4c98-8f82-623b654a81f0",
   "metadata": {},
   "source": [
    "Calibrate, solve policy functions, identify PEE paths:"
   ]
  },
  {
   "cell_type": "code",
   "execution_count": 4,
   "id": "f1afc545-b56c-48ca-9cb8-7580a939c48a",
   "metadata": {},
   "outputs": [],
   "source": [
    "m.db.update(m.adjPar('ρ', 1))\n",
    "cals[1] = m.calibLOG()\n",
    "paths[1], sols[1] = m.solvePEE()"
   ]
  },
  {
   "cell_type": "markdown",
   "id": "d6e67696-4a36-4fb0-b9e8-49170b970301",
   "metadata": {},
   "source": [
    "## 3. CRRA model"
   ]
  },
  {
   "cell_type": "markdown",
   "id": "4b60c15d-767f-4204-bf2f-71168ac75890",
   "metadata": {},
   "source": [
    "To calibrate the CRRA model, we proceed as follows:\n",
    "1. Start from the log model and iterate over gradually larger $\\rho$-values. Reset to log and iterate the other direction.\n",
    "2. Use combinations that are solves to form approximation over $\\rho$ (for parameters + policy function solution). Retry all combinations with this updating scheme.\n",
    "3. Run step 2. until all combinations are solved or a max iteration is reached."
   ]
  },
  {
   "cell_type": "markdown",
   "id": "d6281c74-478c-46f9-87d9-3c33749dfd4f",
   "metadata": {},
   "source": [
    "### 3.1. Initial solution step"
   ]
  },
  {
   "cell_type": "markdown",
   "id": "9e051501-d96f-486b-a116-1c4e76087501",
   "metadata": {},
   "source": [
    "Ignore ```RunTimeWarning``` in the following:"
   ]
  },
  {
   "cell_type": "code",
   "execution_count": 5,
   "id": "b42d762c-ed87-4745-b915-7e29f3096388",
   "metadata": {},
   "outputs": [],
   "source": [
    "warnings.simplefilter(action = \"ignore\", category = RuntimeWarning)"
   ]
  },
  {
   "cell_type": "markdown",
   "id": "4e3efa38-c715-4e04-a7a2-7c181b5780ee",
   "metadata": {},
   "source": [
    " Start by broadcasting LOG solution CRRA state space:"
   ]
  },
  {
   "cell_type": "code",
   "execution_count": 6,
   "id": "943e0897-929f-4b0f-a2c7-73dfb8b1f31b",
   "metadata": {},
   "outputs": [],
   "source": [
    "m.PEE.interpInitialsFromLOG(sols[1], paths[1])\n",
    "m.PEE.kwargs_t['x0_from_solp'] = False # Use x0 instead of solp when iterating over time\n",
    "m.PEE.kwargsMain = m.PEE.defaultKwargs"
   ]
  },
  {
   "cell_type": "markdown",
   "id": "52a96347-241d-499c-ab53-93003fde9652",
   "metadata": {},
   "source": [
    "Loop through $\\rho$:"
   ]
  },
  {
   "cell_type": "code",
   "execution_count": 7,
   "id": "468d443a-cf8b-4eec-95f1-6c6620ce9b2d",
   "metadata": {},
   "outputs": [],
   "source": [
    "def simpleρIte(ρgrid):\n",
    "    for ρ in ρgrid:\n",
    "        try:\n",
    "            m.db.update(m.adjPar('ρ',ρ))\n",
    "            cals[ρ] = m.calibPEE()\n",
    "            paths[ρ], sols[ρ] = m.solvePEE()\n",
    "            # sols[ρ] = m.PEE.FH()\n",
    "            # paths[ρ] = m.EE_FH_CRRA_solve(sols[ρ])\n",
    "        except AssertionError:\n",
    "            cals[ρ] = \"\"\"Failed to calibrate\"\"\"\n",
    "        print(ρ)"
   ]
  },
  {
   "cell_type": "markdown",
   "id": "8f6c8463-7e5d-4680-b366-83511d67ee2e",
   "metadata": {},
   "source": [
    "Apply:"
   ]
  },
  {
   "cell_type": "code",
   "execution_count": 11,
   "id": "19df66fc-a6f1-41f7-b04f-d5f1c4c057b8",
   "metadata": {},
   "outputs": [],
   "source": [
    "simpleρIte(ρgrid[ρgrid>1]) # solve for ρ > 1\n",
    "m.calibUpdateParameters(cals[1]) # reset to log\n",
    "m.PEE.interpInitialsFromLOG(sols[1], paths[1]) # reset to log\n",
    "simpleρIte(ρgrid[ρgrid<1][::-1]) # solve for ρ < 1"
   ]
  },
  {
   "cell_type": "markdown",
   "id": "d4c27a7b-0fb3-4aea-8f29-842c88ead4e9",
   "metadata": {},
   "source": [
    "Retry using interpolant (with extrapolation) as initial values:"
   ]
  },
  {
   "cell_type": "code",
   "execution_count": 10,
   "id": "d35cf6c6-952f-419c-b2c8-182cf28c5e7d",
   "metadata": {},
   "outputs": [],
   "source": [
    "def ρApproxInitials(cals, sols):\n",
    "    # Approximation of calibration parameters:\n",
    "    fp = np.vstack([v for k,v in cals.items() if isinstance(v, np.ndarray)])\n",
    "    xp = np.array([k for k,v in cals.items() if isinstance(v, np.ndarray)])\n",
    "    x  = np.array([k for k,v in cals.items() if not isinstance(v, np.ndarray)])\n",
    "    cals2d =  scipy.interpolate.PchipInterpolator(xp, fp, extrapolate = True)(x)\n",
    "    cals_x0 = {x[i]: cals2d[i,:] for i in range(len(x))}\n",
    "    # Get approximation for initial values:\n",
    "    xp = xp[xp != 1]\n",
    "    sols_x0 = dict.fromkeys(x)\n",
    "    [sols_x0.__setitem__(xi, {}) for xi in x];\n",
    "    for t in m.db['txE']:\n",
    "        fp = np.vstack([sols[xi][t]['x_unbounded'] for xi in xp])\n",
    "        x0 = scipy.interpolate.PchipInterpolator(xp, fp, extrapolate = True)(x)\n",
    "        [sols_x0[x[i]].__setitem__(t, x0[i,:]) for i in range(len(x))];\n",
    "    t = m.db['t'][-1]\n",
    "    fp = np.vstack([sols[xi][t]['τ_unbounded'] for xi in xp])\n",
    "    x0 = scipy.interpolate.PchipInterpolator(xp, fp, extrapolate = True)(x)\n",
    "    [sols_x0[x[i]].__setitem__(t, x0[i,:]) for i in range(len(x))];\n",
    "    return x, cals_x0, sols_x0\n",
    "def ρIte(x, cals_x0, sols_x0):\n",
    "    for ρ in x:\n",
    "        try:\n",
    "            m.db.update(m.adjPar('ρ',ρ))\n",
    "            m.calibUpdateParameters(cals_x0[ρ])\n",
    "            m.PEE.x0 = sols_x0[ρ]\n",
    "            cals[ρ] = m.calibPEE()\n",
    "            sols[ρ] = m.PEE.FH()\n",
    "            paths[ρ] = m.EE_FH_PEE_solve(sols[ρ])\n",
    "        except AssertionError:\n",
    "            cals[ρ] = \"\"\"Failed to calibrate\"\"\"\n",
    "        print(ρ)"
   ]
  },
  {
   "cell_type": "markdown",
   "id": "18462cda-d86e-4a4a-b9e7-d91ea6510be1",
   "metadata": {},
   "source": [
    "Try to update and see if we get anywhere:"
   ]
  },
  {
   "cell_type": "code",
   "execution_count": 11,
   "id": "b7e7b117-e87f-4195-879f-e57a21a39840",
   "metadata": {},
   "outputs": [
    {
     "name": "stdout",
     "output_type": "stream",
     "text": [
      "0.75\n",
      "0.762\n",
      "0.775\n",
      "0.788\n",
      "0.8\n",
      "0.812\n",
      "0.825\n",
      "0.838\n",
      "0.85\n",
      "0.862\n",
      "0.875\n",
      "0.912\n"
     ]
    }
   ],
   "source": [
    "x, cals_x0, sols_x0 = ρApproxInitials(cals, sols)\n",
    "ρIte(x, cals_x0, sols_x0)"
   ]
  },
  {
   "cell_type": "markdown",
   "id": "863d563f-45bc-4f92-aa1e-4060aeabfbbb",
   "metadata": {},
   "source": [
    "For some reason, one of these seems to solve for the wrong policy in the baseline year:"
   ]
  },
  {
   "cell_type": "code",
   "execution_count": 13,
   "id": "8292be5b-8236-484c-9963-191716bcb4a9",
   "metadata": {},
   "outputs": [],
   "source": [
    "d = {k: v['τ'].xs(2)-0.142 for k,v in paths.items() if v is not None}\n",
    "d = {k:v for k,v in d.items() if abs(v)>1e-4}"
   ]
  },
  {
   "cell_type": "markdown",
   "id": "cb96887b-6f84-4808-a9d7-f7ec1955e65c",
   "metadata": {},
   "source": [
    "Remove these again:"
   ]
  },
  {
   "cell_type": "code",
   "execution_count": 14,
   "id": "8a888dc3-a9ab-46eb-95da-fc168fb743e1",
   "metadata": {},
   "outputs": [],
   "source": [
    "[cals.__setitem__(k, 'Failed to calibrate') for k in d];"
   ]
  },
  {
   "cell_type": "markdown",
   "id": "edf79379-43f7-49cb-b18d-d239e7f83b30",
   "metadata": {},
   "source": [
    "Now, try again:"
   ]
  },
  {
   "cell_type": "code",
   "execution_count": 16,
   "id": "b865757b-25e2-4c3c-940d-94e73cf955a9",
   "metadata": {},
   "outputs": [
    {
     "name": "stdout",
     "output_type": "stream",
     "text": [
      "0.75\n",
      "0.762\n",
      "0.775\n",
      "0.788\n",
      "0.8\n",
      "0.812\n",
      "0.825\n",
      "0.838\n"
     ]
    }
   ],
   "source": [
    "x, cals_x0, sols_x0 = ρApproxInitials(cals, sols)\n",
    "ρIte(x, cals_x0, sols_x0)"
   ]
  },
  {
   "cell_type": "markdown",
   "id": "b4990e5b-813b-4095-ae05-5fdc680951c4",
   "metadata": {},
   "source": [
    "Try again:"
   ]
  },
  {
   "cell_type": "code",
   "execution_count": 18,
   "id": "ac6eb32c-f810-43f6-afed-c0a2c9f84711",
   "metadata": {},
   "outputs": [],
   "source": [
    "d = {k: v['τ'].xs(2)-0.142 for k,v in paths.items() if v is not None}\n",
    "d = {k:v for k,v in d.items() if abs(v)>1e-4}\n",
    "[cals.__setitem__(k, 'Failed to calibrate') for k in d];"
   ]
  },
  {
   "cell_type": "markdown",
   "id": "1b08de4d-ab46-4719-bab7-b991d3ba5129",
   "metadata": {},
   "source": [
    "Try again:"
   ]
  },
  {
   "cell_type": "code",
   "execution_count": 19,
   "id": "1e81a787-56f4-4f0f-93ac-e47bdb44f381",
   "metadata": {},
   "outputs": [
    {
     "name": "stdout",
     "output_type": "stream",
     "text": [
      "0.75\n",
      "0.762\n",
      "0.775\n",
      "0.788\n",
      "0.8\n",
      "0.812\n",
      "0.825\n"
     ]
    }
   ],
   "source": [
    "x, cals_x0, sols_x0 = ρApproxInitials(cals, sols)\n",
    "ρIte(x, cals_x0, sols_x0)"
   ]
  },
  {
   "cell_type": "markdown",
   "id": "b1dd05ff-402b-40a4-b87d-591198a02ef0",
   "metadata": {},
   "source": [
    "AGAIN:"
   ]
  },
  {
   "cell_type": "code",
   "execution_count": 65,
   "id": "559953c1-7296-41c7-b752-84a3e635204b",
   "metadata": {},
   "outputs": [],
   "source": [
    "d = {k: v['τ'].xs(2)-0.142 for k,v in paths.items() if v is not None}\n",
    "d = {k:v for k,v in d.items() if abs(v)>1e-4}\n",
    "[cals.__setitem__(k, 'Failed to calibrate') for k in d];"
   ]
  },
  {
   "cell_type": "markdown",
   "id": "a919330c-681e-4fb3-9c42-7ac756246ed5",
   "metadata": {},
   "source": [
    "And again:"
   ]
  },
  {
   "cell_type": "code",
   "execution_count": 75,
   "id": "64df31f4-6ae8-4fec-9afb-d40878be2bda",
   "metadata": {},
   "outputs": [
    {
     "name": "stdout",
     "output_type": "stream",
     "text": [
      "0.75\n"
     ]
    }
   ],
   "source": [
    "x, cals_x0, sols_x0 = ρApproxInitials(cals, sols)\n",
    "ρIte(x, cals_x0, sols_x0)"
   ]
  },
  {
   "cell_type": "markdown",
   "id": "4ce1dad0-5420-4479-ab72-7e9b2a6d592d",
   "metadata": {},
   "source": [
    "Store this:"
   ]
  },
  {
   "cell_type": "code",
   "execution_count": 85,
   "id": "95ad6496-4e5c-4da5-8bab-7a81a9d4f8ca",
   "metadata": {},
   "outputs": [],
   "source": [
    "with open(os.path.join(d['data'], 'Argentina_cals'), \"wb\") as file:\n",
    "    pickle.dump(cals, file)\n",
    "with open(os.path.join(d['data'], 'Argentina_sols'), \"wb\") as file:\n",
    "    pickle.dump(sols, file)\n",
    "with open(os.path.join(d['data'], 'Argentina_paths'), \"wb\") as file:\n",
    "    pickle.dump(paths, file)"
   ]
  },
  {
   "cell_type": "markdown",
   "id": "c405629f-a33f-46d3-98e3-4b21816dd42f",
   "metadata": {},
   "source": [
    "## 4. Adjusting parameters to reflect pension reform"
   ]
  },
  {
   "cell_type": "markdown",
   "id": "b0842f9b-0a39-4d5c-a150-3892e22ce480",
   "metadata": {},
   "source": [
    "The unexpected changes arrive in 2010. The easiest way to introduce this is to initialize a new model that runs from 2010:"
   ]
  },
  {
   "cell_type": "code",
   "execution_count": 9,
   "id": "b7629002-ffb2-4fc2-afc1-6b691c698ed9",
   "metadata": {},
   "outputs": [],
   "source": [
    "t0 = 2\n",
    "plotDates = dates[t0:-2]\n",
    "m2010 = m.createCopyFromt0(t0) # create copy of model instance that slices time from t = 2"
   ]
  },
  {
   "cell_type": "markdown",
   "id": "9fb4bf07-60a7-4003-bb47-0683ab8dedf8",
   "metadata": {},
   "source": [
    "We note that $\\theta, \\epsilon$ varies across different calibrations. To start with, solve everything on a common grid of $\\epsilon$ values. To each iteration, add specific values (baseline + universal coverage + 1-theta):"
   ]
  },
  {
   "cell_type": "code",
   "execution_count": 10,
   "id": "aef7214f-8160-48ff-826c-cb6d38944278",
   "metadata": {},
   "outputs": [],
   "source": [
    "ϵgrid = np.round(np.linspace(.1, .2, 6), 3)\n",
    "simPols  = dict.fromkeys(zip(ρgrid, ϵgrid))\n",
    "simPaths = dict.fromkeys(zip(ρgrid, ϵgrid))\n",
    "ϵTargs = dict.fromkeys(ρgrid)"
   ]
  },
  {
   "cell_type": "markdown",
   "id": "43777f35-1e40-4661-a481-e112b1a55355",
   "metadata": {},
   "source": [
    "Start from LOG-solution again:"
   ]
  },
  {
   "cell_type": "code",
   "execution_count": 11,
   "id": "f23912a2-3c23-458b-87df-176e372607d0",
   "metadata": {},
   "outputs": [],
   "source": [
    "ρ = 1\n",
    "m2010.db.update(m2010.adjPar('ρ',ρ))\n",
    "m2010.calibUpdateParameters(cals[ρ])\n",
    "ϵTargs[ρ] = [m2010.db['eps'].xs(t0), m2010.getEps(coverageRate = 1), 1-m2010.db['θ'].xs(t0)]\n",
    "ϵgrid_ρ = np.insert(ϵgrid, np.searchsorted(ϵgrid, ϵTargs[ρ]), ϵTargs[ρ])\n",
    "for ϵ in ϵgrid_ρ:\n",
    "    m2010.db.update(m2010.adjPar('eps', ϵ)) # permanent changes in epsilon\n",
    "    simPols[(ρ,ϵ)]  = m2010.LOG.FH()\n",
    "    simPaths[(ρ,ϵ)] = m2010.EE_FH_LOG_solve(simPols[(ρ, ϵ)], z0 = [paths[ρ]['s[t-1]'][t0], paths[ρ]['s0/s[t-1]'][t0]])"
   ]
  },
  {
   "cell_type": "markdown",
   "id": "ae4b89dd-f441-4515-b982-030c9d05cdb4",
   "metadata": {},
   "source": [
    "Now, loop through different $\\rho$ values:"
   ]
  },
  {
   "cell_type": "code",
   "execution_count": 12,
   "id": "3df56af2-4ae2-47d8-a254-3ba8847e1f9e",
   "metadata": {},
   "outputs": [
    {
     "name": "stdout",
     "output_type": "stream",
     "text": [
      "(np.float64(1.1), np.float64(0.056767854214377036))\n",
      "(np.float64(1.1), np.float64(0.0810969345919672))\n",
      "(np.float64(1.1), np.float64(0.1))\n",
      "(np.float64(1.1), np.float64(0.12))\n",
      "(np.float64(1.1), np.float64(0.14))\n",
      "(np.float64(1.1), np.float64(0.16))\n",
      "(np.float64(1.1), np.float64(0.16093572527544364))\n",
      "(np.float64(1.1), np.float64(0.18))\n",
      "(np.float64(1.1), np.float64(0.2))\n",
      "(np.float64(1.2), np.float64(0.05585358326824887))\n",
      "(np.float64(1.2), np.float64(0.07979083324035553))\n",
      "(np.float64(1.2), np.float64(0.1))\n",
      "(np.float64(1.2), np.float64(0.12))\n",
      "(np.float64(1.2), np.float64(0.14))\n",
      "(np.float64(1.2), np.float64(0.16))\n",
      "(np.float64(1.2), np.float64(0.16093572527544364))\n",
      "(np.float64(1.2), np.float64(0.18))\n",
      "(np.float64(1.2), np.float64(0.2))\n",
      "(np.float64(1.3), np.float64(0.05509415693221862))\n",
      "(np.float64(1.3), np.float64(0.07870593847459803))\n",
      "(np.float64(1.3), np.float64(0.1))\n",
      "(np.float64(1.3), np.float64(0.12))\n",
      "(np.float64(1.3), np.float64(0.14))\n",
      "(np.float64(1.3), np.float64(0.16))\n",
      "(np.float64(1.3), np.float64(0.16093572527544364))\n",
      "(np.float64(1.3), np.float64(0.18))\n",
      "(np.float64(1.3), np.float64(0.2))\n",
      "(np.float64(1.4), np.float64(0.054453644678941045))\n",
      "(np.float64(1.4), np.float64(0.07779092096991579))\n",
      "(np.float64(1.4), np.float64(0.1))\n",
      "(np.float64(1.4), np.float64(0.12))\n",
      "(np.float64(1.4), np.float64(0.14))\n",
      "(np.float64(1.4), np.float64(0.16))\n",
      "(np.float64(1.4), np.float64(0.16093572527544364))\n",
      "(np.float64(1.4), np.float64(0.18))\n",
      "(np.float64(1.4), np.float64(0.2))\n",
      "(np.float64(1.5), np.float64(0.053906387836746714))\n",
      "(np.float64(1.5), np.float64(0.07700912548106674))\n",
      "(np.float64(1.5), np.float64(0.1))\n",
      "(np.float64(1.5), np.float64(0.12))\n",
      "(np.float64(1.5), np.float64(0.14))\n",
      "(np.float64(1.5), np.float64(0.16))\n",
      "(np.float64(1.5), np.float64(0.16093572527544364))\n",
      "(np.float64(1.5), np.float64(0.18))\n",
      "(np.float64(1.5), np.float64(0.2))\n",
      "(np.float64(1.6), np.float64(0.05343357488049892))\n",
      "(np.float64(1.6), np.float64(0.07633367840071274))\n",
      "(np.float64(1.6), np.float64(0.1))\n",
      "(np.float64(1.6), np.float64(0.12))\n",
      "(np.float64(1.6), np.float64(0.14))\n",
      "(np.float64(1.6), np.float64(0.16))\n",
      "(np.float64(1.6), np.float64(0.16093572527544364))\n",
      "(np.float64(1.6), np.float64(0.18))\n",
      "(np.float64(1.6), np.float64(0.2))\n",
      "(np.float64(1.7), np.float64(0.053021098670863395))\n",
      "(np.float64(1.7), np.float64(0.075744426672662))\n",
      "(np.float64(1.7), np.float64(0.1))\n",
      "(np.float64(1.7), np.float64(0.12))\n",
      "(np.float64(1.7), np.float64(0.14))\n",
      "(np.float64(1.7), np.float64(0.16))\n",
      "(np.float64(1.7), np.float64(0.16093572527544364))\n",
      "(np.float64(1.7), np.float64(0.18))\n",
      "(np.float64(1.7), np.float64(0.2))\n",
      "(np.float64(1.8), np.float64(0.05265824884086401))\n",
      "(np.float64(1.8), np.float64(0.07522606977266287))\n",
      "(np.float64(1.8), np.float64(0.1))\n",
      "(np.float64(1.8), np.float64(0.12))\n",
      "(np.float64(1.8), np.float64(0.14))\n",
      "(np.float64(1.8), np.float64(0.16))\n",
      "(np.float64(1.8), np.float64(0.16093572527544364))\n",
      "(np.float64(1.8), np.float64(0.18))\n",
      "(np.float64(1.8), np.float64(0.2))\n",
      "(np.float64(1.9), np.float64(0.05233667847520603))\n",
      "(np.float64(1.9), np.float64(0.07476668353600863))\n",
      "(np.float64(1.9), np.float64(0.1))\n",
      "(np.float64(1.9), np.float64(0.12))\n",
      "(np.float64(1.9), np.float64(0.14))\n",
      "(np.float64(1.9), np.float64(0.16))\n",
      "(np.float64(1.9), np.float64(0.16093572527544364))\n",
      "(np.float64(1.9), np.float64(0.18))\n",
      "(np.float64(1.9), np.float64(0.2))\n",
      "(np.float64(2.0), np.float64(0.05204983478949181))\n",
      "(np.float64(2.0), np.float64(0.07435690684213116))\n",
      "(np.float64(2.0), np.float64(0.1))\n",
      "(np.float64(2.0), np.float64(0.12))\n",
      "(np.float64(2.0), np.float64(0.14))\n",
      "(np.float64(2.0), np.float64(0.16))\n",
      "(np.float64(2.0), np.float64(0.16093572527544364))\n",
      "(np.float64(2.0), np.float64(0.18))\n",
      "(np.float64(2.0), np.float64(0.2))\n"
     ]
    }
   ],
   "source": [
    "for ρ in ρgrid[ρgrid>1]:\n",
    "    m2010.db.update(m2010.adjPar('ρ',ρ))\n",
    "    m2010.calibUpdateParameters(cals[ρ])\n",
    "    ϵTargs[ρ] = [m2010.db['eps'].xs(t0), m2010.getEps(coverageRate = 1), 1-m2010.db['θ'].xs(t0)]\n",
    "    ϵgrid_ρ = np.insert(ϵgrid, np.searchsorted(ϵgrid, ϵTargs[ρ]), ϵTargs[ρ])\n",
    "    m2010.PEE.x0 = {t: sols[ρ][t]['x_unbounded'] for t in m2010.db['t']}\n",
    "    m2010.PEE.x0[m2010.db['t'][-1]] = sols[ρ][m2010.db['t'][-1]]['τ_unbounded']\n",
    "    m2010.x0['EE_FH_PEE'] = np.hstack([adj.rc_pd(paths[ρ][k], m2010.db['t']).values for k in m2010.ns['EE_FH_PEE'].symbols])\n",
    "    for ϵ in ϵgrid_ρ[ϵgrid_ρ>=ϵTargs[ρ][0]]:\n",
    "        m2010.db.update(m2010.adjPar('eps',ϵ))\n",
    "        simPols[(ρ,ϵ)] = m2010.PEE.FH()\n",
    "        simPaths[(ρ,ϵ)] = m2010.EE_FH_PEE_solve(simPols[(ρ,ϵ)], z0 = [paths[ρ]['s[t-1]'][t0], paths[ρ]['s0/s[t-1]'][t0]])\n",
    "        print((ρ, ϵ))"
   ]
  },
  {
   "cell_type": "markdown",
   "id": "2e795676-3b28-473d-aa85-2bdbb0d58ff8",
   "metadata": {},
   "source": [
    "Now look at stuff for values lower than 1:"
   ]
  },
  {
   "cell_type": "code",
   "execution_count": 51,
   "id": "1a9d3696-da1e-493d-a2ec-4fcfaaa508e5",
   "metadata": {},
   "outputs": [],
   "source": [
    "ρ = 0.9\n",
    "m2010.db.update(m2010.adjPar('ρ',ρ))\n",
    "m2010.calibUpdateParameters(cals[ρ])\n",
    "ϵTargs[ρ] = [m2010.db['eps'].xs(t0), m2010.getEps(coverageRate = 1), 1-m2010.db['θ'].xs(t0)]\n",
    "ϵgrid_ρ = np.insert(ϵgrid, np.searchsorted(ϵgrid, ϵTargs[ρ]), ϵTargs[ρ])\n",
    "m2010.PEE.x0 = {t: sols[ρ][t]['x_unbounded'] for t in m2010.db['t']}\n",
    "m2010.PEE.x0[m2010.db['t'][-1]] = sols[ρ][m2010.db['t'][-1]]['τ_unbounded']\n",
    "m2010.x0['EE_FH_PEE'] = np.hstack([adj.rc_pd(paths[ρ][k], m2010.db['t']).values for k in m2010.ns['EE_FH_PEE'].symbols])"
   ]
  },
  {
   "cell_type": "code",
   "execution_count": 56,
   "id": "e01b0f55-e566-4783-950b-432c0a4685d3",
   "metadata": {},
   "outputs": [
    {
     "ename": "KeyboardInterrupt",
     "evalue": "",
     "output_type": "error",
     "traceback": [
      "\u001b[1;31m---------------------------------------------------------------------------\u001b[0m",
      "\u001b[1;31mKeyboardInterrupt\u001b[0m                         Traceback (most recent call last)",
      "Cell \u001b[1;32mIn[56], line 2\u001b[0m\n\u001b[0;32m      1\u001b[0m m2010\u001b[38;5;241m.\u001b[39mdb\u001b[38;5;241m.\u001b[39mupdate(m2010\u001b[38;5;241m.\u001b[39madjPar(\u001b[38;5;124m'\u001b[39m\u001b[38;5;124meps\u001b[39m\u001b[38;5;124m'\u001b[39m,\u001b[38;5;241m.07\u001b[39m))\n\u001b[1;32m----> 2\u001b[0m sols \u001b[38;5;241m=\u001b[39m m2010\u001b[38;5;241m.\u001b[39mPEE\u001b[38;5;241m.\u001b[39mFH()\n",
      "File \u001b[1;32m~\\Documents\\GitHub\\SSD\\py\\argentina_policy.py:234\u001b[0m, in \u001b[0;36mPEE.FH\u001b[1;34m(self, pars, update)\u001b[0m\n\u001b[0;32m    232\u001b[0m \u001b[38;5;28;01mfor\u001b[39;00m t \u001b[38;5;129;01min\u001b[39;00m \u001b[38;5;28mself\u001b[39m\u001b[38;5;241m.\u001b[39mdb[\u001b[38;5;124m'\u001b[39m\u001b[38;5;124mt\u001b[39m\u001b[38;5;124m'\u001b[39m][\u001b[38;5;241m-\u001b[39m\u001b[38;5;241m2\u001b[39m::\u001b[38;5;241m-\u001b[39m\u001b[38;5;241m1\u001b[39m]:\n\u001b[0;32m    233\u001b[0m \t\u001b[38;5;28mself\u001b[39m\u001b[38;5;241m.\u001b[39mBG\u001b[38;5;241m.\u001b[39mt \u001b[38;5;241m=\u001b[39m t\n\u001b[1;32m--> 234\u001b[0m \tsols[t] \u001b[38;5;241m=\u001b[39m \u001b[38;5;28mself\u001b[39m\u001b[38;5;241m.\u001b[39msolve(solp \u001b[38;5;241m=\u001b[39m sols[t\u001b[38;5;241m+\u001b[39m\u001b[38;5;241m1\u001b[39m], \u001b[38;5;241m*\u001b[39m\u001b[38;5;241m*\u001b[39m({\u001b[38;5;124m'\u001b[39m\u001b[38;5;124mx0\u001b[39m\u001b[38;5;124m'\u001b[39m: \u001b[38;5;28mself\u001b[39m\u001b[38;5;241m.\u001b[39mx0[t]} \u001b[38;5;241m|\u001b[39m kwargs[t]))\n\u001b[0;32m    235\u001b[0m \t\u001b[38;5;28;01mif\u001b[39;00m update:\n\u001b[0;32m    236\u001b[0m \t\t\u001b[38;5;28mself\u001b[39m\u001b[38;5;241m.\u001b[39mx0[t] \u001b[38;5;241m=\u001b[39m sols[t][\u001b[38;5;124m'\u001b[39m\u001b[38;5;124mx_unbounded\u001b[39m\u001b[38;5;124m'\u001b[39m]\n",
      "File \u001b[1;32m~\\Documents\\GitHub\\SSD\\py\\argentina_policy.py:261\u001b[0m, in \u001b[0;36mPEE.solve\u001b[1;34m(self, style, t, **kwargs)\u001b[0m\n\u001b[0;32m    260\u001b[0m \u001b[38;5;28;01mdef\u001b[39;00m \u001b[38;5;21msolve\u001b[39m(\u001b[38;5;28mself\u001b[39m, style \u001b[38;5;241m=\u001b[39m \u001b[38;5;124m'\u001b[39m\u001b[38;5;124mVector\u001b[39m\u001b[38;5;124m'\u001b[39m, t \u001b[38;5;241m=\u001b[39m \u001b[38;5;124m'\u001b[39m\u001b[38;5;124mt\u001b[39m\u001b[38;5;124m'\u001b[39m, \u001b[38;5;241m*\u001b[39m\u001b[38;5;241m*\u001b[39mkwargs):\n\u001b[1;32m--> 261\u001b[0m \t\u001b[38;5;28;01mreturn\u001b[39;00m \u001b[38;5;28mgetattr\u001b[39m(\u001b[38;5;28mself\u001b[39m, \u001b[38;5;124mf\u001b[39m\u001b[38;5;124m'\u001b[39m\u001b[38;5;124msolve\u001b[39m\u001b[38;5;132;01m{\u001b[39;00mstyle\u001b[38;5;132;01m}\u001b[39;00m\u001b[38;5;124m_\u001b[39m\u001b[38;5;132;01m{\u001b[39;00mt\u001b[38;5;132;01m}\u001b[39;00m\u001b[38;5;124m'\u001b[39m)(\u001b[38;5;241m*\u001b[39m\u001b[38;5;241m*\u001b[39mkwargs)\n",
      "File \u001b[1;32m~\\Documents\\GitHub\\SSD\\py\\argentina_policy.py:266\u001b[0m, in \u001b[0;36mPEE.solveVector_t\u001b[1;34m(self, solp, x0_from_solp, x0, **kwargs)\u001b[0m\n\u001b[0;32m    264\u001b[0m \u001b[38;5;250m\u001b[39m\u001b[38;5;124;03m\"\"\" Solve problem as a sequence of root-finding problems. \"\"\"\u001b[39;00m\n\u001b[0;32m    265\u001b[0m fp \u001b[38;5;241m=\u001b[39m {k: \u001b[38;5;28mself\u001b[39m\u001b[38;5;241m.\u001b[39mgridPolicy(solp[k]) \u001b[38;5;28;01mfor\u001b[39;00m k \u001b[38;5;129;01min\u001b[39;00m (\u001b[38;5;124m'\u001b[39m\u001b[38;5;124mτ\u001b[39m\u001b[38;5;124m'\u001b[39m,\u001b[38;5;124m'\u001b[39m\u001b[38;5;124mBi\u001b[39m\u001b[38;5;124m'\u001b[39m,\u001b[38;5;124m'\u001b[39m\u001b[38;5;124mB0\u001b[39m\u001b[38;5;124m'\u001b[39m, \u001b[38;5;124m'\u001b[39m\u001b[38;5;124m∂ln(h)/∂τ\u001b[39m\u001b[38;5;124m'\u001b[39m, \u001b[38;5;124m'\u001b[39m\u001b[38;5;124m∂ln(h)/∂ln(s[t-1])\u001b[39m\u001b[38;5;124m'\u001b[39m, \u001b[38;5;124m'\u001b[39m\u001b[38;5;124mdτ/ds[t-1]\u001b[39m\u001b[38;5;124m'\u001b[39m,\u001b[38;5;124m'\u001b[39m\u001b[38;5;124mdτ/d(s0/s)\u001b[39m\u001b[38;5;124m'\u001b[39m,\u001b[38;5;124m'\u001b[39m\u001b[38;5;124mdln(h)/dln(s[t-1])\u001b[39m\u001b[38;5;124m'\u001b[39m)} \u001b[38;5;66;03m# dict interpolants\u001b[39;00m\n\u001b[1;32m--> 266\u001b[0m x \u001b[38;5;241m=\u001b[39m optimize\u001b[38;5;241m.\u001b[39mroot(\u001b[38;5;28;01mlambda\u001b[39;00m x: \u001b[38;5;28mself\u001b[39m\u001b[38;5;241m.\u001b[39mobjective_t(x, fp), x0_solp(x0, solp[\u001b[38;5;124m'\u001b[39m\u001b[38;5;124mx_unbounded\u001b[39m\u001b[38;5;124m'\u001b[39m], x0_from_solp), \u001b[38;5;241m*\u001b[39m\u001b[38;5;241m*\u001b[39mkwargs)\n\u001b[0;32m    267\u001b[0m \u001b[38;5;28;01massert\u001b[39;00m x[\u001b[38;5;124m'\u001b[39m\u001b[38;5;124msuccess\u001b[39m\u001b[38;5;124m'\u001b[39m], \u001b[38;5;124mf\u001b[39m\u001b[38;5;124m\"\"\"\u001b[39m\u001b[38;5;124m Couldn\u001b[39m\u001b[38;5;124m'\u001b[39m\u001b[38;5;124mt identify policy function for year t=\u001b[39m\u001b[38;5;132;01m{\u001b[39;00m\u001b[38;5;28mself\u001b[39m\u001b[38;5;241m.\u001b[39mBG\u001b[38;5;241m.\u001b[39mt\u001b[38;5;132;01m}\u001b[39;00m\u001b[38;5;124m. Previous solution x = \u001b[39m\u001b[38;5;132;01m{\u001b[39;00msolp[\u001b[38;5;124m'\u001b[39m\u001b[38;5;124mx_unbounded\u001b[39m\u001b[38;5;124m'\u001b[39m]\u001b[38;5;132;01m}\u001b[39;00m\u001b[38;5;124m. \u001b[39m\u001b[38;5;124m\"\"\"\u001b[39m\n\u001b[0;32m    268\u001b[0m \u001b[38;5;28;01mreturn\u001b[39;00m \u001b[38;5;28mself\u001b[39m\u001b[38;5;241m.\u001b[39mreportVector_t(x[\u001b[38;5;124m'\u001b[39m\u001b[38;5;124mx\u001b[39m\u001b[38;5;124m'\u001b[39m], fp)\n",
      "File \u001b[1;32m~\\AppData\\Local\\anaconda3\\envs\\SSD\\Lib\\site-packages\\scipy\\optimize\\_root.py:256\u001b[0m, in \u001b[0;36mroot\u001b[1;34m(fun, x0, args, method, jac, tol, callback, options)\u001b[0m\n\u001b[0;32m    253\u001b[0m \u001b[38;5;28;01melif\u001b[39;00m meth \u001b[38;5;129;01min\u001b[39;00m (\u001b[38;5;124m'\u001b[39m\u001b[38;5;124mbroyden1\u001b[39m\u001b[38;5;124m'\u001b[39m, \u001b[38;5;124m'\u001b[39m\u001b[38;5;124mbroyden2\u001b[39m\u001b[38;5;124m'\u001b[39m, \u001b[38;5;124m'\u001b[39m\u001b[38;5;124manderson\u001b[39m\u001b[38;5;124m'\u001b[39m, \u001b[38;5;124m'\u001b[39m\u001b[38;5;124mlinearmixing\u001b[39m\u001b[38;5;124m'\u001b[39m,\n\u001b[0;32m    254\u001b[0m               \u001b[38;5;124m'\u001b[39m\u001b[38;5;124mdiagbroyden\u001b[39m\u001b[38;5;124m'\u001b[39m, \u001b[38;5;124m'\u001b[39m\u001b[38;5;124mexcitingmixing\u001b[39m\u001b[38;5;124m'\u001b[39m, \u001b[38;5;124m'\u001b[39m\u001b[38;5;124mkrylov\u001b[39m\u001b[38;5;124m'\u001b[39m):\n\u001b[0;32m    255\u001b[0m     _warn_jac_unused(jac, method)\n\u001b[1;32m--> 256\u001b[0m     sol \u001b[38;5;241m=\u001b[39m _root_nonlin_solve(_wrapped_fun, x0, args\u001b[38;5;241m=\u001b[39margs, jac\u001b[38;5;241m=\u001b[39mjac,\n\u001b[0;32m    257\u001b[0m                              _method\u001b[38;5;241m=\u001b[39mmeth, _callback\u001b[38;5;241m=\u001b[39mcallback,\n\u001b[0;32m    258\u001b[0m                              \u001b[38;5;241m*\u001b[39m\u001b[38;5;241m*\u001b[39moptions)\n\u001b[0;32m    259\u001b[0m \u001b[38;5;28;01melse\u001b[39;00m:\n\u001b[0;32m    260\u001b[0m     \u001b[38;5;28;01mraise\u001b[39;00m \u001b[38;5;167;01mValueError\u001b[39;00m(\u001b[38;5;124m'\u001b[39m\u001b[38;5;124mUnknown solver \u001b[39m\u001b[38;5;132;01m%s\u001b[39;00m\u001b[38;5;124m'\u001b[39m \u001b[38;5;241m%\u001b[39m method)\n",
      "File \u001b[1;32m~\\AppData\\Local\\anaconda3\\envs\\SSD\\Lib\\site-packages\\scipy\\optimize\\_root.py:365\u001b[0m, in \u001b[0;36m_root_nonlin_solve\u001b[1;34m(fun, x0, args, jac, _callback, _method, nit, disp, maxiter, ftol, fatol, xtol, xatol, tol_norm, line_search, jac_options, **unknown_options)\u001b[0m\n\u001b[0;32m    362\u001b[0m \u001b[38;5;28;01melse\u001b[39;00m:\n\u001b[0;32m    363\u001b[0m     f \u001b[38;5;241m=\u001b[39m fun\n\u001b[1;32m--> 365\u001b[0m x, info \u001b[38;5;241m=\u001b[39m nonlin\u001b[38;5;241m.\u001b[39mnonlin_solve(f, x0, jacobian\u001b[38;5;241m=\u001b[39mjacobian(\u001b[38;5;241m*\u001b[39m\u001b[38;5;241m*\u001b[39mjac_options),\n\u001b[0;32m    366\u001b[0m                               \u001b[38;5;28miter\u001b[39m\u001b[38;5;241m=\u001b[39mnit, verbose\u001b[38;5;241m=\u001b[39mverbose,\n\u001b[0;32m    367\u001b[0m                               maxiter\u001b[38;5;241m=\u001b[39mmaxiter, f_tol\u001b[38;5;241m=\u001b[39mf_tol,\n\u001b[0;32m    368\u001b[0m                               f_rtol\u001b[38;5;241m=\u001b[39mf_rtol, x_tol\u001b[38;5;241m=\u001b[39mx_tol,\n\u001b[0;32m    369\u001b[0m                               x_rtol\u001b[38;5;241m=\u001b[39mx_rtol, tol_norm\u001b[38;5;241m=\u001b[39mtol_norm,\n\u001b[0;32m    370\u001b[0m                               line_search\u001b[38;5;241m=\u001b[39mline_search,\n\u001b[0;32m    371\u001b[0m                               callback\u001b[38;5;241m=\u001b[39m_callback, full_output\u001b[38;5;241m=\u001b[39m\u001b[38;5;28;01mTrue\u001b[39;00m,\n\u001b[0;32m    372\u001b[0m                               raise_exception\u001b[38;5;241m=\u001b[39m\u001b[38;5;28;01mFalse\u001b[39;00m)\n\u001b[0;32m    373\u001b[0m sol \u001b[38;5;241m=\u001b[39m OptimizeResult(x\u001b[38;5;241m=\u001b[39mx, method\u001b[38;5;241m=\u001b[39m_method)\n\u001b[0;32m    374\u001b[0m sol\u001b[38;5;241m.\u001b[39mupdate(info)\n",
      "File \u001b[1;32m~\\AppData\\Local\\anaconda3\\envs\\SSD\\Lib\\site-packages\\scipy\\optimize\\_nonlin.py:211\u001b[0m, in \u001b[0;36mnonlin_solve\u001b[1;34m(F, x0, jacobian, iter, verbose, maxiter, f_tol, f_rtol, x_tol, x_rtol, tol_norm, line_search, callback, full_output, raise_exception)\u001b[0m\n\u001b[0;32m    209\u001b[0m \u001b[38;5;66;03m# The tolerance, as computed for scipy.sparse.linalg.* routines\u001b[39;00m\n\u001b[0;32m    210\u001b[0m tol \u001b[38;5;241m=\u001b[39m \u001b[38;5;28mmin\u001b[39m(eta, eta\u001b[38;5;241m*\u001b[39mFx_norm)\n\u001b[1;32m--> 211\u001b[0m dx \u001b[38;5;241m=\u001b[39m \u001b[38;5;241m-\u001b[39mjacobian\u001b[38;5;241m.\u001b[39msolve(Fx, tol\u001b[38;5;241m=\u001b[39mtol)\n\u001b[0;32m    213\u001b[0m \u001b[38;5;28;01mif\u001b[39;00m norm(dx) \u001b[38;5;241m==\u001b[39m \u001b[38;5;241m0\u001b[39m:\n\u001b[0;32m    214\u001b[0m     \u001b[38;5;28;01mraise\u001b[39;00m \u001b[38;5;167;01mValueError\u001b[39;00m(\u001b[38;5;124m\"\u001b[39m\u001b[38;5;124mJacobian inversion yielded zero vector. \u001b[39m\u001b[38;5;124m\"\u001b[39m\n\u001b[0;32m    215\u001b[0m                      \u001b[38;5;124m\"\u001b[39m\u001b[38;5;124mThis indicates a bug in the Jacobian \u001b[39m\u001b[38;5;124m\"\u001b[39m\n\u001b[0;32m    216\u001b[0m                      \u001b[38;5;124m\"\u001b[39m\u001b[38;5;124mapproximation.\u001b[39m\u001b[38;5;124m\"\u001b[39m)\n",
      "File \u001b[1;32m~\\AppData\\Local\\anaconda3\\envs\\SSD\\Lib\\site-packages\\scipy\\optimize\\_nonlin.py:1501\u001b[0m, in \u001b[0;36mKrylovJacobian.solve\u001b[1;34m(self, rhs, tol)\u001b[0m\n\u001b[0;32m   1499\u001b[0m     sol, info \u001b[38;5;241m=\u001b[39m \u001b[38;5;28mself\u001b[39m\u001b[38;5;241m.\u001b[39mmethod(\u001b[38;5;28mself\u001b[39m\u001b[38;5;241m.\u001b[39mop, rhs, \u001b[38;5;241m*\u001b[39m\u001b[38;5;241m*\u001b[39m\u001b[38;5;28mself\u001b[39m\u001b[38;5;241m.\u001b[39mmethod_kw)\n\u001b[0;32m   1500\u001b[0m \u001b[38;5;28;01melse\u001b[39;00m:\n\u001b[1;32m-> 1501\u001b[0m     sol, info \u001b[38;5;241m=\u001b[39m \u001b[38;5;28mself\u001b[39m\u001b[38;5;241m.\u001b[39mmethod(\u001b[38;5;28mself\u001b[39m\u001b[38;5;241m.\u001b[39mop, rhs, rtol\u001b[38;5;241m=\u001b[39mtol, \u001b[38;5;241m*\u001b[39m\u001b[38;5;241m*\u001b[39m\u001b[38;5;28mself\u001b[39m\u001b[38;5;241m.\u001b[39mmethod_kw)\n\u001b[0;32m   1502\u001b[0m \u001b[38;5;28;01mreturn\u001b[39;00m sol\n",
      "File \u001b[1;32m~\\AppData\\Local\\anaconda3\\envs\\SSD\\Lib\\site-packages\\scipy\\sparse\\linalg\\_isolve\\lgmres.py:180\u001b[0m, in \u001b[0;36mlgmres\u001b[1;34m(A, b, x0, rtol, atol, maxiter, M, callback, inner_m, outer_k, outer_v, store_outer_Av, prepend_outer_v)\u001b[0m\n\u001b[0;32m    177\u001b[0m ptol \u001b[38;5;241m=\u001b[39m \u001b[38;5;28mmin\u001b[39m(ptol_max_factor, \u001b[38;5;28mmax\u001b[39m(atol, rtol\u001b[38;5;241m*\u001b[39mb_norm)\u001b[38;5;241m/\u001b[39mr_norm)\n\u001b[0;32m    179\u001b[0m \u001b[38;5;28;01mtry\u001b[39;00m:\n\u001b[1;32m--> 180\u001b[0m     Q, R, B, vs, zs, y, pres \u001b[38;5;241m=\u001b[39m _fgmres(matvec,\n\u001b[0;32m    181\u001b[0m                                        v0,\n\u001b[0;32m    182\u001b[0m                                        inner_m,\n\u001b[0;32m    183\u001b[0m                                        lpsolve\u001b[38;5;241m=\u001b[39mpsolve,\n\u001b[0;32m    184\u001b[0m                                        atol\u001b[38;5;241m=\u001b[39mptol,\n\u001b[0;32m    185\u001b[0m                                        outer_v\u001b[38;5;241m=\u001b[39mouter_v,\n\u001b[0;32m    186\u001b[0m                                        prepend_outer_v\u001b[38;5;241m=\u001b[39mprepend_outer_v)\n\u001b[0;32m    187\u001b[0m     y \u001b[38;5;241m*\u001b[39m\u001b[38;5;241m=\u001b[39m inner_res_0\n\u001b[0;32m    188\u001b[0m     \u001b[38;5;28;01mif\u001b[39;00m \u001b[38;5;129;01mnot\u001b[39;00m np\u001b[38;5;241m.\u001b[39misfinite(y)\u001b[38;5;241m.\u001b[39mall():\n\u001b[0;32m    189\u001b[0m         \u001b[38;5;66;03m# Overflow etc. in computation. There's no way to\u001b[39;00m\n\u001b[0;32m    190\u001b[0m         \u001b[38;5;66;03m# recover from this, so we have to bail out.\u001b[39;00m\n",
      "File \u001b[1;32m~\\AppData\\Local\\anaconda3\\envs\\SSD\\Lib\\site-packages\\scipy\\sparse\\linalg\\_isolve\\_gcrotmk.py:106\u001b[0m, in \u001b[0;36m_fgmres\u001b[1;34m(matvec, v0, m, atol, lpsolve, rpsolve, cs, outer_v, prepend_outer_v)\u001b[0m\n\u001b[0;32m    103\u001b[0m     w \u001b[38;5;241m=\u001b[39m \u001b[38;5;28;01mNone\u001b[39;00m\n\u001b[0;32m    105\u001b[0m \u001b[38;5;28;01mif\u001b[39;00m w \u001b[38;5;129;01mis\u001b[39;00m \u001b[38;5;28;01mNone\u001b[39;00m:\n\u001b[1;32m--> 106\u001b[0m     w \u001b[38;5;241m=\u001b[39m lpsolve(matvec(z))\n\u001b[0;32m    107\u001b[0m \u001b[38;5;28;01melse\u001b[39;00m:\n\u001b[0;32m    108\u001b[0m     \u001b[38;5;66;03m# w is clobbered below\u001b[39;00m\n\u001b[0;32m    109\u001b[0m     w \u001b[38;5;241m=\u001b[39m w\u001b[38;5;241m.\u001b[39mcopy()\n",
      "File \u001b[1;32m~\\AppData\\Local\\anaconda3\\envs\\SSD\\Lib\\site-packages\\scipy\\sparse\\linalg\\_interface.py:236\u001b[0m, in \u001b[0;36mLinearOperator.matvec\u001b[1;34m(self, x)\u001b[0m\n\u001b[0;32m    233\u001b[0m \u001b[38;5;28;01mif\u001b[39;00m x\u001b[38;5;241m.\u001b[39mshape \u001b[38;5;241m!=\u001b[39m (N,) \u001b[38;5;129;01mand\u001b[39;00m x\u001b[38;5;241m.\u001b[39mshape \u001b[38;5;241m!=\u001b[39m (N,\u001b[38;5;241m1\u001b[39m):\n\u001b[0;32m    234\u001b[0m     \u001b[38;5;28;01mraise\u001b[39;00m \u001b[38;5;167;01mValueError\u001b[39;00m(\u001b[38;5;124m'\u001b[39m\u001b[38;5;124mdimension mismatch\u001b[39m\u001b[38;5;124m'\u001b[39m)\n\u001b[1;32m--> 236\u001b[0m y \u001b[38;5;241m=\u001b[39m \u001b[38;5;28mself\u001b[39m\u001b[38;5;241m.\u001b[39m_matvec(x)\n\u001b[0;32m    238\u001b[0m \u001b[38;5;28;01mif\u001b[39;00m \u001b[38;5;28misinstance\u001b[39m(x, np\u001b[38;5;241m.\u001b[39mmatrix):\n\u001b[0;32m    239\u001b[0m     y \u001b[38;5;241m=\u001b[39m asmatrix(y)\n",
      "File \u001b[1;32m~\\AppData\\Local\\anaconda3\\envs\\SSD\\Lib\\site-packages\\scipy\\sparse\\linalg\\_interface.py:593\u001b[0m, in \u001b[0;36m_CustomLinearOperator._matvec\u001b[1;34m(self, x)\u001b[0m\n\u001b[0;32m    592\u001b[0m \u001b[38;5;28;01mdef\u001b[39;00m \u001b[38;5;21m_matvec\u001b[39m(\u001b[38;5;28mself\u001b[39m, x):\n\u001b[1;32m--> 593\u001b[0m     \u001b[38;5;28;01mreturn\u001b[39;00m \u001b[38;5;28mself\u001b[39m\u001b[38;5;241m.\u001b[39m__matvec_impl(x)\n",
      "File \u001b[1;32m~\\AppData\\Local\\anaconda3\\envs\\SSD\\Lib\\site-packages\\scipy\\optimize\\_nonlin.py:1492\u001b[0m, in \u001b[0;36mKrylovJacobian.matvec\u001b[1;34m(self, v)\u001b[0m\n\u001b[0;32m   1490\u001b[0m     \u001b[38;5;28;01mreturn\u001b[39;00m \u001b[38;5;241m0\u001b[39m\u001b[38;5;241m*\u001b[39mv\n\u001b[0;32m   1491\u001b[0m sc \u001b[38;5;241m=\u001b[39m \u001b[38;5;28mself\u001b[39m\u001b[38;5;241m.\u001b[39momega \u001b[38;5;241m/\u001b[39m nv\n\u001b[1;32m-> 1492\u001b[0m r \u001b[38;5;241m=\u001b[39m (\u001b[38;5;28mself\u001b[39m\u001b[38;5;241m.\u001b[39mfunc(\u001b[38;5;28mself\u001b[39m\u001b[38;5;241m.\u001b[39mx0 \u001b[38;5;241m+\u001b[39m sc\u001b[38;5;241m*\u001b[39mv) \u001b[38;5;241m-\u001b[39m \u001b[38;5;28mself\u001b[39m\u001b[38;5;241m.\u001b[39mf0) \u001b[38;5;241m/\u001b[39m sc\n\u001b[0;32m   1493\u001b[0m \u001b[38;5;28;01mif\u001b[39;00m \u001b[38;5;129;01mnot\u001b[39;00m np\u001b[38;5;241m.\u001b[39mall(np\u001b[38;5;241m.\u001b[39misfinite(r)) \u001b[38;5;129;01mand\u001b[39;00m np\u001b[38;5;241m.\u001b[39mall(np\u001b[38;5;241m.\u001b[39misfinite(v)):\n\u001b[0;32m   1494\u001b[0m     \u001b[38;5;28;01mraise\u001b[39;00m \u001b[38;5;167;01mValueError\u001b[39;00m(\u001b[38;5;124m'\u001b[39m\u001b[38;5;124mFunction returned non-finite results\u001b[39m\u001b[38;5;124m'\u001b[39m)\n",
      "File \u001b[1;32m~\\AppData\\Local\\anaconda3\\envs\\SSD\\Lib\\site-packages\\scipy\\optimize\\_nonlin.py:174\u001b[0m, in \u001b[0;36mnonlin_solve.<locals>.func\u001b[1;34m(z)\u001b[0m\n\u001b[0;32m    173\u001b[0m \u001b[38;5;28;01mdef\u001b[39;00m \u001b[38;5;21mfunc\u001b[39m(z):\n\u001b[1;32m--> 174\u001b[0m     \u001b[38;5;28;01mreturn\u001b[39;00m _as_inexact(F(_array_like(z, x0)))\u001b[38;5;241m.\u001b[39mflatten()\n",
      "File \u001b[1;32m~\\AppData\\Local\\anaconda3\\envs\\SSD\\Lib\\site-packages\\scipy\\optimize\\_root.py:208\u001b[0m, in \u001b[0;36mroot.<locals>._wrapped_fun\u001b[1;34m(*fargs)\u001b[0m\n\u001b[0;32m    203\u001b[0m \u001b[38;5;250m\u001b[39m\u001b[38;5;124;03m\"\"\"\u001b[39;00m\n\u001b[0;32m    204\u001b[0m \u001b[38;5;124;03mWrapped `func` to track the number of times\u001b[39;00m\n\u001b[0;32m    205\u001b[0m \u001b[38;5;124;03mthe function has been called.\u001b[39;00m\n\u001b[0;32m    206\u001b[0m \u001b[38;5;124;03m\"\"\"\u001b[39;00m\n\u001b[0;32m    207\u001b[0m _wrapped_fun\u001b[38;5;241m.\u001b[39mnfev \u001b[38;5;241m+\u001b[39m\u001b[38;5;241m=\u001b[39m \u001b[38;5;241m1\u001b[39m\n\u001b[1;32m--> 208\u001b[0m \u001b[38;5;28;01mreturn\u001b[39;00m fun(\u001b[38;5;241m*\u001b[39mfargs)\n",
      "File \u001b[1;32m~\\Documents\\GitHub\\SSD\\py\\argentina_policy.py:266\u001b[0m, in \u001b[0;36mPEE.solveVector_t.<locals>.<lambda>\u001b[1;34m(x)\u001b[0m\n\u001b[0;32m    264\u001b[0m \u001b[38;5;250m\u001b[39m\u001b[38;5;124;03m\"\"\" Solve problem as a sequence of root-finding problems. \"\"\"\u001b[39;00m\n\u001b[0;32m    265\u001b[0m fp \u001b[38;5;241m=\u001b[39m {k: \u001b[38;5;28mself\u001b[39m\u001b[38;5;241m.\u001b[39mgridPolicy(solp[k]) \u001b[38;5;28;01mfor\u001b[39;00m k \u001b[38;5;129;01min\u001b[39;00m (\u001b[38;5;124m'\u001b[39m\u001b[38;5;124mτ\u001b[39m\u001b[38;5;124m'\u001b[39m,\u001b[38;5;124m'\u001b[39m\u001b[38;5;124mBi\u001b[39m\u001b[38;5;124m'\u001b[39m,\u001b[38;5;124m'\u001b[39m\u001b[38;5;124mB0\u001b[39m\u001b[38;5;124m'\u001b[39m, \u001b[38;5;124m'\u001b[39m\u001b[38;5;124m∂ln(h)/∂τ\u001b[39m\u001b[38;5;124m'\u001b[39m, \u001b[38;5;124m'\u001b[39m\u001b[38;5;124m∂ln(h)/∂ln(s[t-1])\u001b[39m\u001b[38;5;124m'\u001b[39m, \u001b[38;5;124m'\u001b[39m\u001b[38;5;124mdτ/ds[t-1]\u001b[39m\u001b[38;5;124m'\u001b[39m,\u001b[38;5;124m'\u001b[39m\u001b[38;5;124mdτ/d(s0/s)\u001b[39m\u001b[38;5;124m'\u001b[39m,\u001b[38;5;124m'\u001b[39m\u001b[38;5;124mdln(h)/dln(s[t-1])\u001b[39m\u001b[38;5;124m'\u001b[39m)} \u001b[38;5;66;03m# dict interpolants\u001b[39;00m\n\u001b[1;32m--> 266\u001b[0m x \u001b[38;5;241m=\u001b[39m optimize\u001b[38;5;241m.\u001b[39mroot(\u001b[38;5;28;01mlambda\u001b[39;00m x: \u001b[38;5;28mself\u001b[39m\u001b[38;5;241m.\u001b[39mobjective_t(x, fp), x0_solp(x0, solp[\u001b[38;5;124m'\u001b[39m\u001b[38;5;124mx_unbounded\u001b[39m\u001b[38;5;124m'\u001b[39m], x0_from_solp), \u001b[38;5;241m*\u001b[39m\u001b[38;5;241m*\u001b[39mkwargs)\n\u001b[0;32m    267\u001b[0m \u001b[38;5;28;01massert\u001b[39;00m x[\u001b[38;5;124m'\u001b[39m\u001b[38;5;124msuccess\u001b[39m\u001b[38;5;124m'\u001b[39m], \u001b[38;5;124mf\u001b[39m\u001b[38;5;124m\"\"\"\u001b[39m\u001b[38;5;124m Couldn\u001b[39m\u001b[38;5;124m'\u001b[39m\u001b[38;5;124mt identify policy function for year t=\u001b[39m\u001b[38;5;132;01m{\u001b[39;00m\u001b[38;5;28mself\u001b[39m\u001b[38;5;241m.\u001b[39mBG\u001b[38;5;241m.\u001b[39mt\u001b[38;5;132;01m}\u001b[39;00m\u001b[38;5;124m. Previous solution x = \u001b[39m\u001b[38;5;132;01m{\u001b[39;00msolp[\u001b[38;5;124m'\u001b[39m\u001b[38;5;124mx_unbounded\u001b[39m\u001b[38;5;124m'\u001b[39m]\u001b[38;5;132;01m}\u001b[39;00m\u001b[38;5;124m. \u001b[39m\u001b[38;5;124m\"\"\"\u001b[39m\n\u001b[0;32m    268\u001b[0m \u001b[38;5;28;01mreturn\u001b[39;00m \u001b[38;5;28mself\u001b[39m\u001b[38;5;241m.\u001b[39mreportVector_t(x[\u001b[38;5;124m'\u001b[39m\u001b[38;5;124mx\u001b[39m\u001b[38;5;124m'\u001b[39m], fp)\n",
      "File \u001b[1;32m~\\Documents\\GitHub\\SSD\\py\\argentina_policy.py:272\u001b[0m, in \u001b[0;36mPEE.objective_t\u001b[1;34m(self, x, fp)\u001b[0m\n\u001b[0;32m    270\u001b[0m \u001b[38;5;28;01mdef\u001b[39;00m \u001b[38;5;21mobjective_t\u001b[39m(\u001b[38;5;28mself\u001b[39m, x, fp):\n\u001b[0;32m    271\u001b[0m \tsol, solp \u001b[38;5;241m=\u001b[39m \u001b[38;5;28mself\u001b[39m\u001b[38;5;241m.\u001b[39mfuncOfτ_t(x ,fp)\n\u001b[1;32m--> 272\u001b[0m \tPEEobj \u001b[38;5;241m=\u001b[39m \u001b[38;5;28mself\u001b[39m\u001b[38;5;241m.\u001b[39mBG\u001b[38;5;241m.\u001b[39mPEE_t(τBound \u001b[38;5;241m=\u001b[39m sol[\u001b[38;5;124m'\u001b[39m\u001b[38;5;124mτ\u001b[39m\u001b[38;5;124m'\u001b[39m], τ  \u001b[38;5;241m=\u001b[39m sol[\u001b[38;5;124m'\u001b[39m\u001b[38;5;124mτ_unbounded\u001b[39m\u001b[38;5;124m'\u001b[39m], τp \u001b[38;5;241m=\u001b[39m solp[\u001b[38;5;124m'\u001b[39m\u001b[38;5;124mτ\u001b[39m\u001b[38;5;124m'\u001b[39m], s_ \u001b[38;5;241m=\u001b[39m sol[\u001b[38;5;124m'\u001b[39m\u001b[38;5;124ms[t-1]\u001b[39m\u001b[38;5;124m'\u001b[39m], h \u001b[38;5;241m=\u001b[39m sol[\u001b[38;5;124m'\u001b[39m\u001b[38;5;124mh\u001b[39m\u001b[38;5;124m'\u001b[39m], Γs \u001b[38;5;241m=\u001b[39m solp[\u001b[38;5;124m'\u001b[39m\u001b[38;5;124mΓs\u001b[39m\u001b[38;5;124m'\u001b[39m], Bip \u001b[38;5;241m=\u001b[39m solp[\u001b[38;5;124m'\u001b[39m\u001b[38;5;124mBi\u001b[39m\u001b[38;5;124m'\u001b[39m], B0p \u001b[38;5;241m=\u001b[39m solp[\u001b[38;5;124m'\u001b[39m\u001b[38;5;124mB0\u001b[39m\u001b[38;5;124m'\u001b[39m], si_s \u001b[38;5;241m=\u001b[39m sol[\u001b[38;5;124m'\u001b[39m\u001b[38;5;124msi/s\u001b[39m\u001b[38;5;124m'\u001b[39m], s0_s \u001b[38;5;241m=\u001b[39m sol[\u001b[38;5;124m'\u001b[39m\u001b[38;5;124ms0/s[t-1]\u001b[39m\u001b[38;5;124m'\u001b[39m], Θs \u001b[38;5;241m=\u001b[39m sol[\u001b[38;5;124m'\u001b[39m\u001b[38;5;124mΘs\u001b[39m\u001b[38;5;124m'\u001b[39m],\n\u001b[0;32m    273\u001b[0m \t\t\t\t\tdlnh_Dτ \u001b[38;5;241m=\u001b[39m sol[\u001b[38;5;124m'\u001b[39m\u001b[38;5;124mdln(h)/dτ\u001b[39m\u001b[38;5;124m'\u001b[39m], dlns_Dτ \u001b[38;5;241m=\u001b[39m sol[\u001b[38;5;124m'\u001b[39m\u001b[38;5;124mdln(s)/dτ\u001b[39m\u001b[38;5;124m'\u001b[39m], dlnΓs_Dτ \u001b[38;5;241m=\u001b[39m sol[\u001b[38;5;124m'\u001b[39m\u001b[38;5;124mdln(Γs)/dτ\u001b[39m\u001b[38;5;124m'\u001b[39m], dlnhp_Dlns \u001b[38;5;241m=\u001b[39m solp[\u001b[38;5;124m'\u001b[39m\u001b[38;5;124mdln(h)/dln(s[t-1])\u001b[39m\u001b[38;5;124m'\u001b[39m], dτp_dτ \u001b[38;5;241m=\u001b[39m sol[\u001b[38;5;124m'\u001b[39m\u001b[38;5;124mdτ[t+1]/dτ\u001b[39m\u001b[38;5;124m'\u001b[39m])\n\u001b[0;32m    274\u001b[0m \t\u001b[38;5;28;01mreturn\u001b[39;00m np\u001b[38;5;241m.\u001b[39mhstack([PEEobj, \n\u001b[0;32m    275\u001b[0m \t\t\t\t\tsol[\u001b[38;5;124m'\u001b[39m\u001b[38;5;124ms\u001b[39m\u001b[38;5;124m'\u001b[39m]\u001b[38;5;241m-\u001b[39m\u001b[38;5;28mself\u001b[39m\u001b[38;5;241m.\u001b[39mBG\u001b[38;5;241m.\u001b[39ms_t(h\u001b[38;5;241m=\u001b[39msol[\u001b[38;5;124m'\u001b[39m\u001b[38;5;124mh\u001b[39m\u001b[38;5;124m'\u001b[39m], Γs \u001b[38;5;241m=\u001b[39m sol[\u001b[38;5;124m'\u001b[39m\u001b[38;5;124mΓs\u001b[39m\u001b[38;5;124m'\u001b[39m]),\n\u001b[0;32m    276\u001b[0m \t\t\t\t\tsol[\u001b[38;5;124m'\u001b[39m\u001b[38;5;124ms0/s\u001b[39m\u001b[38;5;124m'\u001b[39m]\u001b[38;5;241m-\u001b[39m\u001b[38;5;28mself\u001b[39m\u001b[38;5;241m.\u001b[39mBG\u001b[38;5;241m.\u001b[39ms0_s(B0 \u001b[38;5;241m=\u001b[39m solp[\u001b[38;5;124m'\u001b[39m\u001b[38;5;124mB0\u001b[39m\u001b[38;5;124m'\u001b[39m], Θs \u001b[38;5;241m=\u001b[39m sol[\u001b[38;5;124m'\u001b[39m\u001b[38;5;124mΘs\u001b[39m\u001b[38;5;124m'\u001b[39m], τp \u001b[38;5;241m=\u001b[39m solp[\u001b[38;5;124m'\u001b[39m\u001b[38;5;124mτ\u001b[39m\u001b[38;5;124m'\u001b[39m])])\n",
      "File \u001b[1;32m~\\Documents\\GitHub\\SSD\\py\\argentina_base.py:252\u001b[0m, in \u001b[0;36mBaseScalar.PEE_t\u001b[1;34m(self, τBound, τ, τp, s_, h, Γs, Bip, B0p, si_s, s0_s, Θs, dlnh_Dτ, dlns_Dτ, dlnΓs_Dτ, dlnhp_Dlns, dτp_dτ, t)\u001b[0m\n\u001b[0;32m    250\u001b[0m v2i \u001b[38;5;241m=\u001b[39m \u001b[38;5;28mself\u001b[39m\u001b[38;5;241m.\u001b[39mPEE2i(τ \u001b[38;5;241m=\u001b[39m τBound, s_ \u001b[38;5;241m=\u001b[39m s_, h \u001b[38;5;241m=\u001b[39m h, dlnh_Dτ \u001b[38;5;241m=\u001b[39m dlnh_Dτ, si_s \u001b[38;5;241m=\u001b[39m si_s, t \u001b[38;5;241m=\u001b[39m t)\n\u001b[0;32m    251\u001b[0m v20 \u001b[38;5;241m=\u001b[39m \u001b[38;5;28mself\u001b[39m\u001b[38;5;241m.\u001b[39mPEE20(τ \u001b[38;5;241m=\u001b[39m τBound, s_ \u001b[38;5;241m=\u001b[39m s_, h \u001b[38;5;241m=\u001b[39m h, dlnh_Dτ \u001b[38;5;241m=\u001b[39m dlnh_Dτ, s0_s \u001b[38;5;241m=\u001b[39m s0_s, t \u001b[38;5;241m=\u001b[39m t)\n\u001b[1;32m--> 252\u001b[0m \u001b[38;5;28;01mreturn\u001b[39;00m \u001b[38;5;28mself\u001b[39m\u001b[38;5;241m.\u001b[39maux_PEE(v1i \u001b[38;5;241m=\u001b[39m v1i, v10 \u001b[38;5;241m=\u001b[39m v10, v2i \u001b[38;5;241m=\u001b[39m v2i, v20 \u001b[38;5;241m=\u001b[39m v20, τ \u001b[38;5;241m=\u001b[39m τ)\n",
      "File \u001b[1;32m~\\Documents\\GitHub\\SSD\\py\\argentina_base.py:96\u001b[0m, in \u001b[0;36mBaseScalar.aux_PEE\u001b[1;34m(self, v1i, v10, v2i, v20, τ, t)\u001b[0m\n\u001b[0;32m     95\u001b[0m \u001b[38;5;28;01mdef\u001b[39;00m \u001b[38;5;21maux_PEE\u001b[39m(\u001b[38;5;28mself\u001b[39m, v1i \u001b[38;5;241m=\u001b[39m \u001b[38;5;28;01mNone\u001b[39;00m, v10 \u001b[38;5;241m=\u001b[39m \u001b[38;5;28;01mNone\u001b[39;00m, v2i \u001b[38;5;241m=\u001b[39m \u001b[38;5;28;01mNone\u001b[39;00m, v20 \u001b[38;5;241m=\u001b[39m \u001b[38;5;28;01mNone\u001b[39;00m, τ \u001b[38;5;241m=\u001b[39m \u001b[38;5;28;01mNone\u001b[39;00m, t \u001b[38;5;241m=\u001b[39m \u001b[38;5;28;01mNone\u001b[39;00m):\n\u001b[1;32m---> 96\u001b[0m \t\u001b[38;5;28;01mreturn\u001b[39;00m \u001b[38;5;28mself\u001b[39m\u001b[38;5;241m.\u001b[39minteriorFOC(np\u001b[38;5;241m.\u001b[39mmatmul(v2i, \u001b[38;5;28mself\u001b[39m\u001b[38;5;241m.\u001b[39mget(\u001b[38;5;124m'\u001b[39m\u001b[38;5;124mγi[t-1]\u001b[39m\u001b[38;5;124m'\u001b[39m,t)\u001b[38;5;241m*\u001b[39m\u001b[38;5;28mself\u001b[39m\u001b[38;5;241m.\u001b[39mω2i(t))\u001b[38;5;241m+\u001b[39mv20\u001b[38;5;241m*\u001b[39m\u001b[38;5;28mself\u001b[39m\u001b[38;5;241m.\u001b[39mget(\u001b[38;5;124m'\u001b[39m\u001b[38;5;124mγ0[t-1]\u001b[39m\u001b[38;5;124m'\u001b[39m,t)\u001b[38;5;241m*\u001b[39m\u001b[38;5;28mself\u001b[39m\u001b[38;5;241m.\u001b[39mω20(t)\u001b[38;5;241m+\u001b[39m\u001b[38;5;28mself\u001b[39m\u001b[38;5;241m.\u001b[39mget(\u001b[38;5;124m'\u001b[39m\u001b[38;5;124mν\u001b[39m\u001b[38;5;124m'\u001b[39m,t)\u001b[38;5;241m*\u001b[39m(np\u001b[38;5;241m.\u001b[39mmatmul(v1i, \u001b[38;5;28mself\u001b[39m\u001b[38;5;241m.\u001b[39mget(\u001b[38;5;124m'\u001b[39m\u001b[38;5;124mγi\u001b[39m\u001b[38;5;124m'\u001b[39m,t)\u001b[38;5;241m*\u001b[39m\u001b[38;5;28mself\u001b[39m\u001b[38;5;241m.\u001b[39mω1i(t))\u001b[38;5;241m+\u001b[39mv10\u001b[38;5;241m*\u001b[39m\u001b[38;5;28mself\u001b[39m\u001b[38;5;241m.\u001b[39mget(\u001b[38;5;124m'\u001b[39m\u001b[38;5;124mγ0\u001b[39m\u001b[38;5;124m'\u001b[39m,t)\u001b[38;5;241m*\u001b[39m\u001b[38;5;28mself\u001b[39m\u001b[38;5;241m.\u001b[39mω10(t)), τ)\n",
      "File \u001b[1;32m~\\Documents\\GitHub\\SSD\\py\\argentina_base.py:44\u001b[0m, in \u001b[0;36m_Base.interiorFOC\u001b[1;34m(self, z, x, var)\u001b[0m\n\u001b[0;32m     42\u001b[0m \u001b[38;5;250m\t\u001b[39m\u001b[38;5;124;03m\"\"\" Adjust FOC in a multiplicative way: z is the \"original\" marginal effect, x is the bounded variable \"\"\"\u001b[39;00m\n\u001b[0;32m     43\u001b[0m \t\u001b[38;5;28;01mreturn\u001b[39;00m z\u001b[38;5;241m-\u001b[39m\u001b[38;5;28mabs\u001b[39m(z)\u001b[38;5;241m*\u001b[39m(kl\u001b[38;5;241m*\u001b[39m(np\u001b[38;5;241m.\u001b[39mclip(x, \u001b[38;5;28;01mNone\u001b[39;00m, l)\u001b[38;5;241m-\u001b[39ml)\u001b[38;5;241m+\u001b[39mku\u001b[38;5;241m*\u001b[39m(np\u001b[38;5;241m.\u001b[39mclip(x,u,\u001b[38;5;28;01mNone\u001b[39;00m)\u001b[38;5;241m-\u001b[39mu))\n\u001b[1;32m---> 44\u001b[0m \u001b[38;5;28;01mdef\u001b[39;00m \u001b[38;5;21minteriorFOC\u001b[39m(\u001b[38;5;28mself\u001b[39m, z, x, var \u001b[38;5;241m=\u001b[39m \u001b[38;5;124m'\u001b[39m\u001b[38;5;124mτ\u001b[39m\u001b[38;5;124m'\u001b[39m):\n\u001b[0;32m     45\u001b[0m \t\u001b[38;5;28;01mreturn\u001b[39;00m \u001b[38;5;28mself\u001b[39m\u001b[38;5;241m.\u001b[39madjustFocMultiplicative(z, x, l \u001b[38;5;241m=\u001b[39m \u001b[38;5;28mself\u001b[39m\u001b[38;5;241m.\u001b[39mdb[\u001b[38;5;124mf\u001b[39m\u001b[38;5;124m'\u001b[39m\u001b[38;5;132;01m{\u001b[39;00mvar\u001b[38;5;132;01m}\u001b[39;00m\u001b[38;5;124m_l\u001b[39m\u001b[38;5;124m'\u001b[39m], u \u001b[38;5;241m=\u001b[39m \u001b[38;5;28mself\u001b[39m\u001b[38;5;241m.\u001b[39mdb[\u001b[38;5;124mf\u001b[39m\u001b[38;5;124m'\u001b[39m\u001b[38;5;132;01m{\u001b[39;00mvar\u001b[38;5;132;01m}\u001b[39;00m\u001b[38;5;124m_u\u001b[39m\u001b[38;5;124m'\u001b[39m], kl \u001b[38;5;241m=\u001b[39m \u001b[38;5;28mself\u001b[39m\u001b[38;5;241m.\u001b[39mdb[\u001b[38;5;124mf\u001b[39m\u001b[38;5;124m'\u001b[39m\u001b[38;5;124mk\u001b[39m\u001b[38;5;132;01m{\u001b[39;00mvar\u001b[38;5;132;01m}\u001b[39;00m\u001b[38;5;124m_l\u001b[39m\u001b[38;5;124m'\u001b[39m], ku \u001b[38;5;241m=\u001b[39m \u001b[38;5;28mself\u001b[39m\u001b[38;5;241m.\u001b[39mdb[\u001b[38;5;124mf\u001b[39m\u001b[38;5;124m'\u001b[39m\u001b[38;5;124mk\u001b[39m\u001b[38;5;132;01m{\u001b[39;00mvar\u001b[38;5;132;01m}\u001b[39;00m\u001b[38;5;124m_u\u001b[39m\u001b[38;5;124m'\u001b[39m])\n\u001b[0;32m     47\u001b[0m \u001b[38;5;66;03m#######################################################################\u001b[39;00m\n\u001b[0;32m     48\u001b[0m \u001b[38;5;66;03m##########\t\t\t\t\t1. Simple defs\t\t\t\t \t###########\u001b[39;00m\n\u001b[0;32m     49\u001b[0m \u001b[38;5;66;03m#######################################################################\u001b[39;00m\n\u001b[0;32m     50\u001b[0m \u001b[38;5;66;03m#### NOTE: NUMPY METHODS\u001b[39;00m\n",
      "\u001b[1;31mKeyboardInterrupt\u001b[0m: "
     ]
    }
   ],
   "source": [
    "m2010.db.update(m2010.adjPar('eps',.07))\n",
    "sols = m2010.PEE.FH()"
   ]
  },
  {
   "cell_type": "code",
   "execution_count": null,
   "id": "c7b27224-3931-4d2c-9473-605d6653f3e1",
   "metadata": {},
   "outputs": [],
   "source": []
  },
  {
   "cell_type": "code",
   "execution_count": 39,
   "id": "72af574b-8b9c-4d77-943b-d00e32ea85bc",
   "metadata": {},
   "outputs": [
    {
     "ename": "KeyboardInterrupt",
     "evalue": "",
     "output_type": "error",
     "traceback": [
      "\u001b[1;31m---------------------------------------------------------------------------\u001b[0m",
      "\u001b[1;31mKeyboardInterrupt\u001b[0m                         Traceback (most recent call last)",
      "Cell \u001b[1;32mIn[39], line 11\u001b[0m\n\u001b[0;32m      9\u001b[0m \u001b[38;5;28;01mfor\u001b[39;00m ϵ \u001b[38;5;129;01min\u001b[39;00m ϵTargs[ρ]:\n\u001b[0;32m     10\u001b[0m     m2010\u001b[38;5;241m.\u001b[39mdb\u001b[38;5;241m.\u001b[39mupdate(m2010\u001b[38;5;241m.\u001b[39madjPar(\u001b[38;5;124m'\u001b[39m\u001b[38;5;124meps\u001b[39m\u001b[38;5;124m'\u001b[39m,ϵ))\n\u001b[1;32m---> 11\u001b[0m     simPols[(ρ,ϵ)] \u001b[38;5;241m=\u001b[39m m2010\u001b[38;5;241m.\u001b[39mPEE\u001b[38;5;241m.\u001b[39mFH()\n\u001b[0;32m     12\u001b[0m     simPaths[(ρ,ϵ)] \u001b[38;5;241m=\u001b[39m m2010\u001b[38;5;241m.\u001b[39mEE_FH_PEE_solve(simPols[(ρ,ϵ)], z0 \u001b[38;5;241m=\u001b[39m [paths[ρ][\u001b[38;5;124m'\u001b[39m\u001b[38;5;124ms[t-1]\u001b[39m\u001b[38;5;124m'\u001b[39m][t0], paths[ρ][\u001b[38;5;124m'\u001b[39m\u001b[38;5;124ms0/s[t-1]\u001b[39m\u001b[38;5;124m'\u001b[39m][t0]])\n\u001b[0;32m     13\u001b[0m     \u001b[38;5;28mprint\u001b[39m((ρ, ϵ))\n",
      "File \u001b[1;32m~\\Documents\\GitHub\\SSD\\py\\argentina_policy.py:234\u001b[0m, in \u001b[0;36mPEE.FH\u001b[1;34m(self, pars, update)\u001b[0m\n\u001b[0;32m    232\u001b[0m \u001b[38;5;28;01mfor\u001b[39;00m t \u001b[38;5;129;01min\u001b[39;00m \u001b[38;5;28mself\u001b[39m\u001b[38;5;241m.\u001b[39mdb[\u001b[38;5;124m'\u001b[39m\u001b[38;5;124mt\u001b[39m\u001b[38;5;124m'\u001b[39m][\u001b[38;5;241m-\u001b[39m\u001b[38;5;241m2\u001b[39m::\u001b[38;5;241m-\u001b[39m\u001b[38;5;241m1\u001b[39m]:\n\u001b[0;32m    233\u001b[0m \t\u001b[38;5;28mself\u001b[39m\u001b[38;5;241m.\u001b[39mBG\u001b[38;5;241m.\u001b[39mt \u001b[38;5;241m=\u001b[39m t\n\u001b[1;32m--> 234\u001b[0m \tsols[t] \u001b[38;5;241m=\u001b[39m \u001b[38;5;28mself\u001b[39m\u001b[38;5;241m.\u001b[39msolve(solp \u001b[38;5;241m=\u001b[39m sols[t\u001b[38;5;241m+\u001b[39m\u001b[38;5;241m1\u001b[39m], \u001b[38;5;241m*\u001b[39m\u001b[38;5;241m*\u001b[39m({\u001b[38;5;124m'\u001b[39m\u001b[38;5;124mx0\u001b[39m\u001b[38;5;124m'\u001b[39m: \u001b[38;5;28mself\u001b[39m\u001b[38;5;241m.\u001b[39mx0[t]} \u001b[38;5;241m|\u001b[39m kwargs[t]))\n\u001b[0;32m    235\u001b[0m \t\u001b[38;5;28;01mif\u001b[39;00m update:\n\u001b[0;32m    236\u001b[0m \t\t\u001b[38;5;28mself\u001b[39m\u001b[38;5;241m.\u001b[39mx0[t] \u001b[38;5;241m=\u001b[39m sols[t][\u001b[38;5;124m'\u001b[39m\u001b[38;5;124mx_unbounded\u001b[39m\u001b[38;5;124m'\u001b[39m]\n",
      "File \u001b[1;32m~\\Documents\\GitHub\\SSD\\py\\argentina_policy.py:261\u001b[0m, in \u001b[0;36mPEE.solve\u001b[1;34m(self, style, t, **kwargs)\u001b[0m\n\u001b[0;32m    260\u001b[0m \u001b[38;5;28;01mdef\u001b[39;00m \u001b[38;5;21msolve\u001b[39m(\u001b[38;5;28mself\u001b[39m, style \u001b[38;5;241m=\u001b[39m \u001b[38;5;124m'\u001b[39m\u001b[38;5;124mVector\u001b[39m\u001b[38;5;124m'\u001b[39m, t \u001b[38;5;241m=\u001b[39m \u001b[38;5;124m'\u001b[39m\u001b[38;5;124mt\u001b[39m\u001b[38;5;124m'\u001b[39m, \u001b[38;5;241m*\u001b[39m\u001b[38;5;241m*\u001b[39mkwargs):\n\u001b[1;32m--> 261\u001b[0m \t\u001b[38;5;28;01mreturn\u001b[39;00m \u001b[38;5;28mgetattr\u001b[39m(\u001b[38;5;28mself\u001b[39m, \u001b[38;5;124mf\u001b[39m\u001b[38;5;124m'\u001b[39m\u001b[38;5;124msolve\u001b[39m\u001b[38;5;132;01m{\u001b[39;00mstyle\u001b[38;5;132;01m}\u001b[39;00m\u001b[38;5;124m_\u001b[39m\u001b[38;5;132;01m{\u001b[39;00mt\u001b[38;5;132;01m}\u001b[39;00m\u001b[38;5;124m'\u001b[39m)(\u001b[38;5;241m*\u001b[39m\u001b[38;5;241m*\u001b[39mkwargs)\n",
      "File \u001b[1;32m~\\Documents\\GitHub\\SSD\\py\\argentina_policy.py:266\u001b[0m, in \u001b[0;36mPEE.solveVector_t\u001b[1;34m(self, solp, x0_from_solp, x0, **kwargs)\u001b[0m\n\u001b[0;32m    264\u001b[0m \u001b[38;5;250m\u001b[39m\u001b[38;5;124;03m\"\"\" Solve problem as a sequence of root-finding problems. \"\"\"\u001b[39;00m\n\u001b[0;32m    265\u001b[0m fp \u001b[38;5;241m=\u001b[39m {k: \u001b[38;5;28mself\u001b[39m\u001b[38;5;241m.\u001b[39mgridPolicy(solp[k]) \u001b[38;5;28;01mfor\u001b[39;00m k \u001b[38;5;129;01min\u001b[39;00m (\u001b[38;5;124m'\u001b[39m\u001b[38;5;124mτ\u001b[39m\u001b[38;5;124m'\u001b[39m,\u001b[38;5;124m'\u001b[39m\u001b[38;5;124mBi\u001b[39m\u001b[38;5;124m'\u001b[39m,\u001b[38;5;124m'\u001b[39m\u001b[38;5;124mB0\u001b[39m\u001b[38;5;124m'\u001b[39m, \u001b[38;5;124m'\u001b[39m\u001b[38;5;124m∂ln(h)/∂τ\u001b[39m\u001b[38;5;124m'\u001b[39m, \u001b[38;5;124m'\u001b[39m\u001b[38;5;124m∂ln(h)/∂ln(s[t-1])\u001b[39m\u001b[38;5;124m'\u001b[39m, \u001b[38;5;124m'\u001b[39m\u001b[38;5;124mdτ/ds[t-1]\u001b[39m\u001b[38;5;124m'\u001b[39m,\u001b[38;5;124m'\u001b[39m\u001b[38;5;124mdτ/d(s0/s)\u001b[39m\u001b[38;5;124m'\u001b[39m,\u001b[38;5;124m'\u001b[39m\u001b[38;5;124mdln(h)/dln(s[t-1])\u001b[39m\u001b[38;5;124m'\u001b[39m)} \u001b[38;5;66;03m# dict interpolants\u001b[39;00m\n\u001b[1;32m--> 266\u001b[0m x \u001b[38;5;241m=\u001b[39m optimize\u001b[38;5;241m.\u001b[39mroot(\u001b[38;5;28;01mlambda\u001b[39;00m x: \u001b[38;5;28mself\u001b[39m\u001b[38;5;241m.\u001b[39mobjective_t(x, fp), x0_solp(x0, solp[\u001b[38;5;124m'\u001b[39m\u001b[38;5;124mx_unbounded\u001b[39m\u001b[38;5;124m'\u001b[39m], x0_from_solp), \u001b[38;5;241m*\u001b[39m\u001b[38;5;241m*\u001b[39mkwargs)\n\u001b[0;32m    267\u001b[0m \u001b[38;5;28;01massert\u001b[39;00m x[\u001b[38;5;124m'\u001b[39m\u001b[38;5;124msuccess\u001b[39m\u001b[38;5;124m'\u001b[39m], \u001b[38;5;124mf\u001b[39m\u001b[38;5;124m\"\"\"\u001b[39m\u001b[38;5;124m Couldn\u001b[39m\u001b[38;5;124m'\u001b[39m\u001b[38;5;124mt identify policy function for year t=\u001b[39m\u001b[38;5;132;01m{\u001b[39;00m\u001b[38;5;28mself\u001b[39m\u001b[38;5;241m.\u001b[39mBG\u001b[38;5;241m.\u001b[39mt\u001b[38;5;132;01m}\u001b[39;00m\u001b[38;5;124m. Previous solution x = \u001b[39m\u001b[38;5;132;01m{\u001b[39;00msolp[\u001b[38;5;124m'\u001b[39m\u001b[38;5;124mx_unbounded\u001b[39m\u001b[38;5;124m'\u001b[39m]\u001b[38;5;132;01m}\u001b[39;00m\u001b[38;5;124m. \u001b[39m\u001b[38;5;124m\"\"\"\u001b[39m\n\u001b[0;32m    268\u001b[0m \u001b[38;5;28;01mreturn\u001b[39;00m \u001b[38;5;28mself\u001b[39m\u001b[38;5;241m.\u001b[39mreportVector_t(x[\u001b[38;5;124m'\u001b[39m\u001b[38;5;124mx\u001b[39m\u001b[38;5;124m'\u001b[39m], fp)\n",
      "File \u001b[1;32m~\\AppData\\Local\\anaconda3\\envs\\SSD\\Lib\\site-packages\\scipy\\optimize\\_root.py:256\u001b[0m, in \u001b[0;36mroot\u001b[1;34m(fun, x0, args, method, jac, tol, callback, options)\u001b[0m\n\u001b[0;32m    253\u001b[0m \u001b[38;5;28;01melif\u001b[39;00m meth \u001b[38;5;129;01min\u001b[39;00m (\u001b[38;5;124m'\u001b[39m\u001b[38;5;124mbroyden1\u001b[39m\u001b[38;5;124m'\u001b[39m, \u001b[38;5;124m'\u001b[39m\u001b[38;5;124mbroyden2\u001b[39m\u001b[38;5;124m'\u001b[39m, \u001b[38;5;124m'\u001b[39m\u001b[38;5;124manderson\u001b[39m\u001b[38;5;124m'\u001b[39m, \u001b[38;5;124m'\u001b[39m\u001b[38;5;124mlinearmixing\u001b[39m\u001b[38;5;124m'\u001b[39m,\n\u001b[0;32m    254\u001b[0m               \u001b[38;5;124m'\u001b[39m\u001b[38;5;124mdiagbroyden\u001b[39m\u001b[38;5;124m'\u001b[39m, \u001b[38;5;124m'\u001b[39m\u001b[38;5;124mexcitingmixing\u001b[39m\u001b[38;5;124m'\u001b[39m, \u001b[38;5;124m'\u001b[39m\u001b[38;5;124mkrylov\u001b[39m\u001b[38;5;124m'\u001b[39m):\n\u001b[0;32m    255\u001b[0m     _warn_jac_unused(jac, method)\n\u001b[1;32m--> 256\u001b[0m     sol \u001b[38;5;241m=\u001b[39m _root_nonlin_solve(_wrapped_fun, x0, args\u001b[38;5;241m=\u001b[39margs, jac\u001b[38;5;241m=\u001b[39mjac,\n\u001b[0;32m    257\u001b[0m                              _method\u001b[38;5;241m=\u001b[39mmeth, _callback\u001b[38;5;241m=\u001b[39mcallback,\n\u001b[0;32m    258\u001b[0m                              \u001b[38;5;241m*\u001b[39m\u001b[38;5;241m*\u001b[39moptions)\n\u001b[0;32m    259\u001b[0m \u001b[38;5;28;01melse\u001b[39;00m:\n\u001b[0;32m    260\u001b[0m     \u001b[38;5;28;01mraise\u001b[39;00m \u001b[38;5;167;01mValueError\u001b[39;00m(\u001b[38;5;124m'\u001b[39m\u001b[38;5;124mUnknown solver \u001b[39m\u001b[38;5;132;01m%s\u001b[39;00m\u001b[38;5;124m'\u001b[39m \u001b[38;5;241m%\u001b[39m method)\n",
      "File \u001b[1;32m~\\AppData\\Local\\anaconda3\\envs\\SSD\\Lib\\site-packages\\scipy\\optimize\\_root.py:365\u001b[0m, in \u001b[0;36m_root_nonlin_solve\u001b[1;34m(fun, x0, args, jac, _callback, _method, nit, disp, maxiter, ftol, fatol, xtol, xatol, tol_norm, line_search, jac_options, **unknown_options)\u001b[0m\n\u001b[0;32m    362\u001b[0m \u001b[38;5;28;01melse\u001b[39;00m:\n\u001b[0;32m    363\u001b[0m     f \u001b[38;5;241m=\u001b[39m fun\n\u001b[1;32m--> 365\u001b[0m x, info \u001b[38;5;241m=\u001b[39m nonlin\u001b[38;5;241m.\u001b[39mnonlin_solve(f, x0, jacobian\u001b[38;5;241m=\u001b[39mjacobian(\u001b[38;5;241m*\u001b[39m\u001b[38;5;241m*\u001b[39mjac_options),\n\u001b[0;32m    366\u001b[0m                               \u001b[38;5;28miter\u001b[39m\u001b[38;5;241m=\u001b[39mnit, verbose\u001b[38;5;241m=\u001b[39mverbose,\n\u001b[0;32m    367\u001b[0m                               maxiter\u001b[38;5;241m=\u001b[39mmaxiter, f_tol\u001b[38;5;241m=\u001b[39mf_tol,\n\u001b[0;32m    368\u001b[0m                               f_rtol\u001b[38;5;241m=\u001b[39mf_rtol, x_tol\u001b[38;5;241m=\u001b[39mx_tol,\n\u001b[0;32m    369\u001b[0m                               x_rtol\u001b[38;5;241m=\u001b[39mx_rtol, tol_norm\u001b[38;5;241m=\u001b[39mtol_norm,\n\u001b[0;32m    370\u001b[0m                               line_search\u001b[38;5;241m=\u001b[39mline_search,\n\u001b[0;32m    371\u001b[0m                               callback\u001b[38;5;241m=\u001b[39m_callback, full_output\u001b[38;5;241m=\u001b[39m\u001b[38;5;28;01mTrue\u001b[39;00m,\n\u001b[0;32m    372\u001b[0m                               raise_exception\u001b[38;5;241m=\u001b[39m\u001b[38;5;28;01mFalse\u001b[39;00m)\n\u001b[0;32m    373\u001b[0m sol \u001b[38;5;241m=\u001b[39m OptimizeResult(x\u001b[38;5;241m=\u001b[39mx, method\u001b[38;5;241m=\u001b[39m_method)\n\u001b[0;32m    374\u001b[0m sol\u001b[38;5;241m.\u001b[39mupdate(info)\n",
      "File \u001b[1;32m~\\AppData\\Local\\anaconda3\\envs\\SSD\\Lib\\site-packages\\scipy\\optimize\\_nonlin.py:211\u001b[0m, in \u001b[0;36mnonlin_solve\u001b[1;34m(F, x0, jacobian, iter, verbose, maxiter, f_tol, f_rtol, x_tol, x_rtol, tol_norm, line_search, callback, full_output, raise_exception)\u001b[0m\n\u001b[0;32m    209\u001b[0m \u001b[38;5;66;03m# The tolerance, as computed for scipy.sparse.linalg.* routines\u001b[39;00m\n\u001b[0;32m    210\u001b[0m tol \u001b[38;5;241m=\u001b[39m \u001b[38;5;28mmin\u001b[39m(eta, eta\u001b[38;5;241m*\u001b[39mFx_norm)\n\u001b[1;32m--> 211\u001b[0m dx \u001b[38;5;241m=\u001b[39m \u001b[38;5;241m-\u001b[39mjacobian\u001b[38;5;241m.\u001b[39msolve(Fx, tol\u001b[38;5;241m=\u001b[39mtol)\n\u001b[0;32m    213\u001b[0m \u001b[38;5;28;01mif\u001b[39;00m norm(dx) \u001b[38;5;241m==\u001b[39m \u001b[38;5;241m0\u001b[39m:\n\u001b[0;32m    214\u001b[0m     \u001b[38;5;28;01mraise\u001b[39;00m \u001b[38;5;167;01mValueError\u001b[39;00m(\u001b[38;5;124m\"\u001b[39m\u001b[38;5;124mJacobian inversion yielded zero vector. \u001b[39m\u001b[38;5;124m\"\u001b[39m\n\u001b[0;32m    215\u001b[0m                      \u001b[38;5;124m\"\u001b[39m\u001b[38;5;124mThis indicates a bug in the Jacobian \u001b[39m\u001b[38;5;124m\"\u001b[39m\n\u001b[0;32m    216\u001b[0m                      \u001b[38;5;124m\"\u001b[39m\u001b[38;5;124mapproximation.\u001b[39m\u001b[38;5;124m\"\u001b[39m)\n",
      "File \u001b[1;32m~\\AppData\\Local\\anaconda3\\envs\\SSD\\Lib\\site-packages\\scipy\\optimize\\_nonlin.py:1501\u001b[0m, in \u001b[0;36mKrylovJacobian.solve\u001b[1;34m(self, rhs, tol)\u001b[0m\n\u001b[0;32m   1499\u001b[0m     sol, info \u001b[38;5;241m=\u001b[39m \u001b[38;5;28mself\u001b[39m\u001b[38;5;241m.\u001b[39mmethod(\u001b[38;5;28mself\u001b[39m\u001b[38;5;241m.\u001b[39mop, rhs, \u001b[38;5;241m*\u001b[39m\u001b[38;5;241m*\u001b[39m\u001b[38;5;28mself\u001b[39m\u001b[38;5;241m.\u001b[39mmethod_kw)\n\u001b[0;32m   1500\u001b[0m \u001b[38;5;28;01melse\u001b[39;00m:\n\u001b[1;32m-> 1501\u001b[0m     sol, info \u001b[38;5;241m=\u001b[39m \u001b[38;5;28mself\u001b[39m\u001b[38;5;241m.\u001b[39mmethod(\u001b[38;5;28mself\u001b[39m\u001b[38;5;241m.\u001b[39mop, rhs, rtol\u001b[38;5;241m=\u001b[39mtol, \u001b[38;5;241m*\u001b[39m\u001b[38;5;241m*\u001b[39m\u001b[38;5;28mself\u001b[39m\u001b[38;5;241m.\u001b[39mmethod_kw)\n\u001b[0;32m   1502\u001b[0m \u001b[38;5;28;01mreturn\u001b[39;00m sol\n",
      "File \u001b[1;32m~\\AppData\\Local\\anaconda3\\envs\\SSD\\Lib\\site-packages\\scipy\\sparse\\linalg\\_isolve\\lgmres.py:180\u001b[0m, in \u001b[0;36mlgmres\u001b[1;34m(A, b, x0, rtol, atol, maxiter, M, callback, inner_m, outer_k, outer_v, store_outer_Av, prepend_outer_v)\u001b[0m\n\u001b[0;32m    177\u001b[0m ptol \u001b[38;5;241m=\u001b[39m \u001b[38;5;28mmin\u001b[39m(ptol_max_factor, \u001b[38;5;28mmax\u001b[39m(atol, rtol\u001b[38;5;241m*\u001b[39mb_norm)\u001b[38;5;241m/\u001b[39mr_norm)\n\u001b[0;32m    179\u001b[0m \u001b[38;5;28;01mtry\u001b[39;00m:\n\u001b[1;32m--> 180\u001b[0m     Q, R, B, vs, zs, y, pres \u001b[38;5;241m=\u001b[39m _fgmres(matvec,\n\u001b[0;32m    181\u001b[0m                                        v0,\n\u001b[0;32m    182\u001b[0m                                        inner_m,\n\u001b[0;32m    183\u001b[0m                                        lpsolve\u001b[38;5;241m=\u001b[39mpsolve,\n\u001b[0;32m    184\u001b[0m                                        atol\u001b[38;5;241m=\u001b[39mptol,\n\u001b[0;32m    185\u001b[0m                                        outer_v\u001b[38;5;241m=\u001b[39mouter_v,\n\u001b[0;32m    186\u001b[0m                                        prepend_outer_v\u001b[38;5;241m=\u001b[39mprepend_outer_v)\n\u001b[0;32m    187\u001b[0m     y \u001b[38;5;241m*\u001b[39m\u001b[38;5;241m=\u001b[39m inner_res_0\n\u001b[0;32m    188\u001b[0m     \u001b[38;5;28;01mif\u001b[39;00m \u001b[38;5;129;01mnot\u001b[39;00m np\u001b[38;5;241m.\u001b[39misfinite(y)\u001b[38;5;241m.\u001b[39mall():\n\u001b[0;32m    189\u001b[0m         \u001b[38;5;66;03m# Overflow etc. in computation. There's no way to\u001b[39;00m\n\u001b[0;32m    190\u001b[0m         \u001b[38;5;66;03m# recover from this, so we have to bail out.\u001b[39;00m\n",
      "File \u001b[1;32m~\\AppData\\Local\\anaconda3\\envs\\SSD\\Lib\\site-packages\\scipy\\sparse\\linalg\\_isolve\\_gcrotmk.py:106\u001b[0m, in \u001b[0;36m_fgmres\u001b[1;34m(matvec, v0, m, atol, lpsolve, rpsolve, cs, outer_v, prepend_outer_v)\u001b[0m\n\u001b[0;32m    103\u001b[0m     w \u001b[38;5;241m=\u001b[39m \u001b[38;5;28;01mNone\u001b[39;00m\n\u001b[0;32m    105\u001b[0m \u001b[38;5;28;01mif\u001b[39;00m w \u001b[38;5;129;01mis\u001b[39;00m \u001b[38;5;28;01mNone\u001b[39;00m:\n\u001b[1;32m--> 106\u001b[0m     w \u001b[38;5;241m=\u001b[39m lpsolve(matvec(z))\n\u001b[0;32m    107\u001b[0m \u001b[38;5;28;01melse\u001b[39;00m:\n\u001b[0;32m    108\u001b[0m     \u001b[38;5;66;03m# w is clobbered below\u001b[39;00m\n\u001b[0;32m    109\u001b[0m     w \u001b[38;5;241m=\u001b[39m w\u001b[38;5;241m.\u001b[39mcopy()\n",
      "File \u001b[1;32m~\\AppData\\Local\\anaconda3\\envs\\SSD\\Lib\\site-packages\\scipy\\sparse\\linalg\\_interface.py:236\u001b[0m, in \u001b[0;36mLinearOperator.matvec\u001b[1;34m(self, x)\u001b[0m\n\u001b[0;32m    233\u001b[0m \u001b[38;5;28;01mif\u001b[39;00m x\u001b[38;5;241m.\u001b[39mshape \u001b[38;5;241m!=\u001b[39m (N,) \u001b[38;5;129;01mand\u001b[39;00m x\u001b[38;5;241m.\u001b[39mshape \u001b[38;5;241m!=\u001b[39m (N,\u001b[38;5;241m1\u001b[39m):\n\u001b[0;32m    234\u001b[0m     \u001b[38;5;28;01mraise\u001b[39;00m \u001b[38;5;167;01mValueError\u001b[39;00m(\u001b[38;5;124m'\u001b[39m\u001b[38;5;124mdimension mismatch\u001b[39m\u001b[38;5;124m'\u001b[39m)\n\u001b[1;32m--> 236\u001b[0m y \u001b[38;5;241m=\u001b[39m \u001b[38;5;28mself\u001b[39m\u001b[38;5;241m.\u001b[39m_matvec(x)\n\u001b[0;32m    238\u001b[0m \u001b[38;5;28;01mif\u001b[39;00m \u001b[38;5;28misinstance\u001b[39m(x, np\u001b[38;5;241m.\u001b[39mmatrix):\n\u001b[0;32m    239\u001b[0m     y \u001b[38;5;241m=\u001b[39m asmatrix(y)\n",
      "File \u001b[1;32m~\\AppData\\Local\\anaconda3\\envs\\SSD\\Lib\\site-packages\\scipy\\sparse\\linalg\\_interface.py:593\u001b[0m, in \u001b[0;36m_CustomLinearOperator._matvec\u001b[1;34m(self, x)\u001b[0m\n\u001b[0;32m    592\u001b[0m \u001b[38;5;28;01mdef\u001b[39;00m \u001b[38;5;21m_matvec\u001b[39m(\u001b[38;5;28mself\u001b[39m, x):\n\u001b[1;32m--> 593\u001b[0m     \u001b[38;5;28;01mreturn\u001b[39;00m \u001b[38;5;28mself\u001b[39m\u001b[38;5;241m.\u001b[39m__matvec_impl(x)\n",
      "File \u001b[1;32m~\\AppData\\Local\\anaconda3\\envs\\SSD\\Lib\\site-packages\\scipy\\optimize\\_nonlin.py:1492\u001b[0m, in \u001b[0;36mKrylovJacobian.matvec\u001b[1;34m(self, v)\u001b[0m\n\u001b[0;32m   1490\u001b[0m     \u001b[38;5;28;01mreturn\u001b[39;00m \u001b[38;5;241m0\u001b[39m\u001b[38;5;241m*\u001b[39mv\n\u001b[0;32m   1491\u001b[0m sc \u001b[38;5;241m=\u001b[39m \u001b[38;5;28mself\u001b[39m\u001b[38;5;241m.\u001b[39momega \u001b[38;5;241m/\u001b[39m nv\n\u001b[1;32m-> 1492\u001b[0m r \u001b[38;5;241m=\u001b[39m (\u001b[38;5;28mself\u001b[39m\u001b[38;5;241m.\u001b[39mfunc(\u001b[38;5;28mself\u001b[39m\u001b[38;5;241m.\u001b[39mx0 \u001b[38;5;241m+\u001b[39m sc\u001b[38;5;241m*\u001b[39mv) \u001b[38;5;241m-\u001b[39m \u001b[38;5;28mself\u001b[39m\u001b[38;5;241m.\u001b[39mf0) \u001b[38;5;241m/\u001b[39m sc\n\u001b[0;32m   1493\u001b[0m \u001b[38;5;28;01mif\u001b[39;00m \u001b[38;5;129;01mnot\u001b[39;00m np\u001b[38;5;241m.\u001b[39mall(np\u001b[38;5;241m.\u001b[39misfinite(r)) \u001b[38;5;129;01mand\u001b[39;00m np\u001b[38;5;241m.\u001b[39mall(np\u001b[38;5;241m.\u001b[39misfinite(v)):\n\u001b[0;32m   1494\u001b[0m     \u001b[38;5;28;01mraise\u001b[39;00m \u001b[38;5;167;01mValueError\u001b[39;00m(\u001b[38;5;124m'\u001b[39m\u001b[38;5;124mFunction returned non-finite results\u001b[39m\u001b[38;5;124m'\u001b[39m)\n",
      "File \u001b[1;32m~\\AppData\\Local\\anaconda3\\envs\\SSD\\Lib\\site-packages\\scipy\\optimize\\_nonlin.py:174\u001b[0m, in \u001b[0;36mnonlin_solve.<locals>.func\u001b[1;34m(z)\u001b[0m\n\u001b[0;32m    173\u001b[0m \u001b[38;5;28;01mdef\u001b[39;00m \u001b[38;5;21mfunc\u001b[39m(z):\n\u001b[1;32m--> 174\u001b[0m     \u001b[38;5;28;01mreturn\u001b[39;00m _as_inexact(F(_array_like(z, x0)))\u001b[38;5;241m.\u001b[39mflatten()\n",
      "File \u001b[1;32m~\\AppData\\Local\\anaconda3\\envs\\SSD\\Lib\\site-packages\\scipy\\optimize\\_root.py:208\u001b[0m, in \u001b[0;36mroot.<locals>._wrapped_fun\u001b[1;34m(*fargs)\u001b[0m\n\u001b[0;32m    203\u001b[0m \u001b[38;5;250m\u001b[39m\u001b[38;5;124;03m\"\"\"\u001b[39;00m\n\u001b[0;32m    204\u001b[0m \u001b[38;5;124;03mWrapped `func` to track the number of times\u001b[39;00m\n\u001b[0;32m    205\u001b[0m \u001b[38;5;124;03mthe function has been called.\u001b[39;00m\n\u001b[0;32m    206\u001b[0m \u001b[38;5;124;03m\"\"\"\u001b[39;00m\n\u001b[0;32m    207\u001b[0m _wrapped_fun\u001b[38;5;241m.\u001b[39mnfev \u001b[38;5;241m+\u001b[39m\u001b[38;5;241m=\u001b[39m \u001b[38;5;241m1\u001b[39m\n\u001b[1;32m--> 208\u001b[0m \u001b[38;5;28;01mreturn\u001b[39;00m fun(\u001b[38;5;241m*\u001b[39mfargs)\n",
      "File \u001b[1;32m~\\Documents\\GitHub\\SSD\\py\\argentina_policy.py:266\u001b[0m, in \u001b[0;36mPEE.solveVector_t.<locals>.<lambda>\u001b[1;34m(x)\u001b[0m\n\u001b[0;32m    264\u001b[0m \u001b[38;5;250m\u001b[39m\u001b[38;5;124;03m\"\"\" Solve problem as a sequence of root-finding problems. \"\"\"\u001b[39;00m\n\u001b[0;32m    265\u001b[0m fp \u001b[38;5;241m=\u001b[39m {k: \u001b[38;5;28mself\u001b[39m\u001b[38;5;241m.\u001b[39mgridPolicy(solp[k]) \u001b[38;5;28;01mfor\u001b[39;00m k \u001b[38;5;129;01min\u001b[39;00m (\u001b[38;5;124m'\u001b[39m\u001b[38;5;124mτ\u001b[39m\u001b[38;5;124m'\u001b[39m,\u001b[38;5;124m'\u001b[39m\u001b[38;5;124mBi\u001b[39m\u001b[38;5;124m'\u001b[39m,\u001b[38;5;124m'\u001b[39m\u001b[38;5;124mB0\u001b[39m\u001b[38;5;124m'\u001b[39m, \u001b[38;5;124m'\u001b[39m\u001b[38;5;124m∂ln(h)/∂τ\u001b[39m\u001b[38;5;124m'\u001b[39m, \u001b[38;5;124m'\u001b[39m\u001b[38;5;124m∂ln(h)/∂ln(s[t-1])\u001b[39m\u001b[38;5;124m'\u001b[39m, \u001b[38;5;124m'\u001b[39m\u001b[38;5;124mdτ/ds[t-1]\u001b[39m\u001b[38;5;124m'\u001b[39m,\u001b[38;5;124m'\u001b[39m\u001b[38;5;124mdτ/d(s0/s)\u001b[39m\u001b[38;5;124m'\u001b[39m,\u001b[38;5;124m'\u001b[39m\u001b[38;5;124mdln(h)/dln(s[t-1])\u001b[39m\u001b[38;5;124m'\u001b[39m)} \u001b[38;5;66;03m# dict interpolants\u001b[39;00m\n\u001b[1;32m--> 266\u001b[0m x \u001b[38;5;241m=\u001b[39m optimize\u001b[38;5;241m.\u001b[39mroot(\u001b[38;5;28;01mlambda\u001b[39;00m x: \u001b[38;5;28mself\u001b[39m\u001b[38;5;241m.\u001b[39mobjective_t(x, fp), x0_solp(x0, solp[\u001b[38;5;124m'\u001b[39m\u001b[38;5;124mx_unbounded\u001b[39m\u001b[38;5;124m'\u001b[39m], x0_from_solp), \u001b[38;5;241m*\u001b[39m\u001b[38;5;241m*\u001b[39mkwargs)\n\u001b[0;32m    267\u001b[0m \u001b[38;5;28;01massert\u001b[39;00m x[\u001b[38;5;124m'\u001b[39m\u001b[38;5;124msuccess\u001b[39m\u001b[38;5;124m'\u001b[39m], \u001b[38;5;124mf\u001b[39m\u001b[38;5;124m\"\"\"\u001b[39m\u001b[38;5;124m Couldn\u001b[39m\u001b[38;5;124m'\u001b[39m\u001b[38;5;124mt identify policy function for year t=\u001b[39m\u001b[38;5;132;01m{\u001b[39;00m\u001b[38;5;28mself\u001b[39m\u001b[38;5;241m.\u001b[39mBG\u001b[38;5;241m.\u001b[39mt\u001b[38;5;132;01m}\u001b[39;00m\u001b[38;5;124m. Previous solution x = \u001b[39m\u001b[38;5;132;01m{\u001b[39;00msolp[\u001b[38;5;124m'\u001b[39m\u001b[38;5;124mx_unbounded\u001b[39m\u001b[38;5;124m'\u001b[39m]\u001b[38;5;132;01m}\u001b[39;00m\u001b[38;5;124m. \u001b[39m\u001b[38;5;124m\"\"\"\u001b[39m\n\u001b[0;32m    268\u001b[0m \u001b[38;5;28;01mreturn\u001b[39;00m \u001b[38;5;28mself\u001b[39m\u001b[38;5;241m.\u001b[39mreportVector_t(x[\u001b[38;5;124m'\u001b[39m\u001b[38;5;124mx\u001b[39m\u001b[38;5;124m'\u001b[39m], fp)\n",
      "File \u001b[1;32m~\\Documents\\GitHub\\SSD\\py\\argentina_policy.py:271\u001b[0m, in \u001b[0;36mPEE.objective_t\u001b[1;34m(self, x, fp)\u001b[0m\n\u001b[0;32m    270\u001b[0m \u001b[38;5;28;01mdef\u001b[39;00m \u001b[38;5;21mobjective_t\u001b[39m(\u001b[38;5;28mself\u001b[39m, x, fp):\n\u001b[1;32m--> 271\u001b[0m \tsol, solp \u001b[38;5;241m=\u001b[39m \u001b[38;5;28mself\u001b[39m\u001b[38;5;241m.\u001b[39mfuncOfτ_t(x ,fp)\n\u001b[0;32m    272\u001b[0m \tPEEobj \u001b[38;5;241m=\u001b[39m \u001b[38;5;28mself\u001b[39m\u001b[38;5;241m.\u001b[39mBG\u001b[38;5;241m.\u001b[39mPEE_t(τBound \u001b[38;5;241m=\u001b[39m sol[\u001b[38;5;124m'\u001b[39m\u001b[38;5;124mτ\u001b[39m\u001b[38;5;124m'\u001b[39m], τ  \u001b[38;5;241m=\u001b[39m sol[\u001b[38;5;124m'\u001b[39m\u001b[38;5;124mτ_unbounded\u001b[39m\u001b[38;5;124m'\u001b[39m], τp \u001b[38;5;241m=\u001b[39m solp[\u001b[38;5;124m'\u001b[39m\u001b[38;5;124mτ\u001b[39m\u001b[38;5;124m'\u001b[39m], s_ \u001b[38;5;241m=\u001b[39m sol[\u001b[38;5;124m'\u001b[39m\u001b[38;5;124ms[t-1]\u001b[39m\u001b[38;5;124m'\u001b[39m], h \u001b[38;5;241m=\u001b[39m sol[\u001b[38;5;124m'\u001b[39m\u001b[38;5;124mh\u001b[39m\u001b[38;5;124m'\u001b[39m], Γs \u001b[38;5;241m=\u001b[39m solp[\u001b[38;5;124m'\u001b[39m\u001b[38;5;124mΓs\u001b[39m\u001b[38;5;124m'\u001b[39m], Bip \u001b[38;5;241m=\u001b[39m solp[\u001b[38;5;124m'\u001b[39m\u001b[38;5;124mBi\u001b[39m\u001b[38;5;124m'\u001b[39m], B0p \u001b[38;5;241m=\u001b[39m solp[\u001b[38;5;124m'\u001b[39m\u001b[38;5;124mB0\u001b[39m\u001b[38;5;124m'\u001b[39m], si_s \u001b[38;5;241m=\u001b[39m sol[\u001b[38;5;124m'\u001b[39m\u001b[38;5;124msi/s\u001b[39m\u001b[38;5;124m'\u001b[39m], s0_s \u001b[38;5;241m=\u001b[39m sol[\u001b[38;5;124m'\u001b[39m\u001b[38;5;124ms0/s[t-1]\u001b[39m\u001b[38;5;124m'\u001b[39m], Θs \u001b[38;5;241m=\u001b[39m sol[\u001b[38;5;124m'\u001b[39m\u001b[38;5;124mΘs\u001b[39m\u001b[38;5;124m'\u001b[39m],\n\u001b[0;32m    273\u001b[0m \t\t\t\t\tdlnh_Dτ \u001b[38;5;241m=\u001b[39m sol[\u001b[38;5;124m'\u001b[39m\u001b[38;5;124mdln(h)/dτ\u001b[39m\u001b[38;5;124m'\u001b[39m], dlns_Dτ \u001b[38;5;241m=\u001b[39m sol[\u001b[38;5;124m'\u001b[39m\u001b[38;5;124mdln(s)/dτ\u001b[39m\u001b[38;5;124m'\u001b[39m], dlnΓs_Dτ \u001b[38;5;241m=\u001b[39m sol[\u001b[38;5;124m'\u001b[39m\u001b[38;5;124mdln(Γs)/dτ\u001b[39m\u001b[38;5;124m'\u001b[39m], dlnhp_Dlns \u001b[38;5;241m=\u001b[39m solp[\u001b[38;5;124m'\u001b[39m\u001b[38;5;124mdln(h)/dln(s[t-1])\u001b[39m\u001b[38;5;124m'\u001b[39m], dτp_dτ \u001b[38;5;241m=\u001b[39m sol[\u001b[38;5;124m'\u001b[39m\u001b[38;5;124mdτ[t+1]/dτ\u001b[39m\u001b[38;5;124m'\u001b[39m])\n\u001b[0;32m    274\u001b[0m \t\u001b[38;5;28;01mreturn\u001b[39;00m np\u001b[38;5;241m.\u001b[39mhstack([PEEobj, \n\u001b[0;32m    275\u001b[0m \t\t\t\t\tsol[\u001b[38;5;124m'\u001b[39m\u001b[38;5;124ms\u001b[39m\u001b[38;5;124m'\u001b[39m]\u001b[38;5;241m-\u001b[39m\u001b[38;5;28mself\u001b[39m\u001b[38;5;241m.\u001b[39mBG\u001b[38;5;241m.\u001b[39ms_t(h\u001b[38;5;241m=\u001b[39msol[\u001b[38;5;124m'\u001b[39m\u001b[38;5;124mh\u001b[39m\u001b[38;5;124m'\u001b[39m], Γs \u001b[38;5;241m=\u001b[39m sol[\u001b[38;5;124m'\u001b[39m\u001b[38;5;124mΓs\u001b[39m\u001b[38;5;124m'\u001b[39m]),\n\u001b[0;32m    276\u001b[0m \t\t\t\t\tsol[\u001b[38;5;124m'\u001b[39m\u001b[38;5;124ms0/s\u001b[39m\u001b[38;5;124m'\u001b[39m]\u001b[38;5;241m-\u001b[39m\u001b[38;5;28mself\u001b[39m\u001b[38;5;241m.\u001b[39mBG\u001b[38;5;241m.\u001b[39ms0_s(B0 \u001b[38;5;241m=\u001b[39m solp[\u001b[38;5;124m'\u001b[39m\u001b[38;5;124mB0\u001b[39m\u001b[38;5;124m'\u001b[39m], Θs \u001b[38;5;241m=\u001b[39m sol[\u001b[38;5;124m'\u001b[39m\u001b[38;5;124mΘs\u001b[39m\u001b[38;5;124m'\u001b[39m], τp \u001b[38;5;241m=\u001b[39m solp[\u001b[38;5;124m'\u001b[39m\u001b[38;5;124mτ\u001b[39m\u001b[38;5;124m'\u001b[39m])])\n",
      "File \u001b[1;32m~\\Documents\\GitHub\\SSD\\py\\argentina_policy.py:290\u001b[0m, in \u001b[0;36mPEE.funcOfτ_t\u001b[1;34m(self, x, fp)\u001b[0m\n\u001b[0;32m    288\u001b[0m sol[\u001b[38;5;124m'\u001b[39m\u001b[38;5;124mΘs\u001b[39m\u001b[38;5;124m'\u001b[39m] \u001b[38;5;241m=\u001b[39m \u001b[38;5;28mself\u001b[39m\u001b[38;5;241m.\u001b[39mBG\u001b[38;5;241m.\u001b[39mΘs_t(Θh \u001b[38;5;241m=\u001b[39m sol[\u001b[38;5;124m'\u001b[39m\u001b[38;5;124mΘh\u001b[39m\u001b[38;5;124m'\u001b[39m], Γs \u001b[38;5;241m=\u001b[39m solp[\u001b[38;5;124m'\u001b[39m\u001b[38;5;124mΓs\u001b[39m\u001b[38;5;124m'\u001b[39m])\n\u001b[0;32m    289\u001b[0m \u001b[38;5;66;03m# sol['Θs']\t= self.BG.backOutΘs(s_ = sol['s[t-1]'], s = sol['s'])\u001b[39;00m\n\u001b[1;32m--> 290\u001b[0m \u001b[38;5;28;01mreturn\u001b[39;00m \u001b[38;5;28mself\u001b[39m\u001b[38;5;241m.\u001b[39mgetAuxVars_t(sol, solp), solp\n",
      "File \u001b[1;32m~\\Documents\\GitHub\\SSD\\py\\argentina_policy.py:297\u001b[0m, in \u001b[0;36mPEE.getAuxVars_t\u001b[1;34m(self, sol, solp)\u001b[0m\n\u001b[0;32m    295\u001b[0m sol[\u001b[38;5;124m'\u001b[39m\u001b[38;5;124mΓs\u001b[39m\u001b[38;5;124m'\u001b[39m]\t\u001b[38;5;241m=\u001b[39m \u001b[38;5;28mself\u001b[39m\u001b[38;5;241m.\u001b[39mBG\u001b[38;5;241m.\u001b[39mΓs(Bi \u001b[38;5;241m=\u001b[39m sol[\u001b[38;5;124m'\u001b[39m\u001b[38;5;124mBi\u001b[39m\u001b[38;5;124m'\u001b[39m], τp \u001b[38;5;241m=\u001b[39m sol[\u001b[38;5;124m'\u001b[39m\u001b[38;5;124mτ\u001b[39m\u001b[38;5;124m'\u001b[39m])\n\u001b[0;32m    296\u001b[0m sol[\u001b[38;5;124m'\u001b[39m\u001b[38;5;124msi/s\u001b[39m\u001b[38;5;124m'\u001b[39m]\t\u001b[38;5;241m=\u001b[39m \u001b[38;5;28mself\u001b[39m\u001b[38;5;241m.\u001b[39mBG\u001b[38;5;241m.\u001b[39msi_s(Bi \u001b[38;5;241m=\u001b[39m sol[\u001b[38;5;124m'\u001b[39m\u001b[38;5;124mBi\u001b[39m\u001b[38;5;124m'\u001b[39m], Γs \u001b[38;5;241m=\u001b[39m sol[\u001b[38;5;124m'\u001b[39m\u001b[38;5;124mΓs\u001b[39m\u001b[38;5;124m'\u001b[39m], τp \u001b[38;5;241m=\u001b[39m sol[\u001b[38;5;124m'\u001b[39m\u001b[38;5;124mτ\u001b[39m\u001b[38;5;124m'\u001b[39m])\n\u001b[1;32m--> 297\u001b[0m sol[\u001b[38;5;124m'\u001b[39m\u001b[38;5;124mΩ\u001b[39m\u001b[38;5;124m'\u001b[39m]\t\u001b[38;5;241m=\u001b[39m \u001b[38;5;28mself\u001b[39m\u001b[38;5;241m.\u001b[39mBG\u001b[38;5;241m.\u001b[39mΩ(Γs \u001b[38;5;241m=\u001b[39m solp[\u001b[38;5;124m'\u001b[39m\u001b[38;5;124mΓs\u001b[39m\u001b[38;5;124m'\u001b[39m], τp \u001b[38;5;241m=\u001b[39m solp[\u001b[38;5;124m'\u001b[39m\u001b[38;5;124mτ\u001b[39m\u001b[38;5;124m'\u001b[39m])\n\u001b[0;32m    298\u001b[0m sol[\u001b[38;5;124m'\u001b[39m\u001b[38;5;124mΨ\u001b[39m\u001b[38;5;124m'\u001b[39m]\t\u001b[38;5;241m=\u001b[39m \u001b[38;5;28mself\u001b[39m\u001b[38;5;241m.\u001b[39mBG\u001b[38;5;241m.\u001b[39mΨ(Bip \u001b[38;5;241m=\u001b[39m solp[\u001b[38;5;124m'\u001b[39m\u001b[38;5;124mBi\u001b[39m\u001b[38;5;124m'\u001b[39m], τp \u001b[38;5;241m=\u001b[39m solp[\u001b[38;5;124m'\u001b[39m\u001b[38;5;124mτ\u001b[39m\u001b[38;5;124m'\u001b[39m])\n\u001b[0;32m    299\u001b[0m sol[\u001b[38;5;124m'\u001b[39m\u001b[38;5;124mσ\u001b[39m\u001b[38;5;124m'\u001b[39m]\t\u001b[38;5;241m=\u001b[39m \u001b[38;5;28mself\u001b[39m\u001b[38;5;241m.\u001b[39mBG\u001b[38;5;241m.\u001b[39mσ(Ω \u001b[38;5;241m=\u001b[39m sol[\u001b[38;5;124m'\u001b[39m\u001b[38;5;124mΩ\u001b[39m\u001b[38;5;124m'\u001b[39m], Ψ \u001b[38;5;241m=\u001b[39m sol[\u001b[38;5;124m'\u001b[39m\u001b[38;5;124mΨ\u001b[39m\u001b[38;5;124m'\u001b[39m], dlnhp_dlns \u001b[38;5;241m=\u001b[39m solp[\u001b[38;5;124m'\u001b[39m\u001b[38;5;124m∂ln(h)/∂ln(s[t-1])\u001b[39m\u001b[38;5;124m'\u001b[39m], τp \u001b[38;5;241m=\u001b[39m solp[\u001b[38;5;124m'\u001b[39m\u001b[38;5;124mτ\u001b[39m\u001b[38;5;124m'\u001b[39m])\n",
      "File \u001b[1;32m~\\Documents\\GitHub\\SSD\\py\\argentina_base.py:99\u001b[0m, in \u001b[0;36mBaseScalar.Ω\u001b[1;34m(self, Γs, τp, t)\u001b[0m\n\u001b[0;32m     96\u001b[0m \t\u001b[38;5;28;01mreturn\u001b[39;00m \u001b[38;5;28mself\u001b[39m\u001b[38;5;241m.\u001b[39minteriorFOC(np\u001b[38;5;241m.\u001b[39mmatmul(v2i, \u001b[38;5;28mself\u001b[39m\u001b[38;5;241m.\u001b[39mget(\u001b[38;5;124m'\u001b[39m\u001b[38;5;124mγi[t-1]\u001b[39m\u001b[38;5;124m'\u001b[39m,t)\u001b[38;5;241m*\u001b[39m\u001b[38;5;28mself\u001b[39m\u001b[38;5;241m.\u001b[39mω2i(t))\u001b[38;5;241m+\u001b[39mv20\u001b[38;5;241m*\u001b[39m\u001b[38;5;28mself\u001b[39m\u001b[38;5;241m.\u001b[39mget(\u001b[38;5;124m'\u001b[39m\u001b[38;5;124mγ0[t-1]\u001b[39m\u001b[38;5;124m'\u001b[39m,t)\u001b[38;5;241m*\u001b[39m\u001b[38;5;28mself\u001b[39m\u001b[38;5;241m.\u001b[39mω20(t)\u001b[38;5;241m+\u001b[39m\u001b[38;5;28mself\u001b[39m\u001b[38;5;241m.\u001b[39mget(\u001b[38;5;124m'\u001b[39m\u001b[38;5;124mν\u001b[39m\u001b[38;5;124m'\u001b[39m,t)\u001b[38;5;241m*\u001b[39m(np\u001b[38;5;241m.\u001b[39mmatmul(v1i, \u001b[38;5;28mself\u001b[39m\u001b[38;5;241m.\u001b[39mget(\u001b[38;5;124m'\u001b[39m\u001b[38;5;124mγi\u001b[39m\u001b[38;5;124m'\u001b[39m,t)\u001b[38;5;241m*\u001b[39m\u001b[38;5;28mself\u001b[39m\u001b[38;5;241m.\u001b[39mω1i(t))\u001b[38;5;241m+\u001b[39mv10\u001b[38;5;241m*\u001b[39m\u001b[38;5;28mself\u001b[39m\u001b[38;5;241m.\u001b[39mget(\u001b[38;5;124m'\u001b[39m\u001b[38;5;124mγ0\u001b[39m\u001b[38;5;124m'\u001b[39m,t)\u001b[38;5;241m*\u001b[39m\u001b[38;5;28mself\u001b[39m\u001b[38;5;241m.\u001b[39mω10(t)), τ)\n\u001b[0;32m     98\u001b[0m \u001b[38;5;66;03m# Aux parameters:\u001b[39;00m\n\u001b[1;32m---> 99\u001b[0m \u001b[38;5;28;01mdef\u001b[39;00m \u001b[38;5;21mΩ\u001b[39m(\u001b[38;5;28mself\u001b[39m, Γs \u001b[38;5;241m=\u001b[39m \u001b[38;5;28;01mNone\u001b[39;00m, τp \u001b[38;5;241m=\u001b[39m \u001b[38;5;28;01mNone\u001b[39;00m, t \u001b[38;5;241m=\u001b[39m \u001b[38;5;28;01mNone\u001b[39;00m):\n\u001b[0;32m    100\u001b[0m \t\u001b[38;5;28;01mreturn\u001b[39;00m \u001b[38;5;28mself\u001b[39m\u001b[38;5;241m.\u001b[39mget(\u001b[38;5;124m'\u001b[39m\u001b[38;5;124mαr\u001b[39m\u001b[38;5;124m'\u001b[39m,t)\u001b[38;5;241m*\u001b[39m(\u001b[38;5;28mself\u001b[39m\u001b[38;5;241m.\u001b[39mget(\u001b[38;5;124m'\u001b[39m\u001b[38;5;124mp\u001b[39m\u001b[38;5;124m'\u001b[39m,t)\u001b[38;5;241m*\u001b[39m\u001b[38;5;28mself\u001b[39m\u001b[38;5;241m.\u001b[39mget(\u001b[38;5;124m'\u001b[39m\u001b[38;5;124mθ[t+1]\u001b[39m\u001b[38;5;124m'\u001b[39m,t)\u001b[38;5;241m/\u001b[39m\u001b[38;5;28mself\u001b[39m\u001b[38;5;241m.\u001b[39mget(\u001b[38;5;124m'\u001b[39m\u001b[38;5;124mκ\u001b[39m\u001b[38;5;124m'\u001b[39m,t))\u001b[38;5;241m*\u001b[39mΓs\u001b[38;5;241m/\u001b[39m(\u001b[38;5;28mself\u001b[39m\u001b[38;5;241m.\u001b[39mget(\u001b[38;5;124m'\u001b[39m\u001b[38;5;124mΓh\u001b[39m\u001b[38;5;124m'\u001b[39m,t)\u001b[38;5;241m-\u001b[39m(\u001b[38;5;28mself\u001b[39m\u001b[38;5;241m.\u001b[39mget(\u001b[38;5;124m'\u001b[39m\u001b[38;5;124mp\u001b[39m\u001b[38;5;124m'\u001b[39m,t)\u001b[38;5;241m*\u001b[39m\u001b[38;5;28mself\u001b[39m\u001b[38;5;241m.\u001b[39mget(\u001b[38;5;124m'\u001b[39m\u001b[38;5;124mθ[t+1]\u001b[39m\u001b[38;5;124m'\u001b[39m,t)\u001b[38;5;241m/\u001b[39m\u001b[38;5;28mself\u001b[39m\u001b[38;5;241m.\u001b[39mget(\u001b[38;5;124m'\u001b[39m\u001b[38;5;124mκ\u001b[39m\u001b[38;5;124m'\u001b[39m,t))\u001b[38;5;241m*\u001b[39mΓs\u001b[38;5;241m*\u001b[39mτp)\n\u001b[0;32m    101\u001b[0m \u001b[38;5;28;01mdef\u001b[39;00m \u001b[38;5;21mΨ\u001b[39m(\u001b[38;5;28mself\u001b[39m, Bip \u001b[38;5;241m=\u001b[39m \u001b[38;5;28;01mNone\u001b[39;00m, τp \u001b[38;5;241m=\u001b[39m \u001b[38;5;28;01mNone\u001b[39;00m, t \u001b[38;5;241m=\u001b[39m \u001b[38;5;28;01mNone\u001b[39;00m):\n",
      "\u001b[1;31mKeyboardInterrupt\u001b[0m: "
     ]
    }
   ],
   "source": [
    "for ρ in ρgrid[ρgrid<1]:\n",
    "    m2010.db.update(m2010.adjPar('ρ',ρ))\n",
    "    m2010.calibUpdateParameters(cals[ρ])\n",
    "    ϵTargs[ρ] = [m2010.db['eps'].xs(t0), m2010.getEps(coverageRate = 1), 1-m2010.db['θ'].xs(t0)]\n",
    "    ϵgrid_ρ = np.insert(ϵgrid, np.searchsorted(ϵgrid, ϵTargs[ρ]), ϵTargs[ρ])\n",
    "    m2010.PEE.x0 = {t: sols[ρ][t]['x_unbounded'] for t in m2010.db['t']}\n",
    "    m2010.PEE.x0[m2010.db['t'][-1]] = sols[ρ][m2010.db['t'][-1]]['τ_unbounded']\n",
    "    m2010.x0['EE_FH_PEE'] = np.hstack([adj.rc_pd(paths[ρ][k], m2010.db['t']).values for k in m2010.ns['EE_FH_PEE'].symbols])\n",
    "    for ϵ in ϵTargs[ρ]:\n",
    "        m2010.db.update(m2010.adjPar('eps',ϵ))\n",
    "        simPols[(ρ,ϵ)] = m2010.PEE.FH()\n",
    "        simPaths[(ρ,ϵ)] = m2010.EE_FH_PEE_solve(simPols[(ρ,ϵ)], z0 = [paths[ρ]['s[t-1]'][t0], paths[ρ]['s0/s[t-1]'][t0]])\n",
    "        print((ρ, ϵ))"
   ]
  },
  {
   "cell_type": "markdown",
   "id": "bb98aade-6188-4f8f-8b8c-0b1f8f8bb251",
   "metadata": {},
   "source": [
    "Jump in tax rate as a function of $\\rho$:"
   ]
  },
  {
   "cell_type": "code",
   "execution_count": 14,
   "id": "21fc3562-e1a1-4a16-ac2a-ffe81a06b46f",
   "metadata": {},
   "outputs": [],
   "source": [
    "k = 'τ'\n",
    "NewVals = np.array([simPaths[(ρ, ϵTargs[ρ][-1])][k].xs(t0) for ρ in ρgrid[ρgrid>=1]])\n",
    "Original = np.array([simPaths[(ρ, ϵTargs[ρ][0])][k].xs(t0) for ρ in ρgrid[ρgrid>=1]])"
   ]
  },
  {
   "cell_type": "code",
   "execution_count": 15,
   "id": "4059cfc7-8cb9-43ab-8f6a-f31214c671db",
   "metadata": {},
   "outputs": [
    {
     "data": {
      "text/plain": [
       "<Axes: >"
      ]
     },
     "execution_count": 15,
     "metadata": {},
     "output_type": "execute_result"
    },
    {
     "data": {
      "image/png": "[encoded data removed]",
      "text/plain": [
       "<Figure size 800x550 with 1 Axes>"
      ]
     },
     "metadata": {},
     "output_type": "display_data"
    }
   ],
   "source": [
    "pd.concat([pd.Series(NewVals, index = ρgrid[ρgrid>=1]), pd.Series(Original, index = ρgrid[ρgrid>=1])], axis = 1).plot()"
   ]
  },
  {
   "cell_type": "markdown",
   "id": "9c365681-9732-46aa-888a-55bfe026fa79",
   "metadata": {},
   "source": [
    "*1. Start run from previous solution:*"
   ]
  },
  {
   "cell_type": "code",
   "execution_count": 5,
   "id": "a2f55fa8-d482-436c-9b00-e51fbac86908",
   "metadata": {},
   "outputs": [],
   "source": [
    "# with open('argentina_CRRA_x0.pkl', \"rb\") as file:\n",
    "#     sols = pickle.load(file)\n",
    "# m.PEE.x0[m.T-1] = sols[m.T-1]['τ_unbounded']\n",
    "# [m.PEE.x0.__setitem__(t, sols[t]['x_unbounded']) for t in sols if t != m.T-1];"
   ]
  },
  {
   "cell_type": "markdown",
   "id": "bf7a8645-24ff-4cf5-8d66-851d98743d09",
   "metadata": {},
   "source": [
    "*2. Use LOG solution as initial values for the CRRA model:*"
   ]
  },
  {
   "cell_type": "code",
   "execution_count": 6,
   "id": "9a10b16a-3467-4960-bfe2-a9247af278fa",
   "metadata": {},
   "outputs": [],
   "source": [
    "m.PEE.interpInitialsFromLOG(sols_LOG, path_LOG)\n",
    "m.PEE.kwargs_t['x0_from_solp'] = False"
   ]
  },
  {
   "cell_type": "markdown",
   "id": "5253c024-a0cc-491b-80d6-e0353e92971c",
   "metadata": {},
   "source": [
    "*3. Start from small grid and interpolate to get \"large grid\" starting values:*"
   ]
  },
  {
   "cell_type": "code",
   "execution_count": 7,
   "id": "2526421c-90cf-4d16-b9ea-48b5c78f5fc0",
   "metadata": {},
   "outputs": [],
   "source": [
    "# m.PEE_initialsFromSmallGrid(10, 10);"
   ]
  },
  {
   "cell_type": "markdown",
   "id": "b82ba3ab-2638-4b0c-8ae3-fa48610def1f",
   "metadata": {},
   "source": [
    "Test solve:"
   ]
  },
  {
   "cell_type": "code",
   "execution_count": 8,
   "id": "fae4354c-9606-40da-bc35-59b04f490299",
   "metadata": {},
   "outputs": [],
   "source": [
    "sols_PEE = m.PEE.FH()\n",
    "PEE = m.EE_FH_PEE_solveRobust(sols_PEE)"
   ]
  },
  {
   "cell_type": "markdown",
   "id": "4be7db3b-a462-4d84-aa95-776d076e1e5e",
   "metadata": {},
   "source": [
    "*Save as pickle:*"
   ]
  },
  {
   "cell_type": "code",
   "execution_count": 9,
   "id": "8a7454bf-c940-418b-972a-c37ca29ece5c",
   "metadata": {},
   "outputs": [],
   "source": [
    "with open('argentina_CRRA_x0.pkl', \"wb\") as file: \n",
    "    pickle.dump(sols_PEE, file)"
   ]
  },
  {
   "cell_type": "markdown",
   "id": "236d5e5e-58e3-4e1f-854b-804c57eaaa21",
   "metadata": {},
   "source": [
    "Calibration:"
   ]
  },
  {
   "cell_type": "code",
   "execution_count": 10,
   "id": "37c88dd5-3596-4f10-8a2e-ddf0b058f482",
   "metadata": {},
   "outputs": [
    {
     "name": "stderr",
     "output_type": "stream",
     "text": [
      "C:\\Users\\sxj477\\AppData\\Local\\anaconda3\\envs\\SSD\\Lib\\site-packages\\scipy\\optimize\\_nonlin.py:374: RuntimeWarning: invalid value encountered in scalar divide\n",
      "  and dx_norm/self.x_rtol <= x_norm))\n",
      "C:\\Users\\sxj477\\AppData\\Local\\anaconda3\\envs\\SSD\\Lib\\site-packages\\scipy\\optimize\\_nonlin.py:374: RuntimeWarning: invalid value encountered in scalar divide\n",
      "  and dx_norm/self.x_rtol <= x_norm))\n",
      "C:\\Users\\sxj477\\AppData\\Local\\anaconda3\\envs\\SSD\\Lib\\site-packages\\scipy\\optimize\\_nonlin.py:374: RuntimeWarning: invalid value encountered in scalar divide\n",
      "  and dx_norm/self.x_rtol <= x_norm))\n",
      "C:\\Users\\sxj477\\AppData\\Local\\anaconda3\\envs\\SSD\\Lib\\site-packages\\scipy\\optimize\\_nonlin.py:374: RuntimeWarning: invalid value encountered in scalar divide\n",
      "  and dx_norm/self.x_rtol <= x_norm))\n",
      "C:\\Users\\sxj477\\AppData\\Local\\anaconda3\\envs\\SSD\\Lib\\site-packages\\scipy\\optimize\\_nonlin.py:374: RuntimeWarning: invalid value encountered in scalar divide\n",
      "  and dx_norm/self.x_rtol <= x_norm))\n",
      "C:\\Users\\sxj477\\AppData\\Local\\anaconda3\\envs\\SSD\\Lib\\site-packages\\scipy\\optimize\\_nonlin.py:374: RuntimeWarning: invalid value encountered in scalar divide\n",
      "  and dx_norm/self.x_rtol <= x_norm))\n",
      "C:\\Users\\sxj477\\AppData\\Local\\anaconda3\\envs\\SSD\\Lib\\site-packages\\scipy\\optimize\\_nonlin.py:374: RuntimeWarning: invalid value encountered in scalar divide\n",
      "  and dx_norm/self.x_rtol <= x_norm))\n",
      "C:\\Users\\sxj477\\AppData\\Local\\anaconda3\\envs\\SSD\\Lib\\site-packages\\scipy\\optimize\\_nonlin.py:374: RuntimeWarning: invalid value encountered in scalar divide\n",
      "  and dx_norm/self.x_rtol <= x_norm))\n",
      "C:\\Users\\sxj477\\AppData\\Local\\anaconda3\\envs\\SSD\\Lib\\site-packages\\scipy\\optimize\\_nonlin.py:374: RuntimeWarning: invalid value encountered in scalar divide\n",
      "  and dx_norm/self.x_rtol <= x_norm))\n",
      "C:\\Users\\sxj477\\AppData\\Local\\anaconda3\\envs\\SSD\\Lib\\site-packages\\scipy\\optimize\\_nonlin.py:374: RuntimeWarning: invalid value encountered in scalar divide\n",
      "  and dx_norm/self.x_rtol <= x_norm))\n",
      "C:\\Users\\sxj477\\AppData\\Local\\anaconda3\\envs\\SSD\\Lib\\site-packages\\scipy\\optimize\\_nonlin.py:374: RuntimeWarning: invalid value encountered in scalar divide\n",
      "  and dx_norm/self.x_rtol <= x_norm))\n",
      "C:\\Users\\sxj477\\AppData\\Local\\anaconda3\\envs\\SSD\\Lib\\site-packages\\scipy\\optimize\\_nonlin.py:374: RuntimeWarning: invalid value encountered in scalar divide\n",
      "  and dx_norm/self.x_rtol <= x_norm))\n",
      "C:\\Users\\sxj477\\AppData\\Local\\anaconda3\\envs\\SSD\\Lib\\site-packages\\scipy\\optimize\\_nonlin.py:374: RuntimeWarning: invalid value encountered in scalar divide\n",
      "  and dx_norm/self.x_rtol <= x_norm))\n",
      "C:\\Users\\sxj477\\AppData\\Local\\anaconda3\\envs\\SSD\\Lib\\site-packages\\scipy\\optimize\\_nonlin.py:374: RuntimeWarning: invalid value encountered in scalar divide\n",
      "  and dx_norm/self.x_rtol <= x_norm))\n",
      "C:\\Users\\sxj477\\AppData\\Local\\anaconda3\\envs\\SSD\\Lib\\site-packages\\scipy\\optimize\\_nonlin.py:374: RuntimeWarning: invalid value encountered in scalar divide\n",
      "  and dx_norm/self.x_rtol <= x_norm))\n",
      "C:\\Users\\sxj477\\AppData\\Local\\anaconda3\\envs\\SSD\\Lib\\site-packages\\scipy\\optimize\\_nonlin.py:374: RuntimeWarning: invalid value encountered in scalar divide\n",
      "  and dx_norm/self.x_rtol <= x_norm))\n",
      "C:\\Users\\sxj477\\AppData\\Local\\anaconda3\\envs\\SSD\\Lib\\site-packages\\scipy\\optimize\\_nonlin.py:374: RuntimeWarning: invalid value encountered in scalar divide\n",
      "  and dx_norm/self.x_rtol <= x_norm))\n",
      "C:\\Users\\sxj477\\AppData\\Local\\anaconda3\\envs\\SSD\\Lib\\site-packages\\scipy\\optimize\\_nonlin.py:374: RuntimeWarning: invalid value encountered in scalar divide\n",
      "  and dx_norm/self.x_rtol <= x_norm))\n",
      "C:\\Users\\sxj477\\AppData\\Local\\anaconda3\\envs\\SSD\\Lib\\site-packages\\scipy\\optimize\\_nonlin.py:374: RuntimeWarning: invalid value encountered in scalar divide\n",
      "  and dx_norm/self.x_rtol <= x_norm))\n",
      "C:\\Users\\sxj477\\AppData\\Local\\anaconda3\\envs\\SSD\\Lib\\site-packages\\scipy\\optimize\\_nonlin.py:374: RuntimeWarning: invalid value encountered in scalar divide\n",
      "  and dx_norm/self.x_rtol <= x_norm))\n",
      "C:\\Users\\sxj477\\AppData\\Local\\anaconda3\\envs\\SSD\\Lib\\site-packages\\scipy\\optimize\\_nonlin.py:374: RuntimeWarning: invalid value encountered in scalar divide\n",
      "  and dx_norm/self.x_rtol <= x_norm))\n",
      "C:\\Users\\sxj477\\AppData\\Local\\anaconda3\\envs\\SSD\\Lib\\site-packages\\scipy\\optimize\\_nonlin.py:374: RuntimeWarning: invalid value encountered in scalar divide\n",
      "  and dx_norm/self.x_rtol <= x_norm))\n",
      "C:\\Users\\sxj477\\AppData\\Local\\anaconda3\\envs\\SSD\\Lib\\site-packages\\scipy\\optimize\\_nonlin.py:374: RuntimeWarning: invalid value encountered in scalar divide\n",
      "  and dx_norm/self.x_rtol <= x_norm))\n",
      "C:\\Users\\sxj477\\AppData\\Local\\anaconda3\\envs\\SSD\\Lib\\site-packages\\scipy\\optimize\\_nonlin.py:374: RuntimeWarning: invalid value encountered in scalar divide\n",
      "  and dx_norm/self.x_rtol <= x_norm))\n",
      "C:\\Users\\sxj477\\AppData\\Local\\anaconda3\\envs\\SSD\\Lib\\site-packages\\scipy\\optimize\\_nonlin.py:374: RuntimeWarning: invalid value encountered in scalar divide\n",
      "  and dx_norm/self.x_rtol <= x_norm))\n",
      "C:\\Users\\sxj477\\AppData\\Local\\anaconda3\\envs\\SSD\\Lib\\site-packages\\scipy\\optimize\\_nonlin.py:374: RuntimeWarning: invalid value encountered in scalar divide\n",
      "  and dx_norm/self.x_rtol <= x_norm))\n",
      "C:\\Users\\sxj477\\AppData\\Local\\anaconda3\\envs\\SSD\\Lib\\site-packages\\scipy\\optimize\\_nonlin.py:374: RuntimeWarning: invalid value encountered in scalar divide\n",
      "  and dx_norm/self.x_rtol <= x_norm))\n",
      "C:\\Users\\sxj477\\AppData\\Local\\anaconda3\\envs\\SSD\\Lib\\site-packages\\scipy\\optimize\\_nonlin.py:374: RuntimeWarning: invalid value encountered in scalar divide\n",
      "  and dx_norm/self.x_rtol <= x_norm))\n",
      "C:\\Users\\sxj477\\AppData\\Local\\anaconda3\\envs\\SSD\\Lib\\site-packages\\scipy\\optimize\\_nonlin.py:374: RuntimeWarning: invalid value encountered in scalar divide\n",
      "  and dx_norm/self.x_rtol <= x_norm))\n",
      "C:\\Users\\sxj477\\AppData\\Local\\anaconda3\\envs\\SSD\\Lib\\site-packages\\scipy\\optimize\\_nonlin.py:374: RuntimeWarning: invalid value encountered in scalar divide\n",
      "  and dx_norm/self.x_rtol <= x_norm))\n",
      "C:\\Users\\sxj477\\AppData\\Local\\anaconda3\\envs\\SSD\\Lib\\site-packages\\scipy\\optimize\\_nonlin.py:374: RuntimeWarning: invalid value encountered in scalar divide\n",
      "  and dx_norm/self.x_rtol <= x_norm))\n",
      "C:\\Users\\sxj477\\AppData\\Local\\anaconda3\\envs\\SSD\\Lib\\site-packages\\scipy\\optimize\\_nonlin.py:374: RuntimeWarning: invalid value encountered in scalar divide\n",
      "  and dx_norm/self.x_rtol <= x_norm))\n",
      "C:\\Users\\sxj477\\AppData\\Local\\anaconda3\\envs\\SSD\\Lib\\site-packages\\scipy\\optimize\\_nonlin.py:374: RuntimeWarning: invalid value encountered in scalar divide\n",
      "  and dx_norm/self.x_rtol <= x_norm))\n",
      "C:\\Users\\sxj477\\AppData\\Local\\anaconda3\\envs\\SSD\\Lib\\site-packages\\scipy\\optimize\\_nonlin.py:374: RuntimeWarning: invalid value encountered in scalar divide\n",
      "  and dx_norm/self.x_rtol <= x_norm))\n",
      "C:\\Users\\sxj477\\AppData\\Local\\anaconda3\\envs\\SSD\\Lib\\site-packages\\scipy\\optimize\\_nonlin.py:374: RuntimeWarning: invalid value encountered in scalar divide\n",
      "  and dx_norm/self.x_rtol <= x_norm))\n",
      "C:\\Users\\sxj477\\AppData\\Local\\anaconda3\\envs\\SSD\\Lib\\site-packages\\scipy\\optimize\\_nonlin.py:374: RuntimeWarning: invalid value encountered in scalar divide\n",
      "  and dx_norm/self.x_rtol <= x_norm))\n",
      "C:\\Users\\sxj477\\AppData\\Local\\anaconda3\\envs\\SSD\\Lib\\site-packages\\scipy\\optimize\\_nonlin.py:374: RuntimeWarning: invalid value encountered in scalar divide\n",
      "  and dx_norm/self.x_rtol <= x_norm))\n",
      "C:\\Users\\sxj477\\AppData\\Local\\anaconda3\\envs\\SSD\\Lib\\site-packages\\scipy\\optimize\\_nonlin.py:374: RuntimeWarning: invalid value encountered in scalar divide\n",
      "  and dx_norm/self.x_rtol <= x_norm))\n",
      "C:\\Users\\sxj477\\AppData\\Local\\anaconda3\\envs\\SSD\\Lib\\site-packages\\scipy\\optimize\\_nonlin.py:374: RuntimeWarning: invalid value encountered in scalar divide\n",
      "  and dx_norm/self.x_rtol <= x_norm))\n",
      "C:\\Users\\sxj477\\AppData\\Local\\anaconda3\\envs\\SSD\\Lib\\site-packages\\scipy\\optimize\\_nonlin.py:374: RuntimeWarning: invalid value encountered in scalar divide\n",
      "  and dx_norm/self.x_rtol <= x_norm))\n",
      "C:\\Users\\sxj477\\AppData\\Local\\anaconda3\\envs\\SSD\\Lib\\site-packages\\scipy\\optimize\\_nonlin.py:374: RuntimeWarning: invalid value encountered in scalar divide\n",
      "  and dx_norm/self.x_rtol <= x_norm))\n",
      "C:\\Users\\sxj477\\AppData\\Local\\anaconda3\\envs\\SSD\\Lib\\site-packages\\scipy\\optimize\\_nonlin.py:374: RuntimeWarning: invalid value encountered in scalar divide\n",
      "  and dx_norm/self.x_rtol <= x_norm))\n",
      "C:\\Users\\sxj477\\AppData\\Local\\anaconda3\\envs\\SSD\\Lib\\site-packages\\scipy\\optimize\\_nonlin.py:374: RuntimeWarning: invalid value encountered in scalar divide\n",
      "  and dx_norm/self.x_rtol <= x_norm))\n",
      "C:\\Users\\sxj477\\AppData\\Local\\anaconda3\\envs\\SSD\\Lib\\site-packages\\scipy\\optimize\\_nonlin.py:374: RuntimeWarning: invalid value encountered in scalar divide\n",
      "  and dx_norm/self.x_rtol <= x_norm))\n",
      "C:\\Users\\sxj477\\AppData\\Local\\anaconda3\\envs\\SSD\\Lib\\site-packages\\scipy\\optimize\\_nonlin.py:374: RuntimeWarning: invalid value encountered in scalar divide\n",
      "  and dx_norm/self.x_rtol <= x_norm))\n",
      "C:\\Users\\sxj477\\AppData\\Local\\anaconda3\\envs\\SSD\\Lib\\site-packages\\scipy\\optimize\\_nonlin.py:374: RuntimeWarning: invalid value encountered in scalar divide\n",
      "  and dx_norm/self.x_rtol <= x_norm))\n",
      "C:\\Users\\sxj477\\AppData\\Local\\anaconda3\\envs\\SSD\\Lib\\site-packages\\scipy\\optimize\\_nonlin.py:374: RuntimeWarning: invalid value encountered in scalar divide\n",
      "  and dx_norm/self.x_rtol <= x_norm))\n",
      "C:\\Users\\sxj477\\AppData\\Local\\anaconda3\\envs\\SSD\\Lib\\site-packages\\scipy\\optimize\\_nonlin.py:374: RuntimeWarning: invalid value encountered in scalar divide\n",
      "  and dx_norm/self.x_rtol <= x_norm))\n",
      "C:\\Users\\sxj477\\AppData\\Local\\anaconda3\\envs\\SSD\\Lib\\site-packages\\scipy\\optimize\\_nonlin.py:374: RuntimeWarning: invalid value encountered in scalar divide\n",
      "  and dx_norm/self.x_rtol <= x_norm))\n",
      "C:\\Users\\sxj477\\AppData\\Local\\anaconda3\\envs\\SSD\\Lib\\site-packages\\scipy\\optimize\\_nonlin.py:374: RuntimeWarning: invalid value encountered in scalar divide\n",
      "  and dx_norm/self.x_rtol <= x_norm))\n",
      "C:\\Users\\sxj477\\AppData\\Local\\anaconda3\\envs\\SSD\\Lib\\site-packages\\scipy\\optimize\\_nonlin.py:374: RuntimeWarning: invalid value encountered in scalar divide\n",
      "  and dx_norm/self.x_rtol <= x_norm))\n",
      "C:\\Users\\sxj477\\AppData\\Local\\anaconda3\\envs\\SSD\\Lib\\site-packages\\scipy\\optimize\\_nonlin.py:374: RuntimeWarning: invalid value encountered in scalar divide\n",
      "  and dx_norm/self.x_rtol <= x_norm))\n",
      "C:\\Users\\sxj477\\AppData\\Local\\anaconda3\\envs\\SSD\\Lib\\site-packages\\scipy\\optimize\\_nonlin.py:374: RuntimeWarning: invalid value encountered in scalar divide\n",
      "  and dx_norm/self.x_rtol <= x_norm))\n",
      "C:\\Users\\sxj477\\AppData\\Local\\anaconda3\\envs\\SSD\\Lib\\site-packages\\scipy\\optimize\\_nonlin.py:374: RuntimeWarning: invalid value encountered in scalar divide\n",
      "  and dx_norm/self.x_rtol <= x_norm))\n",
      "C:\\Users\\sxj477\\AppData\\Local\\anaconda3\\envs\\SSD\\Lib\\site-packages\\scipy\\optimize\\_nonlin.py:374: RuntimeWarning: invalid value encountered in scalar divide\n",
      "  and dx_norm/self.x_rtol <= x_norm))\n",
      "C:\\Users\\sxj477\\AppData\\Local\\anaconda3\\envs\\SSD\\Lib\\site-packages\\scipy\\optimize\\_nonlin.py:374: RuntimeWarning: invalid value encountered in scalar divide\n",
      "  and dx_norm/self.x_rtol <= x_norm))\n",
      "C:\\Users\\sxj477\\AppData\\Local\\anaconda3\\envs\\SSD\\Lib\\site-packages\\scipy\\optimize\\_nonlin.py:374: RuntimeWarning: invalid value encountered in scalar divide\n",
      "  and dx_norm/self.x_rtol <= x_norm))\n",
      "C:\\Users\\sxj477\\AppData\\Local\\anaconda3\\envs\\SSD\\Lib\\site-packages\\scipy\\optimize\\_nonlin.py:374: RuntimeWarning: invalid value encountered in scalar divide\n",
      "  and dx_norm/self.x_rtol <= x_norm))\n",
      "C:\\Users\\sxj477\\AppData\\Local\\anaconda3\\envs\\SSD\\Lib\\site-packages\\scipy\\optimize\\_nonlin.py:374: RuntimeWarning: invalid value encountered in scalar divide\n",
      "  and dx_norm/self.x_rtol <= x_norm))\n",
      "C:\\Users\\sxj477\\AppData\\Local\\anaconda3\\envs\\SSD\\Lib\\site-packages\\scipy\\optimize\\_nonlin.py:374: RuntimeWarning: invalid value encountered in scalar divide\n",
      "  and dx_norm/self.x_rtol <= x_norm))\n",
      "C:\\Users\\sxj477\\AppData\\Local\\anaconda3\\envs\\SSD\\Lib\\site-packages\\scipy\\optimize\\_nonlin.py:374: RuntimeWarning: invalid value encountered in scalar divide\n",
      "  and dx_norm/self.x_rtol <= x_norm))\n",
      "C:\\Users\\sxj477\\AppData\\Local\\anaconda3\\envs\\SSD\\Lib\\site-packages\\scipy\\optimize\\_nonlin.py:374: RuntimeWarning: invalid value encountered in scalar divide\n",
      "  and dx_norm/self.x_rtol <= x_norm))\n",
      "C:\\Users\\sxj477\\AppData\\Local\\anaconda3\\envs\\SSD\\Lib\\site-packages\\scipy\\optimize\\_nonlin.py:374: RuntimeWarning: invalid value encountered in scalar divide\n",
      "  and dx_norm/self.x_rtol <= x_norm))\n",
      "C:\\Users\\sxj477\\AppData\\Local\\anaconda3\\envs\\SSD\\Lib\\site-packages\\scipy\\optimize\\_nonlin.py:374: RuntimeWarning: invalid value encountered in scalar divide\n",
      "  and dx_norm/self.x_rtol <= x_norm))\n",
      "C:\\Users\\sxj477\\AppData\\Local\\anaconda3\\envs\\SSD\\Lib\\site-packages\\scipy\\optimize\\_nonlin.py:374: RuntimeWarning: invalid value encountered in scalar divide\n",
      "  and dx_norm/self.x_rtol <= x_norm))\n",
      "C:\\Users\\sxj477\\AppData\\Local\\anaconda3\\envs\\SSD\\Lib\\site-packages\\scipy\\optimize\\_nonlin.py:374: RuntimeWarning: invalid value encountered in scalar divide\n",
      "  and dx_norm/self.x_rtol <= x_norm))\n",
      "C:\\Users\\sxj477\\AppData\\Local\\anaconda3\\envs\\SSD\\Lib\\site-packages\\scipy\\optimize\\_nonlin.py:374: RuntimeWarning: invalid value encountered in scalar divide\n",
      "  and dx_norm/self.x_rtol <= x_norm))\n",
      "C:\\Users\\sxj477\\AppData\\Local\\anaconda3\\envs\\SSD\\Lib\\site-packages\\scipy\\optimize\\_nonlin.py:374: RuntimeWarning: invalid value encountered in scalar divide\n",
      "  and dx_norm/self.x_rtol <= x_norm))\n",
      "C:\\Users\\sxj477\\AppData\\Local\\anaconda3\\envs\\SSD\\Lib\\site-packages\\scipy\\optimize\\_nonlin.py:374: RuntimeWarning: invalid value encountered in scalar divide\n",
      "  and dx_norm/self.x_rtol <= x_norm))\n",
      "C:\\Users\\sxj477\\AppData\\Local\\anaconda3\\envs\\SSD\\Lib\\site-packages\\scipy\\optimize\\_nonlin.py:374: RuntimeWarning: invalid value encountered in scalar divide\n",
      "  and dx_norm/self.x_rtol <= x_norm))\n",
      "C:\\Users\\sxj477\\AppData\\Local\\anaconda3\\envs\\SSD\\Lib\\site-packages\\scipy\\optimize\\_nonlin.py:374: RuntimeWarning: invalid value encountered in scalar divide\n",
      "  and dx_norm/self.x_rtol <= x_norm))\n",
      "C:\\Users\\sxj477\\AppData\\Local\\anaconda3\\envs\\SSD\\Lib\\site-packages\\scipy\\optimize\\_nonlin.py:374: RuntimeWarning: invalid value encountered in scalar divide\n",
      "  and dx_norm/self.x_rtol <= x_norm))\n",
      "C:\\Users\\sxj477\\AppData\\Local\\anaconda3\\envs\\SSD\\Lib\\site-packages\\scipy\\optimize\\_nonlin.py:374: RuntimeWarning: invalid value encountered in scalar divide\n",
      "  and dx_norm/self.x_rtol <= x_norm))\n",
      "C:\\Users\\sxj477\\AppData\\Local\\anaconda3\\envs\\SSD\\Lib\\site-packages\\scipy\\optimize\\_nonlin.py:374: RuntimeWarning: invalid value encountered in scalar divide\n",
      "  and dx_norm/self.x_rtol <= x_norm))\n",
      "C:\\Users\\sxj477\\AppData\\Local\\anaconda3\\envs\\SSD\\Lib\\site-packages\\scipy\\optimize\\_nonlin.py:374: RuntimeWarning: invalid value encountered in scalar divide\n",
      "  and dx_norm/self.x_rtol <= x_norm))\n",
      "C:\\Users\\sxj477\\AppData\\Local\\anaconda3\\envs\\SSD\\Lib\\site-packages\\scipy\\optimize\\_nonlin.py:374: RuntimeWarning: invalid value encountered in scalar divide\n",
      "  and dx_norm/self.x_rtol <= x_norm))\n",
      "C:\\Users\\sxj477\\AppData\\Local\\anaconda3\\envs\\SSD\\Lib\\site-packages\\scipy\\optimize\\_nonlin.py:374: RuntimeWarning: invalid value encountered in scalar divide\n",
      "  and dx_norm/self.x_rtol <= x_norm))\n",
      "C:\\Users\\sxj477\\AppData\\Local\\anaconda3\\envs\\SSD\\Lib\\site-packages\\scipy\\optimize\\_nonlin.py:374: RuntimeWarning: invalid value encountered in scalar divide\n",
      "  and dx_norm/self.x_rtol <= x_norm))\n",
      "C:\\Users\\sxj477\\AppData\\Local\\anaconda3\\envs\\SSD\\Lib\\site-packages\\scipy\\optimize\\_nonlin.py:374: RuntimeWarning: invalid value encountered in scalar divide\n",
      "  and dx_norm/self.x_rtol <= x_norm))\n",
      "C:\\Users\\sxj477\\AppData\\Local\\anaconda3\\envs\\SSD\\Lib\\site-packages\\scipy\\optimize\\_nonlin.py:374: RuntimeWarning: invalid value encountered in scalar divide\n",
      "  and dx_norm/self.x_rtol <= x_norm))\n",
      "C:\\Users\\sxj477\\AppData\\Local\\anaconda3\\envs\\SSD\\Lib\\site-packages\\scipy\\optimize\\_nonlin.py:374: RuntimeWarning: invalid value encountered in scalar divide\n",
      "  and dx_norm/self.x_rtol <= x_norm))\n",
      "C:\\Users\\sxj477\\AppData\\Local\\anaconda3\\envs\\SSD\\Lib\\site-packages\\scipy\\optimize\\_nonlin.py:374: RuntimeWarning: invalid value encountered in scalar divide\n",
      "  and dx_norm/self.x_rtol <= x_norm))\n",
      "C:\\Users\\sxj477\\AppData\\Local\\anaconda3\\envs\\SSD\\Lib\\site-packages\\scipy\\optimize\\_nonlin.py:374: RuntimeWarning: invalid value encountered in scalar divide\n",
      "  and dx_norm/self.x_rtol <= x_norm))\n",
      "C:\\Users\\sxj477\\AppData\\Local\\anaconda3\\envs\\SSD\\Lib\\site-packages\\scipy\\optimize\\_nonlin.py:374: RuntimeWarning: invalid value encountered in scalar divide\n",
      "  and dx_norm/self.x_rtol <= x_norm))\n",
      "C:\\Users\\sxj477\\AppData\\Local\\anaconda3\\envs\\SSD\\Lib\\site-packages\\scipy\\optimize\\_nonlin.py:374: RuntimeWarning: invalid value encountered in scalar divide\n",
      "  and dx_norm/self.x_rtol <= x_norm))\n",
      "C:\\Users\\sxj477\\AppData\\Local\\anaconda3\\envs\\SSD\\Lib\\site-packages\\scipy\\optimize\\_nonlin.py:374: RuntimeWarning: invalid value encountered in scalar divide\n",
      "  and dx_norm/self.x_rtol <= x_norm))\n",
      "C:\\Users\\sxj477\\AppData\\Local\\anaconda3\\envs\\SSD\\Lib\\site-packages\\scipy\\optimize\\_nonlin.py:374: RuntimeWarning: invalid value encountered in scalar divide\n",
      "  and dx_norm/self.x_rtol <= x_norm))\n",
      "C:\\Users\\sxj477\\AppData\\Local\\anaconda3\\envs\\SSD\\Lib\\site-packages\\scipy\\optimize\\_nonlin.py:374: RuntimeWarning: invalid value encountered in scalar divide\n",
      "  and dx_norm/self.x_rtol <= x_norm))\n",
      "C:\\Users\\sxj477\\AppData\\Local\\anaconda3\\envs\\SSD\\Lib\\site-packages\\scipy\\optimize\\_nonlin.py:374: RuntimeWarning: invalid value encountered in scalar divide\n",
      "  and dx_norm/self.x_rtol <= x_norm))\n",
      "C:\\Users\\sxj477\\AppData\\Local\\anaconda3\\envs\\SSD\\Lib\\site-packages\\scipy\\optimize\\_nonlin.py:374: RuntimeWarning: invalid value encountered in scalar divide\n",
      "  and dx_norm/self.x_rtol <= x_norm))\n",
      "C:\\Users\\sxj477\\AppData\\Local\\anaconda3\\envs\\SSD\\Lib\\site-packages\\scipy\\optimize\\_nonlin.py:374: RuntimeWarning: invalid value encountered in scalar divide\n",
      "  and dx_norm/self.x_rtol <= x_norm))\n",
      "C:\\Users\\sxj477\\AppData\\Local\\anaconda3\\envs\\SSD\\Lib\\site-packages\\scipy\\optimize\\_nonlin.py:374: RuntimeWarning: invalid value encountered in scalar divide\n",
      "  and dx_norm/self.x_rtol <= x_norm))\n",
      "C:\\Users\\sxj477\\AppData\\Local\\anaconda3\\envs\\SSD\\Lib\\site-packages\\scipy\\optimize\\_nonlin.py:374: RuntimeWarning: invalid value encountered in scalar divide\n",
      "  and dx_norm/self.x_rtol <= x_norm))\n",
      "C:\\Users\\sxj477\\AppData\\Local\\anaconda3\\envs\\SSD\\Lib\\site-packages\\scipy\\optimize\\_nonlin.py:374: RuntimeWarning: invalid value encountered in scalar divide\n",
      "  and dx_norm/self.x_rtol <= x_norm))\n",
      "C:\\Users\\sxj477\\AppData\\Local\\anaconda3\\envs\\SSD\\Lib\\site-packages\\scipy\\optimize\\_nonlin.py:374: RuntimeWarning: invalid value encountered in scalar divide\n",
      "  and dx_norm/self.x_rtol <= x_norm))\n",
      "C:\\Users\\sxj477\\AppData\\Local\\anaconda3\\envs\\SSD\\Lib\\site-packages\\scipy\\optimize\\_nonlin.py:374: RuntimeWarning: invalid value encountered in scalar divide\n",
      "  and dx_norm/self.x_rtol <= x_norm))\n",
      "C:\\Users\\sxj477\\AppData\\Local\\anaconda3\\envs\\SSD\\Lib\\site-packages\\scipy\\optimize\\_nonlin.py:374: RuntimeWarning: invalid value encountered in scalar divide\n",
      "  and dx_norm/self.x_rtol <= x_norm))\n",
      "C:\\Users\\sxj477\\AppData\\Local\\anaconda3\\envs\\SSD\\Lib\\site-packages\\scipy\\optimize\\_nonlin.py:374: RuntimeWarning: invalid value encountered in scalar divide\n",
      "  and dx_norm/self.x_rtol <= x_norm))\n",
      "C:\\Users\\sxj477\\AppData\\Local\\anaconda3\\envs\\SSD\\Lib\\site-packages\\scipy\\optimize\\_nonlin.py:374: RuntimeWarning: invalid value encountered in scalar divide\n",
      "  and dx_norm/self.x_rtol <= x_norm))\n"
     ]
    }
   ],
   "source": [
    "m.calibPEE();"
   ]
  },
  {
   "cell_type": "markdown",
   "id": "c948de69-2a23-4318-80ae-7e36b30dcf49",
   "metadata": {},
   "source": [
    "Loop through values of $\\rho$, store calibration parameters, "
   ]
  }
 ],
 "metadata": {
  "kernelspec": {
   "display_name": "Python 3 (ipykernel)",
   "language": "python",
   "name": "python3"
  },
  "language_info": {
   "codemirror_mode": {
    "name": "ipython",
    "version": 3
   },
   "file_extension": ".py",
   "mimetype": "text/x-python",
   "name": "python",
   "nbconvert_exporter": "python",
   "pygments_lexer": "ipython3",
   "version": "3.12.4"
  }
 },
 "nbformat": 4,
 "nbformat_minor": 5
}
