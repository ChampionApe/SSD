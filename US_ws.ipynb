{
 "cells": [
  {
   "cell_type": "code",
   "execution_count": 1,
   "id": "cb8ff488-6b1f-475b-b480-df668f919a80",
   "metadata": {},
   "outputs": [],
   "source": [
    "%run stdPackages.ipynb\n",
    "os.chdir(d['py'])\n",
    "import CRRA_US_ws\n",
    "os.chdir(d['curr'])"
   ]
  },
  {
   "cell_type": "markdown",
   "id": "17cafeb4-3cca-4359-819b-a41989453165",
   "metadata": {},
   "source": [
    "Data:"
   ]
  },
  {
   "cell_type": "code",
   "execution_count": 2,
   "id": "a6133487-95b5-42dc-a23d-e2cff316a5c1",
   "metadata": {
    "tags": []
   },
   "outputs": [],
   "source": [
    "dates_log = pd.Index([1950, 1980, 2010, 2040, 2070, 2100], name = 't')\n",
    "ν_log = np.array([1.504840069, 1.394563144, 1.178137696, 1.055068673, 1.018706685, 1.018706685])\n",
    "T_log = len(ν_log)\n",
    "T = T_log+3\n",
    "dates = dates_log.union(pd.Index([dates_log[-1]+30*i for i in range(1,T-T_log+1)]))\n",
    "ν = np.hstack([ν_log, np.full(T-T_log, ν_log[-1])])\n",
    "A = np.ones(T) # normalize exog. productivity at 1 \n",
    "t0date = 2010 # calibration date\n",
    "t0 = dates.get_loc(t0date) # index for year of calibration \n",
    "\n",
    "\n",
    "# \"Simple\" calibration:\n",
    "α = .281 # capital income share\n",
    "\n",
    "# Household types:\n",
    "γj  = np.array([.056, 0.449, 0.307, 0.188])\n",
    "ni = len(γj)-1\n",
    "hours = np.array([1415.38, 2114.79, 2315.83, 2458.91]) # hours\n",
    "wagerates = np.array([6.914, 14.88, 27.32, 62.26]) # wages\n",
    "income = hours*wagerates\n",
    "zxj = hours/hours[1:].mean()\n",
    "zηj = income/income[1:].mean()\n",
    "pj = np.array([0.385, 0.55, 0.652, 0.74])\n",
    "μj = np.array([0.362, 0.526, 0.684, 0.756]) # voter turnout \n",
    "\n",
    "\n",
    "# other targets:\n",
    "τ0 = .158 # target labor tax rate\n",
    "RR = 39.4/50.1 # replacement rate\n",
    "universalShare = 3.4/15.8 # share of ss going to universal\n",
    "R0 = 2.443 \n",
    "\n",
    "\n",
    "# Initial/baseline values:\n",
    "ξ0 = .35\n",
    "ρ0 = 1.2\n",
    "ω0 = 1.5\n",
    "# βj = np.ones(ni+1)"
   ]
  },
  {
   "cell_type": "markdown",
   "id": "9d985eeb-a7f1-466b-a7c0-c3eea6739cda",
   "metadata": {},
   "source": [
    "*Store in kwargs*:"
   ]
  },
  {
   "cell_type": "code",
   "execution_count": 3,
   "id": "4bd7d61b-7a1d-44c1-a2f1-e25615855730",
   "metadata": {},
   "outputs": [],
   "source": [
    "kwargs = {'α': α, 'A': A, 'ν': ν, 'γj': γj, 'zxj': zxj, 'zηj': zηj, 'pj': pj, 'μj': μj, 'τ0': τ0, 'RR0': RR, 'UShare0': universalShare, 'R0': R0, 'ξ': ξ0, 'ρ': ρ0, 'ω': ω0}"
   ]
  },
  {
   "cell_type": "markdown",
   "id": "07db429c-3fc7-40ba-8599-bbda41bc8678",
   "metadata": {
    "tags": []
   },
   "source": [
    "## 2. Initialize "
   ]
  },
  {
   "cell_type": "markdown",
   "id": "cb2c95ec-89f1-4b55-b7b4-88f3d62a9df4",
   "metadata": {},
   "source": [
    "Define grid settings, create grid, and initialize model:"
   ]
  },
  {
   "cell_type": "code",
   "execution_count": 4,
   "id": "ee414f7a-d390-40e8-853f-94f68361c45b",
   "metadata": {},
   "outputs": [],
   "source": [
    "ngrid = 50 # number of gridpoints in the savings grid\n",
    "_min = 1e-4 # use as \"small\" number instead of 0\n",
    "exp = 1 # nonlinearity in grid, exp>1 increases number of gridpoints in the lower end of the grid\n",
    "m = CRRA_US_ws.Model(ni = ni, T = T, ngrid = ngrid, **kwargs)\n",
    "mOld = CRRA_US.infHorizon(ni = ni, T = T, ngrid = ngrid, **kwargs)\n",
    "sGrid = CRRA_US.polGrid(_min, mOld.solve_ss(0,0,0,ν[-1])['s'], mOld.ngrid, exp)"
   ]
  },
  {
   "cell_type": "markdown",
   "id": "31c0872c-2ce9-46fd-b616-5c6edb658273",
   "metadata": {},
   "source": [
    "### TEST POLICY:"
   ]
  },
  {
   "cell_type": "markdown",
   "id": "9f74c082-3308-41d6-a9d3-c2c2123d6b24",
   "metadata": {},
   "source": [
    "PEE policy:"
   ]
  },
  {
   "cell_type": "code",
   "execution_count": 5,
   "id": "9c1093f9-4f8c-4535-8665-8623b1fc706c",
   "metadata": {},
   "outputs": [],
   "source": [
    "sol_PEE, pol_PEE = m.solve_PEE_FH(sGrid, returnPols = True)"
   ]
  },
  {
   "cell_type": "markdown",
   "id": "704842a2-a103-4e12-ba65-09f758f1adb0",
   "metadata": {},
   "source": [
    "ESC policy:"
   ]
  },
  {
   "cell_type": "code",
   "execution_count": 6,
   "id": "4e97d529-f3ea-49dc-9a8d-e09e6f99629b",
   "metadata": {},
   "outputs": [],
   "source": [
    "# sol_ESC, pol_ESC = m.solve_ESC_FH(sGrid, returnPols = True)"
   ]
  },
  {
   "cell_type": "code",
   "execution_count": null,
   "id": "7b53941d-db21-4f19-85da-0f459e80f004",
   "metadata": {},
   "outputs": [],
   "source": [
    "sol_ESC"
   ]
  },
  {
   "cell_type": "markdown",
   "id": "7d0afc55-73e1-4eaa-a5b1-3455966b2233",
   "metadata": {},
   "source": [
    "### Test ESC policy:"
   ]
  },
  {
   "cell_type": "code",
   "execution_count": 8,
   "id": "baefb7b3-2c73-4eef-b181-6528ed2b929f",
   "metadata": {},
   "outputs": [],
   "source": [
    "self = m\n",
    "ν = ν[-1]"
   ]
  },
  {
   "cell_type": "code",
   "execution_count": 9,
   "id": "18daf140-6426-43f2-9083-18140b98d463",
   "metadata": {},
   "outputs": [],
   "source": [
    "i = 49\n",
    "s = np.full(self.ngrid, sGrid[i])\n",
    "τg, θg, epsg = np.full(self.ngrid, pol_PEE[self.T-1]['τ']), np.full(self.ngrid, m.db['θ'].values[-1]), np.full(self.ngrid, m.db['eps'].values[-1])\n",
    "τ = np.linspace(-.2, 1, self.ngrid)\n",
    "θ = np.linspace(-.2, 1, self.ngrid)\n",
    "eps = np.linspace(-.2,1,self.ngrid)\n",
    "sol= self.PEE_precomputations_T(s)"
   ]
  },
  {
   "cell_type": "markdown",
   "id": "e18b31ad-5798-4150-be49-d247cca30a6d",
   "metadata": {},
   "source": [
    "Effect on $\\tau$:"
   ]
  },
  {
   "cell_type": "code",
   "execution_count": 10,
   "id": "0472e45e-5ae9-4ffb-8929-d4fff3b51905",
   "metadata": {},
   "outputs": [
    {
     "data": {
      "image/png": "[encoded data removed]",
      "text/plain": [
       "<Figure size 400x300 with 1 Axes>"
      ]
     },
     "metadata": {},
     "output_type": "display_data"
    }
   ],
   "source": [
    "x = self.ESC_polObjVec_T(τ, θg, epsg, ν, sol)\n",
    "τVals   = self(x, 'τ', ns = 'ESC[t]')\n",
    "θVals   = self(x, 'θ', ns = 'ESC[t]')\n",
    "epsVals = self(x, 'eps', ns = 'ESC[t]')\n",
    "pd.Series(τVals).plot(figsize=(4,3));"
   ]
  },
  {
   "cell_type": "markdown",
   "id": "f7b8ce2c-edd7-4ef1-830c-648185fd3c26",
   "metadata": {},
   "source": [
    "Effect on $\\theta$:"
   ]
  },
  {
   "cell_type": "code",
   "execution_count": 11,
   "id": "a1056148-eb51-454d-97b9-282afaf194c4",
   "metadata": {},
   "outputs": [
    {
     "data": {
      "image/png": "[encoded data removed]",
      "text/plain": [
       "<Figure size 400x300 with 1 Axes>"
      ]
     },
     "metadata": {},
     "output_type": "display_data"
    }
   ],
   "source": [
    "x = self.ESC_polObjVec_T(τg, θ, epsg, ν, sol)\n",
    "τVals   = self(x, 'τ', ns = 'ESC[t]')\n",
    "θVals   = self(x, 'θ', ns = 'ESC[t]')\n",
    "epsVals = self(x, 'eps', ns = 'ESC[t]')\n",
    "pd.Series(θVals).plot(figsize=(4,3));"
   ]
  },
  {
   "cell_type": "markdown",
   "id": "40c3cdac-ed5d-42e6-8992-9f04e688fbdd",
   "metadata": {},
   "source": [
    "Effect on $\\epsilon$:"
   ]
  },
  {
   "cell_type": "code",
   "execution_count": 12,
   "id": "92c034d6-4f78-4b43-b232-f59095103330",
   "metadata": {},
   "outputs": [
    {
     "data": {
      "image/png": "[encoded data removed]",
      "text/plain": [
       "<Figure size 400x300 with 1 Axes>"
      ]
     },
     "metadata": {},
     "output_type": "display_data"
    }
   ],
   "source": [
    "x = self.ESC_polObjVec_T(τ, θg, eps, ν, sol)\n",
    "τVals   = self(x, 'τ', ns = 'ESC[t]')\n",
    "θVals   = self(x, 'θ', ns = 'ESC[t]')\n",
    "epsVals = self(x, 'eps', ns = 'ESC[t]')\n",
    "pd.Series(epsVals).plot(figsize=(4,3));"
   ]
  }
 ],
 "metadata": {
  "kernelspec": {
   "display_name": "Python 3 (ipykernel)",
   "language": "python",
   "name": "python3"
  },
  "language_info": {
   "codemirror_mode": {
    "name": "ipython",
    "version": 3
   },
   "file_extension": ".py",
   "mimetype": "text/x-python",
   "name": "python",
   "nbconvert_exporter": "python",
   "pygments_lexer": "ipython3",
   "version": "3.11.4"
  }
 },
 "nbformat": 4,
 "nbformat_minor": 5
}
