{
 "cells": [
  {
   "cell_type": "code",
   "execution_count": 1,
   "id": "cdbf23c7-48a4-4824-aff7-cc6b0ce7bf50",
   "metadata": {},
   "outputs": [],
   "source": [
    "%run stdPackages.ipynb"
   ]
  },
  {
   "cell_type": "markdown",
   "id": "d0ceb5a2-d97e-4505-82ff-997cb583a20a",
   "metadata": {},
   "source": [
    "# Social Security Design - Argentina"
   ]
  },
  {
   "cell_type": "markdown",
   "id": "90602eb0-23d8-4b15-b97f-96999e697f09",
   "metadata": {
    "tags": []
   },
   "source": [
    "## 1. Input data and simple calibrations"
   ]
  },
  {
   "cell_type": "markdown",
   "id": "b05afd7d-3055-462b-83d7-a96e6866418b",
   "metadata": {},
   "source": [
    "We assume that we have data on the following:\n",
    "* Worker-to-retiree ratios $\\nu_t$.\n",
    "* Capital income share $\\alpha$.\n",
    "* Frisch elasticity of labor $\\xi$ (individual response to after-tax wages).\n",
    "* Share of retirees that only receive basic pension benefits - here defined as share of hand-to-mouth households ($\\gamma_u$).\n",
    "* Heterogeneity in working households:\n",
    "    1. Relative sizes of household types $\\gamma_i$, such that $\\sum_i = \\gamma_i$.\n",
    "    2. Income distribution across types $z_i^{\\eta}$.\n",
    "    3. Distribution of working hours across types $z_i^{x}$.\n",
    "* The economy wide average savings rate $\\overline{s}_t$.\n",
    "* The ratio of income from $u$-types to the average worker for young ($\\chi_1$) and old ($\\chi_2$).\n",
    "* The pension tax in a given year $\\overline{\\tau}$.\n",
    "* The target for ratios of replacement rates for 1st and 2nd quartiles $RR$."
   ]
  },
  {
   "cell_type": "markdown",
   "id": "767e4aee-bcfc-475c-9e91-8de3e28c94e7",
   "metadata": {},
   "source": [
    "### 1.1. Fixed data"
   ]
  },
  {
   "cell_type": "code",
   "execution_count": 2,
   "id": "31ada2ec-932e-497d-b043-e34ea366b665",
   "metadata": {},
   "outputs": [],
   "source": [
    "dates_log = pd.Index([1950, 1980, 2010, 2040, 2070, 2100], name = 't')\n",
    "ν_log = np.array([1.497025777, 1.365562914, 1.20756547, 1.110843373, 1.072547602, 1.0725])\n",
    "T_log = len(ν_log) # number of years in data\n",
    "T = T_log+5\n",
    "dates = dates_log.union(pd.Index([dates_log[-1]+30*i for i in range(1,T-T_log+1)]))\n",
    "ν = np.hstack([ν_log, np.full(T-T_log, ν_log[-1])])\n",
    "A = np.ones(T) # normalize exog. productivity at 1 \n",
    "α = .43 # capital income share\n",
    "ξ = .35 # frisch elasticity\n",
    "γ = np.full((4, ), 0.25) # four equally large shares\n",
    "ni = len(γ) # number of types of working households in this case\n",
    "hours = np.array([38.6, 41.8, 43.4, 46.8]) # weekly hours, working households\n",
    "income= np.array([618.6, 945.5, 1278.6, 2341.6]) # income levels, working households\n",
    "zx = hours/hours.mean() # normalized data\n",
    "zη = income/income.mean() # normalized data\n",
    "γu =.32 # share of u households\n",
    "χ1 = 0.3089 # relative income of u-types\n",
    "χ2 = 0.95 * χ1 # relative income of u-types when old - assumed slightly lower\n",
    "τ0 = 0.142 # target level of pension tax\n",
    "s0 = 0.184 # target savings rate\n",
    "t0date = 2010\n",
    "t0 = dates.get_loc(t0date) # index for year of calibration \n",
    "RR = 0.678/0.803 # replacement rate\n",
    "ω = 4\n",
    "ρ = .5\n",
    "ωu = .25\n",
    "ωη = 1.66"
   ]
  },
  {
   "cell_type": "markdown",
   "id": "a512fca7-5076-4312-b338-b4ee3bc6b144",
   "metadata": {},
   "source": [
    "### 1.2. Calibration of $\\eta_i, X_i, \\theta$"
   ]
  },
  {
   "cell_type": "markdown",
   "id": "0b91da83-eb5d-41bc-99c7-89c49faa814f",
   "metadata": {},
   "source": [
    "1. The vector of $(\\eta_i/X_i)^{\\xi}$ is proportional to eigenvector $\\textbf{y}^x$ - i.e. set $(\\eta_i/X_i)^{\\xi} = y_i^x$.\n",
    "2. The vector of $(\\eta_i^{1+\\xi}/X_i^{\\xi})$ is proportional to the eigenvector $\\textbf{y}^{\\eta}$ - i.e. set $\\eta_i^{1+\\xi}/X_i^{\\xi} = k y_i^{\\eta} $, where $k>0$ is some constant.\n",
    "3. We then have $\\eta_i =k y_i^{\\eta} / y_i^x$ and $(\\eta_i/X_i)^{\\xi} = y_i^x$. Use $k$ to normalize such that \n",
    "$$\\begin{align}\n",
    "    \\sum_i \\gamma_i \\eta_i^{1+\\xi}/X_i^{\\xi} = 1 \\qquad \\Rightarrow \\qquad k = \\dfrac{1}{\\sum_i \\gamma_i y_i^{\\eta}}.\n",
    "\\end{align}$$"
   ]
  },
  {
   "cell_type": "markdown",
   "id": "7f186cdd-ec16-4ebe-98a5-f2d5f04f648b",
   "metadata": {},
   "source": [
    "Find eigenvectors:"
   ]
  },
  {
   "cell_type": "code",
   "execution_count": 3,
   "id": "6f094ce1-1fe6-4c89-a419-066b47acb2a6",
   "metadata": {},
   "outputs": [],
   "source": [
    "valx, vecx = scipy.sparse.linalg.eigs(zx.reshape(ni,1) * γ.reshape(1,ni), k=1)\n",
    "valη, vecη = scipy.sparse.linalg.eigs(zη.reshape(ni,1) * γ.reshape(1,ni), k=1)\n",
    "yx, yη = abs(np.real(vecx)).reshape(ni), abs(np.real(vecη)).reshape(ni) # this assumes that all coordinates in eigenvector are either positive or negative; this should be the case"
   ]
  },
  {
   "cell_type": "markdown",
   "id": "44d6e876-68ce-470d-97c7-4e27a7c167a4",
   "metadata": {},
   "source": [
    "Calibrate parameters:"
   ]
  },
  {
   "cell_type": "code",
   "execution_count": 4,
   "id": "35bc70ed-76ac-4616-8f9a-3e57cd1bf990",
   "metadata": {},
   "outputs": [],
   "source": [
    "η = yη/(yx*sum(γ*yη))\n",
    "X = η/yx**(1/ξ)"
   ]
  },
  {
   "cell_type": "markdown",
   "id": "0b1dcc34-36c2-4823-a5aa-276c4544be4f",
   "metadata": {},
   "source": [
    "Now given parameters that define household heterogeneity, we define $\\theta$ from the relative replacement rates:"
   ]
  },
  {
   "cell_type": "code",
   "execution_count": 5,
   "id": "c59d96d6-57c7-4248-a6da-eea261919bf8",
   "metadata": {},
   "outputs": [],
   "source": [
    "Q1 = η[0]**(1+ξ)/(X[0]**ξ)\n",
    "Q2 = η[1]**(1+ξ)/(X[1]**ξ)\n",
    "θ = (RR/Q1-1/Q2)/(1-RR+RR/Q1-1/Q2)"
   ]
  },
  {
   "cell_type": "markdown",
   "id": "dab68b70-168c-458f-9877-44b5126181f8",
   "metadata": {},
   "source": [
    "### 1.3. Initial guesses for yet-to-calibrated parameters"
   ]
  },
  {
   "cell_type": "markdown",
   "id": "e110affe-54c3-430d-84c5-6c75846a0d07",
   "metadata": {},
   "source": [
    "Set uniform $\\beta$ for all types:"
   ]
  },
  {
   "cell_type": "code",
   "execution_count": 6,
   "id": "5d347aa5-4fff-4ab6-b039-f6355903c93a",
   "metadata": {},
   "outputs": [],
   "source": [
    "β = np.full(ni, fill_value = 1)\n",
    "βu= min(β) # set impatience equal to lowest producticity household. "
   ]
  },
  {
   "cell_type": "markdown",
   "id": "83365486-f8b3-4708-9f0b-2c1a9e9dc18d",
   "metadata": {},
   "source": [
    "Given our guess on $\\beta$, we can define $\\epsilon$ from the built-in function for the Argentina case: "
   ]
  },
  {
   "cell_type": "code",
   "execution_count": 7,
   "id": "527b0329-efce-4f39-b00a-1fddee04f34b",
   "metadata": {},
   "outputs": [],
   "source": [
    "eps = CRRA_inf.argentinaCalEps(θ, β[0])"
   ]
  },
  {
   "cell_type": "markdown",
   "id": "459694d4-f4ec-4ed8-8816-81a7bb65f055",
   "metadata": {},
   "source": [
    "## 2. Initialize and solve model"
   ]
  },
  {
   "cell_type": "markdown",
   "id": "eca72d46-3355-4fc4-b147-fa12981c4eab",
   "metadata": {},
   "source": [
    "Grid settings:"
   ]
  },
  {
   "cell_type": "code",
   "execution_count": 8,
   "id": "cb72d2e7-7cdc-4b11-a8e3-b72572cee1e0",
   "metadata": {},
   "outputs": [],
   "source": [
    "ngrid = 25 # number of gridpoints in the savings grid\n",
    "_min = 1e-3 # use as \"small\" number instead of 0\n",
    "exp = 1 # nonlinearity in grid, exp>1 increases number of gridpoints in the lower end of the grid"
   ]
  },
  {
   "cell_type": "markdown",
   "id": "b00f9970-cbc6-4ada-a1ba-a54a43ba6953",
   "metadata": {},
   "source": [
    "Initialize CRRA and log models:"
   ]
  },
  {
   "cell_type": "code",
   "execution_count": 9,
   "id": "901c26ee-29f2-42f1-aa6e-27182fd20acb",
   "metadata": {},
   "outputs": [],
   "source": [
    "kwargs = {'α': α, 'A': A, 'ν': ν, 'η': η, 'γ': γ, 'X': X, 'β': β, 'βu': βu, 'ξ': ξ, 'eps': eps, 'θ': θ, 'γu': γu, 'χ1': χ1, 'χ2': χ2, 'ρ': ρ, 'ω': ω, 'ωu': ωu,'ωη': ωη}\n",
    "model = CRRA_inf.infHorizon(ni=ni, T= T, ngrid = ngrid, **kwargs)\n",
    "sGrid = CRRA_inf.polGrid(_min, model.solve_ss(0,0,0,ν[-1])['s'], model.ngrid, exp)"
   ]
  },
  {
   "cell_type": "markdown",
   "id": "88c1166a-b932-452f-90c7-7c146de43bbd",
   "metadata": {},
   "source": [
    "Calibrate to the Argentina scenario:"
   ]
  },
  {
   "cell_type": "code",
   "execution_count": 10,
   "id": "cf8d38e6-3a82-40c8-8eed-fbe445f92fc9",
   "metadata": {},
   "outputs": [
    {
     "ename": "TypeError",
     "evalue": "tuple indices must be integers or slices, not str",
     "output_type": "error",
     "traceback": [
      "\u001b[1;31m---------------------------------------------------------------------------\u001b[0m",
      "\u001b[1;31mTypeError\u001b[0m                                 Traceback (most recent call last)",
      "Cell \u001b[1;32mIn[10], line 1\u001b[0m\n\u001b[1;32m----> 1\u001b[0m model\u001b[38;5;241m.\u001b[39margentinaCalibrate_PEE(τ0, s0, t0, sGrid)\n",
      "File \u001b[1;32m~\\Documents\\GitHub\\SSD\\py\\CRRA_inf.py:1003\u001b[0m, in \u001b[0;36minfHorizon.argentinaCalibrate_PEE\u001b[1;34m(self, τ0, s0, t0, sGrid, x0, **kwargs)\u001b[0m\n\u001b[0;32m   1001\u001b[0m \u001b[38;5;28;01mdef\u001b[39;00m \u001b[38;5;21margentinaCalibrate_PEE\u001b[39m(\u001b[38;5;28mself\u001b[39m, τ0, s0, t0, sGrid, x0 \u001b[38;5;241m=\u001b[39m \u001b[38;5;28;01mNone\u001b[39;00m, \u001b[38;5;241m*\u001b[39m\u001b[38;5;241m*\u001b[39mkwargs):\n\u001b[0;32m   1002\u001b[0m \u001b[38;5;250m\t\u001b[39m\u001b[38;5;124;03m\"\"\" Match savings rate and PEE tax - not ESC\"\"\"\u001b[39;00m\n\u001b[1;32m-> 1003\u001b[0m \tsol \u001b[38;5;241m=\u001b[39m optimize\u001b[38;5;241m.\u001b[39mroot(\u001b[38;5;28;01mlambda\u001b[39;00m x: \u001b[38;5;28mself\u001b[39m\u001b[38;5;241m.\u001b[39margentinaCalibrate_PEE_eqs(x, τ0, s0, t0, sGrid, \u001b[38;5;241m*\u001b[39m\u001b[38;5;241m*\u001b[39mkwargs), noneInit(x0, [\u001b[38;5;28mself\u001b[39m\u001b[38;5;241m.\u001b[39mdb[\u001b[38;5;124m'\u001b[39m\u001b[38;5;124mω\u001b[39m\u001b[38;5;124m'\u001b[39m], \u001b[38;5;28mself\u001b[39m\u001b[38;5;241m.\u001b[39mdb[\u001b[38;5;124m'\u001b[39m\u001b[38;5;124mβ\u001b[39m\u001b[38;5;124m'\u001b[39m][\u001b[38;5;241m0\u001b[39m]]))\n\u001b[0;32m   1004\u001b[0m \t\u001b[38;5;28;01massert\u001b[39;00m sol[\u001b[38;5;124m'\u001b[39m\u001b[38;5;124msuccess\u001b[39m\u001b[38;5;124m'\u001b[39m], \u001b[38;5;124mf\u001b[39m\u001b[38;5;124m\"\"\"\u001b[39m\u001b[38;5;124m Couldn\u001b[39m\u001b[38;5;124m'\u001b[39m\u001b[38;5;124mt calibrate model\u001b[39m\u001b[38;5;124m\"\"\"\u001b[39m\n\u001b[0;32m   1005\u001b[0m \t\u001b[38;5;28;01mreturn\u001b[39;00m sol[\u001b[38;5;124m'\u001b[39m\u001b[38;5;124mx\u001b[39m\u001b[38;5;124m'\u001b[39m]\n",
      "File \u001b[1;32m~\\Anaconda3\\envs\\SSD\\Lib\\site-packages\\scipy\\optimize\\_root.py:235\u001b[0m, in \u001b[0;36mroot\u001b[1;34m(fun, x0, args, method, jac, tol, callback, options)\u001b[0m\n\u001b[0;32m    232\u001b[0m         options\u001b[38;5;241m.\u001b[39msetdefault(\u001b[38;5;124m'\u001b[39m\u001b[38;5;124mfatol\u001b[39m\u001b[38;5;124m'\u001b[39m, np\u001b[38;5;241m.\u001b[39minf)\n\u001b[0;32m    234\u001b[0m \u001b[38;5;28;01mif\u001b[39;00m meth \u001b[38;5;241m==\u001b[39m \u001b[38;5;124m'\u001b[39m\u001b[38;5;124mhybr\u001b[39m\u001b[38;5;124m'\u001b[39m:\n\u001b[1;32m--> 235\u001b[0m     sol \u001b[38;5;241m=\u001b[39m _root_hybr(fun, x0, args\u001b[38;5;241m=\u001b[39margs, jac\u001b[38;5;241m=\u001b[39mjac, \u001b[38;5;241m*\u001b[39m\u001b[38;5;241m*\u001b[39moptions)\n\u001b[0;32m    236\u001b[0m \u001b[38;5;28;01melif\u001b[39;00m meth \u001b[38;5;241m==\u001b[39m \u001b[38;5;124m'\u001b[39m\u001b[38;5;124mlm\u001b[39m\u001b[38;5;124m'\u001b[39m:\n\u001b[0;32m    237\u001b[0m     sol \u001b[38;5;241m=\u001b[39m _root_leastsq(fun, x0, args\u001b[38;5;241m=\u001b[39margs, jac\u001b[38;5;241m=\u001b[39mjac, \u001b[38;5;241m*\u001b[39m\u001b[38;5;241m*\u001b[39moptions)\n",
      "File \u001b[1;32m~\\Anaconda3\\envs\\SSD\\Lib\\site-packages\\scipy\\optimize\\_minpack_py.py:229\u001b[0m, in \u001b[0;36m_root_hybr\u001b[1;34m(func, x0, args, jac, col_deriv, xtol, maxfev, band, eps, factor, diag, **unknown_options)\u001b[0m\n\u001b[0;32m    227\u001b[0m \u001b[38;5;28;01mif\u001b[39;00m \u001b[38;5;129;01mnot\u001b[39;00m \u001b[38;5;28misinstance\u001b[39m(args, \u001b[38;5;28mtuple\u001b[39m):\n\u001b[0;32m    228\u001b[0m     args \u001b[38;5;241m=\u001b[39m (args,)\n\u001b[1;32m--> 229\u001b[0m shape, dtype \u001b[38;5;241m=\u001b[39m _check_func(\u001b[38;5;124m'\u001b[39m\u001b[38;5;124mfsolve\u001b[39m\u001b[38;5;124m'\u001b[39m, \u001b[38;5;124m'\u001b[39m\u001b[38;5;124mfunc\u001b[39m\u001b[38;5;124m'\u001b[39m, func, x0, args, n, (n,))\n\u001b[0;32m    230\u001b[0m \u001b[38;5;28;01mif\u001b[39;00m epsfcn \u001b[38;5;129;01mis\u001b[39;00m \u001b[38;5;28;01mNone\u001b[39;00m:\n\u001b[0;32m    231\u001b[0m     epsfcn \u001b[38;5;241m=\u001b[39m finfo(dtype)\u001b[38;5;241m.\u001b[39meps\n",
      "File \u001b[1;32m~\\Anaconda3\\envs\\SSD\\Lib\\site-packages\\scipy\\optimize\\_minpack_py.py:26\u001b[0m, in \u001b[0;36m_check_func\u001b[1;34m(checker, argname, thefunc, x0, args, numinputs, output_shape)\u001b[0m\n\u001b[0;32m     24\u001b[0m \u001b[38;5;28;01mdef\u001b[39;00m \u001b[38;5;21m_check_func\u001b[39m(checker, argname, thefunc, x0, args, numinputs,\n\u001b[0;32m     25\u001b[0m                 output_shape\u001b[38;5;241m=\u001b[39m\u001b[38;5;28;01mNone\u001b[39;00m):\n\u001b[1;32m---> 26\u001b[0m     res \u001b[38;5;241m=\u001b[39m atleast_1d(thefunc(\u001b[38;5;241m*\u001b[39m((x0[:numinputs],) \u001b[38;5;241m+\u001b[39m args)))\n\u001b[0;32m     27\u001b[0m     \u001b[38;5;28;01mif\u001b[39;00m (output_shape \u001b[38;5;129;01mis\u001b[39;00m \u001b[38;5;129;01mnot\u001b[39;00m \u001b[38;5;28;01mNone\u001b[39;00m) \u001b[38;5;129;01mand\u001b[39;00m (shape(res) \u001b[38;5;241m!=\u001b[39m output_shape):\n\u001b[0;32m     28\u001b[0m         \u001b[38;5;28;01mif\u001b[39;00m (output_shape[\u001b[38;5;241m0\u001b[39m] \u001b[38;5;241m!=\u001b[39m \u001b[38;5;241m1\u001b[39m):\n",
      "File \u001b[1;32m~\\Documents\\GitHub\\SSD\\py\\CRRA_inf.py:1003\u001b[0m, in \u001b[0;36minfHorizon.argentinaCalibrate_PEE.<locals>.<lambda>\u001b[1;34m(x)\u001b[0m\n\u001b[0;32m   1001\u001b[0m \u001b[38;5;28;01mdef\u001b[39;00m \u001b[38;5;21margentinaCalibrate_PEE\u001b[39m(\u001b[38;5;28mself\u001b[39m, τ0, s0, t0, sGrid, x0 \u001b[38;5;241m=\u001b[39m \u001b[38;5;28;01mNone\u001b[39;00m, \u001b[38;5;241m*\u001b[39m\u001b[38;5;241m*\u001b[39mkwargs):\n\u001b[0;32m   1002\u001b[0m \u001b[38;5;250m\t\u001b[39m\u001b[38;5;124;03m\"\"\" Match savings rate and PEE tax - not ESC\"\"\"\u001b[39;00m\n\u001b[1;32m-> 1003\u001b[0m \tsol \u001b[38;5;241m=\u001b[39m optimize\u001b[38;5;241m.\u001b[39mroot(\u001b[38;5;28;01mlambda\u001b[39;00m x: \u001b[38;5;28mself\u001b[39m\u001b[38;5;241m.\u001b[39margentinaCalibrate_PEE_eqs(x, τ0, s0, t0, sGrid, \u001b[38;5;241m*\u001b[39m\u001b[38;5;241m*\u001b[39mkwargs), noneInit(x0, [\u001b[38;5;28mself\u001b[39m\u001b[38;5;241m.\u001b[39mdb[\u001b[38;5;124m'\u001b[39m\u001b[38;5;124mω\u001b[39m\u001b[38;5;124m'\u001b[39m], \u001b[38;5;28mself\u001b[39m\u001b[38;5;241m.\u001b[39mdb[\u001b[38;5;124m'\u001b[39m\u001b[38;5;124mβ\u001b[39m\u001b[38;5;124m'\u001b[39m][\u001b[38;5;241m0\u001b[39m]]))\n\u001b[0;32m   1004\u001b[0m \t\u001b[38;5;28;01massert\u001b[39;00m sol[\u001b[38;5;124m'\u001b[39m\u001b[38;5;124msuccess\u001b[39m\u001b[38;5;124m'\u001b[39m], \u001b[38;5;124mf\u001b[39m\u001b[38;5;124m\"\"\"\u001b[39m\u001b[38;5;124m Couldn\u001b[39m\u001b[38;5;124m'\u001b[39m\u001b[38;5;124mt calibrate model\u001b[39m\u001b[38;5;124m\"\"\"\u001b[39m\n\u001b[0;32m   1005\u001b[0m \t\u001b[38;5;28;01mreturn\u001b[39;00m sol[\u001b[38;5;124m'\u001b[39m\u001b[38;5;124mx\u001b[39m\u001b[38;5;124m'\u001b[39m]\n",
      "File \u001b[1;32m~\\Documents\\GitHub\\SSD\\py\\CRRA_inf.py:1012\u001b[0m, in \u001b[0;36minfHorizon.argentinaCalibrate_PEE_eqs\u001b[1;34m(self, x, τ0, s0, t0, sGrid, **kwargs)\u001b[0m\n\u001b[0;32m   1010\u001b[0m \u001b[38;5;28mself\u001b[39m\u001b[38;5;241m.\u001b[39mdb[\u001b[38;5;124m'\u001b[39m\u001b[38;5;124meps\u001b[39m\u001b[38;5;124m'\u001b[39m] \u001b[38;5;241m=\u001b[39m argentinaCalEps(\u001b[38;5;28mself\u001b[39m\u001b[38;5;241m.\u001b[39mdb[\u001b[38;5;124m'\u001b[39m\u001b[38;5;124mθ\u001b[39m\u001b[38;5;124m'\u001b[39m], x[\u001b[38;5;241m1\u001b[39m])\n\u001b[0;32m   1011\u001b[0m \u001b[38;5;28mself\u001b[39m\u001b[38;5;241m.\u001b[39mdb[\u001b[38;5;124m'\u001b[39m\u001b[38;5;124meps[t+1]\u001b[39m\u001b[38;5;124m'\u001b[39m] \u001b[38;5;241m=\u001b[39m \u001b[38;5;28mself\u001b[39m\u001b[38;5;241m.\u001b[39mleadSym(\u001b[38;5;28mself\u001b[39m\u001b[38;5;241m.\u001b[39mdb[\u001b[38;5;124m'\u001b[39m\u001b[38;5;124meps\u001b[39m\u001b[38;5;124m'\u001b[39m])\n\u001b[1;32m-> 1012\u001b[0m sol \u001b[38;5;241m=\u001b[39m \u001b[38;5;28mself\u001b[39m\u001b[38;5;241m.\u001b[39msolve_PEE(sGrid, \u001b[38;5;241m*\u001b[39m\u001b[38;5;241m*\u001b[39mkwargs)\n\u001b[0;32m   1013\u001b[0m \u001b[38;5;28;01mreturn\u001b[39;00m np\u001b[38;5;241m.\u001b[39mhstack([sol[\u001b[38;5;124m'\u001b[39m\u001b[38;5;124mτ\u001b[39m\u001b[38;5;124m'\u001b[39m]\u001b[38;5;241m.\u001b[39mxs(t0)\u001b[38;5;241m-\u001b[39mτ0,\n\u001b[0;32m   1014\u001b[0m \t\t\t\t  \u001b[38;5;28mself\u001b[39m\u001b[38;5;241m.\u001b[39msavingsRate(sol[\u001b[38;5;124m'\u001b[39m\u001b[38;5;124mΘs\u001b[39m\u001b[38;5;124m'\u001b[39m]\u001b[38;5;241m.\u001b[39mxs(t0), sol[\u001b[38;5;124m'\u001b[39m\u001b[38;5;124mΘh\u001b[39m\u001b[38;5;124m'\u001b[39m]\u001b[38;5;241m.\u001b[39mxs(t0))\u001b[38;5;241m-\u001b[39ms0])\n",
      "File \u001b[1;32m~\\Documents\\GitHub\\SSD\\py\\CRRA_inf.py:230\u001b[0m, in \u001b[0;36minfHorizon.solve_PEE\u001b[1;34m(self, s, gridOption, s0, returnPols, kwargs_ee, **kwargs)\u001b[0m\n\u001b[0;32m    229\u001b[0m \u001b[38;5;28;01mdef\u001b[39;00m \u001b[38;5;21msolve_PEE\u001b[39m(\u001b[38;5;28mself\u001b[39m, s, gridOption \u001b[38;5;241m=\u001b[39m \u001b[38;5;124m'\u001b[39m\u001b[38;5;124mresample\u001b[39m\u001b[38;5;124m'\u001b[39m, s0 \u001b[38;5;241m=\u001b[39m \u001b[38;5;28;01mNone\u001b[39;00m, returnPols \u001b[38;5;241m=\u001b[39m \u001b[38;5;28;01mFalse\u001b[39;00m, kwargs_ee \u001b[38;5;241m=\u001b[39m \u001b[38;5;28;01mNone\u001b[39;00m, \u001b[38;5;241m*\u001b[39m\u001b[38;5;241m*\u001b[39mkwargs):\n\u001b[1;32m--> 230\u001b[0m \tpolicy \u001b[38;5;241m=\u001b[39m \u001b[38;5;28mself\u001b[39m\u001b[38;5;241m.\u001b[39msolve_PEE_policy(s, gridOption\u001b[38;5;241m=\u001b[39mgridOption, \u001b[38;5;241m*\u001b[39m\u001b[38;5;241m*\u001b[39mkwargs)\n\u001b[0;32m    231\u001b[0m \t\u001b[38;5;28;01mif\u001b[39;00m s0 \u001b[38;5;129;01mis\u001b[39;00m \u001b[38;5;28;01mNone\u001b[39;00m:\n\u001b[0;32m    232\u001b[0m \t\ts0 \u001b[38;5;241m=\u001b[39m interpFixedPoint(policy[\u001b[38;5;241m0\u001b[39m][\u001b[38;5;124m'\u001b[39m\u001b[38;5;124ms\u001b[39m\u001b[38;5;124m'\u001b[39m], s) \u001b[38;5;66;03m# interpolate approximate steady state level of savings\u001b[39;00m\n",
      "File \u001b[1;32m~\\Documents\\GitHub\\SSD\\py\\CRRA_inf.py:281\u001b[0m, in \u001b[0;36minfHorizon.solve_PEE_policy\u001b[1;34m(self, s, gridOption, **kwargs)\u001b[0m\n\u001b[0;32m    279\u001b[0m \u001b[38;5;28;01mif\u001b[39;00m gridOption \u001b[38;5;241m==\u001b[39m \u001b[38;5;124m'\u001b[39m\u001b[38;5;124mresample\u001b[39m\u001b[38;5;124m'\u001b[39m:\n\u001b[0;32m    280\u001b[0m \t\u001b[38;5;28;01mfor\u001b[39;00m t \u001b[38;5;129;01min\u001b[39;00m \u001b[38;5;28mrange\u001b[39m(\u001b[38;5;28mself\u001b[39m\u001b[38;5;241m.\u001b[39mT\u001b[38;5;241m-\u001b[39m\u001b[38;5;241m2\u001b[39m,\u001b[38;5;241m-\u001b[39m\u001b[38;5;241m1\u001b[39m,\u001b[38;5;241m-\u001b[39m\u001b[38;5;241m1\u001b[39m):\n\u001b[1;32m--> 281\u001b[0m \t\tsols[t] \u001b[38;5;241m=\u001b[39m \u001b[38;5;28mself\u001b[39m\u001b[38;5;241m.\u001b[39mresampleSolution(\u001b[38;5;28mself\u001b[39m\u001b[38;5;241m.\u001b[39msolve_PEE_t(\u001b[38;5;28mself\u001b[39m\u001b[38;5;241m.\u001b[39mdb[\u001b[38;5;124m'\u001b[39m\u001b[38;5;124mθ\u001b[39m\u001b[38;5;124m'\u001b[39m]\u001b[38;5;241m.\u001b[39mvalues[t], \u001b[38;5;28mself\u001b[39m\u001b[38;5;241m.\u001b[39mdb[\u001b[38;5;124m'\u001b[39m\u001b[38;5;124meps\u001b[39m\u001b[38;5;124m'\u001b[39m]\u001b[38;5;241m.\u001b[39mvalues[t], \u001b[38;5;28mself\u001b[39m\u001b[38;5;241m.\u001b[39mdb[\u001b[38;5;124m'\u001b[39m\u001b[38;5;124mν\u001b[39m\u001b[38;5;124m'\u001b[39m][t], \n\u001b[0;32m    282\u001b[0m \t\t\t\t\t\t\t\t\t\t\t\t\t\t \u001b[38;5;28mself\u001b[39m\u001b[38;5;241m.\u001b[39mdb[\u001b[38;5;124m'\u001b[39m\u001b[38;5;124mθ\u001b[39m\u001b[38;5;124m'\u001b[39m]\u001b[38;5;241m.\u001b[39mvalues[t\u001b[38;5;241m+\u001b[39m\u001b[38;5;241m1\u001b[39m], \u001b[38;5;28mself\u001b[39m\u001b[38;5;241m.\u001b[39mdb[\u001b[38;5;124m'\u001b[39m\u001b[38;5;124meps\u001b[39m\u001b[38;5;124m'\u001b[39m]\u001b[38;5;241m.\u001b[39mvalues[t\u001b[38;5;241m+\u001b[39m\u001b[38;5;241m1\u001b[39m], \u001b[38;5;28mself\u001b[39m\u001b[38;5;241m.\u001b[39mdb[\u001b[38;5;124m'\u001b[39m\u001b[38;5;124mν\u001b[39m\u001b[38;5;124m'\u001b[39m][t\u001b[38;5;241m+\u001b[39m\u001b[38;5;241m1\u001b[39m], sols[t\u001b[38;5;241m+\u001b[39m\u001b[38;5;241m1\u001b[39m]), s)\n\u001b[0;32m    283\u001b[0m \u001b[38;5;28;01melif\u001b[39;00m gridOption \u001b[38;5;241m==\u001b[39m \u001b[38;5;124m'\u001b[39m\u001b[38;5;124mclean\u001b[39m\u001b[38;5;124m'\u001b[39m:\n\u001b[0;32m    284\u001b[0m \t\u001b[38;5;28;01mfor\u001b[39;00m t \u001b[38;5;129;01min\u001b[39;00m \u001b[38;5;28mrange\u001b[39m(\u001b[38;5;28mself\u001b[39m\u001b[38;5;241m.\u001b[39mT\u001b[38;5;241m-\u001b[39m\u001b[38;5;241m2\u001b[39m,\u001b[38;5;241m-\u001b[39m\u001b[38;5;241m1\u001b[39m,\u001b[38;5;241m-\u001b[39m\u001b[38;5;241m1\u001b[39m):\n",
      "File \u001b[1;32m~\\Documents\\GitHub\\SSD\\py\\CRRA_inf.py:649\u001b[0m, in \u001b[0;36minfHorizon.solve_PEE_t\u001b[1;34m(self, θ, eps, ν, θp, epsp, νp, sol_p, x0, **kwargs)\u001b[0m\n\u001b[0;32m    648\u001b[0m \u001b[38;5;28;01mdef\u001b[39;00m \u001b[38;5;21msolve_PEE_t\u001b[39m(\u001b[38;5;28mself\u001b[39m, θ, eps, ν, θp, epsp, νp, sol_p, x0 \u001b[38;5;241m=\u001b[39m \u001b[38;5;28;01mNone\u001b[39;00m, \u001b[38;5;241m*\u001b[39m\u001b[38;5;241m*\u001b[39mkwargs):\n\u001b[1;32m--> 649\u001b[0m \tsol \u001b[38;5;241m=\u001b[39m \u001b[38;5;28mself\u001b[39m\u001b[38;5;241m.\u001b[39mPEE_precomputations(θp, epsp, ν, sol_p)\n\u001b[0;32m    650\u001b[0m \tτ \u001b[38;5;241m=\u001b[39m optimize\u001b[38;5;241m.\u001b[39mroot(\u001b[38;5;28;01mlambda\u001b[39;00m τ: \u001b[38;5;28mself\u001b[39m\u001b[38;5;241m.\u001b[39mPEE_polObj_t(τ, θ, eps, ν, θp, epsp, νp, sol, sol_p), noneInit(x0, sol_p[\u001b[38;5;124m'\u001b[39m\u001b[38;5;124mτ\u001b[39m\u001b[38;5;124m'\u001b[39m]), \u001b[38;5;241m*\u001b[39m\u001b[38;5;241m*\u001b[39mkwargs)\n\u001b[0;32m    651\u001b[0m \t\u001b[38;5;28;01massert\u001b[39;00m τ[\u001b[38;5;124m'\u001b[39m\u001b[38;5;124msuccess\u001b[39m\u001b[38;5;124m'\u001b[39m], \u001b[38;5;124mf\u001b[39m\u001b[38;5;124m\"\"\"\u001b[39m\u001b[38;5;124mCould not identify PEE solution (self.solve_PEE_t) with parameters:\u001b[39m\n\u001b[0;32m    652\u001b[0m \u001b[38;5;124m\tθ: \u001b[39m\u001b[38;5;132;01m{\u001b[39;00mθ\u001b[38;5;132;01m}\u001b[39;00m\u001b[38;5;124m, ε: \u001b[39m\u001b[38;5;132;01m{\u001b[39;00meps\u001b[38;5;132;01m}\u001b[39;00m\u001b[38;5;124m, ν: \u001b[39m\u001b[38;5;132;01m{\u001b[39;00mν\u001b[38;5;132;01m}\u001b[39;00m\u001b[38;5;124m, θ[t+1]: \u001b[39m\u001b[38;5;132;01m{\u001b[39;00mθp\u001b[38;5;132;01m}\u001b[39;00m\u001b[38;5;124m, ε[t+1]: \u001b[39m\u001b[38;5;132;01m{\u001b[39;00mepsp\u001b[38;5;132;01m}\u001b[39;00m\u001b[38;5;124m, ν[t+1]: \u001b[39m\u001b[38;5;132;01m{\u001b[39;00mνp\u001b[38;5;132;01m}\u001b[39;00m\u001b[38;5;124m, and solution from t+1 with taxes\u001b[39m\n\u001b[0;32m    653\u001b[0m \u001b[38;5;124m\tτ[t+1]: \u001b[39m\u001b[38;5;132;01m{\u001b[39;00msol_p[\u001b[38;5;124m'\u001b[39m\u001b[38;5;124mτ\u001b[39m\u001b[38;5;124m'\u001b[39m]\u001b[38;5;132;01m}\u001b[39;00m\u001b[38;5;124m\"\"\"\u001b[39m\n",
      "File \u001b[1;32m~\\Documents\\GitHub\\SSD\\py\\CRRA_inf.py:676\u001b[0m, in \u001b[0;36minfHorizon.PEE_precomputations\u001b[1;34m(self, θp, epsp, ν, sol_p, A)\u001b[0m\n\u001b[0;32m    674\u001b[0m \u001b[38;5;28;01mdef\u001b[39;00m \u001b[38;5;21mPEE_precomputations\u001b[39m(\u001b[38;5;28mself\u001b[39m, θp, epsp, ν, sol_p, A \u001b[38;5;241m=\u001b[39m \u001b[38;5;241m1\u001b[39m):\n\u001b[0;32m    675\u001b[0m \u001b[38;5;250m\t\u001b[39m\u001b[38;5;124;03m\"\"\" sol_p is the solution from t+1 \"\"\"\u001b[39;00m\n\u001b[1;32m--> 676\u001b[0m \tsol \u001b[38;5;241m=\u001b[39m {\u001b[38;5;124m'\u001b[39m\u001b[38;5;124ms\u001b[39m\u001b[38;5;124m'\u001b[39m: sol_p[\u001b[38;5;124m'\u001b[39m\u001b[38;5;124ms[t-1]\u001b[39m\u001b[38;5;124m'\u001b[39m],\n\u001b[0;32m    677\u001b[0m \t\t\t\t\u001b[38;5;124m'\u001b[39m\u001b[38;5;124mh\u001b[39m\u001b[38;5;124m'\u001b[39m: (sol_p[\u001b[38;5;124m'\u001b[39m\u001b[38;5;124ms[t-1]\u001b[39m\u001b[38;5;124m'\u001b[39m]\u001b[38;5;241m/\u001b[39msol_p[\u001b[38;5;124m'\u001b[39m\u001b[38;5;124mΓs\u001b[39m\u001b[38;5;124m'\u001b[39m])\u001b[38;5;241m*\u001b[39m\u001b[38;5;241m*\u001b[39m(\u001b[38;5;28mself\u001b[39m\u001b[38;5;241m.\u001b[39mdb[\u001b[38;5;124m'\u001b[39m\u001b[38;5;124mξ\u001b[39m\u001b[38;5;124m'\u001b[39m]\u001b[38;5;241m/\u001b[39m(\u001b[38;5;241m1\u001b[39m\u001b[38;5;241m+\u001b[39m\u001b[38;5;28mself\u001b[39m\u001b[38;5;241m.\u001b[39mdb[\u001b[38;5;124m'\u001b[39m\u001b[38;5;124mξ\u001b[39m\u001b[38;5;124m'\u001b[39m])),\n\u001b[0;32m    678\u001b[0m \t\t\t\t\u001b[38;5;124m'\u001b[39m\u001b[38;5;124mΩ\u001b[39m\u001b[38;5;124m'\u001b[39m: \u001b[38;5;28mself\u001b[39m\u001b[38;5;241m.\u001b[39maux_Ω(sol_p[\u001b[38;5;124m'\u001b[39m\u001b[38;5;124mΓs\u001b[39m\u001b[38;5;124m'\u001b[39m], sol_p[\u001b[38;5;124m'\u001b[39m\u001b[38;5;124mτ\u001b[39m\u001b[38;5;124m'\u001b[39m], θp, epsp),\n\u001b[0;32m    679\u001b[0m \t\t\t\t\u001b[38;5;124m'\u001b[39m\u001b[38;5;124mΨ\u001b[39m\u001b[38;5;124m'\u001b[39m: \u001b[38;5;28mself\u001b[39m\u001b[38;5;241m.\u001b[39maux_Ψ(sol_p[\u001b[38;5;124m'\u001b[39m\u001b[38;5;124mB\u001b[39m\u001b[38;5;124m'\u001b[39m], sol_p[\u001b[38;5;124m'\u001b[39m\u001b[38;5;124mτ\u001b[39m\u001b[38;5;124m'\u001b[39m], θp, epsp)}\n\u001b[0;32m    680\u001b[0m \tsol[\u001b[38;5;124m'\u001b[39m\u001b[38;5;124ms_τ0\u001b[39m\u001b[38;5;124m'\u001b[39m] \u001b[38;5;241m=\u001b[39m ν\u001b[38;5;241m*\u001b[39msol[\u001b[38;5;124m'\u001b[39m\u001b[38;5;124mh\u001b[39m\u001b[38;5;124m'\u001b[39m]\u001b[38;5;241m*\u001b[39m\u001b[38;5;241m*\u001b[39m(\u001b[38;5;241m1\u001b[39m\u001b[38;5;241m/\u001b[39m\u001b[38;5;28mself\u001b[39m\u001b[38;5;241m.\u001b[39mpower_h)\u001b[38;5;241m*\u001b[39m((\u001b[38;5;241m1\u001b[39m\u001b[38;5;241m-\u001b[39m\u001b[38;5;28mself\u001b[39m\u001b[38;5;241m.\u001b[39mdb[\u001b[38;5;124m'\u001b[39m\u001b[38;5;124mαr\u001b[39m\u001b[38;5;124m'\u001b[39m]\u001b[38;5;241m*\u001b[39mθp\u001b[38;5;241m*\u001b[39m\u001b[38;5;28mself\u001b[39m\u001b[38;5;241m.\u001b[39mauxPen(sol_p[\u001b[38;5;124m'\u001b[39m\u001b[38;5;124mτ\u001b[39m\u001b[38;5;124m'\u001b[39m], epsp)\u001b[38;5;241m*\u001b[39msol_p[\u001b[38;5;124m'\u001b[39m\u001b[38;5;124mΓs\u001b[39m\u001b[38;5;124m'\u001b[39m])\u001b[38;5;241m/\u001b[39m((\u001b[38;5;241m1\u001b[39m\u001b[38;5;241m-\u001b[39m\u001b[38;5;28mself\u001b[39m\u001b[38;5;241m.\u001b[39mdb[\u001b[38;5;124m'\u001b[39m\u001b[38;5;124mα\u001b[39m\u001b[38;5;124m'\u001b[39m])\u001b[38;5;241m*\u001b[39mA))\u001b[38;5;241m*\u001b[39m\u001b[38;5;241m*\u001b[39m(\u001b[38;5;241m1\u001b[39m\u001b[38;5;241m/\u001b[39m\u001b[38;5;28mself\u001b[39m\u001b[38;5;241m.\u001b[39mdb[\u001b[38;5;124m'\u001b[39m\u001b[38;5;124mα\u001b[39m\u001b[38;5;124m'\u001b[39m])\n\u001b[0;32m    681\u001b[0m \tsol\u001b[38;5;241m.\u001b[39mupdate(\u001b[38;5;28mself\u001b[39m\u001b[38;5;241m.\u001b[39maux_laggedDerivatives_τ(sol[\u001b[38;5;124m'\u001b[39m\u001b[38;5;124mΩ\u001b[39m\u001b[38;5;124m'\u001b[39m], sol[\u001b[38;5;124m'\u001b[39m\u001b[38;5;124mΨ\u001b[39m\u001b[38;5;124m'\u001b[39m], sol_p[\u001b[38;5;124m'\u001b[39m\u001b[38;5;124mB\u001b[39m\u001b[38;5;124m'\u001b[39m], sol_p[\u001b[38;5;124m'\u001b[39m\u001b[38;5;124m∂ln(h)/∂τ\u001b[39m\u001b[38;5;124m'\u001b[39m], sol_p[\u001b[38;5;124m'\u001b[39m\u001b[38;5;124mτ\u001b[39m\u001b[38;5;124m'\u001b[39m], θp, epsp))\n",
      "\u001b[1;31mTypeError\u001b[0m: tuple indices must be integers or slices, not str"
     ]
    }
   ],
   "source": [
    "model.argentinaCalibrate_PEE(τ0, s0, t0, sGrid) # calibrate without endogenous political choice"
   ]
  },
  {
   "cell_type": "markdown",
   "id": "bd58bbd9-ba5e-40e3-bcbc-b539eca45d0d",
   "metadata": {},
   "source": [
    "Solve baseline and store in database:"
   ]
  },
  {
   "cell_type": "code",
   "execution_count": 11,
   "id": "9f7a3f5f-53ae-46c4-9c69-6bd8b6084e53",
   "metadata": {},
   "outputs": [],
   "source": [
    "model.db.update(model.solve_PEE(sGrid))\n",
    "model.reportAll()"
   ]
  },
  {
   "cell_type": "markdown",
   "id": "cf035c0e-5e66-4a86-9d80-445d06ddd801",
   "metadata": {},
   "source": [
    "Create "
   ]
  },
  {
   "cell_type": "code",
   "execution_count": 12,
   "id": "4687dc8f-4047-4fe4-a706-a0c6ae4d1dc4",
   "metadata": {},
   "outputs": [],
   "source": [
    "initialSolution = model.db.copy() # default values to start experiments from"
   ]
  },
  {
   "cell_type": "markdown",
   "id": "53f0b3c6-a87a-4358-bf9d-441517bf7885",
   "metadata": {},
   "source": [
    "The unexpected changes arrive in 2010. The easiest way to introduce this is to initialize a new model that runs from 2010-2100:"
   ]
  },
  {
   "cell_type": "code",
   "execution_count": 13,
   "id": "397fa9e0-59be-414d-aab4-d77420f09c9c",
   "metadata": {},
   "outputs": [],
   "source": [
    "dates_2010 = dates[dates>=2010]\n",
    "T_2010 = len(dates_2010)\n",
    "model_2010 = CRRA_inf.infHorizon(ni = ni, T = T_2010, ngrid = model.ngrid, \n",
    "                                    eps = model.db['eps'].loc[t0:].set_axis(model.db['t'][t0:]-t0), \n",
    "                                    θ = model.db['θ'].loc[t0:].set_axis(model.db['t'][t0:]-t0),\n",
    "                                    **({k: initialSolution[k] for k in model.defaultParameters} | {'ν': ν[(T-T_2010):],\n",
    "                                                                                           'A': A[(T-T_2010):]}))"
   ]
  },
  {
   "cell_type": "markdown",
   "id": "cb6e11eb-6638-4260-bad4-16d3f63d8884",
   "metadata": {},
   "source": [
    "Solve and store the baseline solution with the shifted time index:"
   ]
  },
  {
   "cell_type": "code",
   "execution_count": 14,
   "id": "3b459aa3-f4fb-4bda-9696-ad26578d473c",
   "metadata": {},
   "outputs": [],
   "source": [
    "model_2010.db.update(model_2010.solve_PEE(sGrid, s0 = initialSolution['s[t-1]'][t0]))\n",
    "model_2010.reportAll()\n",
    "baseline = model_2010.db.copy()"
   ]
  },
  {
   "cell_type": "markdown",
   "id": "1e7fdc85-b314-4d89-be8c-81575c2f7a35",
   "metadata": {},
   "source": [
    "### 4.1. Going to \"basic\" coverage"
   ]
  },
  {
   "cell_type": "code",
   "execution_count": 15,
   "id": "f373a231-36cf-4ad1-8fe7-058a4ff5bfa9",
   "metadata": {},
   "outputs": [],
   "source": [
    "model_2010.db.update(model_2010.initSC(1-θ, 'eps'))\n",
    "model_2010.db.update(model_2010.solve_PEE(sGrid, s0 = initialSolution['s[t-1]'][t0]))\n",
    "model_2010.reportAll()"
   ]
  }
 ],
 "metadata": {
  "kernelspec": {
   "display_name": "Python 3 (ipykernel)",
   "language": "python",
   "name": "python3"
  },
  "language_info": {
   "codemirror_mode": {
    "name": "ipython",
    "version": 3
   },
   "file_extension": ".py",
   "mimetype": "text/x-python",
   "name": "python",
   "nbconvert_exporter": "python",
   "pygments_lexer": "ipython3",
   "version": "3.11.4"
  }
 },
 "nbformat": 4,
 "nbformat_minor": 5
}
