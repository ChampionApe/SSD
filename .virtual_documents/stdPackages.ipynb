import os, pandas as pd, numpy as np, scipy, seaborn, warnings, pickle
warnings.filterwarnings("ignore", category=RuntimeWarning) # don't print RuntimeWarning in notebook
from importlib.metadata import version
from pyDbs import adj, adjMultiIndex, SymMaps as sm
_repo = 'SSD'
d = {'main': os.path.join(os.getcwd().split(_repo,1)[0],_repo),
     'curr': os.getcwd()}
d.update({'py': os.path.join(d['main'], 'py'),
          'data': os.path.join(d['main'], 'Data'),
          'figs': os.path.join(d['main'], 'Figs')})
os.chdir(d['py'])
import logModelESC, CRRA
os.chdir(d['curr'])





import matplotlib as mpl, matplotlib.pyplot as plt, matplotlib.colors as mcolors, seaborn
from matplotlib import cm
from matplotlib.ticker import LinearLocator
%matplotlib inline
matplotlibVersion = version('matplotlib').split('.')
if (int(matplotlibVersion[1])>5) & (int(matplotlibVersion[0]) == 3):
    plt.style.use('seaborn-v0_8-whitegrid')
    mpl.style.use('seaborn-v0_8')
else:
    plt.style.use('seaborn-whitegrid')
    mpl.style.use('seaborn')
plt.rcParams['font.family'] = 'Palatino Linotype'
prop_cycle = plt.rcParams["axes.prop_cycle"]
colors = prop_cycle.by_key()["color"]
long_colors = ['#1f78b4','#a6cee3','#b2df8a','#33a02c','#fb9a99','#e31a1c','#fdbf6f','#ff7f00','#cab2d6','#6a3d9a','#ffff99','#b15928']





def add_alpha_to_colormap(cmap, alpha=0.5):
    colors = cmap(np.arange(cmap.N))    
    # Add alpha to the RGB array
    RGBA = np.hstack([colors[:, :3], np.full((cmap.N, 1), alpha)])
    # Create new colormap
    new_cmap = mcolors.ListedColormap(RGBA)
    return new_cmap





def dfAx(ax, max_ = 1, min_ = 0, ylabel = None):
    limx, limy = ax.get_xlim(), ax.get_ylim();
    ax.hlines(0,limx[0],limx[1],colors='k',linewidth=1, alpha = .5)
    ax.set_xlim(limx);
    if ylabel:
        ax.set_ylabel(ylabel);
    ax.set_ylim([min(limy[0], min_-.001), max(max_, limy[1])]);
    return ax





def largeFont():
    SMALL_SIZE = 24
    MEDIUM_SIZE = 28
    BIGGER_SIZE = 32
    plt.rc('font', size=SMALL_SIZE)          # controls default text sizes
    plt.rc('axes', titlesize=BIGGER_SIZE)     # fontsize of the axes title
    plt.rc('axes', labelsize=MEDIUM_SIZE)    # fontsize of the x and y labels
    plt.rc('xtick', labelsize=SMALL_SIZE)    # fontsize of the tick labels
    plt.rc('ytick', labelsize=SMALL_SIZE)    # fontsize of the tick labels
    plt.rc('legend', fontsize=SMALL_SIZE)    # legend fontsize
    plt.rc('figure', titlesize=BIGGER_SIZE)  # fontsize of the figure title
def one_graph():
    SMALL_SIZE = 19
    MEDIUM_SIZE = 22
    BIGGER_SIZE = 25
    plt.rc('font', size=SMALL_SIZE)          # controls default text sizes
    plt.rc('axes', titlesize=BIGGER_SIZE)     # fontsize of the axes title
    plt.rc('axes', labelsize=MEDIUM_SIZE)    # fontsize of the x and y labels
    plt.rc('xtick', labelsize=SMALL_SIZE)    # fontsize of the tick labels
    plt.rc('ytick', labelsize=SMALL_SIZE)    # fontsize of the tick labels
    plt.rc('legend', fontsize=SMALL_SIZE)    # legend fontsize
    plt.rc('figure', titlesize=BIGGER_SIZE)  # fontsize of the figure title
def mult_graphs():
    SMALL_SIZE = 16
    MEDIUM_SIZE = 19
    BIGGER_SIZE = 22
    plt.rc('font', size=SMALL_SIZE)          # controls default text sizes
    plt.rc('axes', titlesize=BIGGER_SIZE)     # fontsize of the axes title
    plt.rc('axes', labelsize=MEDIUM_SIZE)    # fontsize of the x and y labels
    plt.rc('xtick', labelsize=SMALL_SIZE)    # fontsize of the tick labels
    plt.rc('ytick', labelsize=SMALL_SIZE)    # fontsize of the tick labels
    plt.rc('legend', fontsize=SMALL_SIZE)    # legend fontsize
    plt.rc('figure', titlesize=BIGGER_SIZE)  # fontsize of the figure title    
