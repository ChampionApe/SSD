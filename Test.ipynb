{
 "cells": [
  {
   "cell_type": "code",
   "execution_count": 1,
   "id": "01e15fb1-e0e8-45ff-96a3-36e66225c6d0",
   "metadata": {},
   "outputs": [],
   "source": [
    "%run stdPackages.ipynb"
   ]
  },
  {
   "cell_type": "markdown",
   "id": "80217a33-21d7-4977-8bd4-240d73088025",
   "metadata": {},
   "source": [
    "*Settings (always exogenous):*"
   ]
  },
  {
   "cell_type": "code",
   "execution_count": 2,
   "id": "193e9258-1571-4a6d-be1a-863fe9d1dbff",
   "metadata": {},
   "outputs": [],
   "source": [
    "ni = 11 # types\n",
    "T  = 10 # periods\n",
    "AVector  = np.linspace(1, 2, T)\n",
    "νVector  = np.full((T,), 1)"
   ]
  },
  {
   "cell_type": "markdown",
   "id": "cf100230-9f2e-44db-8a0d-6e43b8dfed13",
   "metadata": {},
   "source": [
    "*Parameters (to be calibrated or estimated):*"
   ]
  },
  {
   "cell_type": "code",
   "execution_count": 3,
   "id": "70abd4d1-79e1-4752-a557-bf72202069e4",
   "metadata": {},
   "outputs": [],
   "source": [
    "α = 0.5\n",
    "ηVector = np.linspace(1,2,ni) # vector of productivities\n",
    "γVector = np.full((ni,), 1/ni) # vector of population shares\n",
    "XVector = np.full((ni,), .5) # vector of X's\n",
    "βVector = np.full((ni,), .35) # vector of betas\n",
    "ξ = 0.25 # frisch elasticity \n",
    "ϵ = .5\n",
    "θ = .5\n",
    "γu = .1"
   ]
  },
  {
   "cell_type": "markdown",
   "id": "298413c4-0068-43a9-9fa6-ca668daee461",
   "metadata": {},
   "source": [
    "Naming conventions:\n",
    "* Variables that are either defined over $t$ or $i$ are referred to as \"xVector\". \n",
    "* Variables that are defined over $t,i$ are referred to as \"xMatrix\". Rows are $t$, columns are $i$.\n",
    "* If a variable is defined over both $t,i$, and we only need one of the dimensions, we reference  this \"xVector_t\" for instance.\n",
    "\n",
    "Similar conventions are used for functions. "
   ]
  },
  {
   "cell_type": "code",
   "execution_count": 4,
   "id": "a0723818-f1cc-4d07-9edf-4ae2b365b8fd",
   "metadata": {},
   "outputs": [],
   "source": [
    "hiMatrix = np.full((T, ni), 0.5) # candidate\n",
    "siMatrix = np.full((T, ni), 0.5) # candidate"
   ]
  },
  {
   "cell_type": "markdown",
   "id": "90f79f67-b5e3-4c2d-b87b-bcf7a8b7c9f7",
   "metadata": {},
   "source": [
    "Pick out one year:"
   ]
  },
  {
   "cell_type": "code",
   "execution_count": 5,
   "id": "3b8ca6d0-d419-4d76-a619-61a7c3b0d73c",
   "metadata": {},
   "outputs": [],
   "source": [
    "t = 2"
   ]
  },
  {
   "cell_type": "markdown",
   "id": "38ec06f1-5155-48bb-a08e-07665a7db31a",
   "metadata": {},
   "source": [
    "Functions for one specific year:"
   ]
  },
  {
   "cell_type": "markdown",
   "id": "58f73722-a111-4a3f-a893-5da3f048877c",
   "metadata": {},
   "source": [
    "Aggregate labor and savings state:"
   ]
  },
  {
   "cell_type": "code",
   "execution_count": 6,
   "id": "3bd4b6af-2d00-4df7-b28c-7e0419a7da52",
   "metadata": {},
   "outputs": [],
   "source": [
    "A  = AVector[t]\n",
    "ν  = νVector[t]\n",
    "h = base.aggregateLabor(γVector, ηVector, hiMatrix[t,:])\n",
    "s_ = base.aggregateSavings(γVector, siMatrix[t-1,:])"
   ]
  },
  {
   "cell_type": "markdown",
   "id": "3b94595c-208d-4d71-99a3-5966db7ca878",
   "metadata": {},
   "source": [
    "Factor prices:"
   ]
  },
  {
   "cell_type": "code",
   "execution_count": 7,
   "id": "bbfbbd3f-b04b-46ee-aa54-329bdcc455f7",
   "metadata": {},
   "outputs": [],
   "source": [
    "R = base.interestRate(α, A, ν, s_, h)\n",
    "w = base.wageRate(α, A, ν, s_, h)"
   ]
  },
  {
   "cell_type": "markdown",
   "id": "38296de6-deda-4a41-baab-bcf3c1e48223",
   "metadata": {},
   "source": [
    "Average productivity measure:"
   ]
  },
  {
   "cell_type": "code",
   "execution_count": 8,
   "id": "e9d07e4d-f550-4291-b202-30273fb2eac0",
   "metadata": {},
   "outputs": [],
   "source": [
    "Γh = base.auxΓh(γVector, ηVector, XVector, ξ)"
   ]
  },
  {
   "cell_type": "markdown",
   "id": "285340d8-0cd4-46a1-b2d9-f6bf7e247148",
   "metadata": {},
   "source": [
    "**Equilibrium functions**"
   ]
  },
  {
   "cell_type": "code",
   "execution_count": 9,
   "id": "4b4baebe-f020-49a4-8b61-ab312c76d209",
   "metadata": {},
   "outputs": [],
   "source": [
    "τ = 0.5\n",
    "τp= 0.5"
   ]
  },
  {
   "cell_type": "markdown",
   "id": "d0d9e6f9-37ed-406f-aff0-d8201c83a845",
   "metadata": {},
   "source": [
    "*Auxiliary functions of parameters:*"
   ]
  },
  {
   "cell_type": "code",
   "execution_count": 10,
   "id": "756b526a-52e9-412c-be2c-bc2ff6e69743",
   "metadata": {},
   "outputs": [],
   "source": [
    "Γβ1 = base.auxΓβ1(βVector, γVector, ηVector, XVector, ξ)\n",
    "Γβ2 = base.auxΓβ2(βVector, γVector, ηVector, XVector, ξ)\n",
    "Γβ3 = base.auxΓβ3(βVector, γVector)"
   ]
  },
  {
   "cell_type": "markdown",
   "id": "35456a29-9bd2-4810-a137-a54f9fbfaa15",
   "metadata": {},
   "source": [
    "*Simultaneous system of equations for h,s,$\\Upsilon$:*"
   ]
  },
  {
   "cell_type": "code",
   "execution_count": 39,
   "id": "6b6ccba5-267a-4393-b55b-6d8bf3c85669",
   "metadata": {},
   "outputs": [
    {
     "data": {
      "text/plain": [
       "(0.19100933691826963, 1.4276271237599345, 0.05353004092926925)"
      ]
     },
     "execution_count": 39,
     "metadata": {},
     "output_type": "execute_result"
    }
   ],
   "source": [
    "Θs0 = .053 # initial value\n",
    "Θh0 = 1.43 # initial value\n",
    "Υ = base.auxΥ(α, A, ε, θ, γu, Γh, Θh0, Θs0, τ, τp)\n",
    "Θh  = base.Θh(ξ, Γh, Υ)\n",
    "Θs  = base.Θs(α, A, ε, θ, γu, βVector, γVector, ηVector, XVector, ξ, Υ, Γh, τ, τp)\n",
    "Υ, Θh, Θs"
   ]
  },
  {
   "cell_type": "markdown",
   "id": "6a1db241-f971-4d01-839f-f34f342903bb",
   "metadata": {},
   "source": [
    "Find "
   ]
  },
  {
   "cell_type": "code",
   "execution_count": null,
   "id": "10a4440b-cb3b-4f1b-a39b-5d8f5399a28b",
   "metadata": {},
   "outputs": [],
   "source": []
  }
 ],
 "metadata": {
  "kernelspec": {
   "display_name": "Python 3 (ipykernel)",
   "language": "python",
   "name": "python3"
  },
  "language_info": {
   "codemirror_mode": {
    "name": "ipython",
    "version": 3
   },
   "file_extension": ".py",
   "mimetype": "text/x-python",
   "name": "python",
   "nbconvert_exporter": "python",
   "pygments_lexer": "ipython3",
   "version": "3.11.4"
  }
 },
 "nbformat": 4,
 "nbformat_minor": 5
}
