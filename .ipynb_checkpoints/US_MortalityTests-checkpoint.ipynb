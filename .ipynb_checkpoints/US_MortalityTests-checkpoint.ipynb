{
 "cells": [
  {
   "cell_type": "code",
   "execution_count": 1,
   "id": "e641479f-b243-425b-8031-889223c380bf",
   "metadata": {},
   "outputs": [],
   "source": [
    "%run stdPackages.ipynb\n",
    "os.chdir(d['py'])\n",
    "import US_main, US_c, US_policy\n",
    "os.chdir(d['curr'])"
   ]
  },
  {
   "cell_type": "markdown",
   "id": "ee0a30fc-f70b-45c5-8911-c0fe8bb6c0f9",
   "metadata": {
    "tags": []
   },
   "source": [
    "## US FH:"
   ]
  },
  {
   "cell_type": "markdown",
   "id": "0426dc17-8166-4b7e-93d1-4e90b385a97a",
   "metadata": {},
   "source": [
    "Define data and parameters:"
   ]
  },
  {
   "cell_type": "code",
   "execution_count": 2,
   "id": "622df286-a4f9-427b-b13f-98c505006f00",
   "metadata": {
    "tags": []
   },
   "outputs": [],
   "source": [
    "dates_log = pd.Index([1950, 1980, 2010, 2040, 2070, 2100], name = 't')\n",
    "ν_log = np.array([1.504840069, 1.394563144, 1.178137696, 1.055068673, 1.018706685, 1.018706685])\n",
    "T_log = len(ν_log)\n",
    "T = T_log+5\n",
    "dates = dates_log.union(pd.Index([dates_log[-1]+30*i for i in range(1,T-T_log+1)]))\n",
    "ν = np.hstack([ν_log, np.full(T-T_log, ν_log[-1])])\n",
    "A = np.ones(T) # normalize exog. productivity at 1 \n",
    "t0date = 2010 # calibration date\n",
    "t0 = dates.get_loc(t0date) # index for year of calibration \n",
    "\n",
    "\n",
    "# \"Simple\" calibration:\n",
    "α = .281 # capital income share\n",
    "\n",
    "# Household types:\n",
    "γj  = np.array([.056, 0.449, 0.307, 0.188])\n",
    "ni = len(γj)-1\n",
    "hours = np.array([1415.38, 2114.79, 2315.83, 2458.91]) # hours\n",
    "wagerates = np.array([6.914, 14.88, 27.32, 62.26]) # wages\n",
    "income = hours*wagerates\n",
    "zxj = hours/hours[1:].mean()\n",
    "zηj = income/income[1:].mean()\n",
    "pj = np.array([0.385, 0.55, 0.652, 0.74])\n",
    "μj = np.array([0.362, 0.526, 0.684, 0.756]) # voter turnout \n",
    "\n",
    "\n",
    "# other targets:\n",
    "τ0 = .158 # target labor tax rate\n",
    "RR = 39.4/50.1 # replacement rate\n",
    "universalShare = 3.4/15.8 # share of ss going to universal\n",
    "R0 = 2.443 \n",
    "\n",
    "\n",
    "# Initial/baseline values:\n",
    "ξ0 = .35\n",
    "ρ0 = 1.5\n",
    "ω0 = 1.2\n",
    "# βj = np.ones(ni+1)"
   ]
  },
  {
   "cell_type": "markdown",
   "id": "8dd40a5b-64b9-48dc-910b-94f9570b8422",
   "metadata": {},
   "source": [
    "Package them in kwargs:"
   ]
  },
  {
   "cell_type": "code",
   "execution_count": 3,
   "id": "d4987747-cd0a-4f71-a0cf-ad05b8e0537c",
   "metadata": {
    "tags": []
   },
   "outputs": [],
   "source": [
    "kwargs = {'α': α, 'A': A, 'ν': ν, 'γj': γj, 'zxj': zxj, 'zηj': zηj, 'pj': pj, 'μj': μj, 'τ0': τ0, 'RR0': RR, 'UShare0': universalShare, 'R0': R0, 'ξ': ξ0, 'ρ': ρ0, 'ω': ω0}"
   ]
  },
  {
   "cell_type": "markdown",
   "id": "c4e5fd48-9024-4088-856f-7856e5f7cb9d",
   "metadata": {},
   "source": [
    "Initialize model:"
   ]
  },
  {
   "cell_type": "code",
   "execution_count": 4,
   "id": "4d7cfe26-74e2-4210-94c0-a1e5d2f8b9e5",
   "metadata": {
    "tags": []
   },
   "outputs": [],
   "source": [
    "m = US_main.Model(ni = ni, T = T, gridkwargs = {'glob_ns': 25}, **kwargs)"
   ]
  },
  {
   "cell_type": "markdown",
   "id": "65664aaf-a3bd-40ae-98fe-28f8124eb79e",
   "metadata": {},
   "source": [
    "Solve a simple calibration:"
   ]
  },
  {
   "cell_type": "code",
   "execution_count": 5,
   "id": "783e9277-d9ce-47bc-87db-1e53533a638f",
   "metadata": {},
   "outputs": [],
   "source": [
    "m.USCalSimple_PEE_FH(t0);\n",
    "m.USCalSimple_ESC_FH(t0)\n",
    "sol, pol = m.ESC_FH(returnPols = True)"
   ]
  },
  {
   "cell_type": "markdown",
   "id": "934a9376-ee4e-4360-9354-4fd4eb6ad759",
   "metadata": {},
   "source": [
    "Set political weight of the HtM to zero. Recompute and check the solution:"
   ]
  },
  {
   "cell_type": "code",
   "execution_count": 6,
   "id": "e9f64e7d-9f4b-4ae3-b002-dbf306d5f501",
   "metadata": {},
   "outputs": [],
   "source": [
    "# m.db['μj'][0] = 0\n",
    "# m.db['μ0'] = 0"
   ]
  },
  {
   "cell_type": "markdown",
   "id": "9de2bd69-a242-4136-9524-36e349f04920",
   "metadata": {},
   "source": [
    "*Add robust solution method:*"
   ]
  },
  {
   "cell_type": "code",
   "execution_count": 8,
   "id": "1bb2e72e-f934-424e-af2d-f1b8db45e995",
   "metadata": {},
   "outputs": [],
   "source": [
    "grids = m.ESC.grids | {'n': {'τ': 21, 'θ': 21, 'eps': 21}}\n",
    "m.ESC.kwargs_t = {'style': 'GridSC'} | grids\n",
    "m.ESC.kwargs_T = {'style': 'GridSC'} | grids"
   ]
  },
  {
   "cell_type": "markdown",
   "id": "6a292061-a246-47de-a501-9e6aad29003f",
   "metadata": {},
   "source": [
    "*Solve again:*"
   ]
  },
  {
   "cell_type": "markdown",
   "id": "4c7e3fd4-faa4-4f64-b42e-3c69a238c944",
   "metadata": {},
   "source": [
    "For $\\rho \\approx 1.5$ vary voter turnout for the two poorest:"
   ]
  },
  {
   "cell_type": "code",
   "execution_count": 9,
   "id": "6460a657-24f0-42ea-ab32-0cbd3ec497ba",
   "metadata": {},
   "outputs": [],
   "source": [
    "μ0, μ1 = m.db['μj'][0], m.db['μj'][1]"
   ]
  },
  {
   "cell_type": "markdown",
   "id": "1f000fe6-e3c7-4a60-91d7-3cbe580e4d79",
   "metadata": {},
   "source": [
    "Product grid:"
   ]
  },
  {
   "cell_type": "code",
   "execution_count": 63,
   "id": "7cdce63b-09a6-420d-b32c-3f2c11f507d1",
   "metadata": {},
   "outputs": [],
   "source": [
    "grid = np.linspace(0,1,101)"
   ]
  },
  {
   "cell_type": "code",
   "execution_count": 38,
   "id": "d3452621-e82f-4392-a3b8-672c473169c0",
   "metadata": {},
   "outputs": [],
   "source": [
    "solsNew, polsNew = dict.fromkeys(grid), dict.fromkeys(grid)"
   ]
  },
  {
   "cell_type": "markdown",
   "id": "8a2d151d-195e-44e2-a0ae-e1dc0e898912",
   "metadata": {},
   "source": [
    "Def:"
   ]
  },
  {
   "cell_type": "code",
   "execution_count": 19,
   "id": "b9ec77c6-1c50-49da-80c1-bef3d41e90f5",
   "metadata": {},
   "outputs": [],
   "source": [
    "# df = pd.concat([soli['eps'] for soli in sols.values()], axis = 1)\n",
    "# df.set_axis(μ1s, axis = 1).stack().xs(4, level = 't').plot(figsize=(4,3));"
   ]
  },
  {
   "cell_type": "code",
   "execution_count": 70,
   "id": "30cba3db-9ffb-4c20-8b0f-07fb7a5b10a1",
   "metadata": {},
   "outputs": [
    {
     "data": {
      "image/png": "[encoded data removed]",
      "text/plain": [
       "<Figure size 400x300 with 1 Axes>"
      ]
     },
     "metadata": {},
     "output_type": "display_data"
    }
   ],
   "source": [
    "gactive = grid[grid<.68]\n",
    "df = pd.concat([soli['τ'] for k, soli in sols.items() if k in gactive], axis = 1)\n",
    "df.set_axis(gactive, axis = 1).stack().xs(2, level = 't').plot(figsize=(4,3));"
   ]
  },
  {
   "cell_type": "code",
   "execution_count": 39,
   "id": "2aabc064-27c2-471c-8b62-c052c2c7bba0",
   "metadata": {},
   "outputs": [
    {
     "name": "stdout",
     "output_type": "stream",
     "text": [
      "1.0\n",
      "0.99\n",
      "0.98\n",
      "0.97\n",
      "0.96\n",
      "0.95\n",
      "0.94\n",
      "0.9299999999999999\n",
      "0.92\n",
      "0.91\n",
      "0.9\n",
      "0.89\n",
      "0.88\n",
      "0.87\n",
      "0.86\n",
      "0.85\n",
      "0.84\n",
      "0.83\n",
      "0.8200000000000001\n",
      "0.81\n",
      "0.8\n",
      "0.79\n",
      "0.78\n",
      "0.77\n",
      "0.76\n",
      "0.75\n",
      "0.74\n",
      "0.73\n",
      "0.72\n",
      "0.71\n"
     ]
    },
    {
     "ename": "ValueError",
     "evalue": "operands could not be broadcast together with shapes (525,) (526,) ",
     "output_type": "error",
     "traceback": [
      "\u001b[1;31m---------------------------------------------------------------------------\u001b[0m",
      "\u001b[1;31mValueError\u001b[0m                                Traceback (most recent call last)",
      "Cell \u001b[1;32mIn[39], line 8\u001b[0m\n\u001b[0;32m      6\u001b[0m m\u001b[38;5;241m.\u001b[39mdb[\u001b[38;5;124m'\u001b[39m\u001b[38;5;124mμj\u001b[39m\u001b[38;5;124m'\u001b[39m][\u001b[38;5;241m1\u001b[39m] \u001b[38;5;241m=\u001b[39m μ1\u001b[38;5;241m*\u001b[39mg\n\u001b[0;32m      7\u001b[0m m\u001b[38;5;241m.\u001b[39mdb[\u001b[38;5;124m'\u001b[39m\u001b[38;5;124mμi\u001b[39m\u001b[38;5;124m'\u001b[39m][\u001b[38;5;241m0\u001b[39m] \u001b[38;5;241m=\u001b[39m μ1\u001b[38;5;241m*\u001b[39mg\n\u001b[1;32m----> 8\u001b[0m solsNew[g], polsNew[g] \u001b[38;5;241m=\u001b[39m m\u001b[38;5;241m.\u001b[39mESC_FH(returnPols \u001b[38;5;241m=\u001b[39m \u001b[38;5;28;01mTrue\u001b[39;00m)\n\u001b[0;32m      9\u001b[0m \u001b[38;5;28mprint\u001b[39m(g)\n",
      "File \u001b[1;32m~\\Documents\\GitHub\\SSD\\py\\US_main.py:188\u001b[0m, in \u001b[0;36mModel.ESC_FH\u001b[1;34m(self, s0, returnPols, x0_EE, pars)\u001b[0m\n\u001b[0;32m    187\u001b[0m \u001b[38;5;28;01mdef\u001b[39;00m \u001b[38;5;21mESC_FH\u001b[39m(\u001b[38;5;28mself\u001b[39m, s0 \u001b[38;5;241m=\u001b[39m \u001b[38;5;28;01mNone\u001b[39;00m, returnPols \u001b[38;5;241m=\u001b[39m \u001b[38;5;28;01mFalse\u001b[39;00m, x0_EE \u001b[38;5;241m=\u001b[39m \u001b[38;5;28;01mNone\u001b[39;00m, pars \u001b[38;5;241m=\u001b[39m \u001b[38;5;28;01mNone\u001b[39;00m):\n\u001b[1;32m--> 188\u001b[0m \tpolicy \u001b[38;5;241m=\u001b[39m \u001b[38;5;28mself\u001b[39m\u001b[38;5;241m.\u001b[39mESC\u001b[38;5;241m.\u001b[39mFH(pars \u001b[38;5;241m=\u001b[39m pars)\n\u001b[0;32m    189\u001b[0m \t\u001b[38;5;28;01mif\u001b[39;00m s0 \u001b[38;5;129;01mis\u001b[39;00m \u001b[38;5;28;01mNone\u001b[39;00m:\n\u001b[0;32m    190\u001b[0m \t\ts0 \u001b[38;5;241m=\u001b[39m interpFixedPoint(policy[\u001b[38;5;241m0\u001b[39m][\u001b[38;5;124m'\u001b[39m\u001b[38;5;124ms\u001b[39m\u001b[38;5;124m'\u001b[39m], \u001b[38;5;28mself\u001b[39m\u001b[38;5;241m.\u001b[39mdb[\u001b[38;5;124m'\u001b[39m\u001b[38;5;124msGrid\u001b[39m\u001b[38;5;124m'\u001b[39m])\n",
      "File \u001b[1;32m~\\Documents\\GitHub\\SSD\\py\\US_policy.py:59\u001b[0m, in \u001b[0;36mESC.FH\u001b[1;34m(self, pars)\u001b[0m\n\u001b[0;32m     57\u001b[0m sols[\u001b[38;5;28mself\u001b[39m\u001b[38;5;241m.\u001b[39mm\u001b[38;5;241m.\u001b[39mT\u001b[38;5;241m-\u001b[39m\u001b[38;5;241m1\u001b[39m] \u001b[38;5;241m=\u001b[39m \u001b[38;5;28mself\u001b[39m\u001b[38;5;241m.\u001b[39msolve(\u001b[38;5;28mself\u001b[39m\u001b[38;5;241m.\u001b[39mdb[\u001b[38;5;124m'\u001b[39m\u001b[38;5;124mν\u001b[39m\u001b[38;5;124m'\u001b[39m][\u001b[38;5;241m-\u001b[39m\u001b[38;5;241m1\u001b[39m], t \u001b[38;5;241m=\u001b[39m \u001b[38;5;124m'\u001b[39m\u001b[38;5;124mT\u001b[39m\u001b[38;5;124m'\u001b[39m, \u001b[38;5;241m*\u001b[39m\u001b[38;5;241m*\u001b[39m({\u001b[38;5;124m'\u001b[39m\u001b[38;5;124mx0\u001b[39m\u001b[38;5;124m'\u001b[39m: \u001b[38;5;28mself\u001b[39m\u001b[38;5;241m.\u001b[39mx0[\u001b[38;5;28mself\u001b[39m\u001b[38;5;241m.\u001b[39mm\u001b[38;5;241m.\u001b[39mT\u001b[38;5;241m-\u001b[39m\u001b[38;5;241m1\u001b[39m]} \u001b[38;5;241m|\u001b[39m kwargs[\u001b[38;5;28mself\u001b[39m\u001b[38;5;241m.\u001b[39mm\u001b[38;5;241m.\u001b[39mT\u001b[38;5;241m-\u001b[39m\u001b[38;5;241m1\u001b[39m]))\n\u001b[0;32m     58\u001b[0m \u001b[38;5;28;01mfor\u001b[39;00m t \u001b[38;5;129;01min\u001b[39;00m \u001b[38;5;28mrange\u001b[39m(\u001b[38;5;28mself\u001b[39m\u001b[38;5;241m.\u001b[39mm\u001b[38;5;241m.\u001b[39mT\u001b[38;5;241m-\u001b[39m\u001b[38;5;241m2\u001b[39m, \u001b[38;5;241m-\u001b[39m\u001b[38;5;241m1\u001b[39m, \u001b[38;5;241m-\u001b[39m\u001b[38;5;241m1\u001b[39m):\n\u001b[1;32m---> 59\u001b[0m \tsols[t] \u001b[38;5;241m=\u001b[39m \u001b[38;5;28mself\u001b[39m\u001b[38;5;241m.\u001b[39mresampleSolution(\u001b[38;5;28mself\u001b[39m\u001b[38;5;241m.\u001b[39msolve(\u001b[38;5;28mself\u001b[39m\u001b[38;5;241m.\u001b[39mdb[\u001b[38;5;124m'\u001b[39m\u001b[38;5;124mν\u001b[39m\u001b[38;5;124m'\u001b[39m][t], νp \u001b[38;5;241m=\u001b[39m \u001b[38;5;28mself\u001b[39m\u001b[38;5;241m.\u001b[39mdb[\u001b[38;5;124m'\u001b[39m\u001b[38;5;124mν\u001b[39m\u001b[38;5;124m'\u001b[39m][t\u001b[38;5;241m+\u001b[39m\u001b[38;5;241m1\u001b[39m], solp \u001b[38;5;241m=\u001b[39m sols[t\u001b[38;5;241m+\u001b[39m\u001b[38;5;241m1\u001b[39m], \u001b[38;5;241m*\u001b[39m\u001b[38;5;241m*\u001b[39m({\u001b[38;5;124m'\u001b[39m\u001b[38;5;124mx0\u001b[39m\u001b[38;5;124m'\u001b[39m: \u001b[38;5;28mself\u001b[39m\u001b[38;5;241m.\u001b[39mx0[t]} \u001b[38;5;241m|\u001b[39m kwargs[t])))\n\u001b[0;32m     60\u001b[0m \u001b[38;5;28;01mreturn\u001b[39;00m sols\n",
      "File \u001b[1;32m~\\Documents\\GitHub\\SSD\\py\\US_policy.py:100\u001b[0m, in \u001b[0;36mESC.solve\u001b[1;34m(self, ν, style, t, **kwargs)\u001b[0m\n\u001b[0;32m     99\u001b[0m \u001b[38;5;28;01mdef\u001b[39;00m \u001b[38;5;21msolve\u001b[39m(\u001b[38;5;28mself\u001b[39m, ν, style \u001b[38;5;241m=\u001b[39m \u001b[38;5;124m'\u001b[39m\u001b[38;5;124mVector\u001b[39m\u001b[38;5;124m'\u001b[39m, t \u001b[38;5;241m=\u001b[39m \u001b[38;5;124m'\u001b[39m\u001b[38;5;124mt\u001b[39m\u001b[38;5;124m'\u001b[39m, \u001b[38;5;241m*\u001b[39m\u001b[38;5;241m*\u001b[39mkwargs):\n\u001b[1;32m--> 100\u001b[0m \t\u001b[38;5;28;01mreturn\u001b[39;00m \u001b[38;5;28mgetattr\u001b[39m(\u001b[38;5;28mself\u001b[39m, \u001b[38;5;124mf\u001b[39m\u001b[38;5;124m'\u001b[39m\u001b[38;5;124msolve\u001b[39m\u001b[38;5;132;01m{\u001b[39;00mstyle\u001b[38;5;132;01m}\u001b[39;00m\u001b[38;5;124m_\u001b[39m\u001b[38;5;132;01m{\u001b[39;00mt\u001b[38;5;132;01m}\u001b[39;00m\u001b[38;5;124m'\u001b[39m)(ν, \u001b[38;5;241m*\u001b[39m\u001b[38;5;241m*\u001b[39mkwargs)\n",
      "File \u001b[1;32m~\\Documents\\GitHub\\SSD\\py\\US_policy.py:168\u001b[0m, in \u001b[0;36mESC.solveGridSC_t\u001b[1;34m(self, ν, νp, solp, n, l, u, **kwargs)\u001b[0m\n\u001b[0;32m    166\u001b[0m solp_nd \u001b[38;5;241m=\u001b[39m {k: \u001b[38;5;28mself\u001b[39m\u001b[38;5;241m.\u001b[39mmapToIdxnd(k, idxnd, solp) \u001b[38;5;28;01mfor\u001b[39;00m k \u001b[38;5;129;01min\u001b[39;00m solp \u001b[38;5;28;01mif\u001b[39;00m k \u001b[38;5;241m!=\u001b[39m \u001b[38;5;124m'\u001b[39m\u001b[38;5;124mx_unbounded\u001b[39m\u001b[38;5;124m'\u001b[39m}\n\u001b[0;32m    167\u001b[0m sol_nd  \u001b[38;5;241m=\u001b[39m \u001b[38;5;28mself\u001b[39m\u001b[38;5;241m.\u001b[39mprecomputations_t(ν, solp_nd)\n\u001b[1;32m--> 168\u001b[0m objective \u001b[38;5;241m=\u001b[39m pd\u001b[38;5;241m.\u001b[39mDataFrame(\u001b[38;5;28mself\u001b[39m\u001b[38;5;241m.\u001b[39mobjective_t(gridsnd[\u001b[38;5;124m'\u001b[39m\u001b[38;5;124mτ\u001b[39m\u001b[38;5;124m'\u001b[39m]\u001b[38;5;241m.\u001b[39mvalues, θ, eps, ν, νp, sol_nd, solp_nd)\u001b[38;5;241m.\u001b[39mreshape((\u001b[38;5;241m3\u001b[39m,\u001b[38;5;28mlen\u001b[39m(idxnd)))\u001b[38;5;241m.\u001b[39mT, \n\u001b[0;32m    169\u001b[0m \t\t\t\t\t\tindex \u001b[38;5;241m=\u001b[39m idxnd, columns \u001b[38;5;241m=\u001b[39m [\u001b[38;5;124m'\u001b[39m\u001b[38;5;124mτ\u001b[39m\u001b[38;5;124m'\u001b[39m,\u001b[38;5;124m'\u001b[39m\u001b[38;5;124mθ\u001b[39m\u001b[38;5;124m'\u001b[39m,\u001b[38;5;124m'\u001b[39m\u001b[38;5;124meps\u001b[39m\u001b[38;5;124m'\u001b[39m])\n\u001b[0;32m    170\u001b[0m obj2d \u001b[38;5;241m=\u001b[39m objective[\u001b[38;5;124m'\u001b[39m\u001b[38;5;124mτ\u001b[39m\u001b[38;5;124m'\u001b[39m]\u001b[38;5;241m.\u001b[39munstack(\u001b[38;5;124m'\u001b[39m\u001b[38;5;124mτ\u001b[39m\u001b[38;5;124m'\u001b[39m)\u001b[38;5;241m.\u001b[39mvalues\u001b[38;5;241m.\u001b[39mT\n\u001b[0;32m    171\u001b[0m τ2d \u001b[38;5;241m=\u001b[39m gridsnd[\u001b[38;5;124m'\u001b[39m\u001b[38;5;124mτ\u001b[39m\u001b[38;5;124m'\u001b[39m]\u001b[38;5;241m.\u001b[39munstack(\u001b[38;5;124m'\u001b[39m\u001b[38;5;124mτ\u001b[39m\u001b[38;5;124m'\u001b[39m)\u001b[38;5;241m.\u001b[39mvalues\u001b[38;5;241m.\u001b[39mT\n",
      "File \u001b[1;32m~\\Documents\\GitHub\\SSD\\py\\US_policy.py:212\u001b[0m, in \u001b[0;36mESC.objective_t\u001b[1;34m(self, τ, θ, eps, ν, νp, sol, solp)\u001b[0m\n\u001b[0;32m    210\u001b[0m \u001b[38;5;28;01mdef\u001b[39;00m \u001b[38;5;21mobjective_t\u001b[39m(\u001b[38;5;28mself\u001b[39m, τ, θ, eps, ν, νp, sol, solp):\n\u001b[0;32m    211\u001b[0m \tτBound, θBound, epsBound \u001b[38;5;241m=\u001b[39m np\u001b[38;5;241m.\u001b[39mclip(τ, \u001b[38;5;28mself\u001b[39m\u001b[38;5;241m.\u001b[39mdb[\u001b[38;5;124m'\u001b[39m\u001b[38;5;124mτ_l\u001b[39m\u001b[38;5;124m'\u001b[39m], \u001b[38;5;28mself\u001b[39m\u001b[38;5;241m.\u001b[39mdb[\u001b[38;5;124m'\u001b[39m\u001b[38;5;124mτ_u\u001b[39m\u001b[38;5;124m'\u001b[39m]), np\u001b[38;5;241m.\u001b[39mclip(θ, \u001b[38;5;28mself\u001b[39m\u001b[38;5;241m.\u001b[39mdb[\u001b[38;5;124m'\u001b[39m\u001b[38;5;124mθ_l\u001b[39m\u001b[38;5;124m'\u001b[39m], \u001b[38;5;28mself\u001b[39m\u001b[38;5;241m.\u001b[39mdb[\u001b[38;5;124m'\u001b[39m\u001b[38;5;124mθ_u\u001b[39m\u001b[38;5;124m'\u001b[39m]), np\u001b[38;5;241m.\u001b[39mclip(eps, \u001b[38;5;28mself\u001b[39m\u001b[38;5;241m.\u001b[39mdb[\u001b[38;5;124m'\u001b[39m\u001b[38;5;124meps_l\u001b[39m\u001b[38;5;124m'\u001b[39m], \u001b[38;5;28mself\u001b[39m\u001b[38;5;241m.\u001b[39mdb[\u001b[38;5;124m'\u001b[39m\u001b[38;5;124meps_u\u001b[39m\u001b[38;5;124m'\u001b[39m])\n\u001b[1;32m--> 212\u001b[0m \tfuncOfτ \u001b[38;5;241m=\u001b[39m \u001b[38;5;28mself\u001b[39m\u001b[38;5;241m.\u001b[39mfunc_t(τBound, θBound, epsBound, ν, sol, solp)\n\u001b[0;32m    213\u001b[0m \t\u001b[38;5;28;01mreturn\u001b[39;00m \u001b[38;5;28mself\u001b[39m\u001b[38;5;241m.\u001b[39mC\u001b[38;5;241m.\u001b[39mESC_t(τBound \u001b[38;5;241m=\u001b[39m τBound, θBound \u001b[38;5;241m=\u001b[39m θBound, epsBound \u001b[38;5;241m=\u001b[39m epsBound, τ \u001b[38;5;241m=\u001b[39m τ, θ \u001b[38;5;241m=\u001b[39m θ, eps \u001b[38;5;241m=\u001b[39m eps, ν \u001b[38;5;241m=\u001b[39m ν,\n\u001b[0;32m    214\u001b[0m \t\t\t\t\t\t\t\t\t\t\t\t\t\t\t   τp\u001b[38;5;241m=\u001b[39m solp[\u001b[38;5;124m'\u001b[39m\u001b[38;5;124mτ\u001b[39m\u001b[38;5;124m'\u001b[39m], θp\u001b[38;5;241m=\u001b[39m solp[\u001b[38;5;124m'\u001b[39m\u001b[38;5;124mθ\u001b[39m\u001b[38;5;124m'\u001b[39m], epsp\u001b[38;5;241m=\u001b[39m solp[\u001b[38;5;124m'\u001b[39m\u001b[38;5;124meps\u001b[39m\u001b[38;5;124m'\u001b[39m], νp\u001b[38;5;241m=\u001b[39m νp,\n\u001b[0;32m    215\u001b[0m \t\t\t\t\t\ts_ \u001b[38;5;241m=\u001b[39m funcOfτ[\u001b[38;5;124m'\u001b[39m\u001b[38;5;124ms[t-1]\u001b[39m\u001b[38;5;124m'\u001b[39m], s \u001b[38;5;241m=\u001b[39m sol[\u001b[38;5;124m'\u001b[39m\u001b[38;5;124ms\u001b[39m\u001b[38;5;124m'\u001b[39m], h \u001b[38;5;241m=\u001b[39m sol[\u001b[38;5;124m'\u001b[39m\u001b[38;5;124mh\u001b[39m\u001b[38;5;124m'\u001b[39m], hp\u001b[38;5;241m=\u001b[39m solp[\u001b[38;5;124m'\u001b[39m\u001b[38;5;124mh\u001b[39m\u001b[38;5;124m'\u001b[39m], Γs \u001b[38;5;241m=\u001b[39msolp[\u001b[38;5;124m'\u001b[39m\u001b[38;5;124mΓs\u001b[39m\u001b[38;5;124m'\u001b[39m], Bp \u001b[38;5;241m=\u001b[39m solp[\u001b[38;5;124m'\u001b[39m\u001b[38;5;124mB\u001b[39m\u001b[38;5;124m'\u001b[39m], sSpread \u001b[38;5;241m=\u001b[39m funcOfτ[\u001b[38;5;124m'\u001b[39m\u001b[38;5;124msi/s\u001b[39m\u001b[38;5;124m'\u001b[39m],\n\u001b[0;32m    216\u001b[0m \t\t\t\t\t\tdlnh_Dτ \u001b[38;5;241m=\u001b[39m funcOfτ[\u001b[38;5;124m'\u001b[39m\u001b[38;5;124mdln(h)/dτ\u001b[39m\u001b[38;5;124m'\u001b[39m], dlns_Dτ \u001b[38;5;241m=\u001b[39m funcOfτ[\u001b[38;5;124m'\u001b[39m\u001b[38;5;124mdln(s)/dτ\u001b[39m\u001b[38;5;124m'\u001b[39m], dlnΓs_Dτ \u001b[38;5;241m=\u001b[39m funcOfτ[\u001b[38;5;124m'\u001b[39m\u001b[38;5;124mdln(Γs)/dτ\u001b[39m\u001b[38;5;124m'\u001b[39m], dlnhp_Dlns \u001b[38;5;241m=\u001b[39m solp[\u001b[38;5;124m'\u001b[39m\u001b[38;5;124mdln(h)/dln(s[t-1])\u001b[39m\u001b[38;5;124m'\u001b[39m], \n\u001b[0;32m    217\u001b[0m \t\t\t\t\t\tdτp_dτ \u001b[38;5;241m=\u001b[39m funcOfτ[\u001b[38;5;124m'\u001b[39m\u001b[38;5;124mdτ[t+1]/dτ\u001b[39m\u001b[38;5;124m'\u001b[39m], dθp_dτ \u001b[38;5;241m=\u001b[39m funcOfτ[\u001b[38;5;124m'\u001b[39m\u001b[38;5;124mdθ[t+1]/dτ\u001b[39m\u001b[38;5;124m'\u001b[39m], depsp_dτ \u001b[38;5;241m=\u001b[39m funcOfτ[\u001b[38;5;124m'\u001b[39m\u001b[38;5;124mdeps[t+1]/dτ\u001b[39m\u001b[38;5;124m'\u001b[39m])\n",
      "File \u001b[1;32m~\\Documents\\GitHub\\SSD\\py\\US_policy.py:223\u001b[0m, in \u001b[0;36mESC.func_t\u001b[1;34m(self, τ, θ, eps, ν, sol, solp)\u001b[0m\n\u001b[0;32m    221\u001b[0m funcOfτ \u001b[38;5;241m=\u001b[39m {\u001b[38;5;124m'\u001b[39m\u001b[38;5;124ms[t-1]\u001b[39m\u001b[38;5;124m'\u001b[39m: sol[\u001b[38;5;124m'\u001b[39m\u001b[38;5;124ms_τ0\u001b[39m\u001b[38;5;124m'\u001b[39m]\u001b[38;5;241m*\u001b[39m(\u001b[38;5;241m1\u001b[39m\u001b[38;5;241m-\u001b[39mτ)\u001b[38;5;241m*\u001b[39m\u001b[38;5;241m*\u001b[39m(\u001b[38;5;241m-\u001b[39m\u001b[38;5;241m1\u001b[39m\u001b[38;5;241m/\u001b[39m\u001b[38;5;28mself\u001b[39m\u001b[38;5;241m.\u001b[39mdb[\u001b[38;5;124m'\u001b[39m\u001b[38;5;124mα\u001b[39m\u001b[38;5;124m'\u001b[39m])}\n\u001b[0;32m    222\u001b[0m funcOfτ[\u001b[38;5;124m'\u001b[39m\u001b[38;5;124mB\u001b[39m\u001b[38;5;124m'\u001b[39m] \u001b[38;5;241m=\u001b[39m \u001b[38;5;28mself\u001b[39m\u001b[38;5;241m.\u001b[39mC\u001b[38;5;241m.\u001b[39mB(funcOfτ[\u001b[38;5;124m'\u001b[39m\u001b[38;5;124ms[t-1]\u001b[39m\u001b[38;5;124m'\u001b[39m], sol[\u001b[38;5;124m'\u001b[39m\u001b[38;5;124mh\u001b[39m\u001b[38;5;124m'\u001b[39m], ν)\n\u001b[1;32m--> 223\u001b[0m funcOfτ[\u001b[38;5;124m'\u001b[39m\u001b[38;5;124mΓs\u001b[39m\u001b[38;5;124m'\u001b[39m] \u001b[38;5;241m=\u001b[39m \u001b[38;5;28mself\u001b[39m\u001b[38;5;241m.\u001b[39mC\u001b[38;5;241m.\u001b[39mΓs(funcOfτ[\u001b[38;5;124m'\u001b[39m\u001b[38;5;124mB\u001b[39m\u001b[38;5;124m'\u001b[39m], τ, θ, eps)\n\u001b[0;32m    224\u001b[0m funcOfτ[\u001b[38;5;124m'\u001b[39m\u001b[38;5;124msi/s\u001b[39m\u001b[38;5;124m'\u001b[39m] \u001b[38;5;241m=\u001b[39m \u001b[38;5;28mself\u001b[39m\u001b[38;5;241m.\u001b[39mC\u001b[38;5;241m.\u001b[39msavingsSpread(funcOfτ[\u001b[38;5;124m'\u001b[39m\u001b[38;5;124mB\u001b[39m\u001b[38;5;124m'\u001b[39m], funcOfτ[\u001b[38;5;124m'\u001b[39m\u001b[38;5;124mΓs\u001b[39m\u001b[38;5;124m'\u001b[39m], τ, θ, eps)\n\u001b[0;32m    225\u001b[0m funcOfτ\u001b[38;5;241m.\u001b[39mupdate(\u001b[38;5;28mself\u001b[39m\u001b[38;5;241m.\u001b[39mC\u001b[38;5;241m.\u001b[39mEEDerivatives(sol[\u001b[38;5;124m'\u001b[39m\u001b[38;5;124mΨ\u001b[39m\u001b[38;5;124m'\u001b[39m], sol[\u001b[38;5;124m'\u001b[39m\u001b[38;5;124mσ\u001b[39m\u001b[38;5;124m'\u001b[39m], solp[\u001b[38;5;124m'\u001b[39m\u001b[38;5;124m∂ln(h)/∂ln(s[t-1])\u001b[39m\u001b[38;5;124m'\u001b[39m], τ))\n",
      "File \u001b[1;32m~\\Documents\\GitHub\\SSD\\py\\US_c.py:66\u001b[0m, in \u001b[0;36mC.Γs\u001b[1;34m(self, B, τp, θp, epsp)\u001b[0m\n\u001b[0;32m     64\u001b[0m \u001b[38;5;28;01mdef\u001b[39;00m \u001b[38;5;21mΓs\u001b[39m(\u001b[38;5;28mself\u001b[39m, B \u001b[38;5;241m=\u001b[39m \u001b[38;5;28;01mNone\u001b[39;00m, τp \u001b[38;5;241m=\u001b[39m \u001b[38;5;28;01mNone\u001b[39;00m, θp \u001b[38;5;241m=\u001b[39m \u001b[38;5;28;01mNone\u001b[39;00m, epsp \u001b[38;5;241m=\u001b[39m \u001b[38;5;28;01mNone\u001b[39;00m):\n\u001b[0;32m     65\u001b[0m \u001b[38;5;250m\t\u001b[39m\u001b[38;5;124;03m\"\"\" τp, Bp, θp, epsp are vectors of the same length\"\"\"\u001b[39;00m\n\u001b[1;32m---> 66\u001b[0m \t\u001b[38;5;28;01mreturn\u001b[39;00m (\u001b[38;5;241m1\u001b[39m\u001b[38;5;241m/\u001b[39m(\u001b[38;5;241m1\u001b[39m\u001b[38;5;241m+\u001b[39m\u001b[38;5;28mself\u001b[39m\u001b[38;5;241m.\u001b[39mdb[\u001b[38;5;124m'\u001b[39m\u001b[38;5;124mξ\u001b[39m\u001b[38;5;124m'\u001b[39m]))\u001b[38;5;241m*\u001b[39mnp\u001b[38;5;241m.\u001b[39mmatmul(\u001b[38;5;28mself\u001b[39m\u001b[38;5;241m.\u001b[39mdb[\u001b[38;5;124m'\u001b[39m\u001b[38;5;124mγi\u001b[39m\u001b[38;5;124m'\u001b[39m] \u001b[38;5;241m*\u001b[39m \u001b[38;5;28mself\u001b[39m\u001b[38;5;241m.\u001b[39mauxProd, B\u001b[38;5;241m/\u001b[39m(\u001b[38;5;241m1\u001b[39m\u001b[38;5;241m+\u001b[39mB)) \u001b[38;5;241m/\u001b[39m(\u001b[38;5;241m1\u001b[39m\u001b[38;5;241m+\u001b[39m\u001b[38;5;28mself\u001b[39m\u001b[38;5;241m.\u001b[39mdb[\u001b[38;5;124m'\u001b[39m\u001b[38;5;124mαr\u001b[39m\u001b[38;5;124m'\u001b[39m]\u001b[38;5;241m*\u001b[39m\u001b[38;5;28mself\u001b[39m\u001b[38;5;241m.\u001b[39mauxPen(τp, epsp)\u001b[38;5;241m*\u001b[39m(θp\u001b[38;5;241m+\u001b[39m(epsp\u001b[38;5;241m+\u001b[39m(\u001b[38;5;241m1\u001b[39m\u001b[38;5;241m-\u001b[39mθp)\u001b[38;5;241m/\u001b[39m(\u001b[38;5;241m1\u001b[39m\u001b[38;5;241m-\u001b[39m\u001b[38;5;28mself\u001b[39m\u001b[38;5;241m.\u001b[39mdb[\u001b[38;5;124m'\u001b[39m\u001b[38;5;124mγ0\u001b[39m\u001b[38;5;124m'\u001b[39m]))\u001b[38;5;241m*\u001b[39mnp\u001b[38;5;241m.\u001b[39mmatmul(\u001b[38;5;28mself\u001b[39m\u001b[38;5;241m.\u001b[39mdb[\u001b[38;5;124m'\u001b[39m\u001b[38;5;124mγi\u001b[39m\u001b[38;5;124m'\u001b[39m], \u001b[38;5;241m1\u001b[39m\u001b[38;5;241m/\u001b[39m(\u001b[38;5;241m1\u001b[39m\u001b[38;5;241m+\u001b[39mB))))\n",
      "File \u001b[1;32m~\\Documents\\GitHub\\SSD\\py\\US_c.py:47\u001b[0m, in \u001b[0;36mC.auxPen\u001b[1;34m(self, τ, eps)\u001b[0m\n\u001b[0;32m     46\u001b[0m \u001b[38;5;28;01mdef\u001b[39;00m \u001b[38;5;21mauxPen\u001b[39m(\u001b[38;5;28mself\u001b[39m, τ \u001b[38;5;241m=\u001b[39m \u001b[38;5;28;01mNone\u001b[39;00m, eps \u001b[38;5;241m=\u001b[39m \u001b[38;5;28;01mNone\u001b[39;00m):\n\u001b[1;32m---> 47\u001b[0m \t\u001b[38;5;28;01mreturn\u001b[39;00m \u001b[38;5;28mself\u001b[39m\u001b[38;5;241m.\u001b[39mdb[\u001b[38;5;124m'\u001b[39m\u001b[38;5;124mp\u001b[39m\u001b[38;5;124m'\u001b[39m]\u001b[38;5;241m*\u001b[39mτ\u001b[38;5;241m/\u001b[39m(eps\u001b[38;5;241m*\u001b[39m\u001b[38;5;28mself\u001b[39m\u001b[38;5;241m.\u001b[39mdb[\u001b[38;5;124m'\u001b[39m\u001b[38;5;124mp̄\u001b[39m\u001b[38;5;124m'\u001b[39m]\u001b[38;5;241m+\u001b[39m\u001b[38;5;28mself\u001b[39m\u001b[38;5;241m.\u001b[39mdb[\u001b[38;5;124m'\u001b[39m\u001b[38;5;124mp\u001b[39m\u001b[38;5;124m'\u001b[39m])\n",
      "\u001b[1;31mValueError\u001b[0m: operands could not be broadcast together with shapes (525,) (526,) "
     ]
    }
   ],
   "source": [
    "for g in grid:\n",
    "    # m.db['ρ'] = ρ\n",
    "    # m.db['μj'][1] = μi\n",
    "    m.db['μj'][0] = μ0*g\n",
    "    m.db['μ0'] = μ0*g\n",
    "    m.db['μj'][1] = μ1*g\n",
    "    m.db['μi'][0] = μ1*g\n",
    "    solsNew[g], polsNew[g] = m.ESC_FH(returnPols = True)\n",
    "    print(g)"
   ]
  },
  {
   "cell_type": "code",
   "execution_count": 93,
   "id": "89cddb8f-cab8-460e-9cfc-a9f8d20066be",
   "metadata": {},
   "outputs": [],
   "source": [
    "soltest, poltest = m.ESC_FH(returnPols = True)"
   ]
  },
  {
   "cell_type": "markdown",
   "id": "accfa1b6-4aff-4e4d-93e5-d7d4185896ba",
   "metadata": {},
   "source": [
    "Now, try to increase $\\rho$ by a lot and see what happens to the solution:"
   ]
  },
  {
   "cell_type": "code",
   "execution_count": 42,
   "id": "91c75f7e-6000-4ba7-b4c1-947ec2435219",
   "metadata": {},
   "outputs": [],
   "source": [
    "m.db['ρ'] = 2"
   ]
  },
  {
   "cell_type": "code",
   "execution_count": 43,
   "id": "9a727ae8-b9aa-4e75-90f7-dd876a772856",
   "metadata": {},
   "outputs": [],
   "source": [
    "soltest, poltest = m.ESC_FH(returnPols = True)"
   ]
  },
  {
   "cell_type": "markdown",
   "id": "6a6a2821-66ab-43a3-ab51-2a14796cefc1",
   "metadata": {},
   "source": [
    "Now, start increasing $\\rho$:"
   ]
  },
  {
   "cell_type": "code",
   "execution_count": null,
   "id": "1d56d4e2-d84e-4f6a-835d-0611417e77f4",
   "metadata": {},
   "outputs": [],
   "source": [
    "m.ESC.kwargs_t = {'style': 'GridSC'} | grids"
   ]
  },
  {
   "cell_type": "code",
   "execution_count": null,
   "id": "1647f7cf-f581-4307-8177-6c950fa20b50",
   "metadata": {},
   "outputs": [],
   "source": [
    "sols, pols = "
   ]
  },
  {
   "cell_type": "code",
   "execution_count": 8,
   "id": "2cb8ae23-e7e3-4e73-b668-e5d121370546",
   "metadata": {},
   "outputs": [],
   "source": [
    "m.ESC.kwargs_t = {'style': 'GridSC'} | grids\n",
    "m.ESC.kwargs_T = {'style': 'GridSC'} | grids"
   ]
  },
  {
   "cell_type": "code",
   "execution_count": 9,
   "id": "bf88d116-7c9a-441f-bbda-e3d4a21999b5",
   "metadata": {},
   "outputs": [],
   "source": [
    "soltest, poltest = m.ESC_FH(returnPols = True)"
   ]
  },
  {
   "cell_type": "markdown",
   "id": "2610178e-4a95-44d0-91b5-96dd3d7987dc",
   "metadata": {},
   "source": [
    "Adjust $\\mu$ shares:"
   ]
  },
  {
   "cell_type": "markdown",
   "id": "cc9c3ad8-e71e-4762-bd9e-b895036ee66a",
   "metadata": {},
   "source": [
    "Calibrateτ"
   ]
  },
  {
   "cell_type": "code",
   "execution_count": 8,
   "id": "414f650e-5bee-49fa-b9b4-03a98757661c",
   "metadata": {},
   "outputs": [],
   "source": [
    "m.db['μj'][0] = .1\n",
    "m.db['μ0'] = .1"
   ]
  },
  {
   "cell_type": "code",
   "execution_count": 9,
   "id": "8f82a296-a25f-4942-823d-294952f1ac4c",
   "metadata": {},
   "outputs": [],
   "source": [
    "m.db['μj'][1] = .15\n",
    "m.db['μi'][0] = .15"
   ]
  },
  {
   "cell_type": "code",
   "execution_count": 10,
   "id": "8c0c9604-35a6-4fe2-b598-dbf5aae479ac",
   "metadata": {},
   "outputs": [],
   "source": [
    "soltest, poltest = m.ESC_FH(returnPols = True)"
   ]
  },
  {
   "cell_type": "code",
   "execution_count": 14,
   "id": "63a86d45-eae8-4ffe-8c25-989d0671ff5a",
   "metadata": {},
   "outputs": [
    {
     "data": {
      "text/plain": [
       "<Axes: xlabel='t'>"
      ]
     },
     "execution_count": 14,
     "metadata": {},
     "output_type": "execute_result"
    },
    {
     "data": {
      "image/png": "[encoded data removed]",
      "text/plain": [
       "<Figure size 800x550 with 1 Axes>"
      ]
     },
     "metadata": {},
     "output_type": "display_data"
    }
   ],
   "source": [
    "soltest['eps'].plot()"
   ]
  },
  {
   "cell_type": "markdown",
   "id": "8a0129a7-477a-4c75-9f24-3c75867c5e86",
   "metadata": {},
   "source": [
    "Check it out again:"
   ]
  },
  {
   "cell_type": "code",
   "execution_count": 15,
   "id": "dea63594-7c81-4efa-95ad-4191e3d033b5",
   "metadata": {},
   "outputs": [],
   "source": [
    "# m.USCalSimple_ESC_FH(t0)\n",
    "# sol1, pol1 = m.ESC_FH(returnPols = True)"
   ]
  }
 ],
 "metadata": {
  "kernelspec": {
   "display_name": "Python 3 (ipykernel)",
   "language": "python",
   "name": "python3"
  },
  "language_info": {
   "codemirror_mode": {
    "name": "ipython",
    "version": 3
   },
   "file_extension": ".py",
   "mimetype": "text/x-python",
   "name": "python",
   "nbconvert_exporter": "python",
   "pygments_lexer": "ipython3",
   "version": "3.11.4"
  }
 },
 "nbformat": 4,
 "nbformat_minor": 5
}
