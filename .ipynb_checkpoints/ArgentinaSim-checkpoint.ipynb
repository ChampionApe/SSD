{
 "cells": [
  {
   "cell_type": "code",
   "execution_count": 1,
   "id": "0b0ac231-afcf-448d-b672-3a55fd6d701c",
   "metadata": {},
   "outputs": [],
   "source": [
    "%run stdPackages.ipynb"
   ]
  },
  {
   "cell_type": "markdown",
   "id": "2f689974-e13e-4fb6-9d51-e2d3a4ab0934",
   "metadata": {
    "tags": []
   },
   "source": [
    "# Social Security Design - Argentina"
   ]
  },
  {
   "cell_type": "markdown",
   "id": "2cf3dbfa-2019-458e-b722-3427556ae5f3",
   "metadata": {},
   "source": [
    "**TO DO:** (1) Check tail behavior of np.gradient. (2) Check formula for tax policy and how $\\tau_{t+1}/\\tau_t$ behaves when $\\rho>1$. (3) Consider looping over numerical problems to gain some stability. "
   ]
  },
  {
   "cell_type": "markdown",
   "id": "9d2d01f3-5bc8-463d-989f-733f80388e96",
   "metadata": {},
   "source": [
    "This loops through different parameter values for $\\rho$, calibrates the model, stores the dictionary of policy functions for each $t$, stores main calibration parameters, and the solution path. We start from the LOG model."
   ]
  },
  {
   "cell_type": "code",
   "execution_count": 2,
   "id": "b08a03e8-80a7-45d5-9bd5-6820537aacdb",
   "metadata": {},
   "outputs": [],
   "source": [
    "ρLower = np.round(np.linspace(0.75, 1, 21), 3) # we need more dense grid when we lower ρ \n",
    "ρUpper = np.round(np.linspace(1, 2, 11), 3)\n",
    "# ρgrid = np.array([1, 1.1])\n",
    "ρgrid = np.hstack([ρLower, ρUpper[1:]])\n",
    "sols = dict.fromkeys(ρgrid)\n",
    "cals = dict.fromkeys(ρgrid)\n",
    "paths = dict.fromkeys(ρgrid)"
   ]
  },
  {
   "cell_type": "markdown",
   "id": "6333bab8-c602-481b-bca9-00cb41e4052d",
   "metadata": {
    "tags": []
   },
   "source": [
    "## 1. Data and settings"
   ]
  },
  {
   "cell_type": "code",
   "execution_count": 3,
   "id": "592a7e93-19b3-45a4-b169-f5dc691f071d",
   "metadata": {},
   "outputs": [],
   "source": [
    "t0date = 2010\n",
    "ngrid = 100\n",
    "ns0 = 100\n",
    "t_ss  = 5 # number of periods in steady state\n",
    "%run ArgentinaData.ipynb"
   ]
  },
  {
   "cell_type": "markdown",
   "id": "5766b6c7-af90-42a8-94f4-365a28064fa4",
   "metadata": {},
   "source": [
    "## 2. LOG model"
   ]
  },
  {
   "cell_type": "markdown",
   "id": "6417dac2-a7b0-4c98-8f82-623b654a81f0",
   "metadata": {},
   "source": [
    "Calibrate, solve policy functions, identify PEE paths:"
   ]
  },
  {
   "cell_type": "code",
   "execution_count": null,
   "id": "f1afc545-b56c-48ca-9cb8-7580a939c48a",
   "metadata": {},
   "outputs": [],
   "source": [
    "cals[1] = m.calibLOG()\n",
    "sols[1] = m.LOG.FH()\n",
    "paths[1] = m.EE_FH_LOG_solve(sols[1])"
   ]
  },
  {
   "cell_type": "markdown",
   "id": "d6e67696-4a36-4fb0-b9e8-49170b970301",
   "metadata": {},
   "source": [
    "### 3. CRRA model"
   ]
  },
  {
   "cell_type": "markdown",
   "id": "4e3efa38-c715-4e04-a7a2-7c181b5780ee",
   "metadata": {},
   "source": [
    " Start by broadcasting LOG solution CRRA state space:"
   ]
  },
  {
   "cell_type": "code",
   "execution_count": 8,
   "id": "943e0897-929f-4b0f-a2c7-73dfb8b1f31b",
   "metadata": {},
   "outputs": [],
   "source": [
    "m.PEE.interpInitialsFromLOG(sols[1], paths[1])\n",
    "m.PEE.kwargs_t['x0_from_solp'] = False # Use x0 instead of solp when iterating over time"
   ]
  },
  {
   "cell_type": "markdown",
   "id": "ef0e6a43-923c-439e-9948-4ed272eaa9af",
   "metadata": {},
   "source": [
    "Loop through values of $\\rho$:"
   ]
  },
  {
   "cell_type": "code",
   "execution_count": null,
   "id": "6f9bf3c4-9093-47d1-9abf-b3551965e41f",
   "metadata": {
    "scrolled": true
   },
   "outputs": [],
   "source": [
    "warnings.simplefilter(action = \"ignore\", category = RuntimeWarning)\n",
    "for ρ in ρgrid[ρgrid>1]:\n",
    "    m.db.update(m.adjPar('ρ', ρ))\n",
    "    cals[ρ] = m.calibPEE()\n",
    "    sols[ρ] = m.PEE.FH()\n",
    "    paths[ρ] = m.EE_FH_PEE_solve(sols[ρ])\n",
    "    print(ρ)"
   ]
  },
  {
   "cell_type": "markdown",
   "id": "249e31ae-631b-45f8-a548-6212c9d6f067",
   "metadata": {},
   "source": [
    "Reset values to LOG. Then loop for lower values:"
   ]
  },
  {
   "cell_type": "code",
   "execution_count": 7,
   "id": "b8bc69a8-8ac5-45a5-8401-0436e2129c66",
   "metadata": {},
   "outputs": [],
   "source": [
    "m.calibUpdateParameters(cals[1])\n",
    "m.PEE.interpInitialsFromLOG(sols[1], paths[1])"
   ]
  },
  {
   "cell_type": "markdown",
   "id": "c848f0ac-78a5-4a31-87b5-ca19ff9d4abb",
   "metadata": {},
   "source": [
    "Loop the other way through the grid:"
   ]
  },
  {
   "cell_type": "code",
   "execution_count": 8,
   "id": "1135a142-d06d-4b44-9841-58d2fb901ca9",
   "metadata": {},
   "outputs": [
    {
     "name": "stdout",
     "output_type": "stream",
     "text": [
      "0.995\n",
      "0.99\n",
      "0.985\n",
      "0.98\n",
      "0.975\n",
      "0.97\n",
      "0.965\n",
      "0.96\n",
      "0.955\n",
      "0.95\n",
      "0.945\n",
      "0.94\n",
      "0.93\n",
      "0.925\n",
      "0.92\n",
      "0.915\n",
      "0.91\n"
     ]
    }
   ],
   "source": [
    "for ρ in ρgrid[ρgrid<1][::-1]:\n",
    "    try:\n",
    "        if cals[ρ] is None:\n",
    "            m.db.update(m.adjPar('ρ', ρ))\n",
    "            cals[ρ] = m.calibPEE()\n",
    "            sols[ρ] = m.PEE.FH()\n",
    "            paths[ρ] = m.EE_FH_PEE_solveRobust(sols[ρ])\n",
    "            print(ρ)\n",
    "    except AssertionError:\n",
    "        cals[ρ] = \"\"\"Failed to calibrate\"\"\""
   ]
  },
  {
   "cell_type": "code",
   "execution_count": 14,
   "id": "bb2eed50-59a9-456a-a7e7-9e15cd03e50c",
   "metadata": {},
   "outputs": [],
   "source": [
    "m.db.update(m.adjPar('ρ', 0.9))\n",
    "self = m.PEE"
   ]
  },
  {
   "cell_type": "code",
   "execution_count": 40,
   "id": "5de122e7-cc87-4e38-9d61-3e1550345c57",
   "metadata": {},
   "outputs": [],
   "source": [
    "kwargs = self.FH_kwargs\n",
    "s = dict.fromkeys(self.db['t'])\n",
    "t = self.db['t'][-1]\n",
    "self.BG.t = t\n",
    "s[t] = self.solve(t = 'T', **({'x0': self.x0[t]} | kwargs[t]))"
   ]
  },
  {
   "cell_type": "code",
   "execution_count": 85,
   "id": "1fe34eae-91f2-45f9-b52f-1d7e170dd444",
   "metadata": {},
   "outputs": [],
   "source": [
    "t = t-1\n",
    "self.BG.t = t"
   ]
  },
  {
   "cell_type": "code",
   "execution_count": 118,
   "id": "39d3b69c-0699-4211-b771-6bb93cd40439",
   "metadata": {},
   "outputs": [],
   "source": [
    "s[t] = self.solve(solp = s[t+1], **({'x0': self.x0[t]} | kwargs[t]))"
   ]
  },
  {
   "cell_type": "code",
   "execution_count": 130,
   "id": "4880f98b-86ab-43e0-9f9d-76093a6f2ec2",
   "metadata": {},
   "outputs": [
    {
     "data": {
      "text/plain": [
       "<Axes: xlabel='sIdx'>"
      ]
     },
     "execution_count": 130,
     "metadata": {},
     "output_type": "execute_result"
    },
    {
     "data": {
      "image/png": "[encoded data removed]",
      "text/plain": [
       "<Figure size 800x550 with 1 Axes>"
      ]
     },
     "metadata": {},
     "output_type": "display_data"
    }
   ],
   "source": [
    "pd.Series(s[t]['dτ[t+1]/dτ'], index = self.db['ss0Idx']).xs(5,level='s0Idx').plot()"
   ]
  },
  {
   "cell_type": "markdown",
   "id": "5c196787-52fc-4e08-9961-2dff68fe8468",
   "metadata": {},
   "source": [
    "Test stuff out:"
   ]
  },
  {
   "cell_type": "markdown",
   "id": "b85162a3-1bbd-4ac9-a194-f67bf11701bf",
   "metadata": {},
   "source": [
    "*Look into numerical issues around $\\rho$ = 0.9*"
   ]
  },
  {
   "cell_type": "markdown",
   "id": "92b67e9f-4173-43e7-9510-fcfd01d3d6f5",
   "metadata": {},
   "source": [
    "Set to 0.89 and test again:"
   ]
  },
  {
   "cell_type": "code",
   "execution_count": 115,
   "id": "d7f747d4-d308-4b1d-b600-ae915a5db92c",
   "metadata": {},
   "outputs": [],
   "source": [
    "ρ = .89\n",
    "m.db.update(m.adjPar('ρ',ρ))"
   ]
  },
  {
   "cell_type": "markdown",
   "id": "47ff8e7a-332e-4e83-809a-a9f7727aa3f0",
   "metadata": {},
   "source": [
    "Check out some stuff:"
   ]
  },
  {
   "cell_type": "code",
   "execution_count": 116,
   "id": "8587dcdd-d50a-41a8-9969-0f509a1e7c87",
   "metadata": {},
   "outputs": [],
   "source": [
    "self = m.PEE"
   ]
  },
  {
   "cell_type": "code",
   "execution_count": 117,
   "id": "bddb3daa-6d85-43ff-825b-52f84fe9b2ec",
   "metadata": {},
   "outputs": [],
   "source": [
    "kwargs = self.FH_kwargs\n",
    "from argentina_policy import *"
   ]
  },
  {
   "cell_type": "code",
   "execution_count": 118,
   "id": "154a550c-dd76-45e0-b0ce-b95757f5a434",
   "metadata": {},
   "outputs": [],
   "source": [
    "t = self.db['t'][-1]\n",
    "self.BG.t = t\n",
    "sols[t] = self.solve(t = 'T', **({'x0': self.x0[t]} | kwargs[t]))\n",
    "t = t-1\n",
    "self.BG.t = t"
   ]
  },
  {
   "cell_type": "markdown",
   "id": "1be97ef9-6b86-4782-b62e-2e009eb6eab4",
   "metadata": {},
   "source": [
    "Check this out:"
   ]
  },
  {
   "cell_type": "code",
   "execution_count": 134,
   "id": "86dceccc-ee2e-41d8-bf4e-caa12c35f758",
   "metadata": {},
   "outputs": [],
   "source": [
    "self.x0[t] = sols[0.895][t]['x_unbounded']\n",
    "sols[t] = self.solve(solp = sols[t+1], **({'x0': self.x0[t]} | kwargs[t]))\n",
    "t = t-1\n",
    "self.BG.t = t"
   ]
  },
  {
   "cell_type": "markdown",
   "id": "4daab164-89db-41ec-86dc-4ba7987bc278",
   "metadata": {},
   "source": [
    "Try again:"
   ]
  },
  {
   "cell_type": "code",
   "execution_count": 186,
   "id": "13dc9962-1dfa-4f10-9452-e994a129fe35",
   "metadata": {},
   "outputs": [],
   "source": [
    "self.x0[t] = sols[0.895][t]['x_unbounded']\n",
    "sols[t] = self.solve(solp = sols[t+1], **({'x0': self.x0[t]} | kwargs[t]))\n",
    "t = t-1\n",
    "self.BG.t = t"
   ]
  },
  {
   "cell_type": "markdown",
   "id": "c405629f-a33f-46d3-98e3-4b21816dd42f",
   "metadata": {},
   "source": [
    "## 4. Adjusting parameters to reflect pension reform"
   ]
  },
  {
   "cell_type": "markdown",
   "id": "b0842f9b-0a39-4d5c-a150-3892e22ce480",
   "metadata": {},
   "source": [
    "The unexpected changes arrive in 2010. The easiest way to introduce this is to initialize a new model that runs from 2010:"
   ]
  },
  {
   "cell_type": "code",
   "execution_count": 9,
   "id": "b7629002-ffb2-4fc2-afc1-6b691c698ed9",
   "metadata": {},
   "outputs": [],
   "source": [
    "t0 = 2\n",
    "plotDates = dates[t0:-2]\n",
    "m2010 = m.createCopyFromt0(t0) # create copy of model instance that slices time from t = 2"
   ]
  },
  {
   "cell_type": "markdown",
   "id": "9fb4bf07-60a7-4003-bb47-0683ab8dedf8",
   "metadata": {},
   "source": [
    "We note that $\\theta, \\epsilon$ varies across different calibrations. To start with, solve everything on a common grid of $\\epsilon$ values. To each iteration, add specific values (baseline + universal coverage + 1-theta):"
   ]
  },
  {
   "cell_type": "code",
   "execution_count": 10,
   "id": "aef7214f-8160-48ff-826c-cb6d38944278",
   "metadata": {},
   "outputs": [],
   "source": [
    "ϵgrid = np.round(np.linspace(.1, .2, 6), 3)\n",
    "simPols  = dict.fromkeys(zip(ρgrid, ϵgrid))\n",
    "simPaths = dict.fromkeys(zip(ρgrid, ϵgrid))\n",
    "ϵTargs = dict.fromkeys(ρgrid)"
   ]
  },
  {
   "cell_type": "markdown",
   "id": "43777f35-1e40-4661-a481-e112b1a55355",
   "metadata": {},
   "source": [
    "Start from LOG-solution again:"
   ]
  },
  {
   "cell_type": "code",
   "execution_count": 11,
   "id": "f23912a2-3c23-458b-87df-176e372607d0",
   "metadata": {},
   "outputs": [],
   "source": [
    "ρ = 1\n",
    "m2010.db.update(m2010.adjPar('ρ',ρ))\n",
    "m2010.calibUpdateParameters(cals[ρ])\n",
    "ϵTargs[ρ] = [m2010.db['eps'].xs(t0), m2010.getEps(coverageRate = 1), 1-m2010.db['θ'].xs(t0)]\n",
    "ϵgrid_ρ = np.insert(ϵgrid, np.searchsorted(ϵgrid, ϵTargs[ρ]), ϵTargs[ρ])\n",
    "for ϵ in ϵgrid_ρ:\n",
    "    m2010.db.update(m2010.adjPar('eps', ϵ)) # permanent changes in epsilon\n",
    "    simPols[(ρ,ϵ)]  = m2010.LOG.FH()\n",
    "    simPaths[(ρ,ϵ)] = m2010.EE_FH_LOG_solve(simPols[(ρ, ϵ)], z0 = [paths[ρ]['s[t-1]'][t0], paths[ρ]['s0/s[t-1]'][t0]])"
   ]
  },
  {
   "cell_type": "markdown",
   "id": "ae4b89dd-f441-4515-b982-030c9d05cdb4",
   "metadata": {},
   "source": [
    "Now, loop through different $\\rho$ values:"
   ]
  },
  {
   "cell_type": "code",
   "execution_count": 12,
   "id": "3df56af2-4ae2-47d8-a254-3ba8847e1f9e",
   "metadata": {},
   "outputs": [
    {
     "name": "stdout",
     "output_type": "stream",
     "text": [
      "(np.float64(1.1), np.float64(0.056767854214377036))\n",
      "(np.float64(1.1), np.float64(0.0810969345919672))\n",
      "(np.float64(1.1), np.float64(0.1))\n",
      "(np.float64(1.1), np.float64(0.12))\n",
      "(np.float64(1.1), np.float64(0.14))\n",
      "(np.float64(1.1), np.float64(0.16))\n",
      "(np.float64(1.1), np.float64(0.16093572527544364))\n",
      "(np.float64(1.1), np.float64(0.18))\n",
      "(np.float64(1.1), np.float64(0.2))\n",
      "(np.float64(1.2), np.float64(0.05585358326824887))\n",
      "(np.float64(1.2), np.float64(0.07979083324035553))\n",
      "(np.float64(1.2), np.float64(0.1))\n",
      "(np.float64(1.2), np.float64(0.12))\n",
      "(np.float64(1.2), np.float64(0.14))\n",
      "(np.float64(1.2), np.float64(0.16))\n",
      "(np.float64(1.2), np.float64(0.16093572527544364))\n",
      "(np.float64(1.2), np.float64(0.18))\n",
      "(np.float64(1.2), np.float64(0.2))\n",
      "(np.float64(1.3), np.float64(0.05509415693221862))\n",
      "(np.float64(1.3), np.float64(0.07870593847459803))\n",
      "(np.float64(1.3), np.float64(0.1))\n",
      "(np.float64(1.3), np.float64(0.12))\n",
      "(np.float64(1.3), np.float64(0.14))\n",
      "(np.float64(1.3), np.float64(0.16))\n",
      "(np.float64(1.3), np.float64(0.16093572527544364))\n",
      "(np.float64(1.3), np.float64(0.18))\n",
      "(np.float64(1.3), np.float64(0.2))\n",
      "(np.float64(1.4), np.float64(0.054453644678941045))\n",
      "(np.float64(1.4), np.float64(0.07779092096991579))\n",
      "(np.float64(1.4), np.float64(0.1))\n",
      "(np.float64(1.4), np.float64(0.12))\n",
      "(np.float64(1.4), np.float64(0.14))\n",
      "(np.float64(1.4), np.float64(0.16))\n",
      "(np.float64(1.4), np.float64(0.16093572527544364))\n",
      "(np.float64(1.4), np.float64(0.18))\n",
      "(np.float64(1.4), np.float64(0.2))\n",
      "(np.float64(1.5), np.float64(0.053906387836746714))\n",
      "(np.float64(1.5), np.float64(0.07700912548106674))\n",
      "(np.float64(1.5), np.float64(0.1))\n",
      "(np.float64(1.5), np.float64(0.12))\n",
      "(np.float64(1.5), np.float64(0.14))\n",
      "(np.float64(1.5), np.float64(0.16))\n",
      "(np.float64(1.5), np.float64(0.16093572527544364))\n",
      "(np.float64(1.5), np.float64(0.18))\n",
      "(np.float64(1.5), np.float64(0.2))\n",
      "(np.float64(1.6), np.float64(0.05343357488049892))\n",
      "(np.float64(1.6), np.float64(0.07633367840071274))\n",
      "(np.float64(1.6), np.float64(0.1))\n",
      "(np.float64(1.6), np.float64(0.12))\n",
      "(np.float64(1.6), np.float64(0.14))\n",
      "(np.float64(1.6), np.float64(0.16))\n",
      "(np.float64(1.6), np.float64(0.16093572527544364))\n",
      "(np.float64(1.6), np.float64(0.18))\n",
      "(np.float64(1.6), np.float64(0.2))\n",
      "(np.float64(1.7), np.float64(0.053021098670863395))\n",
      "(np.float64(1.7), np.float64(0.075744426672662))\n",
      "(np.float64(1.7), np.float64(0.1))\n",
      "(np.float64(1.7), np.float64(0.12))\n",
      "(np.float64(1.7), np.float64(0.14))\n",
      "(np.float64(1.7), np.float64(0.16))\n",
      "(np.float64(1.7), np.float64(0.16093572527544364))\n",
      "(np.float64(1.7), np.float64(0.18))\n",
      "(np.float64(1.7), np.float64(0.2))\n",
      "(np.float64(1.8), np.float64(0.05265824884086401))\n",
      "(np.float64(1.8), np.float64(0.07522606977266287))\n",
      "(np.float64(1.8), np.float64(0.1))\n",
      "(np.float64(1.8), np.float64(0.12))\n",
      "(np.float64(1.8), np.float64(0.14))\n",
      "(np.float64(1.8), np.float64(0.16))\n",
      "(np.float64(1.8), np.float64(0.16093572527544364))\n",
      "(np.float64(1.8), np.float64(0.18))\n",
      "(np.float64(1.8), np.float64(0.2))\n",
      "(np.float64(1.9), np.float64(0.05233667847520603))\n",
      "(np.float64(1.9), np.float64(0.07476668353600863))\n",
      "(np.float64(1.9), np.float64(0.1))\n",
      "(np.float64(1.9), np.float64(0.12))\n",
      "(np.float64(1.9), np.float64(0.14))\n",
      "(np.float64(1.9), np.float64(0.16))\n",
      "(np.float64(1.9), np.float64(0.16093572527544364))\n",
      "(np.float64(1.9), np.float64(0.18))\n",
      "(np.float64(1.9), np.float64(0.2))\n",
      "(np.float64(2.0), np.float64(0.05204983478949181))\n",
      "(np.float64(2.0), np.float64(0.07435690684213116))\n",
      "(np.float64(2.0), np.float64(0.1))\n",
      "(np.float64(2.0), np.float64(0.12))\n",
      "(np.float64(2.0), np.float64(0.14))\n",
      "(np.float64(2.0), np.float64(0.16))\n",
      "(np.float64(2.0), np.float64(0.16093572527544364))\n",
      "(np.float64(2.0), np.float64(0.18))\n",
      "(np.float64(2.0), np.float64(0.2))\n"
     ]
    }
   ],
   "source": [
    "for ρ in ρgrid[ρgrid>1]:\n",
    "    m2010.db.update(m2010.adjPar('ρ',ρ))\n",
    "    m2010.calibUpdateParameters(cals[ρ])\n",
    "    ϵTargs[ρ] = [m2010.db['eps'].xs(t0), m2010.getEps(coverageRate = 1), 1-m2010.db['θ'].xs(t0)]\n",
    "    ϵgrid_ρ = np.insert(ϵgrid, np.searchsorted(ϵgrid, ϵTargs[ρ]), ϵTargs[ρ])\n",
    "    m2010.PEE.x0 = {t: sols[ρ][t]['x_unbounded'] for t in m2010.db['t']}\n",
    "    m2010.PEE.x0[m2010.db['t'][-1]] = sols[ρ][m2010.db['t'][-1]]['τ_unbounded']\n",
    "    m2010.x0['EE_FH_PEE'] = np.hstack([adj.rc_pd(paths[ρ][k], m2010.db['t']).values for k in m2010.ns['EE_FH_PEE'].symbols])\n",
    "    for ϵ in ϵgrid_ρ[ϵgrid_ρ>=ϵTargs[ρ][0]]:\n",
    "        m2010.db.update(m2010.adjPar('eps',ϵ))\n",
    "        simPols[(ρ,ϵ)] = m2010.PEE.FH()\n",
    "        simPaths[(ρ,ϵ)] = m2010.EE_FH_PEE_solve(simPols[(ρ,ϵ)], z0 = [paths[ρ]['s[t-1]'][t0], paths[ρ]['s0/s[t-1]'][t0]])\n",
    "        print((ρ, ϵ))"
   ]
  },
  {
   "cell_type": "markdown",
   "id": "2e795676-3b28-473d-aa85-2bdbb0d58ff8",
   "metadata": {},
   "source": [
    "Now look at stuff for values lower than 1:"
   ]
  },
  {
   "cell_type": "code",
   "execution_count": 51,
   "id": "1a9d3696-da1e-493d-a2ec-4fcfaaa508e5",
   "metadata": {},
   "outputs": [],
   "source": [
    "ρ = 0.9\n",
    "m2010.db.update(m2010.adjPar('ρ',ρ))\n",
    "m2010.calibUpdateParameters(cals[ρ])\n",
    "ϵTargs[ρ] = [m2010.db['eps'].xs(t0), m2010.getEps(coverageRate = 1), 1-m2010.db['θ'].xs(t0)]\n",
    "ϵgrid_ρ = np.insert(ϵgrid, np.searchsorted(ϵgrid, ϵTargs[ρ]), ϵTargs[ρ])\n",
    "m2010.PEE.x0 = {t: sols[ρ][t]['x_unbounded'] for t in m2010.db['t']}\n",
    "m2010.PEE.x0[m2010.db['t'][-1]] = sols[ρ][m2010.db['t'][-1]]['τ_unbounded']\n",
    "m2010.x0['EE_FH_PEE'] = np.hstack([adj.rc_pd(paths[ρ][k], m2010.db['t']).values for k in m2010.ns['EE_FH_PEE'].symbols])"
   ]
  },
  {
   "cell_type": "code",
   "execution_count": 56,
   "id": "e01b0f55-e566-4783-950b-432c0a4685d3",
   "metadata": {},
   "outputs": [
    {
     "ename": "KeyboardInterrupt",
     "evalue": "",
     "output_type": "error",
     "traceback": [
      "\u001b[1;31m---------------------------------------------------------------------------\u001b[0m",
      "\u001b[1;31mKeyboardInterrupt\u001b[0m                         Traceback (most recent call last)",
      "Cell \u001b[1;32mIn[56], line 2\u001b[0m\n\u001b[0;32m      1\u001b[0m m2010\u001b[38;5;241m.\u001b[39mdb\u001b[38;5;241m.\u001b[39mupdate(m2010\u001b[38;5;241m.\u001b[39madjPar(\u001b[38;5;124m'\u001b[39m\u001b[38;5;124meps\u001b[39m\u001b[38;5;124m'\u001b[39m,\u001b[38;5;241m.07\u001b[39m))\n\u001b[1;32m----> 2\u001b[0m sols \u001b[38;5;241m=\u001b[39m m2010\u001b[38;5;241m.\u001b[39mPEE\u001b[38;5;241m.\u001b[39mFH()\n",
      "File \u001b[1;32m~\\Documents\\GitHub\\SSD\\py\\argentina_policy.py:234\u001b[0m, in \u001b[0;36mPEE.FH\u001b[1;34m(self, pars, update)\u001b[0m\n\u001b[0;32m    232\u001b[0m \u001b[38;5;28;01mfor\u001b[39;00m t \u001b[38;5;129;01min\u001b[39;00m \u001b[38;5;28mself\u001b[39m\u001b[38;5;241m.\u001b[39mdb[\u001b[38;5;124m'\u001b[39m\u001b[38;5;124mt\u001b[39m\u001b[38;5;124m'\u001b[39m][\u001b[38;5;241m-\u001b[39m\u001b[38;5;241m2\u001b[39m::\u001b[38;5;241m-\u001b[39m\u001b[38;5;241m1\u001b[39m]:\n\u001b[0;32m    233\u001b[0m \t\u001b[38;5;28mself\u001b[39m\u001b[38;5;241m.\u001b[39mBG\u001b[38;5;241m.\u001b[39mt \u001b[38;5;241m=\u001b[39m t\n\u001b[1;32m--> 234\u001b[0m \tsols[t] \u001b[38;5;241m=\u001b[39m \u001b[38;5;28mself\u001b[39m\u001b[38;5;241m.\u001b[39msolve(solp \u001b[38;5;241m=\u001b[39m sols[t\u001b[38;5;241m+\u001b[39m\u001b[38;5;241m1\u001b[39m], \u001b[38;5;241m*\u001b[39m\u001b[38;5;241m*\u001b[39m({\u001b[38;5;124m'\u001b[39m\u001b[38;5;124mx0\u001b[39m\u001b[38;5;124m'\u001b[39m: \u001b[38;5;28mself\u001b[39m\u001b[38;5;241m.\u001b[39mx0[t]} \u001b[38;5;241m|\u001b[39m kwargs[t]))\n\u001b[0;32m    235\u001b[0m \t\u001b[38;5;28;01mif\u001b[39;00m update:\n\u001b[0;32m    236\u001b[0m \t\t\u001b[38;5;28mself\u001b[39m\u001b[38;5;241m.\u001b[39mx0[t] \u001b[38;5;241m=\u001b[39m sols[t][\u001b[38;5;124m'\u001b[39m\u001b[38;5;124mx_unbounded\u001b[39m\u001b[38;5;124m'\u001b[39m]\n",
      "File \u001b[1;32m~\\Documents\\GitHub\\SSD\\py\\argentina_policy.py:261\u001b[0m, in \u001b[0;36mPEE.solve\u001b[1;34m(self, style, t, **kwargs)\u001b[0m\n\u001b[0;32m    260\u001b[0m \u001b[38;5;28;01mdef\u001b[39;00m \u001b[38;5;21msolve\u001b[39m(\u001b[38;5;28mself\u001b[39m, style \u001b[38;5;241m=\u001b[39m \u001b[38;5;124m'\u001b[39m\u001b[38;5;124mVector\u001b[39m\u001b[38;5;124m'\u001b[39m, t \u001b[38;5;241m=\u001b[39m \u001b[38;5;124m'\u001b[39m\u001b[38;5;124mt\u001b[39m\u001b[38;5;124m'\u001b[39m, \u001b[38;5;241m*\u001b[39m\u001b[38;5;241m*\u001b[39mkwargs):\n\u001b[1;32m--> 261\u001b[0m \t\u001b[38;5;28;01mreturn\u001b[39;00m \u001b[38;5;28mgetattr\u001b[39m(\u001b[38;5;28mself\u001b[39m, \u001b[38;5;124mf\u001b[39m\u001b[38;5;124m'\u001b[39m\u001b[38;5;124msolve\u001b[39m\u001b[38;5;132;01m{\u001b[39;00mstyle\u001b[38;5;132;01m}\u001b[39;00m\u001b[38;5;124m_\u001b[39m\u001b[38;5;132;01m{\u001b[39;00mt\u001b[38;5;132;01m}\u001b[39;00m\u001b[38;5;124m'\u001b[39m)(\u001b[38;5;241m*\u001b[39m\u001b[38;5;241m*\u001b[39mkwargs)\n",
      "File \u001b[1;32m~\\Documents\\GitHub\\SSD\\py\\argentina_policy.py:266\u001b[0m, in \u001b[0;36mPEE.solveVector_t\u001b[1;34m(self, solp, x0_from_solp, x0, **kwargs)\u001b[0m\n\u001b[0;32m    264\u001b[0m \u001b[38;5;250m\u001b[39m\u001b[38;5;124;03m\"\"\" Solve problem as a sequence of root-finding problems. \"\"\"\u001b[39;00m\n\u001b[0;32m    265\u001b[0m fp \u001b[38;5;241m=\u001b[39m {k: \u001b[38;5;28mself\u001b[39m\u001b[38;5;241m.\u001b[39mgridPolicy(solp[k]) \u001b[38;5;28;01mfor\u001b[39;00m k \u001b[38;5;129;01min\u001b[39;00m (\u001b[38;5;124m'\u001b[39m\u001b[38;5;124mτ\u001b[39m\u001b[38;5;124m'\u001b[39m,\u001b[38;5;124m'\u001b[39m\u001b[38;5;124mBi\u001b[39m\u001b[38;5;124m'\u001b[39m,\u001b[38;5;124m'\u001b[39m\u001b[38;5;124mB0\u001b[39m\u001b[38;5;124m'\u001b[39m, \u001b[38;5;124m'\u001b[39m\u001b[38;5;124m∂ln(h)/∂τ\u001b[39m\u001b[38;5;124m'\u001b[39m, \u001b[38;5;124m'\u001b[39m\u001b[38;5;124m∂ln(h)/∂ln(s[t-1])\u001b[39m\u001b[38;5;124m'\u001b[39m, \u001b[38;5;124m'\u001b[39m\u001b[38;5;124mdτ/ds[t-1]\u001b[39m\u001b[38;5;124m'\u001b[39m,\u001b[38;5;124m'\u001b[39m\u001b[38;5;124mdτ/d(s0/s)\u001b[39m\u001b[38;5;124m'\u001b[39m,\u001b[38;5;124m'\u001b[39m\u001b[38;5;124mdln(h)/dln(s[t-1])\u001b[39m\u001b[38;5;124m'\u001b[39m)} \u001b[38;5;66;03m# dict interpolants\u001b[39;00m\n\u001b[1;32m--> 266\u001b[0m x \u001b[38;5;241m=\u001b[39m optimize\u001b[38;5;241m.\u001b[39mroot(\u001b[38;5;28;01mlambda\u001b[39;00m x: \u001b[38;5;28mself\u001b[39m\u001b[38;5;241m.\u001b[39mobjective_t(x, fp), x0_solp(x0, solp[\u001b[38;5;124m'\u001b[39m\u001b[38;5;124mx_unbounded\u001b[39m\u001b[38;5;124m'\u001b[39m], x0_from_solp), \u001b[38;5;241m*\u001b[39m\u001b[38;5;241m*\u001b[39mkwargs)\n\u001b[0;32m    267\u001b[0m \u001b[38;5;28;01massert\u001b[39;00m x[\u001b[38;5;124m'\u001b[39m\u001b[38;5;124msuccess\u001b[39m\u001b[38;5;124m'\u001b[39m], \u001b[38;5;124mf\u001b[39m\u001b[38;5;124m\"\"\"\u001b[39m\u001b[38;5;124m Couldn\u001b[39m\u001b[38;5;124m'\u001b[39m\u001b[38;5;124mt identify policy function for year t=\u001b[39m\u001b[38;5;132;01m{\u001b[39;00m\u001b[38;5;28mself\u001b[39m\u001b[38;5;241m.\u001b[39mBG\u001b[38;5;241m.\u001b[39mt\u001b[38;5;132;01m}\u001b[39;00m\u001b[38;5;124m. Previous solution x = \u001b[39m\u001b[38;5;132;01m{\u001b[39;00msolp[\u001b[38;5;124m'\u001b[39m\u001b[38;5;124mx_unbounded\u001b[39m\u001b[38;5;124m'\u001b[39m]\u001b[38;5;132;01m}\u001b[39;00m\u001b[38;5;124m. \u001b[39m\u001b[38;5;124m\"\"\"\u001b[39m\n\u001b[0;32m    268\u001b[0m \u001b[38;5;28;01mreturn\u001b[39;00m \u001b[38;5;28mself\u001b[39m\u001b[38;5;241m.\u001b[39mreportVector_t(x[\u001b[38;5;124m'\u001b[39m\u001b[38;5;124mx\u001b[39m\u001b[38;5;124m'\u001b[39m], fp)\n",
      "File \u001b[1;32m~\\AppData\\Local\\anaconda3\\envs\\SSD\\Lib\\site-packages\\scipy\\optimize\\_root.py:256\u001b[0m, in \u001b[0;36mroot\u001b[1;34m(fun, x0, args, method, jac, tol, callback, options)\u001b[0m\n\u001b[0;32m    253\u001b[0m \u001b[38;5;28;01melif\u001b[39;00m meth \u001b[38;5;129;01min\u001b[39;00m (\u001b[38;5;124m'\u001b[39m\u001b[38;5;124mbroyden1\u001b[39m\u001b[38;5;124m'\u001b[39m, \u001b[38;5;124m'\u001b[39m\u001b[38;5;124mbroyden2\u001b[39m\u001b[38;5;124m'\u001b[39m, \u001b[38;5;124m'\u001b[39m\u001b[38;5;124manderson\u001b[39m\u001b[38;5;124m'\u001b[39m, \u001b[38;5;124m'\u001b[39m\u001b[38;5;124mlinearmixing\u001b[39m\u001b[38;5;124m'\u001b[39m,\n\u001b[0;32m    254\u001b[0m               \u001b[38;5;124m'\u001b[39m\u001b[38;5;124mdiagbroyden\u001b[39m\u001b[38;5;124m'\u001b[39m, \u001b[38;5;124m'\u001b[39m\u001b[38;5;124mexcitingmixing\u001b[39m\u001b[38;5;124m'\u001b[39m, \u001b[38;5;124m'\u001b[39m\u001b[38;5;124mkrylov\u001b[39m\u001b[38;5;124m'\u001b[39m):\n\u001b[0;32m    255\u001b[0m     _warn_jac_unused(jac, method)\n\u001b[1;32m--> 256\u001b[0m     sol \u001b[38;5;241m=\u001b[39m _root_nonlin_solve(_wrapped_fun, x0, args\u001b[38;5;241m=\u001b[39margs, jac\u001b[38;5;241m=\u001b[39mjac,\n\u001b[0;32m    257\u001b[0m                              _method\u001b[38;5;241m=\u001b[39mmeth, _callback\u001b[38;5;241m=\u001b[39mcallback,\n\u001b[0;32m    258\u001b[0m                              \u001b[38;5;241m*\u001b[39m\u001b[38;5;241m*\u001b[39moptions)\n\u001b[0;32m    259\u001b[0m \u001b[38;5;28;01melse\u001b[39;00m:\n\u001b[0;32m    260\u001b[0m     \u001b[38;5;28;01mraise\u001b[39;00m \u001b[38;5;167;01mValueError\u001b[39;00m(\u001b[38;5;124m'\u001b[39m\u001b[38;5;124mUnknown solver \u001b[39m\u001b[38;5;132;01m%s\u001b[39;00m\u001b[38;5;124m'\u001b[39m \u001b[38;5;241m%\u001b[39m method)\n",
      "File \u001b[1;32m~\\AppData\\Local\\anaconda3\\envs\\SSD\\Lib\\site-packages\\scipy\\optimize\\_root.py:365\u001b[0m, in \u001b[0;36m_root_nonlin_solve\u001b[1;34m(fun, x0, args, jac, _callback, _method, nit, disp, maxiter, ftol, fatol, xtol, xatol, tol_norm, line_search, jac_options, **unknown_options)\u001b[0m\n\u001b[0;32m    362\u001b[0m \u001b[38;5;28;01melse\u001b[39;00m:\n\u001b[0;32m    363\u001b[0m     f \u001b[38;5;241m=\u001b[39m fun\n\u001b[1;32m--> 365\u001b[0m x, info \u001b[38;5;241m=\u001b[39m nonlin\u001b[38;5;241m.\u001b[39mnonlin_solve(f, x0, jacobian\u001b[38;5;241m=\u001b[39mjacobian(\u001b[38;5;241m*\u001b[39m\u001b[38;5;241m*\u001b[39mjac_options),\n\u001b[0;32m    366\u001b[0m                               \u001b[38;5;28miter\u001b[39m\u001b[38;5;241m=\u001b[39mnit, verbose\u001b[38;5;241m=\u001b[39mverbose,\n\u001b[0;32m    367\u001b[0m                               maxiter\u001b[38;5;241m=\u001b[39mmaxiter, f_tol\u001b[38;5;241m=\u001b[39mf_tol,\n\u001b[0;32m    368\u001b[0m                               f_rtol\u001b[38;5;241m=\u001b[39mf_rtol, x_tol\u001b[38;5;241m=\u001b[39mx_tol,\n\u001b[0;32m    369\u001b[0m                               x_rtol\u001b[38;5;241m=\u001b[39mx_rtol, tol_norm\u001b[38;5;241m=\u001b[39mtol_norm,\n\u001b[0;32m    370\u001b[0m                               line_search\u001b[38;5;241m=\u001b[39mline_search,\n\u001b[0;32m    371\u001b[0m                               callback\u001b[38;5;241m=\u001b[39m_callback, full_output\u001b[38;5;241m=\u001b[39m\u001b[38;5;28;01mTrue\u001b[39;00m,\n\u001b[0;32m    372\u001b[0m                               raise_exception\u001b[38;5;241m=\u001b[39m\u001b[38;5;28;01mFalse\u001b[39;00m)\n\u001b[0;32m    373\u001b[0m sol \u001b[38;5;241m=\u001b[39m OptimizeResult(x\u001b[38;5;241m=\u001b[39mx, method\u001b[38;5;241m=\u001b[39m_method)\n\u001b[0;32m    374\u001b[0m sol\u001b[38;5;241m.\u001b[39mupdate(info)\n",
      "File \u001b[1;32m~\\AppData\\Local\\anaconda3\\envs\\SSD\\Lib\\site-packages\\scipy\\optimize\\_nonlin.py:211\u001b[0m, in \u001b[0;36mnonlin_solve\u001b[1;34m(F, x0, jacobian, iter, verbose, maxiter, f_tol, f_rtol, x_tol, x_rtol, tol_norm, line_search, callback, full_output, raise_exception)\u001b[0m\n\u001b[0;32m    209\u001b[0m \u001b[38;5;66;03m# The tolerance, as computed for scipy.sparse.linalg.* routines\u001b[39;00m\n\u001b[0;32m    210\u001b[0m tol \u001b[38;5;241m=\u001b[39m \u001b[38;5;28mmin\u001b[39m(eta, eta\u001b[38;5;241m*\u001b[39mFx_norm)\n\u001b[1;32m--> 211\u001b[0m dx \u001b[38;5;241m=\u001b[39m \u001b[38;5;241m-\u001b[39mjacobian\u001b[38;5;241m.\u001b[39msolve(Fx, tol\u001b[38;5;241m=\u001b[39mtol)\n\u001b[0;32m    213\u001b[0m \u001b[38;5;28;01mif\u001b[39;00m norm(dx) \u001b[38;5;241m==\u001b[39m \u001b[38;5;241m0\u001b[39m:\n\u001b[0;32m    214\u001b[0m     \u001b[38;5;28;01mraise\u001b[39;00m \u001b[38;5;167;01mValueError\u001b[39;00m(\u001b[38;5;124m\"\u001b[39m\u001b[38;5;124mJacobian inversion yielded zero vector. \u001b[39m\u001b[38;5;124m\"\u001b[39m\n\u001b[0;32m    215\u001b[0m                      \u001b[38;5;124m\"\u001b[39m\u001b[38;5;124mThis indicates a bug in the Jacobian \u001b[39m\u001b[38;5;124m\"\u001b[39m\n\u001b[0;32m    216\u001b[0m                      \u001b[38;5;124m\"\u001b[39m\u001b[38;5;124mapproximation.\u001b[39m\u001b[38;5;124m\"\u001b[39m)\n",
      "File \u001b[1;32m~\\AppData\\Local\\anaconda3\\envs\\SSD\\Lib\\site-packages\\scipy\\optimize\\_nonlin.py:1501\u001b[0m, in \u001b[0;36mKrylovJacobian.solve\u001b[1;34m(self, rhs, tol)\u001b[0m\n\u001b[0;32m   1499\u001b[0m     sol, info \u001b[38;5;241m=\u001b[39m \u001b[38;5;28mself\u001b[39m\u001b[38;5;241m.\u001b[39mmethod(\u001b[38;5;28mself\u001b[39m\u001b[38;5;241m.\u001b[39mop, rhs, \u001b[38;5;241m*\u001b[39m\u001b[38;5;241m*\u001b[39m\u001b[38;5;28mself\u001b[39m\u001b[38;5;241m.\u001b[39mmethod_kw)\n\u001b[0;32m   1500\u001b[0m \u001b[38;5;28;01melse\u001b[39;00m:\n\u001b[1;32m-> 1501\u001b[0m     sol, info \u001b[38;5;241m=\u001b[39m \u001b[38;5;28mself\u001b[39m\u001b[38;5;241m.\u001b[39mmethod(\u001b[38;5;28mself\u001b[39m\u001b[38;5;241m.\u001b[39mop, rhs, rtol\u001b[38;5;241m=\u001b[39mtol, \u001b[38;5;241m*\u001b[39m\u001b[38;5;241m*\u001b[39m\u001b[38;5;28mself\u001b[39m\u001b[38;5;241m.\u001b[39mmethod_kw)\n\u001b[0;32m   1502\u001b[0m \u001b[38;5;28;01mreturn\u001b[39;00m sol\n",
      "File \u001b[1;32m~\\AppData\\Local\\anaconda3\\envs\\SSD\\Lib\\site-packages\\scipy\\sparse\\linalg\\_isolve\\lgmres.py:180\u001b[0m, in \u001b[0;36mlgmres\u001b[1;34m(A, b, x0, rtol, atol, maxiter, M, callback, inner_m, outer_k, outer_v, store_outer_Av, prepend_outer_v)\u001b[0m\n\u001b[0;32m    177\u001b[0m ptol \u001b[38;5;241m=\u001b[39m \u001b[38;5;28mmin\u001b[39m(ptol_max_factor, \u001b[38;5;28mmax\u001b[39m(atol, rtol\u001b[38;5;241m*\u001b[39mb_norm)\u001b[38;5;241m/\u001b[39mr_norm)\n\u001b[0;32m    179\u001b[0m \u001b[38;5;28;01mtry\u001b[39;00m:\n\u001b[1;32m--> 180\u001b[0m     Q, R, B, vs, zs, y, pres \u001b[38;5;241m=\u001b[39m _fgmres(matvec,\n\u001b[0;32m    181\u001b[0m                                        v0,\n\u001b[0;32m    182\u001b[0m                                        inner_m,\n\u001b[0;32m    183\u001b[0m                                        lpsolve\u001b[38;5;241m=\u001b[39mpsolve,\n\u001b[0;32m    184\u001b[0m                                        atol\u001b[38;5;241m=\u001b[39mptol,\n\u001b[0;32m    185\u001b[0m                                        outer_v\u001b[38;5;241m=\u001b[39mouter_v,\n\u001b[0;32m    186\u001b[0m                                        prepend_outer_v\u001b[38;5;241m=\u001b[39mprepend_outer_v)\n\u001b[0;32m    187\u001b[0m     y \u001b[38;5;241m*\u001b[39m\u001b[38;5;241m=\u001b[39m inner_res_0\n\u001b[0;32m    188\u001b[0m     \u001b[38;5;28;01mif\u001b[39;00m \u001b[38;5;129;01mnot\u001b[39;00m np\u001b[38;5;241m.\u001b[39misfinite(y)\u001b[38;5;241m.\u001b[39mall():\n\u001b[0;32m    189\u001b[0m         \u001b[38;5;66;03m# Overflow etc. in computation. There's no way to\u001b[39;00m\n\u001b[0;32m    190\u001b[0m         \u001b[38;5;66;03m# recover from this, so we have to bail out.\u001b[39;00m\n",
      "File \u001b[1;32m~\\AppData\\Local\\anaconda3\\envs\\SSD\\Lib\\site-packages\\scipy\\sparse\\linalg\\_isolve\\_gcrotmk.py:106\u001b[0m, in \u001b[0;36m_fgmres\u001b[1;34m(matvec, v0, m, atol, lpsolve, rpsolve, cs, outer_v, prepend_outer_v)\u001b[0m\n\u001b[0;32m    103\u001b[0m     w \u001b[38;5;241m=\u001b[39m \u001b[38;5;28;01mNone\u001b[39;00m\n\u001b[0;32m    105\u001b[0m \u001b[38;5;28;01mif\u001b[39;00m w \u001b[38;5;129;01mis\u001b[39;00m \u001b[38;5;28;01mNone\u001b[39;00m:\n\u001b[1;32m--> 106\u001b[0m     w \u001b[38;5;241m=\u001b[39m lpsolve(matvec(z))\n\u001b[0;32m    107\u001b[0m \u001b[38;5;28;01melse\u001b[39;00m:\n\u001b[0;32m    108\u001b[0m     \u001b[38;5;66;03m# w is clobbered below\u001b[39;00m\n\u001b[0;32m    109\u001b[0m     w \u001b[38;5;241m=\u001b[39m w\u001b[38;5;241m.\u001b[39mcopy()\n",
      "File \u001b[1;32m~\\AppData\\Local\\anaconda3\\envs\\SSD\\Lib\\site-packages\\scipy\\sparse\\linalg\\_interface.py:236\u001b[0m, in \u001b[0;36mLinearOperator.matvec\u001b[1;34m(self, x)\u001b[0m\n\u001b[0;32m    233\u001b[0m \u001b[38;5;28;01mif\u001b[39;00m x\u001b[38;5;241m.\u001b[39mshape \u001b[38;5;241m!=\u001b[39m (N,) \u001b[38;5;129;01mand\u001b[39;00m x\u001b[38;5;241m.\u001b[39mshape \u001b[38;5;241m!=\u001b[39m (N,\u001b[38;5;241m1\u001b[39m):\n\u001b[0;32m    234\u001b[0m     \u001b[38;5;28;01mraise\u001b[39;00m \u001b[38;5;167;01mValueError\u001b[39;00m(\u001b[38;5;124m'\u001b[39m\u001b[38;5;124mdimension mismatch\u001b[39m\u001b[38;5;124m'\u001b[39m)\n\u001b[1;32m--> 236\u001b[0m y \u001b[38;5;241m=\u001b[39m \u001b[38;5;28mself\u001b[39m\u001b[38;5;241m.\u001b[39m_matvec(x)\n\u001b[0;32m    238\u001b[0m \u001b[38;5;28;01mif\u001b[39;00m \u001b[38;5;28misinstance\u001b[39m(x, np\u001b[38;5;241m.\u001b[39mmatrix):\n\u001b[0;32m    239\u001b[0m     y \u001b[38;5;241m=\u001b[39m asmatrix(y)\n",
      "File \u001b[1;32m~\\AppData\\Local\\anaconda3\\envs\\SSD\\Lib\\site-packages\\scipy\\sparse\\linalg\\_interface.py:593\u001b[0m, in \u001b[0;36m_CustomLinearOperator._matvec\u001b[1;34m(self, x)\u001b[0m\n\u001b[0;32m    592\u001b[0m \u001b[38;5;28;01mdef\u001b[39;00m \u001b[38;5;21m_matvec\u001b[39m(\u001b[38;5;28mself\u001b[39m, x):\n\u001b[1;32m--> 593\u001b[0m     \u001b[38;5;28;01mreturn\u001b[39;00m \u001b[38;5;28mself\u001b[39m\u001b[38;5;241m.\u001b[39m__matvec_impl(x)\n",
      "File \u001b[1;32m~\\AppData\\Local\\anaconda3\\envs\\SSD\\Lib\\site-packages\\scipy\\optimize\\_nonlin.py:1492\u001b[0m, in \u001b[0;36mKrylovJacobian.matvec\u001b[1;34m(self, v)\u001b[0m\n\u001b[0;32m   1490\u001b[0m     \u001b[38;5;28;01mreturn\u001b[39;00m \u001b[38;5;241m0\u001b[39m\u001b[38;5;241m*\u001b[39mv\n\u001b[0;32m   1491\u001b[0m sc \u001b[38;5;241m=\u001b[39m \u001b[38;5;28mself\u001b[39m\u001b[38;5;241m.\u001b[39momega \u001b[38;5;241m/\u001b[39m nv\n\u001b[1;32m-> 1492\u001b[0m r \u001b[38;5;241m=\u001b[39m (\u001b[38;5;28mself\u001b[39m\u001b[38;5;241m.\u001b[39mfunc(\u001b[38;5;28mself\u001b[39m\u001b[38;5;241m.\u001b[39mx0 \u001b[38;5;241m+\u001b[39m sc\u001b[38;5;241m*\u001b[39mv) \u001b[38;5;241m-\u001b[39m \u001b[38;5;28mself\u001b[39m\u001b[38;5;241m.\u001b[39mf0) \u001b[38;5;241m/\u001b[39m sc\n\u001b[0;32m   1493\u001b[0m \u001b[38;5;28;01mif\u001b[39;00m \u001b[38;5;129;01mnot\u001b[39;00m np\u001b[38;5;241m.\u001b[39mall(np\u001b[38;5;241m.\u001b[39misfinite(r)) \u001b[38;5;129;01mand\u001b[39;00m np\u001b[38;5;241m.\u001b[39mall(np\u001b[38;5;241m.\u001b[39misfinite(v)):\n\u001b[0;32m   1494\u001b[0m     \u001b[38;5;28;01mraise\u001b[39;00m \u001b[38;5;167;01mValueError\u001b[39;00m(\u001b[38;5;124m'\u001b[39m\u001b[38;5;124mFunction returned non-finite results\u001b[39m\u001b[38;5;124m'\u001b[39m)\n",
      "File \u001b[1;32m~\\AppData\\Local\\anaconda3\\envs\\SSD\\Lib\\site-packages\\scipy\\optimize\\_nonlin.py:174\u001b[0m, in \u001b[0;36mnonlin_solve.<locals>.func\u001b[1;34m(z)\u001b[0m\n\u001b[0;32m    173\u001b[0m \u001b[38;5;28;01mdef\u001b[39;00m \u001b[38;5;21mfunc\u001b[39m(z):\n\u001b[1;32m--> 174\u001b[0m     \u001b[38;5;28;01mreturn\u001b[39;00m _as_inexact(F(_array_like(z, x0)))\u001b[38;5;241m.\u001b[39mflatten()\n",
      "File \u001b[1;32m~\\AppData\\Local\\anaconda3\\envs\\SSD\\Lib\\site-packages\\scipy\\optimize\\_root.py:208\u001b[0m, in \u001b[0;36mroot.<locals>._wrapped_fun\u001b[1;34m(*fargs)\u001b[0m\n\u001b[0;32m    203\u001b[0m \u001b[38;5;250m\u001b[39m\u001b[38;5;124;03m\"\"\"\u001b[39;00m\n\u001b[0;32m    204\u001b[0m \u001b[38;5;124;03mWrapped `func` to track the number of times\u001b[39;00m\n\u001b[0;32m    205\u001b[0m \u001b[38;5;124;03mthe function has been called.\u001b[39;00m\n\u001b[0;32m    206\u001b[0m \u001b[38;5;124;03m\"\"\"\u001b[39;00m\n\u001b[0;32m    207\u001b[0m _wrapped_fun\u001b[38;5;241m.\u001b[39mnfev \u001b[38;5;241m+\u001b[39m\u001b[38;5;241m=\u001b[39m \u001b[38;5;241m1\u001b[39m\n\u001b[1;32m--> 208\u001b[0m \u001b[38;5;28;01mreturn\u001b[39;00m fun(\u001b[38;5;241m*\u001b[39mfargs)\n",
      "File \u001b[1;32m~\\Documents\\GitHub\\SSD\\py\\argentina_policy.py:266\u001b[0m, in \u001b[0;36mPEE.solveVector_t.<locals>.<lambda>\u001b[1;34m(x)\u001b[0m\n\u001b[0;32m    264\u001b[0m \u001b[38;5;250m\u001b[39m\u001b[38;5;124;03m\"\"\" Solve problem as a sequence of root-finding problems. \"\"\"\u001b[39;00m\n\u001b[0;32m    265\u001b[0m fp \u001b[38;5;241m=\u001b[39m {k: \u001b[38;5;28mself\u001b[39m\u001b[38;5;241m.\u001b[39mgridPolicy(solp[k]) \u001b[38;5;28;01mfor\u001b[39;00m k \u001b[38;5;129;01min\u001b[39;00m (\u001b[38;5;124m'\u001b[39m\u001b[38;5;124mτ\u001b[39m\u001b[38;5;124m'\u001b[39m,\u001b[38;5;124m'\u001b[39m\u001b[38;5;124mBi\u001b[39m\u001b[38;5;124m'\u001b[39m,\u001b[38;5;124m'\u001b[39m\u001b[38;5;124mB0\u001b[39m\u001b[38;5;124m'\u001b[39m, \u001b[38;5;124m'\u001b[39m\u001b[38;5;124m∂ln(h)/∂τ\u001b[39m\u001b[38;5;124m'\u001b[39m, \u001b[38;5;124m'\u001b[39m\u001b[38;5;124m∂ln(h)/∂ln(s[t-1])\u001b[39m\u001b[38;5;124m'\u001b[39m, \u001b[38;5;124m'\u001b[39m\u001b[38;5;124mdτ/ds[t-1]\u001b[39m\u001b[38;5;124m'\u001b[39m,\u001b[38;5;124m'\u001b[39m\u001b[38;5;124mdτ/d(s0/s)\u001b[39m\u001b[38;5;124m'\u001b[39m,\u001b[38;5;124m'\u001b[39m\u001b[38;5;124mdln(h)/dln(s[t-1])\u001b[39m\u001b[38;5;124m'\u001b[39m)} \u001b[38;5;66;03m# dict interpolants\u001b[39;00m\n\u001b[1;32m--> 266\u001b[0m x \u001b[38;5;241m=\u001b[39m optimize\u001b[38;5;241m.\u001b[39mroot(\u001b[38;5;28;01mlambda\u001b[39;00m x: \u001b[38;5;28mself\u001b[39m\u001b[38;5;241m.\u001b[39mobjective_t(x, fp), x0_solp(x0, solp[\u001b[38;5;124m'\u001b[39m\u001b[38;5;124mx_unbounded\u001b[39m\u001b[38;5;124m'\u001b[39m], x0_from_solp), \u001b[38;5;241m*\u001b[39m\u001b[38;5;241m*\u001b[39mkwargs)\n\u001b[0;32m    267\u001b[0m \u001b[38;5;28;01massert\u001b[39;00m x[\u001b[38;5;124m'\u001b[39m\u001b[38;5;124msuccess\u001b[39m\u001b[38;5;124m'\u001b[39m], \u001b[38;5;124mf\u001b[39m\u001b[38;5;124m\"\"\"\u001b[39m\u001b[38;5;124m Couldn\u001b[39m\u001b[38;5;124m'\u001b[39m\u001b[38;5;124mt identify policy function for year t=\u001b[39m\u001b[38;5;132;01m{\u001b[39;00m\u001b[38;5;28mself\u001b[39m\u001b[38;5;241m.\u001b[39mBG\u001b[38;5;241m.\u001b[39mt\u001b[38;5;132;01m}\u001b[39;00m\u001b[38;5;124m. Previous solution x = \u001b[39m\u001b[38;5;132;01m{\u001b[39;00msolp[\u001b[38;5;124m'\u001b[39m\u001b[38;5;124mx_unbounded\u001b[39m\u001b[38;5;124m'\u001b[39m]\u001b[38;5;132;01m}\u001b[39;00m\u001b[38;5;124m. \u001b[39m\u001b[38;5;124m\"\"\"\u001b[39m\n\u001b[0;32m    268\u001b[0m \u001b[38;5;28;01mreturn\u001b[39;00m \u001b[38;5;28mself\u001b[39m\u001b[38;5;241m.\u001b[39mreportVector_t(x[\u001b[38;5;124m'\u001b[39m\u001b[38;5;124mx\u001b[39m\u001b[38;5;124m'\u001b[39m], fp)\n",
      "File \u001b[1;32m~\\Documents\\GitHub\\SSD\\py\\argentina_policy.py:272\u001b[0m, in \u001b[0;36mPEE.objective_t\u001b[1;34m(self, x, fp)\u001b[0m\n\u001b[0;32m    270\u001b[0m \u001b[38;5;28;01mdef\u001b[39;00m \u001b[38;5;21mobjective_t\u001b[39m(\u001b[38;5;28mself\u001b[39m, x, fp):\n\u001b[0;32m    271\u001b[0m \tsol, solp \u001b[38;5;241m=\u001b[39m \u001b[38;5;28mself\u001b[39m\u001b[38;5;241m.\u001b[39mfuncOfτ_t(x ,fp)\n\u001b[1;32m--> 272\u001b[0m \tPEEobj \u001b[38;5;241m=\u001b[39m \u001b[38;5;28mself\u001b[39m\u001b[38;5;241m.\u001b[39mBG\u001b[38;5;241m.\u001b[39mPEE_t(τBound \u001b[38;5;241m=\u001b[39m sol[\u001b[38;5;124m'\u001b[39m\u001b[38;5;124mτ\u001b[39m\u001b[38;5;124m'\u001b[39m], τ  \u001b[38;5;241m=\u001b[39m sol[\u001b[38;5;124m'\u001b[39m\u001b[38;5;124mτ_unbounded\u001b[39m\u001b[38;5;124m'\u001b[39m], τp \u001b[38;5;241m=\u001b[39m solp[\u001b[38;5;124m'\u001b[39m\u001b[38;5;124mτ\u001b[39m\u001b[38;5;124m'\u001b[39m], s_ \u001b[38;5;241m=\u001b[39m sol[\u001b[38;5;124m'\u001b[39m\u001b[38;5;124ms[t-1]\u001b[39m\u001b[38;5;124m'\u001b[39m], h \u001b[38;5;241m=\u001b[39m sol[\u001b[38;5;124m'\u001b[39m\u001b[38;5;124mh\u001b[39m\u001b[38;5;124m'\u001b[39m], Γs \u001b[38;5;241m=\u001b[39m solp[\u001b[38;5;124m'\u001b[39m\u001b[38;5;124mΓs\u001b[39m\u001b[38;5;124m'\u001b[39m], Bip \u001b[38;5;241m=\u001b[39m solp[\u001b[38;5;124m'\u001b[39m\u001b[38;5;124mBi\u001b[39m\u001b[38;5;124m'\u001b[39m], B0p \u001b[38;5;241m=\u001b[39m solp[\u001b[38;5;124m'\u001b[39m\u001b[38;5;124mB0\u001b[39m\u001b[38;5;124m'\u001b[39m], si_s \u001b[38;5;241m=\u001b[39m sol[\u001b[38;5;124m'\u001b[39m\u001b[38;5;124msi/s\u001b[39m\u001b[38;5;124m'\u001b[39m], s0_s \u001b[38;5;241m=\u001b[39m sol[\u001b[38;5;124m'\u001b[39m\u001b[38;5;124ms0/s[t-1]\u001b[39m\u001b[38;5;124m'\u001b[39m], Θs \u001b[38;5;241m=\u001b[39m sol[\u001b[38;5;124m'\u001b[39m\u001b[38;5;124mΘs\u001b[39m\u001b[38;5;124m'\u001b[39m],\n\u001b[0;32m    273\u001b[0m \t\t\t\t\tdlnh_Dτ \u001b[38;5;241m=\u001b[39m sol[\u001b[38;5;124m'\u001b[39m\u001b[38;5;124mdln(h)/dτ\u001b[39m\u001b[38;5;124m'\u001b[39m], dlns_Dτ \u001b[38;5;241m=\u001b[39m sol[\u001b[38;5;124m'\u001b[39m\u001b[38;5;124mdln(s)/dτ\u001b[39m\u001b[38;5;124m'\u001b[39m], dlnΓs_Dτ \u001b[38;5;241m=\u001b[39m sol[\u001b[38;5;124m'\u001b[39m\u001b[38;5;124mdln(Γs)/dτ\u001b[39m\u001b[38;5;124m'\u001b[39m], dlnhp_Dlns \u001b[38;5;241m=\u001b[39m solp[\u001b[38;5;124m'\u001b[39m\u001b[38;5;124mdln(h)/dln(s[t-1])\u001b[39m\u001b[38;5;124m'\u001b[39m], dτp_dτ \u001b[38;5;241m=\u001b[39m sol[\u001b[38;5;124m'\u001b[39m\u001b[38;5;124mdτ[t+1]/dτ\u001b[39m\u001b[38;5;124m'\u001b[39m])\n\u001b[0;32m    274\u001b[0m \t\u001b[38;5;28;01mreturn\u001b[39;00m np\u001b[38;5;241m.\u001b[39mhstack([PEEobj, \n\u001b[0;32m    275\u001b[0m \t\t\t\t\tsol[\u001b[38;5;124m'\u001b[39m\u001b[38;5;124ms\u001b[39m\u001b[38;5;124m'\u001b[39m]\u001b[38;5;241m-\u001b[39m\u001b[38;5;28mself\u001b[39m\u001b[38;5;241m.\u001b[39mBG\u001b[38;5;241m.\u001b[39ms_t(h\u001b[38;5;241m=\u001b[39msol[\u001b[38;5;124m'\u001b[39m\u001b[38;5;124mh\u001b[39m\u001b[38;5;124m'\u001b[39m], Γs \u001b[38;5;241m=\u001b[39m sol[\u001b[38;5;124m'\u001b[39m\u001b[38;5;124mΓs\u001b[39m\u001b[38;5;124m'\u001b[39m]),\n\u001b[0;32m    276\u001b[0m \t\t\t\t\tsol[\u001b[38;5;124m'\u001b[39m\u001b[38;5;124ms0/s\u001b[39m\u001b[38;5;124m'\u001b[39m]\u001b[38;5;241m-\u001b[39m\u001b[38;5;28mself\u001b[39m\u001b[38;5;241m.\u001b[39mBG\u001b[38;5;241m.\u001b[39ms0_s(B0 \u001b[38;5;241m=\u001b[39m solp[\u001b[38;5;124m'\u001b[39m\u001b[38;5;124mB0\u001b[39m\u001b[38;5;124m'\u001b[39m], Θs \u001b[38;5;241m=\u001b[39m sol[\u001b[38;5;124m'\u001b[39m\u001b[38;5;124mΘs\u001b[39m\u001b[38;5;124m'\u001b[39m], τp \u001b[38;5;241m=\u001b[39m solp[\u001b[38;5;124m'\u001b[39m\u001b[38;5;124mτ\u001b[39m\u001b[38;5;124m'\u001b[39m])])\n",
      "File \u001b[1;32m~\\Documents\\GitHub\\SSD\\py\\argentina_base.py:252\u001b[0m, in \u001b[0;36mBaseScalar.PEE_t\u001b[1;34m(self, τBound, τ, τp, s_, h, Γs, Bip, B0p, si_s, s0_s, Θs, dlnh_Dτ, dlns_Dτ, dlnΓs_Dτ, dlnhp_Dlns, dτp_dτ, t)\u001b[0m\n\u001b[0;32m    250\u001b[0m v2i \u001b[38;5;241m=\u001b[39m \u001b[38;5;28mself\u001b[39m\u001b[38;5;241m.\u001b[39mPEE2i(τ \u001b[38;5;241m=\u001b[39m τBound, s_ \u001b[38;5;241m=\u001b[39m s_, h \u001b[38;5;241m=\u001b[39m h, dlnh_Dτ \u001b[38;5;241m=\u001b[39m dlnh_Dτ, si_s \u001b[38;5;241m=\u001b[39m si_s, t \u001b[38;5;241m=\u001b[39m t)\n\u001b[0;32m    251\u001b[0m v20 \u001b[38;5;241m=\u001b[39m \u001b[38;5;28mself\u001b[39m\u001b[38;5;241m.\u001b[39mPEE20(τ \u001b[38;5;241m=\u001b[39m τBound, s_ \u001b[38;5;241m=\u001b[39m s_, h \u001b[38;5;241m=\u001b[39m h, dlnh_Dτ \u001b[38;5;241m=\u001b[39m dlnh_Dτ, s0_s \u001b[38;5;241m=\u001b[39m s0_s, t \u001b[38;5;241m=\u001b[39m t)\n\u001b[1;32m--> 252\u001b[0m \u001b[38;5;28;01mreturn\u001b[39;00m \u001b[38;5;28mself\u001b[39m\u001b[38;5;241m.\u001b[39maux_PEE(v1i \u001b[38;5;241m=\u001b[39m v1i, v10 \u001b[38;5;241m=\u001b[39m v10, v2i \u001b[38;5;241m=\u001b[39m v2i, v20 \u001b[38;5;241m=\u001b[39m v20, τ \u001b[38;5;241m=\u001b[39m τ)\n",
      "File \u001b[1;32m~\\Documents\\GitHub\\SSD\\py\\argentina_base.py:96\u001b[0m, in \u001b[0;36mBaseScalar.aux_PEE\u001b[1;34m(self, v1i, v10, v2i, v20, τ, t)\u001b[0m\n\u001b[0;32m     95\u001b[0m \u001b[38;5;28;01mdef\u001b[39;00m \u001b[38;5;21maux_PEE\u001b[39m(\u001b[38;5;28mself\u001b[39m, v1i \u001b[38;5;241m=\u001b[39m \u001b[38;5;28;01mNone\u001b[39;00m, v10 \u001b[38;5;241m=\u001b[39m \u001b[38;5;28;01mNone\u001b[39;00m, v2i \u001b[38;5;241m=\u001b[39m \u001b[38;5;28;01mNone\u001b[39;00m, v20 \u001b[38;5;241m=\u001b[39m \u001b[38;5;28;01mNone\u001b[39;00m, τ \u001b[38;5;241m=\u001b[39m \u001b[38;5;28;01mNone\u001b[39;00m, t \u001b[38;5;241m=\u001b[39m \u001b[38;5;28;01mNone\u001b[39;00m):\n\u001b[1;32m---> 96\u001b[0m \t\u001b[38;5;28;01mreturn\u001b[39;00m \u001b[38;5;28mself\u001b[39m\u001b[38;5;241m.\u001b[39minteriorFOC(np\u001b[38;5;241m.\u001b[39mmatmul(v2i, \u001b[38;5;28mself\u001b[39m\u001b[38;5;241m.\u001b[39mget(\u001b[38;5;124m'\u001b[39m\u001b[38;5;124mγi[t-1]\u001b[39m\u001b[38;5;124m'\u001b[39m,t)\u001b[38;5;241m*\u001b[39m\u001b[38;5;28mself\u001b[39m\u001b[38;5;241m.\u001b[39mω2i(t))\u001b[38;5;241m+\u001b[39mv20\u001b[38;5;241m*\u001b[39m\u001b[38;5;28mself\u001b[39m\u001b[38;5;241m.\u001b[39mget(\u001b[38;5;124m'\u001b[39m\u001b[38;5;124mγ0[t-1]\u001b[39m\u001b[38;5;124m'\u001b[39m,t)\u001b[38;5;241m*\u001b[39m\u001b[38;5;28mself\u001b[39m\u001b[38;5;241m.\u001b[39mω20(t)\u001b[38;5;241m+\u001b[39m\u001b[38;5;28mself\u001b[39m\u001b[38;5;241m.\u001b[39mget(\u001b[38;5;124m'\u001b[39m\u001b[38;5;124mν\u001b[39m\u001b[38;5;124m'\u001b[39m,t)\u001b[38;5;241m*\u001b[39m(np\u001b[38;5;241m.\u001b[39mmatmul(v1i, \u001b[38;5;28mself\u001b[39m\u001b[38;5;241m.\u001b[39mget(\u001b[38;5;124m'\u001b[39m\u001b[38;5;124mγi\u001b[39m\u001b[38;5;124m'\u001b[39m,t)\u001b[38;5;241m*\u001b[39m\u001b[38;5;28mself\u001b[39m\u001b[38;5;241m.\u001b[39mω1i(t))\u001b[38;5;241m+\u001b[39mv10\u001b[38;5;241m*\u001b[39m\u001b[38;5;28mself\u001b[39m\u001b[38;5;241m.\u001b[39mget(\u001b[38;5;124m'\u001b[39m\u001b[38;5;124mγ0\u001b[39m\u001b[38;5;124m'\u001b[39m,t)\u001b[38;5;241m*\u001b[39m\u001b[38;5;28mself\u001b[39m\u001b[38;5;241m.\u001b[39mω10(t)), τ)\n",
      "File \u001b[1;32m~\\Documents\\GitHub\\SSD\\py\\argentina_base.py:44\u001b[0m, in \u001b[0;36m_Base.interiorFOC\u001b[1;34m(self, z, x, var)\u001b[0m\n\u001b[0;32m     42\u001b[0m \u001b[38;5;250m\t\u001b[39m\u001b[38;5;124;03m\"\"\" Adjust FOC in a multiplicative way: z is the \"original\" marginal effect, x is the bounded variable \"\"\"\u001b[39;00m\n\u001b[0;32m     43\u001b[0m \t\u001b[38;5;28;01mreturn\u001b[39;00m z\u001b[38;5;241m-\u001b[39m\u001b[38;5;28mabs\u001b[39m(z)\u001b[38;5;241m*\u001b[39m(kl\u001b[38;5;241m*\u001b[39m(np\u001b[38;5;241m.\u001b[39mclip(x, \u001b[38;5;28;01mNone\u001b[39;00m, l)\u001b[38;5;241m-\u001b[39ml)\u001b[38;5;241m+\u001b[39mku\u001b[38;5;241m*\u001b[39m(np\u001b[38;5;241m.\u001b[39mclip(x,u,\u001b[38;5;28;01mNone\u001b[39;00m)\u001b[38;5;241m-\u001b[39mu))\n\u001b[1;32m---> 44\u001b[0m \u001b[38;5;28;01mdef\u001b[39;00m \u001b[38;5;21minteriorFOC\u001b[39m(\u001b[38;5;28mself\u001b[39m, z, x, var \u001b[38;5;241m=\u001b[39m \u001b[38;5;124m'\u001b[39m\u001b[38;5;124mτ\u001b[39m\u001b[38;5;124m'\u001b[39m):\n\u001b[0;32m     45\u001b[0m \t\u001b[38;5;28;01mreturn\u001b[39;00m \u001b[38;5;28mself\u001b[39m\u001b[38;5;241m.\u001b[39madjustFocMultiplicative(z, x, l \u001b[38;5;241m=\u001b[39m \u001b[38;5;28mself\u001b[39m\u001b[38;5;241m.\u001b[39mdb[\u001b[38;5;124mf\u001b[39m\u001b[38;5;124m'\u001b[39m\u001b[38;5;132;01m{\u001b[39;00mvar\u001b[38;5;132;01m}\u001b[39;00m\u001b[38;5;124m_l\u001b[39m\u001b[38;5;124m'\u001b[39m], u \u001b[38;5;241m=\u001b[39m \u001b[38;5;28mself\u001b[39m\u001b[38;5;241m.\u001b[39mdb[\u001b[38;5;124mf\u001b[39m\u001b[38;5;124m'\u001b[39m\u001b[38;5;132;01m{\u001b[39;00mvar\u001b[38;5;132;01m}\u001b[39;00m\u001b[38;5;124m_u\u001b[39m\u001b[38;5;124m'\u001b[39m], kl \u001b[38;5;241m=\u001b[39m \u001b[38;5;28mself\u001b[39m\u001b[38;5;241m.\u001b[39mdb[\u001b[38;5;124mf\u001b[39m\u001b[38;5;124m'\u001b[39m\u001b[38;5;124mk\u001b[39m\u001b[38;5;132;01m{\u001b[39;00mvar\u001b[38;5;132;01m}\u001b[39;00m\u001b[38;5;124m_l\u001b[39m\u001b[38;5;124m'\u001b[39m], ku \u001b[38;5;241m=\u001b[39m \u001b[38;5;28mself\u001b[39m\u001b[38;5;241m.\u001b[39mdb[\u001b[38;5;124mf\u001b[39m\u001b[38;5;124m'\u001b[39m\u001b[38;5;124mk\u001b[39m\u001b[38;5;132;01m{\u001b[39;00mvar\u001b[38;5;132;01m}\u001b[39;00m\u001b[38;5;124m_u\u001b[39m\u001b[38;5;124m'\u001b[39m])\n\u001b[0;32m     47\u001b[0m \u001b[38;5;66;03m#######################################################################\u001b[39;00m\n\u001b[0;32m     48\u001b[0m \u001b[38;5;66;03m##########\t\t\t\t\t1. Simple defs\t\t\t\t \t###########\u001b[39;00m\n\u001b[0;32m     49\u001b[0m \u001b[38;5;66;03m#######################################################################\u001b[39;00m\n\u001b[0;32m     50\u001b[0m \u001b[38;5;66;03m#### NOTE: NUMPY METHODS\u001b[39;00m\n",
      "\u001b[1;31mKeyboardInterrupt\u001b[0m: "
     ]
    }
   ],
   "source": [
    "m2010.db.update(m2010.adjPar('eps',.07))\n",
    "sols = m2010.PEE.FH()"
   ]
  },
  {
   "cell_type": "code",
   "execution_count": null,
   "id": "c7b27224-3931-4d2c-9473-605d6653f3e1",
   "metadata": {},
   "outputs": [],
   "source": []
  },
  {
   "cell_type": "code",
   "execution_count": 39,
   "id": "72af574b-8b9c-4d77-943b-d00e32ea85bc",
   "metadata": {},
   "outputs": [
    {
     "ename": "KeyboardInterrupt",
     "evalue": "",
     "output_type": "error",
     "traceback": [
      "\u001b[1;31m---------------------------------------------------------------------------\u001b[0m",
      "\u001b[1;31mKeyboardInterrupt\u001b[0m                         Traceback (most recent call last)",
      "Cell \u001b[1;32mIn[39], line 11\u001b[0m\n\u001b[0;32m      9\u001b[0m \u001b[38;5;28;01mfor\u001b[39;00m ϵ \u001b[38;5;129;01min\u001b[39;00m ϵTargs[ρ]:\n\u001b[0;32m     10\u001b[0m     m2010\u001b[38;5;241m.\u001b[39mdb\u001b[38;5;241m.\u001b[39mupdate(m2010\u001b[38;5;241m.\u001b[39madjPar(\u001b[38;5;124m'\u001b[39m\u001b[38;5;124meps\u001b[39m\u001b[38;5;124m'\u001b[39m,ϵ))\n\u001b[1;32m---> 11\u001b[0m     simPols[(ρ,ϵ)] \u001b[38;5;241m=\u001b[39m m2010\u001b[38;5;241m.\u001b[39mPEE\u001b[38;5;241m.\u001b[39mFH()\n\u001b[0;32m     12\u001b[0m     simPaths[(ρ,ϵ)] \u001b[38;5;241m=\u001b[39m m2010\u001b[38;5;241m.\u001b[39mEE_FH_PEE_solve(simPols[(ρ,ϵ)], z0 \u001b[38;5;241m=\u001b[39m [paths[ρ][\u001b[38;5;124m'\u001b[39m\u001b[38;5;124ms[t-1]\u001b[39m\u001b[38;5;124m'\u001b[39m][t0], paths[ρ][\u001b[38;5;124m'\u001b[39m\u001b[38;5;124ms0/s[t-1]\u001b[39m\u001b[38;5;124m'\u001b[39m][t0]])\n\u001b[0;32m     13\u001b[0m     \u001b[38;5;28mprint\u001b[39m((ρ, ϵ))\n",
      "File \u001b[1;32m~\\Documents\\GitHub\\SSD\\py\\argentina_policy.py:234\u001b[0m, in \u001b[0;36mPEE.FH\u001b[1;34m(self, pars, update)\u001b[0m\n\u001b[0;32m    232\u001b[0m \u001b[38;5;28;01mfor\u001b[39;00m t \u001b[38;5;129;01min\u001b[39;00m \u001b[38;5;28mself\u001b[39m\u001b[38;5;241m.\u001b[39mdb[\u001b[38;5;124m'\u001b[39m\u001b[38;5;124mt\u001b[39m\u001b[38;5;124m'\u001b[39m][\u001b[38;5;241m-\u001b[39m\u001b[38;5;241m2\u001b[39m::\u001b[38;5;241m-\u001b[39m\u001b[38;5;241m1\u001b[39m]:\n\u001b[0;32m    233\u001b[0m \t\u001b[38;5;28mself\u001b[39m\u001b[38;5;241m.\u001b[39mBG\u001b[38;5;241m.\u001b[39mt \u001b[38;5;241m=\u001b[39m t\n\u001b[1;32m--> 234\u001b[0m \tsols[t] \u001b[38;5;241m=\u001b[39m \u001b[38;5;28mself\u001b[39m\u001b[38;5;241m.\u001b[39msolve(solp \u001b[38;5;241m=\u001b[39m sols[t\u001b[38;5;241m+\u001b[39m\u001b[38;5;241m1\u001b[39m], \u001b[38;5;241m*\u001b[39m\u001b[38;5;241m*\u001b[39m({\u001b[38;5;124m'\u001b[39m\u001b[38;5;124mx0\u001b[39m\u001b[38;5;124m'\u001b[39m: \u001b[38;5;28mself\u001b[39m\u001b[38;5;241m.\u001b[39mx0[t]} \u001b[38;5;241m|\u001b[39m kwargs[t]))\n\u001b[0;32m    235\u001b[0m \t\u001b[38;5;28;01mif\u001b[39;00m update:\n\u001b[0;32m    236\u001b[0m \t\t\u001b[38;5;28mself\u001b[39m\u001b[38;5;241m.\u001b[39mx0[t] \u001b[38;5;241m=\u001b[39m sols[t][\u001b[38;5;124m'\u001b[39m\u001b[38;5;124mx_unbounded\u001b[39m\u001b[38;5;124m'\u001b[39m]\n",
      "File \u001b[1;32m~\\Documents\\GitHub\\SSD\\py\\argentina_policy.py:261\u001b[0m, in \u001b[0;36mPEE.solve\u001b[1;34m(self, style, t, **kwargs)\u001b[0m\n\u001b[0;32m    260\u001b[0m \u001b[38;5;28;01mdef\u001b[39;00m \u001b[38;5;21msolve\u001b[39m(\u001b[38;5;28mself\u001b[39m, style \u001b[38;5;241m=\u001b[39m \u001b[38;5;124m'\u001b[39m\u001b[38;5;124mVector\u001b[39m\u001b[38;5;124m'\u001b[39m, t \u001b[38;5;241m=\u001b[39m \u001b[38;5;124m'\u001b[39m\u001b[38;5;124mt\u001b[39m\u001b[38;5;124m'\u001b[39m, \u001b[38;5;241m*\u001b[39m\u001b[38;5;241m*\u001b[39mkwargs):\n\u001b[1;32m--> 261\u001b[0m \t\u001b[38;5;28;01mreturn\u001b[39;00m \u001b[38;5;28mgetattr\u001b[39m(\u001b[38;5;28mself\u001b[39m, \u001b[38;5;124mf\u001b[39m\u001b[38;5;124m'\u001b[39m\u001b[38;5;124msolve\u001b[39m\u001b[38;5;132;01m{\u001b[39;00mstyle\u001b[38;5;132;01m}\u001b[39;00m\u001b[38;5;124m_\u001b[39m\u001b[38;5;132;01m{\u001b[39;00mt\u001b[38;5;132;01m}\u001b[39;00m\u001b[38;5;124m'\u001b[39m)(\u001b[38;5;241m*\u001b[39m\u001b[38;5;241m*\u001b[39mkwargs)\n",
      "File \u001b[1;32m~\\Documents\\GitHub\\SSD\\py\\argentina_policy.py:266\u001b[0m, in \u001b[0;36mPEE.solveVector_t\u001b[1;34m(self, solp, x0_from_solp, x0, **kwargs)\u001b[0m\n\u001b[0;32m    264\u001b[0m \u001b[38;5;250m\u001b[39m\u001b[38;5;124;03m\"\"\" Solve problem as a sequence of root-finding problems. \"\"\"\u001b[39;00m\n\u001b[0;32m    265\u001b[0m fp \u001b[38;5;241m=\u001b[39m {k: \u001b[38;5;28mself\u001b[39m\u001b[38;5;241m.\u001b[39mgridPolicy(solp[k]) \u001b[38;5;28;01mfor\u001b[39;00m k \u001b[38;5;129;01min\u001b[39;00m (\u001b[38;5;124m'\u001b[39m\u001b[38;5;124mτ\u001b[39m\u001b[38;5;124m'\u001b[39m,\u001b[38;5;124m'\u001b[39m\u001b[38;5;124mBi\u001b[39m\u001b[38;5;124m'\u001b[39m,\u001b[38;5;124m'\u001b[39m\u001b[38;5;124mB0\u001b[39m\u001b[38;5;124m'\u001b[39m, \u001b[38;5;124m'\u001b[39m\u001b[38;5;124m∂ln(h)/∂τ\u001b[39m\u001b[38;5;124m'\u001b[39m, \u001b[38;5;124m'\u001b[39m\u001b[38;5;124m∂ln(h)/∂ln(s[t-1])\u001b[39m\u001b[38;5;124m'\u001b[39m, \u001b[38;5;124m'\u001b[39m\u001b[38;5;124mdτ/ds[t-1]\u001b[39m\u001b[38;5;124m'\u001b[39m,\u001b[38;5;124m'\u001b[39m\u001b[38;5;124mdτ/d(s0/s)\u001b[39m\u001b[38;5;124m'\u001b[39m,\u001b[38;5;124m'\u001b[39m\u001b[38;5;124mdln(h)/dln(s[t-1])\u001b[39m\u001b[38;5;124m'\u001b[39m)} \u001b[38;5;66;03m# dict interpolants\u001b[39;00m\n\u001b[1;32m--> 266\u001b[0m x \u001b[38;5;241m=\u001b[39m optimize\u001b[38;5;241m.\u001b[39mroot(\u001b[38;5;28;01mlambda\u001b[39;00m x: \u001b[38;5;28mself\u001b[39m\u001b[38;5;241m.\u001b[39mobjective_t(x, fp), x0_solp(x0, solp[\u001b[38;5;124m'\u001b[39m\u001b[38;5;124mx_unbounded\u001b[39m\u001b[38;5;124m'\u001b[39m], x0_from_solp), \u001b[38;5;241m*\u001b[39m\u001b[38;5;241m*\u001b[39mkwargs)\n\u001b[0;32m    267\u001b[0m \u001b[38;5;28;01massert\u001b[39;00m x[\u001b[38;5;124m'\u001b[39m\u001b[38;5;124msuccess\u001b[39m\u001b[38;5;124m'\u001b[39m], \u001b[38;5;124mf\u001b[39m\u001b[38;5;124m\"\"\"\u001b[39m\u001b[38;5;124m Couldn\u001b[39m\u001b[38;5;124m'\u001b[39m\u001b[38;5;124mt identify policy function for year t=\u001b[39m\u001b[38;5;132;01m{\u001b[39;00m\u001b[38;5;28mself\u001b[39m\u001b[38;5;241m.\u001b[39mBG\u001b[38;5;241m.\u001b[39mt\u001b[38;5;132;01m}\u001b[39;00m\u001b[38;5;124m. Previous solution x = \u001b[39m\u001b[38;5;132;01m{\u001b[39;00msolp[\u001b[38;5;124m'\u001b[39m\u001b[38;5;124mx_unbounded\u001b[39m\u001b[38;5;124m'\u001b[39m]\u001b[38;5;132;01m}\u001b[39;00m\u001b[38;5;124m. \u001b[39m\u001b[38;5;124m\"\"\"\u001b[39m\n\u001b[0;32m    268\u001b[0m \u001b[38;5;28;01mreturn\u001b[39;00m \u001b[38;5;28mself\u001b[39m\u001b[38;5;241m.\u001b[39mreportVector_t(x[\u001b[38;5;124m'\u001b[39m\u001b[38;5;124mx\u001b[39m\u001b[38;5;124m'\u001b[39m], fp)\n",
      "File \u001b[1;32m~\\AppData\\Local\\anaconda3\\envs\\SSD\\Lib\\site-packages\\scipy\\optimize\\_root.py:256\u001b[0m, in \u001b[0;36mroot\u001b[1;34m(fun, x0, args, method, jac, tol, callback, options)\u001b[0m\n\u001b[0;32m    253\u001b[0m \u001b[38;5;28;01melif\u001b[39;00m meth \u001b[38;5;129;01min\u001b[39;00m (\u001b[38;5;124m'\u001b[39m\u001b[38;5;124mbroyden1\u001b[39m\u001b[38;5;124m'\u001b[39m, \u001b[38;5;124m'\u001b[39m\u001b[38;5;124mbroyden2\u001b[39m\u001b[38;5;124m'\u001b[39m, \u001b[38;5;124m'\u001b[39m\u001b[38;5;124manderson\u001b[39m\u001b[38;5;124m'\u001b[39m, \u001b[38;5;124m'\u001b[39m\u001b[38;5;124mlinearmixing\u001b[39m\u001b[38;5;124m'\u001b[39m,\n\u001b[0;32m    254\u001b[0m               \u001b[38;5;124m'\u001b[39m\u001b[38;5;124mdiagbroyden\u001b[39m\u001b[38;5;124m'\u001b[39m, \u001b[38;5;124m'\u001b[39m\u001b[38;5;124mexcitingmixing\u001b[39m\u001b[38;5;124m'\u001b[39m, \u001b[38;5;124m'\u001b[39m\u001b[38;5;124mkrylov\u001b[39m\u001b[38;5;124m'\u001b[39m):\n\u001b[0;32m    255\u001b[0m     _warn_jac_unused(jac, method)\n\u001b[1;32m--> 256\u001b[0m     sol \u001b[38;5;241m=\u001b[39m _root_nonlin_solve(_wrapped_fun, x0, args\u001b[38;5;241m=\u001b[39margs, jac\u001b[38;5;241m=\u001b[39mjac,\n\u001b[0;32m    257\u001b[0m                              _method\u001b[38;5;241m=\u001b[39mmeth, _callback\u001b[38;5;241m=\u001b[39mcallback,\n\u001b[0;32m    258\u001b[0m                              \u001b[38;5;241m*\u001b[39m\u001b[38;5;241m*\u001b[39moptions)\n\u001b[0;32m    259\u001b[0m \u001b[38;5;28;01melse\u001b[39;00m:\n\u001b[0;32m    260\u001b[0m     \u001b[38;5;28;01mraise\u001b[39;00m \u001b[38;5;167;01mValueError\u001b[39;00m(\u001b[38;5;124m'\u001b[39m\u001b[38;5;124mUnknown solver \u001b[39m\u001b[38;5;132;01m%s\u001b[39;00m\u001b[38;5;124m'\u001b[39m \u001b[38;5;241m%\u001b[39m method)\n",
      "File \u001b[1;32m~\\AppData\\Local\\anaconda3\\envs\\SSD\\Lib\\site-packages\\scipy\\optimize\\_root.py:365\u001b[0m, in \u001b[0;36m_root_nonlin_solve\u001b[1;34m(fun, x0, args, jac, _callback, _method, nit, disp, maxiter, ftol, fatol, xtol, xatol, tol_norm, line_search, jac_options, **unknown_options)\u001b[0m\n\u001b[0;32m    362\u001b[0m \u001b[38;5;28;01melse\u001b[39;00m:\n\u001b[0;32m    363\u001b[0m     f \u001b[38;5;241m=\u001b[39m fun\n\u001b[1;32m--> 365\u001b[0m x, info \u001b[38;5;241m=\u001b[39m nonlin\u001b[38;5;241m.\u001b[39mnonlin_solve(f, x0, jacobian\u001b[38;5;241m=\u001b[39mjacobian(\u001b[38;5;241m*\u001b[39m\u001b[38;5;241m*\u001b[39mjac_options),\n\u001b[0;32m    366\u001b[0m                               \u001b[38;5;28miter\u001b[39m\u001b[38;5;241m=\u001b[39mnit, verbose\u001b[38;5;241m=\u001b[39mverbose,\n\u001b[0;32m    367\u001b[0m                               maxiter\u001b[38;5;241m=\u001b[39mmaxiter, f_tol\u001b[38;5;241m=\u001b[39mf_tol,\n\u001b[0;32m    368\u001b[0m                               f_rtol\u001b[38;5;241m=\u001b[39mf_rtol, x_tol\u001b[38;5;241m=\u001b[39mx_tol,\n\u001b[0;32m    369\u001b[0m                               x_rtol\u001b[38;5;241m=\u001b[39mx_rtol, tol_norm\u001b[38;5;241m=\u001b[39mtol_norm,\n\u001b[0;32m    370\u001b[0m                               line_search\u001b[38;5;241m=\u001b[39mline_search,\n\u001b[0;32m    371\u001b[0m                               callback\u001b[38;5;241m=\u001b[39m_callback, full_output\u001b[38;5;241m=\u001b[39m\u001b[38;5;28;01mTrue\u001b[39;00m,\n\u001b[0;32m    372\u001b[0m                               raise_exception\u001b[38;5;241m=\u001b[39m\u001b[38;5;28;01mFalse\u001b[39;00m)\n\u001b[0;32m    373\u001b[0m sol \u001b[38;5;241m=\u001b[39m OptimizeResult(x\u001b[38;5;241m=\u001b[39mx, method\u001b[38;5;241m=\u001b[39m_method)\n\u001b[0;32m    374\u001b[0m sol\u001b[38;5;241m.\u001b[39mupdate(info)\n",
      "File \u001b[1;32m~\\AppData\\Local\\anaconda3\\envs\\SSD\\Lib\\site-packages\\scipy\\optimize\\_nonlin.py:211\u001b[0m, in \u001b[0;36mnonlin_solve\u001b[1;34m(F, x0, jacobian, iter, verbose, maxiter, f_tol, f_rtol, x_tol, x_rtol, tol_norm, line_search, callback, full_output, raise_exception)\u001b[0m\n\u001b[0;32m    209\u001b[0m \u001b[38;5;66;03m# The tolerance, as computed for scipy.sparse.linalg.* routines\u001b[39;00m\n\u001b[0;32m    210\u001b[0m tol \u001b[38;5;241m=\u001b[39m \u001b[38;5;28mmin\u001b[39m(eta, eta\u001b[38;5;241m*\u001b[39mFx_norm)\n\u001b[1;32m--> 211\u001b[0m dx \u001b[38;5;241m=\u001b[39m \u001b[38;5;241m-\u001b[39mjacobian\u001b[38;5;241m.\u001b[39msolve(Fx, tol\u001b[38;5;241m=\u001b[39mtol)\n\u001b[0;32m    213\u001b[0m \u001b[38;5;28;01mif\u001b[39;00m norm(dx) \u001b[38;5;241m==\u001b[39m \u001b[38;5;241m0\u001b[39m:\n\u001b[0;32m    214\u001b[0m     \u001b[38;5;28;01mraise\u001b[39;00m \u001b[38;5;167;01mValueError\u001b[39;00m(\u001b[38;5;124m\"\u001b[39m\u001b[38;5;124mJacobian inversion yielded zero vector. \u001b[39m\u001b[38;5;124m\"\u001b[39m\n\u001b[0;32m    215\u001b[0m                      \u001b[38;5;124m\"\u001b[39m\u001b[38;5;124mThis indicates a bug in the Jacobian \u001b[39m\u001b[38;5;124m\"\u001b[39m\n\u001b[0;32m    216\u001b[0m                      \u001b[38;5;124m\"\u001b[39m\u001b[38;5;124mapproximation.\u001b[39m\u001b[38;5;124m\"\u001b[39m)\n",
      "File \u001b[1;32m~\\AppData\\Local\\anaconda3\\envs\\SSD\\Lib\\site-packages\\scipy\\optimize\\_nonlin.py:1501\u001b[0m, in \u001b[0;36mKrylovJacobian.solve\u001b[1;34m(self, rhs, tol)\u001b[0m\n\u001b[0;32m   1499\u001b[0m     sol, info \u001b[38;5;241m=\u001b[39m \u001b[38;5;28mself\u001b[39m\u001b[38;5;241m.\u001b[39mmethod(\u001b[38;5;28mself\u001b[39m\u001b[38;5;241m.\u001b[39mop, rhs, \u001b[38;5;241m*\u001b[39m\u001b[38;5;241m*\u001b[39m\u001b[38;5;28mself\u001b[39m\u001b[38;5;241m.\u001b[39mmethod_kw)\n\u001b[0;32m   1500\u001b[0m \u001b[38;5;28;01melse\u001b[39;00m:\n\u001b[1;32m-> 1501\u001b[0m     sol, info \u001b[38;5;241m=\u001b[39m \u001b[38;5;28mself\u001b[39m\u001b[38;5;241m.\u001b[39mmethod(\u001b[38;5;28mself\u001b[39m\u001b[38;5;241m.\u001b[39mop, rhs, rtol\u001b[38;5;241m=\u001b[39mtol, \u001b[38;5;241m*\u001b[39m\u001b[38;5;241m*\u001b[39m\u001b[38;5;28mself\u001b[39m\u001b[38;5;241m.\u001b[39mmethod_kw)\n\u001b[0;32m   1502\u001b[0m \u001b[38;5;28;01mreturn\u001b[39;00m sol\n",
      "File \u001b[1;32m~\\AppData\\Local\\anaconda3\\envs\\SSD\\Lib\\site-packages\\scipy\\sparse\\linalg\\_isolve\\lgmres.py:180\u001b[0m, in \u001b[0;36mlgmres\u001b[1;34m(A, b, x0, rtol, atol, maxiter, M, callback, inner_m, outer_k, outer_v, store_outer_Av, prepend_outer_v)\u001b[0m\n\u001b[0;32m    177\u001b[0m ptol \u001b[38;5;241m=\u001b[39m \u001b[38;5;28mmin\u001b[39m(ptol_max_factor, \u001b[38;5;28mmax\u001b[39m(atol, rtol\u001b[38;5;241m*\u001b[39mb_norm)\u001b[38;5;241m/\u001b[39mr_norm)\n\u001b[0;32m    179\u001b[0m \u001b[38;5;28;01mtry\u001b[39;00m:\n\u001b[1;32m--> 180\u001b[0m     Q, R, B, vs, zs, y, pres \u001b[38;5;241m=\u001b[39m _fgmres(matvec,\n\u001b[0;32m    181\u001b[0m                                        v0,\n\u001b[0;32m    182\u001b[0m                                        inner_m,\n\u001b[0;32m    183\u001b[0m                                        lpsolve\u001b[38;5;241m=\u001b[39mpsolve,\n\u001b[0;32m    184\u001b[0m                                        atol\u001b[38;5;241m=\u001b[39mptol,\n\u001b[0;32m    185\u001b[0m                                        outer_v\u001b[38;5;241m=\u001b[39mouter_v,\n\u001b[0;32m    186\u001b[0m                                        prepend_outer_v\u001b[38;5;241m=\u001b[39mprepend_outer_v)\n\u001b[0;32m    187\u001b[0m     y \u001b[38;5;241m*\u001b[39m\u001b[38;5;241m=\u001b[39m inner_res_0\n\u001b[0;32m    188\u001b[0m     \u001b[38;5;28;01mif\u001b[39;00m \u001b[38;5;129;01mnot\u001b[39;00m np\u001b[38;5;241m.\u001b[39misfinite(y)\u001b[38;5;241m.\u001b[39mall():\n\u001b[0;32m    189\u001b[0m         \u001b[38;5;66;03m# Overflow etc. in computation. There's no way to\u001b[39;00m\n\u001b[0;32m    190\u001b[0m         \u001b[38;5;66;03m# recover from this, so we have to bail out.\u001b[39;00m\n",
      "File \u001b[1;32m~\\AppData\\Local\\anaconda3\\envs\\SSD\\Lib\\site-packages\\scipy\\sparse\\linalg\\_isolve\\_gcrotmk.py:106\u001b[0m, in \u001b[0;36m_fgmres\u001b[1;34m(matvec, v0, m, atol, lpsolve, rpsolve, cs, outer_v, prepend_outer_v)\u001b[0m\n\u001b[0;32m    103\u001b[0m     w \u001b[38;5;241m=\u001b[39m \u001b[38;5;28;01mNone\u001b[39;00m\n\u001b[0;32m    105\u001b[0m \u001b[38;5;28;01mif\u001b[39;00m w \u001b[38;5;129;01mis\u001b[39;00m \u001b[38;5;28;01mNone\u001b[39;00m:\n\u001b[1;32m--> 106\u001b[0m     w \u001b[38;5;241m=\u001b[39m lpsolve(matvec(z))\n\u001b[0;32m    107\u001b[0m \u001b[38;5;28;01melse\u001b[39;00m:\n\u001b[0;32m    108\u001b[0m     \u001b[38;5;66;03m# w is clobbered below\u001b[39;00m\n\u001b[0;32m    109\u001b[0m     w \u001b[38;5;241m=\u001b[39m w\u001b[38;5;241m.\u001b[39mcopy()\n",
      "File \u001b[1;32m~\\AppData\\Local\\anaconda3\\envs\\SSD\\Lib\\site-packages\\scipy\\sparse\\linalg\\_interface.py:236\u001b[0m, in \u001b[0;36mLinearOperator.matvec\u001b[1;34m(self, x)\u001b[0m\n\u001b[0;32m    233\u001b[0m \u001b[38;5;28;01mif\u001b[39;00m x\u001b[38;5;241m.\u001b[39mshape \u001b[38;5;241m!=\u001b[39m (N,) \u001b[38;5;129;01mand\u001b[39;00m x\u001b[38;5;241m.\u001b[39mshape \u001b[38;5;241m!=\u001b[39m (N,\u001b[38;5;241m1\u001b[39m):\n\u001b[0;32m    234\u001b[0m     \u001b[38;5;28;01mraise\u001b[39;00m \u001b[38;5;167;01mValueError\u001b[39;00m(\u001b[38;5;124m'\u001b[39m\u001b[38;5;124mdimension mismatch\u001b[39m\u001b[38;5;124m'\u001b[39m)\n\u001b[1;32m--> 236\u001b[0m y \u001b[38;5;241m=\u001b[39m \u001b[38;5;28mself\u001b[39m\u001b[38;5;241m.\u001b[39m_matvec(x)\n\u001b[0;32m    238\u001b[0m \u001b[38;5;28;01mif\u001b[39;00m \u001b[38;5;28misinstance\u001b[39m(x, np\u001b[38;5;241m.\u001b[39mmatrix):\n\u001b[0;32m    239\u001b[0m     y \u001b[38;5;241m=\u001b[39m asmatrix(y)\n",
      "File \u001b[1;32m~\\AppData\\Local\\anaconda3\\envs\\SSD\\Lib\\site-packages\\scipy\\sparse\\linalg\\_interface.py:593\u001b[0m, in \u001b[0;36m_CustomLinearOperator._matvec\u001b[1;34m(self, x)\u001b[0m\n\u001b[0;32m    592\u001b[0m \u001b[38;5;28;01mdef\u001b[39;00m \u001b[38;5;21m_matvec\u001b[39m(\u001b[38;5;28mself\u001b[39m, x):\n\u001b[1;32m--> 593\u001b[0m     \u001b[38;5;28;01mreturn\u001b[39;00m \u001b[38;5;28mself\u001b[39m\u001b[38;5;241m.\u001b[39m__matvec_impl(x)\n",
      "File \u001b[1;32m~\\AppData\\Local\\anaconda3\\envs\\SSD\\Lib\\site-packages\\scipy\\optimize\\_nonlin.py:1492\u001b[0m, in \u001b[0;36mKrylovJacobian.matvec\u001b[1;34m(self, v)\u001b[0m\n\u001b[0;32m   1490\u001b[0m     \u001b[38;5;28;01mreturn\u001b[39;00m \u001b[38;5;241m0\u001b[39m\u001b[38;5;241m*\u001b[39mv\n\u001b[0;32m   1491\u001b[0m sc \u001b[38;5;241m=\u001b[39m \u001b[38;5;28mself\u001b[39m\u001b[38;5;241m.\u001b[39momega \u001b[38;5;241m/\u001b[39m nv\n\u001b[1;32m-> 1492\u001b[0m r \u001b[38;5;241m=\u001b[39m (\u001b[38;5;28mself\u001b[39m\u001b[38;5;241m.\u001b[39mfunc(\u001b[38;5;28mself\u001b[39m\u001b[38;5;241m.\u001b[39mx0 \u001b[38;5;241m+\u001b[39m sc\u001b[38;5;241m*\u001b[39mv) \u001b[38;5;241m-\u001b[39m \u001b[38;5;28mself\u001b[39m\u001b[38;5;241m.\u001b[39mf0) \u001b[38;5;241m/\u001b[39m sc\n\u001b[0;32m   1493\u001b[0m \u001b[38;5;28;01mif\u001b[39;00m \u001b[38;5;129;01mnot\u001b[39;00m np\u001b[38;5;241m.\u001b[39mall(np\u001b[38;5;241m.\u001b[39misfinite(r)) \u001b[38;5;129;01mand\u001b[39;00m np\u001b[38;5;241m.\u001b[39mall(np\u001b[38;5;241m.\u001b[39misfinite(v)):\n\u001b[0;32m   1494\u001b[0m     \u001b[38;5;28;01mraise\u001b[39;00m \u001b[38;5;167;01mValueError\u001b[39;00m(\u001b[38;5;124m'\u001b[39m\u001b[38;5;124mFunction returned non-finite results\u001b[39m\u001b[38;5;124m'\u001b[39m)\n",
      "File \u001b[1;32m~\\AppData\\Local\\anaconda3\\envs\\SSD\\Lib\\site-packages\\scipy\\optimize\\_nonlin.py:174\u001b[0m, in \u001b[0;36mnonlin_solve.<locals>.func\u001b[1;34m(z)\u001b[0m\n\u001b[0;32m    173\u001b[0m \u001b[38;5;28;01mdef\u001b[39;00m \u001b[38;5;21mfunc\u001b[39m(z):\n\u001b[1;32m--> 174\u001b[0m     \u001b[38;5;28;01mreturn\u001b[39;00m _as_inexact(F(_array_like(z, x0)))\u001b[38;5;241m.\u001b[39mflatten()\n",
      "File \u001b[1;32m~\\AppData\\Local\\anaconda3\\envs\\SSD\\Lib\\site-packages\\scipy\\optimize\\_root.py:208\u001b[0m, in \u001b[0;36mroot.<locals>._wrapped_fun\u001b[1;34m(*fargs)\u001b[0m\n\u001b[0;32m    203\u001b[0m \u001b[38;5;250m\u001b[39m\u001b[38;5;124;03m\"\"\"\u001b[39;00m\n\u001b[0;32m    204\u001b[0m \u001b[38;5;124;03mWrapped `func` to track the number of times\u001b[39;00m\n\u001b[0;32m    205\u001b[0m \u001b[38;5;124;03mthe function has been called.\u001b[39;00m\n\u001b[0;32m    206\u001b[0m \u001b[38;5;124;03m\"\"\"\u001b[39;00m\n\u001b[0;32m    207\u001b[0m _wrapped_fun\u001b[38;5;241m.\u001b[39mnfev \u001b[38;5;241m+\u001b[39m\u001b[38;5;241m=\u001b[39m \u001b[38;5;241m1\u001b[39m\n\u001b[1;32m--> 208\u001b[0m \u001b[38;5;28;01mreturn\u001b[39;00m fun(\u001b[38;5;241m*\u001b[39mfargs)\n",
      "File \u001b[1;32m~\\Documents\\GitHub\\SSD\\py\\argentina_policy.py:266\u001b[0m, in \u001b[0;36mPEE.solveVector_t.<locals>.<lambda>\u001b[1;34m(x)\u001b[0m\n\u001b[0;32m    264\u001b[0m \u001b[38;5;250m\u001b[39m\u001b[38;5;124;03m\"\"\" Solve problem as a sequence of root-finding problems. \"\"\"\u001b[39;00m\n\u001b[0;32m    265\u001b[0m fp \u001b[38;5;241m=\u001b[39m {k: \u001b[38;5;28mself\u001b[39m\u001b[38;5;241m.\u001b[39mgridPolicy(solp[k]) \u001b[38;5;28;01mfor\u001b[39;00m k \u001b[38;5;129;01min\u001b[39;00m (\u001b[38;5;124m'\u001b[39m\u001b[38;5;124mτ\u001b[39m\u001b[38;5;124m'\u001b[39m,\u001b[38;5;124m'\u001b[39m\u001b[38;5;124mBi\u001b[39m\u001b[38;5;124m'\u001b[39m,\u001b[38;5;124m'\u001b[39m\u001b[38;5;124mB0\u001b[39m\u001b[38;5;124m'\u001b[39m, \u001b[38;5;124m'\u001b[39m\u001b[38;5;124m∂ln(h)/∂τ\u001b[39m\u001b[38;5;124m'\u001b[39m, \u001b[38;5;124m'\u001b[39m\u001b[38;5;124m∂ln(h)/∂ln(s[t-1])\u001b[39m\u001b[38;5;124m'\u001b[39m, \u001b[38;5;124m'\u001b[39m\u001b[38;5;124mdτ/ds[t-1]\u001b[39m\u001b[38;5;124m'\u001b[39m,\u001b[38;5;124m'\u001b[39m\u001b[38;5;124mdτ/d(s0/s)\u001b[39m\u001b[38;5;124m'\u001b[39m,\u001b[38;5;124m'\u001b[39m\u001b[38;5;124mdln(h)/dln(s[t-1])\u001b[39m\u001b[38;5;124m'\u001b[39m)} \u001b[38;5;66;03m# dict interpolants\u001b[39;00m\n\u001b[1;32m--> 266\u001b[0m x \u001b[38;5;241m=\u001b[39m optimize\u001b[38;5;241m.\u001b[39mroot(\u001b[38;5;28;01mlambda\u001b[39;00m x: \u001b[38;5;28mself\u001b[39m\u001b[38;5;241m.\u001b[39mobjective_t(x, fp), x0_solp(x0, solp[\u001b[38;5;124m'\u001b[39m\u001b[38;5;124mx_unbounded\u001b[39m\u001b[38;5;124m'\u001b[39m], x0_from_solp), \u001b[38;5;241m*\u001b[39m\u001b[38;5;241m*\u001b[39mkwargs)\n\u001b[0;32m    267\u001b[0m \u001b[38;5;28;01massert\u001b[39;00m x[\u001b[38;5;124m'\u001b[39m\u001b[38;5;124msuccess\u001b[39m\u001b[38;5;124m'\u001b[39m], \u001b[38;5;124mf\u001b[39m\u001b[38;5;124m\"\"\"\u001b[39m\u001b[38;5;124m Couldn\u001b[39m\u001b[38;5;124m'\u001b[39m\u001b[38;5;124mt identify policy function for year t=\u001b[39m\u001b[38;5;132;01m{\u001b[39;00m\u001b[38;5;28mself\u001b[39m\u001b[38;5;241m.\u001b[39mBG\u001b[38;5;241m.\u001b[39mt\u001b[38;5;132;01m}\u001b[39;00m\u001b[38;5;124m. Previous solution x = \u001b[39m\u001b[38;5;132;01m{\u001b[39;00msolp[\u001b[38;5;124m'\u001b[39m\u001b[38;5;124mx_unbounded\u001b[39m\u001b[38;5;124m'\u001b[39m]\u001b[38;5;132;01m}\u001b[39;00m\u001b[38;5;124m. \u001b[39m\u001b[38;5;124m\"\"\"\u001b[39m\n\u001b[0;32m    268\u001b[0m \u001b[38;5;28;01mreturn\u001b[39;00m \u001b[38;5;28mself\u001b[39m\u001b[38;5;241m.\u001b[39mreportVector_t(x[\u001b[38;5;124m'\u001b[39m\u001b[38;5;124mx\u001b[39m\u001b[38;5;124m'\u001b[39m], fp)\n",
      "File \u001b[1;32m~\\Documents\\GitHub\\SSD\\py\\argentina_policy.py:271\u001b[0m, in \u001b[0;36mPEE.objective_t\u001b[1;34m(self, x, fp)\u001b[0m\n\u001b[0;32m    270\u001b[0m \u001b[38;5;28;01mdef\u001b[39;00m \u001b[38;5;21mobjective_t\u001b[39m(\u001b[38;5;28mself\u001b[39m, x, fp):\n\u001b[1;32m--> 271\u001b[0m \tsol, solp \u001b[38;5;241m=\u001b[39m \u001b[38;5;28mself\u001b[39m\u001b[38;5;241m.\u001b[39mfuncOfτ_t(x ,fp)\n\u001b[0;32m    272\u001b[0m \tPEEobj \u001b[38;5;241m=\u001b[39m \u001b[38;5;28mself\u001b[39m\u001b[38;5;241m.\u001b[39mBG\u001b[38;5;241m.\u001b[39mPEE_t(τBound \u001b[38;5;241m=\u001b[39m sol[\u001b[38;5;124m'\u001b[39m\u001b[38;5;124mτ\u001b[39m\u001b[38;5;124m'\u001b[39m], τ  \u001b[38;5;241m=\u001b[39m sol[\u001b[38;5;124m'\u001b[39m\u001b[38;5;124mτ_unbounded\u001b[39m\u001b[38;5;124m'\u001b[39m], τp \u001b[38;5;241m=\u001b[39m solp[\u001b[38;5;124m'\u001b[39m\u001b[38;5;124mτ\u001b[39m\u001b[38;5;124m'\u001b[39m], s_ \u001b[38;5;241m=\u001b[39m sol[\u001b[38;5;124m'\u001b[39m\u001b[38;5;124ms[t-1]\u001b[39m\u001b[38;5;124m'\u001b[39m], h \u001b[38;5;241m=\u001b[39m sol[\u001b[38;5;124m'\u001b[39m\u001b[38;5;124mh\u001b[39m\u001b[38;5;124m'\u001b[39m], Γs \u001b[38;5;241m=\u001b[39m solp[\u001b[38;5;124m'\u001b[39m\u001b[38;5;124mΓs\u001b[39m\u001b[38;5;124m'\u001b[39m], Bip \u001b[38;5;241m=\u001b[39m solp[\u001b[38;5;124m'\u001b[39m\u001b[38;5;124mBi\u001b[39m\u001b[38;5;124m'\u001b[39m], B0p \u001b[38;5;241m=\u001b[39m solp[\u001b[38;5;124m'\u001b[39m\u001b[38;5;124mB0\u001b[39m\u001b[38;5;124m'\u001b[39m], si_s \u001b[38;5;241m=\u001b[39m sol[\u001b[38;5;124m'\u001b[39m\u001b[38;5;124msi/s\u001b[39m\u001b[38;5;124m'\u001b[39m], s0_s \u001b[38;5;241m=\u001b[39m sol[\u001b[38;5;124m'\u001b[39m\u001b[38;5;124ms0/s[t-1]\u001b[39m\u001b[38;5;124m'\u001b[39m], Θs \u001b[38;5;241m=\u001b[39m sol[\u001b[38;5;124m'\u001b[39m\u001b[38;5;124mΘs\u001b[39m\u001b[38;5;124m'\u001b[39m],\n\u001b[0;32m    273\u001b[0m \t\t\t\t\tdlnh_Dτ \u001b[38;5;241m=\u001b[39m sol[\u001b[38;5;124m'\u001b[39m\u001b[38;5;124mdln(h)/dτ\u001b[39m\u001b[38;5;124m'\u001b[39m], dlns_Dτ \u001b[38;5;241m=\u001b[39m sol[\u001b[38;5;124m'\u001b[39m\u001b[38;5;124mdln(s)/dτ\u001b[39m\u001b[38;5;124m'\u001b[39m], dlnΓs_Dτ \u001b[38;5;241m=\u001b[39m sol[\u001b[38;5;124m'\u001b[39m\u001b[38;5;124mdln(Γs)/dτ\u001b[39m\u001b[38;5;124m'\u001b[39m], dlnhp_Dlns \u001b[38;5;241m=\u001b[39m solp[\u001b[38;5;124m'\u001b[39m\u001b[38;5;124mdln(h)/dln(s[t-1])\u001b[39m\u001b[38;5;124m'\u001b[39m], dτp_dτ \u001b[38;5;241m=\u001b[39m sol[\u001b[38;5;124m'\u001b[39m\u001b[38;5;124mdτ[t+1]/dτ\u001b[39m\u001b[38;5;124m'\u001b[39m])\n\u001b[0;32m    274\u001b[0m \t\u001b[38;5;28;01mreturn\u001b[39;00m np\u001b[38;5;241m.\u001b[39mhstack([PEEobj, \n\u001b[0;32m    275\u001b[0m \t\t\t\t\tsol[\u001b[38;5;124m'\u001b[39m\u001b[38;5;124ms\u001b[39m\u001b[38;5;124m'\u001b[39m]\u001b[38;5;241m-\u001b[39m\u001b[38;5;28mself\u001b[39m\u001b[38;5;241m.\u001b[39mBG\u001b[38;5;241m.\u001b[39ms_t(h\u001b[38;5;241m=\u001b[39msol[\u001b[38;5;124m'\u001b[39m\u001b[38;5;124mh\u001b[39m\u001b[38;5;124m'\u001b[39m], Γs \u001b[38;5;241m=\u001b[39m sol[\u001b[38;5;124m'\u001b[39m\u001b[38;5;124mΓs\u001b[39m\u001b[38;5;124m'\u001b[39m]),\n\u001b[0;32m    276\u001b[0m \t\t\t\t\tsol[\u001b[38;5;124m'\u001b[39m\u001b[38;5;124ms0/s\u001b[39m\u001b[38;5;124m'\u001b[39m]\u001b[38;5;241m-\u001b[39m\u001b[38;5;28mself\u001b[39m\u001b[38;5;241m.\u001b[39mBG\u001b[38;5;241m.\u001b[39ms0_s(B0 \u001b[38;5;241m=\u001b[39m solp[\u001b[38;5;124m'\u001b[39m\u001b[38;5;124mB0\u001b[39m\u001b[38;5;124m'\u001b[39m], Θs \u001b[38;5;241m=\u001b[39m sol[\u001b[38;5;124m'\u001b[39m\u001b[38;5;124mΘs\u001b[39m\u001b[38;5;124m'\u001b[39m], τp \u001b[38;5;241m=\u001b[39m solp[\u001b[38;5;124m'\u001b[39m\u001b[38;5;124mτ\u001b[39m\u001b[38;5;124m'\u001b[39m])])\n",
      "File \u001b[1;32m~\\Documents\\GitHub\\SSD\\py\\argentina_policy.py:290\u001b[0m, in \u001b[0;36mPEE.funcOfτ_t\u001b[1;34m(self, x, fp)\u001b[0m\n\u001b[0;32m    288\u001b[0m sol[\u001b[38;5;124m'\u001b[39m\u001b[38;5;124mΘs\u001b[39m\u001b[38;5;124m'\u001b[39m] \u001b[38;5;241m=\u001b[39m \u001b[38;5;28mself\u001b[39m\u001b[38;5;241m.\u001b[39mBG\u001b[38;5;241m.\u001b[39mΘs_t(Θh \u001b[38;5;241m=\u001b[39m sol[\u001b[38;5;124m'\u001b[39m\u001b[38;5;124mΘh\u001b[39m\u001b[38;5;124m'\u001b[39m], Γs \u001b[38;5;241m=\u001b[39m solp[\u001b[38;5;124m'\u001b[39m\u001b[38;5;124mΓs\u001b[39m\u001b[38;5;124m'\u001b[39m])\n\u001b[0;32m    289\u001b[0m \u001b[38;5;66;03m# sol['Θs']\t= self.BG.backOutΘs(s_ = sol['s[t-1]'], s = sol['s'])\u001b[39;00m\n\u001b[1;32m--> 290\u001b[0m \u001b[38;5;28;01mreturn\u001b[39;00m \u001b[38;5;28mself\u001b[39m\u001b[38;5;241m.\u001b[39mgetAuxVars_t(sol, solp), solp\n",
      "File \u001b[1;32m~\\Documents\\GitHub\\SSD\\py\\argentina_policy.py:297\u001b[0m, in \u001b[0;36mPEE.getAuxVars_t\u001b[1;34m(self, sol, solp)\u001b[0m\n\u001b[0;32m    295\u001b[0m sol[\u001b[38;5;124m'\u001b[39m\u001b[38;5;124mΓs\u001b[39m\u001b[38;5;124m'\u001b[39m]\t\u001b[38;5;241m=\u001b[39m \u001b[38;5;28mself\u001b[39m\u001b[38;5;241m.\u001b[39mBG\u001b[38;5;241m.\u001b[39mΓs(Bi \u001b[38;5;241m=\u001b[39m sol[\u001b[38;5;124m'\u001b[39m\u001b[38;5;124mBi\u001b[39m\u001b[38;5;124m'\u001b[39m], τp \u001b[38;5;241m=\u001b[39m sol[\u001b[38;5;124m'\u001b[39m\u001b[38;5;124mτ\u001b[39m\u001b[38;5;124m'\u001b[39m])\n\u001b[0;32m    296\u001b[0m sol[\u001b[38;5;124m'\u001b[39m\u001b[38;5;124msi/s\u001b[39m\u001b[38;5;124m'\u001b[39m]\t\u001b[38;5;241m=\u001b[39m \u001b[38;5;28mself\u001b[39m\u001b[38;5;241m.\u001b[39mBG\u001b[38;5;241m.\u001b[39msi_s(Bi \u001b[38;5;241m=\u001b[39m sol[\u001b[38;5;124m'\u001b[39m\u001b[38;5;124mBi\u001b[39m\u001b[38;5;124m'\u001b[39m], Γs \u001b[38;5;241m=\u001b[39m sol[\u001b[38;5;124m'\u001b[39m\u001b[38;5;124mΓs\u001b[39m\u001b[38;5;124m'\u001b[39m], τp \u001b[38;5;241m=\u001b[39m sol[\u001b[38;5;124m'\u001b[39m\u001b[38;5;124mτ\u001b[39m\u001b[38;5;124m'\u001b[39m])\n\u001b[1;32m--> 297\u001b[0m sol[\u001b[38;5;124m'\u001b[39m\u001b[38;5;124mΩ\u001b[39m\u001b[38;5;124m'\u001b[39m]\t\u001b[38;5;241m=\u001b[39m \u001b[38;5;28mself\u001b[39m\u001b[38;5;241m.\u001b[39mBG\u001b[38;5;241m.\u001b[39mΩ(Γs \u001b[38;5;241m=\u001b[39m solp[\u001b[38;5;124m'\u001b[39m\u001b[38;5;124mΓs\u001b[39m\u001b[38;5;124m'\u001b[39m], τp \u001b[38;5;241m=\u001b[39m solp[\u001b[38;5;124m'\u001b[39m\u001b[38;5;124mτ\u001b[39m\u001b[38;5;124m'\u001b[39m])\n\u001b[0;32m    298\u001b[0m sol[\u001b[38;5;124m'\u001b[39m\u001b[38;5;124mΨ\u001b[39m\u001b[38;5;124m'\u001b[39m]\t\u001b[38;5;241m=\u001b[39m \u001b[38;5;28mself\u001b[39m\u001b[38;5;241m.\u001b[39mBG\u001b[38;5;241m.\u001b[39mΨ(Bip \u001b[38;5;241m=\u001b[39m solp[\u001b[38;5;124m'\u001b[39m\u001b[38;5;124mBi\u001b[39m\u001b[38;5;124m'\u001b[39m], τp \u001b[38;5;241m=\u001b[39m solp[\u001b[38;5;124m'\u001b[39m\u001b[38;5;124mτ\u001b[39m\u001b[38;5;124m'\u001b[39m])\n\u001b[0;32m    299\u001b[0m sol[\u001b[38;5;124m'\u001b[39m\u001b[38;5;124mσ\u001b[39m\u001b[38;5;124m'\u001b[39m]\t\u001b[38;5;241m=\u001b[39m \u001b[38;5;28mself\u001b[39m\u001b[38;5;241m.\u001b[39mBG\u001b[38;5;241m.\u001b[39mσ(Ω \u001b[38;5;241m=\u001b[39m sol[\u001b[38;5;124m'\u001b[39m\u001b[38;5;124mΩ\u001b[39m\u001b[38;5;124m'\u001b[39m], Ψ \u001b[38;5;241m=\u001b[39m sol[\u001b[38;5;124m'\u001b[39m\u001b[38;5;124mΨ\u001b[39m\u001b[38;5;124m'\u001b[39m], dlnhp_dlns \u001b[38;5;241m=\u001b[39m solp[\u001b[38;5;124m'\u001b[39m\u001b[38;5;124m∂ln(h)/∂ln(s[t-1])\u001b[39m\u001b[38;5;124m'\u001b[39m], τp \u001b[38;5;241m=\u001b[39m solp[\u001b[38;5;124m'\u001b[39m\u001b[38;5;124mτ\u001b[39m\u001b[38;5;124m'\u001b[39m])\n",
      "File \u001b[1;32m~\\Documents\\GitHub\\SSD\\py\\argentina_base.py:99\u001b[0m, in \u001b[0;36mBaseScalar.Ω\u001b[1;34m(self, Γs, τp, t)\u001b[0m\n\u001b[0;32m     96\u001b[0m \t\u001b[38;5;28;01mreturn\u001b[39;00m \u001b[38;5;28mself\u001b[39m\u001b[38;5;241m.\u001b[39minteriorFOC(np\u001b[38;5;241m.\u001b[39mmatmul(v2i, \u001b[38;5;28mself\u001b[39m\u001b[38;5;241m.\u001b[39mget(\u001b[38;5;124m'\u001b[39m\u001b[38;5;124mγi[t-1]\u001b[39m\u001b[38;5;124m'\u001b[39m,t)\u001b[38;5;241m*\u001b[39m\u001b[38;5;28mself\u001b[39m\u001b[38;5;241m.\u001b[39mω2i(t))\u001b[38;5;241m+\u001b[39mv20\u001b[38;5;241m*\u001b[39m\u001b[38;5;28mself\u001b[39m\u001b[38;5;241m.\u001b[39mget(\u001b[38;5;124m'\u001b[39m\u001b[38;5;124mγ0[t-1]\u001b[39m\u001b[38;5;124m'\u001b[39m,t)\u001b[38;5;241m*\u001b[39m\u001b[38;5;28mself\u001b[39m\u001b[38;5;241m.\u001b[39mω20(t)\u001b[38;5;241m+\u001b[39m\u001b[38;5;28mself\u001b[39m\u001b[38;5;241m.\u001b[39mget(\u001b[38;5;124m'\u001b[39m\u001b[38;5;124mν\u001b[39m\u001b[38;5;124m'\u001b[39m,t)\u001b[38;5;241m*\u001b[39m(np\u001b[38;5;241m.\u001b[39mmatmul(v1i, \u001b[38;5;28mself\u001b[39m\u001b[38;5;241m.\u001b[39mget(\u001b[38;5;124m'\u001b[39m\u001b[38;5;124mγi\u001b[39m\u001b[38;5;124m'\u001b[39m,t)\u001b[38;5;241m*\u001b[39m\u001b[38;5;28mself\u001b[39m\u001b[38;5;241m.\u001b[39mω1i(t))\u001b[38;5;241m+\u001b[39mv10\u001b[38;5;241m*\u001b[39m\u001b[38;5;28mself\u001b[39m\u001b[38;5;241m.\u001b[39mget(\u001b[38;5;124m'\u001b[39m\u001b[38;5;124mγ0\u001b[39m\u001b[38;5;124m'\u001b[39m,t)\u001b[38;5;241m*\u001b[39m\u001b[38;5;28mself\u001b[39m\u001b[38;5;241m.\u001b[39mω10(t)), τ)\n\u001b[0;32m     98\u001b[0m \u001b[38;5;66;03m# Aux parameters:\u001b[39;00m\n\u001b[1;32m---> 99\u001b[0m \u001b[38;5;28;01mdef\u001b[39;00m \u001b[38;5;21mΩ\u001b[39m(\u001b[38;5;28mself\u001b[39m, Γs \u001b[38;5;241m=\u001b[39m \u001b[38;5;28;01mNone\u001b[39;00m, τp \u001b[38;5;241m=\u001b[39m \u001b[38;5;28;01mNone\u001b[39;00m, t \u001b[38;5;241m=\u001b[39m \u001b[38;5;28;01mNone\u001b[39;00m):\n\u001b[0;32m    100\u001b[0m \t\u001b[38;5;28;01mreturn\u001b[39;00m \u001b[38;5;28mself\u001b[39m\u001b[38;5;241m.\u001b[39mget(\u001b[38;5;124m'\u001b[39m\u001b[38;5;124mαr\u001b[39m\u001b[38;5;124m'\u001b[39m,t)\u001b[38;5;241m*\u001b[39m(\u001b[38;5;28mself\u001b[39m\u001b[38;5;241m.\u001b[39mget(\u001b[38;5;124m'\u001b[39m\u001b[38;5;124mp\u001b[39m\u001b[38;5;124m'\u001b[39m,t)\u001b[38;5;241m*\u001b[39m\u001b[38;5;28mself\u001b[39m\u001b[38;5;241m.\u001b[39mget(\u001b[38;5;124m'\u001b[39m\u001b[38;5;124mθ[t+1]\u001b[39m\u001b[38;5;124m'\u001b[39m,t)\u001b[38;5;241m/\u001b[39m\u001b[38;5;28mself\u001b[39m\u001b[38;5;241m.\u001b[39mget(\u001b[38;5;124m'\u001b[39m\u001b[38;5;124mκ\u001b[39m\u001b[38;5;124m'\u001b[39m,t))\u001b[38;5;241m*\u001b[39mΓs\u001b[38;5;241m/\u001b[39m(\u001b[38;5;28mself\u001b[39m\u001b[38;5;241m.\u001b[39mget(\u001b[38;5;124m'\u001b[39m\u001b[38;5;124mΓh\u001b[39m\u001b[38;5;124m'\u001b[39m,t)\u001b[38;5;241m-\u001b[39m(\u001b[38;5;28mself\u001b[39m\u001b[38;5;241m.\u001b[39mget(\u001b[38;5;124m'\u001b[39m\u001b[38;5;124mp\u001b[39m\u001b[38;5;124m'\u001b[39m,t)\u001b[38;5;241m*\u001b[39m\u001b[38;5;28mself\u001b[39m\u001b[38;5;241m.\u001b[39mget(\u001b[38;5;124m'\u001b[39m\u001b[38;5;124mθ[t+1]\u001b[39m\u001b[38;5;124m'\u001b[39m,t)\u001b[38;5;241m/\u001b[39m\u001b[38;5;28mself\u001b[39m\u001b[38;5;241m.\u001b[39mget(\u001b[38;5;124m'\u001b[39m\u001b[38;5;124mκ\u001b[39m\u001b[38;5;124m'\u001b[39m,t))\u001b[38;5;241m*\u001b[39mΓs\u001b[38;5;241m*\u001b[39mτp)\n\u001b[0;32m    101\u001b[0m \u001b[38;5;28;01mdef\u001b[39;00m \u001b[38;5;21mΨ\u001b[39m(\u001b[38;5;28mself\u001b[39m, Bip \u001b[38;5;241m=\u001b[39m \u001b[38;5;28;01mNone\u001b[39;00m, τp \u001b[38;5;241m=\u001b[39m \u001b[38;5;28;01mNone\u001b[39;00m, t \u001b[38;5;241m=\u001b[39m \u001b[38;5;28;01mNone\u001b[39;00m):\n",
      "\u001b[1;31mKeyboardInterrupt\u001b[0m: "
     ]
    }
   ],
   "source": [
    "for ρ in ρgrid[ρgrid<1]:\n",
    "    m2010.db.update(m2010.adjPar('ρ',ρ))\n",
    "    m2010.calibUpdateParameters(cals[ρ])\n",
    "    ϵTargs[ρ] = [m2010.db['eps'].xs(t0), m2010.getEps(coverageRate = 1), 1-m2010.db['θ'].xs(t0)]\n",
    "    ϵgrid_ρ = np.insert(ϵgrid, np.searchsorted(ϵgrid, ϵTargs[ρ]), ϵTargs[ρ])\n",
    "    m2010.PEE.x0 = {t: sols[ρ][t]['x_unbounded'] for t in m2010.db['t']}\n",
    "    m2010.PEE.x0[m2010.db['t'][-1]] = sols[ρ][m2010.db['t'][-1]]['τ_unbounded']\n",
    "    m2010.x0['EE_FH_PEE'] = np.hstack([adj.rc_pd(paths[ρ][k], m2010.db['t']).values for k in m2010.ns['EE_FH_PEE'].symbols])\n",
    "    for ϵ in ϵTargs[ρ]:\n",
    "        m2010.db.update(m2010.adjPar('eps',ϵ))\n",
    "        simPols[(ρ,ϵ)] = m2010.PEE.FH()\n",
    "        simPaths[(ρ,ϵ)] = m2010.EE_FH_PEE_solve(simPols[(ρ,ϵ)], z0 = [paths[ρ]['s[t-1]'][t0], paths[ρ]['s0/s[t-1]'][t0]])\n",
    "        print((ρ, ϵ))"
   ]
  },
  {
   "cell_type": "markdown",
   "id": "bb98aade-6188-4f8f-8b8c-0b1f8f8bb251",
   "metadata": {},
   "source": [
    "Jump in tax rate as a function of $\\rho$:"
   ]
  },
  {
   "cell_type": "code",
   "execution_count": 14,
   "id": "21fc3562-e1a1-4a16-ac2a-ffe81a06b46f",
   "metadata": {},
   "outputs": [],
   "source": [
    "k = 'τ'\n",
    "NewVals = np.array([simPaths[(ρ, ϵTargs[ρ][-1])][k].xs(t0) for ρ in ρgrid[ρgrid>=1]])\n",
    "Original = np.array([simPaths[(ρ, ϵTargs[ρ][0])][k].xs(t0) for ρ in ρgrid[ρgrid>=1]])"
   ]
  },
  {
   "cell_type": "code",
   "execution_count": 15,
   "id": "4059cfc7-8cb9-43ab-8f6a-f31214c671db",
   "metadata": {},
   "outputs": [
    {
     "data": {
      "text/plain": [
       "<Axes: >"
      ]
     },
     "execution_count": 15,
     "metadata": {},
     "output_type": "execute_result"
    },
    {
     "data": {
      "image/png": "[encoded data removed]",
      "text/plain": [
       "<Figure size 800x550 with 1 Axes>"
      ]
     },
     "metadata": {},
     "output_type": "display_data"
    }
   ],
   "source": [
    "pd.concat([pd.Series(NewVals, index = ρgrid[ρgrid>=1]), pd.Series(Original, index = ρgrid[ρgrid>=1])], axis = 1).plot()"
   ]
  },
  {
   "cell_type": "markdown",
   "id": "9c365681-9732-46aa-888a-55bfe026fa79",
   "metadata": {},
   "source": [
    "*1. Start run from previous solution:*"
   ]
  },
  {
   "cell_type": "code",
   "execution_count": 5,
   "id": "a2f55fa8-d482-436c-9b00-e51fbac86908",
   "metadata": {},
   "outputs": [],
   "source": [
    "# with open('argentina_CRRA_x0.pkl', \"rb\") as file:\n",
    "#     sols = pickle.load(file)\n",
    "# m.PEE.x0[m.T-1] = sols[m.T-1]['τ_unbounded']\n",
    "# [m.PEE.x0.__setitem__(t, sols[t]['x_unbounded']) for t in sols if t != m.T-1];"
   ]
  },
  {
   "cell_type": "markdown",
   "id": "bf7a8645-24ff-4cf5-8d66-851d98743d09",
   "metadata": {},
   "source": [
    "*2. Use LOG solution as initial values for the CRRA model:*"
   ]
  },
  {
   "cell_type": "code",
   "execution_count": 6,
   "id": "9a10b16a-3467-4960-bfe2-a9247af278fa",
   "metadata": {},
   "outputs": [],
   "source": [
    "m.PEE.interpInitialsFromLOG(sols_LOG, path_LOG)\n",
    "m.PEE.kwargs_t['x0_from_solp'] = False"
   ]
  },
  {
   "cell_type": "markdown",
   "id": "5253c024-a0cc-491b-80d6-e0353e92971c",
   "metadata": {},
   "source": [
    "*3. Start from small grid and interpolate to get \"large grid\" starting values:*"
   ]
  },
  {
   "cell_type": "code",
   "execution_count": 7,
   "id": "2526421c-90cf-4d16-b9ea-48b5c78f5fc0",
   "metadata": {},
   "outputs": [],
   "source": [
    "# m.PEE_initialsFromSmallGrid(10, 10);"
   ]
  },
  {
   "cell_type": "markdown",
   "id": "b82ba3ab-2638-4b0c-8ae3-fa48610def1f",
   "metadata": {},
   "source": [
    "Test solve:"
   ]
  },
  {
   "cell_type": "code",
   "execution_count": 8,
   "id": "fae4354c-9606-40da-bc35-59b04f490299",
   "metadata": {},
   "outputs": [],
   "source": [
    "sols_PEE = m.PEE.FH()\n",
    "PEE = m.EE_FH_PEE_solveRobust(sols_PEE)"
   ]
  },
  {
   "cell_type": "markdown",
   "id": "4be7db3b-a462-4d84-aa95-776d076e1e5e",
   "metadata": {},
   "source": [
    "*Save as pickle:*"
   ]
  },
  {
   "cell_type": "code",
   "execution_count": 9,
   "id": "8a7454bf-c940-418b-972a-c37ca29ece5c",
   "metadata": {},
   "outputs": [],
   "source": [
    "with open('argentina_CRRA_x0.pkl', \"wb\") as file: \n",
    "    pickle.dump(sols_PEE, file)"
   ]
  },
  {
   "cell_type": "markdown",
   "id": "236d5e5e-58e3-4e1f-854b-804c57eaaa21",
   "metadata": {},
   "source": [
    "Calibration:"
   ]
  },
  {
   "cell_type": "code",
   "execution_count": 10,
   "id": "37c88dd5-3596-4f10-8a2e-ddf0b058f482",
   "metadata": {},
   "outputs": [
    {
     "name": "stderr",
     "output_type": "stream",
     "text": [
      "C:\\Users\\sxj477\\AppData\\Local\\anaconda3\\envs\\SSD\\Lib\\site-packages\\scipy\\optimize\\_nonlin.py:374: RuntimeWarning: invalid value encountered in scalar divide\n",
      "  and dx_norm/self.x_rtol <= x_norm))\n",
      "C:\\Users\\sxj477\\AppData\\Local\\anaconda3\\envs\\SSD\\Lib\\site-packages\\scipy\\optimize\\_nonlin.py:374: RuntimeWarning: invalid value encountered in scalar divide\n",
      "  and dx_norm/self.x_rtol <= x_norm))\n",
      "C:\\Users\\sxj477\\AppData\\Local\\anaconda3\\envs\\SSD\\Lib\\site-packages\\scipy\\optimize\\_nonlin.py:374: RuntimeWarning: invalid value encountered in scalar divide\n",
      "  and dx_norm/self.x_rtol <= x_norm))\n",
      "C:\\Users\\sxj477\\AppData\\Local\\anaconda3\\envs\\SSD\\Lib\\site-packages\\scipy\\optimize\\_nonlin.py:374: RuntimeWarning: invalid value encountered in scalar divide\n",
      "  and dx_norm/self.x_rtol <= x_norm))\n",
      "C:\\Users\\sxj477\\AppData\\Local\\anaconda3\\envs\\SSD\\Lib\\site-packages\\scipy\\optimize\\_nonlin.py:374: RuntimeWarning: invalid value encountered in scalar divide\n",
      "  and dx_norm/self.x_rtol <= x_norm))\n",
      "C:\\Users\\sxj477\\AppData\\Local\\anaconda3\\envs\\SSD\\Lib\\site-packages\\scipy\\optimize\\_nonlin.py:374: RuntimeWarning: invalid value encountered in scalar divide\n",
      "  and dx_norm/self.x_rtol <= x_norm))\n",
      "C:\\Users\\sxj477\\AppData\\Local\\anaconda3\\envs\\SSD\\Lib\\site-packages\\scipy\\optimize\\_nonlin.py:374: RuntimeWarning: invalid value encountered in scalar divide\n",
      "  and dx_norm/self.x_rtol <= x_norm))\n",
      "C:\\Users\\sxj477\\AppData\\Local\\anaconda3\\envs\\SSD\\Lib\\site-packages\\scipy\\optimize\\_nonlin.py:374: RuntimeWarning: invalid value encountered in scalar divide\n",
      "  and dx_norm/self.x_rtol <= x_norm))\n",
      "C:\\Users\\sxj477\\AppData\\Local\\anaconda3\\envs\\SSD\\Lib\\site-packages\\scipy\\optimize\\_nonlin.py:374: RuntimeWarning: invalid value encountered in scalar divide\n",
      "  and dx_norm/self.x_rtol <= x_norm))\n",
      "C:\\Users\\sxj477\\AppData\\Local\\anaconda3\\envs\\SSD\\Lib\\site-packages\\scipy\\optimize\\_nonlin.py:374: RuntimeWarning: invalid value encountered in scalar divide\n",
      "  and dx_norm/self.x_rtol <= x_norm))\n",
      "C:\\Users\\sxj477\\AppData\\Local\\anaconda3\\envs\\SSD\\Lib\\site-packages\\scipy\\optimize\\_nonlin.py:374: RuntimeWarning: invalid value encountered in scalar divide\n",
      "  and dx_norm/self.x_rtol <= x_norm))\n",
      "C:\\Users\\sxj477\\AppData\\Local\\anaconda3\\envs\\SSD\\Lib\\site-packages\\scipy\\optimize\\_nonlin.py:374: RuntimeWarning: invalid value encountered in scalar divide\n",
      "  and dx_norm/self.x_rtol <= x_norm))\n",
      "C:\\Users\\sxj477\\AppData\\Local\\anaconda3\\envs\\SSD\\Lib\\site-packages\\scipy\\optimize\\_nonlin.py:374: RuntimeWarning: invalid value encountered in scalar divide\n",
      "  and dx_norm/self.x_rtol <= x_norm))\n",
      "C:\\Users\\sxj477\\AppData\\Local\\anaconda3\\envs\\SSD\\Lib\\site-packages\\scipy\\optimize\\_nonlin.py:374: RuntimeWarning: invalid value encountered in scalar divide\n",
      "  and dx_norm/self.x_rtol <= x_norm))\n",
      "C:\\Users\\sxj477\\AppData\\Local\\anaconda3\\envs\\SSD\\Lib\\site-packages\\scipy\\optimize\\_nonlin.py:374: RuntimeWarning: invalid value encountered in scalar divide\n",
      "  and dx_norm/self.x_rtol <= x_norm))\n",
      "C:\\Users\\sxj477\\AppData\\Local\\anaconda3\\envs\\SSD\\Lib\\site-packages\\scipy\\optimize\\_nonlin.py:374: RuntimeWarning: invalid value encountered in scalar divide\n",
      "  and dx_norm/self.x_rtol <= x_norm))\n",
      "C:\\Users\\sxj477\\AppData\\Local\\anaconda3\\envs\\SSD\\Lib\\site-packages\\scipy\\optimize\\_nonlin.py:374: RuntimeWarning: invalid value encountered in scalar divide\n",
      "  and dx_norm/self.x_rtol <= x_norm))\n",
      "C:\\Users\\sxj477\\AppData\\Local\\anaconda3\\envs\\SSD\\Lib\\site-packages\\scipy\\optimize\\_nonlin.py:374: RuntimeWarning: invalid value encountered in scalar divide\n",
      "  and dx_norm/self.x_rtol <= x_norm))\n",
      "C:\\Users\\sxj477\\AppData\\Local\\anaconda3\\envs\\SSD\\Lib\\site-packages\\scipy\\optimize\\_nonlin.py:374: RuntimeWarning: invalid value encountered in scalar divide\n",
      "  and dx_norm/self.x_rtol <= x_norm))\n",
      "C:\\Users\\sxj477\\AppData\\Local\\anaconda3\\envs\\SSD\\Lib\\site-packages\\scipy\\optimize\\_nonlin.py:374: RuntimeWarning: invalid value encountered in scalar divide\n",
      "  and dx_norm/self.x_rtol <= x_norm))\n",
      "C:\\Users\\sxj477\\AppData\\Local\\anaconda3\\envs\\SSD\\Lib\\site-packages\\scipy\\optimize\\_nonlin.py:374: RuntimeWarning: invalid value encountered in scalar divide\n",
      "  and dx_norm/self.x_rtol <= x_norm))\n",
      "C:\\Users\\sxj477\\AppData\\Local\\anaconda3\\envs\\SSD\\Lib\\site-packages\\scipy\\optimize\\_nonlin.py:374: RuntimeWarning: invalid value encountered in scalar divide\n",
      "  and dx_norm/self.x_rtol <= x_norm))\n",
      "C:\\Users\\sxj477\\AppData\\Local\\anaconda3\\envs\\SSD\\Lib\\site-packages\\scipy\\optimize\\_nonlin.py:374: RuntimeWarning: invalid value encountered in scalar divide\n",
      "  and dx_norm/self.x_rtol <= x_norm))\n",
      "C:\\Users\\sxj477\\AppData\\Local\\anaconda3\\envs\\SSD\\Lib\\site-packages\\scipy\\optimize\\_nonlin.py:374: RuntimeWarning: invalid value encountered in scalar divide\n",
      "  and dx_norm/self.x_rtol <= x_norm))\n",
      "C:\\Users\\sxj477\\AppData\\Local\\anaconda3\\envs\\SSD\\Lib\\site-packages\\scipy\\optimize\\_nonlin.py:374: RuntimeWarning: invalid value encountered in scalar divide\n",
      "  and dx_norm/self.x_rtol <= x_norm))\n",
      "C:\\Users\\sxj477\\AppData\\Local\\anaconda3\\envs\\SSD\\Lib\\site-packages\\scipy\\optimize\\_nonlin.py:374: RuntimeWarning: invalid value encountered in scalar divide\n",
      "  and dx_norm/self.x_rtol <= x_norm))\n",
      "C:\\Users\\sxj477\\AppData\\Local\\anaconda3\\envs\\SSD\\Lib\\site-packages\\scipy\\optimize\\_nonlin.py:374: RuntimeWarning: invalid value encountered in scalar divide\n",
      "  and dx_norm/self.x_rtol <= x_norm))\n",
      "C:\\Users\\sxj477\\AppData\\Local\\anaconda3\\envs\\SSD\\Lib\\site-packages\\scipy\\optimize\\_nonlin.py:374: RuntimeWarning: invalid value encountered in scalar divide\n",
      "  and dx_norm/self.x_rtol <= x_norm))\n",
      "C:\\Users\\sxj477\\AppData\\Local\\anaconda3\\envs\\SSD\\Lib\\site-packages\\scipy\\optimize\\_nonlin.py:374: RuntimeWarning: invalid value encountered in scalar divide\n",
      "  and dx_norm/self.x_rtol <= x_norm))\n",
      "C:\\Users\\sxj477\\AppData\\Local\\anaconda3\\envs\\SSD\\Lib\\site-packages\\scipy\\optimize\\_nonlin.py:374: RuntimeWarning: invalid value encountered in scalar divide\n",
      "  and dx_norm/self.x_rtol <= x_norm))\n",
      "C:\\Users\\sxj477\\AppData\\Local\\anaconda3\\envs\\SSD\\Lib\\site-packages\\scipy\\optimize\\_nonlin.py:374: RuntimeWarning: invalid value encountered in scalar divide\n",
      "  and dx_norm/self.x_rtol <= x_norm))\n",
      "C:\\Users\\sxj477\\AppData\\Local\\anaconda3\\envs\\SSD\\Lib\\site-packages\\scipy\\optimize\\_nonlin.py:374: RuntimeWarning: invalid value encountered in scalar divide\n",
      "  and dx_norm/self.x_rtol <= x_norm))\n",
      "C:\\Users\\sxj477\\AppData\\Local\\anaconda3\\envs\\SSD\\Lib\\site-packages\\scipy\\optimize\\_nonlin.py:374: RuntimeWarning: invalid value encountered in scalar divide\n",
      "  and dx_norm/self.x_rtol <= x_norm))\n",
      "C:\\Users\\sxj477\\AppData\\Local\\anaconda3\\envs\\SSD\\Lib\\site-packages\\scipy\\optimize\\_nonlin.py:374: RuntimeWarning: invalid value encountered in scalar divide\n",
      "  and dx_norm/self.x_rtol <= x_norm))\n",
      "C:\\Users\\sxj477\\AppData\\Local\\anaconda3\\envs\\SSD\\Lib\\site-packages\\scipy\\optimize\\_nonlin.py:374: RuntimeWarning: invalid value encountered in scalar divide\n",
      "  and dx_norm/self.x_rtol <= x_norm))\n",
      "C:\\Users\\sxj477\\AppData\\Local\\anaconda3\\envs\\SSD\\Lib\\site-packages\\scipy\\optimize\\_nonlin.py:374: RuntimeWarning: invalid value encountered in scalar divide\n",
      "  and dx_norm/self.x_rtol <= x_norm))\n",
      "C:\\Users\\sxj477\\AppData\\Local\\anaconda3\\envs\\SSD\\Lib\\site-packages\\scipy\\optimize\\_nonlin.py:374: RuntimeWarning: invalid value encountered in scalar divide\n",
      "  and dx_norm/self.x_rtol <= x_norm))\n",
      "C:\\Users\\sxj477\\AppData\\Local\\anaconda3\\envs\\SSD\\Lib\\site-packages\\scipy\\optimize\\_nonlin.py:374: RuntimeWarning: invalid value encountered in scalar divide\n",
      "  and dx_norm/self.x_rtol <= x_norm))\n",
      "C:\\Users\\sxj477\\AppData\\Local\\anaconda3\\envs\\SSD\\Lib\\site-packages\\scipy\\optimize\\_nonlin.py:374: RuntimeWarning: invalid value encountered in scalar divide\n",
      "  and dx_norm/self.x_rtol <= x_norm))\n",
      "C:\\Users\\sxj477\\AppData\\Local\\anaconda3\\envs\\SSD\\Lib\\site-packages\\scipy\\optimize\\_nonlin.py:374: RuntimeWarning: invalid value encountered in scalar divide\n",
      "  and dx_norm/self.x_rtol <= x_norm))\n",
      "C:\\Users\\sxj477\\AppData\\Local\\anaconda3\\envs\\SSD\\Lib\\site-packages\\scipy\\optimize\\_nonlin.py:374: RuntimeWarning: invalid value encountered in scalar divide\n",
      "  and dx_norm/self.x_rtol <= x_norm))\n",
      "C:\\Users\\sxj477\\AppData\\Local\\anaconda3\\envs\\SSD\\Lib\\site-packages\\scipy\\optimize\\_nonlin.py:374: RuntimeWarning: invalid value encountered in scalar divide\n",
      "  and dx_norm/self.x_rtol <= x_norm))\n",
      "C:\\Users\\sxj477\\AppData\\Local\\anaconda3\\envs\\SSD\\Lib\\site-packages\\scipy\\optimize\\_nonlin.py:374: RuntimeWarning: invalid value encountered in scalar divide\n",
      "  and dx_norm/self.x_rtol <= x_norm))\n",
      "C:\\Users\\sxj477\\AppData\\Local\\anaconda3\\envs\\SSD\\Lib\\site-packages\\scipy\\optimize\\_nonlin.py:374: RuntimeWarning: invalid value encountered in scalar divide\n",
      "  and dx_norm/self.x_rtol <= x_norm))\n",
      "C:\\Users\\sxj477\\AppData\\Local\\anaconda3\\envs\\SSD\\Lib\\site-packages\\scipy\\optimize\\_nonlin.py:374: RuntimeWarning: invalid value encountered in scalar divide\n",
      "  and dx_norm/self.x_rtol <= x_norm))\n",
      "C:\\Users\\sxj477\\AppData\\Local\\anaconda3\\envs\\SSD\\Lib\\site-packages\\scipy\\optimize\\_nonlin.py:374: RuntimeWarning: invalid value encountered in scalar divide\n",
      "  and dx_norm/self.x_rtol <= x_norm))\n",
      "C:\\Users\\sxj477\\AppData\\Local\\anaconda3\\envs\\SSD\\Lib\\site-packages\\scipy\\optimize\\_nonlin.py:374: RuntimeWarning: invalid value encountered in scalar divide\n",
      "  and dx_norm/self.x_rtol <= x_norm))\n",
      "C:\\Users\\sxj477\\AppData\\Local\\anaconda3\\envs\\SSD\\Lib\\site-packages\\scipy\\optimize\\_nonlin.py:374: RuntimeWarning: invalid value encountered in scalar divide\n",
      "  and dx_norm/self.x_rtol <= x_norm))\n",
      "C:\\Users\\sxj477\\AppData\\Local\\anaconda3\\envs\\SSD\\Lib\\site-packages\\scipy\\optimize\\_nonlin.py:374: RuntimeWarning: invalid value encountered in scalar divide\n",
      "  and dx_norm/self.x_rtol <= x_norm))\n",
      "C:\\Users\\sxj477\\AppData\\Local\\anaconda3\\envs\\SSD\\Lib\\site-packages\\scipy\\optimize\\_nonlin.py:374: RuntimeWarning: invalid value encountered in scalar divide\n",
      "  and dx_norm/self.x_rtol <= x_norm))\n",
      "C:\\Users\\sxj477\\AppData\\Local\\anaconda3\\envs\\SSD\\Lib\\site-packages\\scipy\\optimize\\_nonlin.py:374: RuntimeWarning: invalid value encountered in scalar divide\n",
      "  and dx_norm/self.x_rtol <= x_norm))\n",
      "C:\\Users\\sxj477\\AppData\\Local\\anaconda3\\envs\\SSD\\Lib\\site-packages\\scipy\\optimize\\_nonlin.py:374: RuntimeWarning: invalid value encountered in scalar divide\n",
      "  and dx_norm/self.x_rtol <= x_norm))\n",
      "C:\\Users\\sxj477\\AppData\\Local\\anaconda3\\envs\\SSD\\Lib\\site-packages\\scipy\\optimize\\_nonlin.py:374: RuntimeWarning: invalid value encountered in scalar divide\n",
      "  and dx_norm/self.x_rtol <= x_norm))\n",
      "C:\\Users\\sxj477\\AppData\\Local\\anaconda3\\envs\\SSD\\Lib\\site-packages\\scipy\\optimize\\_nonlin.py:374: RuntimeWarning: invalid value encountered in scalar divide\n",
      "  and dx_norm/self.x_rtol <= x_norm))\n",
      "C:\\Users\\sxj477\\AppData\\Local\\anaconda3\\envs\\SSD\\Lib\\site-packages\\scipy\\optimize\\_nonlin.py:374: RuntimeWarning: invalid value encountered in scalar divide\n",
      "  and dx_norm/self.x_rtol <= x_norm))\n",
      "C:\\Users\\sxj477\\AppData\\Local\\anaconda3\\envs\\SSD\\Lib\\site-packages\\scipy\\optimize\\_nonlin.py:374: RuntimeWarning: invalid value encountered in scalar divide\n",
      "  and dx_norm/self.x_rtol <= x_norm))\n",
      "C:\\Users\\sxj477\\AppData\\Local\\anaconda3\\envs\\SSD\\Lib\\site-packages\\scipy\\optimize\\_nonlin.py:374: RuntimeWarning: invalid value encountered in scalar divide\n",
      "  and dx_norm/self.x_rtol <= x_norm))\n",
      "C:\\Users\\sxj477\\AppData\\Local\\anaconda3\\envs\\SSD\\Lib\\site-packages\\scipy\\optimize\\_nonlin.py:374: RuntimeWarning: invalid value encountered in scalar divide\n",
      "  and dx_norm/self.x_rtol <= x_norm))\n",
      "C:\\Users\\sxj477\\AppData\\Local\\anaconda3\\envs\\SSD\\Lib\\site-packages\\scipy\\optimize\\_nonlin.py:374: RuntimeWarning: invalid value encountered in scalar divide\n",
      "  and dx_norm/self.x_rtol <= x_norm))\n",
      "C:\\Users\\sxj477\\AppData\\Local\\anaconda3\\envs\\SSD\\Lib\\site-packages\\scipy\\optimize\\_nonlin.py:374: RuntimeWarning: invalid value encountered in scalar divide\n",
      "  and dx_norm/self.x_rtol <= x_norm))\n",
      "C:\\Users\\sxj477\\AppData\\Local\\anaconda3\\envs\\SSD\\Lib\\site-packages\\scipy\\optimize\\_nonlin.py:374: RuntimeWarning: invalid value encountered in scalar divide\n",
      "  and dx_norm/self.x_rtol <= x_norm))\n",
      "C:\\Users\\sxj477\\AppData\\Local\\anaconda3\\envs\\SSD\\Lib\\site-packages\\scipy\\optimize\\_nonlin.py:374: RuntimeWarning: invalid value encountered in scalar divide\n",
      "  and dx_norm/self.x_rtol <= x_norm))\n",
      "C:\\Users\\sxj477\\AppData\\Local\\anaconda3\\envs\\SSD\\Lib\\site-packages\\scipy\\optimize\\_nonlin.py:374: RuntimeWarning: invalid value encountered in scalar divide\n",
      "  and dx_norm/self.x_rtol <= x_norm))\n",
      "C:\\Users\\sxj477\\AppData\\Local\\anaconda3\\envs\\SSD\\Lib\\site-packages\\scipy\\optimize\\_nonlin.py:374: RuntimeWarning: invalid value encountered in scalar divide\n",
      "  and dx_norm/self.x_rtol <= x_norm))\n",
      "C:\\Users\\sxj477\\AppData\\Local\\anaconda3\\envs\\SSD\\Lib\\site-packages\\scipy\\optimize\\_nonlin.py:374: RuntimeWarning: invalid value encountered in scalar divide\n",
      "  and dx_norm/self.x_rtol <= x_norm))\n",
      "C:\\Users\\sxj477\\AppData\\Local\\anaconda3\\envs\\SSD\\Lib\\site-packages\\scipy\\optimize\\_nonlin.py:374: RuntimeWarning: invalid value encountered in scalar divide\n",
      "  and dx_norm/self.x_rtol <= x_norm))\n",
      "C:\\Users\\sxj477\\AppData\\Local\\anaconda3\\envs\\SSD\\Lib\\site-packages\\scipy\\optimize\\_nonlin.py:374: RuntimeWarning: invalid value encountered in scalar divide\n",
      "  and dx_norm/self.x_rtol <= x_norm))\n",
      "C:\\Users\\sxj477\\AppData\\Local\\anaconda3\\envs\\SSD\\Lib\\site-packages\\scipy\\optimize\\_nonlin.py:374: RuntimeWarning: invalid value encountered in scalar divide\n",
      "  and dx_norm/self.x_rtol <= x_norm))\n",
      "C:\\Users\\sxj477\\AppData\\Local\\anaconda3\\envs\\SSD\\Lib\\site-packages\\scipy\\optimize\\_nonlin.py:374: RuntimeWarning: invalid value encountered in scalar divide\n",
      "  and dx_norm/self.x_rtol <= x_norm))\n",
      "C:\\Users\\sxj477\\AppData\\Local\\anaconda3\\envs\\SSD\\Lib\\site-packages\\scipy\\optimize\\_nonlin.py:374: RuntimeWarning: invalid value encountered in scalar divide\n",
      "  and dx_norm/self.x_rtol <= x_norm))\n",
      "C:\\Users\\sxj477\\AppData\\Local\\anaconda3\\envs\\SSD\\Lib\\site-packages\\scipy\\optimize\\_nonlin.py:374: RuntimeWarning: invalid value encountered in scalar divide\n",
      "  and dx_norm/self.x_rtol <= x_norm))\n",
      "C:\\Users\\sxj477\\AppData\\Local\\anaconda3\\envs\\SSD\\Lib\\site-packages\\scipy\\optimize\\_nonlin.py:374: RuntimeWarning: invalid value encountered in scalar divide\n",
      "  and dx_norm/self.x_rtol <= x_norm))\n",
      "C:\\Users\\sxj477\\AppData\\Local\\anaconda3\\envs\\SSD\\Lib\\site-packages\\scipy\\optimize\\_nonlin.py:374: RuntimeWarning: invalid value encountered in scalar divide\n",
      "  and dx_norm/self.x_rtol <= x_norm))\n",
      "C:\\Users\\sxj477\\AppData\\Local\\anaconda3\\envs\\SSD\\Lib\\site-packages\\scipy\\optimize\\_nonlin.py:374: RuntimeWarning: invalid value encountered in scalar divide\n",
      "  and dx_norm/self.x_rtol <= x_norm))\n",
      "C:\\Users\\sxj477\\AppData\\Local\\anaconda3\\envs\\SSD\\Lib\\site-packages\\scipy\\optimize\\_nonlin.py:374: RuntimeWarning: invalid value encountered in scalar divide\n",
      "  and dx_norm/self.x_rtol <= x_norm))\n",
      "C:\\Users\\sxj477\\AppData\\Local\\anaconda3\\envs\\SSD\\Lib\\site-packages\\scipy\\optimize\\_nonlin.py:374: RuntimeWarning: invalid value encountered in scalar divide\n",
      "  and dx_norm/self.x_rtol <= x_norm))\n",
      "C:\\Users\\sxj477\\AppData\\Local\\anaconda3\\envs\\SSD\\Lib\\site-packages\\scipy\\optimize\\_nonlin.py:374: RuntimeWarning: invalid value encountered in scalar divide\n",
      "  and dx_norm/self.x_rtol <= x_norm))\n",
      "C:\\Users\\sxj477\\AppData\\Local\\anaconda3\\envs\\SSD\\Lib\\site-packages\\scipy\\optimize\\_nonlin.py:374: RuntimeWarning: invalid value encountered in scalar divide\n",
      "  and dx_norm/self.x_rtol <= x_norm))\n",
      "C:\\Users\\sxj477\\AppData\\Local\\anaconda3\\envs\\SSD\\Lib\\site-packages\\scipy\\optimize\\_nonlin.py:374: RuntimeWarning: invalid value encountered in scalar divide\n",
      "  and dx_norm/self.x_rtol <= x_norm))\n",
      "C:\\Users\\sxj477\\AppData\\Local\\anaconda3\\envs\\SSD\\Lib\\site-packages\\scipy\\optimize\\_nonlin.py:374: RuntimeWarning: invalid value encountered in scalar divide\n",
      "  and dx_norm/self.x_rtol <= x_norm))\n",
      "C:\\Users\\sxj477\\AppData\\Local\\anaconda3\\envs\\SSD\\Lib\\site-packages\\scipy\\optimize\\_nonlin.py:374: RuntimeWarning: invalid value encountered in scalar divide\n",
      "  and dx_norm/self.x_rtol <= x_norm))\n",
      "C:\\Users\\sxj477\\AppData\\Local\\anaconda3\\envs\\SSD\\Lib\\site-packages\\scipy\\optimize\\_nonlin.py:374: RuntimeWarning: invalid value encountered in scalar divide\n",
      "  and dx_norm/self.x_rtol <= x_norm))\n",
      "C:\\Users\\sxj477\\AppData\\Local\\anaconda3\\envs\\SSD\\Lib\\site-packages\\scipy\\optimize\\_nonlin.py:374: RuntimeWarning: invalid value encountered in scalar divide\n",
      "  and dx_norm/self.x_rtol <= x_norm))\n",
      "C:\\Users\\sxj477\\AppData\\Local\\anaconda3\\envs\\SSD\\Lib\\site-packages\\scipy\\optimize\\_nonlin.py:374: RuntimeWarning: invalid value encountered in scalar divide\n",
      "  and dx_norm/self.x_rtol <= x_norm))\n",
      "C:\\Users\\sxj477\\AppData\\Local\\anaconda3\\envs\\SSD\\Lib\\site-packages\\scipy\\optimize\\_nonlin.py:374: RuntimeWarning: invalid value encountered in scalar divide\n",
      "  and dx_norm/self.x_rtol <= x_norm))\n",
      "C:\\Users\\sxj477\\AppData\\Local\\anaconda3\\envs\\SSD\\Lib\\site-packages\\scipy\\optimize\\_nonlin.py:374: RuntimeWarning: invalid value encountered in scalar divide\n",
      "  and dx_norm/self.x_rtol <= x_norm))\n",
      "C:\\Users\\sxj477\\AppData\\Local\\anaconda3\\envs\\SSD\\Lib\\site-packages\\scipy\\optimize\\_nonlin.py:374: RuntimeWarning: invalid value encountered in scalar divide\n",
      "  and dx_norm/self.x_rtol <= x_norm))\n",
      "C:\\Users\\sxj477\\AppData\\Local\\anaconda3\\envs\\SSD\\Lib\\site-packages\\scipy\\optimize\\_nonlin.py:374: RuntimeWarning: invalid value encountered in scalar divide\n",
      "  and dx_norm/self.x_rtol <= x_norm))\n",
      "C:\\Users\\sxj477\\AppData\\Local\\anaconda3\\envs\\SSD\\Lib\\site-packages\\scipy\\optimize\\_nonlin.py:374: RuntimeWarning: invalid value encountered in scalar divide\n",
      "  and dx_norm/self.x_rtol <= x_norm))\n",
      "C:\\Users\\sxj477\\AppData\\Local\\anaconda3\\envs\\SSD\\Lib\\site-packages\\scipy\\optimize\\_nonlin.py:374: RuntimeWarning: invalid value encountered in scalar divide\n",
      "  and dx_norm/self.x_rtol <= x_norm))\n",
      "C:\\Users\\sxj477\\AppData\\Local\\anaconda3\\envs\\SSD\\Lib\\site-packages\\scipy\\optimize\\_nonlin.py:374: RuntimeWarning: invalid value encountered in scalar divide\n",
      "  and dx_norm/self.x_rtol <= x_norm))\n",
      "C:\\Users\\sxj477\\AppData\\Local\\anaconda3\\envs\\SSD\\Lib\\site-packages\\scipy\\optimize\\_nonlin.py:374: RuntimeWarning: invalid value encountered in scalar divide\n",
      "  and dx_norm/self.x_rtol <= x_norm))\n",
      "C:\\Users\\sxj477\\AppData\\Local\\anaconda3\\envs\\SSD\\Lib\\site-packages\\scipy\\optimize\\_nonlin.py:374: RuntimeWarning: invalid value encountered in scalar divide\n",
      "  and dx_norm/self.x_rtol <= x_norm))\n",
      "C:\\Users\\sxj477\\AppData\\Local\\anaconda3\\envs\\SSD\\Lib\\site-packages\\scipy\\optimize\\_nonlin.py:374: RuntimeWarning: invalid value encountered in scalar divide\n",
      "  and dx_norm/self.x_rtol <= x_norm))\n",
      "C:\\Users\\sxj477\\AppData\\Local\\anaconda3\\envs\\SSD\\Lib\\site-packages\\scipy\\optimize\\_nonlin.py:374: RuntimeWarning: invalid value encountered in scalar divide\n",
      "  and dx_norm/self.x_rtol <= x_norm))\n",
      "C:\\Users\\sxj477\\AppData\\Local\\anaconda3\\envs\\SSD\\Lib\\site-packages\\scipy\\optimize\\_nonlin.py:374: RuntimeWarning: invalid value encountered in scalar divide\n",
      "  and dx_norm/self.x_rtol <= x_norm))\n",
      "C:\\Users\\sxj477\\AppData\\Local\\anaconda3\\envs\\SSD\\Lib\\site-packages\\scipy\\optimize\\_nonlin.py:374: RuntimeWarning: invalid value encountered in scalar divide\n",
      "  and dx_norm/self.x_rtol <= x_norm))\n",
      "C:\\Users\\sxj477\\AppData\\Local\\anaconda3\\envs\\SSD\\Lib\\site-packages\\scipy\\optimize\\_nonlin.py:374: RuntimeWarning: invalid value encountered in scalar divide\n",
      "  and dx_norm/self.x_rtol <= x_norm))\n",
      "C:\\Users\\sxj477\\AppData\\Local\\anaconda3\\envs\\SSD\\Lib\\site-packages\\scipy\\optimize\\_nonlin.py:374: RuntimeWarning: invalid value encountered in scalar divide\n",
      "  and dx_norm/self.x_rtol <= x_norm))\n"
     ]
    }
   ],
   "source": [
    "m.calibPEE();"
   ]
  },
  {
   "cell_type": "markdown",
   "id": "c948de69-2a23-4318-80ae-7e36b30dcf49",
   "metadata": {},
   "source": [
    "Loop through values of $\\rho$, store calibration parameters, "
   ]
  }
 ],
 "metadata": {
  "kernelspec": {
   "display_name": "Python 3 (ipykernel)",
   "language": "python",
   "name": "python3"
  },
  "language_info": {
   "codemirror_mode": {
    "name": "ipython",
    "version": 3
   },
   "file_extension": ".py",
   "mimetype": "text/x-python",
   "name": "python",
   "nbconvert_exporter": "python",
   "pygments_lexer": "ipython3",
   "version": "3.12.4"
  }
 },
 "nbformat": 4,
 "nbformat_minor": 5
}
