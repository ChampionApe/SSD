{
 "cells": [
  {
   "cell_type": "code",
   "execution_count": 1,
   "id": "e40dbb2d-fa7b-46f9-9e64-98e1c2413f34",
   "metadata": {},
   "outputs": [],
   "source": [
    "%run stdPackages.ipynb"
   ]
  },
  {
   "cell_type": "markdown",
   "id": "6746697b-f5ca-4662-9a1c-58463f708255",
   "metadata": {},
   "source": [
    "# Social Security Design - Argentina"
   ]
  },
  {
   "cell_type": "markdown",
   "id": "9515853b-481f-4d2d-bd32-e197b1573e7e",
   "metadata": {
    "tags": []
   },
   "source": [
    "## 1. Input data and simple calibrations"
   ]
  },
  {
   "cell_type": "markdown",
   "id": "e5fd76bf-3ea0-4bd8-807a-04f1fa29ff0e",
   "metadata": {},
   "source": [
    "We assume that we have data on the following:\n",
    "* Worker-to-retiree ratios $\\nu_t$.\n",
    "* Capital income share $\\alpha$.\n",
    "* Frisch elasticity of labor $\\xi$ (individual response to after-tax wages).\n",
    "* Share of retirees that only receive basic pension benefits - here defined as share of hand-to-mouth households ($\\gamma_u$).\n",
    "* Heterogeneity in working households:\n",
    "    1. Relative sizes of household types $\\gamma_i$, such that $\\sum_i = \\gamma_i$.\n",
    "    2. Income distribution across types $z_i^{\\eta}$.\n",
    "    3. Distribution of working hours across types $z_i^{x}$.\n",
    "* The economy wide average savings rate $\\overline{s}_t$.\n",
    "* The ratio of income from $u$-types to the average worker for young ($\\chi_1$) and old ($\\chi_2$).\n",
    "* The pension tax in a given year $\\overline{\\tau}$.\n",
    "* The target for ratios of replacement rates for 1st and 2nd quartiles $RR$."
   ]
  },
  {
   "cell_type": "markdown",
   "id": "7194708c-b270-429d-99e4-2748810582e7",
   "metadata": {},
   "source": [
    "### 1.1. Fixed data"
   ]
  },
  {
   "cell_type": "code",
   "execution_count": 2,
   "id": "008d0805-9ad5-44a4-95a1-5e3fd113d5e6",
   "metadata": {},
   "outputs": [],
   "source": [
    "dates = pd.Index([1950, 1980, 2010, 2040, 2070, 2100], name = 't')\n",
    "ν = np.array([1.497025777, 1.365562914, 1.20756547, 1.110843373, 1.072547602, 1.0725])\n",
    "T = len(ν) # number of years in data\n",
    "A = np.ones(T) # normalize exog. productivity at 1 \n",
    "α = .43 # capital income share\n",
    "ξ = .35 # frisch elasticity\n",
    "γ = np.full((4, ), 0.25) # four equally large shares\n",
    "ni = len(γ) # number of types of working households in this case\n",
    "hours = np.array([38.6, 41.8, 43.4, 46.8]) # weekly hours, working households\n",
    "income= np.array([618.6, 945.5, 1278.6, 2341.6]) # income levels, working households\n",
    "zx = hours/hours.mean() # normalized data\n",
    "zη = income/income.mean() # normalized data\n",
    "γu =.32 # share of u households\n",
    "χ1 = 0.3089 # relative income of u-types\n",
    "χ2 = 0.95 * χ1 # relative income of u-types when old - assumed slightly lower\n",
    "τ0 = 0.142 # target level of pension tax\n",
    "s0 = 0.184 # target savings rate\n",
    "t0date = 2010\n",
    "t0 = dates.get_loc(t0date) # index for year of calibration \n",
    "RR = 0.678/0.803 # replacement rate"
   ]
  },
  {
   "cell_type": "markdown",
   "id": "3c912fb1-ab07-4f8b-bb91-3da77c72691a",
   "metadata": {},
   "source": [
    "### 1.2. Calibration of $\\eta_i, X_i, \\theta$"
   ]
  },
  {
   "cell_type": "markdown",
   "id": "e6d83a5e-f7ae-4cf3-b38b-beca617d4b3c",
   "metadata": {},
   "source": [
    "1. The vector of $(\\eta_i/X_i)^{\\xi}$ is proportional to eigenvector $\\textbf{y}^x$ - i.e. set $(\\eta_i/X_i)^{\\xi} = y_i^x$.\n",
    "2. The vector of $(\\eta_i^{1+\\xi}/X_i^{\\xi})$ is proportional to the eigenvector $\\textbf{y}^{\\eta}$ - i.e. set $\\eta_i^{1+\\xi}/X_i^{\\xi} = k y_i^{\\eta} $, where $k>0$ is some constant.\n",
    "3. We then have $\\eta_i =k y_i^{\\eta} / y_i^x$ and $(\\eta_i/X_i)^{\\xi} = y_i^x$. Use $k$ to normalize such that \n",
    "$$\\begin{align}\n",
    "    \\sum_i \\gamma_i \\eta_i^{1+\\xi}/X_i^{\\xi} = 1 \\qquad \\Rightarrow \\qquad k = \\dfrac{1}{\\sum_i \\gamma_i y_i^{\\eta}}.\n",
    "\\end{align}$$"
   ]
  },
  {
   "cell_type": "markdown",
   "id": "a54b10b8-e022-4649-8948-844f3442a563",
   "metadata": {},
   "source": [
    "Find eigenvectors:"
   ]
  },
  {
   "cell_type": "code",
   "execution_count": 3,
   "id": "76ff3951-431d-4702-991d-a306bd3cdeaa",
   "metadata": {},
   "outputs": [],
   "source": [
    "valx, vecx = scipy.sparse.linalg.eigs(zx.reshape(ni,1) * γ.reshape(1,ni), k=1)\n",
    "valη, vecη = scipy.sparse.linalg.eigs(zη.reshape(ni,1) * γ.reshape(1,ni), k=1)\n",
    "yx, yη = abs(np.real(vecx)).reshape(ni), abs(np.real(vecη)).reshape(ni) # this assumes that all coordinates in eigenvector are either positive or negative; this should be the case"
   ]
  },
  {
   "cell_type": "markdown",
   "id": "a3c882ff-7908-4138-8cdc-b7f5c657e068",
   "metadata": {},
   "source": [
    "Calibrate parameters:"
   ]
  },
  {
   "cell_type": "code",
   "execution_count": 4,
   "id": "04edfcd7-6f66-4615-beae-23f523aed3fa",
   "metadata": {},
   "outputs": [],
   "source": [
    "η = yη/(yx*sum(γ*yη))\n",
    "X = η/yx**(1/ξ)"
   ]
  },
  {
   "cell_type": "markdown",
   "id": "9319f340-8ef9-4261-b371-749a7b4bc770",
   "metadata": {},
   "source": [
    "Now given parameters that define household heterogeneity, we define $\\theta$ from the relative replacement rates:"
   ]
  },
  {
   "cell_type": "code",
   "execution_count": 5,
   "id": "45d8667d-9ef5-4472-b083-026fdb4b431a",
   "metadata": {},
   "outputs": [],
   "source": [
    "Q1 = η[0]**(1+ξ)/(X[0]**ξ)\n",
    "Q2 = η[1]**(1+ξ)/(X[1]**ξ)\n",
    "θ = (RR/Q1-1/Q2)/(1-RR+RR/Q1-1/Q2)"
   ]
  },
  {
   "cell_type": "markdown",
   "id": "b7dc3213-98dd-4a43-964a-0b799b833949",
   "metadata": {},
   "source": [
    "### 1.3. Initial guesses for yet-to-calibrated parameters"
   ]
  },
  {
   "cell_type": "markdown",
   "id": "3e6b7540-6ebd-40ba-91dd-57a1048254c7",
   "metadata": {},
   "source": [
    "Set uniform $\\beta$ for all types:"
   ]
  },
  {
   "cell_type": "code",
   "execution_count": 6,
   "id": "544e6ff8-ad7c-40d0-885d-7543f4b7f8c4",
   "metadata": {},
   "outputs": [],
   "source": [
    "β = np.full(ni, fill_value = s0/(1-s0))\n",
    "βu= min(β) # set impatience equal to lowest producticity household. "
   ]
  },
  {
   "cell_type": "markdown",
   "id": "4d14597d-695a-40d8-94eb-405aeb4d51a8",
   "metadata": {},
   "source": [
    "Given our guess on $\\beta$, we can define $\\eps$ from the built-in function for the Argentina case: "
   ]
  },
  {
   "cell_type": "code",
   "execution_count": 7,
   "id": "a9d6c7d7-1059-4099-8161-74561b1d7429",
   "metadata": {},
   "outputs": [],
   "source": [
    "eps = logModelESC.argentinaCalEps(θ, β[0])"
   ]
  },
  {
   "cell_type": "markdown",
   "id": "2c6920d8-b16c-439b-aaba-746e7c1d199d",
   "metadata": {},
   "source": [
    "## 2. Initialize and solve model"
   ]
  },
  {
   "cell_type": "markdown",
   "id": "f1a121fe-2853-4720-85be-91a0d140dd87",
   "metadata": {},
   "source": [
    "We initialize the model with parameter values by calling:"
   ]
  },
  {
   "cell_type": "code",
   "execution_count": 8,
   "id": "a1d9aa01-7dd9-417b-a46c-c24747057b71",
   "metadata": {},
   "outputs": [],
   "source": [
    "model = logModelESC.infHorizon(ni = ni, T = T, **{'α': α, 'A': A, 'ν': ν, 'η': η, 'γ': γ, 'X': X, 'β': β, 'βu': βu, 'ξ': ξ, 'eps': eps, 'θ': θ, 'γu': γu, 'χ1': χ1, 'χ2': χ2})"
   ]
  },
  {
   "cell_type": "markdown",
   "id": "1e0c422b-70c1-4900-b1b3-10324839472d",
   "metadata": {},
   "source": [
    "Calibrate to the Argentina scenario:"
   ]
  },
  {
   "cell_type": "code",
   "execution_count": 9,
   "id": "b46e6995-148c-4352-8a26-7b7658dc9572",
   "metadata": {},
   "outputs": [
    {
     "data": {
      "text/plain": [
       "array([2.42056865, 0.28846538, 0.98560079, 0.50690036])"
      ]
     },
     "execution_count": 9,
     "metadata": {},
     "output_type": "execute_result"
    }
   ],
   "source": [
    "model.argentinaCalibrate(τ0, s0, t0) # calibrate without endogenous political choice\n",
    "model.argentinaCalibrate_preReform(τ0, s0, θ, t0) # calibrate with pol. choice"
   ]
  },
  {
   "cell_type": "markdown",
   "id": "512861ff-06e2-4a0f-ba2a-64db615264df",
   "metadata": {},
   "source": [
    "Add baseline solution to the database:"
   ]
  },
  {
   "cell_type": "code",
   "execution_count": 10,
   "id": "72c884e3-0879-4693-b5d0-21b5bf40b0c2",
   "metadata": {},
   "outputs": [],
   "source": [
    "model.db.update(model.solve_ESC())\n",
    "model.reportAll()"
   ]
  },
  {
   "cell_type": "markdown",
   "id": "036e4d5d-b178-471f-a986-eb691d291add",
   "metadata": {},
   "source": [
    "## 3. Baseline plots:"
   ]
  },
  {
   "cell_type": "markdown",
   "id": "115a1966-2a65-496e-aa6b-f35ba323a054",
   "metadata": {},
   "source": [
    "Provide some labels to call the $i$ types of agents when plotting:"
   ]
  },
  {
   "cell_type": "code",
   "execution_count": 11,
   "id": "a50ccb61-8ebe-44c4-8f43-a6827ea2bc6f",
   "metadata": {},
   "outputs": [],
   "source": [
    "typeLabels = {0: '1st Quartile', 1: '2nd Quartile', 2: '3rd Quartile', 3: '4th Quartile'}"
   ]
  },
  {
   "cell_type": "markdown",
   "id": "fea10683-d9b0-4e2c-a2d6-88b1db3463da",
   "metadata": {},
   "source": [
    "Define a few auxiliary functions used for plotting:"
   ]
  },
  {
   "cell_type": "code",
   "execution_count": 12,
   "id": "3aac3ef7-33f6-4775-b7b0-3cb86e5d6d7e",
   "metadata": {},
   "outputs": [],
   "source": [
    "def addYears(x, d, copy = True):\n",
    "    \"\"\" Replace integer set 't' (from 0 to T) with years in 'dates' \"\"\"\n",
    "    if copy:\n",
    "        x = x.copy()\n",
    "    if isinstance(x, pd.Index):\n",
    "        return x.map(pd.Series(d.values, index = x)).rename('')\n",
    "    elif isinstance(x, (pd.DataFrame, pd.Series)):\n",
    "        x.index = addYears(x.index, d, copy = False)\n",
    "        return x\n",
    "def adjLabels(x, copy = True):\n",
    "    \"\"\" Replace integer set 'i' (from 0 to ni) with labels in 'typeLabels' \"\"\"\n",
    "    if copy:\n",
    "        x = x.copy()\n",
    "    if isinstance(x, pd.Index):\n",
    "        return x.map(typeLabels)\n",
    "    elif isinstance(x, pd.Series):\n",
    "        x.index = adjLabels(x.index, copy = False)\n",
    "    elif isinstance(x, pd.DataFrame):\n",
    "        x.columns = adjLabels(x.columns, copy = False)\n",
    "    return x\n",
    "def extractDf(sol, x, grid, d):\n",
    "    \"\"\" Collect data on variables from different simulations in one dataframe \"\"\"\n",
    "    return addYears(pd.concat([soli[x] for soli in sol.values()], axis=1), d).set_axis(grid, axis = \"columns\")    "
   ]
  },
  {
   "cell_type": "markdown",
   "id": "a2969e10-8665-470f-9f85-a53919cc95f0",
   "metadata": {},
   "source": [
    "### 3.1. PEE taxes, labor supply, savings, and worker-to-retiree ratio over time:"
   ]
  },
  {
   "cell_type": "markdown",
   "id": "29e8a568-cbc6-4fe7-8797-fd73f1af804b",
   "metadata": {},
   "source": [
    "*Collect data:*"
   ]
  },
  {
   "cell_type": "code",
   "execution_count": 13,
   "id": "90911529-eb76-4680-a2cb-abd5a6ecd8e5",
   "metadata": {},
   "outputs": [],
   "source": [
    "df = pd.concat([addYears(model.db[k].loc[0:], dates).rename(k) for k in ('τ', 'h')], axis = 1)\n",
    "df['Worker-to-retiree ratio'] = pd.Series(model.db['ν'], index = dates)\n",
    "df['Savings rate (% GDP)'] = addYears(model.savingsRate(model.db['Θs'], model.db['Θh']), dates) # savings rate as % of GDP"
   ]
  },
  {
   "cell_type": "markdown",
   "id": "e7239169-47e7-4296-bc2d-5f9ba2bbd852",
   "metadata": {},
   "source": [
    "Normalize the $h$ variable to average indicate working hours, using that the level in 2010 is defined as:"
   ]
  },
  {
   "cell_type": "code",
   "execution_count": 14,
   "id": "980bb3d9-7299-4e57-ba60-0f1bac756bcf",
   "metadata": {},
   "outputs": [],
   "source": [
    "hAverage_2010 = sum(γ * hours)\n",
    "df['Avg. weekly working hours'] = df['h']/df['h'].xs(2010) * hAverage_2010"
   ]
  },
  {
   "cell_type": "markdown",
   "id": "44807d9c-5fb2-4441-9c61-2b4bb5fece0f",
   "metadata": {},
   "source": [
    "*Plot:*"
   ]
  },
  {
   "cell_type": "code",
   "execution_count": 15,
   "id": "2b536d8f-28c4-442e-916e-4daf7e1f3d1b",
   "metadata": {},
   "outputs": [
    {
     "data": {
      "image/png": "[encoded data removed]",
      "text/plain": [
       "<Figure size 1400x800 with 4 Axes>"
      ]
     },
     "metadata": {},
     "output_type": "display_data"
    }
   ],
   "source": [
    "mult_graphs()\n",
    "fig, axes = plt.subplots(2, 2, figsize = (14,8));\n",
    "ite = ('Worker-to-retiree ratio','τ','Avg. weekly working hours','Savings rate (% GDP)');\n",
    "for j in range(len(ite)):\n",
    "    ax = plt.subplot(2,2,j+1);\n",
    "    seaborn.lineplot(data = df[ite[j]], linewidth = 3, ax = ax, legend = True);\n",
    "fig.savefig(os.path.join(d['figs'], 'baseline_Argentina.pdf'), edgecolor='k')"
   ]
  },
  {
   "cell_type": "markdown",
   "id": "1dafd3b8-9485-4260-91a6-175e1cc5903c",
   "metadata": {},
   "source": [
    "### 3.2. Inequality in savings, working hours, and consumption:"
   ]
  },
  {
   "cell_type": "markdown",
   "id": "8e6f0ac3-bd28-4711-b2b2-7950fb59d33e",
   "metadata": {},
   "source": [
    "Present variation in savings and labor income in baseline year:"
   ]
  },
  {
   "cell_type": "code",
   "execution_count": 16,
   "id": "b38a7590-150a-4e8f-b585-96791aba4459",
   "metadata": {},
   "outputs": [],
   "source": [
    "s_ineq = adjLabels(model.db['Θsi'].div(model.db['Θs'], axis = 0).xs(t0)) # savings\n",
    "h_ineq = adjLabels(model.db['Θhi'].div(model.db['Θh'], axis = 0).xs(t0)) # labor income"
   ]
  },
  {
   "cell_type": "markdown",
   "id": "0349516e-1ab7-4f15-a8d7-7411f91a886c",
   "metadata": {},
   "source": [
    "Plot:"
   ]
  },
  {
   "cell_type": "code",
   "execution_count": 17,
   "id": "4ae9631c-b19e-4d87-becd-02c767f87cb0",
   "metadata": {},
   "outputs": [
    {
     "data": {
      "image/png": "[encoded data removed]",
      "text/plain": [
       "<Figure size 1400x500 with 2 Axes>"
      ]
     },
     "metadata": {},
     "output_type": "display_data"
    }
   ],
   "source": [
    "mult_graphs()\n",
    "fig, axes = plt.subplots(1,2,figsize = (14,5));\n",
    "ax = plt.subplot(1,2,1)\n",
    "s_ineq.plot.bar(ax = ax);\n",
    "dfAx(ax, ylabel = None);\n",
    "ax.set_xlabel('');\n",
    "ax.set_title('$s_i / s$');\n",
    "ax = plt.subplot(1,2,2)\n",
    "h_ineq.plot.bar(ax = ax);\n",
    "dfAx(ax, ylabel = None);\n",
    "ax.set_xlabel('');\n",
    "ax.set_title('$h_i / h$');\n",
    "fig.savefig(os.path.join(d['figs'], 'baseline_Ineq1_Argentina.pdf'), edgecolor='k')"
   ]
  },
  {
   "cell_type": "markdown",
   "id": "da118f13-fddc-4ace-9025-d043e7db2057",
   "metadata": {},
   "source": [
    "## 4. Adjusting parameters to reflect pension reform"
   ]
  },
  {
   "cell_type": "markdown",
   "id": "7b55fe05-38df-4743-9daf-5a15335547f9",
   "metadata": {},
   "source": [
    "Store baseline solution before comparisons:"
   ]
  },
  {
   "cell_type": "code",
   "execution_count": 18,
   "id": "19a2e4eb-3e20-46ce-80af-d174e730723d",
   "metadata": {},
   "outputs": [],
   "source": [
    "initialSolution = model.db.copy() # default values to start experiments from"
   ]
  },
  {
   "cell_type": "markdown",
   "id": "e9659136-5f89-4836-b782-5d16b21d84d2",
   "metadata": {},
   "source": [
    "The unexpected changes arrive in 2010. The easiest way to introduce this is to initialize a new model that runs from 2010-2100:"
   ]
  },
  {
   "cell_type": "code",
   "execution_count": 19,
   "id": "2cde44c1-28f9-4974-8357-e70897675ccc",
   "metadata": {},
   "outputs": [],
   "source": [
    "dates_2010 = dates[dates>=2010]\n",
    "T_2010 = len(dates_2010)\n",
    "model_2010 = logModelESC.infHorizon(ni = ni, T = T_2010, \n",
    "                                    eps = model.db['eps'].loc[t0:].set_axis(model.db['t'][t0:]-t0), \n",
    "                                    θ = model.db['θ'].loc[t0:].set_axis(model.db['t'][t0:]-t0),\n",
    "                                    **({k: initialSolution[k] for k in model.defaultParameters} | {'ν': ν[(T-T_2010):],\n",
    "                                                                                           'A': A[(T-T_2010):]}))"
   ]
  },
  {
   "cell_type": "markdown",
   "id": "46b39b24-e15b-44fa-a9e5-653eb7f8f349",
   "metadata": {},
   "source": [
    "Solve and store the baseline solution with the shifted time index:"
   ]
  },
  {
   "cell_type": "code",
   "execution_count": 20,
   "id": "0dacfdf0-2d45-4d2f-b7c9-3301be893d99",
   "metadata": {},
   "outputs": [],
   "source": [
    "model_2010.updateSolve_ESC()\n",
    "model_2010.reportAll(s_=initialSolution['s'][t0])\n",
    "baseline = model_2010.db.copy()"
   ]
  },
  {
   "cell_type": "markdown",
   "id": "f54b3b68-7b94-4c68-bd34-7a631dc03261",
   "metadata": {},
   "source": [
    "### 4.1. Going to \"basic\" coverage"
   ]
  },
  {
   "cell_type": "markdown",
   "id": "4ca44c78-c42a-4a21-82ec-0e43207c8b44",
   "metadata": {},
   "source": [
    "Now, calibrate the model to reflect the same $\\theta$ and $\\epsilon = 1-\\theta$ after the reform:"
   ]
  },
  {
   "cell_type": "code",
   "execution_count": 21,
   "id": "6492eb4d-9ca2-4992-89c6-14cb96111a39",
   "metadata": {},
   "outputs": [],
   "source": [
    "model_2010.argentinaCalibrate_postReform(θ, 1-θ, 0)\n",
    "model_2010.updateSolve_ESC()\n",
    "model_2010.reportAll(s_= initialSolution['s'][t0])\n",
    "\n",
    "dbBasicCoverage = model_2010.db.copy()"
   ]
  },
  {
   "cell_type": "markdown",
   "id": "f7cbf026-4c99-46fe-873f-2873ec6bfb5e",
   "metadata": {},
   "source": [
    "Print latex table:"
   ]
  },
  {
   "cell_type": "code",
   "execution_count": 22,
   "id": "fbc1c097-c376-47c3-8705-590cf80a9ee8",
   "metadata": {},
   "outputs": [],
   "source": [
    "τBase = round(baseline['τ'].xs(0)*100,1)\n",
    "sBase = round(model_2010.savingsRate(baseline['Θs'].xs(0), baseline['Θh'].xs(0))*100,1)\n",
    "hBase = round(sum(γ*hours), 2)\n",
    "τBasicCoverage = round(dbBasicCoverage['τ'].xs(0)*100,1)\n",
    "sBasicCoverage = round(model_2010.savingsRate(dbBasicCoverage['Θs'].xs(0), dbBasicCoverage['Θh'].xs(0))*100,1)\n",
    "hBasicCoverage = round((dbBasicCoverage['h'].xs(0)/baseline['h'].xs(0)) * hBase, 2)"
   ]
  },
  {
   "cell_type": "markdown",
   "id": "9740bab6-8dad-4a51-bf01-e6ca272aeb6c",
   "metadata": {},
   "source": [
    "Print latex code for table:"
   ]
  },
  {
   "cell_type": "code",
   "execution_count": 23,
   "id": "2b996f39-1029-46e2-85f3-87ab0fd43f17",
   "metadata": {},
   "outputs": [
    {
     "name": "stdout",
     "output_type": "stream",
     "text": [
      "\n",
      "\\begin{table}[!htb]\\centering\n",
      "\\caption{Pension system reform, year 2010.}\n",
      "\\label{table:comparison}\n",
      "\\begin{tabular}{p{3.8cm}p{0.3cm}cp{0.3cm}cp{0.3cm}c}\n",
      "\\\\[-1.8ex] \\hline\\hline \\\\[-1.8ex]\n",
      "\\textbf{Variable:} & & \\textbf{Tax rate} && \\textbf{Savings rate} && \\textbf{Avg. workweek (hours)} \\\\\n",
      "\\hline\\\\[-1ex]\n",
      "Initial (\\textit{B})  && \\multirow{2}{*}{14.2\\%} && \\multirow{2}{*}{18.4\\%} && \\multirow{2}{*}{42.65} \\\\[-0.5ex]\n",
      "\\small{$(\\eps$=$0.1$, $\\theta$=$0.72$)} \\\\[1ex]\n",
      "Universal (\\textit{U}) && \\multirow{2}{*}{14.5\\%} && \\multirow{2}{*}{18.5\\%} && \\multirow{2}{*}{42.59} \\\\[-0.5ex]\n",
      "\\small{$(\\eps$=$0.28$, $\\theta$=$0.72$)} &&&&&& \\\\[1ex]\n",
      "\\hline\\hline\\\\[-1.8ex]\n",
      "\\end{tabular}\n",
      "\\caption*{\\footnotesize{Politico-economic equilibrium for social security under the initial regime and after making pension benefits universal.}} \n",
      "\\end{table}\n",
      "\n"
     ]
    }
   ],
   "source": [
    "def table1(τBase, sBase, hBase, ϵBase, θBase, τNew, sNew, hNew, ϵNew, θNew, name):\n",
    "    return f\"\"\"\n",
    "\\\\begin{{table}}[!htb]\\centering\n",
    "\\caption{{Pension system reform, year 2010.}}\n",
    "\\label{{table:comparison}}\n",
    "\\\\begin{{tabular}}{{p{{3.8cm}}p{{0.3cm}}cp{{0.3cm}}cp{{0.3cm}}c}}\n",
    "\\\\\\\\[-1.8ex] \\hline\\hline \\\\\\\\[-1.8ex]\n",
    "\\\\textbf{{Variable:}} & & \\\\textbf{{Tax rate}} && \\\\textbf{{Savings rate}} && \\\\textbf{{Avg. workweek (hours)}} \\\\\\\\\n",
    "\\hline\\\\\\\\[-1ex]\n",
    "Initial (\\\\textit{{B}})  && \\multirow{{2}}{{*}}{{{τBase}\\%}} && \\multirow{{2}}{{*}}{{{sBase}\\%}} && \\multirow{{2}}{{*}}{{{hBase}}} \\\\\\\\[-0.5ex]\n",
    "\\small{{$(\\eps$=${round(ϵBase,2)}$, $\\\\theta$=${round(θBase,2)}$)}} \\\\\\\\[1ex]\n",
    "Universal (\\\\textit{{{name}}}) && \\multirow{{2}}{{*}}{{{τNew}\\%}} && \\multirow{{2}}{{*}}{{{sNew}\\%}} && \\multirow{{2}}{{*}}{{{hNew}}} \\\\\\\\[-0.5ex]\n",
    "\\small{{$(\\eps$=${round(ϵNew,2)}$, $\\\\theta$=${round(θNew,2)}$)}} &&&&&& \\\\\\\\[1ex]\n",
    "\\hline\\hline\\\\\\\\[-1.8ex]\n",
    "\\end{{tabular}}\n",
    "\\caption*{{\\\\footnotesize{{Politico-economic equilibrium for social security under the initial regime and after making pension benefits universal.}}}} \n",
    "\\end{{table}}\n",
    "\"\"\"\n",
    "print(table1(τBase, sBase, hBase, baseline['eps'].xs(0), baseline['θ'].xs(0), τBasicCoverage, sBasicCoverage, hBasicCoverage, 1-baseline['θ'].xs(0), baseline['θ'].xs(0), 'U'))"
   ]
  },
  {
   "cell_type": "markdown",
   "id": "99871170-e27e-4bf2-80b3-774549a292dd",
   "metadata": {},
   "source": [
    "### 4.2. Going to \"universal\" coverage"
   ]
  },
  {
   "cell_type": "markdown",
   "id": "d9494fb3-2dab-4784-aeb3-474cb1ba5fe3",
   "metadata": {},
   "source": [
    "Next, consider the effect of going to universal coverage"
   ]
  },
  {
   "cell_type": "code",
   "execution_count": 24,
   "id": "d84049b9-ff77-4c52-b9e8-2ba8958520a7",
   "metadata": {},
   "outputs": [],
   "source": [
    "ϵMax   = initialSolution['θ'].xs(t0) * min(η) * initialSolution['hi'].xs(t0-1).xs(0) / initialSolution['h'].xs(t0-1) + 1-initialSolution['θ'].xs(t0)\n",
    "model_2010.argentinaCalibrate_postReform(θ, ϵMax, 0)\n",
    "model_2010.updateSolve_ESC()\n",
    "model_2010.reportAll(s_=initialSolution['s'][t0])\n",
    "\n",
    "dbU = model_2010.db.copy()"
   ]
  },
  {
   "cell_type": "markdown",
   "id": "65964171-96cf-4a5e-a23b-814c61ab29e2",
   "metadata": {},
   "source": [
    "Get data:"
   ]
  },
  {
   "cell_type": "code",
   "execution_count": 25,
   "id": "40593a1c-ab1a-4545-a47e-3fe6389562f6",
   "metadata": {},
   "outputs": [
    {
     "name": "stdout",
     "output_type": "stream",
     "text": [
      "\n",
      "\\begin{table}[!htb]\\centering\n",
      "\\caption{Pension system reform, year 2010.}\n",
      "\\label{table:comparison}\n",
      "\\begin{tabular}{p{3.8cm}p{0.3cm}cp{0.3cm}cp{0.3cm}c}\n",
      "\\\\[-1.8ex] \\hline\\hline \\\\[-1.8ex]\n",
      "\\textbf{Variable:} & & \\textbf{Tax rate} && \\textbf{Savings rate} && \\textbf{Avg. workweek (hours)} \\\\\n",
      "\\hline\\\\[-1ex]\n",
      "Initial (\\textit{B})  && \\multirow{2}{*}{14.2\\%} && \\multirow{2}{*}{18.4\\%} && \\multirow{2}{*}{42.65} \\\\[-0.5ex]\n",
      "\\small{$(\\eps$=$0.1$, $\\theta$=$0.72$)} \\\\[1ex]\n",
      "Universal (\\textit{U}) && \\multirow{2}{*}{14.9\\%} && \\multirow{2}{*}{18.6\\%} && \\multirow{2}{*}{42.49} \\\\[-0.5ex]\n",
      "\\small{$(\\eps$=$0.64$, $\\theta$=$0.72$)} &&&&&& \\\\[1ex]\n",
      "\\hline\\hline\\\\[-1.8ex]\n",
      "\\end{tabular}\n",
      "\\caption*{\\footnotesize{Politico-economic equilibrium for social security under the initial regime and after making pension benefits universal.}} \n",
      "\\end{table}\n",
      "\n"
     ]
    }
   ],
   "source": [
    "τU = round(dbU['τ'].xs(0)*100,1)\n",
    "sU = round(model_2010.savingsRate(dbU['Θs'].xs(0), dbU['Θh'].xs(0))*100,1)\n",
    "hU = round((dbU['h'].xs(0)/baseline['h'].xs(0)) * hBase, 2)\n",
    "print(table1(τBase, sBase, hBase, baseline['eps'].xs(0), baseline['θ'].xs(0), τU, sU, hU, ϵMax, baseline['θ'].xs(0), 'U'))"
   ]
  },
  {
   "cell_type": "markdown",
   "id": "e0acf1ab-c4a5-435c-b53d-16a5f9e4c341",
   "metadata": {},
   "source": [
    "## 5. Look at changing values of $\\epsilon, \\theta$ exogenously to understand mechanisms"
   ]
  },
  {
   "cell_type": "markdown",
   "id": "a2ca3324-e720-49c4-9b3f-68d569838c6c",
   "metadata": {},
   "source": [
    "Next, we very $\\epsilon$ and $\\theta$ exogenously (and only look at endogenous policies), to get an idea of how parameters interact. Before doing any shocks, we reset calibrated parameter values to pre-reform levels:"
   ]
  },
  {
   "cell_type": "code",
   "execution_count": 26,
   "id": "3185a47a-6115-496b-abdc-402be98ec59a",
   "metadata": {},
   "outputs": [],
   "source": [
    "model_2010.db['ωu'], model_2010.db['ωη'] = baseline['ωu'], baseline['ωη']"
   ]
  },
  {
   "cell_type": "markdown",
   "id": "f7e70db0-c261-4559-b33c-4ada34c3bf8c",
   "metadata": {
    "tags": []
   },
   "source": [
    "## 5.1. Define a \"standard\" shock"
   ]
  },
  {
   "cell_type": "markdown",
   "id": "fd118a66-f037-49fc-ad96-e1a0eb9cbd5b",
   "metadata": {},
   "source": [
    "Whenever we do one of these shocks to a parameter, e.g. $\\epsilon$, we want to do some of the same things:\n",
    "1. Update parameter values in active model. \n",
    "2. Solve and store PEE solution.\n",
    "3. Solve and store equivalent variations.\n",
    "4. Reset taxes to some baseline value and solve for counterfactual equilibrium (what is the effect of parameter changes *given* fixed tax rates). Store this as well."
   ]
  },
  {
   "cell_type": "code",
   "execution_count": 27,
   "id": "b58287b5-4b51-4f10-bc02-91c01dbf5db3",
   "metadata": {},
   "outputs": [],
   "source": [
    "def parameterShock(model, parameterDict, baseline):\n",
    "    # solve with new parameters\n",
    "    model.updateSolve_PEE(**parameterDict)\n",
    "    model.reportAll(s_ = baseline['s'].iloc[0]) \n",
    "    # compute EV and store solution in 'sol'\n",
    "    EV = model.ns['EV'].unloadSol(model.solve_EV_Permanent(baseline, model.db))\n",
    "    sol = (model.db | model.EV_solInPercentages(baseline, EV)).copy()\n",
    "    \n",
    "    # Reset tax rates to compute counterfactual solution:\n",
    "    [model.db.__setitem__(k, baseline[k].copy()) for k in ('τ', 'τ[t+1]')];\n",
    "    model.db.update(model.solve_EE(model.db['τ'], model.db['τ[t+1]'], model.db['eps[t+1]'], model.db['θ[t+1]']))\n",
    "    model.reportAll(s_ = baseline['s'].iloc[0])\n",
    "    sol_cf = model.db.copy()\n",
    "    # Compute EV for this scenario as well\n",
    "    EV = model.ns['EV'].unloadSol(model.solve_EV_Permanent(baseline, model.db))\n",
    "    sol_cf.update(model.EV_solInPercentages(baseline, EV))\n",
    "    return sol, sol_cf"
   ]
  },
  {
   "cell_type": "markdown",
   "id": "a763118d-e846-4837-b205-65123cd92f65",
   "metadata": {
    "tags": []
   },
   "source": [
    "## 5.2. Simulate effects of gradually changing $\\epsilon$ and $\\theta$."
   ]
  },
  {
   "cell_type": "markdown",
   "id": "8ae2fa87-9178-445e-940b-2bb3b3077c37",
   "metadata": {},
   "source": [
    "Consider varying $\\epsilon$ between $0-\\epsilon_{max}$ for $\\theta\\in[0, 1]$. We define: $\\epsilon_{max} \\equiv \\theta \\underline{\\eta}\\underline{h}_{t-1}/h_{t-1}+1-\\theta$."
   ]
  },
  {
   "cell_type": "code",
   "execution_count": 28,
   "id": "9c765b37-00a0-4464-b97f-e2d751a418bd",
   "metadata": {},
   "outputs": [],
   "source": [
    "ϵMax   = initialSolution['θ'].xs(t0) * min(η) * initialSolution['hi'].xs(t0-1).xs(0) / initialSolution['h'].xs(t0-1) + 1-initialSolution['θ'].xs(t0)\n",
    "ϵgrid  = pd.Index([round(x,2) for x in np.linspace(0,ϵMax,6)], name = '$\\eps$').insert(0, 1-baseline['θ'].xs(0)).sort_values()\n",
    "ϵgrid_ = ϵgrid.insert(0, baseline['eps'].xs(0)) \n",
    "θgrid  = pd.Index([round(x,2) for x in np.linspace(0,1,6)], name = '$\\\\theta$')\n",
    "θgrid_ = θgrid.insert(0, baseline['θ'].xs(0))\n",
    "idx  = pd.MultiIndex.from_product([θgrid, ϵgrid])\n",
    "idx_ = pd.MultiIndex.from_product([θgrid_, ϵgrid_])\n",
    "sol = dict.fromkeys(idx_)\n",
    "sol_cf = dict.fromkeys(idx_)"
   ]
  },
  {
   "cell_type": "markdown",
   "id": "b3af1b01-d9e7-4471-9fad-caeb4863e371",
   "metadata": {},
   "source": [
    "Start by identifying a baseline solution with the baseline value of $\\epsilon$ and different $\\theta$ values. Now, loop over $\\epsilon$ values and solve and compare to the relevant baseline:"
   ]
  },
  {
   "cell_type": "code",
   "execution_count": 29,
   "id": "0abe0a99-b910-4d30-a901-a249981b68ff",
   "metadata": {},
   "outputs": [
    {
     "name": "stdout",
     "output_type": "stream",
     "text": [
      "CPU times: total: 1min 21s\n",
      "Wall time: 1min 21s\n"
     ]
    }
   ],
   "source": [
    "%%time\n",
    "for θ, ϵ in sol:\n",
    "    sol[(θ, ϵ)], sol_cf[(θ,ϵ)] = parameterShock(model_2010, model_2010.initSC(ϵ, 'eps') | model_2010.initSC(θ, 'θ'), baseline)"
   ]
  },
  {
   "cell_type": "markdown",
   "id": "b8fc0fa1-87cc-45d5-ae19-094b9fd8c689",
   "metadata": {},
   "source": [
    "## 5.3. What are the effects of going to a purely universal system."
   ]
  },
  {
   "cell_type": "markdown",
   "id": "762f93cd-234c-43d8-b305-d5abbdc542c4",
   "metadata": {},
   "source": [
    "As a function of going from $\\epsilon_{base}$ to $\\epsilon_{max}$, what is the effect on: \n",
    "1. PEE taxes.\n",
    "2. Savings rate.\n",
    "3. Labor supply."
   ]
  },
  {
   "cell_type": "code",
   "execution_count": 30,
   "id": "a40b5518-4da0-4c74-86b1-f65543e779db",
   "metadata": {},
   "outputs": [],
   "source": [
    "solU = sol[(baseline['θ'].xs(0), max(ϵgrid))]\n",
    "τU    = round(solU['τ'].xs(0)*100,1)\n",
    "sU    = round((solU['Θs']/((1-solU['α'])*(solU['Θh']**(1-solU['α'])))).xs(0)*100,1)\n",
    "hU    = round((solU['h'].xs(0) / baseline['h'].xs(0)) * hBase, 2)"
   ]
  },
  {
   "cell_type": "markdown",
   "id": "29cf53ff-e61a-437a-a053-cb1dda4a2278",
   "metadata": {},
   "source": [
    "Print latex code for table:"
   ]
  },
  {
   "cell_type": "code",
   "execution_count": 31,
   "id": "7b0f4f0b-6c01-4ee6-af54-5e8386f06331",
   "metadata": {},
   "outputs": [
    {
     "name": "stdout",
     "output_type": "stream",
     "text": [
      "\n",
      "\\begin{table}[!htb]\\centering\n",
      "\\caption{Pension system reform, year 2010.}\n",
      "\\label{table:comparison}\n",
      "\\begin{tabular}{p{3.8cm}p{0.3cm}cp{0.3cm}cp{0.3cm}c}\n",
      "\\\\[-1.8ex] \\hline\\hline \\\\[-1.8ex]\n",
      "\\textbf{Variable:} & & \\textbf{Tax rate} && \\textbf{Savings rate} && \\textbf{Avg. workweek (hours)} \\\\\n",
      "\\hline\\\\[-1ex]\n",
      "Initial (\\textit{B})  && \\multirow{2}{*}{14.2\\%} && \\multirow{2}{*}{18.4\\%} && \\multirow{2}{*}{42.65} \\\\[-0.5ex]\n",
      "\\small{$(\\epsilon$=$0.1$, $\\theta$=$0.72$)} \\\\[1ex]\n",
      "Universal (\\textit{U}) && \\multirow{2}{*}{13.4\\%} && \\multirow{2}{*}{19.3\\%} && \\multirow{2}{*}{42.64} \\\\[-0.5ex]\n",
      "\\small{$(\\epsilon$=$0.64$, $\\theta$=$0.72$)} &&&&&& \\\\[1ex]\n",
      "\\hline\\hline\\\\[-1.8ex]\n",
      "\\end{tabular}\n",
      "\\caption*{\\footnotesize{Politico-economic equilibrium for social security under the initial regime and after making pension benefits universal.}} \n",
      "\\end{table}\n",
      "\n"
     ]
    }
   ],
   "source": [
    "print(table1(τBase, sBase, hBase, baseline['eps'].xs(0), baseline['θ'].xs(0), τU, sU, hU, max(ϵgrid), baseline['θ'].xs(0), 'U'))"
   ]
  },
  {
   "cell_type": "markdown",
   "id": "7ed10426-d4d7-49bd-bacf-5b4d53abeb11",
   "metadata": {},
   "source": [
    "## 5.4. What are the effects of going to universal system with \"basic coverage\":"
   ]
  },
  {
   "cell_type": "markdown",
   "id": "925b25e5-b15b-45de-b49e-63bf4e5c9c2f",
   "metadata": {},
   "source": [
    "As a function of going from $\\epsilon_{base}$ to $1-\\theta$, what is the effect on: \n",
    "1. PEE taxes.\n",
    "2. Savings rate.\n",
    "3. Labor supply."
   ]
  },
  {
   "cell_type": "markdown",
   "id": "a032af22-6dbc-428b-a960-f31de99fd040",
   "metadata": {},
   "source": [
    "Get tax rates:"
   ]
  },
  {
   "cell_type": "code",
   "execution_count": 34,
   "id": "d49baac6-0581-4d10-b506-5e9ed17bebe6",
   "metadata": {},
   "outputs": [],
   "source": [
    "solBasicCoverage = sol[(baseline['θ'].xs(0), 1-baseline['θ'].xs(0))]\n",
    "τBasicCoverage = round(solBasicCoverage['τ'].xs(0)*100,1)"
   ]
  },
  {
   "cell_type": "markdown",
   "id": "e43b1167-6c4a-467d-98e3-b6d32cf58aeb",
   "metadata": {},
   "source": [
    "Get savings rates:"
   ]
  },
  {
   "cell_type": "code",
   "execution_count": 35,
   "id": "4cdb5566-a381-49da-8b14-45da8aee2181",
   "metadata": {},
   "outputs": [],
   "source": [
    "sBasicCoverage  = round((solBasicCoverage['Θs']/((1-solBasicCoverage['α'])*(solBasicCoverage['Θh']**(1-solBasicCoverage['α'])))).xs(0)*100,1)"
   ]
  },
  {
   "cell_type": "markdown",
   "id": "5f7813e7-c6f0-4446-880c-25aa882b1269",
   "metadata": {},
   "source": [
    "Average hours worked:"
   ]
  },
  {
   "cell_type": "code",
   "execution_count": 36,
   "id": "7ab9d91f-64d0-4026-8c66-4adf6ad58b49",
   "metadata": {},
   "outputs": [],
   "source": [
    "hBasicCoverage   = round((solBasicCoverage['h'].xs(0) / baseline['h'].xs(0)) * hBase, 2)"
   ]
  },
  {
   "cell_type": "markdown",
   "id": "ae1c9cbc-34dc-40f2-bf6e-74f9fa944968",
   "metadata": {},
   "source": [
    "Print latex code for table:"
   ]
  },
  {
   "cell_type": "code",
   "execution_count": 37,
   "id": "d4dd131d-2d7f-400e-96a1-3c114a99ad23",
   "metadata": {},
   "outputs": [
    {
     "name": "stdout",
     "output_type": "stream",
     "text": [
      "\n",
      "\\begin{table}[!htb]\\centering\n",
      "\\caption{Pension system reform, year 2010.}\n",
      "\\label{table:comparison}\n",
      "\\begin{tabular}{p{3.8cm}p{0.3cm}cp{0.3cm}cp{0.3cm}c}\n",
      "\\\\[-1.8ex] \\hline\\hline \\\\[-1.8ex]\n",
      "\\textbf{Variable:} & & \\textbf{Tax rate} && \\textbf{Savings rate} && \\textbf{Avg. workweek (hours)} \\\\\n",
      "\\hline\\\\[-1ex]\n",
      "Initial (\\textit{B})  && \\multirow{2}{*}{14.2\\%} && \\multirow{2}{*}{18.4\\%} && \\multirow{2}{*}{42.65} \\\\[-0.5ex]\n",
      "\\small{$(\\epsilon$=$0.1$, $\\theta$=$0.72$)} \\\\[1ex]\n",
      "Universal (\\textit{U}) && \\multirow{2}{*}{14.3\\%} && \\multirow{2}{*}{18.7\\%} && \\multirow{2}{*}{42.58} \\\\[-0.5ex]\n",
      "\\small{$(\\epsilon$=$0.28$, $\\theta$=$0.72$)} &&&&&& \\\\[1ex]\n",
      "\\hline\\hline\\\\[-1.8ex]\n",
      "\\end{tabular}\n",
      "\\caption*{\\footnotesize{Politico-economic equilibrium for social security under the initial regime and after making pension benefits universal.}} \n",
      "\\end{table}\n",
      "\n"
     ]
    }
   ],
   "source": [
    "print(table1(τBase, sBase, hBase, baseline['eps'].xs(0), baseline['θ'].xs(0), τBasicCoverage, sBasicCoverage, hBasicCoverage, 1-baseline['θ'].xs(0), baseline['θ'].xs(0), 'U'))"
   ]
  },
  {
   "cell_type": "markdown",
   "id": "c748e35d-260f-43a0-918b-a11f1620a075",
   "metadata": {},
   "source": [
    "## 5.5. Visualize PEE, savings, and labor rates"
   ]
  },
  {
   "cell_type": "code",
   "execution_count": 39,
   "id": "148dc8f2-d6d5-40e3-8bd0-7444a4df3892",
   "metadata": {},
   "outputs": [],
   "source": [
    "def addBaselineMarker(ax, baseline, sol, offsetText_x, offsetText_y, ms = 10, adhocAdj = 0, name = 'Baseline', fontsize = None, arrWidth = 1.5, arrHeadWidth = 7.5, arrHeadLen = 7.5):\n",
    "    baseVal = sol.xs((baseline['θ'].xs(0), baseline['eps'].xs(0)))\n",
    "    ax.plot(baseline['eps'].xs(0), baseVal, 'o', color = 'k', ms=ms)\n",
    "    plt.text(baseline['eps'].xs(0)+offsetText_x, baseVal+offsetText_y, f'{name}', fontsize = fontsize);\n",
    "    adjustArrow = offsetText_y+adhocAdj\n",
    "    plt.annotate(\"\", xy = (baseline['eps'].xs(0)+offsetText_x/4, baseVal+offsetText_y/4), xytext = (baseline['eps'].xs(0)+offsetText_x, baseVal+adjustArrow), arrowprops = dict(width = arrWidth, color ='k', headwidth = arrHeadWidth, headlength = arrHeadLen));"
   ]
  },
  {
   "cell_type": "markdown",
   "id": "2321dd37-bff8-4b4b-acb6-d3c5d111f2d0",
   "metadata": {},
   "source": [
    "#### PEE rates"
   ]
  },
  {
   "cell_type": "code",
   "execution_count": 40,
   "id": "92db873b-976f-4ff4-b98b-586d0ef5ad67",
   "metadata": {},
   "outputs": [],
   "source": [
    "τ2010 = pd.Series([sol[(θ, ϵ)]['τ'].xs(0) for θ,ϵ in idx_], index = idx_)\n",
    "df_τ2010  = τ2010.unstack(θgrid.name)[θgrid]"
   ]
  },
  {
   "cell_type": "markdown",
   "id": "8bf69798-ce11-49d7-a352-814c832cd85d",
   "metadata": {},
   "source": [
    "*Plot a \"fan\" plot*"
   ]
  },
  {
   "cell_type": "code",
   "execution_count": 41,
   "id": "f0a78d33-bdb3-47e6-96fb-73cf7345be4b",
   "metadata": {},
   "outputs": [],
   "source": [
    "%%capture\n",
    "one_graph()\n",
    "# Specify color map:\n",
    "palette, mapAlpha = 'ch:start=.1,rot=-.5', .75\n",
    "colormap = add_alpha_to_colormap(seaborn.color_palette(palette, as_cmap=True), alpha = mapAlpha)\n",
    "\n",
    "# Create plot:\n",
    "fig, ax = plt.subplots(1, 1, figsize = (14, 8));\n",
    "seaborn.lineplot(data = df_τ2010, linewidth = .25, dashes=False, palette = palette, ax = ax, alpha = .75, legend = False);\n",
    "for i in range(df_τ2010.shape[1]-1):\n",
    "    ax.fill_between(df_τ2010.index, df_τ2010.iloc[:,i], df_τ2010.iloc[:,i+1], alpha = mapAlpha, color = ax.get_lines()[i].get_color())\n",
    "dfAx(ax, .25, ylabel = '$\\\\tau_{2010}$');\n",
    "\n",
    "# Add baseline marker:\n",
    "addBaselineMarker(ax, baseline, τ2010, 0.01, -0.03, adhocAdj = 0.01)\n",
    "# Add post-reform marker:\n",
    "addBaselineMarker(ax, solBasicCoverage, τ2010, 0.01, -0.03, adhocAdj = 0.01, name = 'Basic coverage')\n",
    "\n",
    "sm = plt.cm.ScalarMappable(cmap = colormap, norm = plt.Normalize(min(θgrid), max(θgrid)))\n",
    "cbar = ax.figure.colorbar(sm, ax = ax, location = 'top', shrink = .75);\n",
    "cbar.set_label('$\\\\theta$');\n",
    "fig.tight_layout()\n",
    "fig.savefig(os.path.join(d['figs'], 'PEE_functionOfParameters_Argentina.pdf'), edgecolor='k')"
   ]
  },
  {
   "cell_type": "markdown",
   "id": "65d76fc0-83f4-474b-a654-6a84c6940904",
   "metadata": {
    "tags": []
   },
   "source": [
    "#### Savings rates"
   ]
  },
  {
   "cell_type": "code",
   "execution_count": 42,
   "id": "84abf967-3bc3-4659-a6b2-4872a455ed95",
   "metadata": {},
   "outputs": [],
   "source": [
    "s2010 = 100*pd.Series([model.savingsRate(sol[(θ,ϵ)]['Θs'], sol[(θ,ϵ)]['Θh']).xs(0) for θ,ϵ in idx_], index = idx_)\n",
    "df_s2010 = s2010.unstack(θgrid.name)[θgrid]"
   ]
  },
  {
   "cell_type": "markdown",
   "id": "1518e64a-d09e-478c-acef-8d0759a8b954",
   "metadata": {},
   "source": [
    "*Plot:*"
   ]
  },
  {
   "cell_type": "code",
   "execution_count": 43,
   "id": "6203ab90-a9ac-4e1d-901e-831c35bc4a8a",
   "metadata": {},
   "outputs": [],
   "source": [
    "%%capture\n",
    "# Create plot:\n",
    "fig, ax = plt.subplots(1, 1, figsize = (14, 8));\n",
    "seaborn.lineplot(data = df_s2010, linewidth = .25, dashes=False, palette = palette, ax = ax, alpha = .75, legend = False);\n",
    "for i in range(df_s2010.shape[1]-1):\n",
    "    ax.fill_between(df_s2010.index, df_s2010.iloc[:,i], df_s2010.iloc[:,i+1], alpha = mapAlpha, color = ax.get_lines()[i].get_color())\n",
    "ax.set_ylabel('$s_{2010}$ (% of GDP)')\n",
    "\n",
    "# Add baseline marker:\n",
    "addBaselineMarker(ax, baseline, s2010, 0.01, .8, adhocAdj = -0.05)\n",
    "# Add post-reform marker:\n",
    "addBaselineMarker(ax, solBasicCoverage, s2010, 0.01, .7, adhocAdj = -0.05, name = 'Basic coverage')\n",
    "\n",
    "sm = plt.cm.ScalarMappable(cmap = colormap, norm = plt.Normalize(min(θgrid), max(θgrid)))\n",
    "cbar = ax.figure.colorbar(sm, ax = ax, location = 'top', shrink = .75);\n",
    "cbar.set_label('$\\\\theta$');\n",
    "fig.tight_layout()\n",
    "fig.savefig(os.path.join(d['figs'], 's_functionOfParameters_Argentina.pdf'), edgecolor='k')"
   ]
  },
  {
   "cell_type": "markdown",
   "id": "cbb829e4-27c1-48c3-b179-fe2a393e6b45",
   "metadata": {},
   "source": [
    "Split the effect into two components: The economic equilibrium (EE) and the PEE tax rates. The counterfactual solves the economic equilibrium *given* baseline tax rates (i.e. ignores the PEE channel):"
   ]
  },
  {
   "cell_type": "code",
   "execution_count": 44,
   "id": "6a2c8bd5-6e70-4a15-9cd9-4c1f2f1c5dd4",
   "metadata": {},
   "outputs": [],
   "source": [
    "s2010_EE = 100 * pd.Series([model.savingsRate(sol_cf[(θ, ϵ)]['Θs'], sol_cf[(θ, ϵ)]['Θh']).xs(0) for θ, ϵ in idx_], index = idx_)\n",
    "Δs_EE = s2010_EE-s2010.xs((baseline['θ'].xs(0), baseline['eps'].xs(0)))\n",
    "df_s_EE = Δs_EE.unstack(θgrid.name)[θgrid]"
   ]
  },
  {
   "cell_type": "markdown",
   "id": "5b5da02c-d801-4eee-aebd-3808997297ff",
   "metadata": {},
   "source": [
    "We define the PEE part residually, comparing the baseline (with both effects)"
   ]
  },
  {
   "cell_type": "code",
   "execution_count": 45,
   "id": "2bff735f-6ec9-47f6-b24f-12771015e560",
   "metadata": {},
   "outputs": [],
   "source": [
    "Δs_PEE = s2010-s2010_EE\n",
    "df_s_PEE = Δs_PEE.unstack(θgrid.name)[θgrid]"
   ]
  },
  {
   "cell_type": "markdown",
   "id": "966ed1d8-b7c1-4cc3-88de-497104a5ba1a",
   "metadata": {},
   "source": [
    "Plot this:"
   ]
  },
  {
   "cell_type": "code",
   "execution_count": 46,
   "id": "2fc336a5-2554-4df0-84cf-a398756608cd",
   "metadata": {},
   "outputs": [],
   "source": [
    "%%capture\n",
    "mult_graphs()\n",
    "pltKwargs = {'ms': 5, 'fontsize': 13, 'arrWidth': 1.5, 'arrHeadWidth': 5, 'arrHeadLen': 5}\n",
    "fig, axes = plt.subplots(1,2, figsize = (14,6));\n",
    "\n",
    "# EE effect:\n",
    "ax = plt.subplot(1,2,1)\n",
    "seaborn.lineplot(data = df_s_EE, linewidth = .25, dashes=False, palette = palette, ax = ax, alpha = .75, legend = False);\n",
    "for i in range(df_s_EE.shape[1]-1):\n",
    "    ax.fill_between(df_s_EE.index, df_s_EE.iloc[:,i], df_s_EE.iloc[:,i+1], alpha = mapAlpha, color = ax.get_lines()[i].get_color())\n",
    "dfAx(ax, .25, ylabel = '$\\Delta s_{2010}$ (% GDP)');\n",
    "_min = Δs_EE.xs(baseline['eps'].xs(0), level = ϵgrid.name).min()\n",
    "addBaselineMarker(ax, baseline, Δs_EE, 0.01, _min-0.1, adhocAdj = .05, **pltKwargs)\n",
    "addBaselineMarker(ax, solBasicCoverage, Δs_EE, 0.01, _min-0.1, adhocAdj = .05, name = 'Basic coverage', **pltKwargs)\n",
    "ax.set_title('Economic Eq. Effect', fontsize = 16);\n",
    "\n",
    "# PEE effect:\n",
    "ax = plt.subplot(1,2,2)\n",
    "seaborn.lineplot(data = df_s_PEE, linewidth = .25, dashes=False, palette = palette, ax = ax, alpha = .75, legend = False);\n",
    "for i in range(df_s_PEE.shape[1]-1):\n",
    "    ax.fill_between(df_s_PEE.index, df_s_PEE.iloc[:,i], df_s_PEE.iloc[:,i+1], alpha = mapAlpha, color = ax.get_lines()[i].get_color())\n",
    "dfAx(ax, .25, ylabel = '$\\Delta s_{2010}$');\n",
    "_max = Δs_PEE.xs(baseline['eps'].xs(0), level = ϵgrid.name).max()\n",
    "addBaselineMarker(ax, baseline, Δs_PEE, 0.01, _max+0.25, adhocAdj = -0.1, **pltKwargs)\n",
    "addBaselineMarker(ax, solBasicCoverage, Δs_PEE, 0.01, _max+0.25, adhocAdj = -0.1, name = 'Basic coverage', **pltKwargs)\n",
    "ax.set_title('Policy Effect (% GDP)', fontsize = 16);\n",
    "\n",
    "plt.subplots_adjust(top = .8);\n",
    "sm = plt.cm.ScalarMappable(cmap = colormap, norm = plt.Normalize(min(θgrid), max(θgrid)))\n",
    "cb_ax = fig.add_axes([0.25, 0.86, 0.5, 0.03])\n",
    "cbar = fig.colorbar(sm, cax=cb_ax, location = 'top', shrink = .75);\n",
    "cbar.set_label('$\\\\theta$');\n",
    "fig.savefig(os.path.join(d['figs'], 's_deComp_functionOfParameters_Argentina.pdf'), edgecolor='k')"
   ]
  },
  {
   "cell_type": "markdown",
   "id": "b6ef1a2f-e135-4cc1-8d49-ab9d4cb604d2",
   "metadata": {
    "tags": []
   },
   "source": [
    "#### Labor market participation"
   ]
  },
  {
   "cell_type": "code",
   "execution_count": 47,
   "id": "7b173682-60df-4873-a496-9b2c2e724836",
   "metadata": {},
   "outputs": [],
   "source": [
    "h2010 = pd.Series([sol[(θ,ϵ)]['h'].xs(0) for θ, ϵ in idx_], index = idx_) * hBase / baseline['h'].xs(0)\n",
    "df_h2010 = h2010.unstack(θgrid.name)[θgrid]"
   ]
  },
  {
   "cell_type": "markdown",
   "id": "64f64e8e-395f-472b-97b2-ae5b76877a86",
   "metadata": {},
   "source": [
    "*Plot:*"
   ]
  },
  {
   "cell_type": "code",
   "execution_count": 48,
   "id": "0af2786d-0cd1-4257-b8aa-aa6ad46f2629",
   "metadata": {},
   "outputs": [],
   "source": [
    "%%capture\n",
    "# Create plot:\n",
    "fig, ax = plt.subplots(1, 1, figsize = (14, 8));\n",
    "seaborn.lineplot(data = df_h2010, linewidth = .25, dashes=False, palette = palette, ax = ax, alpha = .75, legend = False);\n",
    "for i in range(df_h2010.shape[1]-1):\n",
    "    ax.fill_between(df_h2010.index, df_h2010.iloc[:,i], df_h2010.iloc[:,i+1], alpha = mapAlpha, color = ax.get_lines()[i].get_color())\n",
    "ax.set_ylabel('Avg. workweek (hours)')\n",
    "\n",
    "# Add baseline marker:\n",
    "addBaselineMarker(ax, baseline, h2010, 0.01, .6, adhocAdj = -0.05)\n",
    "# Add post-reform marker:\n",
    "addBaselineMarker(ax, solBasicCoverage, h2010, 0.01, .6, adhocAdj = -0.05, name = 'Basic coverage')\n",
    "\n",
    "sm = plt.cm.ScalarMappable(cmap = colormap, norm = plt.Normalize(min(θgrid), max(θgrid)))\n",
    "cbar = ax.figure.colorbar(sm, ax = ax, location = 'top', shrink = .75);\n",
    "cbar.set_label('$\\\\theta$');\n",
    "fig.tight_layout()\n",
    "fig.savefig(os.path.join(d['figs'], 'h_functionOfParameters_Argentina.pdf'), edgecolor='k')"
   ]
  },
  {
   "cell_type": "markdown",
   "id": "cc7e8ee3-92b7-4484-8465-ccbce36e3c78",
   "metadata": {},
   "source": [
    "Split the effect into two components: The economic equilibrium (EE) and the PEE tax rates. The counterfactual solves the economic equilibrium *given* baseline tax rates (i.e. ignores the PEE channel):"
   ]
  },
  {
   "cell_type": "code",
   "execution_count": 49,
   "id": "451a03fe-3b21-4147-95e8-03dfc733d62a",
   "metadata": {},
   "outputs": [],
   "source": [
    "h2010_EE = pd.Series([sol_cf[(θ, ϵ)]['h'].xs(0) for θ, ϵ in idx_], index = idx_) * hBase / baseline['h'].xs(0)\n",
    "Δh_EE = h2010_EE-h2010.xs((baseline['θ'].xs(0), baseline['eps'].xs(0)))\n",
    "df_h_EE = Δh_EE.unstack(θgrid.name)[θgrid]"
   ]
  },
  {
   "cell_type": "markdown",
   "id": "58c09bc3-1a34-49d9-a633-e2e484ba8383",
   "metadata": {},
   "source": [
    "We define the PEE part residually, comparing the baseline (with both effects)"
   ]
  },
  {
   "cell_type": "code",
   "execution_count": 50,
   "id": "78519b67-ba05-4ee9-b02f-cb63b32ef766",
   "metadata": {},
   "outputs": [],
   "source": [
    "Δh_PEE = h2010-h2010_EE\n",
    "df_h_PEE = Δh_PEE.unstack(θgrid.name)[θgrid]"
   ]
  },
  {
   "cell_type": "markdown",
   "id": "4533e5db-39b4-4744-9640-d7dd28ac9737",
   "metadata": {},
   "source": [
    "Plot this:"
   ]
  },
  {
   "cell_type": "code",
   "execution_count": 51,
   "id": "bc1d614b-c080-4d00-8426-4a81f0499140",
   "metadata": {},
   "outputs": [],
   "source": [
    "%%capture\n",
    "mult_graphs()\n",
    "pltKwargs = {'ms': 5, 'fontsize': 13, 'arrWidth': 1.5, 'arrHeadWidth': 5, 'arrHeadLen': 5}\n",
    "fig, axes = plt.subplots(1,2, figsize = (14,6));\n",
    "\n",
    "# EE effect:\n",
    "ax = plt.subplot(1,2,1)\n",
    "seaborn.lineplot(data = df_h_EE, linewidth = .25, dashes=False, palette = palette, ax = ax, alpha = .75, legend = False);\n",
    "for i in range(df_h_EE.shape[1]-1):\n",
    "    ax.fill_between(df_h_EE.index, df_h_EE.iloc[:,i], df_h_EE.iloc[:,i+1], alpha = mapAlpha, color = ax.get_lines()[i].get_color())\n",
    "dfAx(ax, .25, ylabel = '$\\Delta h_{2010}$ (hours)');\n",
    "_max = Δh_EE.xs(baseline['eps'].xs(0), level = ϵgrid.name).max()\n",
    "addBaselineMarker(ax, baseline, Δh_EE, 0.01, _max, adhocAdj = -.01, **pltKwargs)\n",
    "addBaselineMarker(ax, solBasicCoverage, Δh_EE, 0.01, _max, adhocAdj = -.01, name = 'Basic coverage', **pltKwargs)\n",
    "ax.set_title('Economic Eq. Effect', fontsize = 16);\n",
    "\n",
    "# PEE effect:\n",
    "ax = plt.subplot(1,2,2)\n",
    "seaborn.lineplot(data = df_h_PEE, linewidth = .25, dashes=False, palette = palette, ax = ax, alpha = .75, legend = False);\n",
    "for i in range(df_h_PEE.shape[1]-1):\n",
    "    ax.fill_between(df_h_PEE.index, df_h_PEE.iloc[:,i], df_h_PEE.iloc[:,i+1], alpha = mapAlpha, color = ax.get_lines()[i].get_color())\n",
    "dfAx(ax, .25, ylabel = '$\\Delta h_{2010}$ (hours)');\n",
    "_max = Δh_PEE.xs(baseline['eps'].xs(0), level = ϵgrid.name).max()\n",
    "addBaselineMarker(ax, baseline, Δh_PEE, 0.01, _max+0.05, adhocAdj = -.01, **pltKwargs)\n",
    "addBaselineMarker(ax, solBasicCoverage, Δh_PEE, 0.01, _max+0.05, adhocAdj = -.01, name = 'Basic coverage', **pltKwargs)\n",
    "ax.set_title('Policy Effect', fontsize = 16);\n",
    "\n",
    "plt.subplots_adjust(top = .8);\n",
    "sm = plt.cm.ScalarMappable(cmap = colormap, norm = plt.Normalize(min(θgrid), max(θgrid)))\n",
    "cb_ax = fig.add_axes([0.25, 0.86, 0.5, 0.03])\n",
    "cbar = fig.colorbar(sm, cax=cb_ax, location = 'top', shrink = .75);\n",
    "cbar.set_label('$\\\\theta$');\n",
    "fig.savefig(os.path.join(d['figs'], 'h_deComp_functionOfParameters_Argentina.pdf'), edgecolor='k')"
   ]
  },
  {
   "cell_type": "markdown",
   "id": "d4894bbf-5e1f-4701-aa31-750e1f3ac38d",
   "metadata": {},
   "source": [
    "### EV"
   ]
  },
  {
   "cell_type": "markdown",
   "id": "5f80bdd9-19d9-47ef-96e7-e884cac3c83b",
   "metadata": {},
   "source": [
    "Add the EV measure for the political agent to indicate the aggregate welfare changes:"
   ]
  },
  {
   "cell_type": "code",
   "execution_count": 52,
   "id": "a0d5ad92-47bc-4873-ae5f-799f397b76bb",
   "metadata": {},
   "outputs": [],
   "source": [
    "EV2010 = 100 * pd.Series([sol[(θ,ϵ)]['transfer_Pol'].xs(0) for θ,ϵ in idx_], index = idx_)\n",
    "df_EV2010 = EV2010.unstack(θgrid.name)[θgrid]"
   ]
  },
  {
   "cell_type": "markdown",
   "id": "51b25655-d566-4662-bdcc-37aec56bb950",
   "metadata": {},
   "source": [
    "*Plot:*"
   ]
  },
  {
   "cell_type": "code",
   "execution_count": 53,
   "id": "df10d34e-9564-4622-9475-50dab7ae5eed",
   "metadata": {},
   "outputs": [],
   "source": [
    "%%capture\n",
    "fig, ax = plt.subplots(1, 1, figsize = (14, 8));\n",
    "seaborn.lineplot(data = df_EV2010, linewidth = .25, dashes=False, palette = palette, ax = ax, alpha = .75, legend = False);\n",
    "for i in range(df_EV2010.shape[1]-1):\n",
    "    ax.fill_between(df_EV2010.index, df_EV2010.iloc[:,i], df_EV2010.iloc[:,i+1], alpha = mapAlpha, color = ax.get_lines()[i].get_color())\n",
    "dfAx(ax, .25, ylabel = 'EV (% of consumption)');\n",
    "\n",
    "# Add baseline marker:\n",
    "addBaselineMarker(ax, baseline, EV2010, 0.01, .3)\n",
    "# Add post-reform marker:\n",
    "addBaselineMarker(ax, solBasicCoverage, EV2010, 0.01, .3, name = 'Basic coverage')\n",
    "\n",
    "sm = plt.cm.ScalarMappable(cmap = colormap, norm = plt.Normalize(min(θgrid), max(θgrid)))\n",
    "cbar = ax.figure.colorbar(sm, ax = ax, location = 'top', shrink = .75);\n",
    "cbar.set_label('$\\\\theta$');\n",
    "fig.tight_layout()\n",
    "fig.savefig(os.path.join(d['figs'], 'EVpol_functionOfParameters_Argentina.pdf'), edgecolor='k')"
   ]
  },
  {
   "cell_type": "markdown",
   "id": "3320aeed-1105-4ea7-9caa-b1e6b683f04d",
   "metadata": {},
   "source": [
    "Split the effect into two components: The economic equilibrium (EE) and the PEE tax rates. The counterfactual solves the economic equilibrium *given* baseline tax rates (i.e. ignores the PEE channel):"
   ]
  },
  {
   "cell_type": "code",
   "execution_count": 54,
   "id": "aa85323e-e706-4fc4-b11e-d0e518992872",
   "metadata": {},
   "outputs": [],
   "source": [
    "EV2010_EE = 100 * pd.Series([sol_cf[(θ, ϵ)]['transfer_Pol'].xs(0) for θ, ϵ in idx_], index = idx_)\n",
    "ΔEV_EE = EV2010_EE-EV2010.xs((baseline['θ'].xs(0), baseline['eps'].xs(0)))\n",
    "df_EV_EE = ΔEV_EE.unstack(θgrid.name)[θgrid]"
   ]
  },
  {
   "cell_type": "markdown",
   "id": "e177d0d9-ff00-4b95-b6c3-8fe22814a214",
   "metadata": {},
   "source": [
    "We define the PEE part residually, comparing the baseline (with both effects)"
   ]
  },
  {
   "cell_type": "code",
   "execution_count": 55,
   "id": "8504960a-5642-490f-8104-f6661df7f4de",
   "metadata": {},
   "outputs": [],
   "source": [
    "ΔEV_PEE = EV2010-EV2010_EE\n",
    "df_EV_PEE = ΔEV_PEE.unstack(θgrid.name)[θgrid]"
   ]
  },
  {
   "cell_type": "markdown",
   "id": "265e9f3e-6462-4aaa-a232-5c33f959b834",
   "metadata": {},
   "source": [
    "Plot this:"
   ]
  },
  {
   "cell_type": "code",
   "execution_count": 56,
   "id": "ae1ee625-da18-4dff-92be-aebe6d1b6c1b",
   "metadata": {},
   "outputs": [],
   "source": [
    "%%capture\n",
    "mult_graphs()\n",
    "pltKwargs = {'ms': 5, 'fontsize': 13, 'arrWidth': 1.5, 'arrHeadWidth': 5, 'arrHeadLen': 5}\n",
    "fig, axes = plt.subplots(1,2, figsize = (14,6));\n",
    "\n",
    "# EE effect:\n",
    "ax = plt.subplot(1,2,1)\n",
    "seaborn.lineplot(data = df_EV_EE, linewidth = .25, dashes=False, palette = palette, ax = ax, alpha = .75, legend = False);\n",
    "for i in range(df_EV_EE.shape[1]-1):\n",
    "    ax.fill_between(df_EV_EE.index, df_EV_EE.iloc[:,i], df_EV_EE.iloc[:,i+1], alpha = mapAlpha, color = ax.get_lines()[i].get_color())\n",
    "dfAx(ax, .25, ylabel = 'EV (% of consumption)');\n",
    "_max = ΔEV_EE.xs(baseline['eps'].xs(0), level = ϵgrid.name).max()\n",
    "addBaselineMarker(ax, baseline, ΔEV_EE, 0.01, _max, adhocAdj = -.01, **pltKwargs)\n",
    "addBaselineMarker(ax, solBasicCoverage, ΔEV_EE, 0.01, _max, adhocAdj = -.01, name = 'Basic coverage', **pltKwargs)\n",
    "ax.set_title('Economic Eq. Effect', fontsize = 16);\n",
    "\n",
    "# PEE effect:\n",
    "ax = plt.subplot(1,2,2)\n",
    "seaborn.lineplot(data = df_EV_PEE, linewidth = .25, dashes=False, palette = palette, ax = ax, alpha = .75, legend = False);\n",
    "for i in range(df_EV_PEE.shape[1]-1):\n",
    "    ax.fill_between(df_EV_PEE.index, df_EV_PEE.iloc[:,i], df_EV_PEE.iloc[:,i+1], alpha = mapAlpha, color = ax.get_lines()[i].get_color())\n",
    "dfAx(ax, .25, ylabel = 'EV (% of consumption)');\n",
    "_max = ΔEV_PEE.xs(baseline['eps'].xs(0), level = ϵgrid.name).max()\n",
    "addBaselineMarker(ax, baseline, ΔEV_PEE, 0.01, _max+0.05, adhocAdj = -.01, **pltKwargs)\n",
    "addBaselineMarker(ax, solBasicCoverage, ΔEV_PEE, 0.01, _max+0.05, adhocAdj = -.01, name = 'Basic coverage', **pltKwargs)\n",
    "ax.set_title('Policy Effect', fontsize = 16);\n",
    "\n",
    "plt.subplots_adjust(top = .8);\n",
    "sm = plt.cm.ScalarMappable(cmap = colormap, norm = plt.Normalize(min(θgrid), max(θgrid)))\n",
    "cb_ax = fig.add_axes([0.25, 0.86, 0.5, 0.03])\n",
    "cbar = fig.colorbar(sm, cax=cb_ax, location = 'top', shrink = .75);\n",
    "cbar.set_label('$\\\\theta$');\n",
    "fig.savefig(os.path.join(d['figs'], 'EV_deComp_functionOfParameters_Argentina.pdf'), edgecolor='k')"
   ]
  },
  {
   "cell_type": "markdown",
   "id": "2bf32aa5-87f5-4066-a38f-df99938e36a5",
   "metadata": {},
   "source": [
    "### Plot all 4 in one:"
   ]
  },
  {
   "cell_type": "code",
   "execution_count": 57,
   "id": "6376e660-d943-4cee-bbfe-8557165fc68d",
   "metadata": {},
   "outputs": [],
   "source": [
    "%%capture\n",
    "mult_graphs()\n",
    "fig, axes = plt.subplots(2,2, figsize = (14,8));\n",
    "# PEE RATES\n",
    "ax = plt.subplot(2,2,1); \n",
    "seaborn.lineplot(data = df_τ2010, linewidth = .25, dashes=False, palette = palette, ax = ax, alpha = .75, legend = False);\n",
    "for i in range(df_τ2010.shape[1]-1):\n",
    "    ax.fill_between(df_τ2010.index, df_τ2010.iloc[:,i], df_τ2010.iloc[:,i+1], alpha = mapAlpha, color = ax.get_lines()[i].get_color())\n",
    "dfAx(ax, .25, ylabel = '$\\\\tau_{2010}$');\n",
    "\n",
    "pltKwargs = {'ms': 5, 'fontsize': 13, 'arrWidth': 1.5, 'arrHeadWidth': 5, 'arrHeadLen': 5}\n",
    "# Add baseline marker:\n",
    "addBaselineMarker(ax, baseline, τ2010, 0.01, -0.035, adhocAdj = 0.01, **pltKwargs)\n",
    "# Add post-reform marker:\n",
    "addBaselineMarker(ax, solBasicCoverage, τ2010, 0.01, -0.035, adhocAdj = 0.01, name = 'Basic coverage', **pltKwargs)\n",
    "\n",
    "\n",
    "# Savings rates\n",
    "ax = plt.subplot(2,2,2); \n",
    "seaborn.lineplot(data = df_s2010, linewidth = .25, dashes=False, palette = palette, ax = ax, alpha = .75, legend = False);\n",
    "for i in range(df_s2010.shape[1]-1):\n",
    "    ax.fill_between(df_s2010.index, df_s2010.iloc[:,i], df_s2010.iloc[:,i+1], alpha = mapAlpha, color = ax.get_lines()[i].get_color())\n",
    "ax.set_ylabel('$s_{2010}$ (% of GDP)')\n",
    "\n",
    "# Add baseline marker:\n",
    "addBaselineMarker(ax, baseline, s2010, 0.01, .8, adhocAdj = -0.05, **pltKwargs)\n",
    "# Add post-reform marker:\n",
    "addBaselineMarker(ax, solBasicCoverage, s2010, 0.01, .7, adhocAdj = -0.05, name = 'Basic coverage', **pltKwargs)\n",
    "\n",
    "# Labor supply\n",
    "ax = plt.subplot(2,2,3); \n",
    "seaborn.lineplot(data = df_h2010, linewidth = .25, dashes=False, palette = palette, ax = ax, alpha = .75, legend = False);\n",
    "for i in range(df_h2010.shape[1]-1):\n",
    "    ax.fill_between(df_h2010.index, df_h2010.iloc[:,i], df_h2010.iloc[:,i+1], alpha = mapAlpha, color = ax.get_lines()[i].get_color())\n",
    "ax.set_ylabel('Avg. workweek (hours)')\n",
    "\n",
    "# Add baseline marker:\n",
    "addBaselineMarker(ax, baseline, h2010, 0.01, .6, adhocAdj = -0.05, **pltKwargs)\n",
    "# Add post-reform marker:\n",
    "addBaselineMarker(ax, solBasicCoverage, h2010, 0.01, .6, adhocAdj = -0.05, name = 'Basic coverage', **pltKwargs)\n",
    "\n",
    "# EV, political agent\n",
    "ax = plt.subplot(2,2,4);\n",
    "seaborn.lineplot(data = df_EV2010, linewidth = .25, dashes=False, palette = palette, ax = ax, alpha = .75, legend = False);\n",
    "for i in range(df_EV2010.shape[1]-1):\n",
    "    ax.fill_between(df_EV2010.index, df_EV2010.iloc[:,i], df_EV2010.iloc[:,i+1], alpha = mapAlpha, color = ax.get_lines()[i].get_color())\n",
    "dfAx(ax, .25, ylabel = 'EV (% of consumption)');\n",
    "\n",
    "# Add baseline marker:\n",
    "addBaselineMarker(ax, baseline, EV2010, 0.01, .4, **pltKwargs)\n",
    "# Add post-reform marker:\n",
    "addBaselineMarker(ax, solBasicCoverage, EV2010, 0.01, .4, name = 'Basic coverage', **pltKwargs)\n",
    "\n",
    "sm = plt.cm.ScalarMappable(cmap = colormap, norm = plt.Normalize(min(θgrid), max(θgrid)))\n",
    "cb_ax = fig.add_axes([0.25, 0.89, 0.5, 0.03])\n",
    "cbar = fig.colorbar(sm, cax=cb_ax, location = 'top', shrink = .75);\n",
    "cbar.set_label('$\\\\theta$');\n",
    "fig.savefig(os.path.join(d['figs'], '_functionOfParameters_Argentina.pdf'), edgecolor='k')"
   ]
  },
  {
   "cell_type": "markdown",
   "id": "86b5924a-cb8b-4435-9def-7508e4082bfd",
   "metadata": {},
   "source": [
    "### 4.6. Visualize the effect on different types of houesholds (equivalent variation)"
   ]
  },
  {
   "cell_type": "markdown",
   "id": "efbb218a-8965-4efd-90a2-c801b993699c",
   "metadata": {},
   "source": [
    "#### Subplots with fan-plots of EV for each agent"
   ]
  },
  {
   "cell_type": "markdown",
   "id": "f04837bc-3dc0-4799-80fb-65b6d5978b12",
   "metadata": {},
   "source": [
    "*Young:*"
   ]
  },
  {
   "cell_type": "code",
   "execution_count": 53,
   "id": "b1846d74-a9fd-4593-a9aa-a7984218487d",
   "metadata": {},
   "outputs": [],
   "source": [
    "EV_young = 100 * pd.concat([sol[(θ, ϵ)]['transfer_Y'].xs(0, level = 't') for θ,ϵ in idx_], axis = 1, keys = idx_).stack(level=idx_.names).unstack('i')"
   ]
  },
  {
   "cell_type": "markdown",
   "id": "4c1459a9-54eb-4802-96e4-8c11a1f90f36",
   "metadata": {},
   "source": [
    "Print separately:"
   ]
  },
  {
   "cell_type": "code",
   "execution_count": 54,
   "id": "e4537de8-7f84-4ae6-bc79-8bb337bcc54a",
   "metadata": {},
   "outputs": [],
   "source": [
    "%%capture\n",
    "one_graph()\n",
    "for j in EV_young.columns:\n",
    "    df_j = EV_young[j].unstack(θgrid.name)[θgrid]\n",
    "    fig, ax = plt.subplots(1,1, figsize = (14,8));\n",
    "    seaborn.lineplot(data = df_j, linewidth = .25, dashes=False, palette = palette, ax = ax, alpha = .75, legend = False);\n",
    "    for i in range(df_j.shape[1]-1):\n",
    "        ax.fill_between(df_j.index, df_j.iloc[:,i], df_j.iloc[:,i+1], alpha = mapAlpha, color = ax.get_lines()[i].get_color())\n",
    "    ax.set_ylabel('EV (% of consumption)')\n",
    "    \n",
    "    #Add baseline marker:\n",
    "    ax.plot(baseline['eps'].xs(0), EV_young[j].xs((baseline['θ'].xs(0), baseline['eps'].xs(0))),'o', color = 'k', ms = 10);\n",
    "    # plt.text(0.12, 43.1, f'Baseline');\n",
    "    # plt.annotate(\"\",xy=(.108, 42.7), xytext=(.12,43.05), arrowprops=dict(width=1.5, color='k', headwidth=7.5, headlength=7.5));\n",
    "\n",
    "    sm = plt.cm.ScalarMappable(cmap = colormap, norm = plt.Normalize(min(θgrid), max(θgrid)))\n",
    "    cbar = ax.figure.colorbar(sm, ax = ax, location = 'top', shrink = .75);\n",
    "    cbar.set_label('$\\\\theta$');\n",
    "    fig.tight_layout()\n",
    "    fig.savefig(os.path.join(d['figs'], f'EV_Y{j}_functionOfParameters_Argentina.pdf'), edgecolor='k')"
   ]
  },
  {
   "cell_type": "markdown",
   "id": "47adfae9-33c6-4698-ab97-3442d0cd3a45",
   "metadata": {},
   "source": [
    "Print in one:"
   ]
  },
  {
   "cell_type": "code",
   "execution_count": 55,
   "id": "eb0ad260-ff44-4700-b018-df78d49aecab",
   "metadata": {},
   "outputs": [],
   "source": [
    "%%capture\n",
    "mult_graphs()\n",
    "pltKwargs = {'ms': 5, 'fontsize': 13, 'arrWidth': 1.5, 'arrHeadWidth': 5, 'arrHeadLen': 5}\n",
    "fig, axes = plt.subplots(2,2, figsize = (14,8));\n",
    "# PEE RATES\n",
    "for j in EV_young.columns:\n",
    "    df_j = EV_young[j].unstack(θgrid.name)[θgrid]\n",
    "    ax = plt.subplot(2,2,j+1);\n",
    "    seaborn.lineplot(data = df_j, linewidth = .25, dashes=False, palette = palette, ax = ax, alpha = .75, legend = False);\n",
    "    for i in range(df_j.shape[1]-1):\n",
    "        ax.fill_between(df_j.index, df_j.iloc[:,i], df_j.iloc[:,i+1], alpha = mapAlpha, color = ax.get_lines()[i].get_color())\n",
    "    dfAx(ax, .25, ylabel = 'EV');\n",
    "    \n",
    "    _min = EV_young[j].xs(baseline['eps'].xs(0), level = ϵgrid.name).min()\n",
    "    # Add baseline marker:\n",
    "    addBaselineMarker(ax, baseline, EV_young[j], 0.01, _min-.5, adhocAdj = 0.5 if j!=1 else 0.1, **pltKwargs)\n",
    "    # Add post-reform marker:\n",
    "    addBaselineMarker(ax, solBasicCoverage, EV_young[j], 0.01, _min-.5, adhocAdj = 0.5 if j!=1 else 0.1, name = 'Basic coverage', **pltKwargs)\n",
    "    ax.set_title(f'{typeLabels[j]}', fontsize = 16);\n",
    "\n",
    "\n",
    "plt.subplots_adjust(hspace=0.4, top = .85);\n",
    "sm = plt.cm.ScalarMappable(cmap = colormap, norm = plt.Normalize(min(θgrid), max(θgrid)))\n",
    "cb_ax = fig.add_axes([0.25, 0.89, 0.5, 0.03])\n",
    "cbar = fig.colorbar(sm, cax=cb_ax, location = 'top', shrink = .75);\n",
    "cbar.set_label('$\\\\theta$');\n",
    "fig.savefig(os.path.join(d['figs'], 'EV_Young_functionOfParameters_Argentina.pdf'), edgecolor='k')"
   ]
  },
  {
   "cell_type": "markdown",
   "id": "cb9d1dc3-4446-40e3-80ad-cc8183167acb",
   "metadata": {},
   "source": [
    "*Retirees:*"
   ]
  },
  {
   "cell_type": "code",
   "execution_count": 56,
   "id": "4edacd80-a681-45a9-8243-d53262b018cb",
   "metadata": {},
   "outputs": [],
   "source": [
    "EV_old = 100 * pd.concat([sol[(θ, ϵ)]['transfer_O'].xs(0, level = 't') for θ,ϵ in idx_], axis = 1, keys = idx_).stack(level=idx_.names).unstack('i')"
   ]
  },
  {
   "cell_type": "markdown",
   "id": "e7544277-57a6-44b9-be90-bedbfebc0fac",
   "metadata": {},
   "source": [
    "Print separately:"
   ]
  },
  {
   "cell_type": "code",
   "execution_count": 57,
   "id": "71b882e1-26d2-4755-90e7-8fa190e33aa8",
   "metadata": {},
   "outputs": [],
   "source": [
    "%%capture\n",
    "for j in EV_old.columns:\n",
    "    df_j = EV_old[j].unstack(θgrid.name)[θgrid]\n",
    "    fig, ax = plt.subplots(1,1, figsize = (14,8));\n",
    "    seaborn.lineplot(data = df_j, linewidth = .25, dashes=False, palette = palette, ax = ax, alpha = .75, legend = False);\n",
    "    for i in range(df_j.shape[1]-1):\n",
    "        ax.fill_between(df_j.index, df_j.iloc[:,i], df_j.iloc[:,i+1], alpha = mapAlpha, color = ax.get_lines()[i].get_color())\n",
    "    dfAx(ax, .25, ylabel = 'EV (% of consumption)')\n",
    "    \n",
    "    #Add baseline marker:\n",
    "    _max = EV_old[j].xs(baseline['eps'].xs(0), level = ϵgrid.name).max()\n",
    "    addBaselineMarker(ax, baseline, EV_old[j], 0.01, _max+.5, adhocAdj = -0.5 if j!=1 else 0.1, **pltKwargs)\n",
    "    addBaselineMarker(ax, solBasicCoverage, EV_old[j], 0.01, _max+.5, adhocAdj = -0.5 if j!=1 else 0.1, name = 'Basic coverage', **pltKwargs)\n",
    "    \n",
    "    sm = plt.cm.ScalarMappable(cmap = colormap, norm = plt.Normalize(min(θgrid), max(θgrid)))\n",
    "    cbar = ax.figure.colorbar(sm, ax = ax, location = 'top', shrink = .75);\n",
    "    cbar.set_label('$\\\\theta$');\n",
    "    fig.tight_layout()\n",
    "    fig.savefig(os.path.join(d['figs'], f'EV_O{j}_functionOfParameters_Argentina.pdf'), edgecolor='k')"
   ]
  },
  {
   "cell_type": "markdown",
   "id": "57d23bde-97d7-43c5-9226-0b04da50e027",
   "metadata": {},
   "source": [
    "Print in one:"
   ]
  },
  {
   "cell_type": "code",
   "execution_count": 58,
   "id": "6b54f33c-7dd8-4d6c-8488-fcc0c6f9d059",
   "metadata": {},
   "outputs": [],
   "source": [
    "%%capture\n",
    "mult_graphs()\n",
    "pltKwargs = {'ms': 5, 'fontsize': 13, 'arrWidth': 1.5, 'arrHeadWidth': 5, 'arrHeadLen': 5}\n",
    "fig, axes = plt.subplots(2,2, figsize = (14,8));\n",
    "# PEE RATES\n",
    "for j in EV_old.columns:\n",
    "    df_j = EV_old[j].unstack(θgrid.name)[θgrid]\n",
    "    ax = plt.subplot(2,2,j+1);\n",
    "    seaborn.lineplot(data = df_j, linewidth = .25, dashes=False, palette = palette, ax = ax, alpha = .75, legend = False);\n",
    "    for i in range(df_j.shape[1]-1):\n",
    "        ax.fill_between(df_j.index, df_j.iloc[:,i], df_j.iloc[:,i+1], alpha = mapAlpha, color = ax.get_lines()[i].get_color())\n",
    "    dfAx(ax, .25, ylabel = 'EV');\n",
    "    \n",
    "    _max = EV_old[j].xs(baseline['eps'].xs(0), level = ϵgrid.name).max()\n",
    "    addBaselineMarker(ax, baseline, EV_old[j], 0.01, _max+.5, adhocAdj = -0.5 if j!=1 else 0.1, **pltKwargs)\n",
    "    addBaselineMarker(ax, solBasicCoverage, EV_old[j], 0.01, _max+.5, adhocAdj = -0.5 if j!=1 else 0.1, name = 'Basic coverage', **pltKwargs)\n",
    "    ax.set_title(f'{typeLabels[j]}', fontsize = 16);\n",
    "\n",
    "\n",
    "plt.subplots_adjust(hspace=0.4, top = .85);\n",
    "sm = plt.cm.ScalarMappable(cmap = colormap, norm = plt.Normalize(min(θgrid), max(θgrid)))\n",
    "cb_ax = fig.add_axes([0.25, 0.89, 0.5, 0.03])\n",
    "cbar = fig.colorbar(sm, cax=cb_ax, location = 'top', shrink = .75);\n",
    "cbar.set_label('$\\\\theta$');\n",
    "fig.savefig(os.path.join(d['figs'], 'EV_Old_functionOfParameters_Argentina.pdf'), edgecolor='k')"
   ]
  },
  {
   "cell_type": "markdown",
   "id": "f58e2a45-365e-4748-bd5f-67c4e17b0c75",
   "metadata": {},
   "source": [
    "*Hand-to-mouth agents:*"
   ]
  },
  {
   "cell_type": "code",
   "execution_count": 59,
   "id": "7875fb13-315a-4b1d-b45f-d70773ea201a",
   "metadata": {},
   "outputs": [],
   "source": [
    "EV_HtM = 100 * pd.concat([pd.Series([sol[(θ, ϵ)][k].xs(0) for θ, ϵ in idx_], index = idx_, name = k) for k in ['transfer_OU', 'transfer_YU']], axis = 1, keys = ['transfer_OU','transfer_YU'])\n",
    "types_HtM = {'transfer_OU': 'Old, hand-to-mouth', 'transfer_YU': 'Young, hand-to-mouth'}"
   ]
  },
  {
   "cell_type": "code",
   "execution_count": 60,
   "id": "f1d2a142-5d4a-45e9-8cfa-01ed55bce034",
   "metadata": {},
   "outputs": [],
   "source": [
    "%%capture\n",
    "mult_graphs()\n",
    "pltKwargs = {'ms': 5, 'fontsize': 13, 'arrWidth': 1.5, 'arrHeadWidth': 5, 'arrHeadLen': 5}\n",
    "fig, axes = plt.subplots(1,2, figsize = (14,6));\n",
    "# PEE RATES\n",
    "for n in range(len(EV_HtM.columns)):\n",
    "    j = EV_HtM.columns[n]\n",
    "    df_j = EV_HtM[j].unstack(θgrid.name)[θgrid]\n",
    "    ax = plt.subplot(1,2,n+1);\n",
    "    seaborn.lineplot(data = df_j, linewidth = .25, dashes=False, palette = palette, ax = ax, alpha = .75, legend = False);\n",
    "    for i in range(df_j.shape[1]-1):\n",
    "        ax.fill_between(df_j.index, df_j.iloc[:,i], df_j.iloc[:,i+1], alpha = mapAlpha, color = ax.get_lines()[i].get_color())\n",
    "    dfAx(ax, .25, ylabel = 'EV');\n",
    "    \n",
    "    _max = EV_HtM[j].xs(baseline['eps'].xs(0), level = ϵgrid.name).max()\n",
    "    addBaselineMarker(ax, baseline, EV_HtM[j], 0.01, _max+3 if n == 0 else _max+.2, adhocAdj = 0, **pltKwargs)\n",
    "    addBaselineMarker(ax, solBasicCoverage, EV_HtM[j], 0.01, _max+3 if n == 0 else _max+.2, adhocAdj = 0, name = 'Basic coverage', **pltKwargs)\n",
    "    ax.set_title(f'{types_HtM[j]}', fontsize = 16);\n",
    "\n",
    "plt.subplots_adjust(top = .8);\n",
    "sm = plt.cm.ScalarMappable(cmap = colormap, norm = plt.Normalize(min(θgrid), max(θgrid)))\n",
    "cb_ax = fig.add_axes([0.25, 0.86, 0.5, 0.03])\n",
    "cbar = fig.colorbar(sm, cax=cb_ax, location = 'top', shrink = .75);\n",
    "cbar.set_label('$\\\\theta$');\n",
    "fig.savefig(os.path.join(d['figs'], 'EV_HtM_functionOfParameters_Argentina.pdf'), edgecolor='k')"
   ]
  }
 ],
 "metadata": {
  "kernelspec": {
   "display_name": "Python 3 (ipykernel)",
   "language": "python",
   "name": "python3"
  },
  "language_info": {
   "codemirror_mode": {
    "name": "ipython",
    "version": 3
   },
   "file_extension": ".py",
   "mimetype": "text/x-python",
   "name": "python",
   "nbconvert_exporter": "python",
   "pygments_lexer": "ipython3",
   "version": "3.11.4"
  }
 },
 "nbformat": 4,
 "nbformat_minor": 5
}
