{
 "cells": [
  {
   "cell_type": "code",
   "execution_count": 1,
   "id": "7a032fb5-40e3-40fb-99ed-6c9f85a857c3",
   "metadata": {},
   "outputs": [],
   "source": [
    "%run stdPackages.ipynb\n",
    "os.chdir(d['py'])\n",
    "import US_EulerModel_main, US_EulerModel_c, US_EulerModel_policy\n",
    "os.chdir(d['curr'])"
   ]
  },
  {
   "cell_type": "markdown",
   "id": "c812f6e2-0122-43bd-abc7-8dd9852d29c5",
   "metadata": {
    "tags": []
   },
   "source": [
    "# Social Security Design for US (Euler, finite horizon): \n",
    "## Identification of structural parameters $(\\xi, \\theta)$ for 2010 model"
   ]
  },
  {
   "cell_type": "markdown",
   "id": "d702dbf7-79ec-43a7-aec8-dc7811905c84",
   "metadata": {},
   "source": [
    "This notebook considers the model for the US where all household types are \"Euler types\" (e.g. no hand-to-mouth or unemployed). We search the parameter space of the coefficient of relative risk aversion ($\\theta$) and frisch elasticity $(\\xi)$ of households to identify combinations that ensures the model replicates the choice of pension characteristics of 2010.\n",
    "\n",
    "The model uses a finite horizon version to solve for the CRRA model. We revisit the robustness of results in other notebooks."
   ]
  },
  {
   "cell_type": "markdown",
   "id": "1fd055e9-b588-4f2d-a258-040ffdb0deda",
   "metadata": {
    "tags": []
   },
   "source": [
    "## 1. Data and settings"
   ]
  },
  {
   "cell_type": "markdown",
   "id": "5fede2a2-315e-4ae6-b83d-f4540798a530",
   "metadata": {},
   "source": [
    "Data on inputs:"
   ]
  },
  {
   "cell_type": "code",
   "execution_count": 2,
   "id": "6100f2a8-75fe-417e-a2fa-67f49cf418f3",
   "metadata": {},
   "outputs": [],
   "source": [
    "t0date = 1980\n",
    "%run USEuler_Data.ipynb"
   ]
  },
  {
   "cell_type": "markdown",
   "id": "d7d527ad-69e1-4d18-8e10-3825666eaa8e",
   "metadata": {},
   "source": [
    "Initial parameter values and settings:"
   ]
  },
  {
   "cell_type": "code",
   "execution_count": 3,
   "id": "7ca4ea1d-66cd-4892-8c5a-6a602322014c",
   "metadata": {},
   "outputs": [],
   "source": [
    "ω0 = 1.5\n",
    "ngrid = 50"
   ]
  },
  {
   "cell_type": "markdown",
   "id": "983f2976-64aa-4be7-ae80-c5a582abb556",
   "metadata": {},
   "source": [
    "Grid specification for searches over $\\rho, \\xi$:"
   ]
  },
  {
   "cell_type": "code",
   "execution_count": 4,
   "id": "43a31a4a-6a5b-4882-b132-d556f3c5d261",
   "metadata": {},
   "outputs": [],
   "source": [
    "ξ0, ξLower, nξ = .5, .1, 9\n",
    "ρ0, ρLower, nρ = 2.5, 1, 11"
   ]
  },
  {
   "cell_type": "markdown",
   "id": "de80e14c-1224-4b01-860c-440f32a5c44c",
   "metadata": {},
   "source": [
    "Initialize model:"
   ]
  },
  {
   "cell_type": "code",
   "execution_count": 5,
   "id": "564edc93-cf3c-474f-898b-c0c070dcc71c",
   "metadata": {
    "tags": []
   },
   "outputs": [],
   "source": [
    "m = US_EulerModel_main.Model(ngrid = ngrid, ξ = ξ0, ρ = ρ0, ω = ω0, **data)"
   ]
  },
  {
   "cell_type": "markdown",
   "id": "8fcb91e8-e4fe-4061-b32b-dcb863c3da8a",
   "metadata": {},
   "source": [
    "Specify others settings: Size of grids to use in grid search methods and the style of solution to use (see ```USEuler_Policy.ipynb``` on the different methods):"
   ]
  },
  {
   "cell_type": "code",
   "execution_count": 6,
   "id": "1fb5d02e-00e2-46e9-825b-8df8fa9dc725",
   "metadata": {},
   "outputs": [],
   "source": [
    "m.ESC.grids['τ'] = m.ESC.nGrids('τ', 101) # create standard grid with 101 steps for grid searches for τ\n",
    "m.ESC.grids['κ'] = m.ESC.nGrids('κ', 51) # create standard grid with 51 steps for grid searches for κ\n",
    "m.ESC.kwargs_t = {'style': 'VeryRobust'} # use the \"VeryRobust\" style of solving the model.\n",
    "m.ESC.kwargs_T = {'style': 'VeryRobust'} # use the \"VeryRobust\" style of solving the model in terminal state."
   ]
  },
  {
   "cell_type": "markdown",
   "id": "d9c2f687-f293-4d29-a063-4ecd15bc7ea1",
   "metadata": {},
   "source": [
    "## 2. Calibration"
   ]
  },
  {
   "cell_type": "markdown",
   "id": "af78fc41-b0ec-481a-b10a-4b984eee52b4",
   "metadata": {},
   "source": [
    "We calibrate the model on a grid of $\\rho$ values. For each value, it is somewhat straightforward to target policy rates ($\\tau_t$) and interest rates $(R_t)$, but identifying the correct $\\xi$ that ensures a $\\kappa$ target is more tricky. This step is done using an initial grid search (with calibrations of $\\tau_t, R_t$ in each step) and then a subsequent golden-section-like search. Once this is completed, we update $\\rho$ and start over. "
   ]
  },
  {
   "cell_type": "markdown",
   "id": "16fd8400-a628-4e82-aef0-c84a8750c152",
   "metadata": {},
   "source": [
    "*Grids:*"
   ]
  },
  {
   "cell_type": "code",
   "execution_count": 7,
   "id": "47ba7a94-e193-4840-a070-e1ae02283532",
   "metadata": {},
   "outputs": [],
   "source": [
    "β0 = m.US_βinv()\n",
    "ρgrid = np.round(np.linspace(ρ0, ρLower, nρ), 2)\n",
    "ξgrid = np.round(np.linspace(ξ0, ξLower, nξ), 3)"
   ]
  },
  {
   "cell_type": "markdown",
   "id": "22075e6f-5302-4465-a9b1-57a8790fefc3",
   "metadata": {},
   "source": [
    "*Start from pickle instead:*"
   ]
  },
  {
   "cell_type": "code",
   "execution_count": 8,
   "id": "7a765472-80cc-45f9-bb26-cb8cfa3a2d4e",
   "metadata": {},
   "outputs": [],
   "source": [
    "with open(os.path.join(d['data'], 'USEuler1980_gridsearch'), \"rb\") as file:\n",
    "    solsGrid = pickle.load(file)"
   ]
  },
  {
   "cell_type": "markdown",
   "id": "14b75f31-9c65-473d-93b1-e887274c2115",
   "metadata": {},
   "source": [
    "To be able to \"start\" the model from a reasonable parameter range, let us start by solving on a grid of $\\xi$:"
   ]
  },
  {
   "cell_type": "code",
   "execution_count": 9,
   "id": "9ac9519d-14aa-4374-bb26-4d2db6d84c30",
   "metadata": {},
   "outputs": [],
   "source": [
    "# sols0 = m.USCal_OnGrid(ξgrid, data['t0'], var = 'ξ')"
   ]
  },
  {
   "cell_type": "markdown",
   "id": "cf4bd407-8006-4432-b890-0a3bd7f6b1a4",
   "metadata": {},
   "source": [
    "Then, given this, solve on a grid of $\\xi$ for each step. Create a \"break\" variable as follows: If there has been no solution with a sign change on the grid of $\\xi$ yet, keep iterating. The first time a sign change is recorded update local to ```solved```. Then, whenever there is no longer a sign change, stop iteration:"
   ]
  },
  {
   "cell_type": "code",
   "execution_count": 10,
   "id": "7d153d79-66d1-4d5b-8098-92024ddea17a",
   "metadata": {},
   "outputs": [],
   "source": [
    "# solved = False\n",
    "# solsGrid = dict.fromkeys(ξgrid)\n",
    "# for i in range(len(ξgrid)):\n",
    "#     m.db['ξ'] = ξgrid[i]\n",
    "#     m.US_Xi()\n",
    "#     m.db['ω'] = sols0['ω'][i]\n",
    "#     m.db['βi'] = m.US_β(sols0['β'][i])\n",
    "#     solsGrid[m.db['ξ']] = {'ρ' : ρgrid, 'obj': np.empty(ρgrid.size)}\n",
    "#     solsGrid[m.db['ξ']].update({k: solsGrid[m.db['ξ']]['obj'].copy() for k in ('ω','β')})\n",
    "#     for j in range(ρgrid.size):\n",
    "#         solsGrid[m.db['ξ']] = m.USCal_OnGrid_i(data['t0'], solsGrid[m.db['ξ']], j, var = 'ρ')\n",
    "#     # solsGrid[ξgrid[i]] = m.USCal_OnGrid(ρgrid, data['t0'], var = 'ρ')\n",
    "#     if solved is False:\n",
    "#         if np.nonzero(np.diff(np.sign(solsGrid[ξgrid[i]]['obj'])) != 0)[0].size>0:\n",
    "#             solved = True\n",
    "#     else:\n",
    "#         if np.nonzero(np.diff(np.sign(solsGrid[ξgrid[i]]['obj'])) != 0)[0].size == 0:\n",
    "#             break"
   ]
  },
  {
   "cell_type": "markdown",
   "id": "a715a44d-7486-4785-bdcf-ef0d9e90f4ea",
   "metadata": {},
   "source": [
    "Store data:"
   ]
  },
  {
   "cell_type": "code",
   "execution_count": 11,
   "id": "5073744b-b7e1-48f8-9657-92b829e870d1",
   "metadata": {},
   "outputs": [],
   "source": [
    "# with open(os.path.join(d['data'], 'USEuler1980_gridsearch'), \"wb\") as file:\n",
    "#     pickle.dump(solsGrid, file)"
   ]
  },
  {
   "cell_type": "markdown",
   "id": "c0b7f446-3279-47d0-96ba-8daff6f7fe45",
   "metadata": {},
   "source": [
    "### 2.1. Search for solutions on relevant part of grid."
   ]
  },
  {
   "cell_type": "markdown",
   "id": "d10084e2-9611-4e0d-ac93-8e16b90bdac2",
   "metadata": {},
   "source": [
    "Remove ```None``` entries and only keep sign changes:"
   ]
  },
  {
   "cell_type": "code",
   "execution_count": 12,
   "id": "e7971e8a-944f-45b5-ba0c-05996f296de4",
   "metadata": {},
   "outputs": [],
   "source": [
    "solsSignChange = {k: v for k,v in solsGrid.items() if v}\n",
    "solsSignChange = {k: v for k,v in solsSignChange.items() if np.nonzero(np.diff(np.sign(v['obj'])) != 0)[0].size>0}"
   ]
  },
  {
   "cell_type": "markdown",
   "id": "1f448f9d-320e-4a63-b954-066c31ed2d2b",
   "metadata": {},
   "source": [
    "Solve on this grid:"
   ]
  },
  {
   "cell_type": "code",
   "execution_count": 13,
   "id": "42338da9-def0-4dff-8374-8a002fbe1d93",
   "metadata": {},
   "outputs": [
    {
     "name": "stdout",
     "output_type": "stream",
     "text": [
      "0.5\n",
      "Warning: Could only solve model with grid search - for ν = 1.394563144, ρ = 1.2, ξ: 0.45\n",
      "Warning: Could only solve model with grid search - for ν = 1.394563144, ρ = 1.2, ξ: 0.45\n",
      "Warning: Could only solve model with grid search - for ν = 1.394563144, ρ = 1.2, ξ: 0.45\n",
      "Warning: Could only solve model with grid search - for ν = 1.394563144, ρ = 1.2, ξ: 0.45\n",
      "0.45\n",
      "0.4\n",
      "0.35\n",
      "0.3\n",
      "Warning: Could only solve model with grid search - for ν = 1.018706685, ρ = 1.15, ξ: 0.25\n",
      "0.25\n",
      "0.2\n",
      "0.15\n",
      "Warning: Could only solve model with grid search in terminal state T, ρ = 1.15, ξ: 0.1\n",
      "0.1\n",
      "CPU times: total: 8min 53s\n",
      "Wall time: 8min 19s\n"
     ]
    }
   ],
   "source": [
    "%%time\n",
    "cals = dict.fromkeys(solsSignChange)\n",
    "for k,v in solsSignChange.items():\n",
    "    m.db['ξ'] = k\n",
    "    m.US_Xi() # update Xi based on ξ\n",
    "    sc = m.USCal_SCidx(v) # idx for sign change\n",
    "    m.db['ω'] = v['ω'][sc]\n",
    "    m.db['βi'] = m.US_β(v['β'][sc])\n",
    "    cals[k] = m.USCal_GoldenSection(v['ρ'][sc:sc+2], data['t0'], n = 2, tol = 1e-5, iterMax = 5, var = 'ρ')\n",
    "    print(k)"
   ]
  },
  {
   "cell_type": "markdown",
   "id": "b3b42b2b-3e7d-446f-94a3-e52730615a55",
   "metadata": {},
   "source": [
    "Store solution dictionary and model instance:"
   ]
  },
  {
   "cell_type": "code",
   "execution_count": 14,
   "id": "671f0ddd-0e49-4600-bd29-6a2195e7a00e",
   "metadata": {},
   "outputs": [],
   "source": [
    "with open(os.path.join(d['data'], 'USEuler1980_cals'), \"wb\") as file:\n",
    "    pickle.dump(cals, file)\n",
    "with open(os.path.join(d['data'], 'mUSEuler1980'), \"wb\") as file:\n",
    "    pickle.dump(m, file)"
   ]
  }
 ],
 "metadata": {
  "kernelspec": {
   "display_name": "Python 3 (ipykernel)",
   "language": "python",
   "name": "python3"
  },
  "language_info": {
   "codemirror_mode": {
    "name": "ipython",
    "version": 3
   },
   "file_extension": ".py",
   "mimetype": "text/x-python",
   "name": "python",
   "nbconvert_exporter": "python",
   "pygments_lexer": "ipython3",
   "version": "3.11.4"
  }
 },
 "nbformat": 4,
 "nbformat_minor": 5
}
