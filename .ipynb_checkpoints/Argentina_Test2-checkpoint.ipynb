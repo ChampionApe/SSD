{
 "cells": [
  {
   "cell_type": "code",
   "execution_count": 1,
   "id": "184bec03-9b27-4fe0-b5e2-637ddda2d4f0",
   "metadata": {},
   "outputs": [],
   "source": [
    "%run stdPackages.ipynb"
   ]
  },
  {
   "cell_type": "markdown",
   "id": "ec43f69f-f726-441c-8039-3fcb5e0e8c49",
   "metadata": {
    "tags": []
   },
   "source": [
    "## 1. Data and settings"
   ]
  },
  {
   "cell_type": "code",
   "execution_count": 2,
   "id": "c38c6c5f-c410-4e47-9c4d-079e02327980",
   "metadata": {},
   "outputs": [],
   "source": [
    "t0date = 2010\n",
    "ngrid = 25\n",
    "ns0 = 50\n",
    "t_ss  = 5 # number of periods in steady state\n",
    "%run ArgentinaData.ipynb"
   ]
  },
  {
   "cell_type": "markdown",
   "id": "e8a8b685-b628-435d-9297-8a76111d00d0",
   "metadata": {},
   "source": [
    "### Simple LOG calibration"
   ]
  },
  {
   "cell_type": "code",
   "execution_count": 3,
   "id": "0cc1bc5f-20cb-404b-8ff5-b56b4f14135c",
   "metadata": {},
   "outputs": [],
   "source": [
    "m.db.update(m.adjPar('ρ',1))\n",
    "calsLOG = m.calibLOG()\n",
    "pathLOG, solsLOG = m.solvePEE()"
   ]
  },
  {
   "cell_type": "markdown",
   "id": "d396dc96-6c2d-4eed-899c-94bb2cf8d85e",
   "metadata": {},
   "source": [
    "### CRRA solution:"
   ]
  },
  {
   "cell_type": "markdown",
   "id": "162d5505-39f7-4c50-b5a7-ad68f5fcff8e",
   "metadata": {},
   "source": [
    "Start from the LOG solution and solve for CRRA"
   ]
  },
  {
   "cell_type": "code",
   "execution_count": 4,
   "id": "1ef3e5d4-e8ae-47ae-ade5-e1fa6966b1a1",
   "metadata": {},
   "outputs": [],
   "source": [
    "m.PEE.interpInitialsFromLOG(solsLOG, pathLOG)\n",
    "m.PEE.kwargs_t['x0_from_solp'] = False # Use x0 instead of solp when iterating over time\n",
    "m.PEE.kwargsMain = m.PEE.defaultKwargs"
   ]
  },
  {
   "cell_type": "markdown",
   "id": "ba99ee76-d688-4009-8700-6f0e80d90a25",
   "metadata": {},
   "source": [
    "Get CRRA solution:"
   ]
  },
  {
   "cell_type": "code",
   "execution_count": 5,
   "id": "b62bbce4-3376-4c2a-9e5b-f09ddc76eecf",
   "metadata": {},
   "outputs": [],
   "source": [
    "m.db.update(m.adjPar('ρ',1.1))\n",
    "path, sol = m.solvePEE()"
   ]
  },
  {
   "cell_type": "markdown",
   "id": "ceea8524-048d-402b-b174-756767e9a2b9",
   "metadata": {},
   "source": [
    "### Test reporting module:"
   ]
  },
  {
   "cell_type": "code",
   "execution_count": 6,
   "id": "c676e702-ee88-4923-a1fb-d22cb75ff0aa",
   "metadata": {},
   "outputs": [],
   "source": [
    "path = m.FH_reportAll(path)"
   ]
  },
  {
   "cell_type": "markdown",
   "id": "f0902c9f-46c7-485d-83cf-d2ee319e137f",
   "metadata": {},
   "source": [
    "Shock the model and get report:"
   ]
  },
  {
   "cell_type": "code",
   "execution_count": 7,
   "id": "9b557166-3577-4935-bead-6e75d8a2500c",
   "metadata": {},
   "outputs": [],
   "source": [
    "m.db.update(m.adjPar('eps',m.getEps(coverageRate=1)))\n",
    "pathNew, solNew = m.solvePEE()"
   ]
  },
  {
   "cell_type": "markdown",
   "id": "86158b65-8cb9-409e-a59f-322836e77be0",
   "metadata": {},
   "source": [
    "Check out this stuff:"
   ]
  },
  {
   "cell_type": "code",
   "execution_count": 8,
   "id": "d6444383-948f-4cf0-906c-21fb7f06e16e",
   "metadata": {},
   "outputs": [],
   "source": [
    "pathNew = m.FH_reportAll(pathNew)"
   ]
  },
  {
   "cell_type": "code",
   "execution_count": 9,
   "id": "35bb5058-2edf-4ef3-a8ca-05d4d289cc1d",
   "metadata": {},
   "outputs": [],
   "source": [
    "test = m.EV_FH_solve(path, pathNew)"
   ]
  },
  {
   "cell_type": "markdown",
   "id": "3f11c232-1e05-4ed8-8d97-a2a220d79333",
   "metadata": {},
   "source": [
    "Test stuff:"
   ]
  },
  {
   "cell_type": "code",
   "execution_count": 7,
   "id": "a11dc063-bee6-47d7-86cb-58893f1df646",
   "metadata": {},
   "outputs": [],
   "source": [
    "x = m.x0['EV']\n",
    "test = m.EV_FH_objective(x, path, path)"
   ]
  },
  {
   "cell_type": "code",
   "execution_count": 15,
   "id": "47bca7f7-6e1a-4667-8fec-9a0e4021d170",
   "metadata": {},
   "outputs": [
    {
     "data": {
      "text/plain": [
       "dict_keys(['util1i', 'util10', 'util2i', 'util20', 'utilPol'])"
      ]
     },
     "execution_count": 15,
     "metadata": {},
     "output_type": "execute_result"
    }
   ],
   "source": [
    "test.keys()"
   ]
  },
  {
   "cell_type": "code",
   "execution_count": 10,
   "id": "b1320aa2-d96b-4c59-9073-7a65ec758748",
   "metadata": {},
   "outputs": [],
   "source": [
    "self = m\n",
    "x = m.x0['EV']"
   ]
  },
  {
   "cell_type": "code",
   "execution_count": 11,
   "id": "0211ac91-3191-4fbd-b185-aea6f76dfb13",
   "metadata": {},
   "outputs": [],
   "source": [
    "syms = {'Δ1i': self.get(x, 'Δ1i', ns = 'EV').unstack('j').values,\n",
    "        'Δ2i': self.get(x, 'Δ2i', ns = 'EV').unstack('j').values,\n",
    "        'Δ10': self(x, 'Δ10', ns = 'EV'), 'Δ20': self(x, 'Δ20', ns = 'EV'), 'ΔPol': self(x, 'ΔPol', ns = 'EV')}"
   ]
  },
  {
   "cell_type": "code",
   "execution_count": 12,
   "id": "546f55e3-d44c-478d-86aa-6f68223b7b3d",
   "metadata": {},
   "outputs": [],
   "source": [
    "sd = path"
   ]
  },
  {
   "cell_type": "code",
   "execution_count": 15,
   "id": "d9658d06-0dcd-4fba-bfd1-a919cc57e845",
   "metadata": {},
   "outputs": [
    {
     "data": {
      "text/plain": [
       "(11, 4)"
      ]
     },
     "execution_count": 15,
     "metadata": {},
     "output_type": "execute_result"
    }
   ],
   "source": [
    "syms['Δ1i'].shape"
   ]
  },
  {
   "cell_type": "code",
   "execution_count": 24,
   "id": "040fb813-ab6e-4011-b908-43e1df2024cc",
   "metadata": {},
   "outputs": [],
   "source": [
    "Bip = m.leadSym((1/(1+sd['Bi'])).values)\n",
    "mpc_1i = 1/(1+Bip)\n",
    "mpc_2pi = "
   ]
  },
  {
   "cell_type": "code",
   "execution_count": 32,
   "id": "b7beb665-f00f-4448-af43-bb7055cfb39e",
   "metadata": {},
   "outputs": [
    {
     "data": {
      "text/plain": [
       "array([[0., 0., 0., 0.],\n",
       "       [0., 0., 0., 0.],\n",
       "       [0., 0., 0., 0.],\n",
       "       [0., 0., 0., 0.],\n",
       "       [0., 0., 0., 0.],\n",
       "       [0., 0., 0., 0.],\n",
       "       [0., 0., 0., 0.],\n",
       "       [0., 0., 0., 0.],\n",
       "       [0., 0., 0., 0.],\n",
       "       [0., 0., 0., 0.],\n",
       "       [0., 0., 0., 0.]])"
      ]
     },
     "execution_count": 32,
     "metadata": {},
     "output_type": "execute_result"
    }
   ],
   "source": [
    "syms['Δ1i'] * mpc_1i"
   ]
  },
  {
   "cell_type": "code",
   "execution_count": 42,
   "id": "140b85b7-3ad7-46c1-805f-d1409ab9a3c4",
   "metadata": {},
   "outputs": [],
   "source": [
    "sd['R'] = self.BT.R(s_ = sd['s[t-1]'].values, h = sd['h'].values)"
   ]
  },
  {
   "cell_type": "code",
   "execution_count": 43,
   "id": "5849aac5-e0c0-48b0-9d4e-963b57d63066",
   "metadata": {},
   "outputs": [
    {
     "data": {
      "text/plain": [
       "(11, 4)"
      ]
     },
     "execution_count": 43,
     "metadata": {},
     "output_type": "execute_result"
    }
   ],
   "source": [
    "(sd['R'][:,None] * Bip/(1+Bip)).shape"
   ]
  },
  {
   "cell_type": "markdown",
   "id": "0ad54592-5825-45dc-8565-d53f40e9e0b2",
   "metadata": {},
   "source": [
    "For the young generations, map the "
   ]
  },
  {
   "cell_type": "markdown",
   "id": "a60c27ed-b10f-4323-9673-5f54422bb7d1",
   "metadata": {},
   "source": [
    "Before:"
   ]
  },
  {
   "cell_type": "code",
   "execution_count": 8,
   "id": "1f646236-70ab-4357-b14e-dcd917568183",
   "metadata": {},
   "outputs": [],
   "source": [
    "# path['Bi'] = pd.DataFrame(m.BT.Bi(s_ = path['s[t-1]'].values, h = path['h'].values), index = m.db['t'], columns = m.db['i'])\n",
    "# path['Γs[t-1]'] = pd.Series(np.insert(path['Γs'].values, 0, m.B.Γs(Bi = path['Bi'].values[0], τp = path['τ'].values[0], t = m.db['t'][0])), index = m.db['t'])\n",
    "# pathLOG['Bi'] = pd.DataFrame(m.BT.get('βi'), index = m.db['t'], columns = m.db['i'])\n",
    "# pathLOG['Γs[t-1]'] = pd.Series(np.insert(path['Γs'].values, 0, m.B.Γs(Bi = path['Bi'].values[0], τp = path['τ'].values[0], t = m.db['t'][0])), index = m.db['t'])\n",
    "# path['τ[t+1]'] = m.leadSym(path['τ'])\n",
    "# path['si/s[t-1]'] = pd.DataFrame(m.BT.si_s(Bi = path['Bi'].values, Γs = path['Γs[t-1]'].values, τp = path['τ'].values), index = m.db['t'], columns = m.db['i'])"
   ]
  },
  {
   "cell_type": "code",
   "execution_count": 9,
   "id": "d76e5298-3f81-40ab-b186-6008de167d1c",
   "metadata": {},
   "outputs": [],
   "source": [
    "# path = m.FH_reportCoefficients(path)"
   ]
  },
  {
   "cell_type": "code",
   "execution_count": 16,
   "id": "92369b92-0faa-4e9a-87e2-60ce40c918fb",
   "metadata": {},
   "outputs": [
    {
     "data": {
      "text/plain": [
       "dict_keys(['τ', 'τ[t+1]', 'Γs', 'Θh', 'Θs', 's', 's[t-1]', 'h', 's0/s', 's0/s[t-1]'])"
      ]
     },
     "execution_count": 16,
     "metadata": {},
     "output_type": "execute_result"
    }
   ],
   "source": [
    "pathLOG.keys()"
   ]
  },
  {
   "cell_type": "code",
   "execution_count": 39,
   "id": "748c9d3f-ae6c-477a-a79d-74f55c5c63c4",
   "metadata": {},
   "outputs": [
    {
     "data": {
      "text/html": [
       "<div>\n",
       "<style scoped>\n",
       "    .dataframe tbody tr th:only-of-type {\n",
       "        vertical-align: middle;\n",
       "    }\n",
       "\n",
       "    .dataframe tbody tr th {\n",
       "        vertical-align: top;\n",
       "    }\n",
       "\n",
       "    .dataframe thead th {\n",
       "        text-align: right;\n",
       "    }\n",
       "</style>\n",
       "<table border=\"1\" class=\"dataframe\">\n",
       "  <thead>\n",
       "    <tr style=\"text-align: right;\">\n",
       "      <th>j</th>\n",
       "      <th>1</th>\n",
       "      <th>2</th>\n",
       "      <th>3</th>\n",
       "      <th>4</th>\n",
       "    </tr>\n",
       "    <tr>\n",
       "      <th>t</th>\n",
       "      <th></th>\n",
       "      <th></th>\n",
       "      <th></th>\n",
       "      <th></th>\n",
       "    </tr>\n",
       "  </thead>\n",
       "  <tbody>\n",
       "    <tr>\n",
       "      <th>0</th>\n",
       "      <td>0.279490</td>\n",
       "      <td>0.430499</td>\n",
       "      <td>0.587690</td>\n",
       "      <td>1.113863</td>\n",
       "    </tr>\n",
       "    <tr>\n",
       "      <th>1</th>\n",
       "      <td>0.257143</td>\n",
       "      <td>0.395412</td>\n",
       "      <td>0.539343</td>\n",
       "      <td>1.021126</td>\n",
       "    </tr>\n",
       "    <tr>\n",
       "      <th>2</th>\n",
       "      <td>0.242703</td>\n",
       "      <td>0.372846</td>\n",
       "      <td>0.508318</td>\n",
       "      <td>0.961786</td>\n",
       "    </tr>\n",
       "    <tr>\n",
       "      <th>3</th>\n",
       "      <td>0.236893</td>\n",
       "      <td>0.363791</td>\n",
       "      <td>0.495884</td>\n",
       "      <td>0.938045</td>\n",
       "    </tr>\n",
       "    <tr>\n",
       "      <th>4</th>\n",
       "      <td>0.237075</td>\n",
       "      <td>0.364080</td>\n",
       "      <td>0.496285</td>\n",
       "      <td>0.938820</td>\n",
       "    </tr>\n",
       "    <tr>\n",
       "      <th>5</th>\n",
       "      <td>0.237080</td>\n",
       "      <td>0.364087</td>\n",
       "      <td>0.496295</td>\n",
       "      <td>0.938837</td>\n",
       "    </tr>\n",
       "    <tr>\n",
       "      <th>6</th>\n",
       "      <td>0.237079</td>\n",
       "      <td>0.364086</td>\n",
       "      <td>0.496293</td>\n",
       "      <td>0.938834</td>\n",
       "    </tr>\n",
       "    <tr>\n",
       "      <th>7</th>\n",
       "      <td>0.237082</td>\n",
       "      <td>0.364090</td>\n",
       "      <td>0.496298</td>\n",
       "      <td>0.938844</td>\n",
       "    </tr>\n",
       "    <tr>\n",
       "      <th>8</th>\n",
       "      <td>0.237629</td>\n",
       "      <td>0.364925</td>\n",
       "      <td>0.497435</td>\n",
       "      <td>0.940986</td>\n",
       "    </tr>\n",
       "    <tr>\n",
       "      <th>9</th>\n",
       "      <td>0.248170</td>\n",
       "      <td>0.380293</td>\n",
       "      <td>0.517826</td>\n",
       "      <td>0.978194</td>\n",
       "    </tr>\n",
       "  </tbody>\n",
       "</table>\n",
       "</div>"
      ],
      "text/plain": [
       "j         1         2         3         4\n",
       "t                                        \n",
       "0  0.279490  0.430499  0.587690  1.113863\n",
       "1  0.257143  0.395412  0.539343  1.021126\n",
       "2  0.242703  0.372846  0.508318  0.961786\n",
       "3  0.236893  0.363791  0.495884  0.938045\n",
       "4  0.237075  0.364080  0.496285  0.938820\n",
       "5  0.237080  0.364087  0.496295  0.938837\n",
       "6  0.237079  0.364086  0.496293  0.938834\n",
       "7  0.237082  0.364090  0.496298  0.938844\n",
       "8  0.237629  0.364925  0.497435  0.940986\n",
       "9  0.248170  0.380293  0.517826  0.978194"
      ]
     },
     "execution_count": 39,
     "metadata": {},
     "output_type": "execute_result"
    }
   ],
   "source": [
    "path['Θc2pi']"
   ]
  },
  {
   "cell_type": "code",
   "execution_count": 28,
   "id": "3dcad529-7cda-4baf-a94d-1a5df1124b44",
   "metadata": {},
   "outputs": [
    {
     "data": {
      "text/html": [
       "<div>\n",
       "<style scoped>\n",
       "    .dataframe tbody tr th:only-of-type {\n",
       "        vertical-align: middle;\n",
       "    }\n",
       "\n",
       "    .dataframe tbody tr th {\n",
       "        vertical-align: top;\n",
       "    }\n",
       "\n",
       "    .dataframe thead th {\n",
       "        text-align: right;\n",
       "    }\n",
       "</style>\n",
       "<table border=\"1\" class=\"dataframe\">\n",
       "  <thead>\n",
       "    <tr style=\"text-align: right;\">\n",
       "      <th>j</th>\n",
       "      <th>1</th>\n",
       "      <th>2</th>\n",
       "      <th>3</th>\n",
       "      <th>4</th>\n",
       "    </tr>\n",
       "    <tr>\n",
       "      <th>t</th>\n",
       "      <th></th>\n",
       "      <th></th>\n",
       "      <th></th>\n",
       "      <th></th>\n",
       "    </tr>\n",
       "  </thead>\n",
       "  <tbody>\n",
       "    <tr>\n",
       "      <th>0</th>\n",
       "      <td>0.007873</td>\n",
       "      <td>0.012126</td>\n",
       "      <td>0.016554</td>\n",
       "      <td>0.031376</td>\n",
       "    </tr>\n",
       "    <tr>\n",
       "      <th>1</th>\n",
       "      <td>0.007930</td>\n",
       "      <td>0.012194</td>\n",
       "      <td>0.016633</td>\n",
       "      <td>0.031491</td>\n",
       "    </tr>\n",
       "    <tr>\n",
       "      <th>2</th>\n",
       "      <td>0.007877</td>\n",
       "      <td>0.012101</td>\n",
       "      <td>0.016498</td>\n",
       "      <td>0.031215</td>\n",
       "    </tr>\n",
       "    <tr>\n",
       "      <th>3</th>\n",
       "      <td>0.007784</td>\n",
       "      <td>0.011954</td>\n",
       "      <td>0.016295</td>\n",
       "      <td>0.030825</td>\n",
       "    </tr>\n",
       "    <tr>\n",
       "      <th>4</th>\n",
       "      <td>0.007702</td>\n",
       "      <td>0.011829</td>\n",
       "      <td>0.016124</td>\n",
       "      <td>0.030501</td>\n",
       "    </tr>\n",
       "    <tr>\n",
       "      <th>5</th>\n",
       "      <td>0.007666</td>\n",
       "      <td>0.011773</td>\n",
       "      <td>0.016048</td>\n",
       "      <td>0.030358</td>\n",
       "    </tr>\n",
       "    <tr>\n",
       "      <th>6</th>\n",
       "      <td>0.007648</td>\n",
       "      <td>0.011746</td>\n",
       "      <td>0.016011</td>\n",
       "      <td>0.030287</td>\n",
       "    </tr>\n",
       "    <tr>\n",
       "      <th>7</th>\n",
       "      <td>0.007640</td>\n",
       "      <td>0.011732</td>\n",
       "      <td>0.015993</td>\n",
       "      <td>0.030253</td>\n",
       "    </tr>\n",
       "    <tr>\n",
       "      <th>8</th>\n",
       "      <td>0.007636</td>\n",
       "      <td>0.011726</td>\n",
       "      <td>0.015984</td>\n",
       "      <td>0.030236</td>\n",
       "    </tr>\n",
       "    <tr>\n",
       "      <th>9</th>\n",
       "      <td>0.007786</td>\n",
       "      <td>0.011931</td>\n",
       "      <td>0.016246</td>\n",
       "      <td>0.030690</td>\n",
       "    </tr>\n",
       "    <tr>\n",
       "      <th>10</th>\n",
       "      <td>0.009673</td>\n",
       "      <td>0.014987</td>\n",
       "      <td>0.020519</td>\n",
       "      <td>0.039034</td>\n",
       "    </tr>\n",
       "  </tbody>\n",
       "</table>\n",
       "</div>"
      ],
      "text/plain": [
       "j          1         2         3         4\n",
       "t                                         \n",
       "0   0.007873  0.012126  0.016554  0.031376\n",
       "1   0.007930  0.012194  0.016633  0.031491\n",
       "2   0.007877  0.012101  0.016498  0.031215\n",
       "3   0.007784  0.011954  0.016295  0.030825\n",
       "4   0.007702  0.011829  0.016124  0.030501\n",
       "5   0.007666  0.011773  0.016048  0.030358\n",
       "6   0.007648  0.011746  0.016011  0.030287\n",
       "7   0.007640  0.011732  0.015993  0.030253\n",
       "8   0.007636  0.011726  0.015984  0.030236\n",
       "9   0.007786  0.011931  0.016246  0.030690\n",
       "10  0.009673  0.014987  0.020519  0.039034"
      ]
     },
     "execution_count": 28,
     "metadata": {},
     "output_type": "execute_result"
    }
   ],
   "source": [
    "path['Θc̃1i'].mul((path['s[t-1]']/m.db['ν'])**m.BT.power_s(), axis = 0)"
   ]
  },
  {
   "cell_type": "code",
   "execution_count": 17,
   "id": "495713bb-e240-47bb-9c16-8faeaee5ade1",
   "metadata": {},
   "outputs": [
    {
     "data": {
      "text/plain": [
       "dict_keys(['h', 's', 'Γs', 's0/s', 'EE_FH_PEE_x', 's[t-1]', 's0/s[t-1]', 'τ', 'Θh', 'Θs', 'Bi', 'B0', 'τ[t+1]', 'Γs[t-1]', 'si/s[t-1]', 'Θhi', 'Θc̃1i', 'Θc2i', 'Θc2pi', 'Θc̃10', 'Θc20'])"
      ]
     },
     "execution_count": 17,
     "metadata": {},
     "output_type": "execute_result"
    }
   ],
   "source": [
    "path.keys()"
   ]
  },
  {
   "cell_type": "code",
   "execution_count": 12,
   "id": "3e51332e-0633-47f2-88c8-92ba72ad9a4d",
   "metadata": {},
   "outputs": [
    {
     "data": {
      "text/plain": [
       "t\n",
       "0     0.343421\n",
       "1     0.349809\n",
       "2     0.374271\n",
       "3     0.402769\n",
       "4     0.421200\n",
       "5     0.427717\n",
       "6     0.427374\n",
       "7     0.427385\n",
       "8     0.427382\n",
       "9     0.427444\n",
       "10    0.443210\n",
       "dtype: float64"
      ]
     },
     "execution_count": 12,
     "metadata": {},
     "output_type": "execute_result"
    }
   ],
   "source": [
    "path['s0/s[t-1]']"
   ]
  },
  {
   "cell_type": "code",
   "execution_count": 13,
   "id": "3ad1986f-38b0-446a-8e80-37b744f3e4d2",
   "metadata": {},
   "outputs": [],
   "source": [
    "self = m.BT\n",
    "Θh = path['Θh'].values\n",
    "Γs = path['Γs'].values\n",
    "Bi = path['Bi'].values\n",
    "τp = path['τ[t+1]'].values"
   ]
  },
  {
   "cell_type": "code",
   "execution_count": 22,
   "id": "203d63fd-3aed-42fd-8674-1f245c68bc8a",
   "metadata": {},
   "outputs": [
    {
     "data": {
      "text/plain": [
       "dict_keys(['h', 's', 'Γs', 's0/s', 'EE_FH_PEE_x', 's[t-1]', 's0/s[t-1]', 'τ', 'Θh', 'Θs', 'Bi', 'τ[t+1]', 'Γs[t-1]', 'si/s[t-1]', 'Θhi', 'Θc̃1i', 'Θc2i', 'Θc2pi'])"
      ]
     },
     "execution_count": 22,
     "metadata": {},
     "output_type": "execute_result"
    }
   ],
   "source": [
    "path.keys()"
   ]
  },
  {
   "cell_type": "code",
   "execution_count": 24,
   "id": "11834756-ce7b-451c-87d4-4029b3e5a38a",
   "metadata": {},
   "outputs": [
    {
     "data": {
      "text/plain": [
       "array([[0.10753288, 0.1656329 , 0.22611189, 0.42855503],\n",
       "       [0.10476621, 0.16110022, 0.2197409 , 0.41603056],\n",
       "       [0.10001888, 0.15365114, 0.20947943, 0.39635515],\n",
       "       [0.09670893, 0.14851353, 0.20243934, 0.38294679],\n",
       "       [0.09523202, 0.14624947, 0.19935589, 0.37712058],\n",
       "       [0.09530001, 0.14635358, 0.19949761, 0.37738819],\n",
       "       [0.0952938 , 0.14634398, 0.19948447, 0.37736322],\n",
       "       [0.09529281, 0.14634241, 0.1994823 , 0.37735903],\n",
       "       [0.09529459, 0.14634355, 0.19948278, 0.37735728],\n",
       "       [0.09720066, 0.14894908, 0.20281641, 0.38312811],\n",
       "       [0.12374916, 0.19172953, 0.26249345, 0.49936359]])"
      ]
     },
     "execution_count": 24,
     "metadata": {},
     "output_type": "execute_result"
    }
   ],
   "source": [
    "np.vstack([Θ̃c1i_t(self, Θh[:-1], Γs, Bip = Bi[1:,], τp = τp[:-1], t = self.db['txE']),\n",
    "           Θ̃c1i_T(self, Θh = Θh[-1:], t = self.db['t'][-1:])])"
   ]
  },
  {
   "cell_type": "code",
   "execution_count": null,
   "id": "9a9f6f01-f0a0-4b91-b1fe-1e381e715914",
   "metadata": {},
   "outputs": [],
   "source": [
    "def Θc2i(self, τ = None, Θh = None, si_s = None, t = None):\n",
    "\treturn (self.get('α',t)*self.get('ν',t)*Θh**(1-self.get('α',t))/self.get('p[t-1]',t)) * (si_s + (self.get('αr',t)*self.get('p[t-1]',t)*τ/self.get('κ[t-1]',t))[:,None]*(1+self.get('θ',t)[:,None]*(self.auxProd_(t)/self.get('Γh[t-1]',t)[:,None]-1)))"
   ]
  },
  {
   "cell_type": "code",
   "execution_count": 19,
   "id": "8aed0d3c-e576-4c1c-83bf-bdb8f930ae59",
   "metadata": {},
   "outputs": [],
   "source": [
    "def Θ̃c1i_t(self, Θh = None, Γs = None, Bip = None, τp = None, t = None):\n",
    "    return ((Θh/self.get('Γh',t))**((1+self.get('ξ',t))/self.get('ξ',t)))[:,None]*(self.auxProd(t)/(1+self.get('ξ',t)[:,None])+(Γs*self.get('αr',t)* self.get('p',t)*τp*(1-self.get('θ[t+1]',t))/self.get('κ',t))[:,None])/(1+Bip)\n",
    "def Θ̃c1i_T(self, Θh = None, t = None):\n",
    "\treturn ((Θh/self.get('Γh',t))**((1+self.get('ξ',t))/self.get('ξ',t))/(1+self.get('ξ',t)))[:,None] * self.auxProd(t)"
   ]
  }
 ],
 "metadata": {
  "kernelspec": {
   "display_name": "Python 3 (ipykernel)",
   "language": "python",
   "name": "python3"
  },
  "language_info": {
   "codemirror_mode": {
    "name": "ipython",
    "version": 3
   },
   "file_extension": ".py",
   "mimetype": "text/x-python",
   "name": "python",
   "nbconvert_exporter": "python",
   "pygments_lexer": "ipython3",
   "version": "3.12.4"
  }
 },
 "nbformat": 4,
 "nbformat_minor": 5
}
