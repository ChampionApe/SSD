{
 "cells": [
  {
   "cell_type": "code",
   "execution_count": 1,
   "id": "cdbf23c7-48a4-4824-aff7-cc6b0ce7bf50",
   "metadata": {},
   "outputs": [],
   "source": [
    "%run stdPackages.ipynb"
   ]
  },
  {
   "cell_type": "markdown",
   "id": "d0ceb5a2-d97e-4505-82ff-997cb583a20a",
   "metadata": {},
   "source": [
    "# Social Security Design - Argentina"
   ]
  },
  {
   "cell_type": "markdown",
   "id": "90602eb0-23d8-4b15-b97f-96999e697f09",
   "metadata": {
    "tags": []
   },
   "source": [
    "## 1. Input data and simple calibrations"
   ]
  },
  {
   "cell_type": "markdown",
   "id": "b05afd7d-3055-462b-83d7-a96e6866418b",
   "metadata": {},
   "source": [
    "We assume that we have data on the following:\n",
    "* Worker-to-retiree ratios $\\nu_t$.\n",
    "* Capital income share $\\alpha$.\n",
    "* Frisch elasticity of labor $\\xi$ (individual response to after-tax wages).\n",
    "* Share of retirees that only receive basic pension benefits - here defined as share of hand-to-mouth households ($\\gamma_u$).\n",
    "* Heterogeneity in working households:\n",
    "    1. Relative sizes of household types $\\gamma_i$, such that $\\sum_i = \\gamma_i$.\n",
    "    2. Income distribution across types $z_i^{\\eta}$.\n",
    "    3. Distribution of working hours across types $z_i^{x}$.\n",
    "* The economy wide average savings rate $\\overline{s}_t$.\n",
    "* The ratio of income from $u$-types to the average worker for young ($\\chi_1$) and old ($\\chi_2$).\n",
    "* The pension tax in a given year $\\overline{\\tau}$.\n",
    "* The target for ratios of replacement rates for 1st and 2nd quartiles $RR$."
   ]
  },
  {
   "cell_type": "markdown",
   "id": "767e4aee-bcfc-475c-9e91-8de3e28c94e7",
   "metadata": {},
   "source": [
    "### 1.1. Fixed data"
   ]
  },
  {
   "cell_type": "code",
   "execution_count": 2,
   "id": "31ada2ec-932e-497d-b043-e34ea366b665",
   "metadata": {},
   "outputs": [],
   "source": [
    "dates_log = pd.Index([1950, 1980, 2010, 2040, 2070, 2100], name = 't')\n",
    "ν_log = np.array([1.497025777, 1.365562914, 1.20756547, 1.110843373, 1.072547602, 1.0725])\n",
    "T_log = len(ν_log) # number of years in data\n",
    "T = T_log+3\n",
    "dates = dates_log.union(pd.Index([dates_log[-1]+30*i for i in range(1,T-T_log+1)]))\n",
    "ν = np.hstack([ν_log, np.full(T-T_log, ν_log[-1])])\n",
    "A = np.ones(T) # normalize exog. productivity at 1 \n",
    "α = .43 # capital income share\n",
    "ξ = .35 # frisch elasticity\n",
    "γ = np.full((4, ), 0.25) # four equally large shares\n",
    "ni = len(γ) # number of types of working households in this case\n",
    "hours = np.array([38.6, 41.8, 43.4, 46.8]) # weekly hours, working households\n",
    "income= np.array([618.6, 945.5, 1278.6, 2341.6]) # income levels, working households\n",
    "zx = hours/hours.mean() # normalized data\n",
    "zη = income/income.mean() # normalized data\n",
    "γu =.32 # share of u households\n",
    "χ1 = 0.3089 # relative income of u-types\n",
    "χ2 = 0.95 * χ1 # relative income of u-types when old - assumed slightly lower\n",
    "τ0 = 0.142 # target level of pension tax\n",
    "s0 = 0.184 # target savings rate\n",
    "t0date = 2010\n",
    "t0 = dates.get_loc(t0date) # index for year of calibration \n",
    "RR = 0.678/0.803 # replacement rate\n",
    "ω = 4\n",
    "ρ = .5\n",
    "ωu = .3\n",
    "ωη = 1.65"
   ]
  },
  {
   "cell_type": "markdown",
   "id": "a512fca7-5076-4312-b338-b4ee3bc6b144",
   "metadata": {},
   "source": [
    "### 1.2. Calibration of $\\eta_i, X_i, \\theta$"
   ]
  },
  {
   "cell_type": "markdown",
   "id": "0b91da83-eb5d-41bc-99c7-89c49faa814f",
   "metadata": {},
   "source": [
    "1. The vector of $(\\eta_i/X_i)^{\\xi}$ is proportional to eigenvector $\\textbf{y}^x$ - i.e. set $(\\eta_i/X_i)^{\\xi} = y_i^x$.\n",
    "2. The vector of $(\\eta_i^{1+\\xi}/X_i^{\\xi})$ is proportional to the eigenvector $\\textbf{y}^{\\eta}$ - i.e. set $\\eta_i^{1+\\xi}/X_i^{\\xi} = k y_i^{\\eta} $, where $k>0$ is some constant.\n",
    "3. We then have $\\eta_i =k y_i^{\\eta} / y_i^x$ and $(\\eta_i/X_i)^{\\xi} = y_i^x$. Use $k$ to normalize such that \n",
    "$$\\begin{align}\n",
    "    \\sum_i \\gamma_i \\eta_i^{1+\\xi}/X_i^{\\xi} = 1 \\qquad \\Rightarrow \\qquad k = \\dfrac{1}{\\sum_i \\gamma_i y_i^{\\eta}}.\n",
    "\\end{align}$$"
   ]
  },
  {
   "cell_type": "markdown",
   "id": "7f186cdd-ec16-4ebe-98a5-f2d5f04f648b",
   "metadata": {},
   "source": [
    "Find eigenvectors:"
   ]
  },
  {
   "cell_type": "code",
   "execution_count": 3,
   "id": "6f094ce1-1fe6-4c89-a419-066b47acb2a6",
   "metadata": {},
   "outputs": [],
   "source": [
    "valx, vecx = scipy.sparse.linalg.eigs(zx.reshape(ni,1) * γ.reshape(1,ni), k=1)\n",
    "valη, vecη = scipy.sparse.linalg.eigs(zη.reshape(ni,1) * γ.reshape(1,ni), k=1)\n",
    "yx, yη = abs(np.real(vecx)).reshape(ni), abs(np.real(vecη)).reshape(ni) # this assumes that all coordinates in eigenvector are either positive or negative; this should be the case"
   ]
  },
  {
   "cell_type": "markdown",
   "id": "44d6e876-68ce-470d-97c7-4e27a7c167a4",
   "metadata": {},
   "source": [
    "Calibrate parameters:"
   ]
  },
  {
   "cell_type": "code",
   "execution_count": 4,
   "id": "35bc70ed-76ac-4616-8f9a-3e57cd1bf990",
   "metadata": {},
   "outputs": [],
   "source": [
    "η = yη/(yx*sum(γ*yη))\n",
    "X = η/yx**(1/ξ)"
   ]
  },
  {
   "cell_type": "markdown",
   "id": "0b1dcc34-36c2-4823-a5aa-276c4544be4f",
   "metadata": {},
   "source": [
    "Now given parameters that define household heterogeneity, we define $\\theta$ from the relative replacement rates:"
   ]
  },
  {
   "cell_type": "code",
   "execution_count": 5,
   "id": "c59d96d6-57c7-4248-a6da-eea261919bf8",
   "metadata": {},
   "outputs": [],
   "source": [
    "Q1 = η[0]**(1+ξ)/(X[0]**ξ)\n",
    "Q2 = η[1]**(1+ξ)/(X[1]**ξ)\n",
    "θ = (RR/Q1-1/Q2)/(1-RR+RR/Q1-1/Q2)"
   ]
  },
  {
   "cell_type": "markdown",
   "id": "dab68b70-168c-458f-9877-44b5126181f8",
   "metadata": {},
   "source": [
    "### 1.3. Initial guesses for yet-to-calibrated parameters"
   ]
  },
  {
   "cell_type": "markdown",
   "id": "e110affe-54c3-430d-84c5-6c75846a0d07",
   "metadata": {},
   "source": [
    "Set uniform $\\beta$ for all types:"
   ]
  },
  {
   "cell_type": "code",
   "execution_count": 6,
   "id": "5d347aa5-4fff-4ab6-b039-f6355903c93a",
   "metadata": {},
   "outputs": [],
   "source": [
    "β = np.full(ni, fill_value = 1)\n",
    "βu= min(β) # set impatience equal to lowest producticity household. "
   ]
  },
  {
   "cell_type": "markdown",
   "id": "83365486-f8b3-4708-9f0b-2c1a9e9dc18d",
   "metadata": {},
   "source": [
    "Given our guess on $\\beta$, we can define $\\epsilon$ from the built-in function for the Argentina case: "
   ]
  },
  {
   "cell_type": "code",
   "execution_count": 7,
   "id": "527b0329-efce-4f39-b00a-1fddee04f34b",
   "metadata": {},
   "outputs": [],
   "source": [
    "eps = CRRA.argentinaCalEps(θ, β[0])"
   ]
  },
  {
   "cell_type": "markdown",
   "id": "459694d4-f4ec-4ed8-8816-81a7bb65f055",
   "metadata": {},
   "source": [
    "## 2. Calibration of PEE model"
   ]
  },
  {
   "cell_type": "markdown",
   "id": "eca72d46-3355-4fc4-b147-fa12981c4eab",
   "metadata": {},
   "source": [
    "Grid settings:"
   ]
  },
  {
   "cell_type": "code",
   "execution_count": 8,
   "id": "cb72d2e7-7cdc-4b11-a8e3-b72572cee1e0",
   "metadata": {},
   "outputs": [],
   "source": [
    "ngrid = 50 # number of gridpoints in the savings grid\n",
    "_min = 1e-4 # use as \"small\" number instead of 0\n",
    "exp = 1 # nonlinearity in grid, exp>1 increases number of gridpoints in the lower end of the grid"
   ]
  },
  {
   "cell_type": "markdown",
   "id": "b00f9970-cbc6-4ada-a1ba-a54a43ba6953",
   "metadata": {},
   "source": [
    "Initialize CRRA and log models:"
   ]
  },
  {
   "cell_type": "code",
   "execution_count": 9,
   "id": "901c26ee-29f2-42f1-aa6e-27182fd20acb",
   "metadata": {},
   "outputs": [],
   "source": [
    "kwargs = {'α': α, 'A': A, 'ν': ν, 'η': η, 'γ': γ, 'X': X, 'β': β, 'βu': βu, 'ξ': ξ, 'eps': eps, 'θ': θ, 'γu': γu, 'χ1': χ1, 'χ2': χ2, 'ρ': ρ, 'ω': ω, 'ωu': ωu,'ωη': ωη}\n",
    "m = CRRA.infHorizon(ni=ni, T = T, ngrid = ngrid, **kwargs)\n",
    "mLog = logModelESC.infHorizon(ni = ni, T = T, **kwargs)\n",
    "sGrid = CRRA.polGrid(_min, m.solve_ss(0,0,0,ν[-1])['s'], m.ngrid, exp)"
   ]
  },
  {
   "cell_type": "markdown",
   "id": "8dbd83a4-6066-4dfe-9eb0-7cca879ac20d",
   "metadata": {},
   "source": [
    "Calibration of pure PEE models in the two instances:"
   ]
  },
  {
   "cell_type": "code",
   "execution_count": 10,
   "id": "ef0debfd-e9db-424e-8607-dd1a79d75898",
   "metadata": {},
   "outputs": [],
   "source": [
    "m.argentinaCal_simple_PEE(τ0, s0, t0, sGrid);\n",
    "mLog.argentinaCalibrate(τ0, s0, t0);"
   ]
  },
  {
   "cell_type": "markdown",
   "id": "9776ca99-5fc9-4147-8c8b-c6a2baea3400",
   "metadata": {},
   "source": [
    "Solve baseline:"
   ]
  },
  {
   "cell_type": "code",
   "execution_count": 11,
   "id": "b1bf054d-b0de-46cd-a212-c48d8864ebc8",
   "metadata": {},
   "outputs": [],
   "source": [
    "m.db.update(m.solve_PEE(sGrid))\n",
    "m.reportAll()\n",
    "mLog.db.update(mLog.solve_PEE())\n",
    "mLog.reportAll()"
   ]
  },
  {
   "cell_type": "markdown",
   "id": "cb0126c7-26b8-49df-829b-3edd32010718",
   "metadata": {},
   "source": [
    "Store solutions for later:"
   ]
  },
  {
   "cell_type": "code",
   "execution_count": 12,
   "id": "033b5257-231f-4f73-8722-c005e4226d98",
   "metadata": {},
   "outputs": [],
   "source": [
    "fulldb = m.db.copy()\n",
    "fulldbLog = mLog.db.copy()"
   ]
  },
  {
   "cell_type": "markdown",
   "id": "6b0224b5-bbdc-4d27-a5dc-b9971608a11a",
   "metadata": {},
   "source": [
    "## 3. Unexpected changes to $\\theta, \\epsilon$ in PEE model"
   ]
  },
  {
   "cell_type": "markdown",
   "id": "0178466a-c1ab-47ca-ad50-08763f101379",
   "metadata": {},
   "source": [
    "The unexpected changes arrive in 2010. The easiest way to introduce this is to initialize a new model that runs from 2010-2100:"
   ]
  },
  {
   "cell_type": "code",
   "execution_count": 13,
   "id": "f41a7362-cd10-4db5-8b19-1a48614ec53e",
   "metadata": {},
   "outputs": [],
   "source": [
    "dates_2010 = dates[dates>=2010]\n",
    "T_2010 = len(dates_2010)\n",
    "mLog_2010 = logModelESC.infHorizon(ni = ni, T = T_2010, \n",
    "                                    eps = fulldbLog['eps'].loc[t0:].set_axis(mLog.db['t'][t0:]-t0), \n",
    "                                    θ = mLog.db['θ'].loc[t0:].set_axis(mLog.db['t'][t0:]-t0),\n",
    "                                    **({k: fulldbLog[k] for k in mLog.defaultParameters} | {'ν': ν[(T-T_2010):],\n",
    "                                                                                            'A': A[(T-T_2010):]}))\n",
    "m_2010 = CRRA.infHorizon(ni = ni, T = T_2010, ngrid = ngrid, \n",
    "                         eps = fulldb['eps'].loc[t0:].set_axis(m.db['t'][t0:]-t0),\n",
    "                         θ   = fulldb['θ'].loc[t0:].set_axis(m.db['t'][t0:]-t0),\n",
    "                         **({k: fulldb[k] for k in m.defaultParameters} | {'ν': ν[(T-T_2010):],\n",
    "                                                                           'A': A[(T-T_2010):]}))"
   ]
  },
  {
   "cell_type": "markdown",
   "id": "6e061f17-49ce-48ef-9bfd-389cc9421114",
   "metadata": {},
   "source": [
    "For the baseline CRRA model, we define the following small function that automatically stores the solution to be used as initial values in the next iteration:"
   ]
  },
  {
   "cell_type": "code",
   "execution_count": 14,
   "id": "efc63c60-9371-4bc3-93cb-740a5c8eb06a",
   "metadata": {},
   "outputs": [],
   "source": [
    "def solveAndUpdatex0_PEE(m, s, s0 = None, x0_t = False, tkwargs = None):\n",
    "    sol, pol = m.solve_PEE(s, s0 = s0, returnPols = True, x0_t = x0_t, tkwargs = tkwargs)\n",
    "    m.db.update(sol)\n",
    "    m.reportAll()\n",
    "    m.x0['steadyState_PEE'] = pol[m.T-1]['τ'] # steady state search starts from solution\n",
    "    m.x0['PEEvec_t'] = {t: pol[t]['τ'] for t in m.db['t']} # add dictionary of solutions for each t.\n",
    "    return m"
   ]
  },
  {
   "cell_type": "markdown",
   "id": "4e5abf4f-8493-4aba-a223-47f1101e7c42",
   "metadata": {},
   "source": [
    "Solve and store the baseline solution with the shifted time index:"
   ]
  },
  {
   "cell_type": "code",
   "execution_count": 15,
   "id": "faaf96b4-8618-4991-be85-063a045fc80c",
   "metadata": {},
   "outputs": [],
   "source": [
    "m_2010 = solveAndUpdatex0_PEE(m_2010, sGrid, s0 = fulldb['s[t-1]'][t0]) # solve, report, update initial values\n",
    "mLog_2010.db.update(mLog_2010.solve_PEE())\n",
    "mLog_2010.reportAll(s_ = fulldbLog['s'][t0]) # note that the 's' variable in the log model is defined as s[t-1]."
   ]
  },
  {
   "cell_type": "markdown",
   "id": "9dabf0ee-d0bf-4274-82dc-90d5045aa9ff",
   "metadata": {},
   "source": [
    "Save baseline solutions for later:"
   ]
  },
  {
   "cell_type": "code",
   "execution_count": 16,
   "id": "bd129f23-b262-4107-8472-539ae0956e6d",
   "metadata": {},
   "outputs": [],
   "source": [
    "base = m_2010.db.copy()\n",
    "baseLog = mLog_2010.db.copy()"
   ]
  },
  {
   "cell_type": "markdown",
   "id": "c23ae37d-d936-469a-8ee1-078443019b65",
   "metadata": {},
   "source": [
    "### 3.1. Aux. methods"
   ]
  },
  {
   "cell_type": "markdown",
   "id": "2ad770bd-98c2-4389-b45a-37dc74047025",
   "metadata": {},
   "source": [
    "Provide some labels to call the $i$ types of agents when plotting:"
   ]
  },
  {
   "cell_type": "code",
   "execution_count": 17,
   "id": "c25a1e16-ebd7-4195-8f7f-0aac1482f7a0",
   "metadata": {},
   "outputs": [],
   "source": [
    "typeLabels = {0: '1st Quartile', 1: '2nd Quartile', 2: '3rd Quartile', 3: '4th Quartile'}"
   ]
  },
  {
   "cell_type": "markdown",
   "id": "b85743c2-784f-4156-8136-1a8358357128",
   "metadata": {},
   "source": [
    "Define a few auxiliary functions used for plotting:"
   ]
  },
  {
   "cell_type": "code",
   "execution_count": 18,
   "id": "8716d478-bc9a-4ff3-99b4-12ba3cc9a31d",
   "metadata": {},
   "outputs": [],
   "source": [
    "def addYears(x, copy = True):\n",
    "    \"\"\" Replace integer set 't' (from 0 to T) with years in 'dates' \"\"\"\n",
    "    if copy:\n",
    "        x = x.copy()\n",
    "    if isinstance(x, pd.Index):\n",
    "        return x.map(pd.Series(dates.values, index = x)).rename('')\n",
    "    elif isinstance(x, (pd.DataFrame, pd.Series)):\n",
    "        x.index = addYears(x.index, copy = False)\n",
    "        return x[dates_log] \n",
    "def adjLabels(x, copy = True):\n",
    "    \"\"\" Replace integer set 'i' (from 0 to ni) with labels in 'typeLabels' \"\"\"\n",
    "    if copy:\n",
    "        x = x.copy()\n",
    "    if isinstance(x, pd.Index):\n",
    "        return x.map(typeLabels)\n",
    "    elif isinstance(x, pd.Series):\n",
    "        x.index = adjLabels(x.index, copy = False)\n",
    "    elif isinstance(x, pd.DataFrame):\n",
    "        x.columns = adjLabels(x.columns, copy = False)\n",
    "    return x\n",
    "def extractDf(sol, x, grid, d):\n",
    "    \"\"\" Collect data on variables from different simulations in one dataframe \"\"\"\n",
    "    return addYears(pd.concat([soli[x] for soli in sol.values()], axis=1), d).set_axis(grid, axis = \"columns\")    "
   ]
  },
  {
   "cell_type": "markdown",
   "id": "45be5922-3333-45e5-8c60-02561d68d99d",
   "metadata": {},
   "source": [
    "Whenever we do one of these shocks to a parameter, e.g. $\\epsilon$, we want to do some of the same things:\n",
    "1. Update parameter values in active model. \n",
    "2. Solve and store PEE solution.\n",
    "3. Solve and store equivalent variations.\n",
    "4. Reset taxes to some baseline value and solve for counterfactual equilibrium (what is the effect of parameter changes *given* fixed tax rates). Store this as well."
   ]
  },
  {
   "cell_type": "code",
   "execution_count": 19,
   "id": "1f9e9962-72fa-43b5-93f6-16ecf6188a5d",
   "metadata": {},
   "outputs": [],
   "source": [
    "#NB: We have turned the updates in initial values for EV, because we do a loop over 2d grid later where large jumps in parameter values occur.\n",
    "def parameterShock_PEE(m, s, s0, base, parDict):\n",
    "    m.db.update(parDict) # update parameters\n",
    "    m = solveAndUpdatex0_PEE(m, s, s0 = s0, x0_t = True, tkwargs = {'ite_PEEvec_t': False}) # solve with initial guess from last iteration\n",
    "    EVnp = m.solve_EV_Permanent(base, m.db, x0 = m.x0['EV']) # Solve for EV and return as stacked numpy vector \n",
    "    # m.x0['EV'] = EVnp # update initial guess for next iteration\n",
    "    EV = m.ns['EV'].unloadSol(EVnp) # create dictionary with pandas solutions\n",
    "    sol = (m.db | m.EV_solInPercentages(base, EV)).copy() # merge data to one database\n",
    "    \n",
    "    # counterfactual eq. given baseline taxes:\n",
    "    [m.db.__setitem__(k, base[k].copy()) for k in ('τ', 'τ[t+1]')]; # reset taxes to baseline\n",
    "    m.db.update(m.solve_EE(m.db['τ'].values, \n",
    "                           m.db['θ'].values, \n",
    "                           m.db['eps'].values, s0, x0_EE = np.hstack([m.db[k].values for k in m.ns['EE'].symbols]))) # Identify economic equilibrium and add to main database.\n",
    "    m.reportAll() # report auxiliary variables as well. \n",
    "    sol_cf = m.db.copy()\n",
    "    EVnp = m.solve_EV_Permanent(base, m.db, x0 = m.x0['EVcf'] if 'EVcf' in m.x0 else np.zeros(m.ns['EV'].len)) # Solve for EV and return as stacked numpy vector\n",
    "    # m.x0['EVcf'] = EVnp\n",
    "    EV = m.ns['EV'].unloadSol(EVnp)\n",
    "    sol_cf.update(m.EV_solInPercentages(base, EV))\n",
    "    return sol, sol_cf"
   ]
  },
  {
   "cell_type": "markdown",
   "id": "d3d2da65-4823-46b6-8677-26f72335ac48",
   "metadata": {},
   "source": [
    "We define a similar method for the log case (this is a bit simpler because we do not need to update initial values along the way):"
   ]
  },
  {
   "cell_type": "code",
   "execution_count": 23,
   "id": "b43cc01b-d9c1-41a9-82ee-57a723658229",
   "metadata": {},
   "outputs": [],
   "source": [
    "def log_parameterShock_PEE(m, s0, base, parDict):\n",
    "    m.updateSolve_PEE(**parDict)\n",
    "    m.reportAll(s_ = s0)\n",
    "    EV = m.ns['EV'].unloadSol(m.solve_EV_Permanent(base, m.db))\n",
    "    sol = (m.db | m.EV_solInPercentages(base, EV)).copy()\n",
    "    # Reset tax rates to compute counterfactual solution:\n",
    "    [m.db.__setitem__(k, base[k].copy()) for k in ('τ', 'τ[t+1]')];\n",
    "    m.db.update(m.solve_EE(m.db['τ'], m.db['τ[t+1]'], m.db['eps[t+1]'], m.db['θ[t+1]']))\n",
    "    m.reportAll(s_ = base['s'].iloc[0])\n",
    "    sol_cf = m.db.copy()\n",
    "    # Compute EV for this scenario as well\n",
    "    EV = m.ns['EV'].unloadSol(m.solve_EV_Permanent(base, m.db))\n",
    "    sol_cf.update(m.EV_solInPercentages(base, EV))\n",
    "    return sol, sol_cf"
   ]
  },
  {
   "cell_type": "markdown",
   "id": "c3e7b68e-f33b-4b51-8651-7f90b9d06c8c",
   "metadata": {
    "tags": []
   },
   "source": [
    "### 3.2. Simulate effects of gradually changing $\\epsilon$ and $\\theta$."
   ]
  },
  {
   "cell_type": "markdown",
   "id": "4b1b7dcf-d44c-40ef-85e3-10b63e311441",
   "metadata": {},
   "source": [
    "Consider varying $\\epsilon$ between $0-\\epsilon_{max}$ for $\\theta\\in[0, 1]$. We define: $\\epsilon_{max} \\equiv \\theta \\underline{\\eta}\\underline{h}_{t-1}/h_{t-1}+1-\\theta$."
   ]
  },
  {
   "cell_type": "code",
   "execution_count": 21,
   "id": "58775776-01a4-4940-bbc8-2cff0238445f",
   "metadata": {},
   "outputs": [],
   "source": [
    "ϵMax   = fulldb['θ'].xs(t0) * min(η) * fulldb['hi'].xs(t0-1).xs(0) / fulldb['h'].xs(t0-1) + 1-fulldb['θ'].xs(t0)\n",
    "ϵgrid  = pd.Index([round(x,2) for x in np.linspace(0,ϵMax,6)], name = '$\\eps$').insert(0, 1-base['θ'].xs(0)).sort_values()\n",
    "ϵgrid_ = ϵgrid.insert(0, base['eps'].xs(0)) \n",
    "θgrid  = pd.Index([round(x,2) for x in np.linspace(0,1,6)], name = '$\\\\theta$')\n",
    "θgrid_ = θgrid.insert(0, base['θ'].xs(0))\n",
    "idx  = pd.MultiIndex.from_product([θgrid, ϵgrid])\n",
    "idx_ = pd.MultiIndex.from_product([θgrid_, ϵgrid_])\n",
    "sol = dict.fromkeys(idx_)\n",
    "solLog = dict.fromkeys(idx_)\n",
    "sol_cf = dict.fromkeys(idx_)\n",
    "sol_cfLog = dict.fromkeys(idx_)"
   ]
  },
  {
   "cell_type": "markdown",
   "id": "6ea9d74a-e835-4edc-a377-75b76dd83b5a",
   "metadata": {},
   "source": [
    "Start by identifying a baseline solution with the baseline value of $\\epsilon$ and different $\\theta$ values. Now, loop over $\\epsilon$ values and solve and compare to the relevant baseline. "
   ]
  },
  {
   "cell_type": "code",
   "execution_count": 22,
   "id": "1972cb54-0700-4fae-aac6-b7d17bad8447",
   "metadata": {},
   "outputs": [
    {
     "name": "stdout",
     "output_type": "stream",
     "text": [
      "CPU times: total: 2min 35s\n",
      "Wall time: 2min 36s\n"
     ]
    }
   ],
   "source": [
    "%%time\n",
    "for θ, ϵ in sol:\n",
    "    sol[(θ, ϵ)], sol_cf[(θ,ϵ)] = parameterShock_PEE(m_2010, sGrid, fulldb['s[t-1]'][t0], base, m_2010.initSC(ϵ, 'eps') | m_2010.initSC(θ, 'θ'))"
   ]
  },
  {
   "cell_type": "markdown",
   "id": "69db025b-388a-4d48-b6ba-ad1b543b0847",
   "metadata": {},
   "source": [
    "Do the same for the log-case:"
   ]
  },
  {
   "cell_type": "code",
   "execution_count": 24,
   "id": "14f2b1a3-4d7b-4a85-a192-b2469722dcac",
   "metadata": {},
   "outputs": [
    {
     "name": "stdout",
     "output_type": "stream",
     "text": [
      "CPU times: total: 1min 55s\n",
      "Wall time: 1min 56s\n"
     ]
    }
   ],
   "source": [
    "%%time\n",
    "for θ, ϵ in sol:\n",
    "    solLog[(θ, ϵ)], sol_cfLog[(θ,ϵ)] = log_parameterShock_PEE(mLog_2010, fulldbLog['s'][t0], baseLog, mLog_2010.initSC(ϵ, 'eps') | mLog_2010.initSC(θ, 'θ'))"
   ]
  }
 ],
 "metadata": {
  "kernelspec": {
   "display_name": "Python 3 (ipykernel)",
   "language": "python",
   "name": "python3"
  },
  "language_info": {
   "codemirror_mode": {
    "name": "ipython",
    "version": 3
   },
   "file_extension": ".py",
   "mimetype": "text/x-python",
   "name": "python",
   "nbconvert_exporter": "python",
   "pygments_lexer": "ipython3",
   "version": "3.11.4"
  }
 },
 "nbformat": 4,
 "nbformat_minor": 5
}
