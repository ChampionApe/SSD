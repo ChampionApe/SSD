{
 "cells": [
  {
   "cell_type": "code",
   "execution_count": 1,
   "id": "7d1457d1-835e-4b5d-8647-0d2fb3aff8e4",
   "metadata": {},
   "outputs": [],
   "source": [
    "%run stdPackages.ipynb\n",
    "from vectorized import *\n",
    "self = infHorizon(ni = 5, T = 10)"
   ]
  },
  {
   "cell_type": "markdown",
   "id": "d2c0e107-a3d5-45ef-a401-3da6d1b46b28",
   "metadata": {},
   "source": [
    "The infinite horizon PEE model consists of 7 equations for each $t$; all 7 equations are only forward-looking in that they specifically depend on the future policy $\\tau_{t+1}$. For the infinite horizon model this means that the 7 equations are implemented for all $t<T$. For $t=T$ the same set of equations is used, albeit with the condition $\\tau_{t+1}=\\tau_t$."
   ]
  },
  {
   "cell_type": "markdown",
   "id": "ebf83fa9-bae6-489f-9601-e8ce85ac809a",
   "metadata": {},
   "source": [
    "Given this solution, we can outline the rest of the solution including individual savings rates, political support etc."
   ]
  },
  {
   "cell_type": "code",
   "execution_count": 2,
   "id": "94da1f46-9c71-4818-a479-5349144aabb9",
   "metadata": {},
   "outputs": [],
   "source": [
    "candidateVector = pd.Series(range(len(self.mainIndex)), index = self.mainIndex)\n",
    "x = candidateVector.values"
   ]
  },
  {
   "cell_type": "markdown",
   "id": "011721b3-6bb8-409b-b46d-eedcba4cabd1",
   "metadata": {},
   "source": [
    "We get the correct elements from the $x$ vector using the 'get' method. This extracts on symbol name + lags in the vector:"
   ]
  },
  {
   "cell_type": "code",
   "execution_count": 3,
   "id": "4fe0c8cf-025b-4ca5-989b-8204239bd4f7",
   "metadata": {},
   "outputs": [],
   "source": [
    "τ  = self.get(x, 'τ') # from a vector of all the values, extract τ\n",
    "τp = self.get(x, 'τ', l = -1) # extract τ but lagged -1 (i.e. vector of τ_{t+1})"
   ]
  },
  {
   "cell_type": "markdown",
   "id": "830cc410-f2b4-4e93-b7d3-85127081a688",
   "metadata": {},
   "source": [
    "This solves the economic equilibrium given policies:"
   ]
  },
  {
   "cell_type": "code",
   "execution_count": 4,
   "id": "68ae2c78-4618-4f8f-a2cd-780b9005a5a2",
   "metadata": {},
   "outputs": [],
   "source": [
    "τ  = np.full((self.T,), .1)\n",
    "τp = np.full((self.T,), .1) \n",
    "solEE = self.solveCoreEE(τ, τp, x0 = None)"
   ]
  },
  {
   "cell_type": "markdown",
   "id": "cdd8418c-d35a-4214-8db8-825c52647a59",
   "metadata": {},
   "source": [
    "This solves for auxiliary log-derivatives:"
   ]
  },
  {
   "cell_type": "code",
   "execution_count": 5,
   "id": "6ea775ab-250b-4ddc-9978-c618ea3c119e",
   "metadata": {},
   "outputs": [],
   "source": [
    "solLnDev = self.solveLnDevs(self.getEE(solEE.values, 'Θh'),\n",
    "                            self.getEE(solEE.values, 'Θs'),\n",
    "                            self.getEE(solEE.values, 'Υ'),\n",
    "                            τ, τp, x0 = None)"
   ]
  },
  {
   "cell_type": "markdown",
   "id": "44bd9fb6-f23a-4501-8cc6-e268384fc04f",
   "metadata": {},
   "source": [
    "This solves the entire thing in one go:"
   ]
  },
  {
   "cell_type": "code",
   "execution_count": 6,
   "id": "966eacf9-2cbe-4bea-8047-5123ead54189",
   "metadata": {},
   "outputs": [
    {
     "data": {
      "text/plain": [
       "t  variable\n",
       "0  dlnΘh      -0.245108\n",
       "   dlnΘs      -1.225540\n",
       "   dlnΥ       -1.225540\n",
       "   Θh          1.328966\n",
       "   Θs          0.094205\n",
       "                 ...   \n",
       "9  dlnΥ       -1.225540\n",
       "   Θh          1.328966\n",
       "   Θs          0.094205\n",
       "   Υ           0.314797\n",
       "   τ           0.093370\n",
       "Length: 70, dtype: float64"
      ]
     },
     "execution_count": 6,
     "metadata": {},
     "output_type": "execute_result"
    }
   ],
   "source": [
    "solPEE = self.solveCorePEE()\n",
    "solPEE"
   ]
  },
  {
   "cell_type": "markdown",
   "id": "97bd8172-bafa-45ed-97e4-a2b22f4813b9",
   "metadata": {},
   "source": [
    "Extract solution and compute coefficients/variables:"
   ]
  },
  {
   "cell_type": "code",
   "execution_count": 7,
   "id": "82eb1031-6979-4ffe-a9a4-b8e2e8c457d0",
   "metadata": {},
   "outputs": [],
   "source": [
    "self.unloadCorePEE(solPEE)\n",
    "self.reportCoefficients() # Get all the Θ coefficients\n",
    "self.reportLevels() # Get the levels of savings, consumption, and labor supply\n",
    "self.reportUtils() # Get level of utility for various consumers"
   ]
  }
 ],
 "metadata": {
  "kernelspec": {
   "display_name": "Python 3 (ipykernel)",
   "language": "python",
   "name": "python3"
  },
  "language_info": {
   "codemirror_mode": {
    "name": "ipython",
    "version": 3
   },
   "file_extension": ".py",
   "mimetype": "text/x-python",
   "name": "python",
   "nbconvert_exporter": "python",
   "pygments_lexer": "ipython3",
   "version": "3.11.4"
  }
 },
 "nbformat": 4,
 "nbformat_minor": 5
}
