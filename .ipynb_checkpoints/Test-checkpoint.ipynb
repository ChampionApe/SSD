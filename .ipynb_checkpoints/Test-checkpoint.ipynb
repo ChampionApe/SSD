{
 "cells": [
  {
   "cell_type": "code",
   "execution_count": 1,
   "id": "01e15fb1-e0e8-45ff-96a3-36e66225c6d0",
   "metadata": {},
   "outputs": [],
   "source": [
    "%run stdPackages.ipynb"
   ]
  },
  {
   "cell_type": "markdown",
   "id": "80217a33-21d7-4977-8bd4-240d73088025",
   "metadata": {},
   "source": [
    "*Settings (always exogenous):*"
   ]
  },
  {
   "cell_type": "code",
   "execution_count": 2,
   "id": "193e9258-1571-4a6d-be1a-863fe9d1dbff",
   "metadata": {},
   "outputs": [],
   "source": [
    "ni = 11 # types\n",
    "T  = 3 # periods\n",
    "AVector  = np.linspace(1, 1, T)\n",
    "νVector  = np.full((T,), 1)"
   ]
  },
  {
   "cell_type": "markdown",
   "id": "cf100230-9f2e-44db-8a0d-6e43b8dfed13",
   "metadata": {},
   "source": [
    "*Parameters (to be calibrated or estimated):*"
   ]
  },
  {
   "cell_type": "code",
   "execution_count": 3,
   "id": "70abd4d1-79e1-4752-a557-bf72202069e4",
   "metadata": {},
   "outputs": [],
   "source": [
    "α = 0.5\n",
    "ηVector = np.linspace(1,2,ni) # vector of productivities\n",
    "γVector = np.full((ni,), 1/ni) # vector of population shares\n",
    "XVector = np.full((ni,), 1) # vector of X's\n",
    "βVector = np.full((ni,), .32) # vector of betas\n",
    "βu = 0.25\n",
    "ξ = 0.25 # frisch elasticity \n",
    "ϵ = .5\n",
    "θ = .5\n",
    "γu = .05\n",
    "χ1 = .1\n",
    "χ2 = χ1*.5\n",
    "ω  = 1.5"
   ]
  },
  {
   "cell_type": "markdown",
   "id": "298413c4-0068-43a9-9fa6-ca668daee461",
   "metadata": {},
   "source": [
    "Naming conventions:\n",
    "* Variables that are either defined over $t$ or $i$ are referred to as \"xVector\". \n",
    "* Variables that are defined over $t,i$ are referred to as \"xMatrix\". Rows are $t$, columns are $i$.\n",
    "* If a variable is defined over both $t,i$, and we only need one of the dimensions, we reference  this \"xVector_t\" for instance.\n",
    "\n",
    "Similar conventions are used for functions. "
   ]
  },
  {
   "cell_type": "code",
   "execution_count": 4,
   "id": "a0723818-f1cc-4d07-9edf-4ae2b365b8fd",
   "metadata": {},
   "outputs": [],
   "source": [
    "hiMatrix = np.full((T, ni), 0.5) # candidate\n",
    "siMatrix = np.full((T, ni), 0.5) # candidate"
   ]
  },
  {
   "cell_type": "markdown",
   "id": "90f79f67-b5e3-4c2d-b87b-bcf7a8b7c9f7",
   "metadata": {},
   "source": [
    "Pick out one year:"
   ]
  },
  {
   "cell_type": "code",
   "execution_count": 7,
   "id": "3b8ca6d0-d419-4d76-a619-61a7c3b0d73c",
   "metadata": {},
   "outputs": [],
   "source": [
    "t = 1"
   ]
  },
  {
   "cell_type": "markdown",
   "id": "38ec06f1-5155-48bb-a08e-07665a7db31a",
   "metadata": {},
   "source": [
    "Functions for one specific year:"
   ]
  },
  {
   "cell_type": "markdown",
   "id": "58f73722-a111-4a3f-a893-5da3f048877c",
   "metadata": {},
   "source": [
    "Aggregate labor and savings state:"
   ]
  },
  {
   "cell_type": "code",
   "execution_count": 8,
   "id": "3bd4b6af-2d00-4df7-b28c-7e0419a7da52",
   "metadata": {},
   "outputs": [],
   "source": [
    "A, Ap  = AVector[t], AVector[t+1]\n",
    "ν, νp  = νVector[t], νVector[t+1]\n",
    "h = base.aggregateLabor(γVector, ηVector, hiMatrix[t,:])\n",
    "s_ = base.aggregateSavings(γVector, siMatrix[t-1,:])"
   ]
  },
  {
   "cell_type": "markdown",
   "id": "3b94595c-208d-4d71-99a3-5966db7ca878",
   "metadata": {},
   "source": [
    "Factor prices:"
   ]
  },
  {
   "cell_type": "code",
   "execution_count": 9,
   "id": "bbfbbd3f-b04b-46ee-aa54-329bdcc455f7",
   "metadata": {},
   "outputs": [],
   "source": [
    "R = base.interestRate(α, A, ν, s_, h)\n",
    "w = base.wageRate(α, A, ν, s_, h)"
   ]
  },
  {
   "cell_type": "markdown",
   "id": "38296de6-deda-4a41-baab-bcf3c1e48223",
   "metadata": {},
   "source": [
    "Average productivity measure:"
   ]
  },
  {
   "cell_type": "code",
   "execution_count": 10,
   "id": "e9d07e4d-f550-4291-b202-30273fb2eac0",
   "metadata": {},
   "outputs": [],
   "source": [
    "Γh = base.auxΓh(γVector, ηVector, XVector, ξ)"
   ]
  },
  {
   "cell_type": "markdown",
   "id": "285340d8-0cd4-46a1-b2d9-f6bf7e247148",
   "metadata": {},
   "source": [
    "### **Equilibrium functions**"
   ]
  },
  {
   "cell_type": "code",
   "execution_count": 11,
   "id": "4b4baebe-f020-49a4-8b61-ab312c76d209",
   "metadata": {},
   "outputs": [],
   "source": [
    "τ = .1\n",
    "τp= .1"
   ]
  },
  {
   "cell_type": "markdown",
   "id": "d0d9e6f9-37ed-406f-aff0-d8201c83a845",
   "metadata": {},
   "source": [
    "*Auxiliary functions of parameters:*"
   ]
  },
  {
   "cell_type": "code",
   "execution_count": 12,
   "id": "756b526a-52e9-412c-be2c-bc2ff6e69743",
   "metadata": {},
   "outputs": [],
   "source": [
    "Γβ1 = base.auxΓβ1(βVector, γVector, ηVector, XVector, ξ)\n",
    "Γβ2 = base.auxΓβ2(βVector, γVector, ηVector, XVector, ξ)\n",
    "Γβ3 = base.auxΓβ3(βVector, γVector)"
   ]
  },
  {
   "cell_type": "markdown",
   "id": "35456a29-9bd2-4810-a137-a54f9fbfaa15",
   "metadata": {},
   "source": [
    "*Simultaneous system of equations for h,s,$\\Upsilon$:*"
   ]
  },
  {
   "cell_type": "code",
   "execution_count": 13,
   "id": "6b6ccba5-267a-4393-b55b-6d8bf3c85669",
   "metadata": {},
   "outputs": [
    {
     "data": {
      "text/plain": [
       "(0.32355679138829757, 1.3339405548503942, 0.09249181643995773)"
      ]
     },
     "execution_count": 13,
     "metadata": {},
     "output_type": "execute_result"
    }
   ],
   "source": [
    "Θs0 = .053 # initial value\n",
    "Θh0 = 1.43 # initial value\n",
    "Υ = base.auxΥ(α, A, ε, θ, γu, Γh, Θh0, Θs0, τ, τp)\n",
    "Θh  = base.auxΘh(ξ, Γh, Υ)\n",
    "Θs  = base.auxΘs(α, A, ε, θ, γu, βVector, γVector, ηVector, XVector, ξ, Υ, Γh, τ, τp)\n",
    "Υ, Θh, Θs"
   ]
  },
  {
   "cell_type": "markdown",
   "id": "6a1db241-f971-4d01-839f-f34f342903bb",
   "metadata": {},
   "source": [
    "Given parameter values and policies, identify the economic equilibrium:"
   ]
  },
  {
   "cell_type": "code",
   "execution_count": 14,
   "id": "63ba0166-3e86-49d5-ba37-76f611f44607",
   "metadata": {},
   "outputs": [
    {
     "data": {
      "text/plain": [
       "(0.31274177199344644, 1.324901374995614, 0.09290799639798793)"
      ]
     },
     "execution_count": 14,
     "metadata": {},
     "output_type": "execute_result"
    }
   ],
   "source": [
    "Υ, Θh, Θs = base.solveCoreEE(α, A, ϵ, θ, γu, βVector, γVector, ηVector, XVector, ξ, Γh, τ, τp, x0 = None) # x0 = None uses the default starting point of [0.5, 0.5, 0.5]\n",
    "Υ, Θh, Θs"
   ]
  },
  {
   "cell_type": "markdown",
   "id": "aa5f29c9-34f5-4b74-994d-3c9025cd414d",
   "metadata": {},
   "source": [
    "Given these, solve for log-derivatives:"
   ]
  },
  {
   "cell_type": "code",
   "execution_count": 15,
   "id": "bb79ada8-9a57-4471-ba6d-93d64c7a07b7",
   "metadata": {},
   "outputs": [
    {
     "data": {
      "text/plain": [
       "(-1.2345679012345752, -0.246913580246915, -1.234567901234567)"
      ]
     },
     "execution_count": 15,
     "metadata": {},
     "output_type": "execute_result"
    }
   ],
   "source": [
    "dlnΥ, dlnΘh, dlnΘs = base.solveCoreLogDevEE(Υ, Θh, Θs, α, A, ϵ, θ, γu, ξ, Γh, τ, τp, x0 = None) # x0 = None uses default starting point [1,1,1]\n",
    "dlnΥ, dlnΘh, dlnΘs"
   ]
  },
  {
   "cell_type": "markdown",
   "id": "f39de12d-6a53-4c43-84a3-89f3a0475b91",
   "metadata": {},
   "source": [
    "Compute savings spread (only a function of parameters and the future pension tax, $\\Theta_{s,t}^i/\\Theta_{s,t}$):"
   ]
  },
  {
   "cell_type": "code",
   "execution_count": 16,
   "id": "c641d89d-072d-4208-a70e-365123ad5d1b",
   "metadata": {},
   "outputs": [
    {
     "data": {
      "text/plain": [
       "array([0.58239766, 0.6610649 , 0.74154272, 0.82371647, 0.90748718,\n",
       "       0.99276837, 1.07948376, 1.1675655 , 1.2569528 , 1.34759082,\n",
       "       1.43942981])"
      ]
     },
     "execution_count": 16,
     "metadata": {},
     "output_type": "execute_result"
    }
   ],
   "source": [
    "base.savingsSpread(α,ϵ,θ,γu,βVector,γVector, ηVector, XVector, ξ, Γh, τp)"
   ]
  },
  {
   "cell_type": "markdown",
   "id": "614b9b07-dea1-483b-8cb9-3a3d2d9de6dd",
   "metadata": {},
   "source": [
    "$\\Theta_{s,t}^i$:"
   ]
  },
  {
   "cell_type": "code",
   "execution_count": 17,
   "id": "3fdb4984-62a5-430d-b7cc-073ee563c402",
   "metadata": {},
   "outputs": [
    {
     "data": {
      "text/plain": [
       "array([0.0541094 , 0.06141822, 0.06889525, 0.07652985, 0.08431282,\n",
       "       0.09223612, 0.10029267, 0.10847617, 0.11678097, 0.12520196,\n",
       "       0.13373454])"
      ]
     },
     "execution_count": 17,
     "metadata": {},
     "output_type": "execute_result"
    }
   ],
   "source": [
    "Θsi = base.auxΘsi(Υ, Θs, α, A, ε, θ, γu, βVector, ηVector, XVector, ξ, Γh, τ, τp) # directly\n",
    "Θs * base.savingsSpread(α,ϵ,θ,γu,βVector,γVector, ηVector, XVector, ξ, Γh, τp) # through implemented spread"
   ]
  },
  {
   "cell_type": "markdown",
   "id": "ec919a0f-52d9-4ba8-b761-a0b861ea46cb",
   "metadata": {},
   "source": [
    "Labor supply:"
   ]
  },
  {
   "cell_type": "code",
   "execution_count": 18,
   "id": "d2e08ccd-2e32-4d68-a832-d52b014c79b6",
   "metadata": {},
   "outputs": [
    {
     "data": {
      "text/plain": [
       "array([0.79256918, 0.89284904, 0.9954369 , 1.10018665, 1.20697208,\n",
       "       1.31568297, 1.42622208, 1.53850294, 1.65244803, 1.76798746,\n",
       "       1.88505781])"
      ]
     },
     "execution_count": 18,
     "metadata": {},
     "output_type": "execute_result"
    }
   ],
   "source": [
    "Θhi = base.auxΘhi(Υ, ηVector, XVector, ξ)\n",
    "Θhi"
   ]
  },
  {
   "cell_type": "markdown",
   "id": "223ca0e4-a64a-4535-b37e-ba9c36a755d7",
   "metadata": {},
   "source": [
    "Consumption when young:"
   ]
  },
  {
   "cell_type": "code",
   "execution_count": 19,
   "id": "b4047ee7-a22c-4db0-bfde-8a11ddf7eda3",
   "metadata": {},
   "outputs": [
    {
     "data": {
      "text/plain": [
       "array([0.25574518, 0.28764073, 0.32027038, 0.35358765, 0.3875524 ,\n",
       "       0.42212957, 0.45728824, 0.49300089, 0.52924288, 0.56599197,\n",
       "       0.603228  ])"
      ]
     },
     "execution_count": 19,
     "metadata": {},
     "output_type": "execute_result"
    }
   ],
   "source": [
    "Θc1i = base.auxΘc1i(Υ, Θs, α, A, ε, θ, γu, βVector, ηVector, XVector, ξ, Γh, τ, τp)\n",
    "Θc1i"
   ]
  },
  {
   "cell_type": "markdown",
   "id": "00aab483-6b67-4dba-94c6-3a86f8afb419",
   "metadata": {},
   "source": [
    "Consumption, currently retired:"
   ]
  },
  {
   "cell_type": "code",
   "execution_count": 20,
   "id": "dc470e86-7145-4a70-8dc9-c66126e89012",
   "metadata": {},
   "outputs": [
    {
     "data": {
      "text/plain": [
       "array([0.38296461, 0.4305022 , 0.4791339 , 0.52879043, 0.57941198,\n",
       "       0.6309463 , 0.68334728, 0.73657393, 0.79058951, 0.84536088,\n",
       "       0.90085799])"
      ]
     },
     "execution_count": 20,
     "metadata": {},
     "output_type": "execute_result"
    }
   ],
   "source": [
    "Θc2i = base.auxΘc2i(Θh, α, A, ε, θ, γu, βVector, γVector, ηVector, XVector, ξ, Γh, ν, τ)\n",
    "Θc2i"
   ]
  },
  {
   "cell_type": "markdown",
   "id": "9b92aec5-e277-479b-bf86-672953486ebc",
   "metadata": {},
   "source": [
    "Consumption, retired in t+1 (this actually depends on the $\\Theta_{h,t+1}$; here we just use $\\Theta_{h,t}$ assuming stst like eq.)"
   ]
  },
  {
   "cell_type": "code",
   "execution_count": 21,
   "id": "9b3f00c9-f057-453f-93eb-cab09b02f692",
   "metadata": {},
   "outputs": [
    {
     "data": {
      "text/plain": [
       "array([0.10229509, 0.11499304, 0.12798323, 0.14124717, 0.15476888,\n",
       "       0.1685344 , 0.18253142, 0.19674899, 0.21117729, 0.22580747,\n",
       "       0.24063151])"
      ]
     },
     "execution_count": 21,
     "metadata": {},
     "output_type": "execute_result"
    }
   ],
   "source": [
    "Θc2pi = base.auxΘc2pi(Θh, Θs, α, Ap, ε, θ, γu, βVector, γVector, ηVector, XVector, ξ, Γh, νp, τp) # assumes steady state -- this actually depends on Thetahp \n",
    "Θc2pi"
   ]
  },
  {
   "cell_type": "markdown",
   "id": "35590975-ffe9-499b-8211-0683e4873bff",
   "metadata": {},
   "source": [
    "Consumption corrected for disutility of labor supply:"
   ]
  },
  {
   "cell_type": "code",
   "execution_count": 22,
   "id": "1668ee04-4480-4214-a1c1-be461b062bdb",
   "metadata": {},
   "outputs": [
    {
     "data": {
      "text/plain": [
       "array([0.19319682, 0.21717844, 0.24171201, 0.26676259, 0.2923    ,\n",
       "       0.31829787, 0.34473296, 0.37158458, 0.39883419, 0.42646509,\n",
       "       0.4544621 ])"
      ]
     },
     "execution_count": 22,
     "metadata": {},
     "output_type": "execute_result"
    }
   ],
   "source": [
    "Θ̃c1i = base.auxΘ̃c1i(Υ, Θs, α, A, ε, θ, γu, βVector, ηVector, XVector, ξ, Γh, τ, τp)\n",
    "Θ̃c1i"
   ]
  },
  {
   "cell_type": "markdown",
   "id": "b39436c4-dfcc-4848-87cb-7b635c3a1dcc",
   "metadata": {},
   "source": [
    "Consumption, unemployed young:"
   ]
  },
  {
   "cell_type": "code",
   "execution_count": 23,
   "id": "e418c448-68f0-45e7-aafc-b23116ceadce",
   "metadata": {},
   "outputs": [
    {
     "data": {
      "text/plain": [
       "0.11510436025605696"
      ]
     },
     "execution_count": 23,
     "metadata": {},
     "output_type": "execute_result"
    }
   ],
   "source": [
    "Θc1u = base.auxc1u(Θh, α, A, χ1)\n",
    "Θc1u"
   ]
  },
  {
   "cell_type": "markdown",
   "id": "a85e42c0-9b59-4ebe-a400-894e7299887d",
   "metadata": {},
   "source": [
    "Consumption, unemployed retired:"
   ]
  },
  {
   "cell_type": "code",
   "execution_count": 24,
   "id": "07b95859-3ad4-499b-b077-80cb605abe41",
   "metadata": {},
   "outputs": [
    {
     "data": {
      "text/plain": [
       "0.07250079834310082"
      ]
     },
     "execution_count": 24,
     "metadata": {},
     "output_type": "execute_result"
    }
   ],
   "source": [
    "Θc2u = base.auxc2u(Θh, α, A, ε, θ, γu, χ2, ν, τ)\n",
    "Θc2u"
   ]
  },
  {
   "cell_type": "markdown",
   "id": "d530918f-09cd-433c-97ec-ff90282bf3f6",
   "metadata": {},
   "source": [
    "Consumption, unemployed retired:"
   ]
  },
  {
   "cell_type": "code",
   "execution_count": 25,
   "id": "d0598752-f2de-46e2-9c8d-e397b51245eb",
   "metadata": {},
   "outputs": [],
   "source": [
    "Θc2pu = base.auxc2pu(Θh, Θs, α, Ap, ε, θ, γu, ξ, χ2, νp, τp)"
   ]
  },
  {
   "cell_type": "markdown",
   "id": "79676bd5-7c7a-4c60-bd0c-2492e6b6c059",
   "metadata": {},
   "source": [
    "### **PEE functions**"
   ]
  },
  {
   "cell_type": "markdown",
   "id": "8f85a876-2197-4611-9d62-3b2ddbfae6d0",
   "metadata": {},
   "source": [
    "The marginal political support can now be defined from:"
   ]
  },
  {
   "cell_type": "code",
   "execution_count": 26,
   "id": "54d6e4ca-5c67-4de8-9b94-859afcd38fe1",
   "metadata": {},
   "outputs": [
    {
     "data": {
      "text/plain": [
       "1.9383988799796354"
      ]
     },
     "execution_count": 26,
     "metadata": {},
     "output_type": "execute_result"
    }
   ],
   "source": [
    "base.polSupportUnemployedRetiree(dlnΘh, α, ε, θ, γu, χ2, ν, τ) # from hand-to-mouth retirees"
   ]
  },
  {
   "cell_type": "markdown",
   "id": "abe19373-8519-4fa5-9e0b-eadc80fbc172",
   "metadata": {},
   "source": [
    "From other types:"
   ]
  },
  {
   "cell_type": "code",
   "execution_count": 27,
   "id": "b9fc103e-81a4-4112-8f74-764922bc0c58",
   "metadata": {},
   "outputs": [
    {
     "data": {
      "text/plain": [
       "array([1.12423187, 1.03902133, 0.96934627, 0.91142659, 0.8626002 ,\n",
       "       0.8209414 , 0.78502475, 0.75377392, 0.72636185, 0.70214316,\n",
       "       0.6806073 ])"
      ]
     },
     "execution_count": 27,
     "metadata": {},
     "output_type": "execute_result"
    }
   ],
   "source": [
    "base.polSupportRetireeVector(dlnΘh, α, ε, θ, γu, βVector, γVector, ηVector, XVector, ξ, Γh, τ) # from hand-to-mouth retirees"
   ]
  },
  {
   "cell_type": "markdown",
   "id": "27cd38ca-c7f9-43b5-8479-c60a8b61050a",
   "metadata": {},
   "source": [
    "The weighted sum of political support from retirees:"
   ]
  },
  {
   "cell_type": "code",
   "execution_count": null,
   "id": "4c15ee67-1738-4349-bc65-60dbcbaa28b7",
   "metadata": {},
   "outputs": [],
   "source": [
    "base.polSupportRetirees(dlnΘh, α, ε, θ, γu, βVector, γVector, ηVector, XVector, ξ, χ2, ω, Γh, ν, τ)"
   ]
  },
  {
   "cell_type": "markdown",
   "id": "9cbd3c92-1f92-48c2-8d02-aefc983055c1",
   "metadata": {},
   "source": [
    "The political support from young, unemployed:"
   ]
  },
  {
   "cell_type": "code",
   "execution_count": null,
   "id": "a01a8983-d1f7-4807-a8c3-746fb5100dde",
   "metadata": {},
   "outputs": [],
   "source": [
    "base.polSupportUnemployedYoung(dlnΘh, dlnΘs, α, βu, ξ)"
   ]
  },
  {
   "cell_type": "markdown",
   "id": "52c326d9-942c-4536-853a-c20b7de12fc8",
   "metadata": {},
   "source": [
    "The political support from young, employed:"
   ]
  },
  {
   "cell_type": "code",
   "execution_count": null,
   "id": "53e3946e-a2d3-4722-9f77-43d8c5c91d9e",
   "metadata": {},
   "outputs": [],
   "source": [
    "base.polSupportWorkerVector(dlnΘs, α, βVector, ξ)"
   ]
  },
  {
   "cell_type": "markdown",
   "id": "5ed0f484-3e0f-4097-8b23-bca77cf5e4ed",
   "metadata": {},
   "source": [
    "The weighted sum of political support from workers:"
   ]
  },
  {
   "cell_type": "code",
   "execution_count": null,
   "id": "0abb0b7f-41d9-4d30-a189-bbf748f5f710",
   "metadata": {},
   "outputs": [],
   "source": [
    "base.polSupportYoung(dlnΘh, dlnΘs, α, γu, βVector, γVector, βu, ξ, ν)"
   ]
  },
  {
   "cell_type": "markdown",
   "id": "d34e971c-0e8b-4da5-bea0-a7ae9b74af8d",
   "metadata": {},
   "source": [
    "Equilibrium requires this to be zero:"
   ]
  },
  {
   "cell_type": "code",
   "execution_count": null,
   "id": "cb98b440-df94-42e1-a921-c82592316c19",
   "metadata": {},
   "outputs": [],
   "source": [
    "(base.polSupportYoung(dlnΘh, dlnΘs, α, γu, βVector, γVector, βu, ξ, ν)\n",
    " +base.polSupportRetirees(dlnΘh, α, ε, θ, γu, βVector, γVector, ηVector, XVector, ξ, χ2, ω, Γh, ν, τ) )"
   ]
  },
  {
   "cell_type": "markdown",
   "id": "81f7fe17-4758-472e-91db-1be49e9e2dc2",
   "metadata": {},
   "source": [
    "The equilibrium in full is solved by:"
   ]
  },
  {
   "cell_type": "code",
   "execution_count": null,
   "id": "fe318e2f-af40-412a-bad7-83aac911b89e",
   "metadata": {},
   "outputs": [],
   "source": [
    "τ, Υ, Θh, Θs, dlnΥ, dlnΘh, dlnΘs = base.solveCorePEE(α, A, ε, θ, γu, βVector, γVector, ηVector, XVector, βu, ξ, χ2, ω, Γh, ν, τp)"
   ]
  },
  {
   "cell_type": "markdown",
   "id": "d7f1a7ab-6539-4f63-a935-422c4cc7d38b",
   "metadata": {},
   "source": [
    "Steady state condition - use $\\tau_{+1} = \\tau$"
   ]
  },
  {
   "cell_type": "code",
   "execution_count": null,
   "id": "fd7203a3-e59e-4577-9082-b80077255dd0",
   "metadata": {},
   "outputs": [],
   "source": [
    "τ, Υ, Θh, Θs, dlnΥ, dlnΘh, dlnΘs = base.solveCorePEE_stst(α, A, ε, θ, γu, βVector, γVector, ηVector, XVector, βu, ξ, χ2, ω, Γh, ν)"
   ]
  },
  {
   "cell_type": "markdown",
   "id": "a2f7cabd-5af5-489e-8ef8-8b2663261a7f",
   "metadata": {},
   "source": [
    "### **Indirect utility, given $\\epsilon, \\theta$**"
   ]
  },
  {
   "cell_type": "markdown",
   "id": "a9442287-03ae-4e5c-8b52-728b009c0f67",
   "metadata": {},
   "source": [
    "Retirees:"
   ]
  },
  {
   "cell_type": "code",
   "execution_count": null,
   "id": "279ddc62-0047-4283-a9cd-37d479fbbcde",
   "metadata": {},
   "outputs": [],
   "source": [
    "base.indirectUtilityRetireeVector(Θh, α, A, ε, θ, γu, βVector, γVector, ηVector, XVector, ξ, Γh, ν, τ)"
   ]
  },
  {
   "cell_type": "markdown",
   "id": "5cf9a1d4-89d1-467d-9a9f-7a952f3ad860",
   "metadata": {},
   "source": [
    "Retirees, unemployed:"
   ]
  },
  {
   "cell_type": "code",
   "execution_count": null,
   "id": "4f63015c-df6d-445a-8653-5a90f4a779d5",
   "metadata": {},
   "outputs": [],
   "source": [
    "base.indirectUtilityUnemployedRetiree(Θh, α, A, ε, θ, γu, ξ, χ2, ν, τ)"
   ]
  },
  {
   "cell_type": "markdown",
   "id": "35b8887f-ebcf-43fa-be0f-28922ae8d78d",
   "metadata": {},
   "source": [
    "Young, workers:"
   ]
  },
  {
   "cell_type": "code",
   "execution_count": null,
   "id": "ca38f65f-717a-4f59-bb1d-15ddc30eead2",
   "metadata": {},
   "outputs": [],
   "source": [
    "base.indirectUtilityWorkerVector(Υ, Θh, Θs, α, A, Ap, ε, θ, γu, βVector, γVector, ηVector, XVector, ξ, Γh, ν, νp, τ, τp)"
   ]
  },
  {
   "cell_type": "markdown",
   "id": "7f32cebf-01d1-4b62-8b5f-d0a3890cdd5a",
   "metadata": {},
   "source": [
    "Young, unemployed:"
   ]
  },
  {
   "cell_type": "code",
   "execution_count": null,
   "id": "e2c6036c-e11c-4275-b858-50a0a445f6ea",
   "metadata": {},
   "outputs": [],
   "source": [
    "base.indirectUtilityUemployedYoung(Θh, Θh, Θs, α, A, Ap, ε, θ, γu, χ1, χ2, βu, ξ, ν, νp, τp)"
   ]
  }
 ],
 "metadata": {
  "kernelspec": {
   "display_name": "Python 3 (ipykernel)",
   "language": "python",
   "name": "python3"
  },
  "language_info": {
   "codemirror_mode": {
    "name": "ipython",
    "version": 3
   },
   "file_extension": ".py",
   "mimetype": "text/x-python",
   "name": "python",
   "nbconvert_exporter": "python",
   "pygments_lexer": "ipython3",
   "version": "3.11.4"
  }
 },
 "nbformat": 4,
 "nbformat_minor": 5
}
