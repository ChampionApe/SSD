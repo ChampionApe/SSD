{
 "cells": [
  {
   "cell_type": "code",
   "execution_count": 1,
   "id": "b2cf64e6-51a8-4ebb-87bd-b805d2500895",
   "metadata": {},
   "outputs": [],
   "source": [
    "%run stdPackages.ipynb\n",
    "os.chdir(d['py'])\n",
    "import US_main, US_c, US_policy\n",
    "os.chdir(d['curr'])"
   ]
  },
  {
   "cell_type": "markdown",
   "id": "877d2639-fdca-4bf9-9bc7-f29c2913136f",
   "metadata": {},
   "source": [
    "## US FH:"
   ]
  },
  {
   "cell_type": "markdown",
   "id": "7cb5c3cd-f6e7-4041-9ebf-68a24fb8933b",
   "metadata": {},
   "source": [
    "Define data and parameters:"
   ]
  },
  {
   "cell_type": "code",
   "execution_count": 2,
   "id": "14bf528a-045a-40e4-a699-b590d779f7db",
   "metadata": {
    "jupyter": {
     "source_hidden": true
    },
    "tags": []
   },
   "outputs": [],
   "source": [
    "dates_log = pd.Index([1950, 1980, 2010, 2040, 2070, 2100], name = 't')\n",
    "ν_log = np.array([1.504840069, 1.394563144, 1.178137696, 1.055068673, 1.018706685, 1.018706685])\n",
    "T_log = len(ν_log)\n",
    "T = T_log+3\n",
    "dates = dates_log.union(pd.Index([dates_log[-1]+30*i for i in range(1,T-T_log+1)]))\n",
    "ν = np.hstack([ν_log, np.full(T-T_log, ν_log[-1])])\n",
    "A = np.ones(T) # normalize exog. productivity at 1 \n",
    "t0date = 2010 # calibration date\n",
    "t0 = dates.get_loc(t0date) # index for year of calibration \n",
    "\n",
    "\n",
    "# \"Simple\" calibration:\n",
    "α = .281 # capital income share\n",
    "\n",
    "# Household types:\n",
    "γj  = np.array([.056, 0.449, 0.307, 0.188])\n",
    "ni = len(γj)-1\n",
    "hours = np.array([1415.38, 2114.79, 2315.83, 2458.91]) # hours\n",
    "wagerates = np.array([6.914, 14.88, 27.32, 62.26]) # wages\n",
    "income = hours*wagerates\n",
    "zxj = hours/hours[1:].mean()\n",
    "zηj = income/income[1:].mean()\n",
    "pj = np.array([0.385, 0.55, 0.652, 0.74])\n",
    "μj = np.array([0.362, 0.526, 0.684, 0.756]) # voter turnout \n",
    "\n",
    "\n",
    "# other targets:\n",
    "τ0 = .158 # target labor tax rate\n",
    "RR = 39.4/50.1 # replacement rate\n",
    "universalShare = 3.4/15.8 # share of ss going to universal\n",
    "R0 = 2.443 \n",
    "\n",
    "\n",
    "# Initial/baseline values:\n",
    "ξ0 = .1\n",
    "ρ0 = 1.1\n",
    "ω0 = 1.5\n",
    "# βj = np.ones(ni+1)"
   ]
  },
  {
   "cell_type": "markdown",
   "id": "843db969-2397-414e-9e50-f5fcb538443c",
   "metadata": {},
   "source": [
    "Package them in kwargs:"
   ]
  },
  {
   "cell_type": "code",
   "execution_count": 3,
   "id": "214495b0-9c48-4ed5-9d5e-4952eab6e8a8",
   "metadata": {
    "tags": []
   },
   "outputs": [],
   "source": [
    "kwargs = {'α': α, 'A': A, 'ν': ν, 'γj': γj, 'zxj': zxj, 'zηj': zηj, 'pj': pj, 'μj': μj, 'τ0': τ0, 'RR0': RR, 'UShare0': universalShare, 'R0': R0, 'ξ': ξ0, 'ρ': ρ0, 'ω': ω0}"
   ]
  },
  {
   "cell_type": "markdown",
   "id": "629b5063-7380-4802-96df-caee8ce3453a",
   "metadata": {},
   "source": [
    "Initialize model:"
   ]
  },
  {
   "cell_type": "code",
   "execution_count": 4,
   "id": "2f11a0e1-84c0-4441-8401-86696d5c1286",
   "metadata": {
    "tags": []
   },
   "outputs": [],
   "source": [
    "m = US_main.Model(ni = ni, T = T, gridkwargs = {'glob_ns': 50}, **kwargs)"
   ]
  },
  {
   "cell_type": "markdown",
   "id": "902ca6f4-6c4f-475e-8e64-5df04ae17df2",
   "metadata": {},
   "source": [
    "Try the following: Calibrate with PEE, calibrate ESC_FH with x0_from_solp = true in the first loop. Then disable it and rely on x0 in later runs."
   ]
  },
  {
   "cell_type": "code",
   "execution_count": 5,
   "id": "47a6522c-f0ac-428b-b687-cf87a9a53a52",
   "metadata": {},
   "outputs": [],
   "source": [
    "solρ = dict.fromkeys(np.round(np.linspace(ρ0, ρ0+1, 11), 1))\n",
    "polρ = dict.fromkeys(np.round(np.linspace(ρ0, ρ0+1, 11), 1))"
   ]
  },
  {
   "cell_type": "code",
   "execution_count": null,
   "id": "0fbd8ac8-5b7a-4f6d-a477-5caadaf4a9bc",
   "metadata": {},
   "outputs": [],
   "source": [
    "m.USCalSimple_PEE_FH(t0);\n",
    "par0 = m.USCalSimple_ESC_FH(t0)\n",
    "solρ[ρ0], polρ[ρ0] = m.ESC_FH(returnPols = True)\n",
    "# m.ESC.kwargs_t = {'style': 'Grid'} | m.ESC.grids\n",
    "m.ESC.kwargs_t = {'style': 'Vector', 'x0_from_solp': False} # Try not using x0_from_solp \n",
    "for ρi in list(solρ.keys())[1:7]:\n",
    "    m.db['ρ'] = ρi\n",
    "    m.USCalSimple_ESC_FH(t0);\n",
    "    solρ[ρi], polρ[ρi] = m.ESC_FH(returnPols = True)\n",
    "# Switch to grid search for the final terms (this is where things get more tricky):\n",
    "m.ESC.kwargs_t = {'style': 'Grid'} | m.ESC.grids\n",
    "for ρi in list(solρ.keys())[7:]:\n",
    "    m.db['ρ'] = ρi\n",
    "    m.USCalSimple_ESC_FH(t0);\n",
    "    solρ[ρi], polρ[ρi] = m.ESC_FH(returnPols = True)"
   ]
  },
  {
   "cell_type": "markdown",
   "id": "e135190c-1c8c-404d-8ff7-d2bf6ed4414a",
   "metadata": {},
   "source": [
    "Now turn $\\rho$ towards 0.5 instead:"
   ]
  },
  {
   "cell_type": "code",
   "execution_count": null,
   "id": "c0806df9-cbcb-418c-95d8-3cb0181443ae",
   "metadata": {},
   "outputs": [],
   "source": [
    "solρ_lower = dict.fromkeys(np.round(np.linspace(.9, .5, 5), 1))\n",
    "polρ_lower = dict.fromkeys(np.round(np.linspace(.9, .5, 5), 1))"
   ]
  },
  {
   "cell_type": "code",
   "execution_count": null,
   "id": "0907e155-754f-44a0-bb7c-d3ac93dc5404",
   "metadata": {
    "tags": []
   },
   "outputs": [],
   "source": [
    "kwargs['ρ'] = 0.9\n",
    "kwargs['ω'] = 2\n",
    "m = US_main.Model(ni = ni, T = T, gridkwargs = {'glob_ns': 50}, **kwargs)"
   ]
  },
  {
   "cell_type": "code",
   "execution_count": null,
   "id": "3bfabc6d-886b-4660-a641-302f01f7f47b",
   "metadata": {},
   "outputs": [],
   "source": [
    "m.USCalSimple_PEE_FH(t0);\n",
    "m.USCalSimple_ESC_FH(t0);\n",
    "m.ESC.kwargs_t = {'style': 'Vector', 'x0_from_solp': False} # Try not using x0_from_solp \n",
    "for ρi in solρ_lower:\n",
    "    m.db['ρ'] = ρi\n",
    "    m.USCalSimple_ESC_FH(t0);\n",
    "    solρ_lower[ρi], polρ_lower[ρi] = m.ESC_FH(returnPols = True)"
   ]
  }
 ],
 "metadata": {
  "kernelspec": {
   "display_name": "Python 3 (ipykernel)",
   "language": "python",
   "name": "python3"
  },
  "language_info": {
   "codemirror_mode": {
    "name": "ipython",
    "version": 3
   },
   "file_extension": ".py",
   "mimetype": "text/x-python",
   "name": "python",
   "nbconvert_exporter": "python",
   "pygments_lexer": "ipython3",
   "version": "3.11.4"
  }
 },
 "nbformat": 4,
 "nbformat_minor": 5
}
