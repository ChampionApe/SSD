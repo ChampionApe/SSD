{
 "cells": [
  {
   "cell_type": "code",
   "execution_count": 1,
   "id": "6f3cfc5b-54f4-4dc8-bc25-9510c160e9e3",
   "metadata": {},
   "outputs": [],
   "source": [
    "%run stdPackages.ipynb"
   ]
  },
  {
   "cell_type": "markdown",
   "id": "efd48bd8-c1be-4d37-a828-be6dfa36d1cf",
   "metadata": {
    "tags": []
   },
   "source": [
    "# Social Security Design - Argentina"
   ]
  },
  {
   "cell_type": "markdown",
   "id": "7a5e4057-73d1-4c23-b0c1-ed56adbd946a",
   "metadata": {},
   "source": [
    "This loops through different parameter values for $\\rho$, calibrates the model, stores the dictionary of policy functions for each $t$, stores main calibration parameters, and the solution path. We start from the LOG model."
   ]
  },
  {
   "cell_type": "code",
   "execution_count": 2,
   "id": "67e9af09-c487-45b4-a404-861849651d33",
   "metadata": {},
   "outputs": [],
   "source": [
    "t0date = 2010\n",
    "ngrid = 50\n",
    "ns0 = 25\n",
    "t_ss  = 5 # number of periods in steady state\n",
    "%run ArgentinaData.ipynb"
   ]
  },
  {
   "cell_type": "markdown",
   "id": "d29fc6e5-7425-4d10-afb9-0dfd00bdd932",
   "metadata": {},
   "source": [
    "### Analytical PEE Model"
   ]
  },
  {
   "cell_type": "code",
   "execution_count": 3,
   "id": "e3edad01-0a0f-43d0-819f-d00c54a2bf72",
   "metadata": {},
   "outputs": [],
   "source": [
    "kwargs = {k: kwargs[k] for k in ('T', 'nj','ngrid')}\n",
    "gridkwargs = {'τ_n': 101}\n",
    "m = argentina_main.Model_A(pars = targs | pars | parsj, gridkwargs = gridkwargs, **kwargs)\n",
    "m.db.update(m.adjPar('ρ', 1.05))"
   ]
  },
  {
   "cell_type": "markdown",
   "id": "429b76d4-1ab1-4be8-8b0d-26df8fb5d09b",
   "metadata": {},
   "source": [
    "#### Vector optimization:"
   ]
  },
  {
   "cell_type": "code",
   "execution_count": 4,
   "id": "e374f702-62b1-4576-b60d-eb186ae3dd90",
   "metadata": {},
   "outputs": [],
   "source": [
    "sols = m.PEE.FH()"
   ]
  },
  {
   "cell_type": "markdown",
   "id": "cd150182-0fbf-471e-aad4-583e00b68083",
   "metadata": {},
   "source": [
    "Grid search stuff instead:"
   ]
  },
  {
   "cell_type": "code",
   "execution_count": 5,
   "id": "c2182cf7-20a8-47e4-8530-d2c8f5863145",
   "metadata": {},
   "outputs": [],
   "source": [
    "m.PEE.kwargs_T['style'] = 'GridSC'\n",
    "m.PEE.kwargs_T_['style'] = 'GridSC'\n",
    "m.PEE.kwargs_t['style'] = 'GridSC'"
   ]
  },
  {
   "cell_type": "markdown",
   "id": "c3f31fc9-5bd5-4753-b772-c30014d9603f",
   "metadata": {},
   "source": []
  },
  {
   "cell_type": "code",
   "execution_count": 6,
   "id": "ca034cff-92d3-42b4-b798-5c4ba8650737",
   "metadata": {},
   "outputs": [],
   "source": [
    "solsGrid = m.PEE.FH()"
   ]
  },
  {
   "cell_type": "code",
   "execution_count": 8,
   "id": "5a1bb4dc-ec97-452b-8d7b-65c76e188904",
   "metadata": {},
   "outputs": [
    {
     "data": {
      "text/plain": [
       "array([-1.15539193e-05, -1.15789231e-05, -1.15933761e-05, -1.16035537e-05,\n",
       "       -1.16114029e-05, -1.16177873e-05, -1.16231656e-05, -1.16278092e-05,\n",
       "       -1.16318929e-05, -1.16355374e-05, -1.16388275e-05, -1.16418245e-05,\n",
       "       -1.16445761e-05, -1.16471189e-05, -1.16494822e-05, -1.16516919e-05,\n",
       "       -1.16537616e-05, -1.16557125e-05, -1.16575540e-05, -1.16592998e-05,\n",
       "       -1.16609578e-05, -1.16625388e-05, -1.16640459e-05, -1.16654884e-05,\n",
       "       -1.16668702e-05, -1.16681962e-05, -1.16694718e-05, -1.16707002e-05,\n",
       "       -1.16718848e-05, -1.16730274e-05, -1.16741316e-05, -1.16752008e-05,\n",
       "       -1.16762358e-05, -1.16772390e-05, -1.16782128e-05, -1.16791590e-05,\n",
       "       -1.16800769e-05, -1.16809718e-05, -1.16818418e-05, -1.16826897e-05,\n",
       "       -1.16835154e-05, -1.16843219e-05, -1.16851089e-05, -1.16858763e-05,\n",
       "       -1.16866275e-05, -1.16873601e-05, -1.16880787e-05, -1.16887808e-05,\n",
       "       -1.16894682e-05, -1.16901405e-05])"
      ]
     },
     "execution_count": 8,
     "metadata": {},
     "output_type": "execute_result"
    }
   ],
   "source": [
    "solsGrid[10]['τ']-sols[10]['τ']"
   ]
  }
 ],
 "metadata": {
  "kernelspec": {
   "display_name": "Python 3 (ipykernel)",
   "language": "python",
   "name": "python3"
  },
  "language_info": {
   "codemirror_mode": {
    "name": "ipython",
    "version": 3
   },
   "file_extension": ".py",
   "mimetype": "text/x-python",
   "name": "python",
   "nbconvert_exporter": "python",
   "pygments_lexer": "ipython3",
   "version": "3.12.4"
  }
 },
 "nbformat": 4,
 "nbformat_minor": 5
}
