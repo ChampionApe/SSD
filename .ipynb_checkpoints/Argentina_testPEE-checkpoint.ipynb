{
 "cells": [
  {
   "cell_type": "code",
   "execution_count": 1,
   "id": "6f3cfc5b-54f4-4dc8-bc25-9510c160e9e3",
   "metadata": {},
   "outputs": [],
   "source": [
    "%run stdPackages.ipynb"
   ]
  },
  {
   "cell_type": "markdown",
   "id": "efd48bd8-c1be-4d37-a828-be6dfa36d1cf",
   "metadata": {
    "tags": []
   },
   "source": [
    "# Social Security Design - Argentina"
   ]
  },
  {
   "cell_type": "markdown",
   "id": "7a5e4057-73d1-4c23-b0c1-ed56adbd946a",
   "metadata": {},
   "source": [
    "This loops through different parameter values for $\\rho$, calibrates the model, stores the dictionary of policy functions for each $t$, stores main calibration parameters, and the solution path. We start from the LOG model."
   ]
  },
  {
   "cell_type": "code",
   "execution_count": 2,
   "id": "67e9af09-c487-45b4-a404-861849651d33",
   "metadata": {},
   "outputs": [],
   "source": [
    "t0date = 2010\n",
    "ngrid = 50\n",
    "ns0 = 25\n",
    "t_ss  = 5 # number of periods in steady state\n",
    "%run ArgentinaData.ipynb"
   ]
  },
  {
   "cell_type": "markdown",
   "id": "d29fc6e5-7425-4d10-afb9-0dfd00bdd932",
   "metadata": {},
   "source": [
    "### Analytical PEE Model"
   ]
  },
  {
   "cell_type": "code",
   "execution_count": 3,
   "id": "e3edad01-0a0f-43d0-819f-d00c54a2bf72",
   "metadata": {},
   "outputs": [],
   "source": [
    "kwargs = {k: kwargs[k] for k in ('T', 'nj','ngrid')}\n",
    "gridkwargs = {'τ_n': 251}\n",
    "m = argentina_main.Model_A(pars = targs | pars | parsj, gridkwargs = gridkwargs, **kwargs)\n",
    "m.db.update(m.adjPar('ρ', 1.05))"
   ]
  },
  {
   "cell_type": "markdown",
   "id": "429b76d4-1ab1-4be8-8b0d-26df8fb5d09b",
   "metadata": {},
   "source": [
    "Solve with standard gradient based methods:"
   ]
  },
  {
   "cell_type": "code",
   "execution_count": 4,
   "id": "e374f702-62b1-4576-b60d-eb186ae3dd90",
   "metadata": {},
   "outputs": [],
   "source": [
    "sols = m.PEE()"
   ]
  },
  {
   "cell_type": "markdown",
   "id": "d1f7dfde-3fef-4180-af75-a434d87c2e4d",
   "metadata": {},
   "source": [
    "Solve with gridsearch:"
   ]
  },
  {
   "cell_type": "code",
   "execution_count": 5,
   "id": "6deeb726-f954-4572-b711-23d0e5718a80",
   "metadata": {},
   "outputs": [],
   "source": [
    "# m.PEE.kwargs_T['style'] = 'GridSC'\n",
    "# m.PEE.kwargs_T_['style'] = 'GridSC'\n",
    "# m.PEE.kwargs_t['style'] = 'GridSC'\n",
    "# m.PEE.kwargsMain = m.defaultKwargs\n",
    "# solsGrid = m.PEE()"
   ]
  },
  {
   "cell_type": "markdown",
   "id": "0e29561f-9085-4a16-ad24-c4ec6cfe4494",
   "metadata": {},
   "source": [
    "Solve for economic equilibrium given sequence of policy functions:"
   ]
  },
  {
   "cell_type": "code",
   "execution_count": 6,
   "id": "d8e97c63-f2ab-4ea8-8985-0bf9b60e2e97",
   "metadata": {},
   "outputs": [],
   "source": [
    "path = m.EE_FH_PEE_solve(sols)"
   ]
  },
  {
   "cell_type": "markdown",
   "id": "5f5c6afa-54e6-404f-92f6-501c263e85d5",
   "metadata": {},
   "source": [
    "Try the \"robust solve\" that starts by approximating the equilibrium, then solving:"
   ]
  },
  {
   "cell_type": "code",
   "execution_count": 7,
   "id": "4211a906-1a10-4c13-9097-864148e46904",
   "metadata": {},
   "outputs": [],
   "source": [
    "pathRbst = m.EE_FH_PEE_solveRobust(sols)"
   ]
  },
  {
   "cell_type": "markdown",
   "id": "0d42e8b7-abeb-4601-ad56-48a01f4f42de",
   "metadata": {},
   "source": [
    "### Log model"
   ]
  },
  {
   "cell_type": "markdown",
   "id": "ca5c0e72-135a-4c78-9ddd-333d39d622b6",
   "metadata": {},
   "source": [
    "Solve log-model with gradient based optimization, approximate grid search (assumes steady state), and grid search:"
   ]
  },
  {
   "cell_type": "code",
   "execution_count": 8,
   "id": "7d7d22f4-f34c-49cb-821e-952d3bb63846",
   "metadata": {},
   "outputs": [],
   "source": [
    "logSol = m.LOG.solve(style = 'Vector')\n",
    "logSolApprox = m.LOG.solve(style = 'ApproxGridSC', update = False)\n",
    "logSolGrid = m.LOG.solve(style = 'GridSC')\n",
    "logRobust = m.LOG.solve(style = 'Robust') # solve first with gridsearch, then gradient based methods"
   ]
  },
  {
   "cell_type": "markdown",
   "id": "f2d17bc2-2e9f-45ce-934b-84c0eaac3760",
   "metadata": {},
   "source": [
    "Log path:"
   ]
  },
  {
   "cell_type": "code",
   "execution_count": 9,
   "id": "ba52930f-5a98-4202-ad5b-e94f83a4c56d",
   "metadata": {},
   "outputs": [],
   "source": [
    "pathLog = m.EE_FH_LOG_solve(logSol['τ'])"
   ]
  },
  {
   "cell_type": "markdown",
   "id": "490d0529-be71-44c7-aead-7dbdf1e684c9",
   "metadata": {},
   "source": [
    "### Compare LOG-model with CRRA"
   ]
  },
  {
   "cell_type": "code",
   "execution_count": 10,
   "id": "a4daf3db-a8f3-4a07-bf1a-341c6839da52",
   "metadata": {},
   "outputs": [
    {
     "data": {
      "text/plain": [
       "<Axes: xlabel='t'>"
      ]
     },
     "execution_count": 10,
     "metadata": {},
     "output_type": "execute_result"
    },
    {
     "data": {
      "image/png": "[encoded data removed]",
      "text/plain": [
       "<Figure size 400x300 with 1 Axes>"
      ]
     },
     "metadata": {},
     "output_type": "display_data"
    }
   ],
   "source": [
    "pd.DataFrame({'CRRA': path['τ'], 'LOG': logSol['τ']}).plot(figsize=(4,3))"
   ]
  },
  {
   "cell_type": "markdown",
   "id": "7b712d09-74f8-4e7c-a93f-29a549cb84af",
   "metadata": {},
   "source": [
    "### Calibrate Models"
   ]
  },
  {
   "cell_type": "code",
   "execution_count": 11,
   "id": "e2b1401e-3c93-4f9e-9316-3de20331c704",
   "metadata": {},
   "outputs": [],
   "source": [
    "ρLower = np.round(np.linspace(0.75, 1, 11), 3) # we need more dense grid when we lower ρ \n",
    "ρUpper = np.round(np.linspace(1, 2, 11), 3)\n",
    "# ρgrid = np.array([1, 1.1])\n",
    "ρgrid = np.hstack([ρLower, ρUpper[1:]])\n",
    "sols = dict.fromkeys(ρgrid)\n",
    "cals = dict.fromkeys(ρgrid)\n",
    "paths = dict.fromkeys(ρgrid)"
   ]
  },
  {
   "cell_type": "markdown",
   "id": "e1abe17b-b463-48ac-9d9b-327f1c1a4a49",
   "metadata": {},
   "source": [
    "Test other stuff:"
   ]
  },
  {
   "cell_type": "code",
   "execution_count": 12,
   "id": "7842d48c-47d4-467d-a578-7cb9a00a3906",
   "metadata": {},
   "outputs": [],
   "source": [
    "cals[1] = m.calibLOG()\n",
    "paths[1], sols[1] = m.solvePEE()"
   ]
  },
  {
   "cell_type": "markdown",
   "id": "9251c576-5876-4052-ab60-1662b1e5679b",
   "metadata": {},
   "source": [
    "Ignore ```RunTimeWarning``` in the following:"
   ]
  },
  {
   "cell_type": "code",
   "execution_count": 13,
   "id": "6276caf5-573c-440c-884f-f426fb031e06",
   "metadata": {},
   "outputs": [],
   "source": [
    "warnings.simplefilter(action = \"ignore\", category = RuntimeWarning)"
   ]
  },
  {
   "cell_type": "markdown",
   "id": "e542d881-6b0e-43b6-8c54-7d39fb32d895",
   "metadata": {},
   "source": [
    "Switch up some kwargs here:"
   ]
  },
  {
   "cell_type": "code",
   "execution_count": 14,
   "id": "c03de401-ac33-4d1e-b432-d81a0e7e3ced",
   "metadata": {},
   "outputs": [],
   "source": [
    "m.PEE.kwargs_t['style'] = 'VeryRobust'\n",
    "m.PEE.kwargs_t['x0_from_solp'] = False\n",
    "m.PEE.kwargs_T_['style'] = 'VeryRobust'\n",
    "m.PEE.kwargs_T['style'] = 'VeryRobust'\n",
    "m.PEE.kwargsMain = m.PEE.defaultKwargs"
   ]
  },
  {
   "cell_type": "markdown",
   "id": "54d7a7de-8837-4e6d-af83-9412ec672f8c",
   "metadata": {},
   "source": [
    "Loop through $\\rho$:"
   ]
  },
  {
   "cell_type": "code",
   "execution_count": 15,
   "id": "385b3ff0-f2c8-446e-8fed-a7bedfc8f9ff",
   "metadata": {},
   "outputs": [],
   "source": [
    "def simpleρIte(ρgrid):\n",
    "    for ρ in ρgrid:\n",
    "        try:\n",
    "            m.db.update(m.adjPar('ρ',ρ))\n",
    "            cals[ρ] = m.calibPEE(method = 'hybr', tol = 1e-5)\n",
    "            paths[ρ], sols[ρ] = m.solvePEE()\n",
    "            # sols[ρ] = m.PEE.FH()\n",
    "            # paths[ρ] = m.EE_FH_PEE_solve(sols[ρ])\n",
    "        except AssertionError:\n",
    "            cals[ρ] = \"\"\"Failed to calibrate\"\"\"\n",
    "        print(ρ)"
   ]
  },
  {
   "cell_type": "markdown",
   "id": "37d7606c-5f27-47fe-a8c2-b5efc1affea7",
   "metadata": {},
   "source": [
    "Loop through parameter values and resolve:"
   ]
  },
  {
   "cell_type": "code",
   "execution_count": 16,
   "id": "c40484fd-b1a2-4e12-b31a-dc4637aeedbd",
   "metadata": {},
   "outputs": [
    {
     "name": "stdout",
     "output_type": "stream",
     "text": [
      "1.1\n",
      "1.2\n",
      "1.3\n"
     ]
    },
    {
     "ename": "KeyboardInterrupt",
     "evalue": "",
     "output_type": "error",
     "traceback": [
      "\u001b[1;31m---------------------------------------------------------------------------\u001b[0m",
      "\u001b[1;31mKeyboardInterrupt\u001b[0m                         Traceback (most recent call last)",
      "Cell \u001b[1;32mIn[16], line 1\u001b[0m\n\u001b[1;32m----> 1\u001b[0m simpleρIte(ρgrid[ρgrid\u001b[38;5;241m>\u001b[39m\u001b[38;5;241m1\u001b[39m]) \u001b[38;5;66;03m# solve for ρ > 1\u001b[39;00m\n\u001b[0;32m      2\u001b[0m m\u001b[38;5;241m.\u001b[39mcalibUpdateParameters(cals[\u001b[38;5;241m1\u001b[39m]) \u001b[38;5;66;03m# reset to log\u001b[39;00m\n\u001b[0;32m      3\u001b[0m m\u001b[38;5;241m.\u001b[39mPEE\u001b[38;5;241m.\u001b[39minterpInitialsFromLOG(sols[\u001b[38;5;241m1\u001b[39m])\n",
      "Cell \u001b[1;32mIn[15], line 5\u001b[0m, in \u001b[0;36msimpleρIte\u001b[1;34m(ρgrid)\u001b[0m\n\u001b[0;32m      3\u001b[0m \u001b[38;5;28;01mtry\u001b[39;00m:\n\u001b[0;32m      4\u001b[0m     m\u001b[38;5;241m.\u001b[39mdb\u001b[38;5;241m.\u001b[39mupdate(m\u001b[38;5;241m.\u001b[39madjPar(\u001b[38;5;124m'\u001b[39m\u001b[38;5;124mρ\u001b[39m\u001b[38;5;124m'\u001b[39m,ρ))\n\u001b[1;32m----> 5\u001b[0m     cals[ρ] \u001b[38;5;241m=\u001b[39m m\u001b[38;5;241m.\u001b[39mcalibPEE(method \u001b[38;5;241m=\u001b[39m \u001b[38;5;124m'\u001b[39m\u001b[38;5;124mhybr\u001b[39m\u001b[38;5;124m'\u001b[39m, tol \u001b[38;5;241m=\u001b[39m \u001b[38;5;241m1e-5\u001b[39m)\n\u001b[0;32m      6\u001b[0m     paths[ρ], sols[ρ] \u001b[38;5;241m=\u001b[39m m\u001b[38;5;241m.\u001b[39msolvePEE()\n\u001b[0;32m      7\u001b[0m     \u001b[38;5;66;03m# sols[ρ] = m.PEE.FH()\u001b[39;00m\n\u001b[0;32m      8\u001b[0m     \u001b[38;5;66;03m# paths[ρ] = m.EE_FH_PEE_solve(sols[ρ])\u001b[39;00m\n",
      "File \u001b[1;32m~\\Documents\\GitHub\\SSD\\py\\argentina_main.py:549\u001b[0m, in \u001b[0;36mModel.calibPEE\u001b[1;34m(self, x0, update, **kwargs)\u001b[0m\n\u001b[0;32m    547\u001b[0m \u001b[38;5;28;01mdef\u001b[39;00m \u001b[38;5;21mcalibPEE\u001b[39m(\u001b[38;5;28mself\u001b[39m, x0  \u001b[38;5;241m=\u001b[39m \u001b[38;5;28;01mNone\u001b[39;00m, update \u001b[38;5;241m=\u001b[39m \u001b[38;5;28;01mTrue\u001b[39;00m, \u001b[38;5;241m*\u001b[39m\u001b[38;5;241m*\u001b[39mkwargs):\n\u001b[0;32m    548\u001b[0m \u001b[38;5;250m\t\u001b[39m\u001b[38;5;124;03m\"\"\" Simple update of parameters based on simulated PEE Path\"\"\"\u001b[39;00m\n\u001b[1;32m--> 549\u001b[0m \tsol \u001b[38;5;241m=\u001b[39m optimize\u001b[38;5;241m.\u001b[39mroot(\u001b[38;5;28;01mlambda\u001b[39;00m x: \u001b[38;5;28mself\u001b[39m\u001b[38;5;241m.\u001b[39mcalibPEE_objective(x, update \u001b[38;5;241m=\u001b[39m update), noneInit(x0, \u001b[38;5;28mself\u001b[39m\u001b[38;5;241m.\u001b[39mcalibGetx0()), \u001b[38;5;241m*\u001b[39m\u001b[38;5;241m*\u001b[39mkwargs)\n\u001b[0;32m    550\u001b[0m \t\u001b[38;5;28;01massert\u001b[39;00m sol[\u001b[38;5;124m'\u001b[39m\u001b[38;5;124msuccess\u001b[39m\u001b[38;5;124m'\u001b[39m], \u001b[38;5;124mf\u001b[39m\u001b[38;5;124m\"\"\"\u001b[39m\u001b[38;5;124mCouldn\u001b[39m\u001b[38;5;124m'\u001b[39m\u001b[38;5;124mt calibrate model\u001b[39m\u001b[38;5;124m\"\"\"\u001b[39m\n\u001b[0;32m    551\u001b[0m \t\u001b[38;5;28;01mreturn\u001b[39;00m sol[\u001b[38;5;124m'\u001b[39m\u001b[38;5;124mx\u001b[39m\u001b[38;5;124m'\u001b[39m]\n",
      "File \u001b[1;32m~\\AppData\\Local\\anaconda3\\envs\\SSD\\Lib\\site-packages\\scipy\\optimize\\_root.py:246\u001b[0m, in \u001b[0;36mroot\u001b[1;34m(fun, x0, args, method, jac, tol, callback, options)\u001b[0m\n\u001b[0;32m    243\u001b[0m         options\u001b[38;5;241m.\u001b[39msetdefault(\u001b[38;5;124m'\u001b[39m\u001b[38;5;124mfatol\u001b[39m\u001b[38;5;124m'\u001b[39m, np\u001b[38;5;241m.\u001b[39minf)\n\u001b[0;32m    245\u001b[0m \u001b[38;5;28;01mif\u001b[39;00m meth \u001b[38;5;241m==\u001b[39m \u001b[38;5;124m'\u001b[39m\u001b[38;5;124mhybr\u001b[39m\u001b[38;5;124m'\u001b[39m:\n\u001b[1;32m--> 246\u001b[0m     sol \u001b[38;5;241m=\u001b[39m _root_hybr(_wrapped_fun, x0, args\u001b[38;5;241m=\u001b[39margs, jac\u001b[38;5;241m=\u001b[39mjac, \u001b[38;5;241m*\u001b[39m\u001b[38;5;241m*\u001b[39moptions)\n\u001b[0;32m    247\u001b[0m \u001b[38;5;28;01melif\u001b[39;00m meth \u001b[38;5;241m==\u001b[39m \u001b[38;5;124m'\u001b[39m\u001b[38;5;124mlm\u001b[39m\u001b[38;5;124m'\u001b[39m:\n\u001b[0;32m    248\u001b[0m     sol \u001b[38;5;241m=\u001b[39m _root_leastsq(_wrapped_fun, x0, args\u001b[38;5;241m=\u001b[39margs, jac\u001b[38;5;241m=\u001b[39mjac, \u001b[38;5;241m*\u001b[39m\u001b[38;5;241m*\u001b[39moptions)\n",
      "File \u001b[1;32m~\\AppData\\Local\\anaconda3\\envs\\SSD\\Lib\\site-packages\\scipy\\optimize\\_minpack_py.py:249\u001b[0m, in \u001b[0;36m_root_hybr\u001b[1;34m(func, x0, args, jac, col_deriv, xtol, maxfev, band, eps, factor, diag, **unknown_options)\u001b[0m\n\u001b[0;32m    247\u001b[0m     \u001b[38;5;28;01mif\u001b[39;00m maxfev \u001b[38;5;241m==\u001b[39m \u001b[38;5;241m0\u001b[39m:\n\u001b[0;32m    248\u001b[0m         maxfev \u001b[38;5;241m=\u001b[39m \u001b[38;5;241m200\u001b[39m \u001b[38;5;241m*\u001b[39m (n \u001b[38;5;241m+\u001b[39m \u001b[38;5;241m1\u001b[39m)\n\u001b[1;32m--> 249\u001b[0m     retval \u001b[38;5;241m=\u001b[39m _minpack\u001b[38;5;241m.\u001b[39m_hybrd(func, x0, args, \u001b[38;5;241m1\u001b[39m, xtol, maxfev,\n\u001b[0;32m    250\u001b[0m                              ml, mu, epsfcn, factor, diag)\n\u001b[0;32m    251\u001b[0m \u001b[38;5;28;01melse\u001b[39;00m:\n\u001b[0;32m    252\u001b[0m     _check_func(\u001b[38;5;124m'\u001b[39m\u001b[38;5;124mfsolve\u001b[39m\u001b[38;5;124m'\u001b[39m, \u001b[38;5;124m'\u001b[39m\u001b[38;5;124mfprime\u001b[39m\u001b[38;5;124m'\u001b[39m, Dfun, x0, args, n, (n, n))\n",
      "File \u001b[1;32m~\\AppData\\Local\\anaconda3\\envs\\SSD\\Lib\\site-packages\\scipy\\optimize\\_root.py:208\u001b[0m, in \u001b[0;36mroot.<locals>._wrapped_fun\u001b[1;34m(*fargs)\u001b[0m\n\u001b[0;32m    203\u001b[0m \u001b[38;5;250m\u001b[39m\u001b[38;5;124;03m\"\"\"\u001b[39;00m\n\u001b[0;32m    204\u001b[0m \u001b[38;5;124;03mWrapped `func` to track the number of times\u001b[39;00m\n\u001b[0;32m    205\u001b[0m \u001b[38;5;124;03mthe function has been called.\u001b[39;00m\n\u001b[0;32m    206\u001b[0m \u001b[38;5;124;03m\"\"\"\u001b[39;00m\n\u001b[0;32m    207\u001b[0m _wrapped_fun\u001b[38;5;241m.\u001b[39mnfev \u001b[38;5;241m+\u001b[39m\u001b[38;5;241m=\u001b[39m \u001b[38;5;241m1\u001b[39m\n\u001b[1;32m--> 208\u001b[0m \u001b[38;5;28;01mreturn\u001b[39;00m fun(\u001b[38;5;241m*\u001b[39mfargs)\n",
      "File \u001b[1;32m~\\Documents\\GitHub\\SSD\\py\\argentina_main.py:549\u001b[0m, in \u001b[0;36mModel.calibPEE.<locals>.<lambda>\u001b[1;34m(x)\u001b[0m\n\u001b[0;32m    547\u001b[0m \u001b[38;5;28;01mdef\u001b[39;00m \u001b[38;5;21mcalibPEE\u001b[39m(\u001b[38;5;28mself\u001b[39m, x0  \u001b[38;5;241m=\u001b[39m \u001b[38;5;28;01mNone\u001b[39;00m, update \u001b[38;5;241m=\u001b[39m \u001b[38;5;28;01mTrue\u001b[39;00m, \u001b[38;5;241m*\u001b[39m\u001b[38;5;241m*\u001b[39mkwargs):\n\u001b[0;32m    548\u001b[0m \u001b[38;5;250m\t\u001b[39m\u001b[38;5;124;03m\"\"\" Simple update of parameters based on simulated PEE Path\"\"\"\u001b[39;00m\n\u001b[1;32m--> 549\u001b[0m \tsol \u001b[38;5;241m=\u001b[39m optimize\u001b[38;5;241m.\u001b[39mroot(\u001b[38;5;28;01mlambda\u001b[39;00m x: \u001b[38;5;28mself\u001b[39m\u001b[38;5;241m.\u001b[39mcalibPEE_objective(x, update \u001b[38;5;241m=\u001b[39m update), noneInit(x0, \u001b[38;5;28mself\u001b[39m\u001b[38;5;241m.\u001b[39mcalibGetx0()), \u001b[38;5;241m*\u001b[39m\u001b[38;5;241m*\u001b[39mkwargs)\n\u001b[0;32m    550\u001b[0m \t\u001b[38;5;28;01massert\u001b[39;00m sol[\u001b[38;5;124m'\u001b[39m\u001b[38;5;124msuccess\u001b[39m\u001b[38;5;124m'\u001b[39m], \u001b[38;5;124mf\u001b[39m\u001b[38;5;124m\"\"\"\u001b[39m\u001b[38;5;124mCouldn\u001b[39m\u001b[38;5;124m'\u001b[39m\u001b[38;5;124mt calibrate model\u001b[39m\u001b[38;5;124m\"\"\"\u001b[39m\n\u001b[0;32m    551\u001b[0m \t\u001b[38;5;28;01mreturn\u001b[39;00m sol[\u001b[38;5;124m'\u001b[39m\u001b[38;5;124mx\u001b[39m\u001b[38;5;124m'\u001b[39m]\n",
      "File \u001b[1;32m~\\Documents\\GitHub\\SSD\\py\\argentina_main.py:567\u001b[0m, in \u001b[0;36mModel.calibPEE_objective\u001b[1;34m(self, x, update)\u001b[0m\n\u001b[0;32m    565\u001b[0m \u001b[38;5;250m\u001b[39m\u001b[38;5;124;03m\"\"\" Search for β, ω that results in desired savings rate + PEE tax rate. \"\"\"\u001b[39;00m\n\u001b[0;32m    566\u001b[0m \u001b[38;5;28mself\u001b[39m\u001b[38;5;241m.\u001b[39mcalibUpdateParameters(x)\n\u001b[1;32m--> 567\u001b[0m PEE, sol \u001b[38;5;241m=\u001b[39m \u001b[38;5;28mself\u001b[39m\u001b[38;5;241m.\u001b[39msolvePEE()\n\u001b[0;32m    568\u001b[0m η0 \u001b[38;5;241m=\u001b[39m \u001b[38;5;28mself\u001b[39m\u001b[38;5;241m.\u001b[39mB\u001b[38;5;241m.\u001b[39mcalib_η0(τ \u001b[38;5;241m=\u001b[39m PEE[\u001b[38;5;124m'\u001b[39m\u001b[38;5;124mτ\u001b[39m\u001b[38;5;124m'\u001b[39m]\u001b[38;5;241m.\u001b[39mxs(\u001b[38;5;28mself\u001b[39m\u001b[38;5;241m.\u001b[39mdb[\u001b[38;5;124m'\u001b[39m\u001b[38;5;124mt0\u001b[39m\u001b[38;5;124m'\u001b[39m]), Θh \u001b[38;5;241m=\u001b[39m PEE[\u001b[38;5;124m'\u001b[39m\u001b[38;5;124mΘh\u001b[39m\u001b[38;5;124m'\u001b[39m]\u001b[38;5;241m.\u001b[39mxs(\u001b[38;5;28mself\u001b[39m\u001b[38;5;241m.\u001b[39mdb[\u001b[38;5;124m'\u001b[39m\u001b[38;5;124mt0\u001b[39m\u001b[38;5;124m'\u001b[39m]))\n\u001b[0;32m    569\u001b[0m \u001b[38;5;28;01mreturn\u001b[39;00m np\u001b[38;5;241m.\u001b[39mhstack([PEE[\u001b[38;5;124m'\u001b[39m\u001b[38;5;124mτ\u001b[39m\u001b[38;5;124m'\u001b[39m]\u001b[38;5;241m.\u001b[39mxs(\u001b[38;5;28mself\u001b[39m\u001b[38;5;241m.\u001b[39mdb[\u001b[38;5;124m'\u001b[39m\u001b[38;5;124mt0\u001b[39m\u001b[38;5;124m'\u001b[39m])\u001b[38;5;241m-\u001b[39m\u001b[38;5;28mself\u001b[39m\u001b[38;5;241m.\u001b[39mdb[\u001b[38;5;124m'\u001b[39m\u001b[38;5;124mτ0\u001b[39m\u001b[38;5;124m'\u001b[39m],\n\u001b[0;32m    570\u001b[0m \t\t\t\t \u001b[38;5;28mself\u001b[39m\u001b[38;5;241m.\u001b[39mB\u001b[38;5;241m.\u001b[39mcalib_savingsRate(s_ \u001b[38;5;241m=\u001b[39m PEE[\u001b[38;5;124m'\u001b[39m\u001b[38;5;124ms[t-1]\u001b[39m\u001b[38;5;124m'\u001b[39m]\u001b[38;5;241m.\u001b[39mxs(\u001b[38;5;28mself\u001b[39m\u001b[38;5;241m.\u001b[39mdb[\u001b[38;5;124m'\u001b[39m\u001b[38;5;124mt0\u001b[39m\u001b[38;5;124m'\u001b[39m]), s \u001b[38;5;241m=\u001b[39m PEE[\u001b[38;5;124m'\u001b[39m\u001b[38;5;124ms\u001b[39m\u001b[38;5;124m'\u001b[39m]\u001b[38;5;241m.\u001b[39mxs(\u001b[38;5;28mself\u001b[39m\u001b[38;5;241m.\u001b[39mdb[\u001b[38;5;124m'\u001b[39m\u001b[38;5;124mt0\u001b[39m\u001b[38;5;124m'\u001b[39m]), h \u001b[38;5;241m=\u001b[39m PEE[\u001b[38;5;124m'\u001b[39m\u001b[38;5;124mh\u001b[39m\u001b[38;5;124m'\u001b[39m]\u001b[38;5;241m.\u001b[39mxs(\u001b[38;5;28mself\u001b[39m\u001b[38;5;241m.\u001b[39mdb[\u001b[38;5;124m'\u001b[39m\u001b[38;5;124mt0\u001b[39m\u001b[38;5;124m'\u001b[39m]))\u001b[38;5;241m-\u001b[39m\u001b[38;5;28mself\u001b[39m\u001b[38;5;241m.\u001b[39mdb[\u001b[38;5;124m'\u001b[39m\u001b[38;5;124ms0\u001b[39m\u001b[38;5;124m'\u001b[39m],\n\u001b[0;32m    571\u001b[0m \t\t\t\t  η0\u001b[38;5;241m-\u001b[39mx[\u001b[38;5;241m2\u001b[39m],\n\u001b[0;32m    572\u001b[0m \t\t\t\t  \u001b[38;5;28mself\u001b[39m\u001b[38;5;241m.\u001b[39mB\u001b[38;5;241m.\u001b[39mcalib_X0(η0 \u001b[38;5;241m=\u001b[39m η0, Θh \u001b[38;5;241m=\u001b[39m PEE[\u001b[38;5;124m'\u001b[39m\u001b[38;5;124mΘh\u001b[39m\u001b[38;5;124m'\u001b[39m]\u001b[38;5;241m.\u001b[39mxs(\u001b[38;5;28mself\u001b[39m\u001b[38;5;241m.\u001b[39mdb[\u001b[38;5;124m'\u001b[39m\u001b[38;5;124mt0\u001b[39m\u001b[38;5;124m'\u001b[39m]))\u001b[38;5;241m-\u001b[39mx[\u001b[38;5;241m3\u001b[39m]])\n",
      "File \u001b[1;32m~\\Documents\\GitHub\\SSD\\py\\argentina_main.py:605\u001b[0m, in \u001b[0;36mModel_A.solvePEE\u001b[1;34m(self, main, **EEkwargs)\u001b[0m\n\u001b[0;32m    603\u001b[0m \tpaths  \u001b[38;5;241m=\u001b[39m \u001b[38;5;28mself\u001b[39m\u001b[38;5;241m.\u001b[39msolveEE(policy[\u001b[38;5;124m'\u001b[39m\u001b[38;5;124mτ\u001b[39m\u001b[38;5;124m'\u001b[39m], main \u001b[38;5;241m=\u001b[39m main, \u001b[38;5;241m*\u001b[39m\u001b[38;5;241m*\u001b[39mEEkwargs)\n\u001b[0;32m    604\u001b[0m \u001b[38;5;28;01melse\u001b[39;00m:\n\u001b[1;32m--> 605\u001b[0m \tpolicy \u001b[38;5;241m=\u001b[39m \u001b[38;5;28mself\u001b[39m\u001b[38;5;241m.\u001b[39mPEE(main \u001b[38;5;241m=\u001b[39m main)\n\u001b[0;32m    606\u001b[0m \tpaths  \u001b[38;5;241m=\u001b[39m \u001b[38;5;28mself\u001b[39m\u001b[38;5;241m.\u001b[39msolveEE(policy, main \u001b[38;5;241m=\u001b[39m main, \u001b[38;5;241m*\u001b[39m\u001b[38;5;241m*\u001b[39mEEkwargs)\n\u001b[0;32m    607\u001b[0m \u001b[38;5;28;01mreturn\u001b[39;00m paths, policy\n",
      "File \u001b[1;32m~\\Documents\\GitHub\\SSD\\py\\argentinaAnalytical_policy.py:187\u001b[0m, in \u001b[0;36mPEE_A.__call__\u001b[1;34m(self, main)\u001b[0m\n\u001b[0;32m    185\u001b[0m \u001b[38;5;28;01mdef\u001b[39;00m \u001b[38;5;21m__call__\u001b[39m(\u001b[38;5;28mself\u001b[39m, main \u001b[38;5;241m=\u001b[39m \u001b[38;5;28;01mNone\u001b[39;00m):\n\u001b[0;32m    186\u001b[0m \tmethod \u001b[38;5;241m=\u001b[39m noneInit(main, \u001b[38;5;28mself\u001b[39m\u001b[38;5;241m.\u001b[39mmain)\n\u001b[1;32m--> 187\u001b[0m \t\u001b[38;5;28;01mreturn\u001b[39;00m \u001b[38;5;28mgetattr\u001b[39m(\u001b[38;5;28mself\u001b[39m, \u001b[38;5;124mf\u001b[39m\u001b[38;5;124m'\u001b[39m\u001b[38;5;124mf_\u001b[39m\u001b[38;5;132;01m{\u001b[39;00mmethod\u001b[38;5;132;01m}\u001b[39;00m\u001b[38;5;124m'\u001b[39m)()\n",
      "File \u001b[1;32m~\\Documents\\GitHub\\SSD\\py\\argentinaAnalytical_policy.py:213\u001b[0m, in \u001b[0;36mPEE_A.f_FH\u001b[1;34m(self, update, **kwargs)\u001b[0m\n\u001b[0;32m    211\u001b[0m \u001b[38;5;28;01mfor\u001b[39;00m t \u001b[38;5;129;01min\u001b[39;00m \u001b[38;5;28mself\u001b[39m\u001b[38;5;241m.\u001b[39mdb[\u001b[38;5;124m'\u001b[39m\u001b[38;5;124mt\u001b[39m\u001b[38;5;124m'\u001b[39m][\u001b[38;5;241m-\u001b[39m\u001b[38;5;241m2\u001b[39m::\u001b[38;5;241m-\u001b[39m\u001b[38;5;241m1\u001b[39m]:\n\u001b[0;32m    212\u001b[0m \t\u001b[38;5;28mself\u001b[39m\u001b[38;5;241m.\u001b[39mBG\u001b[38;5;241m.\u001b[39mt \u001b[38;5;241m=\u001b[39m t\n\u001b[1;32m--> 213\u001b[0m \tsols[t] \u001b[38;5;241m=\u001b[39m \u001b[38;5;28mself\u001b[39m\u001b[38;5;241m.\u001b[39mresampleSolution(\u001b[38;5;28mself\u001b[39m\u001b[38;5;241m.\u001b[39msolve(solp \u001b[38;5;241m=\u001b[39m sols[t\u001b[38;5;241m+\u001b[39m\u001b[38;5;241m1\u001b[39m], \u001b[38;5;241m*\u001b[39m\u001b[38;5;241m*\u001b[39m({\u001b[38;5;124m'\u001b[39m\u001b[38;5;124mx0\u001b[39m\u001b[38;5;124m'\u001b[39m: \u001b[38;5;28mself\u001b[39m\u001b[38;5;241m.\u001b[39mx0[t]} \u001b[38;5;241m|\u001b[39m kwargs[t])))\n\u001b[0;32m    214\u001b[0m \t\u001b[38;5;28;01mif\u001b[39;00m update:\n\u001b[0;32m    215\u001b[0m \t\t\u001b[38;5;28mself\u001b[39m\u001b[38;5;241m.\u001b[39mx0[t] \u001b[38;5;241m=\u001b[39m sols[t][\u001b[38;5;124m'\u001b[39m\u001b[38;5;124mτ_unbounded\u001b[39m\u001b[38;5;124m'\u001b[39m]\n",
      "File \u001b[1;32m~\\Documents\\GitHub\\SSD\\py\\argentinaAnalytical_policy.py:251\u001b[0m, in \u001b[0;36mPEE_A.solve\u001b[1;34m(self, style, t, **kwargs)\u001b[0m\n\u001b[0;32m    250\u001b[0m \u001b[38;5;28;01mdef\u001b[39;00m \u001b[38;5;21msolve\u001b[39m(\u001b[38;5;28mself\u001b[39m, style \u001b[38;5;241m=\u001b[39m \u001b[38;5;124m'\u001b[39m\u001b[38;5;124mVector\u001b[39m\u001b[38;5;124m'\u001b[39m, t \u001b[38;5;241m=\u001b[39m \u001b[38;5;124m'\u001b[39m\u001b[38;5;124mt\u001b[39m\u001b[38;5;124m'\u001b[39m, \u001b[38;5;241m*\u001b[39m\u001b[38;5;241m*\u001b[39mkwargs):\n\u001b[1;32m--> 251\u001b[0m \t\u001b[38;5;28;01mreturn\u001b[39;00m \u001b[38;5;28mgetattr\u001b[39m(\u001b[38;5;28mself\u001b[39m, \u001b[38;5;124mf\u001b[39m\u001b[38;5;124m'\u001b[39m\u001b[38;5;124msolve\u001b[39m\u001b[38;5;132;01m{\u001b[39;00mstyle\u001b[38;5;132;01m}\u001b[39;00m\u001b[38;5;124m_\u001b[39m\u001b[38;5;132;01m{\u001b[39;00mt\u001b[38;5;132;01m}\u001b[39;00m\u001b[38;5;124m'\u001b[39m)(\u001b[38;5;241m*\u001b[39m\u001b[38;5;241m*\u001b[39mkwargs)\n",
      "File \u001b[1;32m~\\Documents\\GitHub\\SSD\\py\\argentinaAnalytical_policy.py:261\u001b[0m, in \u001b[0;36mPEE_A.solveVeryRobust_t\u001b[1;34m(self, solp, **kwargs)\u001b[0m\n\u001b[0;32m    259\u001b[0m \u001b[38;5;250m\u001b[39m\u001b[38;5;124;03m\"\"\" Use vectorized optimization, then gridsearch, retry vectorized optimization or exit with gridsearch result\"\"\"\u001b[39;00m\n\u001b[0;32m    260\u001b[0m \u001b[38;5;28;01mtry\u001b[39;00m:\n\u001b[1;32m--> 261\u001b[0m \t\u001b[38;5;28;01mreturn\u001b[39;00m \u001b[38;5;28mself\u001b[39m\u001b[38;5;241m.\u001b[39msolveVector_t(solp \u001b[38;5;241m=\u001b[39m solp, \u001b[38;5;241m*\u001b[39m\u001b[38;5;241m*\u001b[39mkwargs)\n\u001b[0;32m    262\u001b[0m \u001b[38;5;28;01mexcept\u001b[39;00m \u001b[38;5;167;01mAssertionError\u001b[39;00m:\n\u001b[0;32m    263\u001b[0m \tgridSol \u001b[38;5;241m=\u001b[39m \u001b[38;5;28mself\u001b[39m\u001b[38;5;241m.\u001b[39msolveGridSC_t(solp \u001b[38;5;241m=\u001b[39m solp)\n",
      "File \u001b[1;32m~\\Documents\\GitHub\\SSD\\py\\argentinaAnalytical_policy.py:277\u001b[0m, in \u001b[0;36mPEE_A.solveVector_t\u001b[1;34m(self, solp, x0_from_solp, x0, method, options, **kwargs)\u001b[0m\n\u001b[0;32m    275\u001b[0m \u001b[38;5;28;01mdef\u001b[39;00m \u001b[38;5;21msolveVector_t\u001b[39m(\u001b[38;5;28mself\u001b[39m, solp \u001b[38;5;241m=\u001b[39m \u001b[38;5;28;01mNone\u001b[39;00m, x0_from_solp \u001b[38;5;241m=\u001b[39m \u001b[38;5;28;01mFalse\u001b[39;00m, x0 \u001b[38;5;241m=\u001b[39m \u001b[38;5;28;01mNone\u001b[39;00m, method \u001b[38;5;241m=\u001b[39m \u001b[38;5;124m'\u001b[39m\u001b[38;5;124mhybr\u001b[39m\u001b[38;5;124m'\u001b[39m, options \u001b[38;5;241m=\u001b[39m \u001b[38;5;28;01mNone\u001b[39;00m, \u001b[38;5;241m*\u001b[39m\u001b[38;5;241m*\u001b[39mkwargs):\n\u001b[0;32m    276\u001b[0m \tsol \u001b[38;5;241m=\u001b[39m \u001b[38;5;28mself\u001b[39m\u001b[38;5;241m.\u001b[39mprecomputations_t(solp)\n\u001b[1;32m--> 277\u001b[0m \tx \u001b[38;5;241m=\u001b[39m optimize\u001b[38;5;241m.\u001b[39mroot(\u001b[38;5;28;01mlambda\u001b[39;00m τ: \u001b[38;5;28mself\u001b[39m\u001b[38;5;241m.\u001b[39mobjective_t(τ, sol, solp), x0_solp(x0, solp[\u001b[38;5;124m'\u001b[39m\u001b[38;5;124mτ_unbounded\u001b[39m\u001b[38;5;124m'\u001b[39m], x0_from_solp), method \u001b[38;5;241m=\u001b[39m method, options \u001b[38;5;241m=\u001b[39m options)\n\u001b[0;32m    278\u001b[0m \t\u001b[38;5;28;01massert\u001b[39;00m x[\u001b[38;5;124m'\u001b[39m\u001b[38;5;124msuccess\u001b[39m\u001b[38;5;124m'\u001b[39m], \u001b[38;5;124mf\u001b[39m\u001b[38;5;124m\"\"\"\u001b[39m\u001b[38;5;124m Could not identify PEE solution (PEE.solveVector_t) with parameters\u001b[39m\u001b[38;5;124m\"\"\"\u001b[39m\n\u001b[0;32m    279\u001b[0m \t\u001b[38;5;28;01mreturn\u001b[39;00m \u001b[38;5;28mself\u001b[39m\u001b[38;5;241m.\u001b[39mreport_t(x[\u001b[38;5;124m'\u001b[39m\u001b[38;5;124mx\u001b[39m\u001b[38;5;124m'\u001b[39m], sol, solp)\n",
      "File \u001b[1;32m~\\AppData\\Local\\anaconda3\\envs\\SSD\\Lib\\site-packages\\scipy\\optimize\\_root.py:256\u001b[0m, in \u001b[0;36mroot\u001b[1;34m(fun, x0, args, method, jac, tol, callback, options)\u001b[0m\n\u001b[0;32m    253\u001b[0m \u001b[38;5;28;01melif\u001b[39;00m meth \u001b[38;5;129;01min\u001b[39;00m (\u001b[38;5;124m'\u001b[39m\u001b[38;5;124mbroyden1\u001b[39m\u001b[38;5;124m'\u001b[39m, \u001b[38;5;124m'\u001b[39m\u001b[38;5;124mbroyden2\u001b[39m\u001b[38;5;124m'\u001b[39m, \u001b[38;5;124m'\u001b[39m\u001b[38;5;124manderson\u001b[39m\u001b[38;5;124m'\u001b[39m, \u001b[38;5;124m'\u001b[39m\u001b[38;5;124mlinearmixing\u001b[39m\u001b[38;5;124m'\u001b[39m,\n\u001b[0;32m    254\u001b[0m               \u001b[38;5;124m'\u001b[39m\u001b[38;5;124mdiagbroyden\u001b[39m\u001b[38;5;124m'\u001b[39m, \u001b[38;5;124m'\u001b[39m\u001b[38;5;124mexcitingmixing\u001b[39m\u001b[38;5;124m'\u001b[39m, \u001b[38;5;124m'\u001b[39m\u001b[38;5;124mkrylov\u001b[39m\u001b[38;5;124m'\u001b[39m):\n\u001b[0;32m    255\u001b[0m     _warn_jac_unused(jac, method)\n\u001b[1;32m--> 256\u001b[0m     sol \u001b[38;5;241m=\u001b[39m _root_nonlin_solve(_wrapped_fun, x0, args\u001b[38;5;241m=\u001b[39margs, jac\u001b[38;5;241m=\u001b[39mjac,\n\u001b[0;32m    257\u001b[0m                              _method\u001b[38;5;241m=\u001b[39mmeth, _callback\u001b[38;5;241m=\u001b[39mcallback,\n\u001b[0;32m    258\u001b[0m                              \u001b[38;5;241m*\u001b[39m\u001b[38;5;241m*\u001b[39moptions)\n\u001b[0;32m    259\u001b[0m \u001b[38;5;28;01melse\u001b[39;00m:\n\u001b[0;32m    260\u001b[0m     \u001b[38;5;28;01mraise\u001b[39;00m \u001b[38;5;167;01mValueError\u001b[39;00m(\u001b[38;5;124m'\u001b[39m\u001b[38;5;124mUnknown solver \u001b[39m\u001b[38;5;132;01m%s\u001b[39;00m\u001b[38;5;124m'\u001b[39m \u001b[38;5;241m%\u001b[39m method)\n",
      "File \u001b[1;32m~\\AppData\\Local\\anaconda3\\envs\\SSD\\Lib\\site-packages\\scipy\\optimize\\_root.py:365\u001b[0m, in \u001b[0;36m_root_nonlin_solve\u001b[1;34m(fun, x0, args, jac, _callback, _method, nit, disp, maxiter, ftol, fatol, xtol, xatol, tol_norm, line_search, jac_options, **unknown_options)\u001b[0m\n\u001b[0;32m    362\u001b[0m \u001b[38;5;28;01melse\u001b[39;00m:\n\u001b[0;32m    363\u001b[0m     f \u001b[38;5;241m=\u001b[39m fun\n\u001b[1;32m--> 365\u001b[0m x, info \u001b[38;5;241m=\u001b[39m nonlin\u001b[38;5;241m.\u001b[39mnonlin_solve(f, x0, jacobian\u001b[38;5;241m=\u001b[39mjacobian(\u001b[38;5;241m*\u001b[39m\u001b[38;5;241m*\u001b[39mjac_options),\n\u001b[0;32m    366\u001b[0m                               \u001b[38;5;28miter\u001b[39m\u001b[38;5;241m=\u001b[39mnit, verbose\u001b[38;5;241m=\u001b[39mverbose,\n\u001b[0;32m    367\u001b[0m                               maxiter\u001b[38;5;241m=\u001b[39mmaxiter, f_tol\u001b[38;5;241m=\u001b[39mf_tol,\n\u001b[0;32m    368\u001b[0m                               f_rtol\u001b[38;5;241m=\u001b[39mf_rtol, x_tol\u001b[38;5;241m=\u001b[39mx_tol,\n\u001b[0;32m    369\u001b[0m                               x_rtol\u001b[38;5;241m=\u001b[39mx_rtol, tol_norm\u001b[38;5;241m=\u001b[39mtol_norm,\n\u001b[0;32m    370\u001b[0m                               line_search\u001b[38;5;241m=\u001b[39mline_search,\n\u001b[0;32m    371\u001b[0m                               callback\u001b[38;5;241m=\u001b[39m_callback, full_output\u001b[38;5;241m=\u001b[39m\u001b[38;5;28;01mTrue\u001b[39;00m,\n\u001b[0;32m    372\u001b[0m                               raise_exception\u001b[38;5;241m=\u001b[39m\u001b[38;5;28;01mFalse\u001b[39;00m)\n\u001b[0;32m    373\u001b[0m sol \u001b[38;5;241m=\u001b[39m OptimizeResult(x\u001b[38;5;241m=\u001b[39mx, method\u001b[38;5;241m=\u001b[39m_method)\n\u001b[0;32m    374\u001b[0m sol\u001b[38;5;241m.\u001b[39mupdate(info)\n",
      "File \u001b[1;32m~\\AppData\\Local\\anaconda3\\envs\\SSD\\Lib\\site-packages\\scipy\\optimize\\_nonlin.py:211\u001b[0m, in \u001b[0;36mnonlin_solve\u001b[1;34m(F, x0, jacobian, iter, verbose, maxiter, f_tol, f_rtol, x_tol, x_rtol, tol_norm, line_search, callback, full_output, raise_exception)\u001b[0m\n\u001b[0;32m    209\u001b[0m \u001b[38;5;66;03m# The tolerance, as computed for scipy.sparse.linalg.* routines\u001b[39;00m\n\u001b[0;32m    210\u001b[0m tol \u001b[38;5;241m=\u001b[39m \u001b[38;5;28mmin\u001b[39m(eta, eta\u001b[38;5;241m*\u001b[39mFx_norm)\n\u001b[1;32m--> 211\u001b[0m dx \u001b[38;5;241m=\u001b[39m \u001b[38;5;241m-\u001b[39mjacobian\u001b[38;5;241m.\u001b[39msolve(Fx, tol\u001b[38;5;241m=\u001b[39mtol)\n\u001b[0;32m    213\u001b[0m \u001b[38;5;28;01mif\u001b[39;00m norm(dx) \u001b[38;5;241m==\u001b[39m \u001b[38;5;241m0\u001b[39m:\n\u001b[0;32m    214\u001b[0m     \u001b[38;5;28;01mraise\u001b[39;00m \u001b[38;5;167;01mValueError\u001b[39;00m(\u001b[38;5;124m\"\u001b[39m\u001b[38;5;124mJacobian inversion yielded zero vector. \u001b[39m\u001b[38;5;124m\"\u001b[39m\n\u001b[0;32m    215\u001b[0m                      \u001b[38;5;124m\"\u001b[39m\u001b[38;5;124mThis indicates a bug in the Jacobian \u001b[39m\u001b[38;5;124m\"\u001b[39m\n\u001b[0;32m    216\u001b[0m                      \u001b[38;5;124m\"\u001b[39m\u001b[38;5;124mapproximation.\u001b[39m\u001b[38;5;124m\"\u001b[39m)\n",
      "File \u001b[1;32m~\\AppData\\Local\\anaconda3\\envs\\SSD\\Lib\\site-packages\\scipy\\optimize\\_nonlin.py:1501\u001b[0m, in \u001b[0;36mKrylovJacobian.solve\u001b[1;34m(self, rhs, tol)\u001b[0m\n\u001b[0;32m   1499\u001b[0m     sol, info \u001b[38;5;241m=\u001b[39m \u001b[38;5;28mself\u001b[39m\u001b[38;5;241m.\u001b[39mmethod(\u001b[38;5;28mself\u001b[39m\u001b[38;5;241m.\u001b[39mop, rhs, \u001b[38;5;241m*\u001b[39m\u001b[38;5;241m*\u001b[39m\u001b[38;5;28mself\u001b[39m\u001b[38;5;241m.\u001b[39mmethod_kw)\n\u001b[0;32m   1500\u001b[0m \u001b[38;5;28;01melse\u001b[39;00m:\n\u001b[1;32m-> 1501\u001b[0m     sol, info \u001b[38;5;241m=\u001b[39m \u001b[38;5;28mself\u001b[39m\u001b[38;5;241m.\u001b[39mmethod(\u001b[38;5;28mself\u001b[39m\u001b[38;5;241m.\u001b[39mop, rhs, rtol\u001b[38;5;241m=\u001b[39mtol, \u001b[38;5;241m*\u001b[39m\u001b[38;5;241m*\u001b[39m\u001b[38;5;28mself\u001b[39m\u001b[38;5;241m.\u001b[39mmethod_kw)\n\u001b[0;32m   1502\u001b[0m \u001b[38;5;28;01mreturn\u001b[39;00m sol\n",
      "File \u001b[1;32m~\\AppData\\Local\\anaconda3\\envs\\SSD\\Lib\\site-packages\\scipy\\sparse\\linalg\\_isolve\\lgmres.py:180\u001b[0m, in \u001b[0;36mlgmres\u001b[1;34m(A, b, x0, rtol, atol, maxiter, M, callback, inner_m, outer_k, outer_v, store_outer_Av, prepend_outer_v)\u001b[0m\n\u001b[0;32m    177\u001b[0m ptol \u001b[38;5;241m=\u001b[39m \u001b[38;5;28mmin\u001b[39m(ptol_max_factor, \u001b[38;5;28mmax\u001b[39m(atol, rtol\u001b[38;5;241m*\u001b[39mb_norm)\u001b[38;5;241m/\u001b[39mr_norm)\n\u001b[0;32m    179\u001b[0m \u001b[38;5;28;01mtry\u001b[39;00m:\n\u001b[1;32m--> 180\u001b[0m     Q, R, B, vs, zs, y, pres \u001b[38;5;241m=\u001b[39m _fgmres(matvec,\n\u001b[0;32m    181\u001b[0m                                        v0,\n\u001b[0;32m    182\u001b[0m                                        inner_m,\n\u001b[0;32m    183\u001b[0m                                        lpsolve\u001b[38;5;241m=\u001b[39mpsolve,\n\u001b[0;32m    184\u001b[0m                                        atol\u001b[38;5;241m=\u001b[39mptol,\n\u001b[0;32m    185\u001b[0m                                        outer_v\u001b[38;5;241m=\u001b[39mouter_v,\n\u001b[0;32m    186\u001b[0m                                        prepend_outer_v\u001b[38;5;241m=\u001b[39mprepend_outer_v)\n\u001b[0;32m    187\u001b[0m     y \u001b[38;5;241m*\u001b[39m\u001b[38;5;241m=\u001b[39m inner_res_0\n\u001b[0;32m    188\u001b[0m     \u001b[38;5;28;01mif\u001b[39;00m \u001b[38;5;129;01mnot\u001b[39;00m np\u001b[38;5;241m.\u001b[39misfinite(y)\u001b[38;5;241m.\u001b[39mall():\n\u001b[0;32m    189\u001b[0m         \u001b[38;5;66;03m# Overflow etc. in computation. There's no way to\u001b[39;00m\n\u001b[0;32m    190\u001b[0m         \u001b[38;5;66;03m# recover from this, so we have to bail out.\u001b[39;00m\n",
      "File \u001b[1;32m~\\AppData\\Local\\anaconda3\\envs\\SSD\\Lib\\site-packages\\scipy\\sparse\\linalg\\_isolve\\_gcrotmk.py:154\u001b[0m, in \u001b[0;36m_fgmres\u001b[1;34m(matvec, v0, m, atol, lpsolve, rpsolve, cs, outer_v, prepend_outer_v)\u001b[0m\n\u001b[0;32m    151\u001b[0m R2 \u001b[38;5;241m=\u001b[39m np\u001b[38;5;241m.\u001b[39mzeros((j\u001b[38;5;241m+\u001b[39m\u001b[38;5;241m2\u001b[39m, j), dtype\u001b[38;5;241m=\u001b[39mR\u001b[38;5;241m.\u001b[39mdtype, order\u001b[38;5;241m=\u001b[39m\u001b[38;5;124m'\u001b[39m\u001b[38;5;124mF\u001b[39m\u001b[38;5;124m'\u001b[39m)\n\u001b[0;32m    152\u001b[0m R2[:j\u001b[38;5;241m+\u001b[39m\u001b[38;5;241m1\u001b[39m,:] \u001b[38;5;241m=\u001b[39m R\n\u001b[1;32m--> 154\u001b[0m Q, R \u001b[38;5;241m=\u001b[39m qr_insert(Q2, R2, hcur, j, which\u001b[38;5;241m=\u001b[39m\u001b[38;5;124m'\u001b[39m\u001b[38;5;124mcol\u001b[39m\u001b[38;5;124m'\u001b[39m,\n\u001b[0;32m    155\u001b[0m                  overwrite_qru\u001b[38;5;241m=\u001b[39m\u001b[38;5;28;01mTrue\u001b[39;00m, check_finite\u001b[38;5;241m=\u001b[39m\u001b[38;5;28;01mFalse\u001b[39;00m)\n\u001b[0;32m    157\u001b[0m \u001b[38;5;66;03m# Transformed least squares problem\u001b[39;00m\n\u001b[0;32m    158\u001b[0m \u001b[38;5;66;03m# || Q R y - inner_res_0 * e_1 ||_2 = min!\u001b[39;00m\n\u001b[0;32m    159\u001b[0m \u001b[38;5;66;03m# Since R = [R'; 0], solution is y = inner_res_0 (R')^{-1} (Q^H)[:j,0]\u001b[39;00m\n\u001b[0;32m    160\u001b[0m \n\u001b[0;32m    161\u001b[0m \u001b[38;5;66;03m# Residual is immediately known\u001b[39;00m\n\u001b[0;32m    162\u001b[0m res \u001b[38;5;241m=\u001b[39m \u001b[38;5;28mabs\u001b[39m(Q[\u001b[38;5;241m0\u001b[39m,\u001b[38;5;241m-\u001b[39m\u001b[38;5;241m1\u001b[39m])\n",
      "\u001b[1;31mKeyboardInterrupt\u001b[0m: "
     ]
    }
   ],
   "source": [
    "simpleρIte(ρgrid[ρgrid>1]) # solve for ρ > 1\n",
    "m.calibUpdateParameters(cals[1]) # reset to log\n",
    "m.PEE.interpInitialsFromLOG(sols[1])\n",
    "simpleρIte(ρgrid[ρgrid<1][::-1]) # solve for ρ < 1"
   ]
  }
 ],
 "metadata": {
  "kernelspec": {
   "display_name": "Python 3 (ipykernel)",
   "language": "python",
   "name": "python3"
  },
  "language_info": {
   "codemirror_mode": {
    "name": "ipython",
    "version": 3
   },
   "file_extension": ".py",
   "mimetype": "text/x-python",
   "name": "python",
   "nbconvert_exporter": "python",
   "pygments_lexer": "ipython3",
   "version": "3.12.4"
  }
 },
 "nbformat": 4,
 "nbformat_minor": 5
}
