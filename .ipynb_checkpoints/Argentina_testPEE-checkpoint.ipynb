{
 "cells": [
  {
   "cell_type": "code",
   "execution_count": 1,
   "id": "6f3cfc5b-54f4-4dc8-bc25-9510c160e9e3",
   "metadata": {},
   "outputs": [],
   "source": [
    "%run stdPackages.ipynb"
   ]
  },
  {
   "cell_type": "markdown",
   "id": "efd48bd8-c1be-4d37-a828-be6dfa36d1cf",
   "metadata": {
    "tags": []
   },
   "source": [
    "# Social Security Design - Argentina"
   ]
  },
  {
   "cell_type": "markdown",
   "id": "7a5e4057-73d1-4c23-b0c1-ed56adbd946a",
   "metadata": {},
   "source": [
    "This loops through different parameter values for $\\rho$, calibrates the model, stores the dictionary of policy functions for each $t$, stores main calibration parameters, and the solution path. We start from the LOG model."
   ]
  },
  {
   "cell_type": "code",
   "execution_count": 2,
   "id": "67e9af09-c487-45b4-a404-861849651d33",
   "metadata": {},
   "outputs": [],
   "source": [
    "t0date = 2010\n",
    "ngrid = 50\n",
    "ns0 = 25\n",
    "t_ss  = 5 # number of periods in steady state\n",
    "%run ArgentinaData.ipynb"
   ]
  },
  {
   "cell_type": "markdown",
   "id": "d29fc6e5-7425-4d10-afb9-0dfd00bdd932",
   "metadata": {},
   "source": [
    "### Analytical PEE Model"
   ]
  },
  {
   "cell_type": "code",
   "execution_count": 3,
   "id": "e3edad01-0a0f-43d0-819f-d00c54a2bf72",
   "metadata": {},
   "outputs": [],
   "source": [
    "kwargs = {k: kwargs[k] for k in ('T', 'nj','ngrid')}\n",
    "gridkwargs = {'τ_n': 101}\n",
    "m = argentina_main.Model_A(pars = targs | pars | parsj, gridkwargs = gridkwargs, **kwargs)\n",
    "m.db.update(m.adjPar('ρ', 1.05))"
   ]
  },
  {
   "cell_type": "markdown",
   "id": "429b76d4-1ab1-4be8-8b0d-26df8fb5d09b",
   "metadata": {},
   "source": [
    "#### Vector optimization:"
   ]
  },
  {
   "cell_type": "code",
   "execution_count": 4,
   "id": "e374f702-62b1-4576-b60d-eb186ae3dd90",
   "metadata": {},
   "outputs": [],
   "source": [
    "sols = m.PEE.FH()"
   ]
  },
  {
   "cell_type": "markdown",
   "id": "0e29561f-9085-4a16-ad24-c4ec6cfe4494",
   "metadata": {},
   "source": [
    "Try to solve some:"
   ]
  },
  {
   "cell_type": "code",
   "execution_count": 5,
   "id": "d8e97c63-f2ab-4ea8-8985-0bf9b60e2e97",
   "metadata": {},
   "outputs": [],
   "source": [
    "path = m.EE_FH_PEE_solve(sols)"
   ]
  },
  {
   "cell_type": "markdown",
   "id": "cd150182-0fbf-471e-aad4-583e00b68083",
   "metadata": {},
   "source": [
    "### Grid search:"
   ]
  },
  {
   "cell_type": "code",
   "execution_count": 5,
   "id": "c2182cf7-20a8-47e4-8530-d2c8f5863145",
   "metadata": {},
   "outputs": [],
   "source": [
    "m.PEE.kwargs_T['style'] = 'GridSC'\n",
    "m.PEE.kwargs_T_['style'] = 'GridSC'\n",
    "m.PEE.kwargs_t['style'] = 'GridSC'\n",
    "solsGrid = m.PEE.FH()"
   ]
  },
  {
   "cell_type": "markdown",
   "id": "67a76bbc-f990-4cf2-881c-73f4d973cb7d",
   "metadata": {},
   "source": [
    "Test steady state solution:"
   ]
  },
  {
   "cell_type": "code",
   "execution_count": 10,
   "id": "0988da01-deb6-4626-a20b-cc27cc8253df",
   "metadata": {},
   "outputs": [
    {
     "data": {
      "text/plain": [
       "{'Bi': array([0.65157224, 0.65157224, 0.65157224, 0.65157224]),\n",
       " 'Γs': 0.19718884210562507,\n",
       " 'τ': array([0.39575602]),\n",
       " 's': array([0.00247453]),\n",
       " 'h': array([0.32140089]),\n",
       " 'Θs': array([0.06266926])}"
      ]
     },
     "execution_count": 10,
     "metadata": {},
     "output_type": "execute_result"
    }
   ],
   "source": [
    "m.steadyStatePEE(m.PEE.gridPolicy(sols[m.db['t'][0]]['τ']), t = 0)"
   ]
  },
  {
   "cell_type": "markdown",
   "id": "6f4a3c80-5896-45c3-a348-23a95df6e1c6",
   "metadata": {},
   "source": [
    "### Policy functions:"
   ]
  },
  {
   "cell_type": "code",
   "execution_count": 7,
   "id": "e41c4926-9871-46bd-a21a-f457d334b19e",
   "metadata": {},
   "outputs": [],
   "source": [
    "from scipy import interpolate\n",
    "self = m.PEE"
   ]
  },
  {
   "cell_type": "markdown",
   "id": "77fcc219-7118-49da-a768-cbaf7404bc1b",
   "metadata": {},
   "source": [
    "Grid policy: "
   ]
  },
  {
   "cell_type": "code",
   "execution_count": 8,
   "id": "2ca17e65-bfca-43a5-9be2-1298224085f0",
   "metadata": {},
   "outputs": [],
   "source": [
    "policyFunction = self.gridPolicy(sols[self.db['t'][0]]['τ'])"
   ]
  },
  {
   "cell_type": "code",
   "execution_count": 9,
   "id": "0a69d2cc-46ba-4c64-80cd-6c9e03942fbb",
   "metadata": {},
   "outputs": [],
   "source": [
    "τ = 0.2"
   ]
  },
  {
   "cell_type": "code",
   "execution_count": 12,
   "id": "b2fa3f08-8124-4a9a-ac0e-7b3310b167d2",
   "metadata": {},
   "outputs": [],
   "source": [
    "ss = m.SS_Scalar_solve(τ, t = 0)"
   ]
  },
  {
   "cell_type": "code",
   "execution_count": 14,
   "id": "8a3b03b7-e16f-4552-9c40-816d7692de59",
   "metadata": {},
   "outputs": [
    {
     "data": {
      "text/plain": [
       "np.float64(0.39314852651794585)"
      ]
     },
     "execution_count": 14,
     "metadata": {},
     "output_type": "execute_result"
    }
   ],
   "source": [
    "policyFunction(ss['s'])"
   ]
  }
 ],
 "metadata": {
  "kernelspec": {
   "display_name": "Python 3 (ipykernel)",
   "language": "python",
   "name": "python3"
  },
  "language_info": {
   "codemirror_mode": {
    "name": "ipython",
    "version": 3
   },
   "file_extension": ".py",
   "mimetype": "text/x-python",
   "name": "python",
   "nbconvert_exporter": "python",
   "pygments_lexer": "ipython3",
   "version": "3.12.4"
  }
 },
 "nbformat": 4,
 "nbformat_minor": 5
}
