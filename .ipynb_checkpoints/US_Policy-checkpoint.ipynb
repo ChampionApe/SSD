{
 "cells": [
  {
   "cell_type": "code",
   "execution_count": 1,
   "id": "dd9377ce-aaae-4903-85b5-3d0f576fab8f",
   "metadata": {},
   "outputs": [],
   "source": [
    "%run stdPackages.ipynb\n",
    "os.chdir(d['py'])\n",
    "import US_main, US_c, US_policy\n",
    "os.chdir(d['curr'])"
   ]
  },
  {
   "cell_type": "code",
   "execution_count": 2,
   "id": "144607d5-f9db-460a-9e08-62cb821be435",
   "metadata": {
    "jupyter": {
     "source_hidden": true
    },
    "tags": []
   },
   "outputs": [],
   "source": [
    "dates_log = pd.Index([1950, 1980, 2010, 2040, 2070, 2100], name = 't')\n",
    "ν_log = np.array([1.504840069, 1.394563144, 1.178137696, 1.055068673, 1.018706685, 1.018706685])\n",
    "T_log = len(ν_log)\n",
    "T = T_log+3\n",
    "dates = dates_log.union(pd.Index([dates_log[-1]+30*i for i in range(1,T-T_log+1)]))\n",
    "ν = np.hstack([ν_log, np.full(T-T_log, ν_log[-1])])\n",
    "A = np.ones(T) # normalize exog. productivity at 1 \n",
    "t0date = 2010 # calibration date\n",
    "t0 = dates.get_loc(t0date) # index for year of calibration \n",
    "\n",
    "\n",
    "# \"Simple\" calibration:\n",
    "α = .281 # capital income share\n",
    "\n",
    "# Household types:\n",
    "γj  = np.array([.056, 0.449, 0.307, 0.188])\n",
    "ni = len(γj)-1\n",
    "hours = np.array([1415.38, 2114.79, 2315.83, 2458.91]) # hours\n",
    "wagerates = np.array([6.914, 14.88, 27.32, 62.26]) # wages\n",
    "income = hours*wagerates\n",
    "zxj = hours/hours[1:].mean()\n",
    "zηj = income/income[1:].mean()\n",
    "pj = np.array([0.385, 0.55, 0.652, 0.74])\n",
    "μj = np.array([0.362, 0.526, 0.684, 0.756]) # voter turnout \n",
    "\n",
    "\n",
    "# other targets:\n",
    "τ0 = .158 # target labor tax rate\n",
    "RR = 39.4/50.1 # replacement rate\n",
    "universalShare = 3.4/15.8 # share of ss going to universal\n",
    "R0 = 2.443 \n",
    "\n",
    "\n",
    "# Initial/baseline values:\n",
    "ξ0 = .35\n",
    "ρ0 = 1.2\n",
    "ω0 = 1.5\n",
    "# βj = np.ones(ni+1)"
   ]
  },
  {
   "cell_type": "code",
   "execution_count": 3,
   "id": "81c6c77e-fac0-4931-9571-425a0b5b1f57",
   "metadata": {
    "tags": []
   },
   "outputs": [],
   "source": [
    "kwargs = {'α': α, 'A': A, 'ν': ν, 'γj': γj, 'zxj': zxj, 'zηj': zηj, 'pj': pj, 'μj': μj, 'τ0': τ0, 'RR0': RR, 'UShare0': universalShare, 'R0': R0, 'ξ': ξ0, 'ρ': ρ0, 'ω': ω0}"
   ]
  },
  {
   "cell_type": "code",
   "execution_count": 4,
   "id": "397196a9-7a48-42bd-97be-c3fbd9aa33ec",
   "metadata": {
    "tags": []
   },
   "outputs": [],
   "source": [
    "m = US_main.Model(ni = ni, T = T, gridkwargs = {'glob_ns': 50}, **kwargs)"
   ]
  },
  {
   "cell_type": "markdown",
   "id": "09b42aef-66cb-4dab-8114-f8723a08ed12",
   "metadata": {},
   "source": [
    "## 1. PEE class"
   ]
  },
  {
   "cell_type": "markdown",
   "id": "903031cc-c943-4249-b7ef-5e74bb2e0849",
   "metadata": {},
   "source": [
    "The ```PEE``` class is used to identify policy functions. \n",
    "* It includes finite horizon methods, steady state methods, and infinite horizon methods (that assumes steady state for the terminal period only). \n",
    "* When identifying the policy functions, we can always identify the policy function in one of the following ways: \n",
    "    1. ```style = 'Vector'```: Optimization (on grid of $s_{t-1}$).\n",
    "    2. ```style = 'ScalarLoop'```: loops through optimization for each node on the grid.\n",
    "    3. ```style = 'GridSearch'```: Creates grid of $\\tau$ (for each node $s_{t-1}$) and chooses the $\\tau$ that minimizes distance to solution.\n",
    "    4. ```style = 'Grid'```: Creates grid of $\\tau$ and interpolates the solution.\n",
    "    5. ```stlye = 'GridSC```: Creates grid of $\\tau$ and interpolates solution by idenfitying sign changes in the objective function for adjacent nodes.\n",
    "    \n",
    "    Finally, the method ```style = 'Robust'``` applies ```GridSC``` to obtain an intial guess for the policy function and then applies the ```Vector``` method.\n",
    "* The method ```FH``` returns dict of policy functions (over time). The default intial values can be accessed and adjusted through ```self.x0``` (dict over time), and the default \"solution style\" and other arguments can be passed through a dict (over time) of dicts (kwargs). The default styles are specified in ```self.kwargs_T``` and ```self.kwargs_t```. "
   ]
  },
  {
   "cell_type": "code",
   "execution_count": 5,
   "id": "da59f566-e40a-412a-8eb1-c4f2c3307baa",
   "metadata": {},
   "outputs": [],
   "source": [
    "pee = US_policy.PEE(m)"
   ]
  },
  {
   "cell_type": "markdown",
   "id": "389af70a-0f81-444f-800f-684aa028ab38",
   "metadata": {},
   "source": [
    "*Solve terminal period with various styles:*"
   ]
  },
  {
   "cell_type": "code",
   "execution_count": 6,
   "id": "be9a8902-b1ba-4046-8b98-f14dba8fe747",
   "metadata": {},
   "outputs": [],
   "source": [
    "t = m.db['t'][-1]\n",
    "θT, epsT, νT = m.db['θ'].iloc[-1], m.db['eps'].iloc[-1], ν[-1]\n",
    "sol_T = pee.solve(θT, epsT, νT, t = 'T', style = 'Vector', x0 = pee.x0[t])\n",
    "sol_T = pee.solve(θT, epsT, νT, t = 'T', style = 'ScalarLoop', x0 = pee.x0[t])\n",
    "sol_T = pee.solve(θT, epsT, νT, t = 'T', style = 'GridSearch', n = 1000, l = 0, u = 1) # add grid specifications for the search instead of initial values\n",
    "sol_T = pee.solve(θT, epsT, νT, t = 'T', style = 'GridSC', n = 1000, l = 0, u = 1) # add grid specifications for the search instead of initial values\n",
    "sol_T = pee.solve(θT, epsT, νT, t = 'T', style = 'Grid', n = 1000, l = 0, u = 1) # add grid specifications for the search instead of initial values\n",
    "sol_T = pee.solve(θT, epsT, νT, t = 'T', style = 'Robust', n = 1000, l = 0, u = 1) # add grid specifications for the search instead of initial values"
   ]
  },
  {
   "cell_type": "markdown",
   "id": "13bb8800-0171-4ee3-b3f3-70cad1f34359",
   "metadata": {},
   "source": [
    "*Solve T-1 with various styles:*"
   ]
  },
  {
   "cell_type": "code",
   "execution_count": 7,
   "id": "21288cf1-bc43-4d7c-8972-c17dfc18417c",
   "metadata": {},
   "outputs": [],
   "source": [
    "t = m.db['t'][-2]\n",
    "θt, epst, νt = m.db['θ'].iloc[-2], m.db['eps'].iloc[-2], ν[-2]\n",
    "sol_t = pee.solve(θt, epst, νt, θp = θT, epsp = epsT, νp = νT, solp = sol_T, style = 'Vector', x0 = pee.x0[t])\n",
    "sol_t = pee.solve(θt, epst, νt, θp = θT, epsp = epsT, νp = νT, solp = sol_T, style = 'ScalarLoop', x0 = pee.x0[t])\n",
    "sol_t = pee.solve(θt, epst, νt, θp = θT, epsp = epsT, νp = νT, solp = sol_T, style = 'GridSearch', n = 1000, l = 0, u = 1) # add grid specifications for the search instead of initial values\n",
    "sol_t = pee.solve(θt, epst, νt, θp = θT, epsp = epsT, νp = νT, solp = sol_T, style = 'GridSC', n = 1000, l = 0, u = 1) # add grid specifications for the search instead of initial values\n",
    "sol_t = pee.solve(θt, epst, νt, θp = θT, epsp = epsT, νp = νT, solp = sol_T, style = 'Grid', n = 1000, l = 0, u = 1) # add grid specifications for the search instead of initial values\n",
    "sol_t = pee.solve(θt, epst, νt, θp = θT, epsp = epsT, νp = νT, solp = sol_T, style = 'Robust', n = 1000, l = 0, u = 1) # add grid specifications for the search instead of initial values"
   ]
  },
  {
   "cell_type": "markdown",
   "id": "8744af59-c712-427e-bd1f-0455bee08b7f",
   "metadata": {},
   "source": [
    "*Return dict of policy functions using default methods:*"
   ]
  },
  {
   "cell_type": "code",
   "execution_count": 8,
   "id": "cd55d989-b7ae-40ff-8b0f-0fce29c85626",
   "metadata": {},
   "outputs": [],
   "source": [
    "sol = pee.FH()"
   ]
  },
  {
   "cell_type": "markdown",
   "id": "0673588c-4b01-42be-a429-6cfa317aa1e0",
   "metadata": {},
   "source": [
    "*Specify that $T-1$ should be solved with 'Robust' and otherwise standard settings:*"
   ]
  },
  {
   "cell_type": "code",
   "execution_count": 9,
   "id": "a40dd2e2-6c00-4033-8f35-99d7cb5949a6",
   "metadata": {},
   "outputs": [],
   "source": [
    "stdkwargs = pee.FH_kwargs\n",
    "stdkwargs[t] = {'style': 'Robust', 'n': 100, 'l': 0, 'u': 1}\n",
    "sol = pee.FH(pars = stdkwargs)"
   ]
  },
  {
   "cell_type": "markdown",
   "id": "b56e89cd-44e8-4526-84a2-938def2ff39c",
   "metadata": {},
   "source": [
    "## 2. ESC class"
   ]
  },
  {
   "cell_type": "markdown",
   "id": "d6f71a06-b773-4f76-b02a-b4391319f746",
   "metadata": {},
   "source": [
    "*The ESC class is set up in a very similar way. The gridstyle ```GridSC``` applies the search for sign changes sequentially and is thus pretty slow*"
   ]
  },
  {
   "cell_type": "code",
   "execution_count": 10,
   "id": "4ea6c341-f2d4-4c33-8c12-f44cba530b9d",
   "metadata": {},
   "outputs": [],
   "source": [
    "esc = US_policy.ESC(m)"
   ]
  },
  {
   "cell_type": "markdown",
   "id": "06802627-5ad9-414f-9d88-a8ac85fb087f",
   "metadata": {},
   "source": [
    "*Solve terminal period with various styles:*"
   ]
  },
  {
   "cell_type": "code",
   "execution_count": 11,
   "id": "a19910aa-4887-426d-a5cd-2e31188f40fc",
   "metadata": {},
   "outputs": [],
   "source": [
    "t = m.db['t'][-1]\n",
    "νT = ν[-1]\n",
    "sol_ESC_T = esc.solve(νT, t = 'T', style = 'Vector', x0 = esc.x0[t])\n",
    "sol_ESC_T = esc.solve(νT, t = 'T', style = 'ScalarLoop', x0 = esc.x0[t])\n",
    "sol_ESC_T = esc.solve(νT, t = 'T', style = 'GridSearch', **esc.grids) # add grid specifications for the search instead of initial values - use standard grids from self.FH_grids\n",
    "sol_ESC_T = esc.solve(νT, t = 'T', style = 'GridSC',**esc.grids) # add grid specs.\n",
    "sol_ESC_T = esc.solve(νT, t = 'T', style = 'Grid', **esc.grids) # add grid specifications for the search instead of initial values\n",
    "sol_ESC_T = esc.solve(νT, t = 'T', style = 'Robust', **esc.grids) # add grid specifications for the search instead of initial values"
   ]
  },
  {
   "cell_type": "markdown",
   "id": "436f744d-ad41-4c83-b61e-242346b3466e",
   "metadata": {},
   "source": [
    "*Solve T-1 with various styles:*"
   ]
  },
  {
   "cell_type": "code",
   "execution_count": 12,
   "id": "77633ab9-c345-4379-a29f-4b38202b7cf1",
   "metadata": {},
   "outputs": [],
   "source": [
    "t = m.db['t'][-2]\n",
    "νt = ν[-2]\n",
    "sol_ESC_t = esc.solve(νt, νp = νT, solp = sol_ESC_T, style = 'Vector', x0 = esc.x0[t])\n",
    "sol_ESC_t = esc.solve(νt, νp = νT, solp = sol_ESC_T, style = 'ScalarLoop', x0 = esc.x0[t])\n",
    "sol_ESC_t = esc.solve(νt, νp = νT, solp = sol_ESC_T, style = 'GridSearch', **esc.grids) # add grid specifications for the search instead of initial values\n",
    "sol_ESC_t = esc.solve(νt, νp = νT, solp = sol_ESC_T, style = 'GridSC', **esc.grids) # add grid specifications for the search instead of initial values\n",
    "sol_ESC_t = esc.solve(νt, νp = νT, solp = sol_ESC_T, style = 'Grid', **esc.grids) # add grid specifications for the search instead of initial values\n",
    "sol_ESC_t = esc.solve(νt, νp = νT, solp = sol_ESC_T, style = 'Robust', **esc.grids) # add grid specifications for the search instead of initial values"
   ]
  },
  {
   "cell_type": "markdown",
   "id": "d815baa4-41e6-4a08-a423-247a6a451e32",
   "metadata": {},
   "source": [
    "*Return dict of policy functions using default methods:*"
   ]
  },
  {
   "cell_type": "code",
   "execution_count": 13,
   "id": "9305589e-a17d-4af3-8180-aec7e4990372",
   "metadata": {},
   "outputs": [],
   "source": [
    "sol = esc.FH()"
   ]
  },
  {
   "cell_type": "markdown",
   "id": "50f3b2d5-83f7-496f-9f79-2e69136d8aea",
   "metadata": {},
   "source": [
    "*Specify that $T-1$ should be solved with 'Robust' and otherwise standard settings:*"
   ]
  },
  {
   "cell_type": "code",
   "execution_count": 14,
   "id": "f14d4344-9349-4c2c-8afe-af67b7564aba",
   "metadata": {},
   "outputs": [],
   "source": [
    "stdkwargs = esc.FH_kwargs\n",
    "stdkwargs[t] = {'style': 'Robust'} | esc.grids # robust requires grid search parameters\n",
    "sol = esc.FH(pars = stdkwargs)"
   ]
  }
 ],
 "metadata": {
  "kernelspec": {
   "display_name": "Python 3 (ipykernel)",
   "language": "python",
   "name": "python3"
  },
  "language_info": {
   "codemirror_mode": {
    "name": "ipython",
    "version": 3
   },
   "file_extension": ".py",
   "mimetype": "text/x-python",
   "name": "python",
   "nbconvert_exporter": "python",
   "pygments_lexer": "ipython3",
   "version": "3.11.4"
  }
 },
 "nbformat": 4,
 "nbformat_minor": 5
}
