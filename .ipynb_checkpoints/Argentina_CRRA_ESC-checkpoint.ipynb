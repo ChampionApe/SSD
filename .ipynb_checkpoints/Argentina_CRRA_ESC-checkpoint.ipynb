{
 "cells": [
  {
   "cell_type": "code",
   "execution_count": 1,
   "id": "54a489db-c145-4c9d-98f8-3dcbdf2df473",
   "metadata": {},
   "outputs": [],
   "source": [
    "%run stdPackages.ipynb"
   ]
  },
  {
   "cell_type": "markdown",
   "id": "ac17d55c-1a94-4dc5-8bd7-bff660c0ee5d",
   "metadata": {},
   "source": [
    "# Social Security Design - Argentina"
   ]
  },
  {
   "cell_type": "markdown",
   "id": "cd0e29f2-8bd5-4cba-8c3c-5d7bc4a395e3",
   "metadata": {
    "tags": []
   },
   "source": [
    "## 1. Input data and simple calibrations"
   ]
  },
  {
   "cell_type": "markdown",
   "id": "4eea3bcf-b076-4cf4-9bb6-0cf3291896cf",
   "metadata": {},
   "source": [
    "We assume that we have data on the following:\n",
    "* Worker-to-retiree ratios $\\nu_t$.\n",
    "* Capital income share $\\alpha$.\n",
    "* Frisch elasticity of labor $\\xi$ (individual response to after-tax wages).\n",
    "* Share of retirees that only receive basic pension benefits - here defined as share of hand-to-mouth households ($\\gamma_u$).\n",
    "* Heterogeneity in working households:\n",
    "    1. Relative sizes of household types $\\gamma_i$, such that $\\sum_i = \\gamma_i$.\n",
    "    2. Income distribution across types $z_i^{\\eta}$.\n",
    "    3. Distribution of working hours across types $z_i^{x}$.\n",
    "* The economy wide average savings rate $\\overline{s}_t$.\n",
    "* The ratio of income from $u$-types to the average worker for young ($\\chi_1$) and old ($\\chi_2$).\n",
    "* The pension tax in a given year $\\overline{\\tau}$.\n",
    "* The target for ratios of replacement rates for 1st and 2nd quartiles $RR$."
   ]
  },
  {
   "cell_type": "markdown",
   "id": "dba7ca09-e2ec-451a-bbf8-62ed222a19dc",
   "metadata": {},
   "source": [
    "### 1.1. Fixed data"
   ]
  },
  {
   "cell_type": "code",
   "execution_count": 2,
   "id": "75404d6f-2aa3-4287-9c34-239559c91a1a",
   "metadata": {},
   "outputs": [],
   "source": [
    "dates_log = pd.Index([1950, 1980, 2010, 2040, 2070, 2100], name = 't')\n",
    "ν_log = np.array([1.497025777, 1.365562914, 1.20756547, 1.110843373, 1.072547602, 1.0725])\n",
    "T_log = len(ν_log) # number of years in data\n",
    "T = T_log+3\n",
    "dates = dates_log.union(pd.Index([dates_log[-1]+30*i for i in range(1,T-T_log+1)]))\n",
    "ν = np.hstack([ν_log, np.full(T-T_log, ν_log[-1])])\n",
    "A = np.ones(T) # normalize exog. productivity at 1 \n",
    "α = .43 # capital income share\n",
    "ξ = .35 # frisch elasticity\n",
    "γ = np.full((4, ), 0.25) # four equally large shares\n",
    "ni = len(γ) # number of types of working households in this case\n",
    "hours = np.array([38.6, 41.8, 43.4, 46.8]) # weekly hours, working households\n",
    "income= np.array([618.6, 945.5, 1278.6, 2341.6]) # income levels, working households\n",
    "zx = hours/hours.mean() # normalized data\n",
    "zη = income/income.mean() # normalized data\n",
    "γu =.32 # share of u households\n",
    "χ1 = 0.3089 # relative income of u-types\n",
    "χ2 = 0.95 * χ1 # relative income of u-types when old - assumed slightly lower\n",
    "τ0 = 0.142 # target level of pension tax\n",
    "s0 = 0.184 # target savings rate\n",
    "t0date = 2010\n",
    "t0 = dates.get_loc(t0date) # index for year of calibration \n",
    "RR = 0.678/0.803 # replacement rate\n",
    "ω = 4\n",
    "ρ = .5\n",
    "ωu = .3\n",
    "ωη = 1.65"
   ]
  },
  {
   "cell_type": "markdown",
   "id": "546d56d2-2442-487d-ad69-c4e7ec3f3833",
   "metadata": {},
   "source": [
    "### 1.2. Calibration of $\\eta_i, X_i, \\theta$"
   ]
  },
  {
   "cell_type": "markdown",
   "id": "2973e3ac-2461-4eb9-89d0-65ba0e32fdaa",
   "metadata": {},
   "source": [
    "1. The vector of $(\\eta_i/X_i)^{\\xi}$ is proportional to eigenvector $\\textbf{y}^x$ - i.e. set $(\\eta_i/X_i)^{\\xi} = y_i^x$.\n",
    "2. The vector of $(\\eta_i^{1+\\xi}/X_i^{\\xi})$ is proportional to the eigenvector $\\textbf{y}^{\\eta}$ - i.e. set $\\eta_i^{1+\\xi}/X_i^{\\xi} = k y_i^{\\eta} $, where $k>0$ is some constant.\n",
    "3. We then have $\\eta_i =k y_i^{\\eta} / y_i^x$ and $(\\eta_i/X_i)^{\\xi} = y_i^x$. Use $k$ to normalize such that \n",
    "$$\\begin{align}\n",
    "    \\sum_i \\gamma_i \\eta_i^{1+\\xi}/X_i^{\\xi} = 1 \\qquad \\Rightarrow \\qquad k = \\dfrac{1}{\\sum_i \\gamma_i y_i^{\\eta}}.\n",
    "\\end{align}$$"
   ]
  },
  {
   "cell_type": "markdown",
   "id": "1a4d034d-7360-46d7-b445-92e6925e2d68",
   "metadata": {},
   "source": [
    "Find eigenvectors:"
   ]
  },
  {
   "cell_type": "code",
   "execution_count": 3,
   "id": "145895a3-5cc6-4191-a10f-e4166d76b930",
   "metadata": {},
   "outputs": [],
   "source": [
    "valx, vecx = scipy.sparse.linalg.eigs(zx.reshape(ni,1) * γ.reshape(1,ni), k=1)\n",
    "valη, vecη = scipy.sparse.linalg.eigs(zη.reshape(ni,1) * γ.reshape(1,ni), k=1)\n",
    "yx, yη = abs(np.real(vecx)).reshape(ni), abs(np.real(vecη)).reshape(ni) # this assumes that all coordinates in eigenvector are either positive or negative; this should be the case"
   ]
  },
  {
   "cell_type": "markdown",
   "id": "1b015c00-9840-41f6-90ec-64e2f7a3f181",
   "metadata": {},
   "source": [
    "Calibrate parameters:"
   ]
  },
  {
   "cell_type": "code",
   "execution_count": 4,
   "id": "7d22b0a7-1080-4b9f-8e6f-d59be591a0a8",
   "metadata": {},
   "outputs": [],
   "source": [
    "η = yη/(yx*sum(γ*yη))\n",
    "X = η/yx**(1/ξ)"
   ]
  },
  {
   "cell_type": "markdown",
   "id": "af91939c-bbaf-4970-a253-6f13701f64aa",
   "metadata": {},
   "source": [
    "Now given parameters that define household heterogeneity, we define $\\theta$ from the relative replacement rates:"
   ]
  },
  {
   "cell_type": "code",
   "execution_count": 5,
   "id": "5116c179-d13b-49b0-bfad-ab0daf38981e",
   "metadata": {},
   "outputs": [],
   "source": [
    "Q1 = η[0]**(1+ξ)/(X[0]**ξ)\n",
    "Q2 = η[1]**(1+ξ)/(X[1]**ξ)\n",
    "θ = (RR/Q1-1/Q2)/(1-RR+RR/Q1-1/Q2)"
   ]
  },
  {
   "cell_type": "markdown",
   "id": "51e1da9f-0702-4a06-9587-7d0042bbbb67",
   "metadata": {},
   "source": [
    "### 1.3. Initial guesses for yet-to-calibrated parameters"
   ]
  },
  {
   "cell_type": "markdown",
   "id": "4554087a-46f6-49d4-96db-4e6f37d72ec5",
   "metadata": {},
   "source": [
    "Set uniform $\\beta$ for all types:"
   ]
  },
  {
   "cell_type": "code",
   "execution_count": 6,
   "id": "6dd22640-a5d8-40b7-aebd-4b7dd2bbff74",
   "metadata": {},
   "outputs": [],
   "source": [
    "β = np.full(ni, fill_value = 1)\n",
    "βu= min(β) # set impatience equal to lowest producticity household. "
   ]
  },
  {
   "cell_type": "markdown",
   "id": "c2c424e2-4172-42cc-be30-9d7785bc2a55",
   "metadata": {},
   "source": [
    "Given our guess on $\\beta$, we can define $\\epsilon$ from the built-in function for the Argentina case: "
   ]
  },
  {
   "cell_type": "code",
   "execution_count": 7,
   "id": "8d9dd5ea-9bda-4b94-9750-a33aa5799df1",
   "metadata": {},
   "outputs": [],
   "source": [
    "eps = CRRA.argentinaCalEps(θ, β[0])"
   ]
  },
  {
   "cell_type": "markdown",
   "id": "87f20d2d-5a0d-440e-b280-4a4ee96e44b5",
   "metadata": {},
   "source": [
    "## 2. Calibration of ESC model"
   ]
  },
  {
   "cell_type": "markdown",
   "id": "4ddc5731-b011-4ee6-a574-e0c04fb6968a",
   "metadata": {},
   "source": [
    "Grid settings:"
   ]
  },
  {
   "cell_type": "code",
   "execution_count": 8,
   "id": "51b4595c-d5ae-4170-b91f-8d7c706c57ca",
   "metadata": {},
   "outputs": [],
   "source": [
    "ngrid = 50 # number of gridpoints in the savings grid\n",
    "_min = 1e-4 # use as \"small\" number instead of 0\n",
    "exp = 1 # nonlinearity in grid, exp>1 increases number of gridpoints in the lower end of the grid"
   ]
  },
  {
   "cell_type": "markdown",
   "id": "c8bff595-0fce-4b5d-ba55-6728fb2712b7",
   "metadata": {},
   "source": [
    "Initialize CRRA and log models:"
   ]
  },
  {
   "cell_type": "code",
   "execution_count": 9,
   "id": "9fb5039e-81b7-4120-8795-ebe4b9b0038e",
   "metadata": {},
   "outputs": [],
   "source": [
    "kwargs = {'α': α, 'A': A, 'ν': ν, 'η': η, 'γ': γ, 'X': X, 'β': β, 'βu': βu, 'ξ': ξ, 'eps': eps, 'θ': θ, 'γu': γu, 'χ1': χ1, 'χ2': χ2, 'ρ': ρ, 'ω': ω, 'ωu': ωu,'ωη': ωη}\n",
    "m = CRRA.infHorizon(ni=ni, T = T, ngrid = ngrid, **kwargs)\n",
    "mLog = logModelESC.infHorizon(ni = ni, T = T, **kwargs)\n",
    "sGrid = CRRA.polGrid(_min, m.solve_ss(0,0,0,ν[-1])['s'], m.ngrid, exp)"
   ]
  },
  {
   "cell_type": "markdown",
   "id": "13484009-7a0e-44fc-9179-facf275211fc",
   "metadata": {},
   "source": [
    "Calibration of pure PEE models in the two instances:"
   ]
  },
  {
   "cell_type": "code",
   "execution_count": 10,
   "id": "a1b6a4d5-a3d9-4b50-836f-d80e46d10182",
   "metadata": {},
   "outputs": [],
   "source": [
    "m.argentinaCal_simple_PEE(τ0, s0, t0, sGrid);\n",
    "mLog.argentinaCalibrate(τ0, s0, t0);"
   ]
  },
  {
   "cell_type": "markdown",
   "id": "7c86c373-7673-47de-adf9-89dcc032dfca",
   "metadata": {},
   "source": [
    "### ESC"
   ]
  },
  {
   "cell_type": "markdown",
   "id": "444110ef-4e50-490d-b576-598ac6596175",
   "metadata": {},
   "source": [
    "Now, try to calibrate the model pre-reform:"
   ]
  },
  {
   "cell_type": "code",
   "execution_count": 11,
   "id": "2c0033a0-de3e-4a3c-937b-a02fabb61dbc",
   "metadata": {},
   "outputs": [],
   "source": [
    "m.argentinaCal_preReform(τ0, s0, θ, t0, sGrid);\n",
    "mLog.argentinaCalibrate_preReform(τ0, s0, θ, t0);"
   ]
  },
  {
   "cell_type": "markdown",
   "id": "bb15641b-c882-4d32-a32d-47923298f969",
   "metadata": {},
   "source": [
    "Solve baseline:"
   ]
  },
  {
   "cell_type": "code",
   "execution_count": 12,
   "id": "1e65166c-babe-4489-9fdf-d2b833d7eb60",
   "metadata": {},
   "outputs": [],
   "source": [
    "m.db.update(m.solve_ESCB(sGrid))\n",
    "m.reportAll()\n",
    "mLog.db.update(mLog.solve_PEE())\n",
    "mLog.reportAll()"
   ]
  },
  {
   "cell_type": "markdown",
   "id": "76221795-fe37-4a5e-89dc-b7f93290a2b8",
   "metadata": {},
   "source": [
    "Store solutions for later:"
   ]
  },
  {
   "cell_type": "code",
   "execution_count": 13,
   "id": "bf5980a8-4099-4ff3-817b-786999c4294f",
   "metadata": {},
   "outputs": [],
   "source": [
    "fulldb = m.db.copy()\n",
    "fulldbLog = mLog.db.copy()"
   ]
  },
  {
   "cell_type": "markdown",
   "id": "45b85da7-b2fc-4eb7-a434-e7f0afe6aa65",
   "metadata": {},
   "source": [
    "## 3. Calibration to post-reform scenario"
   ]
  },
  {
   "cell_type": "markdown",
   "id": "a966c3e2-3e1f-4c29-8f77-b1b3e9fe29ea",
   "metadata": {},
   "source": [
    "Create version of the model that starts in 2010:"
   ]
  },
  {
   "cell_type": "code",
   "execution_count": 14,
   "id": "83a01422-550b-41b9-be5d-81a1526678fe",
   "metadata": {},
   "outputs": [],
   "source": [
    "dates_2010 = dates[dates>=2010]\n",
    "T_2010 = len(dates_2010)\n",
    "mLog_2010 = logModelESC.infHorizon(ni = ni, T = T_2010, \n",
    "                                    eps = fulldbLog['eps'].loc[t0:].set_axis(mLog.db['t'][t0:]-t0), \n",
    "                                    θ = mLog.db['θ'].loc[t0:].set_axis(mLog.db['t'][t0:]-t0),\n",
    "                                    **({k: fulldbLog[k] for k in mLog.defaultParameters} | {'ν': ν[(T-T_2010):],\n",
    "                                                                                            'A': A[(T-T_2010):]}))\n",
    "m_2010 = CRRA.infHorizon(ni = ni, T = T_2010, ngrid = ngrid, \n",
    "                         eps = fulldb['eps'].loc[t0:].set_axis(m.db['t'][t0:]-t0),\n",
    "                         θ   = fulldb['θ'].loc[t0:].set_axis(m.db['t'][t0:]-t0),\n",
    "                         **({k: fulldb[k] for k in m.defaultParameters} | {'ν': ν[(T-T_2010):],\n",
    "                                                                           'A': A[(T-T_2010):]}))"
   ]
  },
  {
   "cell_type": "markdown",
   "id": "142c0dda-e97c-445a-bb7c-68561276eb93",
   "metadata": {},
   "source": [
    "Solve and store baseline solutions:"
   ]
  },
  {
   "cell_type": "code",
   "execution_count": 15,
   "id": "79e2fe11-c0e4-426d-a4e2-393dbd03f909",
   "metadata": {},
   "outputs": [],
   "source": [
    "sol, pol = m_2010.solve_ESCB(sGrid, s0 = fulldb['s[t-1]'][t0], returnPols = True)\n",
    "m_2010.db.update(sol)\n",
    "m_2010.reportAll()\n",
    "m_2010.x0['steadyState_ESCB'] = np.hstack([pol[m_2010.T-1][k] for k in m_2010.ns['ESC[t]'].symbols])"
   ]
  },
  {
   "cell_type": "code",
   "execution_count": 16,
   "id": "6602bd0a-2590-4bc4-8ff6-fec3b053108b",
   "metadata": {},
   "outputs": [],
   "source": [
    "mLog_2010.db.update(mLog_2010.solve_ESC())\n",
    "mLog_2010.reportAll(s_ = fulldbLog['s'][t0])"
   ]
  },
  {
   "cell_type": "markdown",
   "id": "79cff9ff-6f11-4761-8763-87c3202173e6",
   "metadata": {},
   "source": [
    "Save baseline solutions for later:"
   ]
  },
  {
   "cell_type": "code",
   "execution_count": 17,
   "id": "686a69a5-2c0e-4567-8db8-b43294b1646f",
   "metadata": {},
   "outputs": [],
   "source": [
    "base = m_2010.db.copy()\n",
    "baseLog = mLog_2010.db.copy()"
   ]
  },
  {
   "cell_type": "markdown",
   "id": "f326666c-b03d-4c82-a85e-b80667f2173e",
   "metadata": {},
   "source": [
    "Now, try to calibrate post reform case:"
   ]
  },
  {
   "cell_type": "code",
   "execution_count": 20,
   "id": "815d01b5-bc27-4cd0-9ec9-2d1eeabc2aa6",
   "metadata": {},
   "outputs": [],
   "source": [
    "m_2010.argentinaCal_postReform(θ, 1-θ, 0, sGrid, base['s[t-1]'][0]);"
   ]
  },
  {
   "cell_type": "markdown",
   "id": "a688ad40-2364-4edc-a655-18371b4e2078",
   "metadata": {},
   "source": [
    "That's great, it works."
   ]
  },
  {
   "cell_type": "code",
   "execution_count": 25,
   "id": "f2bdc3f9-36ad-4cd9-ab53-f44f1aee5a4d",
   "metadata": {},
   "outputs": [],
   "source": [
    "m_2010.db.update( m_2010.solve_ESCB(sGrid, s0 = base['s[t-1]'][0]))\n",
    "m_2010.reportAll()"
   ]
  }
 ],
 "metadata": {
  "kernelspec": {
   "display_name": "Python 3 (ipykernel)",
   "language": "python",
   "name": "python3"
  },
  "language_info": {
   "codemirror_mode": {
    "name": "ipython",
    "version": 3
   },
   "file_extension": ".py",
   "mimetype": "text/x-python",
   "name": "python",
   "nbconvert_exporter": "python",
   "pygments_lexer": "ipython3",
   "version": "3.11.4"
  }
 },
 "nbformat": 4,
 "nbformat_minor": 5
}
