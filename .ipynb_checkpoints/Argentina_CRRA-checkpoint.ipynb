{
 "cells": [
  {
   "cell_type": "code",
   "execution_count": 1,
   "id": "cf0d9dc3-5215-4fb7-a4f8-994efdc45eda",
   "metadata": {},
   "outputs": [],
   "source": [
    "%run stdPackages.ipynb"
   ]
  },
  {
   "cell_type": "markdown",
   "id": "7442a7bd-3ab4-431b-85f4-66394edc1c89",
   "metadata": {},
   "source": [
    "# Social Security Design - Argentina"
   ]
  },
  {
   "cell_type": "markdown",
   "id": "df47e127-5d6f-442f-8305-930c91bd617d",
   "metadata": {},
   "source": [
    "## 1. Input data and simple calibrations"
   ]
  },
  {
   "cell_type": "markdown",
   "id": "e8214ff8-6bc5-4f47-8724-0ac225c36a5b",
   "metadata": {},
   "source": [
    "We assume that we have data on the following:\n",
    "* Worker-to-retiree ratios $\\nu_t$.\n",
    "* Capital income share $\\alpha$.\n",
    "* Frisch elasticity of labor $\\xi$ (individual response to after-tax wages).\n",
    "* Share of retirees that only receive basic pension benefits - here defined as share of hand-to-mouth households ($\\gamma_u$).\n",
    "* Heterogeneity in working households:\n",
    "    1. Relative sizes of household types $\\gamma_i$, such that $\\sum_i = \\gamma_i$.\n",
    "    2. Income distribution across types $z_i^{\\eta}$.\n",
    "    3. Distribution of working hours across types $z_i^{x}$.\n",
    "* The economy wide average savings rate $\\overline{s}_t$.\n",
    "* The ratio of income from $u$-types to the average worker for young ($\\chi_1$) and old ($\\chi_2$).\n",
    "* The pension tax in a given year $\\overline{\\tau}$.\n",
    "* The target for ratios of replacement rates for 1st and 2nd quartiles $RR$."
   ]
  },
  {
   "cell_type": "markdown",
   "id": "90b467bf-bc66-49c3-af27-7f59a0643413",
   "metadata": {},
   "source": [
    "### 1.1. Fixed data"
   ]
  },
  {
   "cell_type": "code",
   "execution_count": 2,
   "id": "d71a7898-f5d8-440f-b553-ae08e863bf40",
   "metadata": {},
   "outputs": [],
   "source": [
    "dates_log = pd.Index([1950, 1980, 2010, 2040, 2070, 2100], name = 't')\n",
    "ν_log = np.array([1.497025777, 1.365562914, 1.20756547, 1.110843373, 1.072547602, 1.0725])\n",
    "T_log = len(ν_log) # number of years in data\n",
    "T = T_log+10\n",
    "dates = dates_log.union(pd.Index([dates_log[-1]+30*i for i in range(1,T-T_log+1)]))\n",
    "ν = np.hstack([ν_log, np.full(T-T_log, ν_log[-1])])\n",
    "A = np.ones(T) # normalize exog. productivity at 1 \n",
    "α = .43 # capital income share\n",
    "ξ = .35 # frisch elasticity\n",
    "γ = np.full((4, ), 0.25) # four equally large shares\n",
    "ni = len(γ) # number of types of working households in this case\n",
    "hours = np.array([38.6, 41.8, 43.4, 46.8]) # weekly hours, working households\n",
    "income= np.array([618.6, 945.5, 1278.6, 2341.6]) # income levels, working households\n",
    "zx = hours/hours.mean() # normalized data\n",
    "zη = income/income.mean() # normalized data\n",
    "γu =.32 # share of u households\n",
    "χ1 = 0.3089 # relative income of u-types\n",
    "χ2 = 0.95 * χ1 # relative income of u-types when old - assumed slightly lower\n",
    "τ0 = 0.142 # target level of pension tax\n",
    "s0 = 0.184 # target savings rate\n",
    "t0date = 2010\n",
    "t0 = dates.get_loc(t0date) # index for year of calibration \n",
    "RR = 0.678/0.803 # replacement rate\n",
    "ρ = .5 # 1/CRRA parameter\n",
    "ω = 5"
   ]
  },
  {
   "cell_type": "markdown",
   "id": "069aed2b-1e99-4fc9-99af-c7f774fad985",
   "metadata": {},
   "source": [
    "### 1.2. Calibration of $\\eta_i, X_i, \\theta$"
   ]
  },
  {
   "cell_type": "markdown",
   "id": "10cd152d-45d9-43cc-813c-66dd95eb3915",
   "metadata": {},
   "source": [
    "1. The vector of $(\\eta_i/X_i)^{\\xi}$ is proportional to eigenvector $\\textbf{y}^x$ - i.e. set $(\\eta_i/X_i)^{\\xi} = y_i^x$.\n",
    "2. The vector of $(\\eta_i^{1+\\xi}/X_i^{\\xi})$ is proportional to the eigenvector $\\textbf{y}^{\\eta}$ - i.e. set $\\eta_i^{1+\\xi}/X_i^{\\xi} = k y_i^{\\eta} $, where $k>0$ is some constant.\n",
    "3. We then have $\\eta_i =k y_i^{\\eta} / y_i^x$ and $(\\eta_i/X_i)^{\\xi} = y_i^x$. Use $k$ to normalize such that \n",
    "$$\\begin{align}\n",
    "    \\sum_i \\gamma_i \\eta_i^{1+\\xi}/X_i^{\\xi} = 1 \\qquad \\Rightarrow \\qquad k = \\dfrac{1}{\\sum_i \\gamma_i y_i^{\\eta}}.\n",
    "\\end{align}$$"
   ]
  },
  {
   "cell_type": "markdown",
   "id": "bb27e683-5554-45b5-85f9-18bf4d763cad",
   "metadata": {},
   "source": [
    "Find eigenvectors:"
   ]
  },
  {
   "cell_type": "code",
   "execution_count": 3,
   "id": "991b6cb2-d4f7-4736-b820-8b149e089ebe",
   "metadata": {},
   "outputs": [],
   "source": [
    "valx, vecx = scipy.sparse.linalg.eigs(zx.reshape(ni,1) * γ.reshape(1,ni), k=1)\n",
    "valη, vecη = scipy.sparse.linalg.eigs(zη.reshape(ni,1) * γ.reshape(1,ni), k=1)\n",
    "yx, yη = abs(np.real(vecx)).reshape(ni), abs(np.real(vecη)).reshape(ni) # this assumes that all coordinates in eigenvector are either positive or negative; this should be the case"
   ]
  },
  {
   "cell_type": "markdown",
   "id": "17d46fe1-16eb-4992-83da-10b3e5a07672",
   "metadata": {},
   "source": [
    "Calibrate parameters:"
   ]
  },
  {
   "cell_type": "code",
   "execution_count": 4,
   "id": "d361565d-c69a-47f7-92fb-504d4323f255",
   "metadata": {},
   "outputs": [],
   "source": [
    "η = yη/(yx*sum(γ*yη))\n",
    "X = η/yx**(1/ξ)"
   ]
  },
  {
   "cell_type": "markdown",
   "id": "27f5d921-afac-41fd-ada1-fb1f3bccd747",
   "metadata": {},
   "source": [
    "Now given parameters that define household heterogeneity, we define $\\theta$ from the relative replacement rates:"
   ]
  },
  {
   "cell_type": "code",
   "execution_count": 5,
   "id": "c681a770-c521-40a1-9a2c-f8e82aac6ba6",
   "metadata": {},
   "outputs": [],
   "source": [
    "Q1 = η[0]**(1+ξ)/(X[0]**ξ)\n",
    "Q2 = η[1]**(1+ξ)/(X[1]**ξ)\n",
    "θ = (RR/Q1-1/Q2)/(1-RR+RR/Q1-1/Q2)"
   ]
  },
  {
   "cell_type": "markdown",
   "id": "1e249acb-517b-4eb3-87b4-3e898af4f9a1",
   "metadata": {},
   "source": [
    "### 1.3. Initial guesses for yet-to-calibrated parameters"
   ]
  },
  {
   "cell_type": "markdown",
   "id": "22f2dd72-2925-4e18-a127-1e4c77187596",
   "metadata": {},
   "source": [
    "Set uniform $\\beta$ for all types:"
   ]
  },
  {
   "cell_type": "code",
   "execution_count": 6,
   "id": "a83d6014-a7a7-4284-9895-306c68b3e02b",
   "metadata": {},
   "outputs": [],
   "source": [
    "β = np.full(ni, fill_value = 1)\n",
    "βu= min(β) # set impatience equal to lowest producticity household. "
   ]
  },
  {
   "cell_type": "markdown",
   "id": "ea8c3ad4-01e9-427b-9a02-209815b1d07c",
   "metadata": {},
   "source": [
    "Given our guess on $\\beta$, we can define $\\epsilon$ from the built-in function for the Argentina case: "
   ]
  },
  {
   "cell_type": "code",
   "execution_count": 7,
   "id": "04522f11-ddce-4859-8cfd-ea4b62f1aa68",
   "metadata": {},
   "outputs": [],
   "source": [
    "epsilon = CRRA.argentinaCalEps(θ, β[0])"
   ]
  },
  {
   "cell_type": "markdown",
   "id": "05f04fea-fb89-4a8b-bf8f-364af864c277",
   "metadata": {},
   "source": [
    "## 2. Initialize and solve model"
   ]
  },
  {
   "cell_type": "code",
   "execution_count": 8,
   "id": "4d4fcbf3-5b76-4e1c-bbfc-3bb6d30084b0",
   "metadata": {},
   "outputs": [],
   "source": [
    "kwargs = {'α': α, 'A': A, 'ν': ν, 'η': η, 'γ': γ, 'X': X, 'β': β, 'βu': βu, 'ξ': ξ, 'epsilon': epsilon, 'θ': θ, 'γu': γu, 'χ1': χ1, 'χ2': χ2, 'ρ': ρ, 'ω': ω}\n",
    "cm = CRRA.finiteHorizon(ni = ni, T = T, **kwargs)\n",
    "lm = logModel.infHorizon(ni = ni, T =T, **kwargs)"
   ]
  },
  {
   "cell_type": "markdown",
   "id": "702213f5-abc1-4252-ac1d-294c69fca890",
   "metadata": {},
   "source": [
    "The CRRA model is solved using an iterative algorithm that first identifies the policy function and then simulates forward given an initial level of savings. This requires setting up a grid of the state $s_{t-1}$ to first identify the policy function on. Here, we use a polynomially spaced grid with weights in the lower end, and set the grid boundaries to be from (close to) zero and 2 times the steady state level of savings."
   ]
  },
  {
   "cell_type": "code",
   "execution_count": 9,
   "id": "4db7ca26-413b-48bc-8032-44c85905edae",
   "metadata": {},
   "outputs": [],
   "source": [
    "n = 25 # number of gridpoints in the savings grid\n",
    "_min = 1e-4 # use as \"small\" number instead of 0\n",
    "exp = 1.5 # nonlinearity in grid, exp>1 increases number of gridpoints in the lower end of the grid\n",
    "sGrid = CRRA.polGrid(_min, cm.solve_steadyState(0, ν[-1], 0, 0)['s']*2, n, exp)"
   ]
  },
  {
   "cell_type": "markdown",
   "id": "eb96d298-ac7c-43a8-ad93-ebf13a69689f",
   "metadata": {},
   "source": [
    "The two models are now calibrated. This solves the model iteratively and searches for parameter values of $\\beta$ and $\\omega$ that ensures that savings and taxes are consistent with 2010 data:"
   ]
  },
  {
   "cell_type": "code",
   "execution_count": 10,
   "id": "bb0119c8-fea1-4735-a6e5-66d2d9c3b2df",
   "metadata": {},
   "outputs": [],
   "source": [
    "cm.argentinaCalibrate(τ0, s0, t0, sGrid);\n",
    "lm.argentinaCalibrate(τ0, s0, t0);"
   ]
  },
  {
   "cell_type": "markdown",
   "id": "7dffa306-4824-43fb-8c9b-57717551f398",
   "metadata": {},
   "source": [
    "Given the calibration, we now solve and store a number of auxiliary results by calling:"
   ]
  },
  {
   "cell_type": "code",
   "execution_count": 11,
   "id": "c00d0edb-5180-449d-ae94-d5d2d1976595",
   "metadata": {},
   "outputs": [],
   "source": [
    "lm.db.update(lm.solve_PEE()) # solve main PEE problem\n",
    "lm.reportAll() # store auxiliary results\n",
    "cm.db.update(cm.solve_PEE(sGrid))\n",
    "cm.reportAll()"
   ]
  },
  {
   "cell_type": "markdown",
   "id": "640925f6-210c-41dc-9044-f248d6fae505",
   "metadata": {},
   "source": [
    "## 3. Baseline plots:"
   ]
  },
  {
   "cell_type": "markdown",
   "id": "c2fd4d10-d4d7-471d-8a31-2c0adc1f17f0",
   "metadata": {},
   "source": [
    "Provide some labels to call the $i$ types of agents when plotting:"
   ]
  },
  {
   "cell_type": "code",
   "execution_count": 12,
   "id": "16d9db32-c073-4790-8bdc-ffb24bcf011b",
   "metadata": {},
   "outputs": [],
   "source": [
    "typeLabels = {0: '1st Quartile', 1: '2nd Quartile', 2: '3rd Quartile', 3: '4th Quartile'}"
   ]
  },
  {
   "cell_type": "markdown",
   "id": "5ddf34f2-d8c3-4bb0-ba9c-a9bfe3cbe269",
   "metadata": {},
   "source": [
    "Define a few auxiliary functions used for plotting:"
   ]
  },
  {
   "cell_type": "code",
   "execution_count": 13,
   "id": "9b6da8cf-dc43-4b21-a077-ae15422e187b",
   "metadata": {},
   "outputs": [],
   "source": [
    "def addYears(x, copy = True):\n",
    "    \"\"\" Replace integer set 't' (from 0 to T) with years in 'dates' \"\"\"\n",
    "    if copy:\n",
    "        x = x.copy()\n",
    "    if isinstance(x, pd.Index):\n",
    "        return x.map(pd.Series(dates.values, index = x)).rename('')\n",
    "    elif isinstance(x, (pd.DataFrame, pd.Series)):\n",
    "        x.index = addYears(x.index, copy = False)\n",
    "        return x[dates_log] \n",
    "def adjLabels(x, copy = True):\n",
    "    \"\"\" Replace integer set 'i' (from 0 to ni) with labels in 'typeLabels' \"\"\"\n",
    "    if copy:\n",
    "        x = x.copy()\n",
    "    if isinstance(x, pd.Index):\n",
    "        return x.map(typeLabels)\n",
    "    elif isinstance(x, pd.Series):\n",
    "        x.index = adjLabels(x.index, copy = False)\n",
    "    elif isinstance(x, pd.DataFrame):\n",
    "        x.columns = adjLabels(x.columns, copy = False)\n",
    "    return x\n",
    "def extractDf(sol, x, grid, d):\n",
    "    \"\"\" Collect data on variables from different simulations in one dataframe \"\"\"\n",
    "    return addYears(pd.concat([soli[x] for soli in sol.values()], axis=1), d).set_axis(grid, axis = \"columns\")    "
   ]
  },
  {
   "cell_type": "markdown",
   "id": "7eab39e2-0eec-42b7-aee2-be0b8d4de40e",
   "metadata": {},
   "source": [
    "### 3.1. PEE taxes, labor supply, savings, and worker-to-retiree ratio over time:"
   ]
  },
  {
   "cell_type": "markdown",
   "id": "65c58f51-2598-47a7-befc-12eb95f296b8",
   "metadata": {},
   "source": [
    "*Collect data:*"
   ]
  },
  {
   "cell_type": "code",
   "execution_count": 14,
   "id": "01380590-7ab0-4eef-9438-25916742de0b",
   "metadata": {},
   "outputs": [],
   "source": [
    "df = pd.concat([addYears(cm.db[k]).rename(k) for k in ('τ', 'h')], axis = 1)\n",
    "df['Worker-to-retiree ratio'] = pd.Series(cm.db['ν'], index = dates)[dates_log]\n",
    "df['Savings rate (% GDP)'] = addYears(cm.savingsRate(cm.db['Θs'], cm.db['Θh'])) # savings rate as % of GDP"
   ]
  },
  {
   "cell_type": "markdown",
   "id": "5d89a67b-cb9f-45be-a29f-72baf3aad4f4",
   "metadata": {},
   "source": [
    "Normalize the $h$ variable to average indicate working hours, using that the level in 2010 is defined as:"
   ]
  },
  {
   "cell_type": "code",
   "execution_count": 15,
   "id": "79e6884d-3f78-460e-bf7e-ede0c2a7af60",
   "metadata": {},
   "outputs": [],
   "source": [
    "hAverage_2010 = sum(γ * hours)\n",
    "df['Avg. weekly working hours'] = df['h']/df['h'].xs(2010) * hAverage_2010"
   ]
  },
  {
   "cell_type": "markdown",
   "id": "2f2795f8-8f1f-46ce-96f6-ccd009f7630d",
   "metadata": {},
   "source": [
    "*Plot:*"
   ]
  },
  {
   "cell_type": "code",
   "execution_count": 16,
   "id": "9a9b5a68-0d14-4b17-8e49-5faff26d8143",
   "metadata": {},
   "outputs": [
    {
     "data": {
      "image/png": "[encoded data removed]",
      "text/plain": [
       "<Figure size 1400x800 with 4 Axes>"
      ]
     },
     "metadata": {},
     "output_type": "display_data"
    }
   ],
   "source": [
    "mult_graphs()\n",
    "fig, axes = plt.subplots(2, 2, figsize = (14,8));\n",
    "ite = ('Worker-to-retiree ratio','τ','Avg. weekly working hours','Savings rate (% GDP)');\n",
    "for j in range(len(ite)):\n",
    "    ax = plt.subplot(2,2,j+1);\n",
    "    seaborn.lineplot(data = df[ite[j]], linewidth = 3, ax = ax, legend = True);\n",
    "fig.savefig(os.path.join(d['figs'], 'CRRA_baseline_Argentina.pdf'), edgecolor='k')"
   ]
  },
  {
   "cell_type": "markdown",
   "id": "afd80c9d-d9c1-4c11-9303-789bf3975edf",
   "metadata": {},
   "source": [
    "### 3.2. Inequality in savings, working hours, and consumption:"
   ]
  },
  {
   "cell_type": "markdown",
   "id": "a6bb2ab9-0e21-4474-8c70-5ef4b7306688",
   "metadata": {},
   "source": [
    "Present variation in savings and labor income in baseline year:"
   ]
  },
  {
   "cell_type": "code",
   "execution_count": 17,
   "id": "10dc229b-446b-4cf9-8448-93e435f4a55a",
   "metadata": {},
   "outputs": [],
   "source": [
    "s_ineq = adjLabels(cm.db['Θsi'].div(cm.db['Θs'], axis = 0).xs(t0)) # savings\n",
    "h_ineq = adjLabels(cm.db['Θhi'].div(cm.db['Θh'], axis = 0).xs(t0)) # labor income"
   ]
  },
  {
   "cell_type": "markdown",
   "id": "827c4831-84b9-4ed2-b130-7d7e926088a9",
   "metadata": {},
   "source": [
    "Plot:"
   ]
  },
  {
   "cell_type": "code",
   "execution_count": 18,
   "id": "54dda5f3-9381-4555-8a7f-b473652d5dad",
   "metadata": {},
   "outputs": [
    {
     "data": {
      "image/png": "[encoded data removed]",
      "text/plain": [
       "<Figure size 1400x500 with 2 Axes>"
      ]
     },
     "metadata": {},
     "output_type": "display_data"
    }
   ],
   "source": [
    "mult_graphs()\n",
    "fig, axes = plt.subplots(1,2,figsize = (14,5));\n",
    "ax = plt.subplot(1,2,1)\n",
    "s_ineq.plot.bar(ax = ax);\n",
    "dfAx(ax, ylabel = None);\n",
    "ax.set_xlabel('');\n",
    "ax.set_title('$s_i / s$');\n",
    "ax = plt.subplot(1,2,2)\n",
    "h_ineq.plot.bar(ax = ax);\n",
    "dfAx(ax, ylabel = None);\n",
    "ax.set_xlabel('');\n",
    "ax.set_title('$h_i / h$');\n",
    "fig.savefig(os.path.join(d['figs'], 'CRRA_baseline_Ineq1_Argentina.pdf'), edgecolor='k')"
   ]
  },
  {
   "cell_type": "markdown",
   "id": "43326965-72cb-40e6-8cd6-7b2c6455e843",
   "metadata": {},
   "source": [
    "## 4. Unexpected, permanent change in $\\epsilon$ or $\\theta$"
   ]
  },
  {
   "cell_type": "markdown",
   "id": "d7c66a19-f4b5-4491-8666-cc7569127068",
   "metadata": {},
   "source": [
    "Store baseline solution before comparisons:"
   ]
  },
  {
   "cell_type": "code",
   "execution_count": 19,
   "id": "6b146fd4-ad02-4595-874a-7caa84957ec5",
   "metadata": {},
   "outputs": [],
   "source": [
    "initialSolution = cm.db.copy() # default values to start experiments from"
   ]
  },
  {
   "cell_type": "markdown",
   "id": "9408ae1c-598b-4b9b-a63e-a168bd823c32",
   "metadata": {},
   "source": [
    "The unexpected changes arriv in 2010. The easiest way to introduce this is to initialize a new model that runs from 2010-2100:"
   ]
  },
  {
   "cell_type": "code",
   "execution_count": 20,
   "id": "b084acc0-1813-4cfa-9c27-7ef9ac3a79ba",
   "metadata": {},
   "outputs": [],
   "source": [
    "dates_2010 = dates[dates>=2010]\n",
    "T_2010 = len(dates_2010)\n",
    "cm_2010 = CRRA.finiteHorizon(ni = ni, T = T_2010,\n",
    "                            **({k: initialSolution[k] for k in cm.defaultParameters} | {'ν': ν[(T-T_2010):],\n",
    "                                                                                        'A': A[(T-T_2010):]}))"
   ]
  },
  {
   "cell_type": "markdown",
   "id": "fd3f665c-14d1-48c8-b203-300b873f453d",
   "metadata": {},
   "source": [
    "Solve the model without calibration to get the baseline solution from earlier:"
   ]
  },
  {
   "cell_type": "code",
   "execution_count": 21,
   "id": "6f9115c1-5b24-47df-8af8-c281df69efed",
   "metadata": {},
   "outputs": [],
   "source": [
    "cm_2010.updateAndSolve(sGrid, s0 = initialSolution['s[t-1]'][t0]);\n",
    "cm_2010.reportAll()"
   ]
  },
  {
   "cell_type": "markdown",
   "id": "0271089c-2d76-43b2-8db0-9b3020857b69",
   "metadata": {},
   "source": [
    "Store this solution as the baseline with the shifted time index:"
   ]
  },
  {
   "cell_type": "code",
   "execution_count": 22,
   "id": "935b7e57-db4f-4a0b-8146-bc26a7cebe82",
   "metadata": {},
   "outputs": [],
   "source": [
    "baseline = cm_2010.db.copy()"
   ]
  },
  {
   "cell_type": "markdown",
   "id": "ef6906df-232e-4593-9198-c574eff21e64",
   "metadata": {},
   "source": [
    "## 4.1. Define a \"standard\" shock"
   ]
  },
  {
   "cell_type": "markdown",
   "id": "1d943eec-8488-4cfe-804d-77e5841bba6a",
   "metadata": {},
   "source": [
    "Whenever we do one of these shocks to a parameter, e.g. $\\epsilon$, we want to do some of the same things:\n",
    "1. Update parameter values in active model. \n",
    "2. Solve and store PEE solution.\n",
    "3. Solve and store equivalent variations.\n",
    "4. Reset taxes to some baseline value and solve for counterfactual equilibrium (what is the effect of parameter changes *given* fixed tax rates). Store this as well."
   ]
  },
  {
   "cell_type": "code",
   "execution_count": 31,
   "id": "d51e1b46-4c02-483b-b26d-98d5722fa997",
   "metadata": {},
   "outputs": [],
   "source": [
    "def parameterShock(model, sGrid, parameterDict, baseline):\n",
    "    # solve with new parameters\n",
    "    model.updateAndSolve(sGrid, **parameterDict, s0 = initialSolution['s[t-1]'][t0])\n",
    "    model.reportAll()\n",
    "    # compute EV and store solution in 'sol'\n",
    "    # EV = model.ns['EV'].unloadSol(model.solve_EV_Permanent(baseline, model.db))\n",
    "    # sol = (model.db | model.EV_solInPercentages(baseline, EV)).copy()    \n",
    "    sol = model.db.copy() # instead of \n",
    "    \n",
    "    # Reset tax rates to compute counterfactual solution:\n",
    "    [model.db.__setitem__(k, baseline[k].copy()) for k in ('τ', 'τ[t+1]')];\n",
    "    model.db.update(model.solve_EE(model.db['τ'], model.db['τ[t+1]'], initialSolution['s[t-1]'][t0], x0 = model.EE_x0_fromPEE(baseline)))\n",
    "    model.reportAll()\n",
    "    sol_cf = model.db.copy()\n",
    "    # Compute EV for this scenario as well\n",
    "    # EV = model.ns['EV'].unloadSol(model.solve_EV_Permanent(baseline, model.db))\n",
    "    # sol_cf.update(model.EV_solInPercentages(baseline, EV))\n",
    "    return sol, sol_cf"
   ]
  },
  {
   "cell_type": "markdown",
   "id": "a71b0f41-4f5a-49d2-92a5-13ffad5ff119",
   "metadata": {
    "tags": []
   },
   "source": [
    "## 4.2. Simulate effects of gradually changing $\\epsilon$ and $\\theta$."
   ]
  },
  {
   "cell_type": "markdown",
   "id": "709b4614-2ef8-4e75-9e3f-0ceb322c5851",
   "metadata": {},
   "source": [
    "Consider varying $\\epsilon$ between $0-\\epsilon_{max}$ for $\\theta\\in[0, 1]$. We define: $\\epsilon_{max} \\equiv \\theta \\underline{\\eta}\\underline{h}_{t-1}/h_{t-1}+1-\\theta$."
   ]
  },
  {
   "cell_type": "code",
   "execution_count": 32,
   "id": "7d6b2962-594e-4459-bf6a-a851a48f289d",
   "metadata": {},
   "outputs": [],
   "source": [
    "ϵMax   = initialSolution['θ'] * min(η) * initialSolution['hi'].xs(t0-1).xs(0) / initialSolution['h'].xs(t0-1) + 1-initialSolution['θ']\n",
    "ϵgrid  = pd.Index([round(x,2) for x in np.linspace(0,ϵMax,6)], name = '$\\epsilon$').insert(0, 1-baseline['θ']).sort_values()\n",
    "ϵgrid_ = ϵgrid.insert(0, baseline['epsilon']) \n",
    "θgrid  = pd.Index([round(x,2) for x in np.linspace(0,1,6)], name = '$\\\\theta$')\n",
    "θgrid_ = θgrid.insert(0, baseline['θ'])\n",
    "idx  = pd.MultiIndex.from_product([θgrid, ϵgrid])\n",
    "idx_ = pd.MultiIndex.from_product([θgrid_, ϵgrid_])\n",
    "sol = dict.fromkeys(idx_)\n",
    "sol_cf = dict.fromkeys(idx_)"
   ]
  },
  {
   "cell_type": "markdown",
   "id": "f74e843d-d8c2-40b5-a40a-23e06211de80",
   "metadata": {},
   "source": [
    "Start by identifying a baseline solution with the baseline value of $\\epsilon$ and different $\\theta$ values. Now, loop over $\\epsilon$ values and solve and compare to the relevant baseline:"
   ]
  },
  {
   "cell_type": "code",
   "execution_count": 33,
   "id": "f90c144f-69bc-44a4-916b-a3b6ef913195",
   "metadata": {},
   "outputs": [
    {
     "name": "stdout",
     "output_type": "stream",
     "text": [
      "CPU times: total: 7min 21s\n",
      "Wall time: 7min 22s\n"
     ]
    }
   ],
   "source": [
    "%%time\n",
    "for θ, ϵ in sol:\n",
    "    sol[(θ, ϵ)], sol_cf[(θ,ϵ)] = parameterShock(cm_2010, sGrid, {'epsilon':ϵ, 'θ': θ}, baseline)"
   ]
  },
  {
   "cell_type": "markdown",
   "id": "62c1d9e6-a7f2-4b1b-8acb-c723e009b772",
   "metadata": {},
   "source": [
    "## 4.3. What are the effects of going to a purely universal system."
   ]
  },
  {
   "cell_type": "markdown",
   "id": "ef6ddea0-463e-4a92-a7eb-aca2925c07aa",
   "metadata": {},
   "source": [
    "As a function of going from $\\epsilon_{base}$ to $\\epsilon_{max}$, what is the effect on: \n",
    "1. PEE taxes.\n",
    "2. Savings rate.\n",
    "3. Labor supply."
   ]
  },
  {
   "cell_type": "markdown",
   "id": "578b4991-af36-49fb-a229-3678ec5c9f17",
   "metadata": {},
   "source": [
    "Get tax rates:"
   ]
  },
  {
   "cell_type": "code",
   "execution_count": 34,
   "id": "b2e618d1-8c8b-4354-9786-7ad73c35a89f",
   "metadata": {},
   "outputs": [],
   "source": [
    "solU = sol[(baseline['θ'], max(ϵgrid))]\n",
    "τBase = round(baseline['τ'].xs(0)*100,1)\n",
    "τU    = round(solU['τ'].xs(0)*100,1)"
   ]
  },
  {
   "cell_type": "markdown",
   "id": "c150face-7b80-4bca-9c20-196f7917bceb",
   "metadata": {},
   "source": [
    "Get savings rates:"
   ]
  },
  {
   "cell_type": "code",
   "execution_count": 35,
   "id": "8b7ec9e1-7b7c-4e4f-bc8d-3efea1ccb7b0",
   "metadata": {},
   "outputs": [],
   "source": [
    "sBase = round((baseline['Θs']/((1-baseline['α'])*(baseline['Θh']**(1-baseline['α'])))).xs(0)*100,1)\n",
    "sU    = round((solU['Θs']/((1-solU['α'])*(solU['Θh']**(1-solU['α'])))).xs(0)*100,1)"
   ]
  },
  {
   "cell_type": "markdown",
   "id": "2345e156-dbbb-4999-8c9f-99553e6773ae",
   "metadata": {},
   "source": [
    "Average hours worked:"
   ]
  },
  {
   "cell_type": "code",
   "execution_count": 36,
   "id": "51fe87e8-9638-4d9b-baae-e180884a8d91",
   "metadata": {},
   "outputs": [],
   "source": [
    "hBase = round(sum(γ*hours), 2)\n",
    "hU    = round((solU['h'].xs(0) / baseline['h'].xs(0)) * hBase, 2)"
   ]
  },
  {
   "cell_type": "markdown",
   "id": "86670eee-dbc8-488c-b4f8-292b6a8a00a8",
   "metadata": {},
   "source": [
    "Print latex code for table:"
   ]
  },
  {
   "cell_type": "code",
   "execution_count": 37,
   "id": "987199ef-e7d9-4434-96b6-2dbdc1ff8779",
   "metadata": {},
   "outputs": [
    {
     "name": "stdout",
     "output_type": "stream",
     "text": [
      "\n",
      "\\begin{table}[!htb]\\centering\n",
      "\\caption{Pension system reform, year 2010.}\n",
      "\\label{table:comparison}\n",
      "\\begin{tabular}{p{3.8cm}p{0.3cm}cp{0.3cm}cp{0.3cm}c}\n",
      "\\\\[-1.8ex] \\hline\\hline \\\\[-1.8ex]\n",
      "\\textbf{Variable:} & & \\textbf{Tax rate} && \\textbf{Savings rate} && \\textbf{Avg. workweek (hours)} \\\\\n",
      "\\hline\\\\[-1ex]\n",
      "Initial (\\textit{B})  && \\multirow{2}{*}{14.2\\%} && \\multirow{2}{*}{18.4\\%} && \\multirow{2}{*}{42.65} \\\\[-0.5ex]\n",
      "\\small{$(\\epsilon$=$0.12$, $\\theta$=$0.72$)} \\\\[1ex]\n",
      "Universal (\\textit{U}) && \\multirow{2}{*}{36.4\\%} && \\multirow{2}{*}{11.2\\%} && \\multirow{2}{*}{39.16} \\\\[-0.5ex]\n",
      "\\small{$(\\epsilon$=$0.64$, $\\theta$=$0.72$)} &&&&&& \\\\[1ex]\n",
      "\\hline\\hline\\\\[-1.8ex]\n",
      "\\end{tabular}\n",
      "\\caption*{\\footnotesize{Politico-economic equilibrium for social security under the initial regime and after making pension benefits universal.}} \n",
      "\\end{table}\n",
      "\n"
     ]
    }
   ],
   "source": [
    "def table1(τBase, sBase, hBase, ϵBase, θBase, τNew, sNew, hNew, ϵNew, θNew, name):\n",
    "    return f\"\"\"\n",
    "\\\\begin{{table}}[!htb]\\centering\n",
    "\\caption{{Pension system reform, year 2010.}}\n",
    "\\label{{table:comparison}}\n",
    "\\\\begin{{tabular}}{{p{{3.8cm}}p{{0.3cm}}cp{{0.3cm}}cp{{0.3cm}}c}}\n",
    "\\\\\\\\[-1.8ex] \\hline\\hline \\\\\\\\[-1.8ex]\n",
    "\\\\textbf{{Variable:}} & & \\\\textbf{{Tax rate}} && \\\\textbf{{Savings rate}} && \\\\textbf{{Avg. workweek (hours)}} \\\\\\\\\n",
    "\\hline\\\\\\\\[-1ex]\n",
    "Initial (\\\\textit{{B}})  && \\multirow{{2}}{{*}}{{{τBase}\\%}} && \\multirow{{2}}{{*}}{{{sBase}\\%}} && \\multirow{{2}}{{*}}{{{hBase}}} \\\\\\\\[-0.5ex]\n",
    "\\small{{$(\\epsilon$=${round(ϵBase,2)}$, $\\\\theta$=${round(θBase,2)}$)}} \\\\\\\\[1ex]\n",
    "Universal (\\\\textit{{{name}}}) && \\multirow{{2}}{{*}}{{{τNew}\\%}} && \\multirow{{2}}{{*}}{{{sNew}\\%}} && \\multirow{{2}}{{*}}{{{hNew}}} \\\\\\\\[-0.5ex]\n",
    "\\small{{$(\\epsilon$=${round(ϵNew,2)}$, $\\\\theta$=${round(θNew,2)}$)}} &&&&&& \\\\\\\\[1ex]\n",
    "\\hline\\hline\\\\\\\\[-1.8ex]\n",
    "\\end{{tabular}}\n",
    "\\caption*{{\\\\footnotesize{{Politico-economic equilibrium for social security under the initial regime and after making pension benefits universal.}}}} \n",
    "\\end{{table}}\n",
    "\"\"\"\n",
    "print(table1(τBase, sBase, hBase, baseline['epsilon'], baseline['θ'], τU, sU, hU, max(ϵgrid), baseline['θ'], 'U'))"
   ]
  },
  {
   "cell_type": "markdown",
   "id": "d269a82c-3c50-4703-8050-0a5f2ac66dd9",
   "metadata": {},
   "source": [
    "## 4.4. What are the effects of going to universal system with \"basic coverage\":"
   ]
  },
  {
   "cell_type": "markdown",
   "id": "df4c221a-c56d-4f0d-8700-4d51cc5e0a4f",
   "metadata": {},
   "source": [
    "As a function of going from $\\epsilon_{base}$ to $1-\\theta$, what is the effect on: \n",
    "1. PEE taxes.\n",
    "2. Savings rate.\n",
    "3. Labor supply."
   ]
  },
  {
   "cell_type": "markdown",
   "id": "26b421b1-4faf-4471-a967-477ac511dc87",
   "metadata": {},
   "source": [
    "Get tax rates:"
   ]
  },
  {
   "cell_type": "code",
   "execution_count": 38,
   "id": "454e31ef-33a5-493c-a2a4-7965f1652345",
   "metadata": {},
   "outputs": [],
   "source": [
    "solBasicCoverage = sol[(baseline['θ'], 1-baseline['θ'])]\n",
    "τBasicCoverage = round(solBasicCoverage['τ'].xs(0)*100,1)"
   ]
  },
  {
   "cell_type": "markdown",
   "id": "7134b102-6a30-47ee-a240-8c5e3958a720",
   "metadata": {},
   "source": [
    "Get savings rates:"
   ]
  },
  {
   "cell_type": "code",
   "execution_count": 39,
   "id": "f8b8bfa6-dc4d-4f9e-a4f6-818a0da8ccf4",
   "metadata": {},
   "outputs": [],
   "source": [
    "sBasicCoverage  = round((solBasicCoverage['Θs']/((1-solBasicCoverage['α'])*(solBasicCoverage['Θh']**(1-solBasicCoverage['α'])))).xs(0)*100,1)"
   ]
  },
  {
   "cell_type": "markdown",
   "id": "8bc8b9c9-7f6c-4ba9-ad42-83714e11fdec",
   "metadata": {},
   "source": [
    "Average hours worked:"
   ]
  },
  {
   "cell_type": "code",
   "execution_count": 40,
   "id": "8283f8b2-380e-4b13-afd2-79e1e5fb3e88",
   "metadata": {},
   "outputs": [],
   "source": [
    "hBasicCoverage   = round((solBasicCoverage['h'].xs(0) / baseline['h'].xs(0)) * hBase, 2)"
   ]
  },
  {
   "cell_type": "markdown",
   "id": "cbaa69d5-c817-4af5-9cfc-2d60a5983897",
   "metadata": {},
   "source": [
    "Print latex code for table:"
   ]
  },
  {
   "cell_type": "code",
   "execution_count": 41,
   "id": "36dcbe99-0fe3-4865-b865-824075600a28",
   "metadata": {},
   "outputs": [
    {
     "name": "stdout",
     "output_type": "stream",
     "text": [
      "\n",
      "\\begin{table}[!htb]\\centering\n",
      "\\caption{Pension system reform, year 2010.}\n",
      "\\label{table:comparison}\n",
      "\\begin{tabular}{p{3.8cm}p{0.3cm}cp{0.3cm}cp{0.3cm}c}\n",
      "\\\\[-1.8ex] \\hline\\hline \\\\[-1.8ex]\n",
      "\\textbf{Variable:} & & \\textbf{Tax rate} && \\textbf{Savings rate} && \\textbf{Avg. workweek (hours)} \\\\\n",
      "\\hline\\\\[-1ex]\n",
      "Initial (\\textit{B})  && \\multirow{2}{*}{14.2\\%} && \\multirow{2}{*}{18.4\\%} && \\multirow{2}{*}{42.65} \\\\[-0.5ex]\n",
      "\\small{$(\\epsilon$=$0.12$, $\\theta$=$0.72$)} \\\\[1ex]\n",
      "Universal (\\textit{U}) && \\multirow{2}{*}{28.3\\%} && \\multirow{2}{*}{13.2\\%} && \\multirow{2}{*}{40.58} \\\\[-0.5ex]\n",
      "\\small{$(\\epsilon$=$0.28$, $\\theta$=$0.72$)} &&&&&& \\\\[1ex]\n",
      "\\hline\\hline\\\\[-1.8ex]\n",
      "\\end{tabular}\n",
      "\\caption*{\\footnotesize{Politico-economic equilibrium for social security under the initial regime and after making pension benefits universal.}} \n",
      "\\end{table}\n",
      "\n"
     ]
    }
   ],
   "source": [
    "print(table1(τBase, sBase, hBase, baseline['epsilon'], baseline['θ'], τBasicCoverage, sBasicCoverage, hBasicCoverage, 1-baseline['θ'], baseline['θ'], 'U'))"
   ]
  },
  {
   "cell_type": "markdown",
   "id": "41c79bb9-b470-4a2a-b619-3dad10761d7e",
   "metadata": {},
   "source": [
    "## 4.5. Visualize PEE, savings, and labor rates"
   ]
  },
  {
   "cell_type": "code",
   "execution_count": 42,
   "id": "62b8bf12-f59a-4244-8bba-2d0873f37582",
   "metadata": {},
   "outputs": [],
   "source": [
    "def addBaselineMarker(ax, baseline, sol, offsetText_x, offsetText_y, ms = 10, adhocAdj = 0, name = 'Baseline', fontsize = None, arrWidth = 1.5, arrHeadWidth = 7.5, arrHeadLen = 7.5):\n",
    "    baseVal = sol.xs((baseline['θ'], baseline['epsilon']))\n",
    "    ax.plot(baseline['epsilon'], baseVal, 'o', color = 'k', ms=ms)\n",
    "    plt.text(baseline['epsilon']+offsetText_x, baseVal+offsetText_y, f'{name}', fontsize = fontsize);\n",
    "    adjustArrow = offsetText_y+adhocAdj\n",
    "    plt.annotate(\"\", xy = (baseline['epsilon']+offsetText_x/4, baseVal+offsetText_y/4), xytext = (baseline['epsilon']+offsetText_x, baseVal+adjustArrow), arrowprops = dict(width = arrWidth, color ='k', headwidth = arrHeadWidth, headlength = arrHeadLen));"
   ]
  },
  {
   "cell_type": "markdown",
   "id": "5657e63f-f6eb-48fd-af6b-5dc6ec2f395c",
   "metadata": {},
   "source": [
    "#### PEE rates"
   ]
  },
  {
   "cell_type": "code",
   "execution_count": 43,
   "id": "70264a54-1fa6-4015-a64e-82d85b6bf9b6",
   "metadata": {},
   "outputs": [],
   "source": [
    "τ2010 = pd.Series([sol[(θ, ϵ)]['τ'].xs(0) for θ,ϵ in idx_], index = idx_)\n",
    "df_τ2010  = τ2010.unstack(θgrid.name)[θgrid]"
   ]
  },
  {
   "cell_type": "markdown",
   "id": "ca7db883-c1a4-4db4-b814-988f04b11761",
   "metadata": {},
   "source": [
    "*Plot a \"fan\" plot*"
   ]
  },
  {
   "cell_type": "code",
   "execution_count": 44,
   "id": "bc48d694-1e7d-4076-b8e1-40064adb4f6d",
   "metadata": {},
   "outputs": [],
   "source": [
    "%%capture\n",
    "one_graph()\n",
    "# Specify color map:\n",
    "palette, mapAlpha = 'ch:start=.1,rot=-.5', .75\n",
    "colormap = add_alpha_to_colormap(seaborn.color_palette(palette, as_cmap=True), alpha = mapAlpha)\n",
    "\n",
    "# Create plot:\n",
    "fig, ax = plt.subplots(1, 1, figsize = (14, 8));\n",
    "seaborn.lineplot(data = df_τ2010, linewidth = .25, dashes=False, palette = palette, ax = ax, alpha = .75, legend = False);\n",
    "for i in range(df_τ2010.shape[1]-1):\n",
    "    ax.fill_between(df_τ2010.index, df_τ2010.iloc[:,i], df_τ2010.iloc[:,i+1], alpha = mapAlpha, color = ax.get_lines()[i].get_color())\n",
    "dfAx(ax, .25, ylabel = '$\\\\tau_{2010}$');\n",
    "\n",
    "# Add baseline marker:\n",
    "addBaselineMarker(ax, baseline, τ2010, 0.01, -0.03, adhocAdj = 0.01)\n",
    "# Add post-reform marker:\n",
    "addBaselineMarker(ax, solBasicCoverage, τ2010, 0.01, -0.03, adhocAdj = 0.01, name = 'Basic coverage')\n",
    "\n",
    "sm = plt.cm.ScalarMappable(cmap = colormap, norm = plt.Normalize(min(θgrid), max(θgrid)))\n",
    "cbar = ax.figure.colorbar(sm, ax = ax, location = 'top', shrink = .75);\n",
    "cbar.set_label('$\\\\theta$');\n",
    "fig.tight_layout()\n",
    "fig.savefig(os.path.join(d['figs'], 'CRRA_PEE_functionOfParameters_Argentina.pdf'), edgecolor='k')"
   ]
  },
  {
   "cell_type": "markdown",
   "id": "3d586cd6-7062-4f83-91b4-829b3e6b5c48",
   "metadata": {
    "tags": []
   },
   "source": [
    "#### Savings rates"
   ]
  },
  {
   "cell_type": "code",
   "execution_count": 46,
   "id": "e562ece0-5338-4b3e-a67d-975582b67598",
   "metadata": {},
   "outputs": [],
   "source": [
    "s2010 = 100*pd.Series([cm.savingsRate(sol[(θ,ϵ)]['Θs'], sol[(θ,ϵ)]['Θh']).xs(0) for θ,ϵ in idx_], index = idx_)\n",
    "df_s2010 = s2010.unstack(θgrid.name)[θgrid]"
   ]
  },
  {
   "cell_type": "markdown",
   "id": "8a3636f3-1824-4d22-a5e8-4cbb4e3c6ad9",
   "metadata": {},
   "source": [
    "*Plot:*"
   ]
  },
  {
   "cell_type": "code",
   "execution_count": 47,
   "id": "8398f520-1cc2-4e07-bd85-150d63e5d703",
   "metadata": {},
   "outputs": [],
   "source": [
    "%%capture\n",
    "# Create plot:\n",
    "fig, ax = plt.subplots(1, 1, figsize = (14, 8));\n",
    "seaborn.lineplot(data = df_s2010, linewidth = .25, dashes=False, palette = palette, ax = ax, alpha = .75, legend = False);\n",
    "for i in range(df_s2010.shape[1]-1):\n",
    "    ax.fill_between(df_s2010.index, df_s2010.iloc[:,i], df_s2010.iloc[:,i+1], alpha = mapAlpha, color = ax.get_lines()[i].get_color())\n",
    "ax.set_ylabel('$s_{2010}$ (% of GDP)')\n",
    "\n",
    "# Add baseline marker:\n",
    "addBaselineMarker(ax, baseline, s2010, 0.01, .8, adhocAdj = -0.05)\n",
    "# Add post-reform marker:\n",
    "addBaselineMarker(ax, solBasicCoverage, s2010, 0.01, .7, adhocAdj = -0.05, name = 'Basic coverage')\n",
    "\n",
    "sm = plt.cm.ScalarMappable(cmap = colormap, norm = plt.Normalize(min(θgrid), max(θgrid)))\n",
    "cbar = ax.figure.colorbar(sm, ax = ax, location = 'top', shrink = .75);\n",
    "cbar.set_label('$\\\\theta$');\n",
    "fig.tight_layout()\n",
    "fig.savefig(os.path.join(d['figs'], 'CRRA_s_functionOfParameters_Argentina.pdf'), edgecolor='k')"
   ]
  },
  {
   "cell_type": "markdown",
   "id": "ad161038-475a-4660-929c-d8d9fd1a35bb",
   "metadata": {},
   "source": [
    "Split the effect into two components: The economic equilibrium (EE) and the PEE tax rates. The counterfactual solves the economic equilibrium *given* baseline tax rates (i.e. ignores the PEE channel):"
   ]
  },
  {
   "cell_type": "code",
   "execution_count": 48,
   "id": "6d00c363-790a-4c56-b63e-5cf54925c322",
   "metadata": {},
   "outputs": [],
   "source": [
    "s2010_EE = 100 * pd.Series([cm.savingsRate(sol_cf[(θ, ϵ)]['Θs'], sol_cf[(θ, ϵ)]['Θh']).xs(0) for θ, ϵ in idx_], index = idx_)\n",
    "Δs_EE = s2010_EE-s2010.xs((baseline['θ'], baseline['epsilon']))\n",
    "df_s_EE = Δs_EE.unstack(θgrid.name)[θgrid]"
   ]
  },
  {
   "cell_type": "markdown",
   "id": "b3bee4e4-d4b1-4250-a1d5-fd4ce17d3a13",
   "metadata": {},
   "source": [
    "We define the PEE part residually, comparing the baseline (with both effects)"
   ]
  },
  {
   "cell_type": "code",
   "execution_count": 49,
   "id": "618293fe-9c2c-456d-87b4-27d5326d27ef",
   "metadata": {},
   "outputs": [],
   "source": [
    "Δs_PEE = s2010-s2010_EE\n",
    "df_s_PEE = Δs_PEE.unstack(θgrid.name)[θgrid]"
   ]
  },
  {
   "cell_type": "markdown",
   "id": "22490100-0d76-483d-b6ea-7f5af3596ade",
   "metadata": {},
   "source": [
    "Plot this:"
   ]
  },
  {
   "cell_type": "code",
   "execution_count": 50,
   "id": "b7bfb88d-98cf-4270-9651-15a5e9d70066",
   "metadata": {},
   "outputs": [],
   "source": [
    "%%capture\n",
    "mult_graphs()\n",
    "pltKwargs = {'ms': 5, 'fontsize': 13, 'arrWidth': 1.5, 'arrHeadWidth': 5, 'arrHeadLen': 5}\n",
    "fig, axes = plt.subplots(1,2, figsize = (14,6));\n",
    "\n",
    "# EE effect:\n",
    "ax = plt.subplot(1,2,1)\n",
    "seaborn.lineplot(data = df_s_EE, linewidth = .25, dashes=False, palette = palette, ax = ax, alpha = .75, legend = False);\n",
    "for i in range(df_s_EE.shape[1]-1):\n",
    "    ax.fill_between(df_s_EE.index, df_s_EE.iloc[:,i], df_s_EE.iloc[:,i+1], alpha = mapAlpha, color = ax.get_lines()[i].get_color())\n",
    "dfAx(ax, .25, ylabel = '$\\Delta s_{2010}$ (% GDP)');\n",
    "_min = Δs_EE.xs(baseline['epsilon'], level = ϵgrid.name).min()\n",
    "addBaselineMarker(ax, baseline, Δs_EE, 0.01, _min-0.1, adhocAdj = .05, **pltKwargs)\n",
    "addBaselineMarker(ax, solBasicCoverage, Δs_EE, 0.01, _min-0.1, adhocAdj = .05, name = 'Basic coverage', **pltKwargs)\n",
    "ax.set_title('Economic Eq. Effect', fontsize = 16);\n",
    "\n",
    "# PEE effect:\n",
    "ax = plt.subplot(1,2,2)\n",
    "seaborn.lineplot(data = df_s_PEE, linewidth = .25, dashes=False, palette = palette, ax = ax, alpha = .75, legend = False);\n",
    "for i in range(df_s_PEE.shape[1]-1):\n",
    "    ax.fill_between(df_s_PEE.index, df_s_PEE.iloc[:,i], df_s_PEE.iloc[:,i+1], alpha = mapAlpha, color = ax.get_lines()[i].get_color())\n",
    "dfAx(ax, .25, ylabel = '$\\Delta s_{2010}$');\n",
    "_max = Δs_PEE.xs(baseline['epsilon'], level = ϵgrid.name).max()\n",
    "addBaselineMarker(ax, baseline, Δs_PEE, 0.01, _max+0.25, adhocAdj = -0.1, **pltKwargs)\n",
    "addBaselineMarker(ax, solBasicCoverage, Δs_PEE, 0.01, _max+0.25, adhocAdj = -0.1, name = 'Basic coverage', **pltKwargs)\n",
    "ax.set_title('Policy Effect (% GDP)', fontsize = 16);\n",
    "\n",
    "plt.subplots_adjust(top = .8);\n",
    "sm = plt.cm.ScalarMappable(cmap = colormap, norm = plt.Normalize(min(θgrid), max(θgrid)))\n",
    "cb_ax = fig.add_axes([0.25, 0.86, 0.5, 0.03])\n",
    "cbar = fig.colorbar(sm, cax=cb_ax, location = 'top', shrink = .75);\n",
    "cbar.set_label('$\\\\theta$');\n",
    "fig.savefig(os.path.join(d['figs'], 'CRRA_s_deComp_functionOfParameters_Argentina.pdf'), edgecolor='k')"
   ]
  },
  {
   "cell_type": "markdown",
   "id": "551ae0c8-1023-4642-89ea-8d939696353f",
   "metadata": {
    "tags": []
   },
   "source": [
    "#### Labor market participation"
   ]
  },
  {
   "cell_type": "code",
   "execution_count": 51,
   "id": "9314242c-5e35-44cd-a0be-b758e0b7093b",
   "metadata": {},
   "outputs": [],
   "source": [
    "h2010 = pd.Series([sol[(θ,ϵ)]['h'].xs(0) for θ, ϵ in idx_], index = idx_) * hBase / baseline['h'].xs(0)\n",
    "df_h2010 = h2010.unstack(θgrid.name)[θgrid]"
   ]
  },
  {
   "cell_type": "markdown",
   "id": "e08b2406-5c96-41ee-b8ff-6acde1026eae",
   "metadata": {},
   "source": [
    "*Plot:*"
   ]
  },
  {
   "cell_type": "code",
   "execution_count": 52,
   "id": "86c55ee9-73a9-4484-9ee1-61bc177654fd",
   "metadata": {},
   "outputs": [],
   "source": [
    "%%capture\n",
    "# Create plot:\n",
    "fig, ax = plt.subplots(1, 1, figsize = (14, 8));\n",
    "seaborn.lineplot(data = df_h2010, linewidth = .25, dashes=False, palette = palette, ax = ax, alpha = .75, legend = False);\n",
    "for i in range(df_h2010.shape[1]-1):\n",
    "    ax.fill_between(df_h2010.index, df_h2010.iloc[:,i], df_h2010.iloc[:,i+1], alpha = mapAlpha, color = ax.get_lines()[i].get_color())\n",
    "ax.set_ylabel('Avg. workweek (hours)')\n",
    "\n",
    "# Add baseline marker:\n",
    "addBaselineMarker(ax, baseline, h2010, 0.01, .6, adhocAdj = -0.05)\n",
    "# Add post-reform marker:\n",
    "addBaselineMarker(ax, solBasicCoverage, h2010, 0.01, .6, adhocAdj = -0.05, name = 'Basic coverage')\n",
    "\n",
    "sm = plt.cm.ScalarMappable(cmap = colormap, norm = plt.Normalize(min(θgrid), max(θgrid)))\n",
    "cbar = ax.figure.colorbar(sm, ax = ax, location = 'top', shrink = .75);\n",
    "cbar.set_label('$\\\\theta$');\n",
    "fig.tight_layout()\n",
    "fig.savefig(os.path.join(d['figs'], 'CRRA_h_functionOfParameters_Argentina.pdf'), edgecolor='k')"
   ]
  },
  {
   "cell_type": "markdown",
   "id": "c03836d1-d936-4b50-be63-dc596ea023b5",
   "metadata": {},
   "source": [
    "Split the effect into two components: The economic equilibrium (EE) and the PEE tax rates. The counterfactual solves the economic equilibrium *given* baseline tax rates (i.e. ignores the PEE channel):"
   ]
  },
  {
   "cell_type": "code",
   "execution_count": 53,
   "id": "d73e0175-2f1f-4e9f-a4d3-7b0264ec7cba",
   "metadata": {},
   "outputs": [],
   "source": [
    "h2010_EE = pd.Series([sol_cf[(θ, ϵ)]['h'].xs(0) for θ, ϵ in idx_], index = idx_) * hBase / baseline['h'].xs(0)\n",
    "Δh_EE = h2010_EE-h2010.xs((baseline['θ'], baseline['epsilon']))\n",
    "df_h_EE = Δh_EE.unstack(θgrid.name)[θgrid]"
   ]
  },
  {
   "cell_type": "markdown",
   "id": "8fd5aba4-abbb-4b53-866c-3dec525a9869",
   "metadata": {},
   "source": [
    "We define the PEE part residually, comparing the baseline (with both effects)"
   ]
  },
  {
   "cell_type": "code",
   "execution_count": 54,
   "id": "5d6c1540-88bd-4669-8bf4-f51ebe61b401",
   "metadata": {},
   "outputs": [],
   "source": [
    "Δh_PEE = h2010-h2010_EE\n",
    "df_h_PEE = Δh_PEE.unstack(θgrid.name)[θgrid]"
   ]
  },
  {
   "cell_type": "markdown",
   "id": "38dcf295-0665-4275-ae46-4da711061baa",
   "metadata": {},
   "source": [
    "Plot this:"
   ]
  },
  {
   "cell_type": "code",
   "execution_count": 55,
   "id": "99f7bf8e-e9b7-4170-8bee-7692d6d7ce9a",
   "metadata": {},
   "outputs": [],
   "source": [
    "%%capture\n",
    "mult_graphs()\n",
    "pltKwargs = {'ms': 5, 'fontsize': 13, 'arrWidth': 1.5, 'arrHeadWidth': 5, 'arrHeadLen': 5}\n",
    "fig, axes = plt.subplots(1,2, figsize = (14,6));\n",
    "\n",
    "# EE effect:\n",
    "ax = plt.subplot(1,2,1)\n",
    "seaborn.lineplot(data = df_h_EE, linewidth = .25, dashes=False, palette = palette, ax = ax, alpha = .75, legend = False);\n",
    "for i in range(df_h_EE.shape[1]-1):\n",
    "    ax.fill_between(df_h_EE.index, df_h_EE.iloc[:,i], df_h_EE.iloc[:,i+1], alpha = mapAlpha, color = ax.get_lines()[i].get_color())\n",
    "dfAx(ax, .25, ylabel = '$\\Delta h_{2010}$ (hours)');\n",
    "_max = Δh_EE.xs(baseline['epsilon'], level = ϵgrid.name).max()\n",
    "addBaselineMarker(ax, baseline, Δh_EE, 0.01, _max, adhocAdj = -.01, **pltKwargs)\n",
    "addBaselineMarker(ax, solBasicCoverage, Δh_EE, 0.01, _max, adhocAdj = -.01, name = 'Basic coverage', **pltKwargs)\n",
    "ax.set_title('Economic Eq. Effect', fontsize = 16);\n",
    "\n",
    "# PEE effect:\n",
    "ax = plt.subplot(1,2,2)\n",
    "seaborn.lineplot(data = df_h_PEE, linewidth = .25, dashes=False, palette = palette, ax = ax, alpha = .75, legend = False);\n",
    "for i in range(df_h_PEE.shape[1]-1):\n",
    "    ax.fill_between(df_h_PEE.index, df_h_PEE.iloc[:,i], df_h_PEE.iloc[:,i+1], alpha = mapAlpha, color = ax.get_lines()[i].get_color())\n",
    "dfAx(ax, .25, ylabel = '$\\Delta h_{2010}$ (hours)');\n",
    "_max = Δh_PEE.xs(baseline['epsilon'], level = ϵgrid.name).max()\n",
    "addBaselineMarker(ax, baseline, Δh_PEE, 0.01, _max+0.05, adhocAdj = -.01, **pltKwargs)\n",
    "addBaselineMarker(ax, solBasicCoverage, Δh_PEE, 0.01, _max+0.05, adhocAdj = -.01, name = 'Basic coverage', **pltKwargs)\n",
    "ax.set_title('Policy Effect', fontsize = 16);\n",
    "\n",
    "plt.subplots_adjust(top = .8);\n",
    "sm = plt.cm.ScalarMappable(cmap = colormap, norm = plt.Normalize(min(θgrid), max(θgrid)))\n",
    "cb_ax = fig.add_axes([0.25, 0.86, 0.5, 0.03])\n",
    "cbar = fig.colorbar(sm, cax=cb_ax, location = 'top', shrink = .75);\n",
    "cbar.set_label('$\\\\theta$');\n",
    "fig.savefig(os.path.join(d['figs'], 'CRRA_h_deComp_functionOfParameters_Argentina.pdf'), edgecolor='k')"
   ]
  },
  {
   "cell_type": "markdown",
   "id": "a5129b78-6d79-4864-af1c-fca4669d2b1a",
   "metadata": {},
   "source": [
    "### EV"
   ]
  },
  {
   "cell_type": "markdown",
   "id": "2923c9db-2514-418c-8a74-6b0d7b70ade9",
   "metadata": {},
   "source": [
    "Add the EV measure for the political agent to indicate the aggregate welfare changes:"
   ]
  },
  {
   "cell_type": "code",
   "execution_count": 46,
   "id": "4f55bd0e-f215-4b78-b433-0939468bd011",
   "metadata": {},
   "outputs": [],
   "source": [
    "EV2010 = 100 * pd.Series([sol[(θ,ϵ)]['transfer_Pol'].xs(0) for θ,ϵ in idx_], index = idx_)\n",
    "df_EV2010 = EV2010.unstack(θgrid.name)[θgrid]"
   ]
  },
  {
   "cell_type": "markdown",
   "id": "3926cbe7-f664-477f-b090-cad3758e8ff5",
   "metadata": {},
   "source": [
    "*Plot:*"
   ]
  },
  {
   "cell_type": "code",
   "execution_count": 47,
   "id": "1c548181-f704-459f-be71-ede0f9eb8094",
   "metadata": {},
   "outputs": [],
   "source": [
    "%%capture\n",
    "fig, ax = plt.subplots(1, 1, figsize = (14, 8));\n",
    "seaborn.lineplot(data = df_EV2010, linewidth = .25, dashes=False, palette = palette, ax = ax, alpha = .75, legend = False);\n",
    "for i in range(df_EV2010.shape[1]-1):\n",
    "    ax.fill_between(df_EV2010.index, df_EV2010.iloc[:,i], df_EV2010.iloc[:,i+1], alpha = mapAlpha, color = ax.get_lines()[i].get_color())\n",
    "dfAx(ax, .25, ylabel = 'EV (% of consumption)');\n",
    "\n",
    "# Add baseline marker:\n",
    "addBaselineMarker(ax, baseline, EV2010, 0.01, .3)\n",
    "# Add post-reform marker:\n",
    "addBaselineMarker(ax, solBasicCoverage, EV2010, 0.01, .3, name = 'Basic coverage')\n",
    "\n",
    "sm = plt.cm.ScalarMappable(cmap = colormap, norm = plt.Normalize(min(θgrid), max(θgrid)))\n",
    "cbar = ax.figure.colorbar(sm, ax = ax, location = 'top', shrink = .75);\n",
    "cbar.set_label('$\\\\theta$');\n",
    "fig.tight_layout()\n",
    "fig.savefig(os.path.join(d['figs'], 'EVpol_functionOfParameters_Argentina.pdf'), edgecolor='k')"
   ]
  },
  {
   "cell_type": "markdown",
   "id": "c661bb52-fef8-47d1-be96-d2e79df63924",
   "metadata": {},
   "source": [
    "Split the effect into two components: The economic equilibrium (EE) and the PEE tax rates. The counterfactual solves the economic equilibrium *given* baseline tax rates (i.e. ignores the PEE channel):"
   ]
  },
  {
   "cell_type": "code",
   "execution_count": 48,
   "id": "07e91195-56d8-4c1e-b352-de6c7ee9e647",
   "metadata": {},
   "outputs": [],
   "source": [
    "EV2010_EE = 100 * pd.Series([sol_cf[(θ, ϵ)]['transfer_Pol'].xs(0) for θ, ϵ in idx_], index = idx_)\n",
    "ΔEV_EE = EV2010_EE-EV2010.xs((baseline['θ'], baseline['epsilon']))\n",
    "df_EV_EE = ΔEV_EE.unstack(θgrid.name)[θgrid]"
   ]
  },
  {
   "cell_type": "markdown",
   "id": "8035e277-412e-4e61-89ee-085c2d3a86f0",
   "metadata": {},
   "source": [
    "We define the PEE part residually, comparing the baseline (with both effects)"
   ]
  },
  {
   "cell_type": "code",
   "execution_count": 49,
   "id": "e5da523f-a001-482d-a7d2-0a8f073d6037",
   "metadata": {},
   "outputs": [],
   "source": [
    "ΔEV_PEE = EV2010-EV2010_EE\n",
    "df_EV_PEE = ΔEV_PEE.unstack(θgrid.name)[θgrid]"
   ]
  },
  {
   "cell_type": "markdown",
   "id": "9bb55d77-0979-41b2-bf77-e57187be1ab5",
   "metadata": {},
   "source": [
    "Plot this:"
   ]
  },
  {
   "cell_type": "code",
   "execution_count": 50,
   "id": "7db1a0c0-2bb8-4074-9408-291cc9c674f8",
   "metadata": {},
   "outputs": [],
   "source": [
    "%%capture\n",
    "mult_graphs()\n",
    "pltKwargs = {'ms': 5, 'fontsize': 13, 'arrWidth': 1.5, 'arrHeadWidth': 5, 'arrHeadLen': 5}\n",
    "fig, axes = plt.subplots(1,2, figsize = (14,6));\n",
    "\n",
    "# EE effect:\n",
    "ax = plt.subplot(1,2,1)\n",
    "seaborn.lineplot(data = df_EV_EE, linewidth = .25, dashes=False, palette = palette, ax = ax, alpha = .75, legend = False);\n",
    "for i in range(df_EV_EE.shape[1]-1):\n",
    "    ax.fill_between(df_EV_EE.index, df_EV_EE.iloc[:,i], df_EV_EE.iloc[:,i+1], alpha = mapAlpha, color = ax.get_lines()[i].get_color())\n",
    "dfAx(ax, .25, ylabel = 'EV (% of consumption)');\n",
    "_max = ΔEV_EE.xs(baseline['epsilon'], level = ϵgrid.name).max()\n",
    "addBaselineMarker(ax, baseline, ΔEV_EE, 0.01, _max, adhocAdj = -.01, **pltKwargs)\n",
    "addBaselineMarker(ax, solBasicCoverage, ΔEV_EE, 0.01, _max, adhocAdj = -.01, name = 'Basic coverage', **pltKwargs)\n",
    "ax.set_title('Economic Eq. Effect', fontsize = 16);\n",
    "\n",
    "# PEE effect:\n",
    "ax = plt.subplot(1,2,2)\n",
    "seaborn.lineplot(data = df_EV_PEE, linewidth = .25, dashes=False, palette = palette, ax = ax, alpha = .75, legend = False);\n",
    "for i in range(df_EV_PEE.shape[1]-1):\n",
    "    ax.fill_between(df_EV_PEE.index, df_EV_PEE.iloc[:,i], df_EV_PEE.iloc[:,i+1], alpha = mapAlpha, color = ax.get_lines()[i].get_color())\n",
    "dfAx(ax, .25, ylabel = 'EV (% of consumption)');\n",
    "_max = ΔEV_PEE.xs(baseline['epsilon'], level = ϵgrid.name).max()\n",
    "addBaselineMarker(ax, baseline, ΔEV_PEE, 0.01, _max+0.05, adhocAdj = -.01, **pltKwargs)\n",
    "addBaselineMarker(ax, solBasicCoverage, ΔEV_PEE, 0.01, _max+0.05, adhocAdj = -.01, name = 'Basic coverage', **pltKwargs)\n",
    "ax.set_title('Policy Effect', fontsize = 16);\n",
    "\n",
    "plt.subplots_adjust(top = .8);\n",
    "sm = plt.cm.ScalarMappable(cmap = colormap, norm = plt.Normalize(min(θgrid), max(θgrid)))\n",
    "cb_ax = fig.add_axes([0.25, 0.86, 0.5, 0.03])\n",
    "cbar = fig.colorbar(sm, cax=cb_ax, location = 'top', shrink = .75);\n",
    "cbar.set_label('$\\\\theta$');\n",
    "fig.savefig(os.path.join(d['figs'], 'EV_deComp_functionOfParameters_Argentina.pdf'), edgecolor='k')"
   ]
  },
  {
   "cell_type": "markdown",
   "id": "5123c3a3-06fb-4bdf-ad5b-b59de10e870c",
   "metadata": {},
   "source": [
    "### Plot all 4 in one:"
   ]
  },
  {
   "cell_type": "code",
   "execution_count": 51,
   "id": "1718df59-5585-48c3-87a9-fdd1fa48c930",
   "metadata": {},
   "outputs": [],
   "source": [
    "%%capture\n",
    "mult_graphs()\n",
    "fig, axes = plt.subplots(2,2, figsize = (14,8));\n",
    "# PEE RATES\n",
    "ax = plt.subplot(2,2,1); \n",
    "seaborn.lineplot(data = df_τ2010, linewidth = .25, dashes=False, palette = palette, ax = ax, alpha = .75, legend = False);\n",
    "for i in range(df_τ2010.shape[1]-1):\n",
    "    ax.fill_between(df_τ2010.index, df_τ2010.iloc[:,i], df_τ2010.iloc[:,i+1], alpha = mapAlpha, color = ax.get_lines()[i].get_color())\n",
    "dfAx(ax, .25, ylabel = '$\\\\tau_{2010}$');\n",
    "\n",
    "pltKwargs = {'ms': 5, 'fontsize': 13, 'arrWidth': 1.5, 'arrHeadWidth': 5, 'arrHeadLen': 5}\n",
    "# Add baseline marker:\n",
    "addBaselineMarker(ax, baseline, τ2010, 0.01, -0.035, adhocAdj = 0.01, **pltKwargs)\n",
    "# Add post-reform marker:\n",
    "addBaselineMarker(ax, solBasicCoverage, τ2010, 0.01, -0.035, adhocAdj = 0.01, name = 'Basic coverage', **pltKwargs)\n",
    "\n",
    "\n",
    "# Savings rates\n",
    "ax = plt.subplot(2,2,2); \n",
    "seaborn.lineplot(data = df_s2010, linewidth = .25, dashes=False, palette = palette, ax = ax, alpha = .75, legend = False);\n",
    "for i in range(df_s2010.shape[1]-1):\n",
    "    ax.fill_between(df_s2010.index, df_s2010.iloc[:,i], df_s2010.iloc[:,i+1], alpha = mapAlpha, color = ax.get_lines()[i].get_color())\n",
    "ax.set_ylabel('$s_{2010}$ (% of GDP)')\n",
    "\n",
    "# Add baseline marker:\n",
    "addBaselineMarker(ax, baseline, s2010, 0.01, .8, adhocAdj = -0.05, **pltKwargs)\n",
    "# Add post-reform marker:\n",
    "addBaselineMarker(ax, solBasicCoverage, s2010, 0.01, .7, adhocAdj = -0.05, name = 'Basic coverage', **pltKwargs)\n",
    "\n",
    "# Labor supply\n",
    "ax = plt.subplot(2,2,3); \n",
    "seaborn.lineplot(data = df_h2010, linewidth = .25, dashes=False, palette = palette, ax = ax, alpha = .75, legend = False);\n",
    "for i in range(df_h2010.shape[1]-1):\n",
    "    ax.fill_between(df_h2010.index, df_h2010.iloc[:,i], df_h2010.iloc[:,i+1], alpha = mapAlpha, color = ax.get_lines()[i].get_color())\n",
    "ax.set_ylabel('Avg. workweek (hours)')\n",
    "\n",
    "# Add baseline marker:\n",
    "addBaselineMarker(ax, baseline, h2010, 0.01, .6, adhocAdj = -0.05, **pltKwargs)\n",
    "# Add post-reform marker:\n",
    "addBaselineMarker(ax, solBasicCoverage, h2010, 0.01, .6, adhocAdj = -0.05, name = 'Basic coverage', **pltKwargs)\n",
    "\n",
    "# EV, political agent\n",
    "ax = plt.subplot(2,2,4);\n",
    "seaborn.lineplot(data = df_EV2010, linewidth = .25, dashes=False, palette = palette, ax = ax, alpha = .75, legend = False);\n",
    "for i in range(df_EV2010.shape[1]-1):\n",
    "    ax.fill_between(df_EV2010.index, df_EV2010.iloc[:,i], df_EV2010.iloc[:,i+1], alpha = mapAlpha, color = ax.get_lines()[i].get_color())\n",
    "dfAx(ax, .25, ylabel = 'EV (% of consumption)');\n",
    "\n",
    "# Add baseline marker:\n",
    "addBaselineMarker(ax, baseline, EV2010, 0.01, .4, **pltKwargs)\n",
    "# Add post-reform marker:\n",
    "addBaselineMarker(ax, solBasicCoverage, EV2010, 0.01, .4, name = 'Basic coverage', **pltKwargs)\n",
    "\n",
    "sm = plt.cm.ScalarMappable(cmap = colormap, norm = plt.Normalize(min(θgrid), max(θgrid)))\n",
    "cb_ax = fig.add_axes([0.25, 0.89, 0.5, 0.03])\n",
    "cbar = fig.colorbar(sm, cax=cb_ax, location = 'top', shrink = .75);\n",
    "cbar.set_label('$\\\\theta$');\n",
    "fig.savefig(os.path.join(d['figs'], '_functionOfParameters_Argentina.pdf'), edgecolor='k')"
   ]
  },
  {
   "cell_type": "markdown",
   "id": "a00f303e-da46-4cbe-89bd-b10fd1a77a2f",
   "metadata": {},
   "source": [
    "### 4.6. Visualize the effect on different types of houesholds (equivalent variation)"
   ]
  },
  {
   "cell_type": "markdown",
   "id": "123032ec-6388-4928-8577-31a87a5968a7",
   "metadata": {},
   "source": [
    "#### Subplots with fan-plots of EV for each agent"
   ]
  },
  {
   "cell_type": "markdown",
   "id": "e2daaabc-7db2-4cc9-bb77-e9fda657646d",
   "metadata": {},
   "source": [
    "*Young:*"
   ]
  },
  {
   "cell_type": "code",
   "execution_count": 52,
   "id": "234436ef-fb61-471e-a751-30a99d687198",
   "metadata": {},
   "outputs": [],
   "source": [
    "EV_young = 100 * pd.concat([sol[(θ, ϵ)]['transfer_Y'].xs(0, level = 't') for θ,ϵ in idx_], axis = 1, keys = idx_).stack(level=idx_.names).unstack('i')"
   ]
  },
  {
   "cell_type": "markdown",
   "id": "13231f1b-62e2-4b73-83d7-83681d902764",
   "metadata": {},
   "source": [
    "Print separately:"
   ]
  },
  {
   "cell_type": "code",
   "execution_count": 53,
   "id": "3b2bef66-d958-4f7e-9255-7218d85e5ab3",
   "metadata": {},
   "outputs": [],
   "source": [
    "%%capture\n",
    "one_graph()\n",
    "for j in EV_young.columns:\n",
    "    df_j = EV_young[j].unstack(θgrid.name)[θgrid]\n",
    "    fig, ax = plt.subplots(1,1, figsize = (14,8));\n",
    "    seaborn.lineplot(data = df_j, linewidth = .25, dashes=False, palette = palette, ax = ax, alpha = .75, legend = False);\n",
    "    for i in range(df_j.shape[1]-1):\n",
    "        ax.fill_between(df_j.index, df_j.iloc[:,i], df_j.iloc[:,i+1], alpha = mapAlpha, color = ax.get_lines()[i].get_color())\n",
    "    ax.set_ylabel('EV (% of consumption)')\n",
    "    \n",
    "    #Add baseline marker:\n",
    "    ax.plot(baseline['epsilon'], EV_young[j].xs((baseline['θ'], baseline['epsilon'])),'o', color = 'k', ms = 10);\n",
    "    # plt.text(0.12, 43.1, f'Baseline');\n",
    "    # plt.annotate(\"\",xy=(.108, 42.7), xytext=(.12,43.05), arrowprops=dict(width=1.5, color='k', headwidth=7.5, headlength=7.5));\n",
    "\n",
    "    sm = plt.cm.ScalarMappable(cmap = colormap, norm = plt.Normalize(min(θgrid), max(θgrid)))\n",
    "    cbar = ax.figure.colorbar(sm, ax = ax, location = 'top', shrink = .75);\n",
    "    cbar.set_label('$\\\\theta$');\n",
    "    fig.tight_layout()\n",
    "    fig.savefig(os.path.join(d['figs'], f'EV_Y{j}_functionOfParameters_Argentina.pdf'), edgecolor='k')"
   ]
  },
  {
   "cell_type": "markdown",
   "id": "1b01e6a4-3fd9-4ad6-9237-e34264aad9d1",
   "metadata": {},
   "source": [
    "Print in one:"
   ]
  },
  {
   "cell_type": "code",
   "execution_count": 54,
   "id": "df9e73cd-2f9e-43ee-9123-608e0aaa269d",
   "metadata": {},
   "outputs": [],
   "source": [
    "%%capture\n",
    "mult_graphs()\n",
    "pltKwargs = {'ms': 5, 'fontsize': 13, 'arrWidth': 1.5, 'arrHeadWidth': 5, 'arrHeadLen': 5}\n",
    "fig, axes = plt.subplots(2,2, figsize = (14,8));\n",
    "# PEE RATES\n",
    "for j in EV_young.columns:\n",
    "    df_j = EV_young[j].unstack(θgrid.name)[θgrid]\n",
    "    ax = plt.subplot(2,2,j+1);\n",
    "    seaborn.lineplot(data = df_j, linewidth = .25, dashes=False, palette = palette, ax = ax, alpha = .75, legend = False);\n",
    "    for i in range(df_j.shape[1]-1):\n",
    "        ax.fill_between(df_j.index, df_j.iloc[:,i], df_j.iloc[:,i+1], alpha = mapAlpha, color = ax.get_lines()[i].get_color())\n",
    "    dfAx(ax, .25, ylabel = 'EV');\n",
    "    \n",
    "    _min = EV_young[j].xs(baseline['epsilon'], level = ϵgrid.name).min()\n",
    "    # Add baseline marker:\n",
    "    addBaselineMarker(ax, baseline, EV_young[j], 0.01, _min-.5, adhocAdj = 0.5 if j!=1 else 0.1, **pltKwargs)\n",
    "    # Add post-reform marker:\n",
    "    addBaselineMarker(ax, solBasicCoverage, EV_young[j], 0.01, _min-.5, adhocAdj = 0.5 if j!=1 else 0.1, name = 'Basic coverage', **pltKwargs)\n",
    "    ax.set_title(f'{typeLabels[j]}', fontsize = 16);\n",
    "\n",
    "\n",
    "plt.subplots_adjust(hspace=0.4, top = .85);\n",
    "sm = plt.cm.ScalarMappable(cmap = colormap, norm = plt.Normalize(min(θgrid), max(θgrid)))\n",
    "cb_ax = fig.add_axes([0.25, 0.89, 0.5, 0.03])\n",
    "cbar = fig.colorbar(sm, cax=cb_ax, location = 'top', shrink = .75);\n",
    "cbar.set_label('$\\\\theta$');\n",
    "fig.savefig(os.path.join(d['figs'], 'EV_Young_functionOfParameters_Argentina.pdf'), edgecolor='k')"
   ]
  },
  {
   "cell_type": "markdown",
   "id": "45beacdf-fca8-48e1-b0a8-3229ffcfd3b7",
   "metadata": {},
   "source": [
    "*Retirees:*"
   ]
  },
  {
   "cell_type": "code",
   "execution_count": 55,
   "id": "343c5c70-0992-46d7-8b80-3b27dc1313d0",
   "metadata": {},
   "outputs": [],
   "source": [
    "EV_old = 100 * pd.concat([sol[(θ, ϵ)]['transfer_O'].xs(0, level = 't') for θ,ϵ in idx_], axis = 1, keys = idx_).stack(level=idx_.names).unstack('i')"
   ]
  },
  {
   "cell_type": "markdown",
   "id": "d6bffe75-2f11-4407-8f2c-ba0026fcee38",
   "metadata": {},
   "source": [
    "Print separately:"
   ]
  },
  {
   "cell_type": "code",
   "execution_count": 56,
   "id": "6e4356c9-ce2c-4e10-9b4d-97b896edaf9b",
   "metadata": {},
   "outputs": [],
   "source": [
    "%%capture\n",
    "for j in EV_old.columns:\n",
    "    df_j = EV_old[j].unstack(θgrid.name)[θgrid]\n",
    "    fig, ax = plt.subplots(1,1, figsize = (14,8));\n",
    "    seaborn.lineplot(data = df_j, linewidth = .25, dashes=False, palette = palette, ax = ax, alpha = .75, legend = False);\n",
    "    for i in range(df_j.shape[1]-1):\n",
    "        ax.fill_between(df_j.index, df_j.iloc[:,i], df_j.iloc[:,i+1], alpha = mapAlpha, color = ax.get_lines()[i].get_color())\n",
    "    dfAx(ax, .25, ylabel = 'EV (% of consumption)')\n",
    "    \n",
    "    #Add baseline marker:\n",
    "    _max = EV_old[j].xs(baseline['epsilon'], level = ϵgrid.name).max()\n",
    "    addBaselineMarker(ax, baseline, EV_old[j], 0.01, _max+.5, adhocAdj = -0.5 if j!=1 else 0.1, **pltKwargs)\n",
    "    addBaselineMarker(ax, solBasicCoverage, EV_old[j], 0.01, _max+.5, adhocAdj = -0.5 if j!=1 else 0.1, name = 'Basic coverage', **pltKwargs)\n",
    "    \n",
    "    sm = plt.cm.ScalarMappable(cmap = colormap, norm = plt.Normalize(min(θgrid), max(θgrid)))\n",
    "    cbar = ax.figure.colorbar(sm, ax = ax, location = 'top', shrink = .75);\n",
    "    cbar.set_label('$\\\\theta$');\n",
    "    fig.tight_layout()\n",
    "    fig.savefig(os.path.join(d['figs'], f'EV_O{j}_functionOfParameters_Argentina.pdf'), edgecolor='k')"
   ]
  },
  {
   "cell_type": "markdown",
   "id": "781e9701-99b6-4b43-84cd-ceba29692d3e",
   "metadata": {},
   "source": [
    "Print in one:"
   ]
  },
  {
   "cell_type": "code",
   "execution_count": 57,
   "id": "f5e988b3-5b85-46da-a5a6-ef29d1b90cb0",
   "metadata": {},
   "outputs": [],
   "source": [
    "%%capture\n",
    "mult_graphs()\n",
    "pltKwargs = {'ms': 5, 'fontsize': 13, 'arrWidth': 1.5, 'arrHeadWidth': 5, 'arrHeadLen': 5}\n",
    "fig, axes = plt.subplots(2,2, figsize = (14,8));\n",
    "# PEE RATES\n",
    "for j in EV_old.columns:\n",
    "    df_j = EV_old[j].unstack(θgrid.name)[θgrid]\n",
    "    ax = plt.subplot(2,2,j+1);\n",
    "    seaborn.lineplot(data = df_j, linewidth = .25, dashes=False, palette = palette, ax = ax, alpha = .75, legend = False);\n",
    "    for i in range(df_j.shape[1]-1):\n",
    "        ax.fill_between(df_j.index, df_j.iloc[:,i], df_j.iloc[:,i+1], alpha = mapAlpha, color = ax.get_lines()[i].get_color())\n",
    "    dfAx(ax, .25, ylabel = 'EV');\n",
    "    \n",
    "    _max = EV_old[j].xs(baseline['epsilon'], level = ϵgrid.name).max()\n",
    "    addBaselineMarker(ax, baseline, EV_old[j], 0.01, _max+.5, adhocAdj = -0.5 if j!=1 else 0.1, **pltKwargs)\n",
    "    addBaselineMarker(ax, solBasicCoverage, EV_old[j], 0.01, _max+.5, adhocAdj = -0.5 if j!=1 else 0.1, name = 'Basic coverage', **pltKwargs)\n",
    "    ax.set_title(f'{typeLabels[j]}', fontsize = 16);\n",
    "\n",
    "\n",
    "plt.subplots_adjust(hspace=0.4, top = .85);\n",
    "sm = plt.cm.ScalarMappable(cmap = colormap, norm = plt.Normalize(min(θgrid), max(θgrid)))\n",
    "cb_ax = fig.add_axes([0.25, 0.89, 0.5, 0.03])\n",
    "cbar = fig.colorbar(sm, cax=cb_ax, location = 'top', shrink = .75);\n",
    "cbar.set_label('$\\\\theta$');\n",
    "fig.savefig(os.path.join(d['figs'], 'EV_Old_functionOfParameters_Argentina.pdf'), edgecolor='k')"
   ]
  },
  {
   "cell_type": "markdown",
   "id": "93ecc2c1-2957-4e04-beab-d85f663bbf47",
   "metadata": {},
   "source": [
    "*Hand-to-mouth agents:*"
   ]
  },
  {
   "cell_type": "code",
   "execution_count": 58,
   "id": "7cc54396-5638-4f87-9dd0-05ba26bf1f4a",
   "metadata": {},
   "outputs": [],
   "source": [
    "EV_HtM = 100 * pd.concat([pd.Series([sol[(θ, ϵ)][k].xs(0) for θ, ϵ in idx_], index = idx_, name = k) for k in ['transfer_OU', 'transfer_YU']], axis = 1, keys = ['transfer_OU','transfer_YU'])\n",
    "types_HtM = {'transfer_OU': 'Old, hand-to-mouth', 'transfer_YU': 'Young, hand-to-mouth'}"
   ]
  },
  {
   "cell_type": "code",
   "execution_count": 59,
   "id": "864723c7-55df-4646-84d8-4fbab7c8d14f",
   "metadata": {},
   "outputs": [
    {
     "data": {
      "image/png": "[encoded data removed]",
      "text/plain": [
       "<Figure size 1400x600 with 3 Axes>"
      ]
     },
     "metadata": {},
     "output_type": "display_data"
    }
   ],
   "source": [
    "# %%capture\n",
    "mult_graphs()\n",
    "pltKwargs = {'ms': 5, 'fontsize': 13, 'arrWidth': 1.5, 'arrHeadWidth': 5, 'arrHeadLen': 5}\n",
    "fig, axes = plt.subplots(1,2, figsize = (14,6));\n",
    "# PEE RATES\n",
    "for n in range(len(EV_HtM.columns)):\n",
    "    j = EV_HtM.columns[n]\n",
    "    df_j = EV_HtM[j].unstack(θgrid.name)[θgrid]\n",
    "    ax = plt.subplot(1,2,n+1);\n",
    "    seaborn.lineplot(data = df_j, linewidth = .25, dashes=False, palette = palette, ax = ax, alpha = .75, legend = False);\n",
    "    for i in range(df_j.shape[1]-1):\n",
    "        ax.fill_between(df_j.index, df_j.iloc[:,i], df_j.iloc[:,i+1], alpha = mapAlpha, color = ax.get_lines()[i].get_color())\n",
    "    dfAx(ax, .25, ylabel = 'EV');\n",
    "    \n",
    "    _max = EV_HtM[j].xs(baseline['epsilon'], level = ϵgrid.name).max()\n",
    "    addBaselineMarker(ax, baseline, EV_HtM[j], 0.01, _max+3 if n == 0 else _max+.2, adhocAdj = 0, **pltKwargs)\n",
    "    addBaselineMarker(ax, solBasicCoverage, EV_HtM[j], 0.01, _max+3 if n == 0 else _max+.2, adhocAdj = 0, name = 'Basic coverage', **pltKwargs)\n",
    "    ax.set_title(f'{types_HtM[j]}', fontsize = 16);\n",
    "\n",
    "plt.subplots_adjust(top = .8);\n",
    "sm = plt.cm.ScalarMappable(cmap = colormap, norm = plt.Normalize(min(θgrid), max(θgrid)))\n",
    "cb_ax = fig.add_axes([0.25, 0.86, 0.5, 0.03])\n",
    "cbar = fig.colorbar(sm, cax=cb_ax, location = 'top', shrink = .75);\n",
    "cbar.set_label('$\\\\theta$');\n",
    "fig.savefig(os.path.join(d['figs'], 'EV_HtM_functionOfParameters_Argentina.pdf'), edgecolor='k')"
   ]
  }
 ],
 "metadata": {
  "kernelspec": {
   "display_name": "Python 3 (ipykernel)",
   "language": "python",
   "name": "python3"
  },
  "language_info": {
   "codemirror_mode": {
    "name": "ipython",
    "version": 3
   },
   "file_extension": ".py",
   "mimetype": "text/x-python",
   "name": "python",
   "nbconvert_exporter": "python",
   "pygments_lexer": "ipython3",
   "version": "3.11.4"
  }
 },
 "nbformat": 4,
 "nbformat_minor": 5
}
