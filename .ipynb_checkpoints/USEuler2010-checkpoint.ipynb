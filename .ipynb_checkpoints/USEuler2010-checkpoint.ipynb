{
 "cells": [
  {
   "cell_type": "code",
   "execution_count": 1,
   "id": "7a032fb5-40e3-40fb-99ed-6c9f85a857c3",
   "metadata": {},
   "outputs": [],
   "source": [
    "%run stdPackages.ipynb\n",
    "os.chdir(d['py'])\n",
    "import US_EulerModel_main, US_EulerModel_c, US_EulerModel_policy\n",
    "os.chdir(d['curr'])"
   ]
  },
  {
   "cell_type": "markdown",
   "id": "c812f6e2-0122-43bd-abc7-8dd9852d29c5",
   "metadata": {
    "tags": []
   },
   "source": [
    "# Social Security Design for US (Euler, finite horizon): \n",
    "## Identification of structural parameters $(\\xi, \\theta)$ for 2010 model"
   ]
  },
  {
   "cell_type": "markdown",
   "id": "d702dbf7-79ec-43a7-aec8-dc7811905c84",
   "metadata": {},
   "source": [
    "This notebook considers the model for the US where all household types are \"Euler types\" (e.g. no hand-to-mouth or unemployed). We search the parameter space of the coefficient of relative risk aversion ($\\theta$) and frisch elasticity $(\\xi)$ of households to identify combinations that ensures the model replicates the choice of pension characteristics of 2010.\n",
    "\n",
    "The model uses a finite horizon version to solve for the CRRA model. We revisit the robustness of results in other notebooks."
   ]
  },
  {
   "cell_type": "markdown",
   "id": "1fd055e9-b588-4f2d-a258-040ffdb0deda",
   "metadata": {
    "tags": []
   },
   "source": [
    "## 1. Data and settings"
   ]
  },
  {
   "cell_type": "markdown",
   "id": "5fede2a2-315e-4ae6-b83d-f4540798a530",
   "metadata": {},
   "source": [
    "Data on inputs:"
   ]
  },
  {
   "cell_type": "code",
   "execution_count": 2,
   "id": "6100f2a8-75fe-417e-a2fa-67f49cf418f3",
   "metadata": {},
   "outputs": [],
   "source": [
    "t0date = 2010\n",
    "%run USEuler_Data.ipynb"
   ]
  },
  {
   "cell_type": "markdown",
   "id": "d7d527ad-69e1-4d18-8e10-3825666eaa8e",
   "metadata": {},
   "source": [
    "Initial parameter values and settings:"
   ]
  },
  {
   "cell_type": "code",
   "execution_count": 3,
   "id": "7ca4ea1d-66cd-4892-8c5a-6a602322014c",
   "metadata": {},
   "outputs": [],
   "source": [
    "ω0 = 1.75\n",
    "ngrid = 50"
   ]
  },
  {
   "cell_type": "markdown",
   "id": "4435f3f2-2f5f-4997-9358-a793b57cfbae",
   "metadata": {},
   "source": [
    "Grid specification for searches over $\\rho, \\xi$:"
   ]
  },
  {
   "cell_type": "code",
   "execution_count": 4,
   "id": "60de8174-d60f-4fe5-9fd6-f1acee0700f7",
   "metadata": {},
   "outputs": [],
   "source": [
    "ξ0, ξLower, nξ = .5, .1, 9\n",
    "ρ0, ρLower, nρ = 2.5, 1, 11"
   ]
  },
  {
   "cell_type": "markdown",
   "id": "e354f5c3-3bdb-40ef-b685-4b24f83f9372",
   "metadata": {},
   "source": [
    "Initialize model:"
   ]
  },
  {
   "cell_type": "code",
   "execution_count": 5,
   "id": "eaf65647-11e2-4fe6-93a3-4cdc4956ea3e",
   "metadata": {
    "tags": []
   },
   "outputs": [],
   "source": [
    "m = US_EulerModel_main.Model(ngrid = ngrid, ξ = ξ0, ρ = ρ0, ω = ω0, **data)"
   ]
  },
  {
   "cell_type": "markdown",
   "id": "dff386da-fda0-47c0-9037-31d0de33ccae",
   "metadata": {},
   "source": [
    "Specify others settings: Size of grids to use in grid search methods and the style of solution to use (see ```USEuler_Policy.ipynb``` on the different methods):"
   ]
  },
  {
   "cell_type": "code",
   "execution_count": 6,
   "id": "0091e81b-39fc-4784-8f6f-7357632f80f5",
   "metadata": {},
   "outputs": [],
   "source": [
    "m.ESC.grids['τ'] = m.ESC.nGrids('τ', 101) # create standard grid with 101 steps for grid searches for τ\n",
    "m.ESC.grids['κ'] = m.ESC.nGrids('κ', 51) # create standard grid with 51 steps for grid searches for κ\n",
    "m.ESC.kwargs_t = {'style': 'VeryRobust'} # use the \"VeryRobust\" style of solving the model.\n",
    "m.ESC.kwargs_T = {'style': 'VeryRobust'} # use the \"VeryRobust\" style of solving the model in terminal state."
   ]
  },
  {
   "cell_type": "markdown",
   "id": "d9c2f687-f293-4d29-a063-4ecd15bc7ea1",
   "metadata": {},
   "source": [
    "## 2. Calibration"
   ]
  },
  {
   "cell_type": "markdown",
   "id": "b135fca9-0277-4eec-b684-7b514d14879b",
   "metadata": {},
   "source": [
    "We target a range of characteristics including distributions in working hours and wages, the 30 years interest rate $(R_t)$, and the endogenous choice of pension + social security taxes $\\tau_t$. On top of this, we want to replicate the endogenous choice of system characteristics ($\\kappa_t$) that determines the share of pensions that are \"universal\". The distribution of wages and working hours can be in a very simple way by adjusting $\\eta_i, X_i$. This calibration can be done outside the numerical simulation of the model *given* the labor elasticity $\\xi$. \n",
    "\n",
    "The second set of targets $\\tau_t, R_t$ can be identified by adjusting the political weight of retirees $\\omega$ and the discount factor $\\beta$; This identification, however, is only done by simulating model solutions until the targets are reached. Thus, this is a somewhat costly calibration. \n",
    "\n",
    "Finally, the choice of $\\kappa_t$ is numerically very challenging to identify. We essentially have two parameters that can help us identify the choice of the design of the system: The CRRA preference $\\rho$ and the labor elasticity $\\xi$. As we can see in the following, there is a small subset of the parameter space for $(\\xi, \\rho)$ that permits an interior solution. To get at this, we start by solving the model on a grid of both $(\\rho, \\xi)$: For each gridpoint, we define the \"objective\" as the difference between the target policy design $\\overline{\\kappa}$ and the endogenous choice $\\kappa_t$. What we need from the initial gridsearch is at least one level of $\\rho_n$ (or $\\xi$) where the objective on the grid of $\\xi$ (or $\\rho$) the objective value changes sign: A sign change allows us to apply a golden-section like search for a solution value of $\\xi$ (given $\\rho$). We can then proceed in a number of ways, depending on how much of the solution space (for $\\xi, \\rho$) we are interested in:\n",
    "* We can simply use the part of the solution space on the initial grid of $(\\rho, \\xi)$, where we observe a sign change.\n",
    "* We can start with the solution space on the initial grid, where we observe a sign change. Next, we can take the first and last value of $\\rho$, where we found a sign change on the grid of $\\xi$. Then, we can form a new grid between points where we *did* find a sign change and the nearest gridpoint where we did not. "
   ]
  },
  {
   "cell_type": "markdown",
   "id": "ae6e7d8f-bbba-474b-8d72-2799b806b1f8",
   "metadata": {},
   "source": [
    "*Grids:*"
   ]
  },
  {
   "cell_type": "code",
   "execution_count": 7,
   "id": "ba815a27-5482-43f1-a1c5-9c772c70a699",
   "metadata": {},
   "outputs": [],
   "source": [
    "β0 = m.US_βinv()\n",
    "ρgrid = np.round(np.linspace(ρ0, ρLower, nρ), 2)\n",
    "ξgrid = np.round(np.linspace(ξ0, ξLower, nξ), 3)"
   ]
  },
  {
   "cell_type": "markdown",
   "id": "bfd5a3e6-218a-45a7-aab5-31e0fcf9c802",
   "metadata": {},
   "source": [
    "*Start from pickle instead:*"
   ]
  },
  {
   "cell_type": "code",
   "execution_count": 8,
   "id": "703b0787-fce3-40b5-be7e-23aa66f0a2e1",
   "metadata": {},
   "outputs": [],
   "source": [
    "# with open(os.path.join(d['data'], 'USEuler2010_gridsearch'), \"rb\") as file:\n",
    "#     solsGrid = pickle.load(file)"
   ]
  },
  {
   "cell_type": "markdown",
   "id": "289696c8-1f2b-450b-9f26-e3105f727283",
   "metadata": {},
   "source": [
    "To be able to \"start\" the model from a reasonable parameter range, let us start by solving on a grid of $\\xi$:"
   ]
  },
  {
   "cell_type": "code",
   "execution_count": 9,
   "id": "8daf721b-492c-4cf1-8d35-562205b8426c",
   "metadata": {},
   "outputs": [],
   "source": [
    "sols0 = m.USCal_OnGrid(ξgrid, data['t0'], var = 'ξ')"
   ]
  },
  {
   "cell_type": "markdown",
   "id": "39f53a0b-f50b-48fa-a350-1795551a2ffd",
   "metadata": {},
   "source": [
    "Then, given this, solve on a grid of $\\xi$ for each step. Create a \"break\" variable as follows: If there has been no solution with a sign change on the grid of $\\xi$ yet, keep iterating. The first time a sign change is recorded update local to ```solved```. Then, whenever there is no longer a sign change, stop iteration:"
   ]
  },
  {
   "cell_type": "code",
   "execution_count": 10,
   "id": "c64b7009-89e5-42ad-b461-db006773e5bf",
   "metadata": {},
   "outputs": [
    {
     "name": "stdout",
     "output_type": "stream",
     "text": [
      "Warning: Could only solve model with grid search - for ν = 1.018706685, ρ = 1.75, ξ: 0.4\n",
      "Warning: Could only solve model with grid search - for ν = 1.018706685, ρ = 1.75, ξ: 0.4\n",
      "Warning: Could only solve model with grid search - for ν = 1.018706685, ρ = 1.75, ξ: 0.4\n",
      "Warning: Could only solve model with grid search - for ν = 1.018706685, ρ = 1.75, ξ: 0.4\n",
      "Warning: Could only solve model with grid search - for ν = 1.018706685, ρ = 1.75, ξ: 0.4\n",
      "Warning: Could only solve model with grid search - for ν = 1.018706685, ρ = 1.75, ξ: 0.4\n",
      "Warning: Could only solve model with grid search - for ν = 1.504840069, ρ = 1.9, ξ: 0.35\n",
      "Warning: Could only solve model with grid search - for ν = 1.504840069, ρ = 1.9, ξ: 0.35\n",
      "Warning: Could only solve model with grid search - for ν = 1.504840069, ρ = 1.9, ξ: 0.35\n",
      "Warning: Could only solve model with grid search - for ν = 1.504840069, ρ = 1.9, ξ: 0.35\n",
      "Warning: Could only solve model with grid search - for ν = 1.504840069, ρ = 1.9, ξ: 0.35\n",
      "Warning: Could only solve model with grid search - for ν = 1.055068673, ρ = 1.75, ξ: 0.35\n",
      "Warning: Could only solve model with grid search - for ν = 1.055068673, ρ = 1.75, ξ: 0.35\n"
     ]
    }
   ],
   "source": [
    "solved = False\n",
    "solsGrid = dict.fromkeys(ξgrid)\n",
    "for i in range(len(ξgrid)):\n",
    "    m.db['ξ'] = ξgrid[i]\n",
    "    m.US_Xi()\n",
    "    m.db['ω'] = sols0['ω'][i]\n",
    "    m.db['βi'] = m.US_β(sols0['β'][i])\n",
    "    solsGrid[m.db['ξ']] = {'ρ' : ρgrid, 'obj': np.empty(ρgrid.size)}\n",
    "    solsGrid[m.db['ξ']].update({k: solsGrid[m.db['ξ']]['obj'].copy() for k in ('ω','β')})\n",
    "    for j in range(ρgrid.size):\n",
    "        solsGrid[m.db['ξ']] = m.USCal_OnGrid_i(data['t0'], solsGrid[m.db['ξ']], j, var = 'ρ')\n",
    "    # solsGrid[ξgrid[i]] = m.USCal_OnGrid(ρgrid, data['t0'], var = 'ρ')\n",
    "    if solved is False:\n",
    "        if np.nonzero(np.diff(np.sign(solsGrid[ξgrid[i]]['obj'])) != 0)[0].size>0:\n",
    "            solved = True\n",
    "    else:\n",
    "        if np.nonzero(np.diff(np.sign(solsGrid[ξgrid[i]]['obj'])) != 0)[0].size == 0:\n",
    "            break"
   ]
  },
  {
   "cell_type": "markdown",
   "id": "ff295f4e-05ab-4eab-90f2-348d9a391952",
   "metadata": {},
   "source": [
    "Store data:"
   ]
  },
  {
   "cell_type": "code",
   "execution_count": 11,
   "id": "996c56e9-cfcb-4e82-8afa-06b0b81a463c",
   "metadata": {},
   "outputs": [],
   "source": [
    "with open(os.path.join(d['data'], 'USEuler2010_gridsearch'), \"wb\") as file:\n",
    "    pickle.dump(solsGrid, file)"
   ]
  },
  {
   "cell_type": "markdown",
   "id": "e5f05c39-4c42-4293-a963-5f1eb35256be",
   "metadata": {},
   "source": [
    "### 2.1. Search for solutions on relevant part of grid."
   ]
  },
  {
   "cell_type": "markdown",
   "id": "f4939ed3-fb33-4396-8067-a5f8486aa962",
   "metadata": {},
   "source": [
    "Remove ```None``` entries and only keep sign changes:"
   ]
  },
  {
   "cell_type": "code",
   "execution_count": 12,
   "id": "0ec84e90-f8d1-4780-ac14-f77eef8841b6",
   "metadata": {},
   "outputs": [],
   "source": [
    "solsSignChange = {k: v for k,v in solsGrid.items() if v}\n",
    "solsSignChange = {k: v for k,v in solsSignChange.items() if np.nonzero(np.diff(np.sign(v['obj'])) != 0)[0].size>0}"
   ]
  },
  {
   "cell_type": "markdown",
   "id": "08fa2e4f-bab6-42ca-8f88-5f3a09945482",
   "metadata": {},
   "source": [
    "Solve on this grid:"
   ]
  },
  {
   "cell_type": "code",
   "execution_count": 13,
   "id": "08ec5345-0260-4588-bc41-9ff05ea6c71b",
   "metadata": {},
   "outputs": [
    {
     "name": "stdout",
     "output_type": "stream",
     "text": [
      "0.5\n",
      "0.45\n",
      "0.4\n",
      "0.35\n",
      "Warning: Could only solve model with grid search - for ν = 1.018706685, ρ = 2.092199955610794, ξ: 0.3\n",
      "Warning: Could only solve model with grid search - for ν = 1.018706685, ρ = 2.092199955610794, ξ: 0.3\n",
      "Warning: Could only solve model with grid search - for ν = 1.018706685, ρ = 2.092199955610794, ξ: 0.3\n",
      "Warning: Could only solve model with grid search - for ν = 1.018706685, ρ = 2.092199955610794, ξ: 0.3\n",
      "Warning: Could only solve model with grid search - for ν = 1.018706685, ρ = 2.092199955610794, ξ: 0.3\n",
      "Warning: Could only solve model with grid search - for ν = 1.018706685, ρ = 2.092199955610794, ξ: 0.3\n",
      "Warning: Could only solve model with grid search - for ν = 1.018706685, ρ = 2.092199955610794, ξ: 0.3\n",
      "Warning: Could only solve model with grid search - for ν = 1.018706685, ρ = 2.092199955610794, ξ: 0.3\n",
      "Warning: Could only solve model with grid search - for ν = 1.018706685, ρ = 2.092199955610794, ξ: 0.3\n",
      "Warning: Could only solve model with grid search - for ν = 1.018706685, ρ = 2.092199955610794, ξ: 0.3\n",
      "Warning: Could only solve model with grid search - for ν = 1.018706685, ρ = 2.092199955610794, ξ: 0.3\n",
      "Warning: Could only solve model with grid search - for ν = 1.018706685, ρ = 2.092199955610794, ξ: 0.3\n",
      "Warning: Could only solve model with grid search - for ν = 1.018706685, ρ = 2.092199955610794, ξ: 0.3\n",
      "Warning: Could only solve model with grid search - for ν = 1.018706685, ρ = 2.092199955610794, ξ: 0.3\n",
      "Warning: Could only solve model with grid search - for ν = 1.018706685, ρ = 2.092199955610794, ξ: 0.3\n",
      "Warning: Could only solve model with grid search - for ν = 1.018706685, ρ = 2.092199955610794, ξ: 0.3\n",
      "Warning: Could only solve model with grid search - for ν = 1.018706685, ρ = 2.092199955610794, ξ: 0.3\n",
      "Warning: Could only solve model with grid search - for ν = 1.018706685, ρ = 2.092199955610794, ξ: 0.3\n",
      "Warning: Could only solve model with grid search - for ν = 1.018706685, ρ = 2.092199955610794, ξ: 0.3\n",
      "Warning: Could only solve model with grid search - for ν = 1.018706685, ρ = 2.092199955610794, ξ: 0.3\n",
      "Warning: Could only solve model with grid search - for ν = 1.018706685, ρ = 2.092199955610794, ξ: 0.3\n",
      "Warning: Could only solve model with grid search - for ν = 1.018706685, ρ = 2.092199955610794, ξ: 0.3\n",
      "0.3\n",
      "Warning: Could only solve model with grid search - for ν = 1.018706685, ρ = 2.0840326002802265, ξ: 0.25\n",
      "Warning: Could only solve model with grid search - for ν = 1.018706685, ρ = 2.0840326002802265, ξ: 0.25\n",
      "Warning: Could only solve model with grid search - for ν = 1.018706685, ρ = 2.0840326002802265, ξ: 0.25\n",
      "Warning: Could only solve model with grid search - for ν = 1.018706685, ρ = 2.0840326002802265, ξ: 0.25\n",
      "Warning: Could only solve model with grid search - for ν = 1.018706685, ρ = 2.0840326002802265, ξ: 0.25\n",
      "Warning: Could only solve model with grid search - for ν = 1.018706685, ρ = 2.0840326002802265, ξ: 0.25\n",
      "Warning: Could only solve model with grid search - for ν = 1.018706685, ρ = 2.0840326002802265, ξ: 0.25\n",
      "Warning: Could only solve model with grid search - for ν = 1.018706685, ρ = 2.0840326002802265, ξ: 0.25\n",
      "Warning: Could only solve model with grid search - for ν = 1.018706685, ρ = 2.0840326002802265, ξ: 0.25\n",
      "Warning: Could only solve model with grid search - for ν = 1.018706685, ρ = 2.0840326002802265, ξ: 0.25\n",
      "Warning: Could only solve model with grid search - for ν = 1.018706685, ρ = 2.0840326002802265, ξ: 0.25\n",
      "Warning: Could only solve model with grid search - for ν = 1.018706685, ρ = 2.0840326002802265, ξ: 0.25\n",
      "Warning: Could only solve model with grid search - for ν = 1.018706685, ρ = 2.0840326002802265, ξ: 0.25\n",
      "Warning: Could only solve model with grid search - for ν = 1.018706685, ρ = 2.0840326002802265, ξ: 0.25\n",
      "Warning: Could only solve model with grid search - for ν = 1.018706685, ρ = 2.0840326002802265, ξ: 0.25\n",
      "Warning: Could only solve model with grid search - for ν = 1.018706685, ρ = 2.0840326002802265, ξ: 0.25\n",
      "Warning: Could only solve model with grid search - for ν = 1.018706685, ρ = 2.0840326002802265, ξ: 0.25\n",
      "Warning: Could only solve model with grid search - for ν = 1.018706685, ρ = 2.0840326002802265, ξ: 0.25\n",
      "Warning: Could only solve model with grid search - for ν = 1.018706685, ρ = 2.0840326002802265, ξ: 0.25\n",
      "Warning: Could only solve model with grid search - for ν = 1.018706685, ρ = 2.0840326002802265, ξ: 0.25\n",
      "Warning: Could only solve model with grid search - for ν = 1.018706685, ρ = 2.0840326002802265, ξ: 0.25\n",
      "Warning: Could only solve model with grid search - for ν = 1.018706685, ρ = 2.0840326002802265, ξ: 0.25\n",
      "0.25\n",
      "0.2\n",
      "0.15\n",
      "0.1\n",
      "CPU times: total: 23min 47s\n",
      "Wall time: 20min 25s\n"
     ]
    }
   ],
   "source": [
    "%%time\n",
    "cals = dict.fromkeys(solsSignChange)\n",
    "for k,v in solsSignChange.items():\n",
    "    m.db['ξ'] = k\n",
    "    m.US_Xi() # update Xi based on ξ\n",
    "    sc = m.USCal_SCidx(v) # idx for sign change\n",
    "    m.db['ω'] = v['ω'][sc]\n",
    "    m.db['βi'] = m.US_β(v['β'][sc])\n",
    "    cals[k] = m.USCal_GoldenSection(v['ρ'][sc:sc+2], data['t0'], n = 2, tol = 1e-5, iterMax = 5, var = 'ρ')\n",
    "    print(k)"
   ]
  },
  {
   "cell_type": "markdown",
   "id": "a2c1f2c4-6e30-4e7d-b56d-3ce50dd360ed",
   "metadata": {},
   "source": [
    "Calibration space:"
   ]
  },
  {
   "cell_type": "code",
   "execution_count": 14,
   "id": "f35c8af4-b7db-429e-9e57-bef5fc43b3e8",
   "metadata": {},
   "outputs": [
    {
     "data": {
      "text/plain": [
       "ξ\n",
       "0.50    2.071868\n",
       "0.45    2.075518\n",
       "0.40    2.079227\n",
       "0.35    2.082872\n",
       "0.30    2.086547\n",
       "0.25    2.090237\n",
       "0.20    2.093909\n",
       "0.15    2.097570\n",
       "0.10    2.101245\n",
       "dtype: float64"
      ]
     },
     "execution_count": 14,
     "metadata": {},
     "output_type": "execute_result"
    }
   ],
   "source": [
    "pd.Series([cals[k]['ρ'] for k in cals], index = pd.Index(cals, name = 'ξ'))"
   ]
  },
  {
   "cell_type": "markdown",
   "id": "8cb5a9fa-d77d-46bc-80ef-08dcc2ae8513",
   "metadata": {},
   "source": [
    "### 3. Export:"
   ]
  },
  {
   "cell_type": "code",
   "execution_count": 15,
   "id": "8183a4a4-1264-491d-863d-e8efc0bc5c07",
   "metadata": {},
   "outputs": [],
   "source": [
    "with open(os.path.join(d['data'], 'USEuler2010_cals'), \"wb\") as file:\n",
    "    pickle.dump(cals, file)\n",
    "with open(os.path.join(d['data'], 'mUSEuler2010'), \"wb\") as file:\n",
    "    pickle.dump(m, file)"
   ]
  }
 ],
 "metadata": {
  "kernelspec": {
   "display_name": "Python 3 (ipykernel)",
   "language": "python",
   "name": "python3"
  },
  "language_info": {
   "codemirror_mode": {
    "name": "ipython",
    "version": 3
   },
   "file_extension": ".py",
   "mimetype": "text/x-python",
   "name": "python",
   "nbconvert_exporter": "python",
   "pygments_lexer": "ipython3",
   "version": "3.11.4"
  }
 },
 "nbformat": 4,
 "nbformat_minor": 5
}
