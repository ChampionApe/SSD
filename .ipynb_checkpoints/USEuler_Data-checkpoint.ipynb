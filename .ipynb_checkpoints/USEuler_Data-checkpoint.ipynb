{
 "cells": [
  {
   "cell_type": "code",
   "execution_count": 18,
   "id": "55eaf0a5-bba7-4bd4-b281-021a318f46b3",
   "metadata": {},
   "outputs": [],
   "source": [
    "try:\n",
    "    t0date\n",
    "except NameError:\n",
    "    import pandas as pd, numpy as np\n",
    "    t0date = 2010"
   ]
  },
  {
   "cell_type": "markdown",
   "id": "34b921c7-2c0c-4a8a-a150-50fd693d0d8f",
   "metadata": {},
   "source": [
    "*Raw data for US - used in Euler model:*"
   ]
  },
  {
   "cell_type": "code",
   "execution_count": 15,
   "id": "3283a3be-a230-441a-a457-b3fd4e3b6895",
   "metadata": {},
   "outputs": [],
   "source": [
    "data = {'datesLog': pd.Index([1950, 1980, 2010, 2040, 2070, 2100], name = 't'),\n",
    "        'νLog': np.array([1.504840069, 1.394563144, 1.178137696, 1.055068673, 1.018706685, 1.018706685]),\n",
    "        't0date': t0date}\n",
    "data['TLog'] = len(data['νLog'])\n",
    "data['T'] = data['TLog']+5\n",
    "data['dates'] = data['datesLog'].union(pd.Index([data['datesLog'][-1]+30*i for i in range(1, data['T']-data['TLog']+1)]))\n",
    "data['ν'] = np.hstack([data['νLog'], np.full(data['T']-data['TLog'], data['νLog'][-1])])\n",
    "data['A'] = np.ones(data['T'])\n",
    "data['t0'] = data['dates'].get_loc(t0date)"
   ]
  },
  {
   "cell_type": "markdown",
   "id": "aa9b030d-b216-44c8-a8df-6ec7c3f2b111",
   "metadata": {},
   "source": [
    "Data for 2010:"
   ]
  },
  {
   "cell_type": "code",
   "execution_count": 21,
   "id": "a23ac08c-4a66-4810-92d8-d456c9d4b083",
   "metadata": {},
   "outputs": [],
   "source": [
    "if t0date == 2010:\n",
    "    size = np.array([311802, 97786, 129258, 3589])\n",
    "    data['γi'] = size/size.sum()\n",
    "    data['ni'] = len(data['γi'])\n",
    "    hours = np.array([2068.9, 2316.6, 2429.3, 2679.6]) # hours\n",
    "    wagerates = np.array([15.10, 27.43, 51.62, 197.2]) # wages\n",
    "    income = hours*wagerates\n",
    "    data['zxi'] = hours/hours.mean()\n",
    "    data['zηi'] = income/income.mean()\n",
    "    data['μi'] = np.array([0.494, 0.690, 0.750, 0.750]) # voter turnout\n",
    "    data['pi'] = np.array([0.606, 0.7486, 0.821, 0.821]) # mortality rates\n",
    "    data['RRgroups'] = (0,1) # what two groups should be compared to compute RR rate.\n",
    "    data['α'] = 0.281\n",
    "    \n",
    "    # Targets:\n",
    "    data['τ0'] = .158 # target labor tax rate\n",
    "    data['RR0'] = 39.4/50.1 # replacement rate\n",
    "    data['UShare0'] = 3.4/15.8 # share of ss going to universal\n",
    "    data['R0'] = 2.443 \n",
    "    \n",
    "if t0date == 1980:\n",
    "    # this uses the same groups as the 2010 split:\n",
    "    size = np.array([135686, 159626, 79106])\n",
    "    data['γi'] = size/size.sum()\n",
    "    data['ni'] = len(data['γi'])\n",
    "    hours = np.array([1935, 2167.7, 2308.8]) # hours\n",
    "    wagerates = np.array([5.16, 9.05, 15.76]) # wages\n",
    "    income = hours*wagerates\n",
    "    data['zxi'] = hours/hours.mean()\n",
    "    data['zηi'] = income/income.mean()\n",
    "    data['μi'] = np.array([0.46439861, 0.61590124, 0.75298054]) # voter turnout\n",
    "    data['pi'] = np.array([0.43764831, 0.59651524, 0.70332453]) # mortality rates\n",
    "    data['RRgroups'] = (0,1) # what two groups should be compared to compute RR rate.\n",
    "    data['α'] = 0.281\n",
    "    \n",
    "    data['τ0'] = .1016+0.021+0.003 # target labor tax rate\n",
    "    data['RR0'] = 39.4/50.1 # replacement rate\n",
    "    data['UShare0'] = 0.024/data['τ0'] # share of ss going to universal\n",
    "    data['R0'] = 2.443 "
   ]
  },
  {
   "cell_type": "markdown",
   "id": "b1880e2e-4e75-4cc8-b711-5abf815fcecb",
   "metadata": {},
   "source": [
    "Old 2010 version:"
   ]
  },
  {
   "cell_type": "code",
   "execution_count": 2,
   "id": "5ccf52b4-fa11-4e49-8d02-594852d9f34d",
   "metadata": {
    "tags": []
   },
   "outputs": [],
   "source": [
    "# dates_log = pd.Index([1950, 1980, 2010, 2040, 2070, 2100], name = 't')\n",
    "# ν_log = np.array([1.504840069, 1.394563144, 1.178137696, 1.055068673, 1.018706685, 1.018706685])\n",
    "# T_log = len(ν_log)\n",
    "# T = T_log+5\n",
    "# dates = dates_log.union(pd.Index([dates_log[-1]+30*i for i in range(1,T-T_log+1)]))\n",
    "# ν = np.hstack([ν_log, np.full(T-T_log, ν_log[-1])])\n",
    "# A = np.ones(T) # normalize exog. productivity at 1 \n",
    "# t0date = 2010 # calibration date\n",
    "# t0 = dates.get_loc(t0date) # index for year of calibration \n",
    "\n",
    "\n",
    "# # \"Simple\" calibration:\n",
    "# α = .281 # capital income share\n",
    "\n",
    "# # Household types:\n",
    "# size = np.array([311802, 97786, 129258, 3589])\n",
    "# γi = size/size.sum()\n",
    "# ni = len(γi)\n",
    "# hours = np.array([2068.9, 2316.6, 2429.3, 2679.6]) # hours\n",
    "# wagerates = np.array([15.10, 27.43, 51.62, 197.2]) # wages\n",
    "# income = hours*wagerates\n",
    "# zxi = hours/hours.mean()\n",
    "# zηi = income/income.mean()\n",
    "\n",
    "# μi = np.array([0.494, 0.690, 0.750, 0.750]) # voter turnout\n",
    "\n",
    "\n",
    "# ### NOT UPDATED YET\n",
    "# pi = np.array([0.606, 0.7486, 0.821, 0.821]) # mortality rates\n",
    "# RRgroups = (0,1) # what two groups should be compared to compute RR rate.\n",
    "# # pi = np.array([0.385, 0.55, 0.652, 0.74]) # mortality rates\n",
    "\n",
    "\n",
    "# # other targets:\n",
    "# τ0 = .158 # target labor tax rate\n",
    "# RR = 39.4/50.1 # replacement rate\n",
    "# universalShare = 3.4/15.8 # share of ss going to universal\n",
    "# R0 = 2.443 \n",
    "\n",
    "\n",
    "# # Initial/baseline values:\n",
    "# ξ0 = .5\n",
    "# ρ0 = 2 \n",
    "# ω0 = 1.5\n",
    "# # βj = np.ones(ni+1)"
   ]
  }
 ],
 "metadata": {
  "kernelspec": {
   "display_name": "Python 3 (ipykernel)",
   "language": "python",
   "name": "python3"
  },
  "language_info": {
   "codemirror_mode": {
    "name": "ipython",
    "version": 3
   },
   "file_extension": ".py",
   "mimetype": "text/x-python",
   "name": "python",
   "nbconvert_exporter": "python",
   "pygments_lexer": "ipython3",
   "version": "3.12.4"
  }
 },
 "nbformat": 4,
 "nbformat_minor": 5
}
