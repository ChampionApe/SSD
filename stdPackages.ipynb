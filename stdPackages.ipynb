{
 "cells": [
  {
   "cell_type": "code",
   "execution_count": 1,
   "id": "7100ad9b-d82c-4d6e-87ce-811108cd87d1",
   "metadata": {},
   "outputs": [],
   "source": [
    "import os, pandas as pd, numpy as np, scipy, seaborn\n",
    "from importlib.metadata import version\n",
    "_repo = 'SSD'\n",
    "d = {'main': os.path.join(os.getcwd().split(_repo,1)[0],_repo),\n",
    "     'curr': os.getcwd()}\n",
    "d.update({'py': os.path.join(d['main'], 'py'),\n",
    "          'data': os.path.join(d['main'], 'Data')})\n",
    "os.chdir(d['py'])\n",
    "import base, vectorized\n",
    "os.chdir(d['curr'])"
   ]
  },
  {
   "cell_type": "markdown",
   "id": "e3a6fdb6-341e-485b-9b39-d2fb0aeb8539",
   "metadata": {},
   "source": [
    "*Default plotting settings:*"
   ]
  },
  {
   "cell_type": "code",
   "execution_count": 2,
   "id": "12b8066e-3c01-4f33-8046-6fb164a698a1",
   "metadata": {
    "tags": []
   },
   "outputs": [],
   "source": [
    "import matplotlib as mpl, matplotlib.pyplot as plt, seaborn\n",
    "from matplotlib import cm\n",
    "from matplotlib.ticker import LinearLocator\n",
    "%matplotlib inline\n",
    "matplotlibVersion = version('matplotlib').split('.')\n",
    "if (int(matplotlibVersion[1])>5) & (int(matplotlibVersion[0]) == 3):\n",
    "    plt.style.use('seaborn-v0_8-whitegrid')\n",
    "    mpl.style.use('seaborn-v0_8')\n",
    "else:\n",
    "    plt.style.use('seaborn-whitegrid')\n",
    "    mpl.style.use('seaborn')\n",
    "plt.rcParams['font.family'] = 'Palatino Linotype'\n",
    "prop_cycle = plt.rcParams[\"axes.prop_cycle\"]\n",
    "colors = prop_cycle.by_key()[\"color\"]\n",
    "long_colors = ['#1f78b4','#a6cee3','#b2df8a','#33a02c','#fb9a99','#e31a1c','#fdbf6f','#ff7f00','#cab2d6','#6a3d9a','#ffff99','#b15928']"
   ]
  }
 ],
 "metadata": {
  "kernelspec": {
   "display_name": "Python 3 (ipykernel)",
   "language": "python",
   "name": "python3"
  },
  "language_info": {
   "codemirror_mode": {
    "name": "ipython",
    "version": 3
   },
   "file_extension": ".py",
   "mimetype": "text/x-python",
   "name": "python",
   "nbconvert_exporter": "python",
   "pygments_lexer": "ipython3",
   "version": "3.11.4"
  }
 },
 "nbformat": 4,
 "nbformat_minor": 5
}
