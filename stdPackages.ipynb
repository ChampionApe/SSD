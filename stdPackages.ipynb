{
 "cells": [
  {
   "cell_type": "code",
   "execution_count": 1,
   "id": "7100ad9b-d82c-4d6e-87ce-811108cd87d1",
   "metadata": {},
   "outputs": [],
   "source": [
    "import os, pandas as pd, numpy as np, scipy, seaborn\n",
    "from importlib.metadata import version\n",
    "from pyDbs import CombinePds\n",
    "_repo = 'SSD'\n",
    "d = {'main': os.path.join(os.getcwd().split(_repo,1)[0],_repo),\n",
    "     'curr': os.getcwd()}\n",
    "d.update({'py': os.path.join(d['main'], 'py'),\n",
    "          'data': os.path.join(d['main'], 'Data'),\n",
    "          'figs': os.path.join(d['main'], 'Figs')})\n",
    "os.chdir(d['py'])\n",
    "import base, vectorized\n",
    "os.chdir(d['curr'])"
   ]
  },
  {
   "cell_type": "markdown",
   "id": "e3a6fdb6-341e-485b-9b39-d2fb0aeb8539",
   "metadata": {},
   "source": [
    "*Default plotting settings:*"
   ]
  },
  {
   "cell_type": "code",
   "execution_count": 3,
   "id": "12b8066e-3c01-4f33-8046-6fb164a698a1",
   "metadata": {
    "tags": []
   },
   "outputs": [],
   "source": [
    "import matplotlib as mpl, matplotlib.pyplot as plt, matplotlib.colors as mcolors, seaborn\n",
    "from matplotlib import cm\n",
    "from matplotlib.ticker import LinearLocator\n",
    "%matplotlib inline\n",
    "matplotlibVersion = version('matplotlib').split('.')\n",
    "if (int(matplotlibVersion[1])>5) & (int(matplotlibVersion[0]) == 3):\n",
    "    plt.style.use('seaborn-v0_8-whitegrid')\n",
    "    mpl.style.use('seaborn-v0_8')\n",
    "else:\n",
    "    plt.style.use('seaborn-whitegrid')\n",
    "    mpl.style.use('seaborn')\n",
    "plt.rcParams['font.family'] = 'Palatino Linotype'\n",
    "prop_cycle = plt.rcParams[\"axes.prop_cycle\"]\n",
    "colors = prop_cycle.by_key()[\"color\"]\n",
    "long_colors = ['#1f78b4','#a6cee3','#b2df8a','#33a02c','#fb9a99','#e31a1c','#fdbf6f','#ff7f00','#cab2d6','#6a3d9a','#ffff99','#b15928']"
   ]
  },
  {
   "cell_type": "markdown",
   "id": "8f590227-9880-4c68-87c2-575948e77588",
   "metadata": {},
   "source": [
    "*Add methods for adjusting colormaps:*"
   ]
  },
  {
   "cell_type": "code",
   "execution_count": 4,
   "id": "ca34588f-9531-4ffe-af35-64c4e094d306",
   "metadata": {},
   "outputs": [],
   "source": [
    "def add_alpha_to_colormap(cmap, alpha=0.5):\n",
    "    colors = cmap(np.arange(cmap.N))    \n",
    "    # Add alpha to the RGB array\n",
    "    RGBA = np.hstack([colors[:, :3], np.full((cmap.N, 1), alpha)])\n",
    "    # Create new colormap\n",
    "    new_cmap = mcolors.ListedColormap(RGBA)\n",
    "    return new_cmap"
   ]
  },
  {
   "cell_type": "code",
   "execution_count": null,
   "id": "036934c7-bf55-48ee-88c4-9b25657eb2a1",
   "metadata": {},
   "outputs": [],
   "source": [
    "def dfAx(ax, max_ = 1, min_ = 0, ylabel = None):\n",
    "    limx, limy = ax.get_xlim(), ax.get_ylim();\n",
    "    ax.hlines(0,limx[0],limx[1],colors='k',linewidth=1, alpha = .5)\n",
    "    ax.set_xlim(limx);\n",
    "    if ylabel:\n",
    "        ax.set_ylabel(ylabel);\n",
    "    ax.set_ylim([min(limy[0], min_-.001), max(max_, limy[1])]);\n",
    "    return ax"
   ]
  },
  {
   "cell_type": "markdown",
   "id": "2e232f64-83a6-416b-9b10-874257dc0693",
   "metadata": {},
   "source": [
    "Some standard settings for plots:"
   ]
  },
  {
   "cell_type": "code",
   "execution_count": null,
   "id": "e5ec8858-99c8-4046-bada-4ac88abfb645",
   "metadata": {},
   "outputs": [],
   "source": [
    "def largeFont():\n",
    "    SMALL_SIZE = 24\n",
    "    MEDIUM_SIZE = 28\n",
    "    BIGGER_SIZE = 32\n",
    "    plt.rc('font', size=SMALL_SIZE)          # controls default text sizes\n",
    "    plt.rc('axes', titlesize=BIGGER_SIZE)     # fontsize of the axes title\n",
    "    plt.rc('axes', labelsize=MEDIUM_SIZE)    # fontsize of the x and y labels\n",
    "    plt.rc('xtick', labelsize=SMALL_SIZE)    # fontsize of the tick labels\n",
    "    plt.rc('ytick', labelsize=SMALL_SIZE)    # fontsize of the tick labels\n",
    "    plt.rc('legend', fontsize=SMALL_SIZE)    # legend fontsize\n",
    "    plt.rc('figure', titlesize=BIGGER_SIZE)  # fontsize of the figure title\n",
    "def one_graph():\n",
    "    SMALL_SIZE = 19\n",
    "    MEDIUM_SIZE = 22\n",
    "    BIGGER_SIZE = 25\n",
    "    plt.rc('font', size=SMALL_SIZE)          # controls default text sizes\n",
    "    plt.rc('axes', titlesize=BIGGER_SIZE)     # fontsize of the axes title\n",
    "    plt.rc('axes', labelsize=MEDIUM_SIZE)    # fontsize of the x and y labels\n",
    "    plt.rc('xtick', labelsize=SMALL_SIZE)    # fontsize of the tick labels\n",
    "    plt.rc('ytick', labelsize=SMALL_SIZE)    # fontsize of the tick labels\n",
    "    plt.rc('legend', fontsize=SMALL_SIZE)    # legend fontsize\n",
    "    plt.rc('figure', titlesize=BIGGER_SIZE)  # fontsize of the figure title\n",
    "def mult_graphs():\n",
    "    SMALL_SIZE = 16\n",
    "    MEDIUM_SIZE = 19\n",
    "    BIGGER_SIZE = 22\n",
    "    plt.rc('font', size=SMALL_SIZE)          # controls default text sizes\n",
    "    plt.rc('axes', titlesize=BIGGER_SIZE)     # fontsize of the axes title\n",
    "    plt.rc('axes', labelsize=MEDIUM_SIZE)    # fontsize of the x and y labels\n",
    "    plt.rc('xtick', labelsize=SMALL_SIZE)    # fontsize of the tick labels\n",
    "    plt.rc('ytick', labelsize=SMALL_SIZE)    # fontsize of the tick labels\n",
    "    plt.rc('legend', fontsize=SMALL_SIZE)    # legend fontsize\n",
    "    plt.rc('figure', titlesize=BIGGER_SIZE)  # fontsize of the figure title    "
   ]
  }
 ],
 "metadata": {
  "kernelspec": {
   "display_name": "Python 3 (ipykernel)",
   "language": "python",
   "name": "python3"
  },
  "language_info": {
   "codemirror_mode": {
    "name": "ipython",
    "version": 3
   },
   "file_extension": ".py",
   "mimetype": "text/x-python",
   "name": "python",
   "nbconvert_exporter": "python",
   "pygments_lexer": "ipython3",
   "version": "3.11.4"
  }
 },
 "nbformat": 4,
 "nbformat_minor": 5
}
