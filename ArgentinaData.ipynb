{
 "cells": [
  {
   "cell_type": "code",
   "execution_count": 1,
   "id": "8c236b31-affe-4d9d-b052-93fd12b9df59",
   "metadata": {},
   "outputs": [],
   "source": [
    "try:\n",
    "    t0date\n",
    "except NameError:\n",
    "    %run stdPackages.ipynb\n",
    "    t0date = 2010\n",
    "    ngrid = 25\n",
    "    ns0 = 10\n",
    "    t_ss  = 5 # number of periods in steady state"
   ]
  },
  {
   "cell_type": "markdown",
   "id": "ca5204b4-74f2-4030-952d-bdeb6eb5410a",
   "metadata": {},
   "source": [
    "*Raw data for Argentina, 2010:*"
   ]
  },
  {
   "cell_type": "code",
   "execution_count": 2,
   "id": "6dbe7644-195e-41d7-ac2d-80f1ece07739",
   "metadata": {},
   "outputs": [],
   "source": [
    "datesLog = pd.Index([1950, 1980, 2010, 2040, 2070, 2100], name = 't')\n",
    "νLog = np.array([1.497025777, 1.365562914, 1.20756547, 1.110843373, 1.072547602, 1.0725])\n",
    "TLog = len(datesLog)\n",
    "hours = np.array([0.634166667, 0.634166667, 0.696666667, 0.726666667, 0.778333333]) # first entry is informal type\n",
    "income = np.array([0.308901612, 0.470396306, 0.72880384, 0.9977922, 1.898184893]) # first entry is informal type\n",
    "# hours = np.array([38.6, 41.8, 43.4, 46.8]) # weekly hours, working households\n",
    "# income= np.array([618.6, 945.5, 1278.6, 2341.6]) # income levels, working households\n",
    "gridkwargs = {'sgridExp': 2}\n",
    "dates = datesLog.union(pd.Index([datesLog[-1]+30*i for i in range(1, t_ss+1)]))\n",
    "kwargs = {'T': TLog+t_ss, 'nj': len(hours), 'ngrid': ngrid, 'ns0': ns0}\n",
    "pars   = {'α': 0.43, 'ξ': 0.35, 'χ': 1, 'ρ': 1.01, 'ω': 1.5, \n",
    "          'ν': np.hstack([νLog, np.full(kwargs['T']-TLog, νLog[-1])])}\n",
    "targs  = {'τ0': 0.142, 's0': 0.184, 'RR0': 0.678/0.803, 't0': dates.get_loc(t0date), 'RRGroups': (1,3)}\n",
    "parsj  = {'γj': np.hstack([0.32, np.full(kwargs['nj']-1, 1/(kwargs['nj']-1))]), # gamma0 = 0.32, the other three equal sizes\n",
    "          'μj': np.hstack([1, np.ones(kwargs['nj']-1)]),\n",
    "          'zxj': hours/hours.mean(),\n",
    "          'zηj': income/income.mean(),\n",
    "          'β' : .5}"
   ]
  },
  {
   "cell_type": "markdown",
   "id": "5a434257-a669-414c-a0e9-bc480feb71ba",
   "metadata": {},
   "source": [
    "Init:"
   ]
  },
  {
   "cell_type": "code",
   "execution_count": 3,
   "id": "8eca12d2-a41f-4297-b809-6b468fceb228",
   "metadata": {},
   "outputs": [],
   "source": [
    "m = argentina_main.Model(pars = targs | pars | parsj, gridkwargs = gridkwargs, **kwargs)"
   ]
  },
  {
   "cell_type": "markdown",
   "id": "acdd9681-455b-47b4-ae30-84b7ddb7c7ee",
   "metadata": {},
   "source": [
    "## **Test base classes:**"
   ]
  },
  {
   "cell_type": "code",
   "execution_count": 4,
   "id": "668f4c4c-fbbc-45d6-96f0-c1fa5f8f5890",
   "metadata": {},
   "outputs": [],
   "source": [
    "# from argentina_base import *\n",
    "# t = 0\n",
    "# b = {'scalar': BaseScalar(m, t), 'time': BaseTime(m), 'grid': BaseGrid(m,t)}"
   ]
  },
  {
   "cell_type": "markdown",
   "id": "43d3b114-525a-43e2-a363-2f668f86a5d7",
   "metadata": {},
   "source": [
    "Test functions with specific $t$ and without: "
   ]
  },
  {
   "cell_type": "markdown",
   "id": "c105fdc6-bb15-4a92-8624-8ae9b790fe51",
   "metadata": {},
   "source": [
    "Conventions:\n",
    "* We always model heterogeneity in the *second* dimension of arrays. If there is only one dimension (e.g. if we are \"slicing\" on time, this is the).\n",
    "* For most functions, we should be able to evalute them with\n",
    "    1. scalar values (e.g. of $\\tau_t$), (\n",
    "    2. the tax/other relevant variables defined as 1d grids, and\n",
    "    3. with tax/other relevant variables defined over time.\n",
    "\n",
    "  If the three warrants different implementations, we leave the syntax ```x_tVec``` for the case where variables are vectors over time, ```x_grid``` for variables over grids, and ```x_scalar``` if scalar requires a separate implementation. We then finally let ```x``` denote the method that returns one of the three depending on the type of input.\n",
    "* Base model versions assumes (1) informal wages are proportional to formal wages *absent* taxes, (2) informal households can save. Separate versions can implement \"analytical model\" and log case (instead of CRRA)."
   ]
  },
  {
   "cell_type": "code",
   "execution_count": 5,
   "id": "baaeb948-3544-4001-bd13-65c6fc84a007",
   "metadata": {},
   "outputs": [],
   "source": [
    "# test = {'scalar': \n",
    "#             {'τ': 0.5, 'Bi': np.full(m.ni, .5), 's_': 0.5, 'h': 0.5, 'ν': .5, 'Γs' : .5, 'B0': .5, 'Θs': .5},\n",
    "#         'time':\n",
    "#             {'τ': np.linspace(0,1,m.T), 'Bi': np.full((m.T, m.ni), .5), 's_': np.linspace(0.1,1,m.T), 'h': np.linspace(0.1, 1, m.T), 'ν': m.db['ν'].values, 'Γs': np.full(m.T, .5), 'B0': np.full(m.T, .5),\n",
    "#             'Θs': np.full(m.T, .5)},\n",
    "#         'grid': \n",
    "#             {'τ': np.linspace(0,1,m.ngrid), 'Bi': np.full((m.ngrid, m.ni), 0.5), 's_': np.linspace(0.1,1, m.ngrid), 'h': np.linspace(0.1, 1, m.ngrid), 'ν': m.db['ν'][0], 'Γs': np.full(m.ngrid, .5), 'B0': np.full(m.ngrid, .5),\n",
    "#             'Θs': np.full(m.ngrid, .5)}\n",
    "#        }"
   ]
  },
  {
   "cell_type": "markdown",
   "id": "d13a4767-a668-400f-91ee-e19b6e222300",
   "metadata": {},
   "source": [
    "### 0. Auxiliary methods:"
   ]
  },
  {
   "cell_type": "markdown",
   "id": "fcf16df5-dfd1-47eb-8c9a-ab1033dc2c13",
   "metadata": {},
   "source": [
    "*Scalars:*"
   ]
  },
  {
   "cell_type": "code",
   "execution_count": 6,
   "id": "a8abf0c4-8df3-44aa-840f-d730869057b0",
   "metadata": {},
   "outputs": [],
   "source": [
    "# t = 0\n",
    "# dtype = 'scalar'\n",
    "# [b[dtype].auxΓB1(test[dtype]['Bi'], t), b[dtype].auxΓB2(test[dtype]['Bi'],t), b[dtype].auxΓB3(test[dtype]['Bi'],t), b[dtype].auxΓB4(test[dtype]['Bi'],t)]"
   ]
  },
  {
   "cell_type": "markdown",
   "id": "fe1be65a-fd4b-4e54-9a94-f9e121bd7d9c",
   "metadata": {},
   "source": [
    "*Def over t:*"
   ]
  },
  {
   "cell_type": "code",
   "execution_count": 7,
   "id": "720840a8-4316-4b8e-bcf8-3dadc4a70c24",
   "metadata": {},
   "outputs": [],
   "source": [
    "# t = 0\n",
    "# dtype = 'time'\n",
    "# [b[dtype].auxΓB1(test[dtype]['Bi'], t).shape, b[dtype].auxΓB2(test[dtype]['Bi'],t).shape, b[dtype].auxΓB3(test[dtype]['Bi'],t).shape, b[dtype].auxΓB4(test[dtype]['Bi'],t).shape]"
   ]
  },
  {
   "cell_type": "markdown",
   "id": "bcf5e9b7-65e1-46ae-97b2-457ac10a4acb",
   "metadata": {},
   "source": [
    "*Def over grids:*"
   ]
  },
  {
   "cell_type": "code",
   "execution_count": 8,
   "id": "768eb731-793f-4682-bea1-685cf84172e9",
   "metadata": {},
   "outputs": [],
   "source": [
    "# t = 0\n",
    "# dtype = 'grid'\n",
    "# [b[dtype].auxΓB1(test[dtype]['Bi'], t).shape, b[dtype].auxΓB2(test[dtype]['Bi'],t).shape, b[dtype].auxΓB3(test[dtype]['Bi'],t).shape, b[dtype].auxΓB4(test[dtype]['Bi'],t).shape]"
   ]
  },
  {
   "cell_type": "markdown",
   "id": "f4ba1732-365a-409c-90c6-06b0fc181e2b",
   "metadata": {},
   "source": [
    "### 1. Simpel defs:"
   ]
  },
  {
   "cell_type": "markdown",
   "id": "68e72d15-a523-4e78-b1af-6fd3d646d7bb",
   "metadata": {},
   "source": [
    "*Scalars:*"
   ]
  },
  {
   "cell_type": "code",
   "execution_count": 9,
   "id": "43ad14af-07ac-4ebb-acba-bb68c022a86c",
   "metadata": {},
   "outputs": [],
   "source": [
    "# t = 0\n",
    "# dtype = 'scalar'\n",
    "# d = test[dtype]\n",
    "# [b[dtype].R(d['s_'], d['h'], t), \n",
    "#  b[dtype].Bi(d['s_'], d['h']), \n",
    "#  b[dtype].B0(d['s_'], d['h']),\n",
    "#  b[dtype].Γs(Bi = d['Bi'], τp = d['τ']), \n",
    "#  b[dtype].si_s(Bi = d['Bi'], Γs = d['Γs'], τp = d['τ'], t =t),\n",
    "#  b[dtype].s0_s(B0 = d['B0'], Θs = d['Θs'], τp = d['τ'], t = t)]"
   ]
  },
  {
   "cell_type": "code",
   "execution_count": 10,
   "id": "6daf1984-2331-413a-ac8a-11a79e8e5cac",
   "metadata": {},
   "outputs": [],
   "source": [
    "# self = b[dtype]\n",
    "# self.LOG_PEE1i_T(dlnh_Dτ = d['τ'], t = t)"
   ]
  },
  {
   "cell_type": "markdown",
   "id": "f8ac530f-92a8-4504-8ac8-d53027797fd0",
   "metadata": {},
   "source": [
    "*Def over t:*"
   ]
  },
  {
   "cell_type": "code",
   "execution_count": 11,
   "id": "84e529ef-949a-4c8e-8428-a96578237f57",
   "metadata": {},
   "outputs": [],
   "source": [
    "# t = None\n",
    "# dtype = 'time'\n",
    "# d = test[dtype]\n",
    "# [b[dtype].R(d['s_'], d['h'], t).shape, \n",
    "#  b[dtype].Bi(d['s_'], d['h']).shape,\n",
    "#  b[dtype].B0(d['s_'], d['h']).shape,\n",
    "#  b[dtype].Γs(Bi = d['Bi'], τp = d['τ']).shape,\n",
    "#  b[dtype].si_s(Bi = d['Bi'], Γs = d['Γs'], τp = d['τ'], t = t).shape,\n",
    "#  b[dtype].s0_s(B0 = d['B0'], Θs = d['Θs'], τp = d['τ'], t = t).shape]"
   ]
  },
  {
   "cell_type": "markdown",
   "id": "922fb302-fa0c-4c69-ab0d-d5f212496090",
   "metadata": {},
   "source": [
    "*Def over grids:*"
   ]
  },
  {
   "cell_type": "code",
   "execution_count": 12,
   "id": "d11a988c-a0c0-485d-bcbb-7186a1f7dffd",
   "metadata": {},
   "outputs": [],
   "source": [
    "# b[dtype].auxProd(t)[None,:].shape"
   ]
  },
  {
   "cell_type": "code",
   "execution_count": 13,
   "id": "e6ca8480-ec2c-4c5c-8ab6-fdd8a44a31ef",
   "metadata": {
    "scrolled": true
   },
   "outputs": [],
   "source": [
    "# t = 0\n",
    "# dtype = 'grid'\n",
    "# d = test[dtype]\n",
    "# [b[dtype].R(d['s_'], d['h'], t).shape, \n",
    "#  b[dtype].Bi(d['s_'], d['h']).shape,\n",
    "#  b[dtype].B0(d['s_'], d['h']).shape,\n",
    "#  b[dtype].Γs(Bi = d['Bi'], τp = d['τ']).shape,\n",
    "#  b[dtype].si_s(Bi = d['Bi'], Γs = d['Γs'], τp = d['τ'], t = t).shape,\n",
    "#  b[dtype].s0_s(B0 = d['B0'], Θs = d['Θs'], τp = d['τ'], t = t).shape]"
   ]
  },
  {
   "cell_type": "code",
   "execution_count": 14,
   "id": "c5263a4c-dfe2-4c63-a389-7025370b7365",
   "metadata": {},
   "outputs": [],
   "source": [
    "# self = b[dtype]\n",
    "# self.LOG_PEE1i_T(dlnh_Dτ = d['τ'], t = t)"
   ]
  }
 ],
 "metadata": {
  "kernelspec": {
   "display_name": "Python 3 (ipykernel)",
   "language": "python",
   "name": "python3"
  },
  "language_info": {
   "codemirror_mode": {
    "name": "ipython",
    "version": 3
   },
   "file_extension": ".py",
   "mimetype": "text/x-python",
   "name": "python",
   "nbconvert_exporter": "python",
   "pygments_lexer": "ipython3",
   "version": "3.12.4"
  }
 },
 "nbformat": 4,
 "nbformat_minor": 5
}
