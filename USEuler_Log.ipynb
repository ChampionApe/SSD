{
 "cells": [
  {
   "cell_type": "code",
   "execution_count": 1,
   "id": "ef4c37d2-9f97-44af-a89f-6bc734c2edc4",
   "metadata": {},
   "outputs": [],
   "source": [
    "%run stdPackages.ipynb\n",
    "os.chdir(d['py'])\n",
    "import US_EulerModel_main, US_EulerModel_c, US_EulerModel_policy\n",
    "os.chdir(d['curr'])"
   ]
  },
  {
   "cell_type": "markdown",
   "id": "8d549dd2-ac74-4b58-bf80-ad74ef232280",
   "metadata": {
    "tags": []
   },
   "source": [
    "## US FH:"
   ]
  },
  {
   "cell_type": "markdown",
   "id": "dae2422e-f079-48ee-b75b-6ac5eec492e8",
   "metadata": {},
   "source": [
    "Define data and parameters:"
   ]
  },
  {
   "cell_type": "code",
   "execution_count": 2,
   "id": "159c91c3-f577-4532-9601-bffe95c7476f",
   "metadata": {
    "jupyter": {
     "source_hidden": true
    },
    "tags": []
   },
   "outputs": [],
   "source": [
    "dates_log = pd.Index([1950, 1980, 2010, 2040, 2070, 2100], name = 't')\n",
    "ν_log = np.array([1.504840069, 1.394563144, 1.178137696, 1.055068673, 1.018706685, 1.018706685])\n",
    "T_log = len(ν_log)\n",
    "T = T_log+5\n",
    "dates = dates_log.union(pd.Index([dates_log[-1]+30*i for i in range(1,T-T_log+1)]))\n",
    "ν = np.hstack([ν_log, np.full(T-T_log, ν_log[-1])])\n",
    "A = np.ones(T) # normalize exog. productivity at 1 \n",
    "t0date = 2010 # calibration date\n",
    "t0 = dates.get_loc(t0date) # index for year of calibration \n",
    "\n",
    "\n",
    "# \"Simple\" calibration:\n",
    "α = .281 # capital income share\n",
    "\n",
    "# Household types:\n",
    "γi  = np.array([.056, 0.449, 0.307, 0.188])\n",
    "ni = len(γi)\n",
    "hours = np.array([1415.38, 2114.79, 2315.83, 2458.91]) # hours\n",
    "wagerates = np.array([6.914, 14.88, 27.32, 62.26]) # wages\n",
    "income = hours*wagerates\n",
    "zxi = hours/hours.mean()\n",
    "zηi = income/income.mean()\n",
    "pi = np.array([0.385, 0.55, 0.652, 0.74])\n",
    "μi = np.array([0.362, 0.526, 0.684, 0.756]) # voter turnout \n",
    "\n",
    "\n",
    "# other targets:\n",
    "τ0 = .158 # target labor tax rate\n",
    "RR = 39.4/50.1 # replacement rate\n",
    "universalShare = 3.4/15.8 # share of ss going to universal\n",
    "R0 = 2.443 \n",
    "\n",
    "\n",
    "# Initial/baseline values:\n",
    "ξ0 = .5\n",
    "ρ0 = 2\n",
    "ω0 = 1.5\n",
    "# βj = np.ones(ni+1)"
   ]
  },
  {
   "cell_type": "markdown",
   "id": "0fa0e23a-653a-4f51-a707-01d0ced45a0f",
   "metadata": {},
   "source": [
    "Package them in kwargs:"
   ]
  },
  {
   "cell_type": "code",
   "execution_count": 3,
   "id": "2e05cb57-bc41-45db-bce1-6d42da735122",
   "metadata": {
    "tags": []
   },
   "outputs": [],
   "source": [
    "kwargs = {'α': α, 'A': A, 'ν': ν, 'γi': γi, 'zxi': zxi, 'zηi': zηi, 'pi': pi, 'μi': μi, 'τ0': τ0, 'RR0': RR, 'UShare0': universalShare, 'R0': R0, 'ξ': ξ0, 'ρ': ρ0, 'ω': ω0}"
   ]
  },
  {
   "cell_type": "markdown",
   "id": "20830533-882f-4a37-9517-447a256c9357",
   "metadata": {},
   "source": [
    "Initialize model:"
   ]
  },
  {
   "cell_type": "code",
   "execution_count": 4,
   "id": "e2eba312-37f3-495b-8aa5-e0264d90c31f",
   "metadata": {
    "tags": []
   },
   "outputs": [],
   "source": [
    "m = US_EulerModel_main.Model(ni = ni, T = T, ngrid = 50, **kwargs)"
   ]
  },
  {
   "cell_type": "markdown",
   "id": "614e83ea-2274-44be-9cb0-0255988d1da4",
   "metadata": {},
   "source": [
    "## Calibration:"
   ]
  },
  {
   "cell_type": "markdown",
   "id": "64b00c1b-511d-4d8c-a54e-c4fd357f1a5c",
   "metadata": {},
   "source": [
    "It is straightforward to calibrate the model to target interest rates and tax levels. It is, however, more difficult to target the choice of $\\kappa$. Here, we use a golden-rule like search procedure:\n",
    "1. First, we loop through a grid of $\\xi$ values and calibrate to the other targets.\n",
    "2. Based on the difference between target and choice of $\\kappa_{t_0}(\\xi)$, we identify the two nodes on the grid of $\\xi$ where the sign changes (from above to below target level). Between these nodes we add a linear grid of length $n$ (default is zero) *and* add the linearly interpolated level of $\\xi$ that would result in the target $\\kappa$. We then solve again on this grid.\n",
    "3. The procedure in step 2 is carried out until the distance from choice and target of $\\kappa_{t_0}$ is below some specified tolerance."
   ]
  },
  {
   "cell_type": "code",
   "execution_count": 5,
   "id": "f229aa64-03ed-4c90-a7b6-c344230ec480",
   "metadata": {},
   "outputs": [],
   "source": [
    "ξgrid = np.round(np.linspace(ξ0, .1, 51), 3) # create initial grid to solve over"
   ]
  },
  {
   "cell_type": "markdown",
   "id": "0e83ad90-62b6-4488-a12a-d51257762d94",
   "metadata": {},
   "source": [
    "*Return grid of solutions to see how the model changes with $\\xi$:*"
   ]
  },
  {
   "cell_type": "code",
   "execution_count": 6,
   "id": "b2fd6fbc-5912-4db6-8766-d33974b8b2a1",
   "metadata": {},
   "outputs": [],
   "source": [
    "# sols = m.USCal_OnGrid(ξgrid, t0, full_output = True); # the full_output means that 'sol' "
   ]
  },
  {
   "cell_type": "markdown",
   "id": "eb7844ba-0c5d-4703-be55-c36fe63fda3c",
   "metadata": {},
   "source": [
    "*Golden rul search for calibration parameters:*"
   ]
  },
  {
   "cell_type": "code",
   "execution_count": 7,
   "id": "11d7dce2-4a37-4b3a-8e3a-baa168ff4be1",
   "metadata": {},
   "outputs": [],
   "source": [
    "cal = m.USCal_GoldenRule(ξgrid, t0, n = 2, tol = 1e-5, iterMax = 5) "
   ]
  },
  {
   "cell_type": "markdown",
   "id": "5b39fabb-7c11-48f6-81d3-460f8ccfdccb",
   "metadata": {},
   "source": [
    "Use calibration parameters to get baseline run:"
   ]
  },
  {
   "cell_type": "code",
   "execution_count": 8,
   "id": "c4a718e1-d197-49c9-912f-936e67a2b19f",
   "metadata": {},
   "outputs": [],
   "source": [
    "m.db['ξ'] = cal['ξ']\n",
    "m.db['ω'] = cal['ω']\n",
    "m.db['βi'] = m.US_β(cal['β'])\n",
    "sol = m.ESC_log_FH()"
   ]
  }
 ],
 "metadata": {
  "kernelspec": {
   "display_name": "Python 3 (ipykernel)",
   "language": "python",
   "name": "python3"
  },
  "language_info": {
   "codemirror_mode": {
    "name": "ipython",
    "version": 3
   },
   "file_extension": ".py",
   "mimetype": "text/x-python",
   "name": "python",
   "nbconvert_exporter": "python",
   "pygments_lexer": "ipython3",
   "version": "3.11.4"
  }
 },
 "nbformat": 4,
 "nbformat_minor": 5
}
