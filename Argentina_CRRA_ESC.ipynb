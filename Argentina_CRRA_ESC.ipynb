{
 "cells": [
  {
   "cell_type": "code",
   "execution_count": 1,
   "id": "d765bedd-a097-41f0-b40f-ded932e90634",
   "metadata": {},
   "outputs": [],
   "source": [
    "%run stdPackages.ipynb"
   ]
  },
  {
   "cell_type": "markdown",
   "id": "69b3ab45-bed0-41bc-8286-0798fa1ab9a4",
   "metadata": {},
   "source": [
    "# Social Security Design - Argentina"
   ]
  },
  {
   "cell_type": "markdown",
   "id": "d23c79cd-08d1-4cf2-a821-84d9373824d9",
   "metadata": {
    "tags": []
   },
   "source": [
    "## 1. Input data and simple calibrations"
   ]
  },
  {
   "cell_type": "markdown",
   "id": "1a891f6a-af8b-47c8-a613-4da0e8d5d8fd",
   "metadata": {},
   "source": [
    "We assume that we have data on the following:\n",
    "* Worker-to-retiree ratios $\\nu_t$.\n",
    "* Capital income share $\\alpha$.\n",
    "* Frisch elasticity of labor $\\xi$ (individual response to after-tax wages).\n",
    "* Share of retirees that only receive basic pension benefits - here defined as share of hand-to-mouth households ($\\gamma_u$).\n",
    "* Heterogeneity in working households:\n",
    "    1. Relative sizes of household types $\\gamma_i$, such that $\\sum_i = \\gamma_i$.\n",
    "    2. Income distribution across types $z_i^{\\eta}$.\n",
    "    3. Distribution of working hours across types $z_i^{x}$.\n",
    "* The economy wide average savings rate $\\overline{s}_t$.\n",
    "* The ratio of income from $u$-types to the average worker for young ($\\chi_1$) and old ($\\chi_2$).\n",
    "* The pension tax in a given year $\\overline{\\tau}$.\n",
    "* The target for ratios of replacement rates for 1st and 2nd quartiles $RR$."
   ]
  },
  {
   "cell_type": "markdown",
   "id": "926e0dd5-8183-4dde-ac02-aea8b43735da",
   "metadata": {},
   "source": [
    "### 1.1. Fixed data"
   ]
  },
  {
   "cell_type": "code",
   "execution_count": 2,
   "id": "6c7ed5e3-7ede-4bfa-bb5a-a821299a8148",
   "metadata": {},
   "outputs": [],
   "source": [
    "dates_log = pd.Index([1950, 1980, 2010, 2040, 2070, 2100], name = 't')\n",
    "ν_log = np.array([1.497025777, 1.365562914, 1.20756547, 1.110843373, 1.072547602, 1.0725])\n",
    "T_log = len(ν_log) # number of years in data\n",
    "T = T_log+10\n",
    "dates = dates_log.union(pd.Index([dates_log[-1]+30*i for i in range(1,T-T_log+1)]))\n",
    "ν = np.hstack([ν_log, np.full(T-T_log, ν_log[-1])])\n",
    "A = np.ones(T) # normalize exog. productivity at 1 \n",
    "α = .43 # capital income share\n",
    "ξ = .35 # frisch elasticity\n",
    "γ = np.full((4, ), 0.25) # four equally large shares\n",
    "ni = len(γ) # number of types of working households in this case\n",
    "hours = np.array([38.6, 41.8, 43.4, 46.8]) # weekly hours, working households\n",
    "income= np.array([618.6, 945.5, 1278.6, 2341.6]) # income levels, working households\n",
    "zx = hours/hours.mean() # normalized data\n",
    "zη = income/income.mean() # normalized data\n",
    "γu =.32 # share of u households\n",
    "χ1 = 0.3089 # relative income of u-types\n",
    "χ2 = 0.95 * χ1 # relative income of u-types when old - assumed slightly lower\n",
    "τ0 = 0.142 # target level of pension tax\n",
    "s0 = 0.184 # target savings rate\n",
    "t0date = 2010\n",
    "t0 = dates.get_loc(t0date) # index for year of calibration \n",
    "RR = 0.678/0.803 # replacement rate\n",
    "ω = 4\n",
    "ρ = .5\n",
    "ωu = .3\n",
    "ωη = 1"
   ]
  },
  {
   "cell_type": "markdown",
   "id": "6e601039-e113-4951-b8b3-9af42993ff37",
   "metadata": {},
   "source": [
    "### 1.2. Calibration of $\\eta_i, X_i, \\theta$"
   ]
  },
  {
   "cell_type": "markdown",
   "id": "c096de93-928e-4d2f-85fa-5b07183b48ce",
   "metadata": {},
   "source": [
    "1. The vector of $(\\eta_i/X_i)^{\\xi}$ is proportional to eigenvector $\\textbf{y}^x$ - i.e. set $(\\eta_i/X_i)^{\\xi} = y_i^x$.\n",
    "2. The vector of $(\\eta_i^{1+\\xi}/X_i^{\\xi})$ is proportional to the eigenvector $\\textbf{y}^{\\eta}$ - i.e. set $\\eta_i^{1+\\xi}/X_i^{\\xi} = k y_i^{\\eta} $, where $k>0$ is some constant.\n",
    "3. We then have $\\eta_i =k y_i^{\\eta} / y_i^x$ and $(\\eta_i/X_i)^{\\xi} = y_i^x$. Use $k$ to normalize such that \n",
    "$$\\begin{align}\n",
    "    \\sum_i \\gamma_i \\eta_i^{1+\\xi}/X_i^{\\xi} = 1 \\qquad \\Rightarrow \\qquad k = \\dfrac{1}{\\sum_i \\gamma_i y_i^{\\eta}}.\n",
    "\\end{align}$$"
   ]
  },
  {
   "cell_type": "markdown",
   "id": "d49367c4-cd38-4178-9759-4efeb8d7feec",
   "metadata": {},
   "source": [
    "Find eigenvectors:"
   ]
  },
  {
   "cell_type": "code",
   "execution_count": 3,
   "id": "a8b58041-f40b-4375-b013-710257db14db",
   "metadata": {},
   "outputs": [],
   "source": [
    "valx, vecx = scipy.sparse.linalg.eigs(zx.reshape(ni,1) * γ.reshape(1,ni), k=1)\n",
    "valη, vecη = scipy.sparse.linalg.eigs(zη.reshape(ni,1) * γ.reshape(1,ni), k=1)\n",
    "yx, yη = abs(np.real(vecx)).reshape(ni), abs(np.real(vecη)).reshape(ni) # this assumes that all coordinates in eigenvector are either positive or negative; this should be the case"
   ]
  },
  {
   "cell_type": "markdown",
   "id": "2b42a439-d8d1-49a6-bc4a-c209e1971f06",
   "metadata": {},
   "source": [
    "Calibrate parameters:"
   ]
  },
  {
   "cell_type": "code",
   "execution_count": 4,
   "id": "d4ad5254-50b0-4d30-8060-049ca2b123ee",
   "metadata": {},
   "outputs": [],
   "source": [
    "η = yη/(yx*sum(γ*yη))\n",
    "X = η/yx**(1/ξ)"
   ]
  },
  {
   "cell_type": "markdown",
   "id": "4624d738-7e93-41f0-99d5-3ded9d568f6c",
   "metadata": {},
   "source": [
    "Now given parameters that define household heterogeneity, we define $\\theta$ from the relative replacement rates:"
   ]
  },
  {
   "cell_type": "code",
   "execution_count": 5,
   "id": "97b1473c-3542-4423-b608-250d80783182",
   "metadata": {},
   "outputs": [],
   "source": [
    "Q1 = η[0]**(1+ξ)/(X[0]**ξ)\n",
    "Q2 = η[1]**(1+ξ)/(X[1]**ξ)\n",
    "θ = (RR/Q1-1/Q2)/(1-RR+RR/Q1-1/Q2)"
   ]
  },
  {
   "cell_type": "markdown",
   "id": "517cacb7-09af-4c12-9a51-ce8698be6f5e",
   "metadata": {},
   "source": [
    "### 1.3. Initial guesses for yet-to-calibrated parameters"
   ]
  },
  {
   "cell_type": "markdown",
   "id": "0936d22c-cd0a-45bc-be1a-6a58c8203b23",
   "metadata": {},
   "source": [
    "Set uniform $\\beta$ for all types:"
   ]
  },
  {
   "cell_type": "code",
   "execution_count": 6,
   "id": "c9b987ef-8591-4658-81b8-93e5cb96c1d6",
   "metadata": {},
   "outputs": [],
   "source": [
    "β = np.full(ni, fill_value = 1)\n",
    "βu= min(β) # set impatience equal to lowest producticity household. "
   ]
  },
  {
   "cell_type": "markdown",
   "id": "51f0256e-24c1-41f6-a61e-bc678a4a8ac4",
   "metadata": {},
   "source": [
    "Given our guess on $\\beta$, we can define $\\epsilon$ from the built-in function for the Argentina case: "
   ]
  },
  {
   "cell_type": "code",
   "execution_count": 7,
   "id": "f4560a9a-6374-4c4b-86af-72792faccc0b",
   "metadata": {},
   "outputs": [],
   "source": [
    "epsilon = CRRA_ESC.argentinaCalEps(θ, β[0])"
   ]
  },
  {
   "cell_type": "markdown",
   "id": "b25999ff-1e1c-4466-95c0-5e069b5b0c78",
   "metadata": {},
   "source": [
    "## 2. Initialize and solve model"
   ]
  },
  {
   "cell_type": "markdown",
   "id": "899fa2a1-45d9-4831-8ff4-a4ad40689f85",
   "metadata": {},
   "source": [
    "The CRRA model is solved using an iterative algorithm that first identifies the policy function and then simulates forward given an initial level of savings. This requires setting up a grid of the state $s_{t-1}$ to first identify the policy function on. Here, we use a polynomially spaced grid with weights in the lower end, and set the grid boundaries to be from (close to) zero and 2 times the steady state level of savings."
   ]
  },
  {
   "cell_type": "code",
   "execution_count": 8,
   "id": "f63411ef-a2d4-460c-a45e-a184f1998213",
   "metadata": {},
   "outputs": [],
   "source": [
    "ngrid = 500 # number of gridpoints in the savings grid\n",
    "_min = 1e-4 # use as \"small\" number instead of 0\n",
    "exp = 1.5 # nonlinearity in grid, exp>1 increases number of gridpoints in the lower end of the grid"
   ]
  },
  {
   "cell_type": "markdown",
   "id": "eac2469f-4664-4ddb-9080-f50d7bb34541",
   "metadata": {},
   "source": [
    "Bibidibop:"
   ]
  },
  {
   "cell_type": "code",
   "execution_count": 9,
   "id": "211dad00-bafa-47b5-b595-aac8d52922cf",
   "metadata": {},
   "outputs": [],
   "source": [
    "kwargs = {'α': α, 'A': A, 'ν': ν, 'η': η, 'γ': γ, 'X': X, 'β': β, 'βu': βu, 'ξ': ξ, 'epsilon': epsilon, 'θ': θ, 'γu': γu, 'χ1': χ1, 'χ2': χ2, 'ρ': ρ, 'ω': ω, 'ωu': ωu,'ωη': ωη}\n",
    "cm = CRRA_ESC.finiteHorizon(ni = ni, T = T, ngrid = ngrid, **kwargs)\n",
    "lm = logModelESC.infHorizon(ni = ni, T =T, **kwargs)"
   ]
  },
  {
   "cell_type": "markdown",
   "id": "0e4a99b3-d186-4169-8bfd-543ff9c640ad",
   "metadata": {},
   "source": [
    "Grid:"
   ]
  },
  {
   "cell_type": "code",
   "execution_count": 10,
   "id": "25f0cf73-15a1-4ddf-abc2-cc66eb147bc2",
   "metadata": {},
   "outputs": [],
   "source": [
    "sGrid = CRRA_ESC.polGrid(_min,cm.solve_steadyState(0, ν[-1], 0, 0)['s']*1.2 , ngrid, exp)"
   ]
  },
  {
   "cell_type": "markdown",
   "id": "98533b29-8329-47bf-8368-ff2fe0af0eea",
   "metadata": {},
   "source": [
    "Adjust parameters:"
   ]
  },
  {
   "cell_type": "code",
   "execution_count": 11,
   "id": "8f9172af-2509-49f8-a8b4-945864d7065b",
   "metadata": {},
   "outputs": [],
   "source": [
    "cm.db['ω'] = 5\n",
    "cm.db['ωu'] = .3\n",
    "cm.db['ωη'] = 1"
   ]
  },
  {
   "cell_type": "markdown",
   "id": "edf48e0d-7a17-42f7-ae1b-6f91e05f4e30",
   "metadata": {},
   "source": [
    "Calibrate to the Argentina scenario:"
   ]
  },
  {
   "cell_type": "code",
   "execution_count": 1,
   "id": "3e38ecef-3945-41fc-89f4-041a3026c858",
   "metadata": {},
   "outputs": [],
   "source": [
    "# cm.argentinaCalibrate(τ0, s0, t0, sGrid) # calibrate without endogenous political choices.\n",
    "# cm.argentinaCalibrate_preReform(τ0, s0, θ, t0, sGrid) # calibrate with endogenous political choices"
   ]
  }
 ],
 "metadata": {
  "kernelspec": {
   "display_name": "Python 3 (ipykernel)",
   "language": "python",
   "name": "python3"
  },
  "language_info": {
   "codemirror_mode": {
    "name": "ipython",
    "version": 3
   },
   "file_extension": ".py",
   "mimetype": "text/x-python",
   "name": "python",
   "nbconvert_exporter": "python",
   "pygments_lexer": "ipython3",
   "version": "3.11.4"
  }
 },
 "nbformat": 4,
 "nbformat_minor": 5
}
