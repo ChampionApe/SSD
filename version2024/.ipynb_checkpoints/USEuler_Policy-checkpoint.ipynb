{
 "cells": [
  {
   "cell_type": "code",
   "execution_count": 1,
   "id": "02991b1b-344f-4911-9f03-9fe87063faf3",
   "metadata": {},
   "outputs": [],
   "source": [
    "%run stdPackages.ipynb\n",
    "os.chdir(d['py'])\n",
    "import US_EulerModel_main, US_EulerModel_c, US_EulerModel_policy\n",
    "os.chdir(d['curr'])"
   ]
  },
  {
   "cell_type": "markdown",
   "id": "a82e0f14-ab91-4731-89cb-35c55c3f6972",
   "metadata": {
    "tags": []
   },
   "source": [
    "## US FH:"
   ]
  },
  {
   "cell_type": "markdown",
   "id": "a36c1f5c-210f-45ca-b1d3-7a5d63e321ab",
   "metadata": {},
   "source": [
    "Define data and parameters:"
   ]
  },
  {
   "cell_type": "code",
   "execution_count": 2,
   "id": "1cb304f6-2991-4937-b117-ab6d7eecdca5",
   "metadata": {
    "jupyter": {
     "source_hidden": true
    },
    "tags": []
   },
   "outputs": [],
   "source": [
    "dates_log = pd.Index([1950, 1980, 2010, 2040, 2070, 2100], name = 't')\n",
    "ν_log = np.array([1.504840069, 1.394563144, 1.178137696, 1.055068673, 1.018706685, 1.018706685])\n",
    "T_log = len(ν_log)\n",
    "T = T_log+5\n",
    "dates = dates_log.union(pd.Index([dates_log[-1]+30*i for i in range(1,T-T_log+1)]))\n",
    "ν = np.hstack([ν_log, np.full(T-T_log, ν_log[-1])])\n",
    "A = np.ones(T) # normalize exog. productivity at 1 \n",
    "t0date = 2010 # calibration date\n",
    "t0 = dates.get_loc(t0date) # index for year of calibration \n",
    "\n",
    "\n",
    "# \"Simple\" calibration:\n",
    "α = .281 # capital income share\n",
    "\n",
    "# Household types:\n",
    "γi  = np.array([.056, 0.449, 0.307, 0.188])\n",
    "ni = len(γi)\n",
    "hours = np.array([1415.38, 2114.79, 2315.83, 2458.91]) # hours\n",
    "wagerates = np.array([6.914, 14.88, 27.32, 62.26]) # wages\n",
    "income = hours*wagerates\n",
    "zxi = hours/hours.mean()\n",
    "zηi = income/income.mean()\n",
    "pi = np.array([0.385, 0.55, 0.652, 0.74])\n",
    "μi = np.array([0.362, 0.526, 0.684, 0.756]) # voter turnout \n",
    "\n",
    "\n",
    "# other targets:\n",
    "τ0 = .158 # target labor tax rate\n",
    "RR = 39.4/50.1 # replacement rate\n",
    "universalShare = 3.4/15.8 # share of ss going to universal\n",
    "R0 = 2.443 \n",
    "\n",
    "\n",
    "# Initial/baseline values:\n",
    "ξ0 = .1\n",
    "ρ0 = 1.1\n",
    "ω0 = 1.2\n",
    "# βj = np.ones(ni+1)"
   ]
  },
  {
   "cell_type": "markdown",
   "id": "e4503c90-92f7-469b-8938-489343db2302",
   "metadata": {},
   "source": [
    "Package them in kwargs:"
   ]
  },
  {
   "cell_type": "code",
   "execution_count": 3,
   "id": "e88e4f17-3819-4da8-b132-a56d52642f2e",
   "metadata": {
    "tags": []
   },
   "outputs": [],
   "source": [
    "kwargs = {'α': α, 'A': A, 'ν': ν, 'γi': γi, 'zxi': zxi, 'zηi': zηi, 'pi': pi, 'μi': μi, 'τ0': τ0, 'RR0': RR, 'UShare0': universalShare, 'R0': R0, 'ξ': ξ0, 'ρ': ρ0, 'ω': ω0}"
   ]
  },
  {
   "cell_type": "markdown",
   "id": "2d0160b0-0abf-4692-b41c-c5b1fc58fbdc",
   "metadata": {},
   "source": [
    "Initialize model:"
   ]
  },
  {
   "cell_type": "code",
   "execution_count": 4,
   "id": "8bedd1af-388d-4cf6-9119-77eee0bb792c",
   "metadata": {
    "tags": []
   },
   "outputs": [],
   "source": [
    "m = US_EulerModel_main.Model(ni = ni, T = T, ngrid = 50, **kwargs)"
   ]
  },
  {
   "cell_type": "markdown",
   "id": "52df5c1c-1d58-474b-a3a3-12915c22f1c6",
   "metadata": {},
   "source": [
    "## 1. PEE class"
   ]
  },
  {
   "cell_type": "markdown",
   "id": "725f1245-06ea-48bd-8527-42ec7c71fa5a",
   "metadata": {},
   "source": [
    "The ```PEE``` class is used to identify policy functions. \n",
    "* It includes finite horizon methods, steady state methods, and infinite horizon methods (that assumes steady state for the terminal period only). \n",
    "* When identifying the policy functions, we can always identify the policy function in one of the following ways: \n",
    "    1. ```style = 'Vector'```: Optimization (on grid of $s_{t-1}$).\n",
    "    2. ```style = 'ScalarLoop'```: loops through optimization for each node on the grid.\n",
    "    3. ```style = 'GridSearch'```: Creates grid of $\\tau$ (for each node $s_{t-1}$) and chooses the $\\tau$ that minimizes distance to solution.\n",
    "    4. ```style = 'Grid'```: Creates grid of $\\tau$ and interpolates the solution.\n",
    "    5. ```style = 'GridSC```: Creates grid of $\\tau$ and interpolates solution by idenfitying sign changes in the objective function for adjacent nodes.\n",
    "    6. ```style = 'Robust'```: Goes through (1) try vector optimization, (2) if it fails --> use GridSC to get new initial values, (3) retry vector optimization. \n",
    "    7. ```style = 'VeryRobust'```: Goes through ```Robust``` routine and returns the GridSC solution if it fails.\n",
    "\n",
    "* The method ```FH``` returns dict of policy functions (over time). The default intial values can be accessed and adjusted through ```self.x0``` (dict over time), and the default \"solution style\" and other arguments can be passed through a dict (over time) of dicts (kwargs). The default styles are specified in ```self.kwargs_T``` and ```self.kwargs_t```. "
   ]
  },
  {
   "cell_type": "code",
   "execution_count": 5,
   "id": "8ebf244c-eae4-4db8-9281-eea2ba67aca5",
   "metadata": {},
   "outputs": [],
   "source": [
    "pee = US_EulerModel_policy.PEE(m)"
   ]
  },
  {
   "cell_type": "markdown",
   "id": "1650301b-c2f0-4b01-a2bf-8e14a31958d5",
   "metadata": {},
   "source": [
    "*Solve terminal period with various styles:*"
   ]
  },
  {
   "cell_type": "code",
   "execution_count": 6,
   "id": "4f60d4d1-a3bf-4342-8f2d-524b6c712894",
   "metadata": {},
   "outputs": [],
   "source": [
    "t = m.db['t'][-1]\n",
    "κT, νT = m.db['κ'].iloc[-1], ν[-1]\n",
    "sol_T = pee.solve(κT, νT, t = 'T', style = 'Vector', x0 = pee.x0[t])\n",
    "sol_T = pee.solve(κT, νT, t = 'T', style = 'ScalarLoop', x0 = pee.x0[t])\n",
    "sol_T = pee.solve(κT, νT, t = 'T', style = 'GridSearch') \n",
    "sol_T = pee.solve(κT, νT, t = 'T', style = 'GridSC')\n",
    "sol_T = pee.solve(κT, νT, t = 'T', style = 'Grid')\n",
    "sol_T = pee.solve(κT, νT, t = 'T', style = 'Robust')"
   ]
  },
  {
   "cell_type": "markdown",
   "id": "c819c19b-6851-4f49-a151-996722568f41",
   "metadata": {},
   "source": [
    "*Solve T-1 with various styles:*"
   ]
  },
  {
   "cell_type": "code",
   "execution_count": 7,
   "id": "7865cafb-a61a-4a63-a515-9bcd8ec2d610",
   "metadata": {},
   "outputs": [],
   "source": [
    "t = m.db['t'][-2]\n",
    "κt, νt = m.db['κ'].iloc[-2], ν[-2]\n",
    "sol_t = pee.solve(κt, νt, κp = κT, νp = νT, solp = sol_T, style = 'Vector', x0 = pee.x0[t])\n",
    "sol_t = pee.solve(κt, νt, κp = κT, νp = νT, solp = sol_T, style = 'ScalarLoop', x0 = pee.x0[t])\n",
    "sol_t = pee.solve(κt, νt, κp = κT, νp = νT, solp = sol_T, style = 'GridSearch')\n",
    "sol_t = pee.solve(κt, νt, κp = κT, νp = νT, solp = sol_T, style = 'GridSC')\n",
    "sol_t = pee.solve(κt, νt, κp = κT, νp = νT, solp = sol_T, style = 'Grid')\n",
    "sol_t = pee.solve(κt, νt, κp = κT, νp = νT, solp = sol_T, style = 'Robust')"
   ]
  },
  {
   "cell_type": "markdown",
   "id": "a30578dd-a088-4a4e-8076-ad5919d85a59",
   "metadata": {},
   "source": [
    "*Return dict of policy functions using default methods:*"
   ]
  },
  {
   "cell_type": "code",
   "execution_count": 8,
   "id": "b81a3e2a-ff8d-46d9-95ce-c498379c4470",
   "metadata": {},
   "outputs": [],
   "source": [
    "sol = pee.FH()"
   ]
  },
  {
   "cell_type": "markdown",
   "id": "8a97efe9-2f5c-4dc2-a257-9aea0b46a401",
   "metadata": {},
   "source": [
    "*Specify that $T-1$ should be solved with 'Robust' and otherwise standard settings:*"
   ]
  },
  {
   "cell_type": "code",
   "execution_count": 9,
   "id": "892b5566-34f5-4697-8e8c-562ea89be8cf",
   "metadata": {},
   "outputs": [],
   "source": [
    "stdkwargs = pee.FH_kwargs\n",
    "stdkwargs[t] = {'style': 'Robust'}\n",
    "sol = pee.FH(pars = stdkwargs)"
   ]
  },
  {
   "cell_type": "markdown",
   "id": "84e15460-9461-46a1-98ac-5fa4d455d22d",
   "metadata": {},
   "source": [
    "*Adjust the default grid to use in grid searches and test run with this:*"
   ]
  },
  {
   "cell_type": "code",
   "execution_count": 10,
   "id": "449cccdd-36a8-48af-895b-102aecf781f1",
   "metadata": {},
   "outputs": [],
   "source": [
    "pee.grids = pee.nGrids(n = 1001) # the nGrids method takes inputs n, l, u, kl, ku - and relies on default inputs if none are provided. \n",
    "sol = pee.FH(pars = stdkwargs)"
   ]
  },
  {
   "cell_type": "markdown",
   "id": "9a367cdd-1510-4c69-9979-f902085b53ba",
   "metadata": {},
   "source": [
    "## 2. ESC class"
   ]
  },
  {
   "cell_type": "markdown",
   "id": "0f217e35-3e22-4cd4-9d85-dd67e28559c5",
   "metadata": {},
   "source": [
    "*The ESC class is set up in a very similar way. The gridstyle ```GridSC``` applies the search for sign changes sequentially and is thus somewhat slow*"
   ]
  },
  {
   "cell_type": "code",
   "execution_count": 11,
   "id": "8010d7df-068d-4be6-b4df-060044bdfa6c",
   "metadata": {},
   "outputs": [],
   "source": [
    "esc = US_EulerModel_policy.ESC(m)"
   ]
  },
  {
   "cell_type": "markdown",
   "id": "4ea646be-2b5b-4be4-9fe4-7480407eea1d",
   "metadata": {},
   "source": [
    "*Solve terminal period with various styles:*"
   ]
  },
  {
   "cell_type": "code",
   "execution_count": 12,
   "id": "d1e5e41b-1e6a-4594-bbb3-fa60b0a6d669",
   "metadata": {},
   "outputs": [],
   "source": [
    "t = m.db['t'][-1]\n",
    "νT = ν[-1]\n",
    "sol_ESC_T = esc.solve(νT, t = 'T', style = 'Vector', x0 = esc.x0[t])\n",
    "sol_ESC_T = esc.solve(νT, t = 'T', style = 'ScalarLoop', x0 = esc.x0[t])\n",
    "sol_ESC_T = esc.solve(νT, t = 'T', style = 'GridSearch')\n",
    "sol_ESC_T = esc.solve(νT, t = 'T', style = 'GridSC')\n",
    "sol_ESC_T = esc.solve(νT, t = 'T', style = 'Grid')\n",
    "sol_ESC_T = esc.solve(νT, t = 'T', style = 'Robust', x0 = esc.x0[t])"
   ]
  },
  {
   "cell_type": "markdown",
   "id": "2783da76-2164-4efe-a993-c3bd0c0d8dc5",
   "metadata": {},
   "source": [
    "*Solve T-1 with various styles:*"
   ]
  },
  {
   "cell_type": "code",
   "execution_count": 13,
   "id": "b3f439f0-b06d-4e29-8c82-fed1e85ae16f",
   "metadata": {},
   "outputs": [],
   "source": [
    "t = m.db['t'][-2]\n",
    "νt = ν[-2]\n",
    "sol_ESC_t = esc.solve(νt, νp = νT, solp = sol_ESC_T, style = 'Vector', x0 = esc.x0[t])\n",
    "sol_ESC_t = esc.solve(νt, νp = νT, solp = sol_ESC_T, style = 'ScalarLoop', x0 = esc.x0[t])\n",
    "sol_ESC_t = esc.solve(νt, νp = νT, solp = sol_ESC_T, style = 'GridSearch')\n",
    "sol_ESC_t = esc.solve(νt, νp = νT, solp = sol_ESC_T, style = 'GridSC')\n",
    "sol_ESC_t = esc.solve(νt, νp = νT, solp = sol_ESC_T, style = 'Grid')\n",
    "sol_ESC_t = esc.solve(νt, νp = νT, solp = sol_ESC_T, style = 'Robust', x0 = esc.x0[t])"
   ]
  },
  {
   "cell_type": "markdown",
   "id": "17587050-f4f0-4e80-a43f-4c99a3f05e6a",
   "metadata": {},
   "source": [
    "*Return dict of policy functions using default methods:*"
   ]
  },
  {
   "cell_type": "code",
   "execution_count": 14,
   "id": "93863918-cc19-4dae-baf4-66a3fe1ef690",
   "metadata": {},
   "outputs": [],
   "source": [
    "sol = esc.FH()"
   ]
  },
  {
   "cell_type": "markdown",
   "id": "b55ae966-f122-4f9e-9212-8b6735cb1b2a",
   "metadata": {},
   "source": [
    "*Specify that $T-1$ should be solved with 'Robust' and otherwise standard settings:*"
   ]
  },
  {
   "cell_type": "code",
   "execution_count": 15,
   "id": "9d744c7e-0639-4154-8970-7057ac65ba1c",
   "metadata": {},
   "outputs": [],
   "source": [
    "stdkwargs = esc.FH_kwargs\n",
    "stdkwargs[t] = {'style': 'Robust'} # robust requires grid search parameters\n",
    "sol = esc.FH(pars = stdkwargs)"
   ]
  },
  {
   "cell_type": "markdown",
   "id": "53f8dcdb-b573-4294-a74d-ebd649ff65ee",
   "metadata": {},
   "source": [
    "*Adjust grid specification and test-run:*"
   ]
  },
  {
   "cell_type": "code",
   "execution_count": 16,
   "id": "8380d5eb-8842-45d2-bd6d-7914d8b24dcf",
   "metadata": {},
   "outputs": [],
   "source": [
    "esc.grids['τ'] = esc.nGrids('τ', n = 51)\n",
    "sol_ESC_t = esc.solve(νt, νp = νT, solp = sol_ESC_T, style = 'GridSC')"
   ]
  },
  {
   "cell_type": "markdown",
   "id": "d90e8ad2-30f7-4d14-9b6d-1e1c5d16ef30",
   "metadata": {},
   "source": [
    "## 3. LOG class"
   ]
  },
  {
   "cell_type": "markdown",
   "id": "caec8aa1-cade-4c77-9923-2b522e5c235e",
   "metadata": {},
   "source": [
    "The LOG class is somewhat different as it does not produce policy functions, but the PEE paths for policy choices directly (because there are no endogenous states in the political problem). Still, we have included some routines here, as the numerical problem can still be somewhat challenging. Specifically, the ```solve(c, style = 'VeryRobust', **kwargs)``` method needs a choice (```c``` $\\in \\lbrace$'PEE', 'ESC'$\\rbrace$) and the ```style``` then refers to similar choices as the other two classes. So far, we have implemented the following ways of solving this:\n",
    "\n",
    "* ```style = 'Vector'```.\n",
    "* ```style = 'GridSC'```.\n",
    "* ```style = 'Robust'```.\n",
    "* ```style = 'VeryRobust'```.\n"
   ]
  },
  {
   "cell_type": "markdown",
   "id": "1628380a-fed1-4a81-9919-d79e4e3c02d8",
   "metadata": {},
   "source": [
    "Test solution methods:"
   ]
  },
  {
   "cell_type": "code",
   "execution_count": 17,
   "id": "d7dba686-9a79-43b8-8ecc-90ae9da22f98",
   "metadata": {},
   "outputs": [],
   "source": [
    "log = US_EulerModel_policy.LOG(m)"
   ]
  },
  {
   "cell_type": "markdown",
   "id": "a7218e20-118f-4b57-88d3-1d61778dbf39",
   "metadata": {},
   "source": [
    "*PEE test*:"
   ]
  },
  {
   "cell_type": "code",
   "execution_count": 18,
   "id": "1d024553-d0c9-40b5-8fe4-d731957081f1",
   "metadata": {},
   "outputs": [],
   "source": [
    "log.solve('PEE', style = 'Vector');\n",
    "log.solve('PEE', style = 'GridSC');\n",
    "log.solve('PEE', style = 'Robust');\n",
    "log.solve('PEE', style = 'VeryRobust');"
   ]
  },
  {
   "cell_type": "markdown",
   "id": "34aa9154-a766-4d24-b095-066c78a01f80",
   "metadata": {},
   "source": [
    "*ESC test:*"
   ]
  },
  {
   "cell_type": "code",
   "execution_count": 19,
   "id": "763e271d-554f-4b0f-9a5d-efc7117bb66f",
   "metadata": {},
   "outputs": [
    {
     "name": "stdout",
     "output_type": "stream",
     "text": [
      "Couldn't identify ESC in LOG.solveVector_ESC)\n"
     ]
    }
   ],
   "source": [
    "try:\n",
    "    log.solve('ESC', style = 'Vector')\n",
    "except Exception as e:\n",
    "    print(e);\n",
    "log.solve('ESC', style = 'GridSC');\n",
    "log.solve('ESC', style = 'Robust');\n",
    "logSol = log.solve('ESC', style = 'VeryRobust');"
   ]
  },
  {
   "cell_type": "markdown",
   "id": "e71c6ec4-be61-4b75-a009-972a9e9e9ecb",
   "metadata": {},
   "source": [
    "*Adjust initial values:*"
   ]
  },
  {
   "cell_type": "code",
   "execution_count": 20,
   "id": "b8d24397-5af7-4dfa-a900-ced83805c8ae",
   "metadata": {},
   "outputs": [],
   "source": [
    "logSol = log.solve('ESC', style = 'Vector', x0 = logSol) # adjust initial values\n",
    "log.x0['ESC'] = logSol # update default initial values permanently\n",
    "logSol = log.solve('ESC', style = 'Vector')"
   ]
  },
  {
   "cell_type": "markdown",
   "id": "b36c850a-47a0-4142-859f-13b5ab693cf4",
   "metadata": {},
   "source": [
    "*Update grids:*"
   ]
  },
  {
   "cell_type": "code",
   "execution_count": 21,
   "id": "2bc9dbba-ae5b-4e7e-b0ef-2fb26ff5a547",
   "metadata": {},
   "outputs": [
    {
     "data": {
      "text/plain": [
       "array([ 0.0709412 ,  0.08976703,  0.13052307,  0.16445462,  0.17507127,\n",
       "        0.17507127,  0.17507127,  0.17507127,  0.17507127,  0.17507127,\n",
       "        0.21631971, -0.0999    , -0.0999    , -0.0999    , -0.0999    ,\n",
       "       -0.0999    , -0.0999    , -0.0999    , -0.0999    , -0.0999    ,\n",
       "       -0.0999    , -0.0999    ])"
      ]
     },
     "execution_count": 21,
     "metadata": {},
     "output_type": "execute_result"
    }
   ],
   "source": [
    "grids = log.grids | {'τ': log.nGrids('τ', n = 11)} # adjust grid for kappa\n",
    "log.solve('ESC', style = 'GridSC', grids = grids) # adjust grids in gridsearch\n",
    "log.grids = grids # update default grids permanently\n",
    "log.solve('ESC', style = 'GridSC')"
   ]
  }
 ],
 "metadata": {
  "kernelspec": {
   "display_name": "Python 3 (ipykernel)",
   "language": "python",
   "name": "python3"
  },
  "language_info": {
   "codemirror_mode": {
    "name": "ipython",
    "version": 3
   },
   "file_extension": ".py",
   "mimetype": "text/x-python",
   "name": "python",
   "nbconvert_exporter": "python",
   "pygments_lexer": "ipython3",
   "version": "3.12.4"
  }
 },
 "nbformat": 4,
 "nbformat_minor": 5
}
