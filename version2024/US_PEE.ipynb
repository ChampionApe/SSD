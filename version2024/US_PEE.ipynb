{
 "cells": [
  {
   "cell_type": "code",
   "execution_count": 1,
   "id": "5a9bf24c-d969-4974-b804-736456ff843e",
   "metadata": {},
   "outputs": [],
   "source": [
    "%run stdPackages.ipynb\n",
    "os.chdir(d['py'])\n",
    "import US_main, US_c, US_policy\n",
    "os.chdir(d['curr'])"
   ]
  },
  {
   "cell_type": "markdown",
   "id": "84c28fba-c5c8-4c21-8d3f-ccce1529b963",
   "metadata": {},
   "source": [
    "## US FH:"
   ]
  },
  {
   "cell_type": "markdown",
   "id": "a7c8d516-071d-499a-a97c-5c8a784692e0",
   "metadata": {},
   "source": [
    "Define data and parameters:"
   ]
  },
  {
   "cell_type": "code",
   "execution_count": 2,
   "id": "678056cc-2d96-4e76-91ec-61ec78ed0570",
   "metadata": {
    "jupyter": {
     "source_hidden": true
    },
    "tags": []
   },
   "outputs": [],
   "source": [
    "dates_log = pd.Index([1950, 1980, 2010, 2040, 2070, 2100], name = 't')\n",
    "ν_log = np.array([1.504840069, 1.394563144, 1.178137696, 1.055068673, 1.018706685, 1.018706685])\n",
    "T_log = len(ν_log)\n",
    "T = T_log+3\n",
    "dates = dates_log.union(pd.Index([dates_log[-1]+30*i for i in range(1,T-T_log+1)]))\n",
    "ν = np.hstack([ν_log, np.full(T-T_log, ν_log[-1])])\n",
    "A = np.ones(T) # normalize exog. productivity at 1 \n",
    "t0date = 2010 # calibration date\n",
    "t0 = dates.get_loc(t0date) # index for year of calibration \n",
    "\n",
    "\n",
    "# \"Simple\" calibration:\n",
    "α = .281 # capital income share\n",
    "\n",
    "# Household types:\n",
    "γj  = np.array([.056, 0.449, 0.307, 0.188])\n",
    "ni = len(γj)-1\n",
    "hours = np.array([1415.38, 2114.79, 2315.83, 2458.91]) # hours\n",
    "wagerates = np.array([6.914, 14.88, 27.32, 62.26]) # wages\n",
    "income = hours*wagerates\n",
    "zxj = hours/hours[1:].mean()\n",
    "zηj = income/income[1:].mean()\n",
    "pj = np.array([0.385, 0.55, 0.652, 0.74])\n",
    "μj = np.array([0.362, 0.526, 0.684, 0.756]) # voter turnout \n",
    "\n",
    "\n",
    "# other targets:\n",
    "τ0 = .158 # target labor tax rate\n",
    "RR = 39.4/50.1 # replacement rate\n",
    "universalShare = 3.4/15.8 # share of ss going to universal\n",
    "R0 = 2.443 \n",
    "\n",
    "\n",
    "# Initial/baseline values:\n",
    "ξ0 = .1\n",
    "ρ0 = 1.1\n",
    "ω0 = 1.5\n",
    "# βj = np.ones(ni+1)"
   ]
  },
  {
   "cell_type": "markdown",
   "id": "1567c338-0072-4309-bff8-081928685bbf",
   "metadata": {},
   "source": [
    "Package them in kwargs:"
   ]
  },
  {
   "cell_type": "code",
   "execution_count": 3,
   "id": "618fd6cb-4673-4c39-8d7c-afe963aee79e",
   "metadata": {
    "tags": []
   },
   "outputs": [],
   "source": [
    "kwargs = {'α': α, 'A': A, 'ν': ν, 'γj': γj, 'zxj': zxj, 'zηj': zηj, 'pj': pj, 'μj': μj, 'τ0': τ0, 'RR0': RR, 'UShare0': universalShare, 'R0': R0, 'ξ': ξ0, 'ρ': ρ0, 'ω': ω0}"
   ]
  },
  {
   "cell_type": "markdown",
   "id": "99979b57-4fe6-4bbb-8f9c-1ee543e404df",
   "metadata": {},
   "source": [
    "Initialize model:"
   ]
  },
  {
   "cell_type": "code",
   "execution_count": 4,
   "id": "83ce5ebd-a31a-4497-a0cf-3f2b6b7cf2b6",
   "metadata": {
    "tags": []
   },
   "outputs": [],
   "source": [
    "m = US_main.Model(ni = ni, T = T, gridkwargs = {'glob_ns': 50}, **kwargs)"
   ]
  },
  {
   "cell_type": "markdown",
   "id": "01ff9db9-3bc6-4a39-934c-9cc22e6d3fd2",
   "metadata": {},
   "source": [
    "### Calibrate to PEE - vary $\\epsilon, \\theta$"
   ]
  },
  {
   "cell_type": "code",
   "execution_count": 5,
   "id": "e2418e9c-41df-48ed-aee0-14d1abd295c2",
   "metadata": {},
   "outputs": [],
   "source": [
    "m.USCalSimple_PEE_FH(t0);"
   ]
  },
  {
   "cell_type": "markdown",
   "id": "8b231c2e-afb1-4e43-949f-779f029f10a5",
   "metadata": {},
   "source": [
    "Get baseline solution:"
   ]
  },
  {
   "cell_type": "code",
   "execution_count": 6,
   "id": "0dc9243d-a4c2-4730-92fd-c3378dde09b0",
   "metadata": {},
   "outputs": [],
   "source": [
    "sol, pol = m.PEE_FH(returnPols = True)"
   ]
  },
  {
   "cell_type": "markdown",
   "id": "c3c0dad5-8343-41d1-9cdb-7d89ccf29601",
   "metadata": {},
   "source": [
    "Solve on grid of epsilon/theta:"
   ]
  },
  {
   "cell_type": "code",
   "execution_count": 21,
   "id": "cb3ca53c-8d9a-4a2f-a37f-7284ee88cdc2",
   "metadata": {},
   "outputs": [],
   "source": [
    "epsGrid, θGrid = pd.Index(np.round(np.linspace(0, 1, 11), 1), name = 'eps'), pd.Index(np.round(np.linspace(0,1,11),1), name = 'θ')\n",
    "epsθGrid = pd.MultiIndex.from_product([epsGrid, θGrid])"
   ]
  },
  {
   "cell_type": "markdown",
   "id": "ac82165b-9338-40c0-9711-f99a36bcdee2",
   "metadata": {},
   "source": [
    "Solve on grid:"
   ]
  },
  {
   "cell_type": "code",
   "execution_count": 33,
   "id": "e3e056f7-0160-4fe8-aec7-c04dbd57689d",
   "metadata": {},
   "outputs": [],
   "source": [
    "db0 = m.db.copy()\n",
    "solGrid, polGrid = dict.fromkeys(epsθGrid), dict.fromkeys(epsθGrid)"
   ]
  },
  {
   "cell_type": "code",
   "execution_count": 34,
   "id": "8a84b0eb-c0fd-4932-855d-579631f0aa71",
   "metadata": {},
   "outputs": [],
   "source": [
    "for (ϵ,θ) in epsθGrid:\n",
    "    m.db.update(m.initSC(ϵ, 'eps'))\n",
    "    m.db.update(m.initSC(θ, 'θ'))\n",
    "    solGrid[(ϵ,θ)], polGrid[(ϵ,θ)] = m.PEE_FH(returnPols = True)"
   ]
  },
  {
   "cell_type": "markdown",
   "id": "58f6f439-3d01-4aa7-8a5d-c2f886640cc1",
   "metadata": {},
   "source": [
    "For a value of $\\theta$, plot taxes as a function of $\\epsilon$:"
   ]
  },
  {
   "cell_type": "code",
   "execution_count": 60,
   "id": "5e1e8176-f811-47fa-9afb-f76aab763f7b",
   "metadata": {},
   "outputs": [],
   "source": [
    "dfϵ = pd.concat([solGrid[(ϵ, .5)]['τ'] for ϵ in epsGrid], axis = 1)\n",
    "dfθ = pd.concat([solGrid[(.5, θ)]['τ'] for θ in θGrid], axis = 1)"
   ]
  }
 ],
 "metadata": {
  "kernelspec": {
   "display_name": "Python 3 (ipykernel)",
   "language": "python",
   "name": "python3"
  },
  "language_info": {
   "codemirror_mode": {
    "name": "ipython",
    "version": 3
   },
   "file_extension": ".py",
   "mimetype": "text/x-python",
   "name": "python",
   "nbconvert_exporter": "python",
   "pygments_lexer": "ipython3",
   "version": "3.11.4"
  }
 },
 "nbformat": 4,
 "nbformat_minor": 5
}
