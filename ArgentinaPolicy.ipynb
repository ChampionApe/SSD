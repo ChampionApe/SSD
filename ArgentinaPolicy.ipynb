{
 "cells": [
  {
   "cell_type": "code",
   "execution_count": 1,
   "id": "0b0ac231-afcf-448d-b672-3a55fd6d701c",
   "metadata": {},
   "outputs": [],
   "source": [
    "%run stdPackages.ipynb"
   ]
  },
  {
   "cell_type": "markdown",
   "id": "2f689974-e13e-4fb6-9d51-e2d3a4ab0934",
   "metadata": {
    "tags": []
   },
   "source": [
    "# Social Security Design - Argentina"
   ]
  },
  {
   "cell_type": "markdown",
   "id": "9d2d01f3-5bc8-463d-989f-733f80388e96",
   "metadata": {},
   "source": [
    "This loops through different parameter values for $\\rho$, calibrates the model, stores the dictionary of policy functions for each $t$, stores main calibration parameters, and the solution path. We start from the LOG model."
   ]
  },
  {
   "cell_type": "code",
   "execution_count": 2,
   "id": "b08a03e8-80a7-45d5-9bd5-6820537aacdb",
   "metadata": {},
   "outputs": [],
   "source": [
    "# ρLower = np.round(np.linspace(.5, 1, 21), 3) # we need more dense grid when we lower ρ \n",
    "ρLower = np.round(np.linspace(.8, 1, 21), 3) # we need more dense grid when we lower ρ \n",
    "ρUpper = np.round(np.linspace(1, 2, 11), 3)\n",
    "ρgrid = np.hstack([ρLower, ρUpper[1:]])\n",
    "sols = dict.fromkeys(ρgrid)\n",
    "cals = dict.fromkeys(ρgrid)\n",
    "paths = dict.fromkeys(ρgrid)"
   ]
  },
  {
   "cell_type": "markdown",
   "id": "6333bab8-c602-481b-bca9-00cb41e4052d",
   "metadata": {
    "tags": []
   },
   "source": [
    "## 1. Data and settings"
   ]
  },
  {
   "cell_type": "code",
   "execution_count": 3,
   "id": "592a7e93-19b3-45a4-b169-f5dc691f071d",
   "metadata": {},
   "outputs": [],
   "source": [
    "t0date = 2010\n",
    "ngrid = 50\n",
    "ns0 = 25\n",
    "t_ss  = 5 # number of periods in steady state\n",
    "%run ArgentinaData.ipynb"
   ]
  },
  {
   "cell_type": "markdown",
   "id": "5766b6c7-af90-42a8-94f4-365a28064fa4",
   "metadata": {},
   "source": [
    "## 2. LOG model"
   ]
  },
  {
   "cell_type": "markdown",
   "id": "6417dac2-a7b0-4c98-8f82-623b654a81f0",
   "metadata": {},
   "source": [
    "Calibrate, solve policy functions, identify PEE paths:"
   ]
  },
  {
   "cell_type": "code",
   "execution_count": 4,
   "id": "f1afc545-b56c-48ca-9cb8-7580a939c48a",
   "metadata": {},
   "outputs": [],
   "source": [
    "cals[1] = m.calibLOG()\n",
    "sols[1] = m.LOG.FH()\n",
    "paths[1] = m.EE_FH_LOG_solve(sols[1])"
   ]
  },
  {
   "cell_type": "markdown",
   "id": "d6e67696-4a36-4fb0-b9e8-49170b970301",
   "metadata": {},
   "source": [
    "### 3. CRRA model - low intertemporal elasticity"
   ]
  },
  {
   "cell_type": "markdown",
   "id": "4e3efa38-c715-4e04-a7a2-7c181b5780ee",
   "metadata": {},
   "source": [
    "Start by broadcasting LOG solution CRRA state space:"
   ]
  },
  {
   "cell_type": "code",
   "execution_count": 5,
   "id": "943e0897-929f-4b0f-a2c7-73dfb8b1f31b",
   "metadata": {},
   "outputs": [],
   "source": [
    "m.PEE.interpInitialsFromLOG(sols[1], paths[1])\n",
    "m.PEE.kwargs_t['x0_from_solp'] = False # Use x0 instead of solp when iterating over time"
   ]
  },
  {
   "cell_type": "markdown",
   "id": "ef0e6a43-923c-439e-9948-4ed272eaa9af",
   "metadata": {},
   "source": [
    "Loop through values of $\\rho$:"
   ]
  },
  {
   "cell_type": "code",
   "execution_count": 6,
   "id": "6f9bf3c4-9093-47d1-9abf-b3551965e41f",
   "metadata": {},
   "outputs": [
    {
     "name": "stdout",
     "output_type": "stream",
     "text": [
      "1.1\n",
      "1.2\n",
      "1.3\n",
      "1.4\n",
      "1.5\n",
      "1.6\n",
      "1.7\n",
      "1.8\n",
      "1.9\n",
      "2.0\n"
     ]
    }
   ],
   "source": [
    "warnings.simplefilter(action = \"ignore\", category = RuntimeWarning)\n",
    "for ρ in ρgrid[ρgrid>1]:\n",
    "    m.db.update(m.adjPar('ρ', ρ))\n",
    "    cals[ρ] = m.calibPEE()\n",
    "    sols[ρ] = m.PEE.FH()\n",
    "    paths[ρ] = m.EE_FH_PEE_solve(sols[ρ])\n",
    "    print(ρ)"
   ]
  },
  {
   "cell_type": "markdown",
   "id": "249e31ae-631b-45f8-a548-6212c9d6f067",
   "metadata": {},
   "source": [
    "Reset values to LOG. Then loop for lower values:"
   ]
  },
  {
   "cell_type": "code",
   "execution_count": 7,
   "id": "b8bc69a8-8ac5-45a5-8401-0436e2129c66",
   "metadata": {},
   "outputs": [],
   "source": [
    "m.calibUpdateParameters(cals[1])\n",
    "m.PEE.interpInitialsFromLOG(sols[1], paths[1])"
   ]
  },
  {
   "cell_type": "markdown",
   "id": "c848f0ac-78a5-4a31-87b5-ca19ff9d4abb",
   "metadata": {},
   "source": [
    "Loop the other way through the grid:"
   ]
  },
  {
   "cell_type": "code",
   "execution_count": null,
   "id": "1135a142-d06d-4b44-9841-58d2fb901ca9",
   "metadata": {},
   "outputs": [
    {
     "name": "stdout",
     "output_type": "stream",
     "text": [
      "0.99\n",
      "0.98\n",
      "0.97\n",
      "0.96\n",
      "0.95\n",
      "0.94\n",
      "0.93\n",
      "0.92\n",
      "0.91\n",
      "0.9\n",
      "0.89\n"
     ]
    }
   ],
   "source": [
    "for ρ in ρgrid[ρgrid<1][::-1]:\n",
    "    m.db.update(m.adjPar('ρ', ρ))\n",
    "    cals[ρ] = m.calibPEE()\n",
    "    sols[ρ] = m.PEE.FH()\n",
    "    paths[ρ] = m.EE_FH_PEE_solveRobust(sols[ρ])\n",
    "    print(ρ)"
   ]
  },
  {
   "cell_type": "markdown",
   "id": "9c365681-9732-46aa-888a-55bfe026fa79",
   "metadata": {},
   "source": [
    "*1. Start run from previous solution:*"
   ]
  },
  {
   "cell_type": "code",
   "execution_count": 5,
   "id": "a2f55fa8-d482-436c-9b00-e51fbac86908",
   "metadata": {},
   "outputs": [],
   "source": [
    "# with open('argentina_CRRA_x0.pkl', \"rb\") as file:\n",
    "#     sols = pickle.load(file)\n",
    "# m.PEE.x0[m.T-1] = sols[m.T-1]['τ_unbounded']\n",
    "# [m.PEE.x0.__setitem__(t, sols[t]['x_unbounded']) for t in sols if t != m.T-1];"
   ]
  },
  {
   "cell_type": "markdown",
   "id": "bf7a8645-24ff-4cf5-8d66-851d98743d09",
   "metadata": {},
   "source": [
    "*2. Use LOG solution as initial values for the CRRA model:*"
   ]
  },
  {
   "cell_type": "code",
   "execution_count": 6,
   "id": "9a10b16a-3467-4960-bfe2-a9247af278fa",
   "metadata": {},
   "outputs": [],
   "source": [
    "m.PEE.interpInitialsFromLOG(sols_LOG, path_LOG)\n",
    "m.PEE.kwargs_t['x0_from_solp'] = False"
   ]
  },
  {
   "cell_type": "markdown",
   "id": "5253c024-a0cc-491b-80d6-e0353e92971c",
   "metadata": {},
   "source": [
    "*3. Start from small grid and interpolate to get \"large grid\" starting values:*"
   ]
  },
  {
   "cell_type": "code",
   "execution_count": 7,
   "id": "2526421c-90cf-4d16-b9ea-48b5c78f5fc0",
   "metadata": {},
   "outputs": [],
   "source": [
    "# m.PEE_initialsFromSmallGrid(10, 10);"
   ]
  },
  {
   "cell_type": "markdown",
   "id": "b82ba3ab-2638-4b0c-8ae3-fa48610def1f",
   "metadata": {},
   "source": [
    "Test solve:"
   ]
  },
  {
   "cell_type": "code",
   "execution_count": 8,
   "id": "fae4354c-9606-40da-bc35-59b04f490299",
   "metadata": {},
   "outputs": [],
   "source": [
    "sols_PEE = m.PEE.FH()\n",
    "PEE = m.EE_FH_PEE_solveRobust(sols_PEE)"
   ]
  },
  {
   "cell_type": "markdown",
   "id": "4be7db3b-a462-4d84-aa95-776d076e1e5e",
   "metadata": {},
   "source": [
    "*Save as pickle:*"
   ]
  },
  {
   "cell_type": "code",
   "execution_count": 9,
   "id": "8a7454bf-c940-418b-972a-c37ca29ece5c",
   "metadata": {},
   "outputs": [],
   "source": [
    "with open('argentina_CRRA_x0.pkl', \"wb\") as file: \n",
    "    pickle.dump(sols_PEE, file)"
   ]
  },
  {
   "cell_type": "markdown",
   "id": "236d5e5e-58e3-4e1f-854b-804c57eaaa21",
   "metadata": {},
   "source": [
    "Calibration:"
   ]
  },
  {
   "cell_type": "code",
   "execution_count": 10,
   "id": "37c88dd5-3596-4f10-8a2e-ddf0b058f482",
   "metadata": {},
   "outputs": [
    {
     "name": "stderr",
     "output_type": "stream",
     "text": [
      "C:\\Users\\sxj477\\AppData\\Local\\anaconda3\\envs\\SSD\\Lib\\site-packages\\scipy\\optimize\\_nonlin.py:374: RuntimeWarning: invalid value encountered in scalar divide\n",
      "  and dx_norm/self.x_rtol <= x_norm))\n",
      "C:\\Users\\sxj477\\AppData\\Local\\anaconda3\\envs\\SSD\\Lib\\site-packages\\scipy\\optimize\\_nonlin.py:374: RuntimeWarning: invalid value encountered in scalar divide\n",
      "  and dx_norm/self.x_rtol <= x_norm))\n",
      "C:\\Users\\sxj477\\AppData\\Local\\anaconda3\\envs\\SSD\\Lib\\site-packages\\scipy\\optimize\\_nonlin.py:374: RuntimeWarning: invalid value encountered in scalar divide\n",
      "  and dx_norm/self.x_rtol <= x_norm))\n",
      "C:\\Users\\sxj477\\AppData\\Local\\anaconda3\\envs\\SSD\\Lib\\site-packages\\scipy\\optimize\\_nonlin.py:374: RuntimeWarning: invalid value encountered in scalar divide\n",
      "  and dx_norm/self.x_rtol <= x_norm))\n",
      "C:\\Users\\sxj477\\AppData\\Local\\anaconda3\\envs\\SSD\\Lib\\site-packages\\scipy\\optimize\\_nonlin.py:374: RuntimeWarning: invalid value encountered in scalar divide\n",
      "  and dx_norm/self.x_rtol <= x_norm))\n",
      "C:\\Users\\sxj477\\AppData\\Local\\anaconda3\\envs\\SSD\\Lib\\site-packages\\scipy\\optimize\\_nonlin.py:374: RuntimeWarning: invalid value encountered in scalar divide\n",
      "  and dx_norm/self.x_rtol <= x_norm))\n",
      "C:\\Users\\sxj477\\AppData\\Local\\anaconda3\\envs\\SSD\\Lib\\site-packages\\scipy\\optimize\\_nonlin.py:374: RuntimeWarning: invalid value encountered in scalar divide\n",
      "  and dx_norm/self.x_rtol <= x_norm))\n",
      "C:\\Users\\sxj477\\AppData\\Local\\anaconda3\\envs\\SSD\\Lib\\site-packages\\scipy\\optimize\\_nonlin.py:374: RuntimeWarning: invalid value encountered in scalar divide\n",
      "  and dx_norm/self.x_rtol <= x_norm))\n",
      "C:\\Users\\sxj477\\AppData\\Local\\anaconda3\\envs\\SSD\\Lib\\site-packages\\scipy\\optimize\\_nonlin.py:374: RuntimeWarning: invalid value encountered in scalar divide\n",
      "  and dx_norm/self.x_rtol <= x_norm))\n",
      "C:\\Users\\sxj477\\AppData\\Local\\anaconda3\\envs\\SSD\\Lib\\site-packages\\scipy\\optimize\\_nonlin.py:374: RuntimeWarning: invalid value encountered in scalar divide\n",
      "  and dx_norm/self.x_rtol <= x_norm))\n",
      "C:\\Users\\sxj477\\AppData\\Local\\anaconda3\\envs\\SSD\\Lib\\site-packages\\scipy\\optimize\\_nonlin.py:374: RuntimeWarning: invalid value encountered in scalar divide\n",
      "  and dx_norm/self.x_rtol <= x_norm))\n",
      "C:\\Users\\sxj477\\AppData\\Local\\anaconda3\\envs\\SSD\\Lib\\site-packages\\scipy\\optimize\\_nonlin.py:374: RuntimeWarning: invalid value encountered in scalar divide\n",
      "  and dx_norm/self.x_rtol <= x_norm))\n",
      "C:\\Users\\sxj477\\AppData\\Local\\anaconda3\\envs\\SSD\\Lib\\site-packages\\scipy\\optimize\\_nonlin.py:374: RuntimeWarning: invalid value encountered in scalar divide\n",
      "  and dx_norm/self.x_rtol <= x_norm))\n",
      "C:\\Users\\sxj477\\AppData\\Local\\anaconda3\\envs\\SSD\\Lib\\site-packages\\scipy\\optimize\\_nonlin.py:374: RuntimeWarning: invalid value encountered in scalar divide\n",
      "  and dx_norm/self.x_rtol <= x_norm))\n",
      "C:\\Users\\sxj477\\AppData\\Local\\anaconda3\\envs\\SSD\\Lib\\site-packages\\scipy\\optimize\\_nonlin.py:374: RuntimeWarning: invalid value encountered in scalar divide\n",
      "  and dx_norm/self.x_rtol <= x_norm))\n",
      "C:\\Users\\sxj477\\AppData\\Local\\anaconda3\\envs\\SSD\\Lib\\site-packages\\scipy\\optimize\\_nonlin.py:374: RuntimeWarning: invalid value encountered in scalar divide\n",
      "  and dx_norm/self.x_rtol <= x_norm))\n",
      "C:\\Users\\sxj477\\AppData\\Local\\anaconda3\\envs\\SSD\\Lib\\site-packages\\scipy\\optimize\\_nonlin.py:374: RuntimeWarning: invalid value encountered in scalar divide\n",
      "  and dx_norm/self.x_rtol <= x_norm))\n",
      "C:\\Users\\sxj477\\AppData\\Local\\anaconda3\\envs\\SSD\\Lib\\site-packages\\scipy\\optimize\\_nonlin.py:374: RuntimeWarning: invalid value encountered in scalar divide\n",
      "  and dx_norm/self.x_rtol <= x_norm))\n",
      "C:\\Users\\sxj477\\AppData\\Local\\anaconda3\\envs\\SSD\\Lib\\site-packages\\scipy\\optimize\\_nonlin.py:374: RuntimeWarning: invalid value encountered in scalar divide\n",
      "  and dx_norm/self.x_rtol <= x_norm))\n",
      "C:\\Users\\sxj477\\AppData\\Local\\anaconda3\\envs\\SSD\\Lib\\site-packages\\scipy\\optimize\\_nonlin.py:374: RuntimeWarning: invalid value encountered in scalar divide\n",
      "  and dx_norm/self.x_rtol <= x_norm))\n",
      "C:\\Users\\sxj477\\AppData\\Local\\anaconda3\\envs\\SSD\\Lib\\site-packages\\scipy\\optimize\\_nonlin.py:374: RuntimeWarning: invalid value encountered in scalar divide\n",
      "  and dx_norm/self.x_rtol <= x_norm))\n",
      "C:\\Users\\sxj477\\AppData\\Local\\anaconda3\\envs\\SSD\\Lib\\site-packages\\scipy\\optimize\\_nonlin.py:374: RuntimeWarning: invalid value encountered in scalar divide\n",
      "  and dx_norm/self.x_rtol <= x_norm))\n",
      "C:\\Users\\sxj477\\AppData\\Local\\anaconda3\\envs\\SSD\\Lib\\site-packages\\scipy\\optimize\\_nonlin.py:374: RuntimeWarning: invalid value encountered in scalar divide\n",
      "  and dx_norm/self.x_rtol <= x_norm))\n",
      "C:\\Users\\sxj477\\AppData\\Local\\anaconda3\\envs\\SSD\\Lib\\site-packages\\scipy\\optimize\\_nonlin.py:374: RuntimeWarning: invalid value encountered in scalar divide\n",
      "  and dx_norm/self.x_rtol <= x_norm))\n",
      "C:\\Users\\sxj477\\AppData\\Local\\anaconda3\\envs\\SSD\\Lib\\site-packages\\scipy\\optimize\\_nonlin.py:374: RuntimeWarning: invalid value encountered in scalar divide\n",
      "  and dx_norm/self.x_rtol <= x_norm))\n",
      "C:\\Users\\sxj477\\AppData\\Local\\anaconda3\\envs\\SSD\\Lib\\site-packages\\scipy\\optimize\\_nonlin.py:374: RuntimeWarning: invalid value encountered in scalar divide\n",
      "  and dx_norm/self.x_rtol <= x_norm))\n",
      "C:\\Users\\sxj477\\AppData\\Local\\anaconda3\\envs\\SSD\\Lib\\site-packages\\scipy\\optimize\\_nonlin.py:374: RuntimeWarning: invalid value encountered in scalar divide\n",
      "  and dx_norm/self.x_rtol <= x_norm))\n",
      "C:\\Users\\sxj477\\AppData\\Local\\anaconda3\\envs\\SSD\\Lib\\site-packages\\scipy\\optimize\\_nonlin.py:374: RuntimeWarning: invalid value encountered in scalar divide\n",
      "  and dx_norm/self.x_rtol <= x_norm))\n",
      "C:\\Users\\sxj477\\AppData\\Local\\anaconda3\\envs\\SSD\\Lib\\site-packages\\scipy\\optimize\\_nonlin.py:374: RuntimeWarning: invalid value encountered in scalar divide\n",
      "  and dx_norm/self.x_rtol <= x_norm))\n",
      "C:\\Users\\sxj477\\AppData\\Local\\anaconda3\\envs\\SSD\\Lib\\site-packages\\scipy\\optimize\\_nonlin.py:374: RuntimeWarning: invalid value encountered in scalar divide\n",
      "  and dx_norm/self.x_rtol <= x_norm))\n",
      "C:\\Users\\sxj477\\AppData\\Local\\anaconda3\\envs\\SSD\\Lib\\site-packages\\scipy\\optimize\\_nonlin.py:374: RuntimeWarning: invalid value encountered in scalar divide\n",
      "  and dx_norm/self.x_rtol <= x_norm))\n",
      "C:\\Users\\sxj477\\AppData\\Local\\anaconda3\\envs\\SSD\\Lib\\site-packages\\scipy\\optimize\\_nonlin.py:374: RuntimeWarning: invalid value encountered in scalar divide\n",
      "  and dx_norm/self.x_rtol <= x_norm))\n",
      "C:\\Users\\sxj477\\AppData\\Local\\anaconda3\\envs\\SSD\\Lib\\site-packages\\scipy\\optimize\\_nonlin.py:374: RuntimeWarning: invalid value encountered in scalar divide\n",
      "  and dx_norm/self.x_rtol <= x_norm))\n",
      "C:\\Users\\sxj477\\AppData\\Local\\anaconda3\\envs\\SSD\\Lib\\site-packages\\scipy\\optimize\\_nonlin.py:374: RuntimeWarning: invalid value encountered in scalar divide\n",
      "  and dx_norm/self.x_rtol <= x_norm))\n",
      "C:\\Users\\sxj477\\AppData\\Local\\anaconda3\\envs\\SSD\\Lib\\site-packages\\scipy\\optimize\\_nonlin.py:374: RuntimeWarning: invalid value encountered in scalar divide\n",
      "  and dx_norm/self.x_rtol <= x_norm))\n",
      "C:\\Users\\sxj477\\AppData\\Local\\anaconda3\\envs\\SSD\\Lib\\site-packages\\scipy\\optimize\\_nonlin.py:374: RuntimeWarning: invalid value encountered in scalar divide\n",
      "  and dx_norm/self.x_rtol <= x_norm))\n",
      "C:\\Users\\sxj477\\AppData\\Local\\anaconda3\\envs\\SSD\\Lib\\site-packages\\scipy\\optimize\\_nonlin.py:374: RuntimeWarning: invalid value encountered in scalar divide\n",
      "  and dx_norm/self.x_rtol <= x_norm))\n",
      "C:\\Users\\sxj477\\AppData\\Local\\anaconda3\\envs\\SSD\\Lib\\site-packages\\scipy\\optimize\\_nonlin.py:374: RuntimeWarning: invalid value encountered in scalar divide\n",
      "  and dx_norm/self.x_rtol <= x_norm))\n",
      "C:\\Users\\sxj477\\AppData\\Local\\anaconda3\\envs\\SSD\\Lib\\site-packages\\scipy\\optimize\\_nonlin.py:374: RuntimeWarning: invalid value encountered in scalar divide\n",
      "  and dx_norm/self.x_rtol <= x_norm))\n",
      "C:\\Users\\sxj477\\AppData\\Local\\anaconda3\\envs\\SSD\\Lib\\site-packages\\scipy\\optimize\\_nonlin.py:374: RuntimeWarning: invalid value encountered in scalar divide\n",
      "  and dx_norm/self.x_rtol <= x_norm))\n",
      "C:\\Users\\sxj477\\AppData\\Local\\anaconda3\\envs\\SSD\\Lib\\site-packages\\scipy\\optimize\\_nonlin.py:374: RuntimeWarning: invalid value encountered in scalar divide\n",
      "  and dx_norm/self.x_rtol <= x_norm))\n",
      "C:\\Users\\sxj477\\AppData\\Local\\anaconda3\\envs\\SSD\\Lib\\site-packages\\scipy\\optimize\\_nonlin.py:374: RuntimeWarning: invalid value encountered in scalar divide\n",
      "  and dx_norm/self.x_rtol <= x_norm))\n",
      "C:\\Users\\sxj477\\AppData\\Local\\anaconda3\\envs\\SSD\\Lib\\site-packages\\scipy\\optimize\\_nonlin.py:374: RuntimeWarning: invalid value encountered in scalar divide\n",
      "  and dx_norm/self.x_rtol <= x_norm))\n",
      "C:\\Users\\sxj477\\AppData\\Local\\anaconda3\\envs\\SSD\\Lib\\site-packages\\scipy\\optimize\\_nonlin.py:374: RuntimeWarning: invalid value encountered in scalar divide\n",
      "  and dx_norm/self.x_rtol <= x_norm))\n",
      "C:\\Users\\sxj477\\AppData\\Local\\anaconda3\\envs\\SSD\\Lib\\site-packages\\scipy\\optimize\\_nonlin.py:374: RuntimeWarning: invalid value encountered in scalar divide\n",
      "  and dx_norm/self.x_rtol <= x_norm))\n",
      "C:\\Users\\sxj477\\AppData\\Local\\anaconda3\\envs\\SSD\\Lib\\site-packages\\scipy\\optimize\\_nonlin.py:374: RuntimeWarning: invalid value encountered in scalar divide\n",
      "  and dx_norm/self.x_rtol <= x_norm))\n",
      "C:\\Users\\sxj477\\AppData\\Local\\anaconda3\\envs\\SSD\\Lib\\site-packages\\scipy\\optimize\\_nonlin.py:374: RuntimeWarning: invalid value encountered in scalar divide\n",
      "  and dx_norm/self.x_rtol <= x_norm))\n",
      "C:\\Users\\sxj477\\AppData\\Local\\anaconda3\\envs\\SSD\\Lib\\site-packages\\scipy\\optimize\\_nonlin.py:374: RuntimeWarning: invalid value encountered in scalar divide\n",
      "  and dx_norm/self.x_rtol <= x_norm))\n",
      "C:\\Users\\sxj477\\AppData\\Local\\anaconda3\\envs\\SSD\\Lib\\site-packages\\scipy\\optimize\\_nonlin.py:374: RuntimeWarning: invalid value encountered in scalar divide\n",
      "  and dx_norm/self.x_rtol <= x_norm))\n",
      "C:\\Users\\sxj477\\AppData\\Local\\anaconda3\\envs\\SSD\\Lib\\site-packages\\scipy\\optimize\\_nonlin.py:374: RuntimeWarning: invalid value encountered in scalar divide\n",
      "  and dx_norm/self.x_rtol <= x_norm))\n",
      "C:\\Users\\sxj477\\AppData\\Local\\anaconda3\\envs\\SSD\\Lib\\site-packages\\scipy\\optimize\\_nonlin.py:374: RuntimeWarning: invalid value encountered in scalar divide\n",
      "  and dx_norm/self.x_rtol <= x_norm))\n",
      "C:\\Users\\sxj477\\AppData\\Local\\anaconda3\\envs\\SSD\\Lib\\site-packages\\scipy\\optimize\\_nonlin.py:374: RuntimeWarning: invalid value encountered in scalar divide\n",
      "  and dx_norm/self.x_rtol <= x_norm))\n",
      "C:\\Users\\sxj477\\AppData\\Local\\anaconda3\\envs\\SSD\\Lib\\site-packages\\scipy\\optimize\\_nonlin.py:374: RuntimeWarning: invalid value encountered in scalar divide\n",
      "  and dx_norm/self.x_rtol <= x_norm))\n",
      "C:\\Users\\sxj477\\AppData\\Local\\anaconda3\\envs\\SSD\\Lib\\site-packages\\scipy\\optimize\\_nonlin.py:374: RuntimeWarning: invalid value encountered in scalar divide\n",
      "  and dx_norm/self.x_rtol <= x_norm))\n",
      "C:\\Users\\sxj477\\AppData\\Local\\anaconda3\\envs\\SSD\\Lib\\site-packages\\scipy\\optimize\\_nonlin.py:374: RuntimeWarning: invalid value encountered in scalar divide\n",
      "  and dx_norm/self.x_rtol <= x_norm))\n",
      "C:\\Users\\sxj477\\AppData\\Local\\anaconda3\\envs\\SSD\\Lib\\site-packages\\scipy\\optimize\\_nonlin.py:374: RuntimeWarning: invalid value encountered in scalar divide\n",
      "  and dx_norm/self.x_rtol <= x_norm))\n",
      "C:\\Users\\sxj477\\AppData\\Local\\anaconda3\\envs\\SSD\\Lib\\site-packages\\scipy\\optimize\\_nonlin.py:374: RuntimeWarning: invalid value encountered in scalar divide\n",
      "  and dx_norm/self.x_rtol <= x_norm))\n",
      "C:\\Users\\sxj477\\AppData\\Local\\anaconda3\\envs\\SSD\\Lib\\site-packages\\scipy\\optimize\\_nonlin.py:374: RuntimeWarning: invalid value encountered in scalar divide\n",
      "  and dx_norm/self.x_rtol <= x_norm))\n",
      "C:\\Users\\sxj477\\AppData\\Local\\anaconda3\\envs\\SSD\\Lib\\site-packages\\scipy\\optimize\\_nonlin.py:374: RuntimeWarning: invalid value encountered in scalar divide\n",
      "  and dx_norm/self.x_rtol <= x_norm))\n",
      "C:\\Users\\sxj477\\AppData\\Local\\anaconda3\\envs\\SSD\\Lib\\site-packages\\scipy\\optimize\\_nonlin.py:374: RuntimeWarning: invalid value encountered in scalar divide\n",
      "  and dx_norm/self.x_rtol <= x_norm))\n",
      "C:\\Users\\sxj477\\AppData\\Local\\anaconda3\\envs\\SSD\\Lib\\site-packages\\scipy\\optimize\\_nonlin.py:374: RuntimeWarning: invalid value encountered in scalar divide\n",
      "  and dx_norm/self.x_rtol <= x_norm))\n",
      "C:\\Users\\sxj477\\AppData\\Local\\anaconda3\\envs\\SSD\\Lib\\site-packages\\scipy\\optimize\\_nonlin.py:374: RuntimeWarning: invalid value encountered in scalar divide\n",
      "  and dx_norm/self.x_rtol <= x_norm))\n",
      "C:\\Users\\sxj477\\AppData\\Local\\anaconda3\\envs\\SSD\\Lib\\site-packages\\scipy\\optimize\\_nonlin.py:374: RuntimeWarning: invalid value encountered in scalar divide\n",
      "  and dx_norm/self.x_rtol <= x_norm))\n",
      "C:\\Users\\sxj477\\AppData\\Local\\anaconda3\\envs\\SSD\\Lib\\site-packages\\scipy\\optimize\\_nonlin.py:374: RuntimeWarning: invalid value encountered in scalar divide\n",
      "  and dx_norm/self.x_rtol <= x_norm))\n",
      "C:\\Users\\sxj477\\AppData\\Local\\anaconda3\\envs\\SSD\\Lib\\site-packages\\scipy\\optimize\\_nonlin.py:374: RuntimeWarning: invalid value encountered in scalar divide\n",
      "  and dx_norm/self.x_rtol <= x_norm))\n",
      "C:\\Users\\sxj477\\AppData\\Local\\anaconda3\\envs\\SSD\\Lib\\site-packages\\scipy\\optimize\\_nonlin.py:374: RuntimeWarning: invalid value encountered in scalar divide\n",
      "  and dx_norm/self.x_rtol <= x_norm))\n",
      "C:\\Users\\sxj477\\AppData\\Local\\anaconda3\\envs\\SSD\\Lib\\site-packages\\scipy\\optimize\\_nonlin.py:374: RuntimeWarning: invalid value encountered in scalar divide\n",
      "  and dx_norm/self.x_rtol <= x_norm))\n",
      "C:\\Users\\sxj477\\AppData\\Local\\anaconda3\\envs\\SSD\\Lib\\site-packages\\scipy\\optimize\\_nonlin.py:374: RuntimeWarning: invalid value encountered in scalar divide\n",
      "  and dx_norm/self.x_rtol <= x_norm))\n",
      "C:\\Users\\sxj477\\AppData\\Local\\anaconda3\\envs\\SSD\\Lib\\site-packages\\scipy\\optimize\\_nonlin.py:374: RuntimeWarning: invalid value encountered in scalar divide\n",
      "  and dx_norm/self.x_rtol <= x_norm))\n",
      "C:\\Users\\sxj477\\AppData\\Local\\anaconda3\\envs\\SSD\\Lib\\site-packages\\scipy\\optimize\\_nonlin.py:374: RuntimeWarning: invalid value encountered in scalar divide\n",
      "  and dx_norm/self.x_rtol <= x_norm))\n",
      "C:\\Users\\sxj477\\AppData\\Local\\anaconda3\\envs\\SSD\\Lib\\site-packages\\scipy\\optimize\\_nonlin.py:374: RuntimeWarning: invalid value encountered in scalar divide\n",
      "  and dx_norm/self.x_rtol <= x_norm))\n",
      "C:\\Users\\sxj477\\AppData\\Local\\anaconda3\\envs\\SSD\\Lib\\site-packages\\scipy\\optimize\\_nonlin.py:374: RuntimeWarning: invalid value encountered in scalar divide\n",
      "  and dx_norm/self.x_rtol <= x_norm))\n",
      "C:\\Users\\sxj477\\AppData\\Local\\anaconda3\\envs\\SSD\\Lib\\site-packages\\scipy\\optimize\\_nonlin.py:374: RuntimeWarning: invalid value encountered in scalar divide\n",
      "  and dx_norm/self.x_rtol <= x_norm))\n",
      "C:\\Users\\sxj477\\AppData\\Local\\anaconda3\\envs\\SSD\\Lib\\site-packages\\scipy\\optimize\\_nonlin.py:374: RuntimeWarning: invalid value encountered in scalar divide\n",
      "  and dx_norm/self.x_rtol <= x_norm))\n",
      "C:\\Users\\sxj477\\AppData\\Local\\anaconda3\\envs\\SSD\\Lib\\site-packages\\scipy\\optimize\\_nonlin.py:374: RuntimeWarning: invalid value encountered in scalar divide\n",
      "  and dx_norm/self.x_rtol <= x_norm))\n",
      "C:\\Users\\sxj477\\AppData\\Local\\anaconda3\\envs\\SSD\\Lib\\site-packages\\scipy\\optimize\\_nonlin.py:374: RuntimeWarning: invalid value encountered in scalar divide\n",
      "  and dx_norm/self.x_rtol <= x_norm))\n",
      "C:\\Users\\sxj477\\AppData\\Local\\anaconda3\\envs\\SSD\\Lib\\site-packages\\scipy\\optimize\\_nonlin.py:374: RuntimeWarning: invalid value encountered in scalar divide\n",
      "  and dx_norm/self.x_rtol <= x_norm))\n",
      "C:\\Users\\sxj477\\AppData\\Local\\anaconda3\\envs\\SSD\\Lib\\site-packages\\scipy\\optimize\\_nonlin.py:374: RuntimeWarning: invalid value encountered in scalar divide\n",
      "  and dx_norm/self.x_rtol <= x_norm))\n",
      "C:\\Users\\sxj477\\AppData\\Local\\anaconda3\\envs\\SSD\\Lib\\site-packages\\scipy\\optimize\\_nonlin.py:374: RuntimeWarning: invalid value encountered in scalar divide\n",
      "  and dx_norm/self.x_rtol <= x_norm))\n",
      "C:\\Users\\sxj477\\AppData\\Local\\anaconda3\\envs\\SSD\\Lib\\site-packages\\scipy\\optimize\\_nonlin.py:374: RuntimeWarning: invalid value encountered in scalar divide\n",
      "  and dx_norm/self.x_rtol <= x_norm))\n",
      "C:\\Users\\sxj477\\AppData\\Local\\anaconda3\\envs\\SSD\\Lib\\site-packages\\scipy\\optimize\\_nonlin.py:374: RuntimeWarning: invalid value encountered in scalar divide\n",
      "  and dx_norm/self.x_rtol <= x_norm))\n",
      "C:\\Users\\sxj477\\AppData\\Local\\anaconda3\\envs\\SSD\\Lib\\site-packages\\scipy\\optimize\\_nonlin.py:374: RuntimeWarning: invalid value encountered in scalar divide\n",
      "  and dx_norm/self.x_rtol <= x_norm))\n",
      "C:\\Users\\sxj477\\AppData\\Local\\anaconda3\\envs\\SSD\\Lib\\site-packages\\scipy\\optimize\\_nonlin.py:374: RuntimeWarning: invalid value encountered in scalar divide\n",
      "  and dx_norm/self.x_rtol <= x_norm))\n",
      "C:\\Users\\sxj477\\AppData\\Local\\anaconda3\\envs\\SSD\\Lib\\site-packages\\scipy\\optimize\\_nonlin.py:374: RuntimeWarning: invalid value encountered in scalar divide\n",
      "  and dx_norm/self.x_rtol <= x_norm))\n",
      "C:\\Users\\sxj477\\AppData\\Local\\anaconda3\\envs\\SSD\\Lib\\site-packages\\scipy\\optimize\\_nonlin.py:374: RuntimeWarning: invalid value encountered in scalar divide\n",
      "  and dx_norm/self.x_rtol <= x_norm))\n",
      "C:\\Users\\sxj477\\AppData\\Local\\anaconda3\\envs\\SSD\\Lib\\site-packages\\scipy\\optimize\\_nonlin.py:374: RuntimeWarning: invalid value encountered in scalar divide\n",
      "  and dx_norm/self.x_rtol <= x_norm))\n",
      "C:\\Users\\sxj477\\AppData\\Local\\anaconda3\\envs\\SSD\\Lib\\site-packages\\scipy\\optimize\\_nonlin.py:374: RuntimeWarning: invalid value encountered in scalar divide\n",
      "  and dx_norm/self.x_rtol <= x_norm))\n",
      "C:\\Users\\sxj477\\AppData\\Local\\anaconda3\\envs\\SSD\\Lib\\site-packages\\scipy\\optimize\\_nonlin.py:374: RuntimeWarning: invalid value encountered in scalar divide\n",
      "  and dx_norm/self.x_rtol <= x_norm))\n",
      "C:\\Users\\sxj477\\AppData\\Local\\anaconda3\\envs\\SSD\\Lib\\site-packages\\scipy\\optimize\\_nonlin.py:374: RuntimeWarning: invalid value encountered in scalar divide\n",
      "  and dx_norm/self.x_rtol <= x_norm))\n",
      "C:\\Users\\sxj477\\AppData\\Local\\anaconda3\\envs\\SSD\\Lib\\site-packages\\scipy\\optimize\\_nonlin.py:374: RuntimeWarning: invalid value encountered in scalar divide\n",
      "  and dx_norm/self.x_rtol <= x_norm))\n",
      "C:\\Users\\sxj477\\AppData\\Local\\anaconda3\\envs\\SSD\\Lib\\site-packages\\scipy\\optimize\\_nonlin.py:374: RuntimeWarning: invalid value encountered in scalar divide\n",
      "  and dx_norm/self.x_rtol <= x_norm))\n",
      "C:\\Users\\sxj477\\AppData\\Local\\anaconda3\\envs\\SSD\\Lib\\site-packages\\scipy\\optimize\\_nonlin.py:374: RuntimeWarning: invalid value encountered in scalar divide\n",
      "  and dx_norm/self.x_rtol <= x_norm))\n",
      "C:\\Users\\sxj477\\AppData\\Local\\anaconda3\\envs\\SSD\\Lib\\site-packages\\scipy\\optimize\\_nonlin.py:374: RuntimeWarning: invalid value encountered in scalar divide\n",
      "  and dx_norm/self.x_rtol <= x_norm))\n",
      "C:\\Users\\sxj477\\AppData\\Local\\anaconda3\\envs\\SSD\\Lib\\site-packages\\scipy\\optimize\\_nonlin.py:374: RuntimeWarning: invalid value encountered in scalar divide\n",
      "  and dx_norm/self.x_rtol <= x_norm))\n",
      "C:\\Users\\sxj477\\AppData\\Local\\anaconda3\\envs\\SSD\\Lib\\site-packages\\scipy\\optimize\\_nonlin.py:374: RuntimeWarning: invalid value encountered in scalar divide\n",
      "  and dx_norm/self.x_rtol <= x_norm))\n",
      "C:\\Users\\sxj477\\AppData\\Local\\anaconda3\\envs\\SSD\\Lib\\site-packages\\scipy\\optimize\\_nonlin.py:374: RuntimeWarning: invalid value encountered in scalar divide\n",
      "  and dx_norm/self.x_rtol <= x_norm))\n",
      "C:\\Users\\sxj477\\AppData\\Local\\anaconda3\\envs\\SSD\\Lib\\site-packages\\scipy\\optimize\\_nonlin.py:374: RuntimeWarning: invalid value encountered in scalar divide\n",
      "  and dx_norm/self.x_rtol <= x_norm))\n",
      "C:\\Users\\sxj477\\AppData\\Local\\anaconda3\\envs\\SSD\\Lib\\site-packages\\scipy\\optimize\\_nonlin.py:374: RuntimeWarning: invalid value encountered in scalar divide\n",
      "  and dx_norm/self.x_rtol <= x_norm))\n",
      "C:\\Users\\sxj477\\AppData\\Local\\anaconda3\\envs\\SSD\\Lib\\site-packages\\scipy\\optimize\\_nonlin.py:374: RuntimeWarning: invalid value encountered in scalar divide\n",
      "  and dx_norm/self.x_rtol <= x_norm))\n"
     ]
    }
   ],
   "source": [
    "m.calibPEE();"
   ]
  },
  {
   "cell_type": "markdown",
   "id": "c948de69-2a23-4318-80ae-7e36b30dcf49",
   "metadata": {},
   "source": [
    "Loop through values of $\\rho$, store calibration parameters, "
   ]
  }
 ],
 "metadata": {
  "kernelspec": {
   "display_name": "Python 3 (ipykernel)",
   "language": "python",
   "name": "python3"
  },
  "language_info": {
   "codemirror_mode": {
    "name": "ipython",
    "version": 3
   },
   "file_extension": ".py",
   "mimetype": "text/x-python",
   "name": "python",
   "nbconvert_exporter": "python",
   "pygments_lexer": "ipython3",
   "version": "3.12.4"
  }
 },
 "nbformat": 4,
 "nbformat_minor": 5
}
