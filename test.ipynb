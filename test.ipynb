{
 "cells": [
  {
   "cell_type": "code",
   "execution_count": 1,
   "id": "178ff6e8-69d7-4f2a-a782-5e6a1d912d18",
   "metadata": {},
   "outputs": [],
   "source": [
    "%run stdPackages.ipynb"
   ]
  },
  {
   "cell_type": "markdown",
   "id": "46b9583b-476d-4825-8ddf-503abce7a43d",
   "metadata": {},
   "source": [
    "Data:"
   ]
  },
  {
   "cell_type": "code",
   "execution_count": 2,
   "id": "d37bc577-2085-4221-9203-3cbf4e756b56",
   "metadata": {
    "tags": []
   },
   "outputs": [],
   "source": [
    "dates_log = pd.Index([1950, 1980, 2010, 2040, 2070, 2100], name = 't')\n",
    "ν_log = np.array([1.497025777, 1.365562914, 1.20756547, 1.110843373, 1.072547602, 1.0725])\n",
    "T_log = len(ν_log) # number of years in data\n",
    "T = T_log+5\n",
    "dates = dates_log.union(pd.Index([dates_log[-1]+30*i for i in range(1,T-T_log+1)]))\n",
    "ν = np.hstack([ν_log, np.full(T-T_log, ν_log[-1])])\n",
    "A = np.ones(T) # normalize exog. productivity at 1 \n",
    "α = .43 # capital income share\n",
    "ξ = .35 # frisch elasticity\n",
    "γ = np.full((4, ), 0.25) # four equally large shares\n",
    "ni = len(γ) # number of types of working households in this case\n",
    "hours = np.array([38.6, 41.8, 43.4, 46.8]) # weekly hours, working households\n",
    "income= np.array([618.6, 945.5, 1278.6, 2341.6]) # income levels, working households\n",
    "zx = hours/hours.mean() # normalized data\n",
    "zη = income/income.mean() # normalized data\n",
    "γu =.32 # share of u households\n",
    "χ1 = 0.3089 # relative income of u-types\n",
    "χ2 = 0.95 * χ1 # relative income of u-types when old - assumed slightly lower\n",
    "τ0 = 0.142 # target level of pension tax\n",
    "s0 = 0.184 # target savings rate\n",
    "t0date = 2010\n",
    "t0 = dates.get_loc(t0date) # index for year of calibration \n",
    "RR = 0.678/0.803 # replacement rate\n",
    "ω = 5\n",
    "ρ = .5\n",
    "ωu = .3\n",
    "ωη = 1.65"
   ]
  },
  {
   "cell_type": "markdown",
   "id": "62bd5626-e76e-4978-ac9a-adc0a64dc4d8",
   "metadata": {},
   "source": [
    "Find eigenvectors:"
   ]
  },
  {
   "cell_type": "code",
   "execution_count": 3,
   "id": "f9e62cae-a43e-4b5c-93af-c8a4619875fa",
   "metadata": {},
   "outputs": [],
   "source": [
    "valx, vecx = scipy.sparse.linalg.eigs(zx.reshape(ni,1) * γ.reshape(1,ni), k=1)\n",
    "valη, vecη = scipy.sparse.linalg.eigs(zη.reshape(ni,1) * γ.reshape(1,ni), k=1)\n",
    "yx, yη = abs(np.real(vecx)).reshape(ni), abs(np.real(vecη)).reshape(ni) # this assumes that all coordinates in eigenvector are either positive or negative; this should be the case"
   ]
  },
  {
   "cell_type": "markdown",
   "id": "e4dc9ff9-e5cb-468b-9155-92c5eb924c49",
   "metadata": {},
   "source": [
    "Calibrate parameters:"
   ]
  },
  {
   "cell_type": "code",
   "execution_count": 4,
   "id": "3329ecb1-451a-418c-aa9b-b67aa6b0aca5",
   "metadata": {},
   "outputs": [],
   "source": [
    "η = yη/(yx*sum(γ*yη))\n",
    "X = η/yx**(1/ξ)"
   ]
  },
  {
   "cell_type": "markdown",
   "id": "59d60d7b-bbde-4e5f-b0b3-e04b11538119",
   "metadata": {},
   "source": [
    "Now given parameters that define household heterogeneity, we define $\\theta$ from the relative replacement rates:"
   ]
  },
  {
   "cell_type": "code",
   "execution_count": 5,
   "id": "317ef191-56a6-4819-a83d-7c2eaf269a2f",
   "metadata": {},
   "outputs": [],
   "source": [
    "Q1 = η[0]**(1+ξ)/(X[0]**ξ)\n",
    "Q2 = η[1]**(1+ξ)/(X[1]**ξ)\n",
    "θ = (RR/Q1-1/Q2)/(1-RR+RR/Q1-1/Q2)"
   ]
  },
  {
   "cell_type": "markdown",
   "id": "2a49b84b-81e0-473b-9f72-30af17c9663d",
   "metadata": {},
   "source": [
    "Set uniform $\\beta$ for all types:"
   ]
  },
  {
   "cell_type": "code",
   "execution_count": 6,
   "id": "c56eb053-4057-4c8d-917e-68517a59828f",
   "metadata": {},
   "outputs": [],
   "source": [
    "β = np.full(ni, fill_value = 1)\n",
    "βu= min(β) # set impatience equal to lowest producticity household. "
   ]
  },
  {
   "cell_type": "markdown",
   "id": "505cd84e-b108-4ca6-9e2f-14120de6dce5",
   "metadata": {},
   "source": [
    "Given our guess on $\\beta$, we can define $\\epsilon$ from the built-in function for the Argentina case: "
   ]
  },
  {
   "cell_type": "code",
   "execution_count": 7,
   "id": "0602a4d3-568e-4914-903d-42069a9af149",
   "metadata": {},
   "outputs": [],
   "source": [
    "epsilon = CRRA_inf.argentinaCalEps(θ, β[0])"
   ]
  },
  {
   "cell_type": "markdown",
   "id": "58a7cc3d-53fc-453b-8b5f-44c05be923c2",
   "metadata": {},
   "source": [
    "## 2. Initialize and calibrate model"
   ]
  },
  {
   "cell_type": "markdown",
   "id": "3f15aa0b-d4d6-4ae2-a1ad-45d4517490f4",
   "metadata": {},
   "source": [
    "Grid settings:"
   ]
  },
  {
   "cell_type": "code",
   "execution_count": 8,
   "id": "3870f13b-ac04-4fe9-9e6e-6fa8a347ba10",
   "metadata": {},
   "outputs": [],
   "source": [
    "ngrid = 25 # number of gridpoints in the savings grid\n",
    "_min = 1e-3 # use as \"small\" number instead of 0\n",
    "exp = 1 # nonlinearity in grid, exp>1 increases number of gridpoints in the lower end of the grid"
   ]
  },
  {
   "cell_type": "markdown",
   "id": "1526d0e2-0c90-476f-b559-14122ebdb1ae",
   "metadata": {},
   "source": [
    "Initialize CRRA and log models:"
   ]
  },
  {
   "cell_type": "code",
   "execution_count": 9,
   "id": "d221f68e-0908-4890-9081-f6fabebacd98",
   "metadata": {},
   "outputs": [],
   "source": [
    "kwargs = {'α': α, 'A': A, 'ν': ν, 'η': η, 'γ': γ, 'X': X, 'β': β, 'βu': βu, 'ξ': ξ, 'epsilon': epsilon, 'θ': θ, 'γu': γu, 'χ1': χ1, 'χ2': χ2, 'ρ': ρ, 'ω': ω, 'ωu': ωu,'ωη': ωη}\n",
    "model = CRRA_inf_v2.infHorizon(ni=ni, T= T, ngrid = ngrid, **kwargs)\n",
    "sGrid = CRRA_inf_v2.polGrid(_min, model.solve_ss(0,0,0,ν[-1])['s'], model.ngrid, exp)"
   ]
  },
  {
   "cell_type": "code",
   "execution_count": 10,
   "id": "5d64bb43-3212-4f3a-9334-2de5c25c09c1",
   "metadata": {},
   "outputs": [],
   "source": [
    "self = model\n",
    "from CRRA_inf_v2 import *"
   ]
  },
  {
   "cell_type": "code",
   "execution_count": 11,
   "id": "c5365469-5eaf-40c8-8a76-ab7272440f62",
   "metadata": {},
   "outputs": [],
   "source": [
    "τ = np.full(self.ngrid, 0.2)"
   ]
  },
  {
   "cell_type": "code",
   "execution_count": 12,
   "id": "f92410de-bf58-41f7-b72c-df36488f5fdc",
   "metadata": {},
   "outputs": [],
   "source": [
    "test = self.solve_ssVec_v2(τ, θ, epsilon, ν[-1])"
   ]
  },
  {
   "cell_type": "markdown",
   "id": "57afb4ab-cf06-4030-87c6-c000bfaead36",
   "metadata": {},
   "source": [
    "Calibration procedure:\n",
    "\n",
    "0. Calibrate to simple PEE first.\n",
    "1. Identifying *some* PEE with ESC (i.e. for some parameter values). Retrieve policy functions as well as solutions (to get initial value for steady state policies).  \n",
    "2. Calibrate model to target policy and savings rates (the simplest ones) with initial guess from above.\n",
    "3. On a grid of $\\omega_u, \\omega_{\\eta}$ as a globalization strategy. Keep updating the initial guess. \n",
    "4. With a fixed initial guess for terminal state policy (from the solution with parameter value close to the true solution), calibrate to all targets now."
   ]
  },
  {
   "cell_type": "markdown",
   "id": "c29e1ad2-5a63-401f-bed8-a004e414bc3d",
   "metadata": {},
   "source": [
    "First, define PEE and ESC functions that return not only the solution paths, but also policy functions on the grid of $t$."
   ]
  },
  {
   "cell_type": "code",
   "execution_count": null,
   "id": "6e67c70f-3f57-47ae-bcd3-03831f62a2e9",
   "metadata": {},
   "outputs": [],
   "source": [
    "# model.argentinaCal_simple_PEE(τ0, s0, t0, sGrid) # calibrate without endogenous political choice"
   ]
  },
  {
   "cell_type": "markdown",
   "id": "44f4af78-bfb5-47c2-a945-fa503aeda6ff",
   "metadata": {},
   "source": [
    "Next, get an initial solution:"
   ]
  },
  {
   "cell_type": "code",
   "execution_count": null,
   "id": "8e05d4f9-01ed-4ee8-9102-9bb80cdb992a",
   "metadata": {},
   "outputs": [],
   "source": [
    "# sol, policy = model.solve_ESCBound(sGrid, returnPols=True)"
   ]
  }
 ],
 "metadata": {
  "kernelspec": {
   "display_name": "Python 3 (ipykernel)",
   "language": "python",
   "name": "python3"
  },
  "language_info": {
   "codemirror_mode": {
    "name": "ipython",
    "version": 3
   },
   "file_extension": ".py",
   "mimetype": "text/x-python",
   "name": "python",
   "nbconvert_exporter": "python",
   "pygments_lexer": "ipython3",
   "version": "3.11.4"
  }
 },
 "nbformat": 4,
 "nbformat_minor": 5
}
